{
 "cells": [
  {
   "cell_type": "code",
   "execution_count": 1,
   "metadata": {},
   "outputs": [],
   "source": [
    "import json\n",
    "import os\n",
    "from tqdm import tqdm\n",
    "from moviepy.editor import *\n",
    "from moviepy.video.io.ffmpeg_tools import ffmpeg_extract_subclip\n",
    "import numpy as np\n",
    "import shutil\n",
    "import cv2\n",
    "import pandas as pd\n",
    "from PIL import Image"
   ]
  },
  {
   "cell_type": "markdown",
   "metadata": {},
   "source": [
    "#### Json_file 불러와서 Total shots 구하기"
   ]
  },
  {
   "cell_type": "code",
   "execution_count": 3,
   "metadata": {},
   "outputs": [
    {
     "data": {
      "text/plain": [
       "['105', '106', '107']"
      ]
     },
     "execution_count": 3,
     "metadata": {},
     "output_type": "execute_result"
    }
   ],
   "source": [
    "# video numbers\n",
    "ls = [file_name[:3] for file_name in sorted(os.listdir('json_file'))]\n",
    "# Video 파일에 205번까지 밖에 없음\n",
    "ls = ls[:-3]\n",
    "ls[:3]"
   ]
  },
  {
   "cell_type": "markdown",
   "metadata": {},
   "source": [
    "### 동영상 shot단위로 잘라서 저장\n",
    "-  StartTime, Endtime, framerate 사용하여 각각의 shot에 대한 구간구하기 (몇초부터 몇초)\n",
    "- Time/framerate = 시간을 초단위로 구할 수 있음"
   ]
  },
  {
   "cell_type": "code",
   "execution_count": 6,
   "metadata": {},
   "outputs": [
    {
     "data": {
      "text/plain": [
       "[1, 2, 3, 4, 5]"
      ]
     },
     "execution_count": 6,
     "metadata": {},
     "output_type": "execute_result"
    }
   ],
   "source": [
    "# Video폴더에 있는 각각의 비디오 숫자 가져오기\n",
    "video = sorted([int(i.split('.')[0][6:]) for i in os.listdir('Video')])\n",
    "video[:5]"
   ]
  },
  {
   "cell_type": "code",
   "execution_count": 97,
   "metadata": {},
   "outputs": [],
   "source": [
    "def save_shots():    \n",
    "    # video numbers\n",
    "    ls = [file_name[:3] for file_name in sorted(os.listdir('json_file'))]\n",
    "    ls = ls[:-3] # Video 파일에 205번까지 밖에 없음\n",
    "    \n",
    "    # Video폴더에 있는 각각의 비디오 숫자 가져오기\n",
    "    video = sorted([int(i.split('.')[0][6:]) for i in os.listdir('Video')])\n",
    "    video[:5]\n",
    "    \n",
    "    # shot 잘라서 저장하고 shot 갯수 출력\n",
    "    for file_num, video_num in tqdm(zip(ls, video)):\n",
    "        with open('json_file/{}.txt'.format(file_num), encoding=\"UTF-8\") as json_file:\n",
    "            data = json.load(json_file)\n",
    "            framerate = data[0]['fields']['framerate']\n",
    "            for i in range(len(data)-1):\n",
    "                start_time = (data[i+1]['fields']['startFrame']) / framerate\n",
    "                end_time = (data[i+1]['fields']['endFrame']) / framerate\n",
    "                if i < 9:\n",
    "                    ffmpeg_extract_subclip(\"Video/Video_{}.mp4\".format(video_num), start_time, end_time, targetname=\"Video_shot/video{}-shot0{}.mp4\".format(file_num, (i+1)))\n",
    "                else:\n",
    "                    ffmpeg_extract_subclip(\"Video/Video_{}.mp4\".format(video_num), start_time, end_time, targetname=\"Video_shot/video{}-shot{}.mp4\".format(file_num, (i+1)))\n",
    "    return print(\"Number of shots created: {}\".format(len(os.listdir('Video_shot'))))"
   ]
  },
  {
   "cell_type": "code",
   "execution_count": 98,
   "metadata": {
    "collapsed": true,
    "jupyter": {
     "outputs_hidden": true
    }
   },
   "outputs": [
    {
     "name": "stderr",
     "output_type": "stream",
     "text": [
      "0it [00:00, ?it/s]"
     ]
    },
    {
     "name": "stdout",
     "output_type": "stream",
     "text": [
      "Moviepy - Running:\n",
      ">>> \"+ \" \".join(cmd)\n"
     ]
    },
    {
     "name": "stderr",
     "output_type": "stream",
     "text": [
      "0it [00:00, ?it/s]"
     ]
    },
    {
     "name": "stdout",
     "output_type": "stream",
     "text": [
      "Moviepy - Command successful\n",
      "Moviepy - Running:\n",
      ">>> \"+ \" \".join(cmd)\n",
      "Moviepy - Command successful\n",
      "Moviepy - Running:\n",
      ">>> \"+ \" \".join(cmd)\n",
      "Moviepy - Command successful\n",
      "Moviepy - Running:\n",
      ">>> \"+ \" \".join(cmd)\n"
     ]
    },
    {
     "name": "stderr",
     "output_type": "stream",
     "text": [
      "0it [00:00, ?it/s]"
     ]
    },
    {
     "name": "stdout",
     "output_type": "stream",
     "text": [
      "Moviepy - Command successful\n",
      "Moviepy - Running:\n",
      ">>> \"+ \" \".join(cmd)\n",
      "Moviepy - Command successful\n",
      "Moviepy - Running:\n",
      ">>> \"+ \" \".join(cmd)\n"
     ]
    },
    {
     "name": "stderr",
     "output_type": "stream",
     "text": [
      "0it [00:00, ?it/s]"
     ]
    },
    {
     "name": "stdout",
     "output_type": "stream",
     "text": [
      "Moviepy - Command successful\n",
      "Moviepy - Running:\n",
      ">>> \"+ \" \".join(cmd)\n"
     ]
    },
    {
     "name": "stderr",
     "output_type": "stream",
     "text": [
      "0it [00:01, ?it/s]"
     ]
    },
    {
     "name": "stdout",
     "output_type": "stream",
     "text": [
      "Moviepy - Command successful\n",
      "Moviepy - Running:\n",
      ">>> \"+ \" \".join(cmd)\n",
      "Moviepy - Command successful\n",
      "Moviepy - Running:\n",
      ">>> \"+ \" \".join(cmd)\n"
     ]
    },
    {
     "name": "stderr",
     "output_type": "stream",
     "text": [
      "1it [00:01,  1.49s/it]"
     ]
    },
    {
     "name": "stdout",
     "output_type": "stream",
     "text": [
      "Moviepy - Command successful\n",
      "Moviepy - Running:\n",
      ">>> \"+ \" \".join(cmd)\n",
      "Moviepy - Command successful\n",
      "Moviepy - Running:\n",
      ">>> \"+ \" \".join(cmd)\n"
     ]
    },
    {
     "name": "stderr",
     "output_type": "stream",
     "text": [
      "1it [00:01,  1.49s/it]"
     ]
    },
    {
     "name": "stdout",
     "output_type": "stream",
     "text": [
      "Moviepy - Command successful\n",
      "Moviepy - Running:\n",
      ">>> \"+ \" \".join(cmd)\n",
      "Moviepy - Command successful\n",
      "Moviepy - Running:\n",
      ">>> \"+ \" \".join(cmd)\n"
     ]
    },
    {
     "name": "stderr",
     "output_type": "stream",
     "text": [
      "2it [00:01,  1.22it/s]"
     ]
    },
    {
     "name": "stdout",
     "output_type": "stream",
     "text": [
      "Moviepy - Command successful\n",
      "Moviepy - Running:\n",
      ">>> \"+ \" \".join(cmd)\n",
      "Moviepy - Command successful\n",
      "Moviepy - Running:\n",
      ">>> \"+ \" \".join(cmd)\n"
     ]
    },
    {
     "name": "stderr",
     "output_type": "stream",
     "text": [
      "2it [00:02,  1.22it/s]"
     ]
    },
    {
     "name": "stdout",
     "output_type": "stream",
     "text": [
      "Moviepy - Command successful\n",
      "Moviepy - Running:\n",
      ">>> \"+ \" \".join(cmd)\n"
     ]
    },
    {
     "name": "stderr",
     "output_type": "stream",
     "text": [
      "2it [00:02,  1.22it/s]"
     ]
    },
    {
     "name": "stdout",
     "output_type": "stream",
     "text": [
      "Moviepy - Command successful\n",
      "Moviepy - Running:\n",
      ">>> \"+ \" \".join(cmd)\n"
     ]
    },
    {
     "name": "stderr",
     "output_type": "stream",
     "text": [
      "3it [00:02,  1.14it/s]"
     ]
    },
    {
     "name": "stdout",
     "output_type": "stream",
     "text": [
      "Moviepy - Command successful\n",
      "Moviepy - Running:\n",
      ">>> \"+ \" \".join(cmd)\n",
      "Moviepy - Command successful\n",
      "Moviepy - Running:\n",
      ">>> \"+ \" \".join(cmd)\n",
      "Moviepy - Command successful\n",
      "Moviepy - Running:\n",
      ">>> \"+ \" \".join(cmd)\n",
      "Moviepy - Command successful\n",
      "Moviepy - Running:\n",
      ">>> \"+ \" \".join(cmd)\n",
      "Moviepy - Command successful\n",
      "Moviepy - Running:\n",
      ">>> \"+ \" \".join(cmd)\n"
     ]
    },
    {
     "name": "stderr",
     "output_type": "stream",
     "text": [
      "4it [00:03,  1.45it/s]"
     ]
    },
    {
     "name": "stdout",
     "output_type": "stream",
     "text": [
      "Moviepy - Command successful\n",
      "Moviepy - Running:\n",
      ">>> \"+ \" \".join(cmd)\n",
      "Moviepy - Command successful\n",
      "Moviepy - Running:\n",
      ">>> \"+ \" \".join(cmd)\n",
      "Moviepy - Command successful\n",
      "Moviepy - Running:\n",
      ">>> \"+ \" \".join(cmd)\n",
      "Moviepy - Command successful\n",
      "Moviepy - Running:\n",
      ">>> \"+ \" \".join(cmd)\n"
     ]
    },
    {
     "name": "stderr",
     "output_type": "stream",
     "text": [
      "4it [00:03,  1.45it/s]"
     ]
    },
    {
     "name": "stdout",
     "output_type": "stream",
     "text": [
      "Moviepy - Command successful\n",
      "Moviepy - Running:\n",
      ">>> \"+ \" \".join(cmd)\n",
      "Moviepy - Command successful\n",
      "Moviepy - Running:\n",
      ">>> \"+ \" \".join(cmd)\n"
     ]
    },
    {
     "name": "stderr",
     "output_type": "stream",
     "text": [
      "4it [00:03,  1.45it/s]"
     ]
    },
    {
     "name": "stdout",
     "output_type": "stream",
     "text": [
      "Moviepy - Command successful\n",
      "Moviepy - Running:\n",
      ">>> \"+ \" \".join(cmd)\n",
      "Moviepy - Command successful\n",
      "Moviepy - Running:\n",
      ">>> \"+ \" \".join(cmd)\n"
     ]
    },
    {
     "name": "stderr",
     "output_type": "stream",
     "text": [
      "                      "
     ]
    },
    {
     "name": "stdout",
     "output_type": "stream",
     "text": [
      "Moviepy - Command successful\n",
      "Moviepy - Running:\n",
      ">>> \"+ \" \".join(cmd)\n",
      "Moviepy - Command successful\n"
     ]
    },
    {
     "name": "stderr",
     "output_type": "stream",
     "text": [
      "4it [00:04,  1.45it/s]"
     ]
    },
    {
     "name": "stdout",
     "output_type": "stream",
     "text": [
      "Moviepy - Running:\n",
      ">>> \"+ \" \".join(cmd)\n",
      "Moviepy - Command successful\n",
      "Moviepy - Running:\n",
      ">>> \"+ \" \".join(cmd)\n",
      "Moviepy - Command successful\n",
      "Moviepy - Running:\n",
      ">>> \"+ \" \".join(cmd)\n"
     ]
    },
    {
     "name": "stderr",
     "output_type": "stream",
     "text": [
      "5it [00:04,  1.26it/s]"
     ]
    },
    {
     "name": "stdout",
     "output_type": "stream",
     "text": [
      "Moviepy - Command successful\n",
      "Moviepy - Running:\n",
      ">>> \"+ \" \".join(cmd)\n",
      "Moviepy - Command successful\n",
      "Moviepy - Running:\n",
      ">>> \"+ \" \".join(cmd)\n"
     ]
    },
    {
     "name": "stderr",
     "output_type": "stream",
     "text": [
      "5it [00:04,  1.26it/s]"
     ]
    },
    {
     "name": "stdout",
     "output_type": "stream",
     "text": [
      "Moviepy - Command successful\n",
      "Moviepy - Running:\n",
      ">>> \"+ \" \".join(cmd)\n",
      "Moviepy - Command successful\n",
      "Moviepy - Running:\n",
      ">>> \"+ \" \".join(cmd)\n"
     ]
    },
    {
     "name": "stderr",
     "output_type": "stream",
     "text": [
      "5it [00:04,  1.26it/s]"
     ]
    },
    {
     "name": "stdout",
     "output_type": "stream",
     "text": [
      "Moviepy - Command successful\n",
      "Moviepy - Running:\n",
      ">>> \"+ \" \".join(cmd)\n"
     ]
    },
    {
     "name": "stderr",
     "output_type": "stream",
     "text": [
      "6it [00:04,  1.32it/s]"
     ]
    },
    {
     "name": "stdout",
     "output_type": "stream",
     "text": [
      "Moviepy - Command successful\n",
      "Moviepy - Running:\n",
      ">>> \"+ \" \".join(cmd)\n"
     ]
    },
    {
     "name": "stderr",
     "output_type": "stream",
     "text": [
      "6it [00:05,  1.32it/s]"
     ]
    },
    {
     "name": "stdout",
     "output_type": "stream",
     "text": [
      "Moviepy - Command successful\n",
      "Moviepy - Running:\n",
      ">>> \"+ \" \".join(cmd)\n",
      "Moviepy - Command successful\n",
      "Moviepy - Running:\n",
      ">>> \"+ \" \".join(cmd)\n"
     ]
    },
    {
     "name": "stderr",
     "output_type": "stream",
     "text": [
      "7it [00:05,  1.38it/s]"
     ]
    },
    {
     "name": "stdout",
     "output_type": "stream",
     "text": [
      "Moviepy - Command successful\n",
      "Moviepy - Running:\n",
      ">>> \"+ \" \".join(cmd)\n",
      "Moviepy - Command successful\n",
      "Moviepy - Running:\n",
      ">>> \"+ \" \".join(cmd)\n"
     ]
    },
    {
     "name": "stderr",
     "output_type": "stream",
     "text": [
      "7it [00:05,  1.38it/s]"
     ]
    },
    {
     "name": "stdout",
     "output_type": "stream",
     "text": [
      "Moviepy - Command successful\n",
      "Moviepy - Running:\n",
      ">>> \"+ \" \".join(cmd)\n",
      "Moviepy - Command successful\n",
      "Moviepy - Running:\n",
      ">>> \"+ \" \".join(cmd)\n",
      "Moviepy - Command successful\n",
      "Moviepy - Running:\n",
      ">>> \"+ \" \".join(cmd)\n"
     ]
    },
    {
     "name": "stderr",
     "output_type": "stream",
     "text": [
      "8it [00:06,  1.49it/s]"
     ]
    },
    {
     "name": "stdout",
     "output_type": "stream",
     "text": [
      "Moviepy - Command successful\n",
      "Moviepy - Running:\n",
      ">>> \"+ \" \".join(cmd)\n",
      "Moviepy - Command successful\n",
      "Moviepy - Running:\n",
      ">>> \"+ \" \".join(cmd)\n"
     ]
    },
    {
     "name": "stderr",
     "output_type": "stream",
     "text": [
      "8it [00:06,  1.49it/s]"
     ]
    },
    {
     "name": "stdout",
     "output_type": "stream",
     "text": [
      "Moviepy - Command successful\n",
      "Moviepy - Running:\n",
      ">>> \"+ \" \".join(cmd)\n",
      "Moviepy - Command successful\n",
      "Moviepy - Running:\n",
      ">>> \"+ \" \".join(cmd)\n",
      "Moviepy - Command successful\n",
      "Moviepy - Running:\n",
      ">>> \"+ \" \".join(cmd)\n"
     ]
    },
    {
     "name": "stderr",
     "output_type": "stream",
     "text": [
      "9it [00:06,  1.73it/s]"
     ]
    },
    {
     "name": "stdout",
     "output_type": "stream",
     "text": [
      "Moviepy - Command successful\n",
      "Moviepy - Running:\n",
      ">>> \"+ \" \".join(cmd)\n",
      "Moviepy - Command successful\n",
      "Moviepy - Running:\n",
      ">>> \"+ \" \".join(cmd)\n"
     ]
    },
    {
     "name": "stderr",
     "output_type": "stream",
     "text": [
      "9it [00:06,  1.73it/s]"
     ]
    },
    {
     "name": "stdout",
     "output_type": "stream",
     "text": [
      "Moviepy - Command successful\n",
      "Moviepy - Running:\n",
      ">>> \"+ \" \".join(cmd)\n",
      "Moviepy - Command successful\n",
      "Moviepy - Running:\n",
      ">>> \"+ \" \".join(cmd)\n"
     ]
    },
    {
     "name": "stderr",
     "output_type": "stream",
     "text": [
      "10it [00:07,  1.67it/s]"
     ]
    },
    {
     "name": "stdout",
     "output_type": "stream",
     "text": [
      "Moviepy - Command successful\n",
      "Moviepy - Running:\n",
      ">>> \"+ \" \".join(cmd)\n"
     ]
    },
    {
     "name": "stderr",
     "output_type": "stream",
     "text": [
      "10it [00:07,  1.67it/s]"
     ]
    },
    {
     "name": "stdout",
     "output_type": "stream",
     "text": [
      "Moviepy - Command successful\n",
      "Moviepy - Running:\n",
      ">>> \"+ \" \".join(cmd)\n"
     ]
    },
    {
     "name": "stderr",
     "output_type": "stream",
     "text": [
      "10it [00:07,  1.67it/s]"
     ]
    },
    {
     "name": "stdout",
     "output_type": "stream",
     "text": [
      "Moviepy - Command successful\n",
      "Moviepy - Running:\n",
      ">>> \"+ \" \".join(cmd)\n"
     ]
    },
    {
     "name": "stderr",
     "output_type": "stream",
     "text": [
      "11it [00:07,  1.54it/s]"
     ]
    },
    {
     "name": "stdout",
     "output_type": "stream",
     "text": [
      "Moviepy - Command successful\n",
      "Moviepy - Running:\n",
      ">>> \"+ \" \".join(cmd)\n",
      "Moviepy - Command successful\n",
      "Moviepy - Running:\n",
      ">>> \"+ \" \".join(cmd)\n",
      "Moviepy - Command successful\n",
      "Moviepy - Running:\n",
      ">>> \"+ \" \".join(cmd)\n"
     ]
    },
    {
     "name": "stderr",
     "output_type": "stream",
     "text": [
      "11it [00:08,  1.54it/s]"
     ]
    },
    {
     "name": "stdout",
     "output_type": "stream",
     "text": [
      "Moviepy - Command successful\n",
      "Moviepy - Running:\n",
      ">>> \"+ \" \".join(cmd)\n"
     ]
    },
    {
     "name": "stderr",
     "output_type": "stream",
     "text": [
      "11it [00:08,  1.54it/s]"
     ]
    },
    {
     "name": "stdout",
     "output_type": "stream",
     "text": [
      "Moviepy - Command successful\n",
      "Moviepy - Running:\n",
      ">>> \"+ \" \".join(cmd)\n"
     ]
    },
    {
     "name": "stderr",
     "output_type": "stream",
     "text": [
      "11it [00:08,  1.54it/s]"
     ]
    },
    {
     "name": "stdout",
     "output_type": "stream",
     "text": [
      "Moviepy - Command successful\n",
      "Moviepy - Running:\n",
      ">>> \"+ \" \".join(cmd)\n"
     ]
    },
    {
     "name": "stderr",
     "output_type": "stream",
     "text": [
      "11it [00:09,  1.54it/s]"
     ]
    },
    {
     "name": "stdout",
     "output_type": "stream",
     "text": [
      "Moviepy - Command successful\n",
      "Moviepy - Running:\n",
      ">>> \"+ \" \".join(cmd)\n",
      "Moviepy - Command successful\n",
      "Moviepy - Running:\n",
      ">>> \"+ \" \".join(cmd)\n",
      "Moviepy - Command successful\n",
      "Moviepy - Running:\n",
      ">>> \"+ \" \".join(cmd)\n"
     ]
    },
    {
     "name": "stderr",
     "output_type": "stream",
     "text": [
      "12it [00:09,  1.12it/s]"
     ]
    },
    {
     "name": "stdout",
     "output_type": "stream",
     "text": [
      "Moviepy - Command successful\n",
      "Moviepy - Running:\n",
      ">>> \"+ \" \".join(cmd)\n",
      "Moviepy - Command successful\n",
      "Moviepy - Running:\n",
      ">>> \"+ \" \".join(cmd)\n",
      "Moviepy - Command successful\n",
      "Moviepy - Running:\n",
      ">>> \"+ \" \".join(cmd)\n",
      "Moviepy - Command successful\n",
      "Moviepy - Running:\n",
      ">>> \"+ \" \".join(cmd)\n"
     ]
    },
    {
     "name": "stderr",
     "output_type": "stream",
     "text": [
      "13it [00:09,  1.37it/s]"
     ]
    },
    {
     "name": "stdout",
     "output_type": "stream",
     "text": [
      "Moviepy - Command successful\n",
      "Moviepy - Running:\n",
      ">>> \"+ \" \".join(cmd)\n",
      "Moviepy - Command successful\n",
      "Moviepy - Running:\n",
      ">>> \"+ \" \".join(cmd)\n",
      "Moviepy - Command successful\n",
      "Moviepy - Running:\n",
      ">>> \"+ \" \".join(cmd)\n",
      "Moviepy - Command successful\n",
      "Moviepy - Running:\n",
      ">>> \"+ \" \".join(cmd)\n"
     ]
    },
    {
     "name": "stderr",
     "output_type": "stream",
     "text": [
      "13it [00:09,  1.37it/s]"
     ]
    },
    {
     "name": "stdout",
     "output_type": "stream",
     "text": [
      "Moviepy - Command successful\n",
      "Moviepy - Running:\n",
      ">>> \"+ \" \".join(cmd)\n"
     ]
    },
    {
     "name": "stderr",
     "output_type": "stream",
     "text": [
      "13it [00:10,  1.37it/s]"
     ]
    },
    {
     "name": "stdout",
     "output_type": "stream",
     "text": [
      "Moviepy - Command successful\n",
      "Moviepy - Running:\n",
      ">>> \"+ \" \".join(cmd)\n",
      "Moviepy - Command successful\n",
      "Moviepy - Running:\n",
      ">>> \"+ \" \".join(cmd)\n"
     ]
    },
    {
     "name": "stderr",
     "output_type": "stream",
     "text": [
      "13it [00:10,  1.37it/s]"
     ]
    },
    {
     "name": "stdout",
     "output_type": "stream",
     "text": [
      "Moviepy - Command successful\n",
      "Moviepy - Running:\n",
      ">>> \"+ \" \".join(cmd)\n",
      "Moviepy - Command successful\n",
      "Moviepy - Running:\n",
      ">>> \"+ \" \".join(cmd)\n"
     ]
    },
    {
     "name": "stderr",
     "output_type": "stream",
     "text": [
      "14it [00:10,  1.14it/s]"
     ]
    },
    {
     "name": "stdout",
     "output_type": "stream",
     "text": [
      "Moviepy - Command successful\n",
      "Moviepy - Running:\n",
      ">>> \"+ \" \".join(cmd)\n"
     ]
    },
    {
     "name": "stderr",
     "output_type": "stream",
     "text": [
      "14it [00:11,  1.14it/s]"
     ]
    },
    {
     "name": "stdout",
     "output_type": "stream",
     "text": [
      "Moviepy - Command successful\n",
      "Moviepy - Running:\n",
      ">>> \"+ \" \".join(cmd)\n"
     ]
    },
    {
     "name": "stderr",
     "output_type": "stream",
     "text": [
      "14it [00:11,  1.14it/s]"
     ]
    },
    {
     "name": "stdout",
     "output_type": "stream",
     "text": [
      "Moviepy - Command successful\n",
      "Moviepy - Running:\n",
      ">>> \"+ \" \".join(cmd)\n"
     ]
    },
    {
     "name": "stderr",
     "output_type": "stream",
     "text": [
      "14it [00:12,  1.14it/s]"
     ]
    },
    {
     "name": "stdout",
     "output_type": "stream",
     "text": [
      "Moviepy - Command successful\n",
      "Moviepy - Running:\n",
      ">>> \"+ \" \".join(cmd)\n",
      "Moviepy - Command successful\n",
      "Moviepy - Running:\n",
      ">>> \"+ \" \".join(cmd)\n",
      "Moviepy - Command successful\n",
      "Moviepy - Running:\n",
      ">>> \"+ \" \".join(cmd)\n"
     ]
    },
    {
     "name": "stderr",
     "output_type": "stream",
     "text": [
      "15it [00:12,  1.05s/it]"
     ]
    },
    {
     "name": "stdout",
     "output_type": "stream",
     "text": [
      "Moviepy - Command successful\n",
      "Moviepy - Running:\n",
      ">>> \"+ \" \".join(cmd)\n",
      "Moviepy - Command successful\n",
      "Moviepy - Running:\n",
      ">>> \"+ \" \".join(cmd)\n",
      "Moviepy - Command successful\n",
      "Moviepy - Running:\n",
      ">>> \"+ \" \".join(cmd)\n"
     ]
    },
    {
     "name": "stderr",
     "output_type": "stream",
     "text": [
      "16it [00:13,  1.05it/s]"
     ]
    },
    {
     "name": "stdout",
     "output_type": "stream",
     "text": [
      "Moviepy - Command successful\n",
      "Moviepy - Running:\n",
      ">>> \"+ \" \".join(cmd)\n",
      "Moviepy - Command successful\n",
      "Moviepy - Running:\n",
      ">>> \"+ \" \".join(cmd)\n",
      "Moviepy - Command successful\n",
      "Moviepy - Running:\n",
      ">>> \"+ \" \".join(cmd)\n"
     ]
    },
    {
     "name": "stderr",
     "output_type": "stream",
     "text": [
      "16it [00:13,  1.05it/s]"
     ]
    },
    {
     "name": "stdout",
     "output_type": "stream",
     "text": [
      "Moviepy - Command successful\n",
      "Moviepy - Running:\n",
      ">>> \"+ \" \".join(cmd)\n",
      "Moviepy - Command successful\n",
      "Moviepy - Running:\n",
      ">>> \"+ \" \".join(cmd)\n"
     ]
    },
    {
     "name": "stderr",
     "output_type": "stream",
     "text": [
      "16it [00:13,  1.05it/s]"
     ]
    },
    {
     "name": "stdout",
     "output_type": "stream",
     "text": [
      "Moviepy - Command successful\n",
      "Moviepy - Running:\n",
      ">>> \"+ \" \".join(cmd)\n",
      "Moviepy - Command successful\n",
      "Moviepy - Running:\n",
      ">>> \"+ \" \".join(cmd)\n"
     ]
    },
    {
     "name": "stderr",
     "output_type": "stream",
     "text": [
      "16it [00:14,  1.05it/s]"
     ]
    },
    {
     "name": "stdout",
     "output_type": "stream",
     "text": [
      "Moviepy - Command successful\n",
      "Moviepy - Running:\n",
      ">>> \"+ \" \".join(cmd)\n",
      "Moviepy - Command successful\n",
      "Moviepy - Running:\n",
      ">>> \"+ \" \".join(cmd)\n"
     ]
    },
    {
     "name": "stderr",
     "output_type": "stream",
     "text": [
      "16it [00:14,  1.05it/s]"
     ]
    },
    {
     "name": "stdout",
     "output_type": "stream",
     "text": [
      "Moviepy - Command successful\n",
      "Moviepy - Running:\n",
      ">>> \"+ \" \".join(cmd)\n"
     ]
    },
    {
     "name": "stderr",
     "output_type": "stream",
     "text": [
      "18it [00:15,  1.02s/it]"
     ]
    },
    {
     "name": "stdout",
     "output_type": "stream",
     "text": [
      "Moviepy - Command successful\n",
      "Moviepy - Running:\n",
      ">>> \"+ \" \".join(cmd)\n",
      "Moviepy - Command successful\n",
      "Moviepy - Running:\n",
      ">>> \"+ \" \".join(cmd)\n",
      "Moviepy - Command successful\n",
      "Moviepy - Running:\n",
      ">>> \"+ \" \".join(cmd)\n"
     ]
    },
    {
     "name": "stderr",
     "output_type": "stream",
     "text": [
      "18it [00:15,  1.02s/it]"
     ]
    },
    {
     "name": "stdout",
     "output_type": "stream",
     "text": [
      "Moviepy - Command successful\n",
      "Moviepy - Running:\n",
      ">>> \"+ \" \".join(cmd)\n",
      "Moviepy - Command successful\n",
      "Moviepy - Running:\n",
      ">>> \"+ \" \".join(cmd)\n",
      "Moviepy - Command successful\n",
      "Moviepy - Running:\n",
      ">>> \"+ \" \".join(cmd)\n"
     ]
    },
    {
     "name": "stderr",
     "output_type": "stream",
     "text": [
      "18it [00:16,  1.02s/it]"
     ]
    },
    {
     "name": "stdout",
     "output_type": "stream",
     "text": [
      "Moviepy - Command successful\n",
      "Moviepy - Running:\n",
      ">>> \"+ \" \".join(cmd)\n",
      "Moviepy - Command successful\n",
      "Moviepy - Running:\n",
      ">>> \"+ \" \".join(cmd)\n",
      "Moviepy - Command successful\n",
      "Moviepy - Running:\n",
      ">>> \"+ \" \".join(cmd)\n",
      "Moviepy - Command successful\n",
      "Moviepy - Running:\n",
      ">>> \"+ \" \".join(cmd)\n"
     ]
    },
    {
     "name": "stderr",
     "output_type": "stream",
     "text": [
      "18it [00:16,  1.02s/it]"
     ]
    },
    {
     "name": "stdout",
     "output_type": "stream",
     "text": [
      "Moviepy - Command successful\n",
      "Moviepy - Running:\n",
      ">>> \"+ \" \".join(cmd)\n",
      "Moviepy - Command successful\n",
      "Moviepy - Running:\n",
      ">>> \"+ \" \".join(cmd)\n",
      "Moviepy - Command successful\n",
      "Moviepy - Running:\n",
      ">>> \"+ \" \".join(cmd)\n",
      "Moviepy - Command successful\n",
      "Moviepy - Running:\n",
      ">>> \"+ \" \".join(cmd)\n"
     ]
    },
    {
     "name": "stderr",
     "output_type": "stream",
     "text": [
      "19it [00:16,  1.03it/s]"
     ]
    },
    {
     "name": "stdout",
     "output_type": "stream",
     "text": [
      "Moviepy - Command successful\n",
      "Moviepy - Running:\n",
      ">>> \"+ \" \".join(cmd)\n",
      "Moviepy - Command successful\n",
      "Moviepy - Running:\n",
      ">>> \"+ \" \".join(cmd)\n",
      "Moviepy - Command successful\n",
      "Moviepy - Running:\n",
      ">>> \"+ \" \".join(cmd)\n"
     ]
    },
    {
     "name": "stderr",
     "output_type": "stream",
     "text": [
      "19it [00:16,  1.03it/s]"
     ]
    },
    {
     "name": "stdout",
     "output_type": "stream",
     "text": [
      "Moviepy - Command successful\n",
      "Moviepy - Running:\n",
      ">>> \"+ \" \".join(cmd)\n",
      "Moviepy - Command successful\n",
      "Moviepy - Running:\n",
      ">>> \"+ \" \".join(cmd)\n"
     ]
    },
    {
     "name": "stderr",
     "output_type": "stream",
     "text": [
      "19it [00:17,  1.03it/s]"
     ]
    },
    {
     "name": "stdout",
     "output_type": "stream",
     "text": [
      "Moviepy - Command successful\n",
      "Moviepy - Running:\n",
      ">>> \"+ \" \".join(cmd)\n",
      "Moviepy - Command successful\n",
      "Moviepy - Running:\n",
      ">>> \"+ \" \".join(cmd)\n",
      "Moviepy - Command successful\n",
      "Moviepy - Running:\n",
      ">>> \"+ \" \".join(cmd)\n"
     ]
    },
    {
     "name": "stderr",
     "output_type": "stream",
     "text": [
      "20it [00:17,  1.03s/it]"
     ]
    },
    {
     "name": "stdout",
     "output_type": "stream",
     "text": [
      "Moviepy - Command successful\n",
      "Moviepy - Running:\n",
      ">>> \"+ \" \".join(cmd)\n",
      "Moviepy - Command successful\n",
      "Moviepy - Running:\n",
      ">>> \"+ \" \".join(cmd)\n",
      "Moviepy - Command successful\n",
      "Moviepy - Running:\n",
      ">>> \"+ \" \".join(cmd)\n"
     ]
    },
    {
     "name": "stderr",
     "output_type": "stream",
     "text": [
      "20it [00:18,  1.03s/it]"
     ]
    },
    {
     "name": "stdout",
     "output_type": "stream",
     "text": [
      "Moviepy - Command successful\n",
      "Moviepy - Running:\n",
      ">>> \"+ \" \".join(cmd)\n",
      "Moviepy - Command successful\n",
      "Moviepy - Running:\n",
      ">>> \"+ \" \".join(cmd)\n"
     ]
    },
    {
     "name": "stderr",
     "output_type": "stream",
     "text": [
      "20it [00:18,  1.03s/it]"
     ]
    },
    {
     "name": "stdout",
     "output_type": "stream",
     "text": [
      "Moviepy - Command successful\n",
      "Moviepy - Running:\n",
      ">>> \"+ \" \".join(cmd)\n",
      "Moviepy - Command successful\n",
      "Moviepy - Running:\n",
      ">>> \"+ \" \".join(cmd)\n",
      "Moviepy - Command successful\n",
      "Moviepy - Running:\n",
      ">>> \"+ \" \".join(cmd)\n"
     ]
    },
    {
     "name": "stderr",
     "output_type": "stream",
     "text": [
      "20it [00:18,  1.03s/it]"
     ]
    },
    {
     "name": "stdout",
     "output_type": "stream",
     "text": [
      "Moviepy - Command successful\n",
      "Moviepy - Running:\n",
      ">>> \"+ \" \".join(cmd)\n",
      "Moviepy - Command successful\n",
      "Moviepy - Running:\n",
      ">>> \"+ \" \".join(cmd)\n"
     ]
    },
    {
     "name": "stderr",
     "output_type": "stream",
     "text": [
      "21it [00:18,  1.12s/it]"
     ]
    },
    {
     "name": "stdout",
     "output_type": "stream",
     "text": [
      "Moviepy - Command successful\n",
      "Moviepy - Running:\n",
      ">>> \"+ \" \".join(cmd)\n",
      "Moviepy - Command successful\n",
      "Moviepy - Running:\n",
      ">>> \"+ \" \".join(cmd)\n"
     ]
    },
    {
     "name": "stderr",
     "output_type": "stream",
     "text": [
      "21it [00:19,  1.12s/it]"
     ]
    },
    {
     "name": "stdout",
     "output_type": "stream",
     "text": [
      "Moviepy - Command successful\n",
      "Moviepy - Running:\n",
      ">>> \"+ \" \".join(cmd)\n",
      "Moviepy - Command successful\n",
      "Moviepy - Running:\n",
      ">>> \"+ \" \".join(cmd)\n"
     ]
    },
    {
     "name": "stderr",
     "output_type": "stream",
     "text": [
      "21it [00:19,  1.12s/it]"
     ]
    },
    {
     "name": "stdout",
     "output_type": "stream",
     "text": [
      "Moviepy - Command successful\n",
      "Moviepy - Running:\n",
      ">>> \"+ \" \".join(cmd)\n"
     ]
    },
    {
     "name": "stderr",
     "output_type": "stream",
     "text": [
      "21it [00:20,  1.12s/it]"
     ]
    },
    {
     "name": "stdout",
     "output_type": "stream",
     "text": [
      "Moviepy - Command successful\n",
      "Moviepy - Running:\n",
      ">>> \"+ \" \".join(cmd)\n",
      "Moviepy - Command successful\n",
      "Moviepy - Running:\n",
      ">>> \"+ \" \".join(cmd)\n"
     ]
    },
    {
     "name": "stderr",
     "output_type": "stream",
     "text": [
      "21it [00:20,  1.12s/it]"
     ]
    },
    {
     "name": "stdout",
     "output_type": "stream",
     "text": [
      "Moviepy - Command successful\n",
      "Moviepy - Running:\n",
      ">>> \"+ \" \".join(cmd)\n",
      "Moviepy - Command successful\n",
      "Moviepy - Running:\n",
      ">>> \"+ \" \".join(cmd)\n"
     ]
    },
    {
     "name": "stderr",
     "output_type": "stream",
     "text": [
      "21it [00:21,  1.12s/it]"
     ]
    },
    {
     "name": "stdout",
     "output_type": "stream",
     "text": [
      "Moviepy - Command successful\n",
      "Moviepy - Running:\n",
      ">>> \"+ \" \".join(cmd)\n",
      "Moviepy - Command successful\n",
      "Moviepy - Running:\n",
      ">>> \"+ \" \".join(cmd)\n",
      "Moviepy - Command successful\n",
      "Moviepy - Running:\n",
      ">>> \"+ \" \".join(cmd)\n"
     ]
    },
    {
     "name": "stderr",
     "output_type": "stream",
     "text": [
      "22it [00:21,  1.53s/it]"
     ]
    },
    {
     "name": "stdout",
     "output_type": "stream",
     "text": [
      "Moviepy - Command successful\n",
      "Moviepy - Running:\n",
      ">>> \"+ \" \".join(cmd)\n",
      "Moviepy - Command successful\n",
      "Moviepy - Running:\n",
      ">>> \"+ \" \".join(cmd)\n"
     ]
    },
    {
     "name": "stderr",
     "output_type": "stream",
     "text": [
      "22it [00:22,  1.53s/it]"
     ]
    },
    {
     "name": "stdout",
     "output_type": "stream",
     "text": [
      "Moviepy - Command successful\n",
      "Moviepy - Running:\n",
      ">>> \"+ \" \".join(cmd)\n"
     ]
    },
    {
     "name": "stderr",
     "output_type": "stream",
     "text": [
      "22it [00:22,  1.53s/it]"
     ]
    },
    {
     "name": "stdout",
     "output_type": "stream",
     "text": [
      "Moviepy - Command successful\n",
      "Moviepy - Running:\n",
      ">>> \"+ \" \".join(cmd)\n",
      "Moviepy - Command successful\n",
      "Moviepy - Running:\n",
      ">>> \"+ \" \".join(cmd)\n"
     ]
    },
    {
     "name": "stderr",
     "output_type": "stream",
     "text": [
      "22it [00:23,  1.53s/it]"
     ]
    },
    {
     "name": "stdout",
     "output_type": "stream",
     "text": [
      "Moviepy - Command successful\n",
      "Moviepy - Running:\n",
      ">>> \"+ \" \".join(cmd)\n",
      "Moviepy - Command successful\n",
      "Moviepy - Running:\n",
      ">>> \"+ \" \".join(cmd)\n"
     ]
    },
    {
     "name": "stderr",
     "output_type": "stream",
     "text": [
      "23it [00:23,  1.64s/it]"
     ]
    },
    {
     "name": "stdout",
     "output_type": "stream",
     "text": [
      "Moviepy - Command successful\n",
      "Moviepy - Running:\n",
      ">>> \"+ \" \".join(cmd)\n"
     ]
    },
    {
     "name": "stderr",
     "output_type": "stream",
     "text": [
      "24it [00:23,  1.34s/it]"
     ]
    },
    {
     "name": "stdout",
     "output_type": "stream",
     "text": [
      "Moviepy - Command successful\n",
      "Moviepy - Running:\n",
      ">>> \"+ \" \".join(cmd)\n",
      "Moviepy - Command successful\n",
      "Moviepy - Running:\n",
      ">>> \"+ \" \".join(cmd)\n",
      "Moviepy - Command successful\n",
      "Moviepy - Running:\n",
      ">>> \"+ \" \".join(cmd)\n"
     ]
    },
    {
     "name": "stderr",
     "output_type": "stream",
     "text": [
      "24it [00:24,  1.34s/it]"
     ]
    },
    {
     "name": "stdout",
     "output_type": "stream",
     "text": [
      "Moviepy - Command successful\n",
      "Moviepy - Running:\n",
      ">>> \"+ \" \".join(cmd)\n"
     ]
    },
    {
     "name": "stderr",
     "output_type": "stream",
     "text": [
      "25it [00:25,  1.33s/it]"
     ]
    },
    {
     "name": "stdout",
     "output_type": "stream",
     "text": [
      "Moviepy - Command successful\n",
      "Moviepy - Running:\n",
      ">>> \"+ \" \".join(cmd)\n",
      "Moviepy - Command successful\n",
      "Moviepy - Running:\n",
      ">>> \"+ \" \".join(cmd)\n",
      "Moviepy - Command successful\n",
      "Moviepy - Running:\n",
      ">>> \"+ \" \".join(cmd)\n"
     ]
    },
    {
     "name": "stderr",
     "output_type": "stream",
     "text": [
      "26it [00:25,  1.06s/it]"
     ]
    },
    {
     "name": "stdout",
     "output_type": "stream",
     "text": [
      "Moviepy - Command successful\n",
      "Moviepy - Running:\n",
      ">>> \"+ \" \".join(cmd)\n"
     ]
    },
    {
     "name": "stderr",
     "output_type": "stream",
     "text": [
      "27it [00:26,  1.16it/s]"
     ]
    },
    {
     "name": "stdout",
     "output_type": "stream",
     "text": [
      "Moviepy - Command successful\n",
      "Moviepy - Running:\n",
      ">>> \"+ \" \".join(cmd)\n",
      "Moviepy - Command successful\n",
      "Moviepy - Running:\n",
      ">>> \"+ \" \".join(cmd)\n"
     ]
    },
    {
     "name": "stderr",
     "output_type": "stream",
     "text": [
      "27it [00:27,  1.16it/s]"
     ]
    },
    {
     "name": "stdout",
     "output_type": "stream",
     "text": [
      "Moviepy - Command successful\n",
      "Moviepy - Running:\n",
      ">>> \"+ \" \".join(cmd)\n"
     ]
    },
    {
     "name": "stderr",
     "output_type": "stream",
     "text": [
      "28it [00:27,  1.16s/it]"
     ]
    },
    {
     "name": "stdout",
     "output_type": "stream",
     "text": [
      "Moviepy - Command successful\n",
      "Moviepy - Running:\n",
      ">>> \"+ \" \".join(cmd)\n"
     ]
    },
    {
     "name": "stderr",
     "output_type": "stream",
     "text": [
      "29it [00:29,  1.37s/it]"
     ]
    },
    {
     "name": "stdout",
     "output_type": "stream",
     "text": [
      "Moviepy - Command successful\n",
      "Moviepy - Running:\n",
      ">>> \"+ \" \".join(cmd)\n",
      "Moviepy - Command successful\n",
      "Moviepy - Running:\n",
      ">>> \"+ \" \".join(cmd)\n",
      "Moviepy - Command successful\n",
      "Moviepy - Running:\n",
      ">>> \"+ \" \".join(cmd)\n"
     ]
    },
    {
     "name": "stderr",
     "output_type": "stream",
     "text": [
      "29it [00:30,  1.37s/it]"
     ]
    },
    {
     "name": "stdout",
     "output_type": "stream",
     "text": [
      "Moviepy - Command successful\n",
      "Moviepy - Running:\n",
      ">>> \"+ \" \".join(cmd)\n"
     ]
    },
    {
     "name": "stderr",
     "output_type": "stream",
     "text": [
      "29it [00:31,  1.37s/it]"
     ]
    },
    {
     "name": "stdout",
     "output_type": "stream",
     "text": [
      "Moviepy - Command successful\n",
      "Moviepy - Running:\n",
      ">>> \"+ \" \".join(cmd)\n",
      "Moviepy - Command successful\n",
      "Moviepy - Running:\n",
      ">>> \"+ \" \".join(cmd)\n"
     ]
    },
    {
     "name": "stderr",
     "output_type": "stream",
     "text": [
      "30it [00:32,  1.84s/it]"
     ]
    },
    {
     "name": "stdout",
     "output_type": "stream",
     "text": [
      "Moviepy - Command successful\n",
      "Moviepy - Running:\n",
      ">>> \"+ \" \".join(cmd)\n"
     ]
    },
    {
     "name": "stderr",
     "output_type": "stream",
     "text": [
      "31it [00:33,  1.49s/it]"
     ]
    },
    {
     "name": "stdout",
     "output_type": "stream",
     "text": [
      "Moviepy - Command successful\n",
      "Moviepy - Running:\n",
      ">>> \"+ \" \".join(cmd)\n",
      "Moviepy - Command successful\n",
      "Moviepy - Running:\n",
      ">>> \"+ \" \".join(cmd)\n",
      "Moviepy - Command successful\n",
      "Moviepy - Running:\n",
      ">>> \"+ \" \".join(cmd)\n"
     ]
    },
    {
     "name": "stderr",
     "output_type": "stream",
     "text": [
      "31it [00:33,  1.49s/it]"
     ]
    },
    {
     "name": "stdout",
     "output_type": "stream",
     "text": [
      "Moviepy - Command successful\n",
      "Moviepy - Running:\n",
      ">>> \"+ \" \".join(cmd)\n"
     ]
    },
    {
     "name": "stderr",
     "output_type": "stream",
     "text": [
      "32it [00:34,  1.26s/it]"
     ]
    },
    {
     "name": "stdout",
     "output_type": "stream",
     "text": [
      "Moviepy - Command successful\n",
      "Moviepy - Running:\n",
      ">>> \"+ \" \".join(cmd)\n",
      "Moviepy - Command successful\n",
      "Moviepy - Running:\n",
      ">>> \"+ \" \".join(cmd)\n",
      "Moviepy - Command successful\n",
      "Moviepy - Running:\n",
      ">>> \"+ \" \".join(cmd)\n",
      "Moviepy - Command successful\n",
      "Moviepy - Running:\n",
      ">>> \"+ \" \".join(cmd)\n"
     ]
    },
    {
     "name": "stderr",
     "output_type": "stream",
     "text": [
      "32it [00:34,  1.26s/it]"
     ]
    },
    {
     "name": "stdout",
     "output_type": "stream",
     "text": [
      "Moviepy - Command successful\n",
      "Moviepy - Running:\n",
      ">>> \"+ \" \".join(cmd)\n",
      "Moviepy - Command successful\n",
      "Moviepy - Running:\n",
      ">>> \"+ \" \".join(cmd)\n",
      "Moviepy - Command successful\n",
      "Moviepy - Running:\n",
      ">>> \"+ \" \".join(cmd)\n"
     ]
    },
    {
     "name": "stderr",
     "output_type": "stream",
     "text": [
      "33it [00:34,  1.09s/it]"
     ]
    },
    {
     "name": "stdout",
     "output_type": "stream",
     "text": [
      "Moviepy - Command successful\n",
      "Moviepy - Running:\n",
      ">>> \"+ \" \".join(cmd)\n"
     ]
    },
    {
     "name": "stderr",
     "output_type": "stream",
     "text": [
      "33it [00:35,  1.09s/it]"
     ]
    },
    {
     "name": "stdout",
     "output_type": "stream",
     "text": [
      "Moviepy - Command successful\n",
      "Moviepy - Running:\n",
      ">>> \"+ \" \".join(cmd)\n",
      "Moviepy - Command successful\n",
      "Moviepy - Running:\n",
      ">>> \"+ \" \".join(cmd)\n"
     ]
    },
    {
     "name": "stderr",
     "output_type": "stream",
     "text": [
      "33it [00:36,  1.09s/it]"
     ]
    },
    {
     "name": "stdout",
     "output_type": "stream",
     "text": [
      "Moviepy - Command successful\n",
      "Moviepy - Running:\n",
      ">>> \"+ \" \".join(cmd)\n",
      "Moviepy - Command successful\n",
      "Moviepy - Running:\n",
      ">>> \"+ \" \".join(cmd)\n",
      "Moviepy - Command successful\n",
      "Moviepy - Running:\n",
      ">>> \"+ \" \".join(cmd)\n"
     ]
    },
    {
     "name": "stderr",
     "output_type": "stream",
     "text": [
      "34it [00:36,  1.16s/it]"
     ]
    },
    {
     "name": "stdout",
     "output_type": "stream",
     "text": [
      "Moviepy - Command successful\n",
      "Moviepy - Running:\n",
      ">>> \"+ \" \".join(cmd)\n"
     ]
    },
    {
     "name": "stderr",
     "output_type": "stream",
     "text": [
      "34it [00:36,  1.16s/it]"
     ]
    },
    {
     "name": "stdout",
     "output_type": "stream",
     "text": [
      "Moviepy - Command successful\n",
      "Moviepy - Running:\n",
      ">>> \"+ \" \".join(cmd)\n"
     ]
    },
    {
     "name": "stderr",
     "output_type": "stream",
     "text": [
      "34it [00:37,  1.16s/it]"
     ]
    },
    {
     "name": "stdout",
     "output_type": "stream",
     "text": [
      "Moviepy - Command successful\n",
      "Moviepy - Running:\n",
      ">>> \"+ \" \".join(cmd)\n",
      "Moviepy - Command successful\n",
      "Moviepy - Running:\n",
      ">>> \"+ \" \".join(cmd)\n"
     ]
    },
    {
     "name": "stderr",
     "output_type": "stream",
     "text": [
      "35it [00:38,  1.36s/it]"
     ]
    },
    {
     "name": "stdout",
     "output_type": "stream",
     "text": [
      "Moviepy - Command successful\n",
      "Moviepy - Running:\n",
      ">>> \"+ \" \".join(cmd)\n"
     ]
    },
    {
     "name": "stderr",
     "output_type": "stream",
     "text": [
      "36it [00:39,  1.36s/it]"
     ]
    },
    {
     "name": "stdout",
     "output_type": "stream",
     "text": [
      "Moviepy - Command successful\n",
      "Moviepy - Running:\n",
      ">>> \"+ \" \".join(cmd)\n"
     ]
    },
    {
     "name": "stderr",
     "output_type": "stream",
     "text": [
      "36it [00:39,  1.36s/it]"
     ]
    },
    {
     "name": "stdout",
     "output_type": "stream",
     "text": [
      "Moviepy - Command successful\n",
      "Moviepy - Running:\n",
      ">>> \"+ \" \".join(cmd)\n",
      "Moviepy - Command successful\n",
      "Moviepy - Running:\n",
      ">>> \"+ \" \".join(cmd)\n"
     ]
    },
    {
     "name": "stderr",
     "output_type": "stream",
     "text": [
      "36it [00:40,  1.36s/it]"
     ]
    },
    {
     "name": "stdout",
     "output_type": "stream",
     "text": [
      "Moviepy - Command successful\n",
      "Moviepy - Running:\n",
      ">>> \"+ \" \".join(cmd)\n",
      "Moviepy - Command successful\n",
      "Moviepy - Running:\n",
      ">>> \"+ \" \".join(cmd)\n"
     ]
    },
    {
     "name": "stderr",
     "output_type": "stream",
     "text": [
      "37it [00:40,  1.35s/it]"
     ]
    },
    {
     "name": "stdout",
     "output_type": "stream",
     "text": [
      "Moviepy - Command successful\n",
      "Moviepy - Running:\n",
      ">>> \"+ \" \".join(cmd)\n"
     ]
    },
    {
     "name": "stderr",
     "output_type": "stream",
     "text": [
      "37it [00:41,  1.35s/it]"
     ]
    },
    {
     "name": "stdout",
     "output_type": "stream",
     "text": [
      "Moviepy - Command successful\n",
      "Moviepy - Running:\n",
      ">>> \"+ \" \".join(cmd)\n",
      "Moviepy - Command successful\n",
      "Moviepy - Running:\n",
      ">>> \"+ \" \".join(cmd)\n"
     ]
    },
    {
     "name": "stderr",
     "output_type": "stream",
     "text": [
      "37it [00:41,  1.35s/it]"
     ]
    },
    {
     "name": "stdout",
     "output_type": "stream",
     "text": [
      "Moviepy - Command successful\n",
      "Moviepy - Running:\n",
      ">>> \"+ \" \".join(cmd)\n"
     ]
    },
    {
     "name": "stderr",
     "output_type": "stream",
     "text": [
      "38it [00:41,  1.31s/it]"
     ]
    },
    {
     "name": "stdout",
     "output_type": "stream",
     "text": [
      "Moviepy - Command successful\n",
      "Moviepy - Running:\n",
      ">>> \"+ \" \".join(cmd)\n"
     ]
    },
    {
     "name": "stderr",
     "output_type": "stream",
     "text": [
      "39it [00:42,  1.12s/it]"
     ]
    },
    {
     "name": "stdout",
     "output_type": "stream",
     "text": [
      "Moviepy - Command successful\n",
      "Moviepy - Running:\n",
      ">>> \"+ \" \".join(cmd)\n",
      "Moviepy - Command successful\n",
      "Moviepy - Running:\n",
      ">>> \"+ \" \".join(cmd)\n"
     ]
    },
    {
     "name": "stderr",
     "output_type": "stream",
     "text": [
      "39it [00:43,  1.12s/it]"
     ]
    },
    {
     "name": "stdout",
     "output_type": "stream",
     "text": [
      "Moviepy - Command successful\n",
      "Moviepy - Running:\n",
      ">>> \"+ \" \".join(cmd)\n"
     ]
    },
    {
     "name": "stderr",
     "output_type": "stream",
     "text": [
      "39it [00:44,  1.12s/it]"
     ]
    },
    {
     "name": "stdout",
     "output_type": "stream",
     "text": [
      "Moviepy - Command successful\n",
      "Moviepy - Running:\n",
      ">>> \"+ \" \".join(cmd)\n"
     ]
    },
    {
     "name": "stderr",
     "output_type": "stream",
     "text": [
      "39it [00:45,  1.12s/it]"
     ]
    },
    {
     "name": "stdout",
     "output_type": "stream",
     "text": [
      "Moviepy - Command successful\n",
      "Moviepy - Running:\n",
      ">>> \"+ \" \".join(cmd)\n",
      "Moviepy - Command successful\n",
      "Moviepy - Running:\n",
      ">>> \"+ \" \".join(cmd)\n",
      "Moviepy - Command successful\n",
      "Moviepy - Running:\n",
      ">>> \"+ \" \".join(cmd)\n"
     ]
    },
    {
     "name": "stderr",
     "output_type": "stream",
     "text": [
      "40it [00:45,  1.68s/it]"
     ]
    },
    {
     "name": "stdout",
     "output_type": "stream",
     "text": [
      "Moviepy - Command successful\n",
      "Moviepy - Running:\n",
      ">>> \"+ \" \".join(cmd)\n",
      "Moviepy - Command successful\n",
      "Moviepy - Running:\n",
      ">>> \"+ \" \".join(cmd)\n"
     ]
    },
    {
     "name": "stderr",
     "output_type": "stream",
     "text": [
      "40it [00:46,  1.68s/it]"
     ]
    },
    {
     "name": "stdout",
     "output_type": "stream",
     "text": [
      "Moviepy - Command successful\n",
      "Moviepy - Running:\n",
      ">>> \"+ \" \".join(cmd)\n"
     ]
    },
    {
     "name": "stderr",
     "output_type": "stream",
     "text": [
      "40it [00:46,  1.68s/it]"
     ]
    },
    {
     "name": "stdout",
     "output_type": "stream",
     "text": [
      "Moviepy - Command successful\n",
      "Moviepy - Running:\n",
      ">>> \"+ \" \".join(cmd)\n"
     ]
    },
    {
     "name": "stderr",
     "output_type": "stream",
     "text": [
      "40it [00:46,  1.68s/it]"
     ]
    },
    {
     "name": "stdout",
     "output_type": "stream",
     "text": [
      "Moviepy - Command successful\n",
      "Moviepy - Running:\n",
      ">>> \"+ \" \".join(cmd)\n"
     ]
    },
    {
     "name": "stderr",
     "output_type": "stream",
     "text": [
      "41it [00:47,  1.60s/it]"
     ]
    },
    {
     "name": "stdout",
     "output_type": "stream",
     "text": [
      "Moviepy - Command successful\n",
      "Moviepy - Running:\n",
      ">>> \"+ \" \".join(cmd)\n",
      "Moviepy - Command successful\n",
      "Moviepy - Running:\n",
      ">>> \"+ \" \".join(cmd)\n",
      "Moviepy - Command successful\n",
      "Moviepy - Running:\n",
      ">>> \"+ \" \".join(cmd)\n"
     ]
    },
    {
     "name": "stderr",
     "output_type": "stream",
     "text": [
      "41it [00:47,  1.60s/it]"
     ]
    },
    {
     "name": "stdout",
     "output_type": "stream",
     "text": [
      "Moviepy - Command successful\n",
      "Moviepy - Running:\n",
      ">>> \"+ \" \".join(cmd)\n"
     ]
    },
    {
     "name": "stderr",
     "output_type": "stream",
     "text": [
      "                       "
     ]
    },
    {
     "name": "stdout",
     "output_type": "stream",
     "text": [
      "Moviepy - Command successful\n",
      "Moviepy - Running:\n",
      ">>> \"+ \" \".join(cmd)\n",
      "Moviepy - Command successful\n",
      "Moviepy - Running:\n",
      ">>> \"+ \" \".join(cmd)\n",
      "Moviepy - Command successful\n",
      "Moviepy - Running:\n",
      ">>> \"+ \" \".join(cmd)\n"
     ]
    },
    {
     "name": "stderr",
     "output_type": "stream",
     "text": [
      "41it [00:48,  1.60s/it]"
     ]
    },
    {
     "name": "stdout",
     "output_type": "stream",
     "text": [
      "Moviepy - Command successful\n",
      "Moviepy - Running:\n",
      ">>> \"+ \" \".join(cmd)\n"
     ]
    },
    {
     "name": "stderr",
     "output_type": "stream",
     "text": [
      "41it [00:48,  1.60s/it]"
     ]
    },
    {
     "name": "stdout",
     "output_type": "stream",
     "text": [
      "Moviepy - Command successful\n",
      "Moviepy - Running:\n",
      ">>> \"+ \" \".join(cmd)\n",
      "Moviepy - Command successful\n",
      "Moviepy - Running:\n",
      ">>> \"+ \" \".join(cmd)\n",
      "Moviepy - Command successful\n",
      "Moviepy - Running:\n",
      ">>> \"+ \" \".join(cmd)\n",
      "Moviepy - Command successful\n",
      "Moviepy - Running:\n",
      ">>> \"+ \" \".join(cmd)\n"
     ]
    },
    {
     "name": "stderr",
     "output_type": "stream",
     "text": [
      "41it [00:48,  1.60s/it]"
     ]
    },
    {
     "name": "stdout",
     "output_type": "stream",
     "text": [
      "Moviepy - Command successful\n",
      "Moviepy - Running:\n",
      ">>> \"+ \" \".join(cmd)\n"
     ]
    },
    {
     "name": "stderr",
     "output_type": "stream",
     "text": [
      "41it [00:49,  1.60s/it]"
     ]
    },
    {
     "name": "stdout",
     "output_type": "stream",
     "text": [
      "Moviepy - Command successful\n",
      "Moviepy - Running:\n",
      ">>> \"+ \" \".join(cmd)\n",
      "Moviepy - Command successful\n",
      "Moviepy - Running:\n",
      ">>> \"+ \" \".join(cmd)\n"
     ]
    },
    {
     "name": "stderr",
     "output_type": "stream",
     "text": [
      "42it [00:49,  1.92s/it]"
     ]
    },
    {
     "name": "stdout",
     "output_type": "stream",
     "text": [
      "Moviepy - Command successful\n",
      "Moviepy - Running:\n",
      ">>> \"+ \" \".join(cmd)\n"
     ]
    },
    {
     "name": "stderr",
     "output_type": "stream",
     "text": [
      "42it [00:50,  1.92s/it]"
     ]
    },
    {
     "name": "stdout",
     "output_type": "stream",
     "text": [
      "Moviepy - Command successful\n",
      "Moviepy - Running:\n",
      ">>> \"+ \" \".join(cmd)\n",
      "Moviepy - Command successful\n",
      "Moviepy - Running:\n",
      ">>> \"+ \" \".join(cmd)\n"
     ]
    },
    {
     "name": "stderr",
     "output_type": "stream",
     "text": [
      "42it [00:50,  1.92s/it]"
     ]
    },
    {
     "name": "stdout",
     "output_type": "stream",
     "text": [
      "Moviepy - Command successful\n",
      "Moviepy - Running:\n",
      ">>> \"+ \" \".join(cmd)\n",
      "Moviepy - Command successful\n",
      "Moviepy - Running:\n",
      ">>> \"+ \" \".join(cmd)\n"
     ]
    },
    {
     "name": "stderr",
     "output_type": "stream",
     "text": [
      "42it [00:50,  1.92s/it]"
     ]
    },
    {
     "name": "stdout",
     "output_type": "stream",
     "text": [
      "Moviepy - Command successful\n",
      "Moviepy - Running:\n",
      ">>> \"+ \" \".join(cmd)\n",
      "Moviepy - Command successful\n",
      "Moviepy - Running:\n",
      ">>> \"+ \" \".join(cmd)\n"
     ]
    },
    {
     "name": "stderr",
     "output_type": "stream",
     "text": [
      "42it [00:51,  1.92s/it]"
     ]
    },
    {
     "name": "stdout",
     "output_type": "stream",
     "text": [
      "Moviepy - Command successful\n",
      "Moviepy - Running:\n",
      ">>> \"+ \" \".join(cmd)\n",
      "Moviepy - Command successful\n",
      "Moviepy - Running:\n",
      ">>> \"+ \" \".join(cmd)\n"
     ]
    },
    {
     "name": "stderr",
     "output_type": "stream",
     "text": [
      "43it [00:52,  2.07s/it]"
     ]
    },
    {
     "name": "stdout",
     "output_type": "stream",
     "text": [
      "Moviepy - Command successful\n",
      "Moviepy - Running:\n",
      ">>> \"+ \" \".join(cmd)\n",
      "Moviepy - Command successful\n",
      "Moviepy - Running:\n",
      ">>> \"+ \" \".join(cmd)\n",
      "Moviepy - Command successful\n",
      "Moviepy - Running:\n",
      ">>> \"+ \" \".join(cmd)\n"
     ]
    },
    {
     "name": "stderr",
     "output_type": "stream",
     "text": [
      "43it [00:52,  2.07s/it]"
     ]
    },
    {
     "name": "stdout",
     "output_type": "stream",
     "text": [
      "Moviepy - Command successful\n",
      "Moviepy - Running:\n",
      ">>> \"+ \" \".join(cmd)\n",
      "Moviepy - Command successful\n",
      "Moviepy - Running:\n",
      ">>> \"+ \" \".join(cmd)\n",
      "Moviepy - Command successful\n",
      "Moviepy - Running:\n",
      ">>> \"+ \" \".join(cmd)\n"
     ]
    },
    {
     "name": "stderr",
     "output_type": "stream",
     "text": [
      "44it [00:52,  1.61s/it]"
     ]
    },
    {
     "name": "stdout",
     "output_type": "stream",
     "text": [
      "Moviepy - Command successful\n",
      "Moviepy - Running:\n",
      ">>> \"+ \" \".join(cmd)\n",
      "Moviepy - Command successful\n",
      "Moviepy - Running:\n",
      ">>> \"+ \" \".join(cmd)\n"
     ]
    },
    {
     "name": "stderr",
     "output_type": "stream",
     "text": [
      "44it [00:53,  1.61s/it]"
     ]
    },
    {
     "name": "stdout",
     "output_type": "stream",
     "text": [
      "Moviepy - Command successful\n",
      "Moviepy - Running:\n",
      ">>> \"+ \" \".join(cmd)\n",
      "Moviepy - Command successful\n",
      "Moviepy - Running:\n",
      ">>> \"+ \" \".join(cmd)\n"
     ]
    },
    {
     "name": "stderr",
     "output_type": "stream",
     "text": [
      "44it [00:53,  1.61s/it]"
     ]
    },
    {
     "name": "stdout",
     "output_type": "stream",
     "text": [
      "Moviepy - Command successful\n",
      "Moviepy - Running:\n",
      ">>> \"+ \" \".join(cmd)\n"
     ]
    },
    {
     "name": "stderr",
     "output_type": "stream",
     "text": [
      "44it [00:53,  1.61s/it]"
     ]
    },
    {
     "name": "stdout",
     "output_type": "stream",
     "text": [
      "Moviepy - Command successful\n",
      "Moviepy - Running:\n",
      ">>> \"+ \" \".join(cmd)\n",
      "Moviepy - Command successful\n",
      "Moviepy - Running:\n",
      ">>> \"+ \" \".join(cmd)\n"
     ]
    },
    {
     "name": "stderr",
     "output_type": "stream",
     "text": [
      "45it [00:54,  1.60s/it]"
     ]
    },
    {
     "name": "stdout",
     "output_type": "stream",
     "text": [
      "Moviepy - Command successful\n",
      "Moviepy - Running:\n",
      ">>> \"+ \" \".join(cmd)\n"
     ]
    },
    {
     "name": "stderr",
     "output_type": "stream",
     "text": [
      "45it [00:54,  1.60s/it]"
     ]
    },
    {
     "name": "stdout",
     "output_type": "stream",
     "text": [
      "Moviepy - Command successful\n",
      "Moviepy - Running:\n",
      ">>> \"+ \" \".join(cmd)\n"
     ]
    },
    {
     "name": "stderr",
     "output_type": "stream",
     "text": [
      "45it [00:55,  1.60s/it]"
     ]
    },
    {
     "name": "stdout",
     "output_type": "stream",
     "text": [
      "Moviepy - Command successful\n",
      "Moviepy - Running:\n",
      ">>> \"+ \" \".join(cmd)\n",
      "Moviepy - Command successful\n",
      "Moviepy - Running:\n",
      ">>> \"+ \" \".join(cmd)\n"
     ]
    },
    {
     "name": "stderr",
     "output_type": "stream",
     "text": [
      "45it [00:55,  1.60s/it]"
     ]
    },
    {
     "name": "stdout",
     "output_type": "stream",
     "text": [
      "Moviepy - Command successful\n",
      "Moviepy - Running:\n",
      ">>> \"+ \" \".join(cmd)\n"
     ]
    },
    {
     "name": "stderr",
     "output_type": "stream",
     "text": [
      "46it [00:56,  1.69s/it]"
     ]
    },
    {
     "name": "stdout",
     "output_type": "stream",
     "text": [
      "Moviepy - Command successful\n",
      "Moviepy - Running:\n",
      ">>> \"+ \" \".join(cmd)\n"
     ]
    },
    {
     "name": "stderr",
     "output_type": "stream",
     "text": [
      "46it [00:56,  1.69s/it]"
     ]
    },
    {
     "name": "stdout",
     "output_type": "stream",
     "text": [
      "Moviepy - Command successful\n",
      "Moviepy - Running:\n",
      ">>> \"+ \" \".join(cmd)\n"
     ]
    },
    {
     "name": "stderr",
     "output_type": "stream",
     "text": [
      "46it [00:58,  1.69s/it]"
     ]
    },
    {
     "name": "stdout",
     "output_type": "stream",
     "text": [
      "Moviepy - Command successful\n",
      "Moviepy - Running:\n",
      ">>> \"+ \" \".join(cmd)\n"
     ]
    },
    {
     "name": "stderr",
     "output_type": "stream",
     "text": [
      "46it [00:58,  1.69s/it]"
     ]
    },
    {
     "name": "stdout",
     "output_type": "stream",
     "text": [
      "Moviepy - Command successful\n",
      "Moviepy - Running:\n",
      ">>> \"+ \" \".join(cmd)\n"
     ]
    },
    {
     "name": "stderr",
     "output_type": "stream",
     "text": [
      "47it [01:00,  2.43s/it]"
     ]
    },
    {
     "name": "stdout",
     "output_type": "stream",
     "text": [
      "Moviepy - Command successful\n",
      "Moviepy - Running:\n",
      ">>> \"+ \" \".join(cmd)\n"
     ]
    },
    {
     "name": "stderr",
     "output_type": "stream",
     "text": [
      "47it [01:00,  2.43s/it]"
     ]
    },
    {
     "name": "stdout",
     "output_type": "stream",
     "text": [
      "Moviepy - Command successful\n",
      "Moviepy - Running:\n",
      ">>> \"+ \" \".join(cmd)\n"
     ]
    },
    {
     "name": "stderr",
     "output_type": "stream",
     "text": [
      "47it [01:01,  2.43s/it]"
     ]
    },
    {
     "name": "stdout",
     "output_type": "stream",
     "text": [
      "Moviepy - Command successful\n",
      "Moviepy - Running:\n",
      ">>> \"+ \" \".join(cmd)\n"
     ]
    },
    {
     "name": "stderr",
     "output_type": "stream",
     "text": [
      "47it [01:01,  2.43s/it]"
     ]
    },
    {
     "name": "stdout",
     "output_type": "stream",
     "text": [
      "Moviepy - Command successful\n",
      "Moviepy - Running:\n",
      ">>> \"+ \" \".join(cmd)\n"
     ]
    },
    {
     "name": "stderr",
     "output_type": "stream",
     "text": [
      "48it [01:02,  2.28s/it]"
     ]
    },
    {
     "name": "stdout",
     "output_type": "stream",
     "text": [
      "Moviepy - Command successful\n",
      "Moviepy - Running:\n",
      ">>> \"+ \" \".join(cmd)\n"
     ]
    },
    {
     "name": "stderr",
     "output_type": "stream",
     "text": [
      "48it [01:02,  2.28s/it]"
     ]
    },
    {
     "name": "stdout",
     "output_type": "stream",
     "text": [
      "Moviepy - Command successful\n",
      "Moviepy - Running:\n",
      ">>> \"+ \" \".join(cmd)\n",
      "Moviepy - Command successful\n",
      "Moviepy - Running:\n",
      ">>> \"+ \" \".join(cmd)\n"
     ]
    },
    {
     "name": "stderr",
     "output_type": "stream",
     "text": [
      "48it [01:03,  2.28s/it]"
     ]
    },
    {
     "name": "stdout",
     "output_type": "stream",
     "text": [
      "Moviepy - Command successful\n",
      "Moviepy - Running:\n",
      ">>> \"+ \" \".join(cmd)\n",
      "Moviepy - Command successful\n",
      "Moviepy - Running:\n",
      ">>> \"+ \" \".join(cmd)\n"
     ]
    },
    {
     "name": "stderr",
     "output_type": "stream",
     "text": [
      "48it [01:03,  2.28s/it]"
     ]
    },
    {
     "name": "stdout",
     "output_type": "stream",
     "text": [
      "Moviepy - Command successful\n",
      "Moviepy - Running:\n",
      ">>> \"+ \" \".join(cmd)\n"
     ]
    },
    {
     "name": "stderr",
     "output_type": "stream",
     "text": [
      "49it [01:03,  2.00s/it]"
     ]
    },
    {
     "name": "stdout",
     "output_type": "stream",
     "text": [
      "Moviepy - Command successful\n",
      "Moviepy - Running:\n",
      ">>> \"+ \" \".join(cmd)\n"
     ]
    },
    {
     "name": "stderr",
     "output_type": "stream",
     "text": [
      "49it [01:04,  2.00s/it]"
     ]
    },
    {
     "name": "stdout",
     "output_type": "stream",
     "text": [
      "Moviepy - Command successful\n",
      "Moviepy - Running:\n",
      ">>> \"+ \" \".join(cmd)\n",
      "Moviepy - Command successful\n",
      "Moviepy - Running:\n",
      ">>> \"+ \" \".join(cmd)\n"
     ]
    },
    {
     "name": "stderr",
     "output_type": "stream",
     "text": [
      "49it [01:04,  2.00s/it]"
     ]
    },
    {
     "name": "stdout",
     "output_type": "stream",
     "text": [
      "Moviepy - Command successful\n",
      "Moviepy - Running:\n",
      ">>> \"+ \" \".join(cmd)\n"
     ]
    },
    {
     "name": "stderr",
     "output_type": "stream",
     "text": [
      "50it [01:04,  1.78s/it]"
     ]
    },
    {
     "name": "stdout",
     "output_type": "stream",
     "text": [
      "Moviepy - Command successful\n",
      "Moviepy - Running:\n",
      ">>> \"+ \" \".join(cmd)\n"
     ]
    },
    {
     "name": "stderr",
     "output_type": "stream",
     "text": [
      "50it [01:06,  1.78s/it]"
     ]
    },
    {
     "name": "stdout",
     "output_type": "stream",
     "text": [
      "Moviepy - Command successful\n",
      "Moviepy - Running:\n",
      ">>> \"+ \" \".join(cmd)\n"
     ]
    },
    {
     "name": "stderr",
     "output_type": "stream",
     "text": [
      "51it [01:07,  1.88s/it]"
     ]
    },
    {
     "name": "stdout",
     "output_type": "stream",
     "text": [
      "Moviepy - Command successful\n",
      "Moviepy - Running:\n",
      ">>> \"+ \" \".join(cmd)\n",
      "Moviepy - Command successful\n",
      "Moviepy - Running:\n",
      ">>> \"+ \" \".join(cmd)\n"
     ]
    },
    {
     "name": "stderr",
     "output_type": "stream",
     "text": [
      "51it [01:07,  1.88s/it]"
     ]
    },
    {
     "name": "stdout",
     "output_type": "stream",
     "text": [
      "Moviepy - Command successful\n",
      "Moviepy - Running:\n",
      ">>> \"+ \" \".join(cmd)\n",
      "Moviepy - Command successful\n",
      "Moviepy - Running:\n",
      ">>> \"+ \" \".join(cmd)\n",
      "Moviepy - Command successful\n",
      "Moviepy - Running:\n",
      ">>> \"+ \" \".join(cmd)\n"
     ]
    },
    {
     "name": "stderr",
     "output_type": "stream",
     "text": [
      "51it [01:08,  1.88s/it]"
     ]
    },
    {
     "name": "stdout",
     "output_type": "stream",
     "text": [
      "Moviepy - Command successful\n",
      "Moviepy - Running:\n",
      ">>> \"+ \" \".join(cmd)\n"
     ]
    },
    {
     "name": "stderr",
     "output_type": "stream",
     "text": [
      "52it [01:08,  1.83s/it]"
     ]
    },
    {
     "name": "stdout",
     "output_type": "stream",
     "text": [
      "Moviepy - Command successful\n",
      "Moviepy - Running:\n",
      ">>> \"+ \" \".join(cmd)\n"
     ]
    },
    {
     "name": "stderr",
     "output_type": "stream",
     "text": [
      "52it [01:09,  1.83s/it]"
     ]
    },
    {
     "name": "stdout",
     "output_type": "stream",
     "text": [
      "Moviepy - Command successful\n",
      "Moviepy - Running:\n",
      ">>> \"+ \" \".join(cmd)\n",
      "Moviepy - Command successful\n",
      "Moviepy - Running:\n",
      ">>> \"+ \" \".join(cmd)\n"
     ]
    },
    {
     "name": "stderr",
     "output_type": "stream",
     "text": [
      "52it [01:09,  1.83s/it]"
     ]
    },
    {
     "name": "stdout",
     "output_type": "stream",
     "text": [
      "Moviepy - Command successful\n",
      "Moviepy - Running:\n",
      ">>> \"+ \" \".join(cmd)\n"
     ]
    },
    {
     "name": "stderr",
     "output_type": "stream",
     "text": [
      "53it [01:10,  1.71s/it]"
     ]
    },
    {
     "name": "stdout",
     "output_type": "stream",
     "text": [
      "Moviepy - Command successful\n",
      "Moviepy - Running:\n",
      ">>> \"+ \" \".join(cmd)\n",
      "Moviepy - Command successful\n",
      "Moviepy - Running:\n",
      ">>> \"+ \" \".join(cmd)\n"
     ]
    },
    {
     "name": "stderr",
     "output_type": "stream",
     "text": [
      "53it [01:10,  1.71s/it]"
     ]
    },
    {
     "name": "stdout",
     "output_type": "stream",
     "text": [
      "Moviepy - Command successful\n",
      "Moviepy - Running:\n",
      ">>> \"+ \" \".join(cmd)\n",
      "Moviepy - Command successful\n",
      "Moviepy - Running:\n",
      ">>> \"+ \" \".join(cmd)\n"
     ]
    },
    {
     "name": "stderr",
     "output_type": "stream",
     "text": [
      "53it [01:10,  1.71s/it]"
     ]
    },
    {
     "name": "stdout",
     "output_type": "stream",
     "text": [
      "Moviepy - Command successful\n",
      "Moviepy - Running:\n",
      ">>> \"+ \" \".join(cmd)\n"
     ]
    },
    {
     "name": "stderr",
     "output_type": "stream",
     "text": [
      "54it [01:11,  1.49s/it]"
     ]
    },
    {
     "name": "stdout",
     "output_type": "stream",
     "text": [
      "Moviepy - Command successful\n",
      "Moviepy - Running:\n",
      ">>> \"+ \" \".join(cmd)\n"
     ]
    },
    {
     "name": "stderr",
     "output_type": "stream",
     "text": [
      "54it [01:11,  1.49s/it]"
     ]
    },
    {
     "name": "stdout",
     "output_type": "stream",
     "text": [
      "Moviepy - Command successful\n",
      "Moviepy - Running:\n",
      ">>> \"+ \" \".join(cmd)\n"
     ]
    },
    {
     "name": "stderr",
     "output_type": "stream",
     "text": [
      "55it [01:11,  1.31s/it]"
     ]
    },
    {
     "name": "stdout",
     "output_type": "stream",
     "text": [
      "Moviepy - Command successful\n",
      "Moviepy - Running:\n",
      ">>> \"+ \" \".join(cmd)\n",
      "Moviepy - Command successful\n",
      "Moviepy - Running:\n",
      ">>> \"+ \" \".join(cmd)\n"
     ]
    },
    {
     "name": "stderr",
     "output_type": "stream",
     "text": [
      "55it [01:12,  1.31s/it]"
     ]
    },
    {
     "name": "stdout",
     "output_type": "stream",
     "text": [
      "Moviepy - Command successful\n",
      "Moviepy - Running:\n",
      ">>> \"+ \" \".join(cmd)\n"
     ]
    },
    {
     "name": "stderr",
     "output_type": "stream",
     "text": [
      "55it [01:12,  1.31s/it]"
     ]
    },
    {
     "name": "stdout",
     "output_type": "stream",
     "text": [
      "Moviepy - Command successful\n",
      "Moviepy - Running:\n",
      ">>> \"+ \" \".join(cmd)\n",
      "Moviepy - Command successful\n",
      "Moviepy - Running:\n",
      ">>> \"+ \" \".join(cmd)\n"
     ]
    },
    {
     "name": "stderr",
     "output_type": "stream",
     "text": [
      "55it [01:12,  1.31s/it]"
     ]
    },
    {
     "name": "stdout",
     "output_type": "stream",
     "text": [
      "Moviepy - Command successful\n",
      "Moviepy - Running:\n",
      ">>> \"+ \" \".join(cmd)\n"
     ]
    },
    {
     "name": "stderr",
     "output_type": "stream",
     "text": [
      "56it [01:13,  1.50s/it]"
     ]
    },
    {
     "name": "stdout",
     "output_type": "stream",
     "text": [
      "Moviepy - Command successful\n",
      "Moviepy - Running:\n",
      ">>> \"+ \" \".join(cmd)\n",
      "Moviepy - Command successful\n",
      "Moviepy - Running:\n",
      ">>> \"+ \" \".join(cmd)\n"
     ]
    },
    {
     "name": "stderr",
     "output_type": "stream",
     "text": [
      "56it [01:14,  1.50s/it]"
     ]
    },
    {
     "name": "stdout",
     "output_type": "stream",
     "text": [
      "Moviepy - Command successful\n",
      "Moviepy - Running:\n",
      ">>> \"+ \" \".join(cmd)\n"
     ]
    },
    {
     "name": "stderr",
     "output_type": "stream",
     "text": [
      "56it [01:14,  1.50s/it]"
     ]
    },
    {
     "name": "stdout",
     "output_type": "stream",
     "text": [
      "Moviepy - Command successful\n",
      "Moviepy - Running:\n",
      ">>> \"+ \" \".join(cmd)\n"
     ]
    },
    {
     "name": "stderr",
     "output_type": "stream",
     "text": [
      "56it [01:14,  1.50s/it]"
     ]
    },
    {
     "name": "stdout",
     "output_type": "stream",
     "text": [
      "Moviepy - Command successful\n",
      "Moviepy - Running:\n",
      ">>> \"+ \" \".join(cmd)\n"
     ]
    },
    {
     "name": "stderr",
     "output_type": "stream",
     "text": [
      "57it [01:15,  1.53s/it]"
     ]
    },
    {
     "name": "stdout",
     "output_type": "stream",
     "text": [
      "Moviepy - Command successful\n",
      "Moviepy - Running:\n",
      ">>> \"+ \" \".join(cmd)\n"
     ]
    },
    {
     "name": "stderr",
     "output_type": "stream",
     "text": [
      "57it [01:15,  1.53s/it]"
     ]
    },
    {
     "name": "stdout",
     "output_type": "stream",
     "text": [
      "Moviepy - Command successful\n",
      "Moviepy - Running:\n",
      ">>> \"+ \" \".join(cmd)\n"
     ]
    },
    {
     "name": "stderr",
     "output_type": "stream",
     "text": [
      "57it [01:16,  1.53s/it]"
     ]
    },
    {
     "name": "stdout",
     "output_type": "stream",
     "text": [
      "Moviepy - Command successful\n",
      "Moviepy - Running:\n",
      ">>> \"+ \" \".join(cmd)\n"
     ]
    },
    {
     "name": "stderr",
     "output_type": "stream",
     "text": [
      "57it [01:16,  1.53s/it]"
     ]
    },
    {
     "name": "stdout",
     "output_type": "stream",
     "text": [
      "Moviepy - Command successful\n",
      "Moviepy - Running:\n",
      ">>> \"+ \" \".join(cmd)\n"
     ]
    },
    {
     "name": "stderr",
     "output_type": "stream",
     "text": [
      "58it [01:17,  1.57s/it]"
     ]
    },
    {
     "name": "stdout",
     "output_type": "stream",
     "text": [
      "Moviepy - Command successful\n",
      "Moviepy - Running:\n",
      ">>> \"+ \" \".join(cmd)\n",
      "Moviepy - Command successful\n",
      "Moviepy - Running:\n",
      ">>> \"+ \" \".join(cmd)\n"
     ]
    },
    {
     "name": "stderr",
     "output_type": "stream",
     "text": [
      "58it [01:17,  1.57s/it]"
     ]
    },
    {
     "name": "stdout",
     "output_type": "stream",
     "text": [
      "Moviepy - Command successful\n",
      "Moviepy - Running:\n",
      ">>> \"+ \" \".join(cmd)\n"
     ]
    },
    {
     "name": "stderr",
     "output_type": "stream",
     "text": [
      "59it [01:18,  1.38s/it]"
     ]
    },
    {
     "name": "stdout",
     "output_type": "stream",
     "text": [
      "Moviepy - Command successful\n",
      "Moviepy - Running:\n",
      ">>> \"+ \" \".join(cmd)\n",
      "Moviepy - Command successful\n",
      "Moviepy - Running:\n",
      ">>> \"+ \" \".join(cmd)\n"
     ]
    },
    {
     "name": "stderr",
     "output_type": "stream",
     "text": [
      "60it [01:19,  1.34s/it]"
     ]
    },
    {
     "name": "stdout",
     "output_type": "stream",
     "text": [
      "Moviepy - Command successful\n",
      "Moviepy - Running:\n",
      ">>> \"+ \" \".join(cmd)\n"
     ]
    },
    {
     "name": "stderr",
     "output_type": "stream",
     "text": [
      "60it [01:19,  1.34s/it]"
     ]
    },
    {
     "name": "stdout",
     "output_type": "stream",
     "text": [
      "Moviepy - Command successful\n",
      "Moviepy - Running:\n",
      ">>> \"+ \" \".join(cmd)\n"
     ]
    },
    {
     "name": "stderr",
     "output_type": "stream",
     "text": [
      "60it [01:20,  1.34s/it]"
     ]
    },
    {
     "name": "stdout",
     "output_type": "stream",
     "text": [
      "Moviepy - Command successful\n",
      "Moviepy - Running:\n",
      ">>> \"+ \" \".join(cmd)\n"
     ]
    },
    {
     "name": "stderr",
     "output_type": "stream",
     "text": [
      "60it [01:20,  1.34s/it]"
     ]
    },
    {
     "name": "stdout",
     "output_type": "stream",
     "text": [
      "Moviepy - Command successful\n",
      "Moviepy - Running:\n",
      ">>> \"+ \" \".join(cmd)\n",
      "Moviepy - Command successful\n",
      "Moviepy - Running:\n",
      ">>> \"+ \" \".join(cmd)\n",
      "Moviepy - Command successful\n",
      "Moviepy - Running:\n",
      ">>> \"+ \" \".join(cmd)\n"
     ]
    },
    {
     "name": "stderr",
     "output_type": "stream",
     "text": [
      "                       \r"
     ]
    },
    {
     "name": "stdout",
     "output_type": "stream",
     "text": [
      "Moviepy - Command successful\n",
      "Moviepy - Running:\n",
      ">>> \"+ \" \".join(cmd)\n",
      "Moviepy - Command successful\n",
      "Moviepy - Running:\n",
      ">>> \"+ \" \".join(cmd)\n",
      "Moviepy - Command successful\n"
     ]
    },
    {
     "name": "stderr",
     "output_type": "stream",
     "text": [
      "61it [01:20,  1.38s/it]"
     ]
    },
    {
     "name": "stdout",
     "output_type": "stream",
     "text": [
      "Moviepy - Running:\n",
      ">>> \"+ \" \".join(cmd)\n"
     ]
    },
    {
     "name": "stderr",
     "output_type": "stream",
     "text": [
      "61it [01:21,  1.38s/it]"
     ]
    },
    {
     "name": "stdout",
     "output_type": "stream",
     "text": [
      "Moviepy - Command successful\n",
      "Moviepy - Running:\n",
      ">>> \"+ \" \".join(cmd)\n",
      "Moviepy - Command successful\n",
      "Moviepy - Running:\n",
      ">>> \"+ \" \".join(cmd)\n"
     ]
    },
    {
     "name": "stderr",
     "output_type": "stream",
     "text": [
      "61it [01:21,  1.38s/it]"
     ]
    },
    {
     "name": "stdout",
     "output_type": "stream",
     "text": [
      "Moviepy - Command successful\n",
      "Moviepy - Running:\n",
      ">>> \"+ \" \".join(cmd)\n",
      "Moviepy - Command successful\n",
      "Moviepy - Running:\n",
      ">>> \"+ \" \".join(cmd)\n"
     ]
    },
    {
     "name": "stderr",
     "output_type": "stream",
     "text": [
      "61it [01:22,  1.38s/it]"
     ]
    },
    {
     "name": "stdout",
     "output_type": "stream",
     "text": [
      "Moviepy - Command successful\n",
      "Moviepy - Running:\n",
      ">>> \"+ \" \".join(cmd)\n"
     ]
    },
    {
     "name": "stderr",
     "output_type": "stream",
     "text": [
      "61it [01:22,  1.38s/it]"
     ]
    },
    {
     "name": "stdout",
     "output_type": "stream",
     "text": [
      "Moviepy - Command successful\n",
      "Moviepy - Running:\n",
      ">>> \"+ \" \".join(cmd)\n",
      "Moviepy - Command successful\n",
      "Moviepy - Running:\n",
      ">>> \"+ \" \".join(cmd)\n"
     ]
    },
    {
     "name": "stderr",
     "output_type": "stream",
     "text": [
      "61it [01:22,  1.38s/it]"
     ]
    },
    {
     "name": "stdout",
     "output_type": "stream",
     "text": [
      "Moviepy - Command successful\n",
      "Moviepy - Running:\n",
      ">>> \"+ \" \".join(cmd)\n",
      "Moviepy - Command successful\n",
      "Moviepy - Running:\n",
      ">>> \"+ \" \".join(cmd)\n"
     ]
    },
    {
     "name": "stderr",
     "output_type": "stream",
     "text": [
      "62it [01:22,  1.61s/it]"
     ]
    },
    {
     "name": "stdout",
     "output_type": "stream",
     "text": [
      "Moviepy - Command successful\n",
      "Moviepy - Running:\n",
      ">>> \"+ \" \".join(cmd)\n"
     ]
    },
    {
     "name": "stderr",
     "output_type": "stream",
     "text": [
      "62it [01:23,  1.61s/it]"
     ]
    },
    {
     "name": "stdout",
     "output_type": "stream",
     "text": [
      "Moviepy - Command successful\n",
      "Moviepy - Running:\n",
      ">>> \"+ \" \".join(cmd)\n"
     ]
    },
    {
     "name": "stderr",
     "output_type": "stream",
     "text": [
      "62it [01:23,  1.61s/it]"
     ]
    },
    {
     "name": "stdout",
     "output_type": "stream",
     "text": [
      "Moviepy - Command successful\n",
      "Moviepy - Running:\n",
      ">>> \"+ \" \".join(cmd)\n",
      "Moviepy - Command successful\n",
      "Moviepy - Running:\n",
      ">>> \"+ \" \".join(cmd)\n"
     ]
    },
    {
     "name": "stderr",
     "output_type": "stream",
     "text": [
      "62it [01:24,  1.61s/it]"
     ]
    },
    {
     "name": "stdout",
     "output_type": "stream",
     "text": [
      "Moviepy - Command successful\n",
      "Moviepy - Running:\n",
      ">>> \"+ \" \".join(cmd)\n"
     ]
    },
    {
     "name": "stderr",
     "output_type": "stream",
     "text": [
      "63it [01:24,  1.62s/it]"
     ]
    },
    {
     "name": "stdout",
     "output_type": "stream",
     "text": [
      "Moviepy - Command successful\n",
      "Moviepy - Running:\n",
      ">>> \"+ \" \".join(cmd)\n",
      "Moviepy - Command successful\n",
      "Moviepy - Running:\n",
      ">>> \"+ \" \".join(cmd)\n",
      "Moviepy - Command successful\n",
      "Moviepy - Running:\n",
      ">>> \"+ \" \".join(cmd)\n",
      "Moviepy - Command successful\n",
      "Moviepy - Running:\n",
      ">>> \"+ \" \".join(cmd)\n",
      "Moviepy - Command successful\n"
     ]
    },
    {
     "name": "stderr",
     "output_type": "stream",
     "text": [
      "63it [01:24,  1.62s/it]"
     ]
    },
    {
     "name": "stdout",
     "output_type": "stream",
     "text": [
      "Moviepy - Running:\n",
      ">>> \"+ \" \".join(cmd)\n"
     ]
    },
    {
     "name": "stderr",
     "output_type": "stream",
     "text": [
      "63it [01:24,  1.62s/it]"
     ]
    },
    {
     "name": "stdout",
     "output_type": "stream",
     "text": [
      "Moviepy - Command successful\n",
      "Moviepy - Running:\n",
      ">>> \"+ \" \".join(cmd)\n"
     ]
    },
    {
     "name": "stderr",
     "output_type": "stream",
     "text": [
      "64it [01:25,  1.40s/it]"
     ]
    },
    {
     "name": "stdout",
     "output_type": "stream",
     "text": [
      "Moviepy - Command successful\n",
      "Moviepy - Running:\n",
      ">>> \"+ \" \".join(cmd)\n",
      "Moviepy - Command successful\n",
      "Moviepy - Running:\n",
      ">>> \"+ \" \".join(cmd)\n"
     ]
    },
    {
     "name": "stderr",
     "output_type": "stream",
     "text": [
      "64it [01:26,  1.40s/it]"
     ]
    },
    {
     "name": "stdout",
     "output_type": "stream",
     "text": [
      "Moviepy - Command successful\n",
      "Moviepy - Running:\n",
      ">>> \"+ \" \".join(cmd)\n"
     ]
    },
    {
     "name": "stderr",
     "output_type": "stream",
     "text": [
      "65it [01:26,  1.31s/it]"
     ]
    },
    {
     "name": "stdout",
     "output_type": "stream",
     "text": [
      "Moviepy - Command successful\n",
      "Moviepy - Running:\n",
      ">>> \"+ \" \".join(cmd)\n",
      "Moviepy - Command successful\n",
      "Moviepy - Running:\n",
      ">>> \"+ \" \".join(cmd)\n"
     ]
    },
    {
     "name": "stderr",
     "output_type": "stream",
     "text": [
      "65it [01:27,  1.31s/it]"
     ]
    },
    {
     "name": "stdout",
     "output_type": "stream",
     "text": [
      "Moviepy - Command successful\n",
      "Moviepy - Running:\n",
      ">>> \"+ \" \".join(cmd)\n",
      "Moviepy - Command successful\n",
      "Moviepy - Running:\n",
      ">>> \"+ \" \".join(cmd)\n"
     ]
    },
    {
     "name": "stderr",
     "output_type": "stream",
     "text": [
      "65it [01:27,  1.31s/it]"
     ]
    },
    {
     "name": "stdout",
     "output_type": "stream",
     "text": [
      "Moviepy - Command successful\n",
      "Moviepy - Running:\n",
      ">>> \"+ \" \".join(cmd)\n"
     ]
    },
    {
     "name": "stderr",
     "output_type": "stream",
     "text": [
      "66it [01:28,  1.36s/it]"
     ]
    },
    {
     "name": "stdout",
     "output_type": "stream",
     "text": [
      "Moviepy - Command successful\n",
      "Moviepy - Running:\n",
      ">>> \"+ \" \".join(cmd)\n",
      "Moviepy - Command successful\n",
      "Moviepy - Running:\n",
      ">>> \"+ \" \".join(cmd)\n"
     ]
    },
    {
     "name": "stderr",
     "output_type": "stream",
     "text": [
      "66it [01:28,  1.36s/it]"
     ]
    },
    {
     "name": "stdout",
     "output_type": "stream",
     "text": [
      "Moviepy - Command successful\n",
      "Moviepy - Running:\n",
      ">>> \"+ \" \".join(cmd)\n",
      "Moviepy - Command successful\n",
      "Moviepy - Running:\n",
      ">>> \"+ \" \".join(cmd)\n",
      "Moviepy - Command successful\n",
      "Moviepy - Running:\n",
      ">>> \"+ \" \".join(cmd)\n"
     ]
    },
    {
     "name": "stderr",
     "output_type": "stream",
     "text": [
      "67it [01:28,  1.22s/it]"
     ]
    },
    {
     "name": "stdout",
     "output_type": "stream",
     "text": [
      "Moviepy - Command successful\n",
      "Moviepy - Running:\n",
      ">>> \"+ \" \".join(cmd)\n"
     ]
    },
    {
     "name": "stderr",
     "output_type": "stream",
     "text": [
      "67it [01:29,  1.22s/it]"
     ]
    },
    {
     "name": "stdout",
     "output_type": "stream",
     "text": [
      "Moviepy - Command successful\n",
      "Moviepy - Running:\n",
      ">>> \"+ \" \".join(cmd)\n",
      "Moviepy - Command successful\n",
      "Moviepy - Running:\n",
      ">>> \"+ \" \".join(cmd)\n"
     ]
    },
    {
     "name": "stderr",
     "output_type": "stream",
     "text": [
      "67it [01:29,  1.22s/it]"
     ]
    },
    {
     "name": "stdout",
     "output_type": "stream",
     "text": [
      "Moviepy - Command successful\n",
      "Moviepy - Running:\n",
      ">>> \"+ \" \".join(cmd)\n"
     ]
    },
    {
     "name": "stderr",
     "output_type": "stream",
     "text": [
      "67it [01:31,  1.22s/it]"
     ]
    },
    {
     "name": "stdout",
     "output_type": "stream",
     "text": [
      "Moviepy - Command successful\n",
      "Moviepy - Running:\n",
      ">>> \"+ \" \".join(cmd)\n"
     ]
    },
    {
     "name": "stderr",
     "output_type": "stream",
     "text": [
      "67it [01:31,  1.22s/it]"
     ]
    },
    {
     "name": "stdout",
     "output_type": "stream",
     "text": [
      "Moviepy - Command successful\n",
      "Moviepy - Running:\n",
      ">>> \"+ \" \".join(cmd)\n"
     ]
    },
    {
     "name": "stderr",
     "output_type": "stream",
     "text": [
      "68it [01:32,  1.84s/it]"
     ]
    },
    {
     "name": "stdout",
     "output_type": "stream",
     "text": [
      "Moviepy - Command successful\n",
      "Moviepy - Running:\n",
      ">>> \"+ \" \".join(cmd)\n"
     ]
    },
    {
     "name": "stderr",
     "output_type": "stream",
     "text": [
      "69it [01:32,  1.38s/it]"
     ]
    },
    {
     "name": "stdout",
     "output_type": "stream",
     "text": [
      "Moviepy - Command successful\n",
      "Moviepy - Running:\n",
      ">>> \"+ \" \".join(cmd)\n"
     ]
    },
    {
     "name": "stderr",
     "output_type": "stream",
     "text": [
      "69it [01:33,  1.38s/it]"
     ]
    },
    {
     "name": "stdout",
     "output_type": "stream",
     "text": [
      "Moviepy - Command successful\n",
      "Moviepy - Running:\n",
      ">>> \"+ \" \".join(cmd)\n",
      "Moviepy - Command successful\n",
      "Moviepy - Running:\n",
      ">>> \"+ \" \".join(cmd)\n"
     ]
    },
    {
     "name": "stderr",
     "output_type": "stream",
     "text": [
      "70it [01:33,  1.32s/it]"
     ]
    },
    {
     "name": "stdout",
     "output_type": "stream",
     "text": [
      "Moviepy - Command successful\n",
      "Moviepy - Running:\n",
      ">>> \"+ \" \".join(cmd)\n",
      "Moviepy - Command successful\n",
      "Moviepy - Running:\n",
      ">>> \"+ \" \".join(cmd)\n",
      "Moviepy - Command successful\n",
      "Moviepy - Running:\n",
      ">>> \"+ \" \".join(cmd)\n",
      "Moviepy - Command successful\n",
      "Moviepy - Running:\n",
      ">>> \"+ \" \".join(cmd)\n"
     ]
    },
    {
     "name": "stderr",
     "output_type": "stream",
     "text": [
      "70it [01:34,  1.32s/it]"
     ]
    },
    {
     "name": "stdout",
     "output_type": "stream",
     "text": [
      "Moviepy - Command successful\n",
      "Moviepy - Running:\n",
      ">>> \"+ \" \".join(cmd)\n",
      "Moviepy - Command successful\n",
      "Moviepy - Running:\n",
      ">>> \"+ \" \".join(cmd)\n",
      "Moviepy - Command successful\n",
      "Moviepy - Running:\n",
      ">>> \"+ \" \".join(cmd)\n",
      "Moviepy - Command successful\n",
      "Moviepy - Running:\n",
      ">>> \"+ \" \".join(cmd)\n"
     ]
    },
    {
     "name": "stderr",
     "output_type": "stream",
     "text": [
      "71it [01:34,  1.07s/it]"
     ]
    },
    {
     "name": "stdout",
     "output_type": "stream",
     "text": [
      "Moviepy - Command successful\n",
      "Moviepy - Running:\n",
      ">>> \"+ \" \".join(cmd)\n",
      "Moviepy - Command successful\n",
      "Moviepy - Running:\n",
      ">>> \"+ \" \".join(cmd)\n"
     ]
    },
    {
     "name": "stderr",
     "output_type": "stream",
     "text": [
      "71it [01:34,  1.07s/it]"
     ]
    },
    {
     "name": "stdout",
     "output_type": "stream",
     "text": [
      "Moviepy - Command successful\n",
      "Moviepy - Running:\n",
      ">>> \"+ \" \".join(cmd)\n"
     ]
    },
    {
     "name": "stderr",
     "output_type": "stream",
     "text": [
      "71it [01:34,  1.07s/it]"
     ]
    },
    {
     "name": "stdout",
     "output_type": "stream",
     "text": [
      "Moviepy - Command successful\n",
      "Moviepy - Running:\n",
      ">>> \"+ \" \".join(cmd)\n"
     ]
    },
    {
     "name": "stderr",
     "output_type": "stream",
     "text": [
      "71it [01:35,  1.07s/it]"
     ]
    },
    {
     "name": "stdout",
     "output_type": "stream",
     "text": [
      "Moviepy - Command successful\n",
      "Moviepy - Running:\n",
      ">>> \"+ \" \".join(cmd)\n",
      "Moviepy - Command successful\n",
      "Moviepy - Running:\n",
      ">>> \"+ \" \".join(cmd)\n"
     ]
    },
    {
     "name": "stderr",
     "output_type": "stream",
     "text": [
      "71it [01:35,  1.07s/it]"
     ]
    },
    {
     "name": "stdout",
     "output_type": "stream",
     "text": [
      "Moviepy - Command successful\n",
      "Moviepy - Running:\n",
      ">>> \"+ \" \".join(cmd)\n",
      "Moviepy - Command successful\n",
      "Moviepy - Running:\n",
      ">>> \"+ \" \".join(cmd)\n",
      "Moviepy - Command successful\n",
      "Moviepy - Running:\n",
      ">>> \"+ \" \".join(cmd)\n",
      "Moviepy - Command successful\n",
      "Moviepy - Running:\n",
      ">>> \"+ \" \".join(cmd)\n"
     ]
    },
    {
     "name": "stderr",
     "output_type": "stream",
     "text": [
      "72it [01:35,  1.28s/it]"
     ]
    },
    {
     "name": "stdout",
     "output_type": "stream",
     "text": [
      "Moviepy - Command successful\n",
      "Moviepy - Running:\n",
      ">>> \"+ \" \".join(cmd)\n"
     ]
    },
    {
     "name": "stderr",
     "output_type": "stream",
     "text": [
      "73it [01:36,  1.00it/s]"
     ]
    },
    {
     "name": "stdout",
     "output_type": "stream",
     "text": [
      "Moviepy - Command successful\n",
      "Moviepy - Running:\n",
      ">>> \"+ \" \".join(cmd)\n",
      "Moviepy - Command successful\n",
      "Moviepy - Running:\n",
      ">>> \"+ \" \".join(cmd)\n"
     ]
    },
    {
     "name": "stderr",
     "output_type": "stream",
     "text": [
      "73it [01:37,  1.00it/s]"
     ]
    },
    {
     "name": "stdout",
     "output_type": "stream",
     "text": [
      "Moviepy - Command successful\n",
      "Moviepy - Running:\n",
      ">>> \"+ \" \".join(cmd)\n",
      "Moviepy - Command successful\n",
      "Moviepy - Running:\n",
      ">>> \"+ \" \".join(cmd)\n"
     ]
    },
    {
     "name": "stderr",
     "output_type": "stream",
     "text": [
      "73it [01:38,  1.00it/s]"
     ]
    },
    {
     "name": "stdout",
     "output_type": "stream",
     "text": [
      "Moviepy - Command successful\n",
      "Moviepy - Running:\n",
      ">>> \"+ \" \".join(cmd)\n"
     ]
    },
    {
     "name": "stderr",
     "output_type": "stream",
     "text": [
      "73it [01:38,  1.00it/s]"
     ]
    },
    {
     "name": "stdout",
     "output_type": "stream",
     "text": [
      "Moviepy - Command successful\n",
      "Moviepy - Running:\n",
      ">>> \"+ \" \".join(cmd)\n",
      "Moviepy - Command successful\n",
      "Moviepy - Running:\n",
      ">>> \"+ \" \".join(cmd)\n"
     ]
    },
    {
     "name": "stderr",
     "output_type": "stream",
     "text": [
      "73it [01:38,  1.00it/s]"
     ]
    },
    {
     "name": "stdout",
     "output_type": "stream",
     "text": [
      "Moviepy - Command successful\n",
      "Moviepy - Running:\n",
      ">>> \"+ \" \".join(cmd)\n"
     ]
    },
    {
     "name": "stderr",
     "output_type": "stream",
     "text": [
      "74it [01:39,  1.70s/it]"
     ]
    },
    {
     "name": "stdout",
     "output_type": "stream",
     "text": [
      "Moviepy - Command successful\n",
      "Moviepy - Running:\n",
      ">>> \"+ \" \".join(cmd)\n",
      "Moviepy - Command successful\n",
      "Moviepy - Running:\n",
      ">>> \"+ \" \".join(cmd)\n"
     ]
    },
    {
     "name": "stderr",
     "output_type": "stream",
     "text": [
      "74it [01:40,  1.70s/it]"
     ]
    },
    {
     "name": "stdout",
     "output_type": "stream",
     "text": [
      "Moviepy - Command successful\n",
      "Moviepy - Running:\n",
      ">>> \"+ \" \".join(cmd)\n"
     ]
    },
    {
     "name": "stderr",
     "output_type": "stream",
     "text": [
      "74it [01:40,  1.70s/it]"
     ]
    },
    {
     "name": "stdout",
     "output_type": "stream",
     "text": [
      "Moviepy - Command successful\n",
      "Moviepy - Running:\n",
      ">>> \"+ \" \".join(cmd)\n"
     ]
    },
    {
     "name": "stderr",
     "output_type": "stream",
     "text": [
      "76it [01:41,  1.18s/it]"
     ]
    },
    {
     "name": "stdout",
     "output_type": "stream",
     "text": [
      "Moviepy - Command successful\n",
      "Moviepy - Running:\n",
      ">>> \"+ \" \".join(cmd)\n",
      "Moviepy - Command successful\n",
      "Moviepy - Running:\n",
      ">>> \"+ \" \".join(cmd)\n",
      "Moviepy - Command successful\n",
      "Moviepy - Running:\n",
      ">>> \"+ \" \".join(cmd)\n"
     ]
    },
    {
     "name": "stderr",
     "output_type": "stream",
     "text": [
      "76it [01:41,  1.18s/it]"
     ]
    },
    {
     "name": "stdout",
     "output_type": "stream",
     "text": [
      "Moviepy - Command successful\n",
      "Moviepy - Running:\n",
      ">>> \"+ \" \".join(cmd)\n"
     ]
    },
    {
     "name": "stderr",
     "output_type": "stream",
     "text": [
      "76it [01:41,  1.18s/it]"
     ]
    },
    {
     "name": "stdout",
     "output_type": "stream",
     "text": [
      "Moviepy - Command successful\n",
      "Moviepy - Running:\n",
      ">>> \"+ \" \".join(cmd)\n",
      "Moviepy - Command successful\n",
      "Moviepy - Running:\n",
      ">>> \"+ \" \".join(cmd)\n",
      "Moviepy - Command successful\n",
      "Moviepy - Running:\n",
      ">>> \"+ \" \".join(cmd)\n"
     ]
    },
    {
     "name": "stderr",
     "output_type": "stream",
     "text": [
      "78it [01:42,  1.23it/s]"
     ]
    },
    {
     "name": "stdout",
     "output_type": "stream",
     "text": [
      "Moviepy - Command successful\n",
      "Moviepy - Running:\n",
      ">>> \"+ \" \".join(cmd)\n",
      "Moviepy - Command successful\n",
      "Moviepy - Running:\n",
      ">>> \"+ \" \".join(cmd)\n",
      "Moviepy - Command successful\n",
      "Moviepy - Running:\n",
      ">>> \"+ \" \".join(cmd)\n",
      "Moviepy - Command successful\n",
      "Moviepy - Running:\n",
      ">>> \"+ \" \".join(cmd)\n",
      "Moviepy - Command successful\n",
      "Moviepy - Running:\n",
      ">>> \"+ \" \".join(cmd)\n"
     ]
    },
    {
     "name": "stderr",
     "output_type": "stream",
     "text": [
      "78it [01:42,  1.23it/s]"
     ]
    },
    {
     "name": "stdout",
     "output_type": "stream",
     "text": [
      "Moviepy - Command successful\n",
      "Moviepy - Running:\n",
      ">>> \"+ \" \".join(cmd)\n",
      "Moviepy - Command successful\n",
      "Moviepy - Running:\n",
      ">>> \"+ \" \".join(cmd)\n"
     ]
    },
    {
     "name": "stderr",
     "output_type": "stream",
     "text": [
      "78it [01:43,  1.23it/s]"
     ]
    },
    {
     "name": "stdout",
     "output_type": "stream",
     "text": [
      "Moviepy - Command successful\n",
      "Moviepy - Running:\n",
      ">>> \"+ \" \".join(cmd)\n",
      "Moviepy - Command successful\n",
      "Moviepy - Running:\n",
      ">>> \"+ \" \".join(cmd)\n"
     ]
    },
    {
     "name": "stderr",
     "output_type": "stream",
     "text": [
      "79it [01:43,  1.01s/it]"
     ]
    },
    {
     "name": "stdout",
     "output_type": "stream",
     "text": [
      "Moviepy - Command successful\n",
      "Moviepy - Running:\n",
      ">>> \"+ \" \".join(cmd)\n",
      "Moviepy - Command successful\n",
      "Moviepy - Running:\n",
      ">>> \"+ \" \".join(cmd)\n",
      "Moviepy - Command successful\n"
     ]
    },
    {
     "name": "stderr",
     "output_type": "stream",
     "text": [
      "79it [01:43,  1.01s/it]"
     ]
    },
    {
     "name": "stdout",
     "output_type": "stream",
     "text": [
      "Moviepy - Running:\n",
      ">>> \"+ \" \".join(cmd)\n"
     ]
    },
    {
     "name": "stderr",
     "output_type": "stream",
     "text": [
      "79it [01:44,  1.01s/it]"
     ]
    },
    {
     "name": "stdout",
     "output_type": "stream",
     "text": [
      "Moviepy - Command successful\n",
      "Moviepy - Running:\n",
      ">>> \"+ \" \".join(cmd)\n",
      "Moviepy - Command successful\n",
      "Moviepy - Running:\n",
      ">>> \"+ \" \".join(cmd)\n"
     ]
    },
    {
     "name": "stderr",
     "output_type": "stream",
     "text": [
      "79it [01:44,  1.01s/it]"
     ]
    },
    {
     "name": "stdout",
     "output_type": "stream",
     "text": [
      "Moviepy - Command successful\n",
      "Moviepy - Running:\n",
      ">>> \"+ \" \".join(cmd)\n",
      "Moviepy - Command successful\n",
      "Moviepy - Running:\n",
      ">>> \"+ \" \".join(cmd)\n"
     ]
    },
    {
     "name": "stderr",
     "output_type": "stream",
     "text": [
      "80it [01:45,  1.12s/it]"
     ]
    },
    {
     "name": "stdout",
     "output_type": "stream",
     "text": [
      "Moviepy - Command successful\n",
      "Moviepy - Running:\n",
      ">>> \"+ \" \".join(cmd)\n",
      "Moviepy - Command successful\n",
      "Moviepy - Running:\n",
      ">>> \"+ \" \".join(cmd)\n"
     ]
    },
    {
     "name": "stderr",
     "output_type": "stream",
     "text": [
      "80it [01:45,  1.12s/it]"
     ]
    },
    {
     "name": "stdout",
     "output_type": "stream",
     "text": [
      "Moviepy - Command successful\n",
      "Moviepy - Running:\n",
      ">>> \"+ \" \".join(cmd)\n",
      "Moviepy - Command successful\n",
      "Moviepy - Running:\n",
      ">>> \"+ \" \".join(cmd)\n",
      "Moviepy - Command successful\n",
      "Moviepy - Running:\n",
      ">>> \"+ \" \".join(cmd)\n",
      "Moviepy - Command successful\n"
     ]
    },
    {
     "name": "stderr",
     "output_type": "stream",
     "text": [
      "81it [01:45,  1.05it/s]"
     ]
    },
    {
     "name": "stdout",
     "output_type": "stream",
     "text": [
      "Moviepy - Running:\n",
      ">>> \"+ \" \".join(cmd)\n",
      "Moviepy - Command successful\n",
      "Moviepy - Running:\n",
      ">>> \"+ \" \".join(cmd)\n",
      "Moviepy - Command successful\n",
      "Moviepy - Running:\n",
      ">>> \"+ \" \".join(cmd)\n"
     ]
    },
    {
     "name": "stderr",
     "output_type": "stream",
     "text": [
      "81it [01:46,  1.05it/s]"
     ]
    },
    {
     "name": "stdout",
     "output_type": "stream",
     "text": [
      "Moviepy - Command successful\n",
      "Moviepy - Running:\n",
      ">>> \"+ \" \".join(cmd)\n"
     ]
    },
    {
     "name": "stderr",
     "output_type": "stream",
     "text": [
      "81it [01:46,  1.05it/s]"
     ]
    },
    {
     "name": "stdout",
     "output_type": "stream",
     "text": [
      "Moviepy - Command successful\n",
      "Moviepy - Running:\n",
      ">>> \"+ \" \".join(cmd)\n"
     ]
    },
    {
     "name": "stderr",
     "output_type": "stream",
     "text": [
      "82it [01:47,  1.08s/it]"
     ]
    },
    {
     "name": "stdout",
     "output_type": "stream",
     "text": [
      "Moviepy - Command successful\n",
      "Moviepy - Running:\n",
      ">>> \"+ \" \".join(cmd)\n",
      "Moviepy - Command successful\n",
      "Moviepy - Running:\n",
      ">>> \"+ \" \".join(cmd)\n"
     ]
    },
    {
     "name": "stderr",
     "output_type": "stream",
     "text": [
      "82it [01:47,  1.08s/it]"
     ]
    },
    {
     "name": "stdout",
     "output_type": "stream",
     "text": [
      "Moviepy - Command successful\n",
      "Moviepy - Running:\n",
      ">>> \"+ \" \".join(cmd)\n",
      "Moviepy - Command successful\n",
      "Moviepy - Running:\n",
      ">>> \"+ \" \".join(cmd)\n"
     ]
    },
    {
     "name": "stderr",
     "output_type": "stream",
     "text": [
      "82it [01:48,  1.08s/it]"
     ]
    },
    {
     "name": "stdout",
     "output_type": "stream",
     "text": [
      "Moviepy - Command successful\n",
      "Moviepy - Running:\n",
      ">>> \"+ \" \".join(cmd)\n",
      "Moviepy - Command successful\n",
      "Moviepy - Running:\n",
      ">>> \"+ \" \".join(cmd)\n"
     ]
    },
    {
     "name": "stderr",
     "output_type": "stream",
     "text": [
      "82it [01:48,  1.08s/it]"
     ]
    },
    {
     "name": "stdout",
     "output_type": "stream",
     "text": [
      "Moviepy - Command successful\n",
      "Moviepy - Running:\n",
      ">>> \"+ \" \".join(cmd)\n",
      "Moviepy - Command successful\n",
      "Moviepy - Running:\n",
      ">>> \"+ \" \".join(cmd)\n"
     ]
    },
    {
     "name": "stderr",
     "output_type": "stream",
     "text": [
      "83it [01:49,  1.44s/it]"
     ]
    },
    {
     "name": "stdout",
     "output_type": "stream",
     "text": [
      "Moviepy - Command successful\n",
      "Moviepy - Running:\n",
      ">>> \"+ \" \".join(cmd)\n",
      "Moviepy - Command successful\n",
      "Moviepy - Running:\n",
      ">>> \"+ \" \".join(cmd)\n"
     ]
    },
    {
     "name": "stderr",
     "output_type": "stream",
     "text": [
      "83it [01:49,  1.44s/it]"
     ]
    },
    {
     "name": "stdout",
     "output_type": "stream",
     "text": [
      "Moviepy - Command successful\n",
      "Moviepy - Running:\n",
      ">>> \"+ \" \".join(cmd)\n",
      "Moviepy - Command successful\n",
      "Moviepy - Running:\n",
      ">>> \"+ \" \".join(cmd)\n"
     ]
    },
    {
     "name": "stderr",
     "output_type": "stream",
     "text": [
      "83it [01:49,  1.44s/it]"
     ]
    },
    {
     "name": "stdout",
     "output_type": "stream",
     "text": [
      "Moviepy - Command successful\n",
      "Moviepy - Running:\n",
      ">>> \"+ \" \".join(cmd)\n",
      "Moviepy - Command successful\n",
      "Moviepy - Running:\n",
      ">>> \"+ \" \".join(cmd)\n"
     ]
    },
    {
     "name": "stderr",
     "output_type": "stream",
     "text": [
      "84it [01:50,  1.40s/it]"
     ]
    },
    {
     "name": "stdout",
     "output_type": "stream",
     "text": [
      "Moviepy - Command successful\n",
      "Moviepy - Running:\n",
      ">>> \"+ \" \".join(cmd)\n",
      "Moviepy - Command successful\n",
      "Moviepy - Running:\n",
      ">>> \"+ \" \".join(cmd)\n",
      "Moviepy - Command successful\n",
      "Moviepy - Running:\n",
      ">>> \"+ \" \".join(cmd)\n"
     ]
    },
    {
     "name": "stderr",
     "output_type": "stream",
     "text": [
      "                       \r"
     ]
    },
    {
     "name": "stdout",
     "output_type": "stream",
     "text": [
      "Moviepy - Command successful\n",
      "Moviepy - Running:\n",
      ">>> \"+ \" \".join(cmd)\n"
     ]
    },
    {
     "name": "stderr",
     "output_type": "stream",
     "text": [
      "85it [01:51,  1.12s/it]"
     ]
    },
    {
     "name": "stdout",
     "output_type": "stream",
     "text": [
      "Moviepy - Command successful\n",
      "Moviepy - Running:\n",
      ">>> \"+ \" \".join(cmd)\n",
      "Moviepy - Command successful\n",
      "Moviepy - Running:\n",
      ">>> \"+ \" \".join(cmd)\n"
     ]
    },
    {
     "name": "stderr",
     "output_type": "stream",
     "text": [
      "85it [01:51,  1.12s/it]"
     ]
    },
    {
     "name": "stdout",
     "output_type": "stream",
     "text": [
      "Moviepy - Command successful\n",
      "Moviepy - Running:\n",
      ">>> \"+ \" \".join(cmd)\n",
      "Moviepy - Command successful\n",
      "Moviepy - Running:\n",
      ">>> \"+ \" \".join(cmd)\n",
      "Moviepy - Command successful\n",
      "Moviepy - Running:\n",
      ">>> \"+ \" \".join(cmd)\n",
      "Moviepy - Command successful\n",
      "Moviepy - Running:\n",
      ">>> \"+ \" \".join(cmd)\n"
     ]
    },
    {
     "name": "stderr",
     "output_type": "stream",
     "text": [
      "86it [01:51,  1.01it/s]"
     ]
    },
    {
     "name": "stdout",
     "output_type": "stream",
     "text": [
      "Moviepy - Command successful\n",
      "Moviepy - Running:\n",
      ">>> \"+ \" \".join(cmd)\n"
     ]
    },
    {
     "name": "stderr",
     "output_type": "stream",
     "text": [
      "86it [01:52,  1.01it/s]"
     ]
    },
    {
     "name": "stdout",
     "output_type": "stream",
     "text": [
      "Moviepy - Command successful\n",
      "Moviepy - Running:\n",
      ">>> \"+ \" \".join(cmd)\n"
     ]
    },
    {
     "name": "stderr",
     "output_type": "stream",
     "text": [
      "86it [01:52,  1.01it/s]"
     ]
    },
    {
     "name": "stdout",
     "output_type": "stream",
     "text": [
      "Moviepy - Command successful\n",
      "Moviepy - Running:\n",
      ">>> \"+ \" \".join(cmd)\n"
     ]
    },
    {
     "name": "stderr",
     "output_type": "stream",
     "text": [
      "87it [01:53,  1.17s/it]"
     ]
    },
    {
     "name": "stdout",
     "output_type": "stream",
     "text": [
      "Moviepy - Command successful\n",
      "Moviepy - Running:\n",
      ">>> \"+ \" \".join(cmd)\n"
     ]
    },
    {
     "name": "stderr",
     "output_type": "stream",
     "text": [
      "87it [01:53,  1.17s/it]"
     ]
    },
    {
     "name": "stdout",
     "output_type": "stream",
     "text": [
      "Moviepy - Command successful\n",
      "Moviepy - Running:\n",
      ">>> \"+ \" \".join(cmd)\n",
      "Moviepy - Command successful\n",
      "Moviepy - Running:\n",
      ">>> \"+ \" \".join(cmd)\n"
     ]
    },
    {
     "name": "stderr",
     "output_type": "stream",
     "text": [
      "88it [01:54,  1.24s/it]"
     ]
    },
    {
     "name": "stdout",
     "output_type": "stream",
     "text": [
      "Moviepy - Command successful\n",
      "Moviepy - Running:\n",
      ">>> \"+ \" \".join(cmd)\n"
     ]
    },
    {
     "name": "stderr",
     "output_type": "stream",
     "text": [
      "88it [01:55,  1.24s/it]"
     ]
    },
    {
     "name": "stdout",
     "output_type": "stream",
     "text": [
      "Moviepy - Command successful\n",
      "Moviepy - Running:\n",
      ">>> \"+ \" \".join(cmd)\n"
     ]
    },
    {
     "name": "stderr",
     "output_type": "stream",
     "text": [
      "88it [01:55,  1.24s/it]"
     ]
    },
    {
     "name": "stdout",
     "output_type": "stream",
     "text": [
      "Moviepy - Command successful\n",
      "Moviepy - Running:\n",
      ">>> \"+ \" \".join(cmd)\n"
     ]
    },
    {
     "name": "stderr",
     "output_type": "stream",
     "text": [
      "89it [01:55,  1.22s/it]"
     ]
    },
    {
     "name": "stdout",
     "output_type": "stream",
     "text": [
      "Moviepy - Command successful\n",
      "Moviepy - Running:\n",
      ">>> \"+ \" \".join(cmd)\n",
      "Moviepy - Command successful\n",
      "Moviepy - Running:\n",
      ">>> \"+ \" \".join(cmd)\n"
     ]
    },
    {
     "name": "stderr",
     "output_type": "stream",
     "text": [
      "89it [01:56,  1.22s/it]"
     ]
    },
    {
     "name": "stdout",
     "output_type": "stream",
     "text": [
      "Moviepy - Command successful\n",
      "Moviepy - Running:\n",
      ">>> \"+ \" \".join(cmd)\n"
     ]
    },
    {
     "name": "stderr",
     "output_type": "stream",
     "text": [
      "89it [01:56,  1.22s/it]"
     ]
    },
    {
     "name": "stdout",
     "output_type": "stream",
     "text": [
      "Moviepy - Command successful\n",
      "Moviepy - Running:\n",
      ">>> \"+ \" \".join(cmd)\n",
      "Moviepy - Command successful\n",
      "Moviepy - Running:\n",
      ">>> \"+ \" \".join(cmd)\n"
     ]
    },
    {
     "name": "stderr",
     "output_type": "stream",
     "text": [
      "89it [01:56,  1.22s/it]"
     ]
    },
    {
     "name": "stdout",
     "output_type": "stream",
     "text": [
      "Moviepy - Command successful\n",
      "Moviepy - Running:\n",
      ">>> \"+ \" \".join(cmd)\n",
      "Moviepy - Command successful\n",
      "Moviepy - Running:\n",
      ">>> \"+ \" \".join(cmd)\n"
     ]
    },
    {
     "name": "stderr",
     "output_type": "stream",
     "text": [
      "89it [01:57,  1.22s/it]"
     ]
    },
    {
     "name": "stdout",
     "output_type": "stream",
     "text": [
      "Moviepy - Command successful\n",
      "Moviepy - Running:\n",
      ">>> \"+ \" \".join(cmd)\n",
      "Moviepy - Command successful\n",
      "Moviepy - Running:\n",
      ">>> \"+ \" \".join(cmd)\n",
      "Moviepy - Command successful\n",
      "Moviepy - Running:\n",
      ">>> \"+ \" \".join(cmd)\n"
     ]
    },
    {
     "name": "stderr",
     "output_type": "stream",
     "text": [
      "89it [01:57,  1.22s/it]"
     ]
    },
    {
     "name": "stdout",
     "output_type": "stream",
     "text": [
      "Moviepy - Command successful\n",
      "Moviepy - Running:\n",
      ">>> \"+ \" \".join(cmd)\n",
      "Moviepy - Command successful\n",
      "Moviepy - Running:\n",
      ">>> \"+ \" \".join(cmd)\n"
     ]
    },
    {
     "name": "stderr",
     "output_type": "stream",
     "text": [
      "89it [01:58,  1.22s/it]"
     ]
    },
    {
     "name": "stdout",
     "output_type": "stream",
     "text": [
      "Moviepy - Command successful\n",
      "Moviepy - Running:\n",
      ">>> \"+ \" \".join(cmd)\n"
     ]
    },
    {
     "name": "stderr",
     "output_type": "stream",
     "text": [
      "90it [01:58,  1.64s/it]"
     ]
    },
    {
     "name": "stdout",
     "output_type": "stream",
     "text": [
      "Moviepy - Command successful\n",
      "Moviepy - Running:\n",
      ">>> \"+ \" \".join(cmd)\n",
      "Moviepy - Command successful\n",
      "Moviepy - Running:\n",
      ">>> \"+ \" \".join(cmd)\n",
      "Moviepy - Command successful\n",
      "Moviepy - Running:\n",
      ">>> \"+ \" \".join(cmd)\n"
     ]
    },
    {
     "name": "stderr",
     "output_type": "stream",
     "text": [
      "91it [01:58,  1.22s/it]"
     ]
    },
    {
     "name": "stdout",
     "output_type": "stream",
     "text": [
      "Moviepy - Command successful\n",
      "Moviepy - Running:\n",
      ">>> \"+ \" \".join(cmd)\n",
      "Moviepy - Command successful\n",
      "Moviepy - Running:\n",
      ">>> \"+ \" \".join(cmd)\n"
     ]
    },
    {
     "name": "stderr",
     "output_type": "stream",
     "text": [
      "91it [01:59,  1.22s/it]"
     ]
    },
    {
     "name": "stdout",
     "output_type": "stream",
     "text": [
      "Moviepy - Command successful\n",
      "Moviepy - Running:\n",
      ">>> \"+ \" \".join(cmd)\n"
     ]
    },
    {
     "name": "stderr",
     "output_type": "stream",
     "text": [
      "91it [01:59,  1.22s/it]"
     ]
    },
    {
     "name": "stdout",
     "output_type": "stream",
     "text": [
      "Moviepy - Command successful\n",
      "Moviepy - Running:\n",
      ">>> \"+ \" \".join(cmd)\n"
     ]
    },
    {
     "name": "stderr",
     "output_type": "stream",
     "text": [
      "92it [02:00,  1.34s/it]"
     ]
    },
    {
     "name": "stdout",
     "output_type": "stream",
     "text": [
      "Moviepy - Command successful\n",
      "Moviepy - Running:\n",
      ">>> \"+ \" \".join(cmd)\n",
      "Moviepy - Command successful\n",
      "Moviepy - Running:\n",
      ">>> \"+ \" \".join(cmd)\n"
     ]
    },
    {
     "name": "stderr",
     "output_type": "stream",
     "text": [
      "92it [02:00,  1.34s/it]"
     ]
    },
    {
     "name": "stdout",
     "output_type": "stream",
     "text": [
      "Moviepy - Command successful\n",
      "Moviepy - Running:\n",
      ">>> \"+ \" \".join(cmd)\n",
      "Moviepy - Command successful\n",
      "Moviepy - Running:\n",
      ">>> \"+ \" \".join(cmd)\n"
     ]
    },
    {
     "name": "stderr",
     "output_type": "stream",
     "text": [
      "92it [02:01,  1.34s/it]"
     ]
    },
    {
     "name": "stdout",
     "output_type": "stream",
     "text": [
      "Moviepy - Command successful\n",
      "Moviepy - Running:\n",
      ">>> \"+ \" \".join(cmd)\n",
      "Moviepy - Command successful\n",
      "Moviepy - Running:\n",
      ">>> \"+ \" \".join(cmd)\n",
      "Moviepy - Command successful\n",
      "Moviepy - Running:\n",
      ">>> \"+ \" \".join(cmd)\n"
     ]
    },
    {
     "name": "stderr",
     "output_type": "stream",
     "text": [
      "92it [02:01,  1.34s/it]"
     ]
    },
    {
     "name": "stdout",
     "output_type": "stream",
     "text": [
      "Moviepy - Command successful\n",
      "Moviepy - Running:\n",
      ">>> \"+ \" \".join(cmd)\n",
      "Moviepy - Command successful\n",
      "Moviepy - Running:\n",
      ">>> \"+ \" \".join(cmd)\n"
     ]
    },
    {
     "name": "stderr",
     "output_type": "stream",
     "text": [
      "93it [02:01,  1.26s/it]"
     ]
    },
    {
     "name": "stdout",
     "output_type": "stream",
     "text": [
      "Moviepy - Command successful\n",
      "Moviepy - Running:\n",
      ">>> \"+ \" \".join(cmd)\n"
     ]
    },
    {
     "name": "stderr",
     "output_type": "stream",
     "text": [
      "93it [02:01,  1.26s/it]"
     ]
    },
    {
     "name": "stdout",
     "output_type": "stream",
     "text": [
      "Moviepy - Command successful\n",
      "Moviepy - Running:\n",
      ">>> \"+ \" \".join(cmd)\n"
     ]
    },
    {
     "name": "stderr",
     "output_type": "stream",
     "text": [
      "93it [02:02,  1.26s/it]"
     ]
    },
    {
     "name": "stdout",
     "output_type": "stream",
     "text": [
      "Moviepy - Command successful\n",
      "Moviepy - Running:\n",
      ">>> \"+ \" \".join(cmd)\n",
      "Moviepy - Command successful\n",
      "Moviepy - Running:\n",
      ">>> \"+ \" \".join(cmd)\n",
      "Moviepy - Command successful\n",
      "Moviepy - Running:\n",
      ">>> \"+ \" \".join(cmd)\n"
     ]
    },
    {
     "name": "stderr",
     "output_type": "stream",
     "text": [
      "94it [02:02,  1.30s/it]"
     ]
    },
    {
     "name": "stdout",
     "output_type": "stream",
     "text": [
      "Moviepy - Command successful\n",
      "Moviepy - Running:\n",
      ">>> \"+ \" \".join(cmd)\n",
      "Moviepy - Command successful\n",
      "Moviepy - Running:\n",
      ">>> \"+ \" \".join(cmd)\n",
      "Moviepy - Command successful\n",
      "Moviepy - Running:\n",
      ">>> \"+ \" \".join(cmd)\n"
     ]
    },
    {
     "name": "stderr",
     "output_type": "stream",
     "text": [
      "94it [02:03,  1.30s/it]"
     ]
    },
    {
     "name": "stdout",
     "output_type": "stream",
     "text": [
      "Moviepy - Command successful\n",
      "Moviepy - Running:\n",
      ">>> \"+ \" \".join(cmd)\n"
     ]
    },
    {
     "name": "stderr",
     "output_type": "stream",
     "text": [
      "94it [02:03,  1.30s/it]"
     ]
    },
    {
     "name": "stdout",
     "output_type": "stream",
     "text": [
      "Moviepy - Command successful\n",
      "Moviepy - Running:\n",
      ">>> \"+ \" \".join(cmd)\n",
      "Moviepy - Command successful\n",
      "Moviepy - Running:\n",
      ">>> \"+ \" \".join(cmd)\n"
     ]
    },
    {
     "name": "stderr",
     "output_type": "stream",
     "text": [
      "95it [02:04,  1.41s/it]"
     ]
    },
    {
     "name": "stdout",
     "output_type": "stream",
     "text": [
      "Moviepy - Command successful\n",
      "Moviepy - Running:\n",
      ">>> \"+ \" \".join(cmd)\n",
      "Moviepy - Command successful\n",
      "Moviepy - Running:\n",
      ">>> \"+ \" \".join(cmd)\n"
     ]
    },
    {
     "name": "stderr",
     "output_type": "stream",
     "text": [
      "95it [02:04,  1.41s/it]"
     ]
    },
    {
     "name": "stdout",
     "output_type": "stream",
     "text": [
      "Moviepy - Command successful\n",
      "Moviepy - Running:\n",
      ">>> \"+ \" \".join(cmd)\n"
     ]
    },
    {
     "name": "stderr",
     "output_type": "stream",
     "text": [
      "96it [02:05,  1.24s/it]"
     ]
    },
    {
     "name": "stdout",
     "output_type": "stream",
     "text": [
      "Moviepy - Command successful\n",
      "Moviepy - Running:\n",
      ">>> \"+ \" \".join(cmd)\n",
      "Moviepy - Command successful\n",
      "Moviepy - Running:\n",
      ">>> \"+ \" \".join(cmd)\n",
      "Moviepy - Command successful\n",
      "Moviepy - Running:\n",
      ">>> \"+ \" \".join(cmd)\n"
     ]
    },
    {
     "name": "stderr",
     "output_type": "stream",
     "text": [
      "96it [02:05,  1.24s/it]"
     ]
    },
    {
     "name": "stdout",
     "output_type": "stream",
     "text": [
      "Moviepy - Command successful\n",
      "Moviepy - Running:\n",
      ">>> \"+ \" \".join(cmd)\n",
      "Moviepy - Command successful\n",
      "Moviepy - Running:\n",
      ">>> \"+ \" \".join(cmd)\n"
     ]
    },
    {
     "name": "stderr",
     "output_type": "stream",
     "text": [
      "96it [02:05,  1.24s/it]"
     ]
    },
    {
     "name": "stdout",
     "output_type": "stream",
     "text": [
      "Moviepy - Command successful\n",
      "Moviepy - Running:\n",
      ">>> \"+ \" \".join(cmd)\n"
     ]
    },
    {
     "name": "stderr",
     "output_type": "stream",
     "text": [
      "97it [02:06,  1.15s/it]"
     ]
    },
    {
     "name": "stdout",
     "output_type": "stream",
     "text": [
      "Moviepy - Command successful\n",
      "Moviepy - Running:\n",
      ">>> \"+ \" \".join(cmd)\n",
      "Moviepy - Command successful\n",
      "Moviepy - Running:\n",
      ">>> \"+ \" \".join(cmd)\n"
     ]
    },
    {
     "name": "stderr",
     "output_type": "stream",
     "text": [
      "97it [02:07,  1.15s/it]"
     ]
    },
    {
     "name": "stdout",
     "output_type": "stream",
     "text": [
      "Moviepy - Command successful\n",
      "Moviepy - Running:\n",
      ">>> \"+ \" \".join(cmd)\n"
     ]
    },
    {
     "name": "stderr",
     "output_type": "stream",
     "text": [
      "98it [02:08,  1.40s/it]"
     ]
    },
    {
     "name": "stdout",
     "output_type": "stream",
     "text": [
      "Moviepy - Command successful\n",
      "Moviepy - Running:\n",
      ">>> \"+ \" \".join(cmd)\n",
      "Moviepy - Command successful\n",
      "Moviepy - Running:\n",
      ">>> \"+ \" \".join(cmd)\n"
     ]
    },
    {
     "name": "stderr",
     "output_type": "stream",
     "text": [
      "99it [02:08,  1.09s/it]"
     ]
    },
    {
     "name": "stdout",
     "output_type": "stream",
     "text": [
      "Moviepy - Command successful\n",
      "Moviepy - Running:\n",
      ">>> \"+ \" \".join(cmd)\n",
      "Moviepy - Command successful\n",
      "Moviepy - Running:\n",
      ">>> \"+ \" \".join(cmd)\n",
      "Moviepy - Command successful\n",
      "Moviepy - Running:\n",
      ">>> \"+ \" \".join(cmd)\n"
     ]
    },
    {
     "name": "stderr",
     "output_type": "stream",
     "text": [
      "99it [02:08,  1.09s/it]"
     ]
    },
    {
     "name": "stdout",
     "output_type": "stream",
     "text": [
      "Moviepy - Command successful\n",
      "Moviepy - Running:\n",
      ">>> \"+ \" \".join(cmd)\n"
     ]
    },
    {
     "name": "stderr",
     "output_type": "stream",
     "text": [
      "100it [02:09,  1.30s/it]"
     ]
    },
    {
     "name": "stdout",
     "output_type": "stream",
     "text": [
      "Moviepy - Command successful\n",
      "Moviepy - Running:\n",
      ">>> \"+ \" \".join(cmd)\n",
      "Moviepy - Command successful\n",
      "Number of shots created: 522\n"
     ]
    },
    {
     "name": "stderr",
     "output_type": "stream",
     "text": [
      "\n"
     ]
    }
   ],
   "source": [
    "save_shots()"
   ]
  },
  {
   "cell_type": "markdown",
   "metadata": {},
   "source": [
    "### Labeling \n",
    "- Where, who, recommend_place, recommend_doing, recommend_eat, etc\n",
    "- 원핫인코딩으로 변환"
   ]
  },
  {
   "cell_type": "code",
   "execution_count": 4,
   "metadata": {},
   "outputs": [],
   "source": [
    "where = []\n",
    "who = []\n",
    "recommend_place = []\n",
    "recommend_doing = []\n",
    "recommend_eat = []\n",
    "etc = []"
   ]
  },
  {
   "cell_type": "markdown",
   "metadata": {},
   "source": [
    "모든 카테고리값을 각각의 label 리스트에 넣어주고 unique값만 뽑아보자"
   ]
  },
  {
   "cell_type": "code",
   "execution_count": 5,
   "metadata": {},
   "outputs": [
    {
     "name": "stderr",
     "output_type": "stream",
     "text": [
      "100%|██████████| 100/100 [00:00<00:00, 16319.61it/s]\n"
     ]
    }
   ],
   "source": [
    "for file_num in tqdm(ls):\n",
    "    with open('json_file/{}.txt'.format(file_num), encoding=\"UTF-8\") as json_file:\n",
    "        data = json.load(json_file)\n",
    "        for i in range(len(data)-1):\n",
    "            where.append(data[i+1]['fields']['where'])\n",
    "            who.append(data[i+1]['fields']['who'])\n",
    "            recommend_place.append(data[i+1]['fields']['recommend_place'])\n",
    "            recommend_doing.append(data[i+1]['fields']['recommend_doing'])\n",
    "            recommend_eat.append(data[i+1]['fields']['recommend_eat'])\n",
    "            etc.append(data[i+1]['fields']['etc'])"
   ]
  },
  {
   "cell_type": "code",
   "execution_count": 6,
   "metadata": {},
   "outputs": [],
   "source": [
    "def unique_value(ls):\n",
    "    return list(np.unique(ls))"
   ]
  },
  {
   "cell_type": "markdown",
   "metadata": {},
   "source": [
    "### 각각의 카테고리의 unique한 값들 저장"
   ]
  },
  {
   "cell_type": "code",
   "execution_count": 10,
   "metadata": {},
   "outputs": [],
   "source": [
    "#category = ['where', 'who', 'recommend_place', 'recommend_doing', 'recommend_eat', 'etc']"
   ]
  },
  {
   "cell_type": "code",
   "execution_count": 11,
   "metadata": {},
   "outputs": [],
   "source": [
    "#for cat in category:    \n",
    "#    globals()['{}_uniq'.format(cat)] = unique_value(cat)"
   ]
  },
  {
   "cell_type": "code",
   "execution_count": 7,
   "metadata": {},
   "outputs": [],
   "source": [
    "where_unique = unique_value(where)\n",
    "who_unique = unique_value(who)\n",
    "recommend_place_unique = unique_value(recommend_place)\n",
    "recommend_doing_unique = unique_value(recommend_doing)\n",
    "recommend_eat_unique = unique_value(recommend_eat)\n",
    "etc_unique = unique_value(etc)"
   ]
  },
  {
   "cell_type": "code",
   "execution_count": 138,
   "metadata": {},
   "outputs": [
    {
     "data": {
      "text/plain": [
       "['', '강남', '그 외', '남산', '노량진']"
      ]
     },
     "execution_count": 138,
     "metadata": {},
     "output_type": "execute_result"
    }
   ],
   "source": [
    "where_unique[:5]"
   ]
  },
  {
   "cell_type": "code",
   "execution_count": 139,
   "metadata": {},
   "outputs": [
    {
     "data": {
      "text/plain": [
       "['그 외', '남자', '남자 여자', '남자들', '남자들 여자들']"
      ]
     },
     "execution_count": 139,
     "metadata": {},
     "output_type": "execute_result"
    }
   ],
   "source": [
    "who_unique[:5]"
   ]
  },
  {
   "cell_type": "code",
   "execution_count": 140,
   "metadata": {},
   "outputs": [
    {
     "data": {
      "text/plain": [
       "['거리', '고궁', '공연', '공원', '그 외']"
      ]
     },
     "execution_count": 140,
     "metadata": {},
     "output_type": "execute_result"
    }
   ],
   "source": [
    "recommend_place_unique[:5]"
   ]
  },
  {
   "cell_type": "code",
   "execution_count": 141,
   "metadata": {},
   "outputs": [
    {
     "data": {
      "text/plain": [
       "['구경하다', '마시다', '먹다', '산책하다', '쇼핑하다']"
      ]
     },
     "execution_count": 141,
     "metadata": {},
     "output_type": "execute_result"
    }
   ],
   "source": [
    "recommend_doing_unique[:5]"
   ]
  },
  {
   "cell_type": "code",
   "execution_count": 39,
   "metadata": {},
   "outputs": [
    {
     "data": {
      "text/plain": [
       "['', '간식', '고기', '그 외', '길거리음식']"
      ]
     },
     "execution_count": 39,
     "metadata": {},
     "output_type": "execute_result"
    }
   ],
   "source": [
    "recommend_eat_unique[:5]"
   ]
  },
  {
   "cell_type": "code",
   "execution_count": 143,
   "metadata": {},
   "outputs": [
    {
     "data": {
      "text/plain": [
       "['그 외', '맛있게', '맛있는', '멋있는', '예쁜']"
      ]
     },
     "execution_count": 143,
     "metadata": {},
     "output_type": "execute_result"
    }
   ],
   "source": [
    "etc_unique[:5]"
   ]
  },
  {
   "cell_type": "markdown",
   "metadata": {},
   "source": [
    "### 모든 shot에 대한 label값 저장"
   ]
  },
  {
   "cell_type": "code",
   "execution_count": 13,
   "metadata": {},
   "outputs": [
    {
     "name": "stderr",
     "output_type": "stream",
     "text": [
      "100%|██████████| 100/100 [00:00<00:00, 12705.01it/s]\n"
     ]
    }
   ],
   "source": [
    "all_label = []\n",
    "for file_num in tqdm(ls):\n",
    "    with open('json_file/{}.txt'.format(file_num), encoding=\"UTF-8\") as json_file:\n",
    "        data = json.load(json_file)\n",
    "        for i in range(len(data)-1):\n",
    "            label = []\n",
    "            label.extend([data[i+1]['fields']['where'], data[i+1]['fields']['who'], data[i+1]['fields']['recommend_place'], \n",
    "                          data[i+1]['fields']['recommend_doing'], data[i+1]['fields']['recommend_eat'], data[i+1]['fields']['etc']])\n",
    "            all_label.append(label)"
   ]
  },
  {
   "cell_type": "code",
   "execution_count": 321,
   "metadata": {},
   "outputs": [
    {
     "data": {
      "text/plain": [
       "522"
      ]
     },
     "execution_count": 321,
     "metadata": {},
     "output_type": "execute_result"
    }
   ],
   "source": [
    "len(all_label)"
   ]
  },
  {
   "cell_type": "code",
   "execution_count": null,
   "metadata": {},
   "outputs": [],
   "source": []
  },
  {
   "cell_type": "markdown",
   "metadata": {},
   "source": [
    "### 데이터프레임 만들기\n",
    "- 각각의 카테고리별로 labeling"
   ]
  },
  {
   "cell_type": "code",
   "execution_count": 35,
   "metadata": {},
   "outputs": [],
   "source": [
    "df_video = pd.DataFrame(sorted(os.listdir('Video_shot')), columns=[\"name\"])\n",
    "df_video['where'] = where\n",
    "df_video['who'] = who\n",
    "df_video['recommend_place'] = recommend_place\n",
    "df_video['recommend_doing'] = recommend_doing\n",
    "df_video['recommend_eat'] = recommend_eat\n",
    "df_video['etc'] = etc"
   ]
  },
  {
   "cell_type": "code",
   "execution_count": 36,
   "metadata": {},
   "outputs": [],
   "source": [
    "df_video.to_csv(\"df_video.csv\", index=False, na_rep=\"\")"
   ]
  },
  {
   "cell_type": "code",
   "execution_count": 43,
   "metadata": {},
   "outputs": [],
   "source": [
    "df_video = pd.read_csv(\"df_video.csv\")\n",
    "df_video.replace(np.nan, '', regex=True, inplace=True)"
   ]
  },
  {
   "cell_type": "code",
   "execution_count": 44,
   "metadata": {},
   "outputs": [
    {
     "data": {
      "text/html": [
       "<div>\n",
       "<style scoped>\n",
       "    .dataframe tbody tr th:only-of-type {\n",
       "        vertical-align: middle;\n",
       "    }\n",
       "\n",
       "    .dataframe tbody tr th {\n",
       "        vertical-align: top;\n",
       "    }\n",
       "\n",
       "    .dataframe thead th {\n",
       "        text-align: right;\n",
       "    }\n",
       "</style>\n",
       "<table border=\"1\" class=\"dataframe\">\n",
       "  <thead>\n",
       "    <tr style=\"text-align: right;\">\n",
       "      <th></th>\n",
       "      <th>name</th>\n",
       "      <th>where</th>\n",
       "      <th>who</th>\n",
       "      <th>recommend_place</th>\n",
       "      <th>recommend_doing</th>\n",
       "      <th>recommend_eat</th>\n",
       "      <th>etc</th>\n",
       "    </tr>\n",
       "  </thead>\n",
       "  <tbody>\n",
       "    <tr>\n",
       "      <th>0</th>\n",
       "      <td>video105-shot01.mp4</td>\n",
       "      <td>그 외</td>\n",
       "      <td>여자</td>\n",
       "      <td>놀이동산</td>\n",
       "      <td>타다</td>\n",
       "      <td></td>\n",
       "      <td>재밌는</td>\n",
       "    </tr>\n",
       "    <tr>\n",
       "      <th>1</th>\n",
       "      <td>video105-shot02.mp4</td>\n",
       "      <td>그 외</td>\n",
       "      <td>여자</td>\n",
       "      <td>놀이동산</td>\n",
       "      <td>타다</td>\n",
       "      <td></td>\n",
       "      <td>재밌는</td>\n",
       "    </tr>\n",
       "    <tr>\n",
       "      <th>2</th>\n",
       "      <td>video105-shot03.mp4</td>\n",
       "      <td>그 외</td>\n",
       "      <td>여자</td>\n",
       "      <td>거리</td>\n",
       "      <td>먹다</td>\n",
       "      <td>길거리음식</td>\n",
       "      <td>맛있는</td>\n",
       "    </tr>\n",
       "    <tr>\n",
       "      <th>3</th>\n",
       "      <td>video105-shot04.mp4</td>\n",
       "      <td>그 외</td>\n",
       "      <td>여자</td>\n",
       "      <td>놀이동산</td>\n",
       "      <td>타다</td>\n",
       "      <td></td>\n",
       "      <td>재밌는</td>\n",
       "    </tr>\n",
       "    <tr>\n",
       "      <th>4</th>\n",
       "      <td>video105-shot05.mp4</td>\n",
       "      <td>그 외</td>\n",
       "      <td>여자</td>\n",
       "      <td>음식점</td>\n",
       "      <td>먹다</td>\n",
       "      <td>양식</td>\n",
       "      <td>맛있는</td>\n",
       "    </tr>\n",
       "    <tr>\n",
       "      <th>...</th>\n",
       "      <td>...</td>\n",
       "      <td>...</td>\n",
       "      <td>...</td>\n",
       "      <td>...</td>\n",
       "      <td>...</td>\n",
       "      <td>...</td>\n",
       "      <td>...</td>\n",
       "    </tr>\n",
       "    <tr>\n",
       "      <th>517</th>\n",
       "      <td>video205-shot01.mp4</td>\n",
       "      <td>그 외</td>\n",
       "      <td>그 외</td>\n",
       "      <td>음식점</td>\n",
       "      <td>먹다</td>\n",
       "      <td>일식</td>\n",
       "      <td>맛있는</td>\n",
       "    </tr>\n",
       "    <tr>\n",
       "      <th>518</th>\n",
       "      <td>video205-shot02.mp4</td>\n",
       "      <td>그 외</td>\n",
       "      <td>그 외</td>\n",
       "      <td>음식점</td>\n",
       "      <td>먹다</td>\n",
       "      <td>양식</td>\n",
       "      <td>맛있는</td>\n",
       "    </tr>\n",
       "    <tr>\n",
       "      <th>519</th>\n",
       "      <td>video205-shot03.mp4</td>\n",
       "      <td>그 외</td>\n",
       "      <td>남자</td>\n",
       "      <td>공원</td>\n",
       "      <td>산책하다</td>\n",
       "      <td></td>\n",
       "      <td>예쁜</td>\n",
       "    </tr>\n",
       "    <tr>\n",
       "      <th>520</th>\n",
       "      <td>video205-shot04.mp4</td>\n",
       "      <td>잠실</td>\n",
       "      <td>남자</td>\n",
       "      <td>공연</td>\n",
       "      <td>구경하다</td>\n",
       "      <td></td>\n",
       "      <td>재밌는</td>\n",
       "    </tr>\n",
       "    <tr>\n",
       "      <th>521</th>\n",
       "      <td>video205-shot05.mp4</td>\n",
       "      <td>잠실</td>\n",
       "      <td>그 외</td>\n",
       "      <td>음식점</td>\n",
       "      <td>먹다</td>\n",
       "      <td>고기</td>\n",
       "      <td>맛있는</td>\n",
       "    </tr>\n",
       "  </tbody>\n",
       "</table>\n",
       "<p>522 rows × 7 columns</p>\n",
       "</div>"
      ],
      "text/plain": [
       "                    name where  who recommend_place recommend_doing  \\\n",
       "0    video105-shot01.mp4   그 외   여자            놀이동산              타다   \n",
       "1    video105-shot02.mp4   그 외   여자            놀이동산              타다   \n",
       "2    video105-shot03.mp4   그 외   여자              거리              먹다   \n",
       "3    video105-shot04.mp4   그 외   여자            놀이동산              타다   \n",
       "4    video105-shot05.mp4   그 외   여자             음식점              먹다   \n",
       "..                   ...   ...  ...             ...             ...   \n",
       "517  video205-shot01.mp4   그 외  그 외             음식점              먹다   \n",
       "518  video205-shot02.mp4   그 외  그 외             음식점              먹다   \n",
       "519  video205-shot03.mp4   그 외   남자              공원            산책하다   \n",
       "520  video205-shot04.mp4    잠실   남자              공연            구경하다   \n",
       "521  video205-shot05.mp4    잠실  그 외             음식점              먹다   \n",
       "\n",
       "    recommend_eat  etc  \n",
       "0                  재밌는  \n",
       "1                  재밌는  \n",
       "2           길거리음식  맛있는  \n",
       "3                  재밌는  \n",
       "4              양식  맛있는  \n",
       "..            ...  ...  \n",
       "517            일식  맛있는  \n",
       "518            양식  맛있는  \n",
       "519                 예쁜  \n",
       "520                재밌는  \n",
       "521            고기  맛있는  \n",
       "\n",
       "[522 rows x 7 columns]"
      ]
     },
     "execution_count": 44,
     "metadata": {},
     "output_type": "execute_result"
    }
   ],
   "source": [
    "df_video"
   ]
  },
  {
   "cell_type": "markdown",
   "metadata": {},
   "source": [
    "#### 클래스명과 숫자 mapping"
   ]
  },
  {
   "cell_type": "code",
   "execution_count": 45,
   "metadata": {},
   "outputs": [],
   "source": [
    "where_label = dict(zip(where_unique, range(0, len(where_unique))))\n",
    "who_label = dict(zip(who_unique, range(0, len(who_unique))))\n",
    "place_label = dict(zip(recommend_place_unique, range(0, len(recommend_place_unique))))\n",
    "doing_label = dict(zip(recommend_doing_unique, range(0, len(recommend_doing_unique))))\n",
    "eat_label = dict(zip(recommend_eat_unique, range(0, len(recommend_eat_unique))))\n",
    "etc_label = dict(zip(etc_unique, range(0, len(etc_unique))))"
   ]
  },
  {
   "cell_type": "markdown",
   "metadata": {},
   "source": [
    "#### Label 숫자로 변경한 데이터프레임\n",
    "- \"label\" column 추가"
   ]
  },
  {
   "cell_type": "code",
   "execution_count": 46,
   "metadata": {},
   "outputs": [
    {
     "data": {
      "text/html": [
       "<div>\n",
       "<style scoped>\n",
       "    .dataframe tbody tr th:only-of-type {\n",
       "        vertical-align: middle;\n",
       "    }\n",
       "\n",
       "    .dataframe tbody tr th {\n",
       "        vertical-align: top;\n",
       "    }\n",
       "\n",
       "    .dataframe thead th {\n",
       "        text-align: right;\n",
       "    }\n",
       "</style>\n",
       "<table border=\"1\" class=\"dataframe\">\n",
       "  <thead>\n",
       "    <tr style=\"text-align: right;\">\n",
       "      <th></th>\n",
       "      <th>name</th>\n",
       "      <th>where</th>\n",
       "      <th>who</th>\n",
       "      <th>recommend_place</th>\n",
       "      <th>recommend_doing</th>\n",
       "      <th>recommend_eat</th>\n",
       "      <th>etc</th>\n",
       "    </tr>\n",
       "  </thead>\n",
       "  <tbody>\n",
       "    <tr>\n",
       "      <th>0</th>\n",
       "      <td>video105-shot01.mp4</td>\n",
       "      <td>그 외</td>\n",
       "      <td>여자</td>\n",
       "      <td>놀이동산</td>\n",
       "      <td>타다</td>\n",
       "      <td>NaN</td>\n",
       "      <td>재밌는</td>\n",
       "    </tr>\n",
       "    <tr>\n",
       "      <th>1</th>\n",
       "      <td>video105-shot02.mp4</td>\n",
       "      <td>그 외</td>\n",
       "      <td>여자</td>\n",
       "      <td>놀이동산</td>\n",
       "      <td>타다</td>\n",
       "      <td>NaN</td>\n",
       "      <td>재밌는</td>\n",
       "    </tr>\n",
       "    <tr>\n",
       "      <th>2</th>\n",
       "      <td>video105-shot03.mp4</td>\n",
       "      <td>그 외</td>\n",
       "      <td>여자</td>\n",
       "      <td>거리</td>\n",
       "      <td>먹다</td>\n",
       "      <td>길거리음식</td>\n",
       "      <td>맛있는</td>\n",
       "    </tr>\n",
       "    <tr>\n",
       "      <th>3</th>\n",
       "      <td>video105-shot04.mp4</td>\n",
       "      <td>그 외</td>\n",
       "      <td>여자</td>\n",
       "      <td>놀이동산</td>\n",
       "      <td>타다</td>\n",
       "      <td>NaN</td>\n",
       "      <td>재밌는</td>\n",
       "    </tr>\n",
       "    <tr>\n",
       "      <th>4</th>\n",
       "      <td>video105-shot05.mp4</td>\n",
       "      <td>그 외</td>\n",
       "      <td>여자</td>\n",
       "      <td>음식점</td>\n",
       "      <td>먹다</td>\n",
       "      <td>양식</td>\n",
       "      <td>맛있는</td>\n",
       "    </tr>\n",
       "    <tr>\n",
       "      <th>...</th>\n",
       "      <td>...</td>\n",
       "      <td>...</td>\n",
       "      <td>...</td>\n",
       "      <td>...</td>\n",
       "      <td>...</td>\n",
       "      <td>...</td>\n",
       "      <td>...</td>\n",
       "    </tr>\n",
       "    <tr>\n",
       "      <th>517</th>\n",
       "      <td>video205-shot01.mp4</td>\n",
       "      <td>그 외</td>\n",
       "      <td>그 외</td>\n",
       "      <td>음식점</td>\n",
       "      <td>먹다</td>\n",
       "      <td>일식</td>\n",
       "      <td>맛있는</td>\n",
       "    </tr>\n",
       "    <tr>\n",
       "      <th>518</th>\n",
       "      <td>video205-shot02.mp4</td>\n",
       "      <td>그 외</td>\n",
       "      <td>그 외</td>\n",
       "      <td>음식점</td>\n",
       "      <td>먹다</td>\n",
       "      <td>양식</td>\n",
       "      <td>맛있는</td>\n",
       "    </tr>\n",
       "    <tr>\n",
       "      <th>519</th>\n",
       "      <td>video205-shot03.mp4</td>\n",
       "      <td>그 외</td>\n",
       "      <td>남자</td>\n",
       "      <td>공원</td>\n",
       "      <td>산책하다</td>\n",
       "      <td>NaN</td>\n",
       "      <td>예쁜</td>\n",
       "    </tr>\n",
       "    <tr>\n",
       "      <th>520</th>\n",
       "      <td>video205-shot04.mp4</td>\n",
       "      <td>잠실</td>\n",
       "      <td>남자</td>\n",
       "      <td>공연</td>\n",
       "      <td>구경하다</td>\n",
       "      <td>NaN</td>\n",
       "      <td>재밌는</td>\n",
       "    </tr>\n",
       "    <tr>\n",
       "      <th>521</th>\n",
       "      <td>video205-shot05.mp4</td>\n",
       "      <td>잠실</td>\n",
       "      <td>그 외</td>\n",
       "      <td>음식점</td>\n",
       "      <td>먹다</td>\n",
       "      <td>고기</td>\n",
       "      <td>맛있는</td>\n",
       "    </tr>\n",
       "  </tbody>\n",
       "</table>\n",
       "<p>522 rows × 7 columns</p>\n",
       "</div>"
      ],
      "text/plain": [
       "                    name where  who recommend_place recommend_doing  \\\n",
       "0    video105-shot01.mp4   그 외   여자            놀이동산              타다   \n",
       "1    video105-shot02.mp4   그 외   여자            놀이동산              타다   \n",
       "2    video105-shot03.mp4   그 외   여자              거리              먹다   \n",
       "3    video105-shot04.mp4   그 외   여자            놀이동산              타다   \n",
       "4    video105-shot05.mp4   그 외   여자             음식점              먹다   \n",
       "..                   ...   ...  ...             ...             ...   \n",
       "517  video205-shot01.mp4   그 외  그 외             음식점              먹다   \n",
       "518  video205-shot02.mp4   그 외  그 외             음식점              먹다   \n",
       "519  video205-shot03.mp4   그 외   남자              공원            산책하다   \n",
       "520  video205-shot04.mp4    잠실   남자              공연            구경하다   \n",
       "521  video205-shot05.mp4    잠실  그 외             음식점              먹다   \n",
       "\n",
       "    recommend_eat  etc  \n",
       "0             NaN  재밌는  \n",
       "1             NaN  재밌는  \n",
       "2           길거리음식  맛있는  \n",
       "3             NaN  재밌는  \n",
       "4              양식  맛있는  \n",
       "..            ...  ...  \n",
       "517            일식  맛있는  \n",
       "518            양식  맛있는  \n",
       "519           NaN   예쁜  \n",
       "520           NaN  재밌는  \n",
       "521            고기  맛있는  \n",
       "\n",
       "[522 rows x 7 columns]"
      ]
     },
     "execution_count": 46,
     "metadata": {},
     "output_type": "execute_result"
    }
   ],
   "source": [
    "df_video_label"
   ]
  },
  {
   "cell_type": "code",
   "execution_count": 179,
   "metadata": {},
   "outputs": [],
   "source": [
    "df_video_label = df_video.copy()\n",
    "df_video_label['where'] = df_video_label['where'].apply(lambda x: where_label[x])\n",
    "df_video_label['who'] = df_video_label['who'].apply(lambda x: who_label[x])\n",
    "df_video_label['recommend_place'] = df_video_label['recommend_place'].apply(lambda x: place_label[x])\n",
    "df_video_label['recommend_doing'] = df_video_label['recommend_doing'].apply(lambda x: doing_label[x])\n",
    "df_video_label['recommend_eat'] = df_video_label['recommend_eat'].apply(lambda x: eat_label[x])\n",
    "df_video_label['etc'] = df_video_label['etc'].apply(lambda x: etc_label[x])\n",
    "df_video_label['label'] = [list(df_video_label.loc[i][1:]) for i in range(522)]"
   ]
  },
  {
   "cell_type": "code",
   "execution_count": 49,
   "metadata": {},
   "outputs": [],
   "source": [
    "df_video_label.to_csv(\"df_video_label.csv\", index=False)"
   ]
  },
  {
   "cell_type": "code",
   "execution_count": 50,
   "metadata": {},
   "outputs": [
    {
     "data": {
      "text/html": [
       "<div>\n",
       "<style scoped>\n",
       "    .dataframe tbody tr th:only-of-type {\n",
       "        vertical-align: middle;\n",
       "    }\n",
       "\n",
       "    .dataframe tbody tr th {\n",
       "        vertical-align: top;\n",
       "    }\n",
       "\n",
       "    .dataframe thead th {\n",
       "        text-align: right;\n",
       "    }\n",
       "</style>\n",
       "<table border=\"1\" class=\"dataframe\">\n",
       "  <thead>\n",
       "    <tr style=\"text-align: right;\">\n",
       "      <th></th>\n",
       "      <th>name</th>\n",
       "      <th>where</th>\n",
       "      <th>who</th>\n",
       "      <th>recommend_place</th>\n",
       "      <th>recommend_doing</th>\n",
       "      <th>recommend_eat</th>\n",
       "      <th>etc</th>\n",
       "      <th>label</th>\n",
       "    </tr>\n",
       "  </thead>\n",
       "  <tbody>\n",
       "    <tr>\n",
       "      <th>0</th>\n",
       "      <td>video105-shot01.mp4</td>\n",
       "      <td>2</td>\n",
       "      <td>5</td>\n",
       "      <td>6</td>\n",
       "      <td>5</td>\n",
       "      <td>0</td>\n",
       "      <td>3</td>\n",
       "      <td>[2, 5, 6, 5, 0, 3]</td>\n",
       "    </tr>\n",
       "    <tr>\n",
       "      <th>1</th>\n",
       "      <td>video105-shot02.mp4</td>\n",
       "      <td>2</td>\n",
       "      <td>5</td>\n",
       "      <td>6</td>\n",
       "      <td>5</td>\n",
       "      <td>0</td>\n",
       "      <td>3</td>\n",
       "      <td>[2, 5, 6, 5, 0, 3]</td>\n",
       "    </tr>\n",
       "    <tr>\n",
       "      <th>2</th>\n",
       "      <td>video105-shot03.mp4</td>\n",
       "      <td>2</td>\n",
       "      <td>5</td>\n",
       "      <td>0</td>\n",
       "      <td>2</td>\n",
       "      <td>4</td>\n",
       "      <td>0</td>\n",
       "      <td>[2, 5, 0, 2, 4, 0]</td>\n",
       "    </tr>\n",
       "    <tr>\n",
       "      <th>3</th>\n",
       "      <td>video105-shot04.mp4</td>\n",
       "      <td>2</td>\n",
       "      <td>5</td>\n",
       "      <td>6</td>\n",
       "      <td>5</td>\n",
       "      <td>0</td>\n",
       "      <td>3</td>\n",
       "      <td>[2, 5, 6, 5, 0, 3]</td>\n",
       "    </tr>\n",
       "    <tr>\n",
       "      <th>4</th>\n",
       "      <td>video105-shot05.mp4</td>\n",
       "      <td>2</td>\n",
       "      <td>5</td>\n",
       "      <td>16</td>\n",
       "      <td>2</td>\n",
       "      <td>9</td>\n",
       "      <td>0</td>\n",
       "      <td>[2, 5, 16, 2, 9, 0]</td>\n",
       "    </tr>\n",
       "    <tr>\n",
       "      <th>...</th>\n",
       "      <td>...</td>\n",
       "      <td>...</td>\n",
       "      <td>...</td>\n",
       "      <td>...</td>\n",
       "      <td>...</td>\n",
       "      <td>...</td>\n",
       "      <td>...</td>\n",
       "      <td>...</td>\n",
       "    </tr>\n",
       "    <tr>\n",
       "      <th>517</th>\n",
       "      <td>video205-shot01.mp4</td>\n",
       "      <td>2</td>\n",
       "      <td>0</td>\n",
       "      <td>16</td>\n",
       "      <td>2</td>\n",
       "      <td>10</td>\n",
       "      <td>0</td>\n",
       "      <td>[2, 0, 16, 2, 10, 0]</td>\n",
       "    </tr>\n",
       "    <tr>\n",
       "      <th>518</th>\n",
       "      <td>video205-shot02.mp4</td>\n",
       "      <td>2</td>\n",
       "      <td>0</td>\n",
       "      <td>16</td>\n",
       "      <td>2</td>\n",
       "      <td>9</td>\n",
       "      <td>0</td>\n",
       "      <td>[2, 0, 16, 2, 9, 0]</td>\n",
       "    </tr>\n",
       "    <tr>\n",
       "      <th>519</th>\n",
       "      <td>video205-shot03.mp4</td>\n",
       "      <td>2</td>\n",
       "      <td>1</td>\n",
       "      <td>3</td>\n",
       "      <td>3</td>\n",
       "      <td>0</td>\n",
       "      <td>2</td>\n",
       "      <td>[2, 1, 3, 3, 0, 2]</td>\n",
       "    </tr>\n",
       "    <tr>\n",
       "      <th>520</th>\n",
       "      <td>video205-shot04.mp4</td>\n",
       "      <td>13</td>\n",
       "      <td>1</td>\n",
       "      <td>2</td>\n",
       "      <td>0</td>\n",
       "      <td>0</td>\n",
       "      <td>3</td>\n",
       "      <td>[13, 1, 2, 0, 0, 3]</td>\n",
       "    </tr>\n",
       "    <tr>\n",
       "      <th>521</th>\n",
       "      <td>video205-shot05.mp4</td>\n",
       "      <td>13</td>\n",
       "      <td>0</td>\n",
       "      <td>16</td>\n",
       "      <td>2</td>\n",
       "      <td>2</td>\n",
       "      <td>0</td>\n",
       "      <td>[13, 0, 16, 2, 2, 0]</td>\n",
       "    </tr>\n",
       "  </tbody>\n",
       "</table>\n",
       "<p>522 rows × 8 columns</p>\n",
       "</div>"
      ],
      "text/plain": [
       "                    name  where  who  recommend_place  recommend_doing  \\\n",
       "0    video105-shot01.mp4      2    5                6                5   \n",
       "1    video105-shot02.mp4      2    5                6                5   \n",
       "2    video105-shot03.mp4      2    5                0                2   \n",
       "3    video105-shot04.mp4      2    5                6                5   \n",
       "4    video105-shot05.mp4      2    5               16                2   \n",
       "..                   ...    ...  ...              ...              ...   \n",
       "517  video205-shot01.mp4      2    0               16                2   \n",
       "518  video205-shot02.mp4      2    0               16                2   \n",
       "519  video205-shot03.mp4      2    1                3                3   \n",
       "520  video205-shot04.mp4     13    1                2                0   \n",
       "521  video205-shot05.mp4     13    0               16                2   \n",
       "\n",
       "     recommend_eat  etc                 label  \n",
       "0                0    3    [2, 5, 6, 5, 0, 3]  \n",
       "1                0    3    [2, 5, 6, 5, 0, 3]  \n",
       "2                4    0    [2, 5, 0, 2, 4, 0]  \n",
       "3                0    3    [2, 5, 6, 5, 0, 3]  \n",
       "4                9    0   [2, 5, 16, 2, 9, 0]  \n",
       "..             ...  ...                   ...  \n",
       "517             10    0  [2, 0, 16, 2, 10, 0]  \n",
       "518              9    0   [2, 0, 16, 2, 9, 0]  \n",
       "519              0    2    [2, 1, 3, 3, 0, 2]  \n",
       "520              0    3   [13, 1, 2, 0, 0, 3]  \n",
       "521              2    0  [13, 0, 16, 2, 2, 0]  \n",
       "\n",
       "[522 rows x 8 columns]"
      ]
     },
     "execution_count": 50,
     "metadata": {},
     "output_type": "execute_result"
    }
   ],
   "source": [
    "df_video_label = pd.read_csv(\"df_video_label.csv\")\n",
    "df_video_label"
   ]
  },
  {
   "cell_type": "code",
   "execution_count": 167,
   "metadata": {},
   "outputs": [
    {
     "data": {
      "text/plain": [
       "[2, 5, 6, 5, 0, 3]"
      ]
     },
     "execution_count": 167,
     "metadata": {},
     "output_type": "execute_result"
    }
   ],
   "source": [
    "df_video_label['label'].apply(lambda x: json.loads(x))"
   ]
  },
  {
   "cell_type": "code",
   "execution_count": 165,
   "metadata": {},
   "outputs": [
    {
     "data": {
      "text/plain": [
       "'[2, 5, 6, 5, 0, 3]'"
      ]
     },
     "execution_count": 165,
     "metadata": {},
     "output_type": "execute_result"
    }
   ],
   "source": [
    "df_video_label['label'][0]"
   ]
  },
  {
   "cell_type": "markdown",
   "metadata": {},
   "source": [
    "#### 각각의 카테고리 분포 확인\n",
    "- 분포를 고르게 만들어 줄 필요가있다. 분포가 적은 label은 예측하기 어려울 수 있다."
   ]
  },
  {
   "cell_type": "code",
   "execution_count": 327,
   "metadata": {},
   "outputs": [
    {
     "data": {
      "text/plain": [
       "Text(0.5, 1.0, 'where')"
      ]
     },
     "execution_count": 327,
     "metadata": {},
     "output_type": "execute_result"
    },
    {
     "data": {
      "image/png": "[encoded data removed]",
      "text/plain": [
       "<Figure size 432x288 with 1 Axes>"
      ]
     },
     "metadata": {
      "needs_background": "light"
     },
     "output_type": "display_data"
    }
   ],
   "source": [
    "(df_video_label['where'].value_counts()).plot.barh()\n",
    "plt.title(\"where\")"
   ]
  },
  {
   "cell_type": "code",
   "execution_count": 328,
   "metadata": {
    "collapsed": true,
    "jupyter": {
     "outputs_hidden": true
    }
   },
   "outputs": [
    {
     "data": {
      "text/plain": [
       "Text(0.5, 1.0, 'who')"
      ]
     },
     "execution_count": 328,
     "metadata": {},
     "output_type": "execute_result"
    },
    {
     "data": {
      "image/png": "[encoded data removed]",
      "text/plain": [
       "<Figure size 432x288 with 1 Axes>"
      ]
     },
     "metadata": {
      "needs_background": "light"
     },
     "output_type": "display_data"
    }
   ],
   "source": [
    "(df_video_label['who'].value_counts()).plot.barh()\n",
    "plt.title(\"who\")"
   ]
  },
  {
   "cell_type": "code",
   "execution_count": 329,
   "metadata": {
    "collapsed": true,
    "jupyter": {
     "outputs_hidden": true
    }
   },
   "outputs": [
    {
     "data": {
      "text/plain": [
       "Text(0.5, 1.0, 'recommend_place')"
      ]
     },
     "execution_count": 329,
     "metadata": {},
     "output_type": "execute_result"
    },
    {
     "data": {
      "image/png": "[encoded data removed]",
      "text/plain": [
       "<Figure size 432x288 with 1 Axes>"
      ]
     },
     "metadata": {
      "needs_background": "light"
     },
     "output_type": "display_data"
    }
   ],
   "source": [
    "(df_video_label['recommend_place'].value_counts()).plot.barh()\n",
    "plt.title(\"recommend_place\")"
   ]
  },
  {
   "cell_type": "code",
   "execution_count": 330,
   "metadata": {
    "collapsed": true,
    "jupyter": {
     "outputs_hidden": true
    }
   },
   "outputs": [
    {
     "data": {
      "text/plain": [
       "Text(0.5, 1.0, 'recommend_eat')"
      ]
     },
     "execution_count": 330,
     "metadata": {},
     "output_type": "execute_result"
    },
    {
     "data": {
      "image/png": "[encoded data removed]",
      "text/plain": [
       "<Figure size 432x288 with 1 Axes>"
      ]
     },
     "metadata": {
      "needs_background": "light"
     },
     "output_type": "display_data"
    }
   ],
   "source": [
    "(df_video_label['recommend_eat'].value_counts()).plot.barh()\n",
    "plt.title(\"recommend_eat\")"
   ]
  },
  {
   "cell_type": "code",
   "execution_count": 331,
   "metadata": {
    "collapsed": true,
    "jupyter": {
     "outputs_hidden": true
    }
   },
   "outputs": [
    {
     "data": {
      "text/plain": [
       "Text(0.5, 1.0, 'recommend_doing')"
      ]
     },
     "execution_count": 331,
     "metadata": {},
     "output_type": "execute_result"
    },
    {
     "data": {
      "image/png": "[encoded data removed]",
      "text/plain": [
       "<Figure size 432x288 with 1 Axes>"
      ]
     },
     "metadata": {
      "needs_background": "light"
     },
     "output_type": "display_data"
    }
   ],
   "source": [
    "(df_video_label['recommend_doing'].value_counts()).plot.barh()\n",
    "plt.title(\"recommend_doing\")"
   ]
  },
  {
   "cell_type": "code",
   "execution_count": 332,
   "metadata": {
    "collapsed": true,
    "jupyter": {
     "outputs_hidden": true
    }
   },
   "outputs": [
    {
     "data": {
      "text/plain": [
       "Text(0.5, 1.0, 'etc')"
      ]
     },
     "execution_count": 332,
     "metadata": {},
     "output_type": "execute_result"
    },
    {
     "data": {
      "image/png": "[encoded data removed]",
      "text/plain": [
       "<Figure size 432x288 with 1 Axes>"
      ]
     },
     "metadata": {
      "needs_background": "light"
     },
     "output_type": "display_data"
    }
   ],
   "source": [
    "(df_video_label['etc'].value_counts()).plot.barh()\n",
    "plt.title(\"etc\")"
   ]
  },
  {
   "cell_type": "code",
   "execution_count": null,
   "metadata": {},
   "outputs": [],
   "source": []
  },
  {
   "cell_type": "markdown",
   "metadata": {},
   "source": [
    "### 비디오 데이터를 학습\n",
    "- Train, Test로 데이터를 나눠보자\n",
    "    - 8:2로 나누는데 일단 train set에 모든 각 카테고리의 모든 label이 포함되어있는지 확인"
   ]
  },
  {
   "cell_type": "code",
   "execution_count": 138,
   "metadata": {},
   "outputs": [
    {
     "data": {
      "text/html": [
       "<div>\n",
       "<style scoped>\n",
       "    .dataframe tbody tr th:only-of-type {\n",
       "        vertical-align: middle;\n",
       "    }\n",
       "\n",
       "    .dataframe tbody tr th {\n",
       "        vertical-align: top;\n",
       "    }\n",
       "\n",
       "    .dataframe thead th {\n",
       "        text-align: right;\n",
       "    }\n",
       "</style>\n",
       "<table border=\"1\" class=\"dataframe\">\n",
       "  <thead>\n",
       "    <tr style=\"text-align: right;\">\n",
       "      <th></th>\n",
       "      <th>name</th>\n",
       "      <th>where</th>\n",
       "      <th>who</th>\n",
       "      <th>recommend_place</th>\n",
       "      <th>recommend_doing</th>\n",
       "      <th>recommend_eat</th>\n",
       "      <th>etc</th>\n",
       "      <th>label</th>\n",
       "    </tr>\n",
       "  </thead>\n",
       "  <tbody>\n",
       "    <tr>\n",
       "      <th>0</th>\n",
       "      <td>video105-shot01.mp4</td>\n",
       "      <td>2</td>\n",
       "      <td>5</td>\n",
       "      <td>6</td>\n",
       "      <td>5</td>\n",
       "      <td>0</td>\n",
       "      <td>3</td>\n",
       "      <td>[2, 5, 6, 5, 0, 3]</td>\n",
       "    </tr>\n",
       "    <tr>\n",
       "      <th>1</th>\n",
       "      <td>video105-shot02.mp4</td>\n",
       "      <td>2</td>\n",
       "      <td>5</td>\n",
       "      <td>6</td>\n",
       "      <td>5</td>\n",
       "      <td>0</td>\n",
       "      <td>3</td>\n",
       "      <td>[2, 5, 6, 5, 0, 3]</td>\n",
       "    </tr>\n",
       "    <tr>\n",
       "      <th>2</th>\n",
       "      <td>video105-shot03.mp4</td>\n",
       "      <td>2</td>\n",
       "      <td>5</td>\n",
       "      <td>0</td>\n",
       "      <td>2</td>\n",
       "      <td>4</td>\n",
       "      <td>0</td>\n",
       "      <td>[2, 5, 0, 2, 4, 0]</td>\n",
       "    </tr>\n",
       "    <tr>\n",
       "      <th>3</th>\n",
       "      <td>video105-shot04.mp4</td>\n",
       "      <td>2</td>\n",
       "      <td>5</td>\n",
       "      <td>6</td>\n",
       "      <td>5</td>\n",
       "      <td>0</td>\n",
       "      <td>3</td>\n",
       "      <td>[2, 5, 6, 5, 0, 3]</td>\n",
       "    </tr>\n",
       "    <tr>\n",
       "      <th>4</th>\n",
       "      <td>video105-shot05.mp4</td>\n",
       "      <td>2</td>\n",
       "      <td>5</td>\n",
       "      <td>16</td>\n",
       "      <td>2</td>\n",
       "      <td>9</td>\n",
       "      <td>0</td>\n",
       "      <td>[2, 5, 16, 2, 9, 0]</td>\n",
       "    </tr>\n",
       "  </tbody>\n",
       "</table>\n",
       "</div>"
      ],
      "text/plain": [
       "                  name  where  who  recommend_place  recommend_doing  \\\n",
       "0  video105-shot01.mp4      2    5                6                5   \n",
       "1  video105-shot02.mp4      2    5                6                5   \n",
       "2  video105-shot03.mp4      2    5                0                2   \n",
       "3  video105-shot04.mp4      2    5                6                5   \n",
       "4  video105-shot05.mp4      2    5               16                2   \n",
       "\n",
       "   recommend_eat  etc                label  \n",
       "0              0    3   [2, 5, 6, 5, 0, 3]  \n",
       "1              0    3   [2, 5, 6, 5, 0, 3]  \n",
       "2              4    0   [2, 5, 0, 2, 4, 0]  \n",
       "3              0    3   [2, 5, 6, 5, 0, 3]  \n",
       "4              9    0  [2, 5, 16, 2, 9, 0]  "
      ]
     },
     "execution_count": 138,
     "metadata": {},
     "output_type": "execute_result"
    }
   ],
   "source": [
    "df_train = df_video_label[:420]\n",
    "df_train.head()"
   ]
  },
  {
   "cell_type": "code",
   "execution_count": 148,
   "metadata": {},
   "outputs": [
    {
     "data": {
      "text/html": [
       "<div>\n",
       "<style scoped>\n",
       "    .dataframe tbody tr th:only-of-type {\n",
       "        vertical-align: middle;\n",
       "    }\n",
       "\n",
       "    .dataframe tbody tr th {\n",
       "        vertical-align: top;\n",
       "    }\n",
       "\n",
       "    .dataframe thead th {\n",
       "        text-align: right;\n",
       "    }\n",
       "</style>\n",
       "<table border=\"1\" class=\"dataframe\">\n",
       "  <thead>\n",
       "    <tr style=\"text-align: right;\">\n",
       "      <th></th>\n",
       "      <th>name</th>\n",
       "      <th>where</th>\n",
       "      <th>who</th>\n",
       "      <th>recommend_place</th>\n",
       "      <th>recommend_doing</th>\n",
       "      <th>recommend_eat</th>\n",
       "      <th>etc</th>\n",
       "      <th>label</th>\n",
       "    </tr>\n",
       "  </thead>\n",
       "  <tbody>\n",
       "    <tr>\n",
       "      <th>0</th>\n",
       "      <td>video184-shot07.mp4</td>\n",
       "      <td>7</td>\n",
       "      <td>0</td>\n",
       "      <td>19</td>\n",
       "      <td>2</td>\n",
       "      <td>7</td>\n",
       "      <td>0</td>\n",
       "      <td>[7, 0, 19, 2, 7, 0]</td>\n",
       "    </tr>\n",
       "    <tr>\n",
       "      <th>1</th>\n",
       "      <td>video185-shot01.mp4</td>\n",
       "      <td>2</td>\n",
       "      <td>5</td>\n",
       "      <td>6</td>\n",
       "      <td>5</td>\n",
       "      <td>0</td>\n",
       "      <td>3</td>\n",
       "      <td>[2, 5, 6, 5, 0, 3]</td>\n",
       "    </tr>\n",
       "    <tr>\n",
       "      <th>2</th>\n",
       "      <td>video185-shot02.mp4</td>\n",
       "      <td>2</td>\n",
       "      <td>5</td>\n",
       "      <td>16</td>\n",
       "      <td>2</td>\n",
       "      <td>10</td>\n",
       "      <td>0</td>\n",
       "      <td>[2, 5, 16, 2, 10, 0]</td>\n",
       "    </tr>\n",
       "    <tr>\n",
       "      <th>3</th>\n",
       "      <td>video185-shot03.mp4</td>\n",
       "      <td>2</td>\n",
       "      <td>0</td>\n",
       "      <td>6</td>\n",
       "      <td>5</td>\n",
       "      <td>0</td>\n",
       "      <td>3</td>\n",
       "      <td>[2, 0, 6, 5, 0, 3]</td>\n",
       "    </tr>\n",
       "    <tr>\n",
       "      <th>4</th>\n",
       "      <td>video185-shot04.mp4</td>\n",
       "      <td>2</td>\n",
       "      <td>0</td>\n",
       "      <td>16</td>\n",
       "      <td>2</td>\n",
       "      <td>12</td>\n",
       "      <td>0</td>\n",
       "      <td>[2, 0, 16, 2, 12, 0]</td>\n",
       "    </tr>\n",
       "  </tbody>\n",
       "</table>\n",
       "</div>"
      ],
      "text/plain": [
       "                  name  where  who  recommend_place  recommend_doing  \\\n",
       "0  video184-shot07.mp4      7    0               19                2   \n",
       "1  video185-shot01.mp4      2    5                6                5   \n",
       "2  video185-shot02.mp4      2    5               16                2   \n",
       "3  video185-shot03.mp4      2    0                6                5   \n",
       "4  video185-shot04.mp4      2    0               16                2   \n",
       "\n",
       "   recommend_eat  etc                 label  \n",
       "0              7    0   [7, 0, 19, 2, 7, 0]  \n",
       "1              0    3    [2, 5, 6, 5, 0, 3]  \n",
       "2             10    0  [2, 5, 16, 2, 10, 0]  \n",
       "3              0    3    [2, 0, 6, 5, 0, 3]  \n",
       "4             12    0  [2, 0, 16, 2, 12, 0]  "
      ]
     },
     "execution_count": 148,
     "metadata": {},
     "output_type": "execute_result"
    }
   ],
   "source": [
    "df_val = df_video_label[420:].reset_index().drop(['index'], axis=1)\n",
    "df_val.head()"
   ]
  },
  {
   "cell_type": "code",
   "execution_count": 68,
   "metadata": {},
   "outputs": [
    {
     "data": {
      "text/plain": [
       "[[2, 5, 6, 5, 0, 3],\n",
       " [2, 5, 6, 5, 0, 3],\n",
       " [2, 5, 0, 2, 4, 0],\n",
       " [2, 5, 6, 5, 0, 3],\n",
       " [2, 5, 16, 2, 9, 0]]"
      ]
     },
     "execution_count": 68,
     "metadata": {},
     "output_type": "execute_result"
    }
   ],
   "source": [
    "# list가 string 형태로 되어있기때문에 json.loads를 사용해 list 형태로 바꿔준다.\n",
    "# 이상하게 read_csv로 데이터프레임을 불러오면 label의 list가 string형태로 바뀐다.\n",
    "train_label = [json.loads(x) for x in list(df_video_label[:420]['label'])]\n",
    "train_label[:5]"
   ]
  },
  {
   "cell_type": "code",
   "execution_count": 104,
   "metadata": {},
   "outputs": [],
   "source": [
    "# 각각의 카테고리마다 리스트를 만들어 모든 label을 추가하고 unique값만 저장 (ex: label_1, label_2...)\n",
    "for i, l in enumerate(np.array(train_label).T.tolist()):\n",
    "    globals()[\"label_{}\".format(i+1)] = list(np.unique(l))"
   ]
  },
  {
   "cell_type": "code",
   "execution_count": 108,
   "metadata": {},
   "outputs": [
    {
     "data": {
      "text/plain": [
       "([0, 1, 2, 3, 4, 5, 6, 7, 8, 9, 10, 11, 12, 13, 14, 15, 16, 17],\n",
       " [0, 1, 2, 3, 4, 5, 6, 7],\n",
       " [0, 1, 3, 4, 5, 6, 7, 8, 10, 11, 12, 13, 14, 15, 16, 17, 18, 19, 20],\n",
       " [0, 1, 2, 3, 4, 5, 6],\n",
       " [0, 1, 2, 3, 4, 5, 6, 7, 8, 9, 10, 11, 12],\n",
       " [0, 1, 2, 3, 4])"
      ]
     },
     "execution_count": 108,
     "metadata": {},
     "output_type": "execute_result"
    }
   ],
   "source": [
    "# 모든 label이 있는지 확인: place 카테고리에서 2번 인덱스가 없기 때문에 2번이 포함된 video shot을 train으로 옮기자\n",
    "label_1, label_2, label_3, label_4, label_5, label_6"
   ]
  },
  {
   "cell_type": "code",
   "execution_count": 120,
   "metadata": {},
   "outputs": [
    {
     "data": {
      "text/plain": [
       "'공연'"
      ]
     },
     "execution_count": 120,
     "metadata": {},
     "output_type": "execute_result"
    }
   ],
   "source": [
    "# 인덱스 2번이 무슨 class인지 확인\n",
    "list(place_label.keys())[list(place_label.values()).index(2)]"
   ]
  },
  {
   "cell_type": "markdown",
   "metadata": {},
   "source": [
    "#### 공연이 포함된 video shot을 train에 추가하고 validation에서는 삭제해준다"
   ]
  },
  {
   "cell_type": "code",
   "execution_count": 144,
   "metadata": {},
   "outputs": [
    {
     "data": {
      "text/html": [
       "<div>\n",
       "<style scoped>\n",
       "    .dataframe tbody tr th:only-of-type {\n",
       "        vertical-align: middle;\n",
       "    }\n",
       "\n",
       "    .dataframe tbody tr th {\n",
       "        vertical-align: top;\n",
       "    }\n",
       "\n",
       "    .dataframe thead th {\n",
       "        text-align: right;\n",
       "    }\n",
       "</style>\n",
       "<table border=\"1\" class=\"dataframe\">\n",
       "  <thead>\n",
       "    <tr style=\"text-align: right;\">\n",
       "      <th></th>\n",
       "      <th>name</th>\n",
       "      <th>where</th>\n",
       "      <th>who</th>\n",
       "      <th>recommend_place</th>\n",
       "      <th>recommend_doing</th>\n",
       "      <th>recommend_eat</th>\n",
       "      <th>etc</th>\n",
       "      <th>label</th>\n",
       "    </tr>\n",
       "  </thead>\n",
       "  <tbody>\n",
       "    <tr>\n",
       "      <th>422</th>\n",
       "      <td>video205-shot04.mp4</td>\n",
       "      <td>13</td>\n",
       "      <td>1</td>\n",
       "      <td>2</td>\n",
       "      <td>0</td>\n",
       "      <td>0</td>\n",
       "      <td>3</td>\n",
       "      <td>[13, 1, 2, 0, 0, 3]</td>\n",
       "    </tr>\n",
       "  </tbody>\n",
       "</table>\n",
       "</div>"
      ],
      "text/plain": [
       "                    name  where  who  recommend_place  recommend_doing  \\\n",
       "422  video205-shot04.mp4     13    1                2                0   \n",
       "\n",
       "     recommend_eat  etc                label  \n",
       "422              0    3  [13, 1, 2, 0, 0, 3]  "
      ]
     },
     "execution_count": 144,
     "metadata": {},
     "output_type": "execute_result"
    }
   ],
   "source": [
    "# '공연' label이 포함된 video shot을 train에 포함시켜준다.\n",
    "df_train = df_train.append(df_val[df_val[\"recommend_place\"]==2], ignore_index=True)\n",
    "df_train[-1:]"
   ]
  },
  {
   "cell_type": "code",
   "execution_count": 217,
   "metadata": {},
   "outputs": [],
   "source": [
    "df_train.to_csv(\"df_train.csv\", index=False)"
   ]
  },
  {
   "cell_type": "code",
   "execution_count": 151,
   "metadata": {},
   "outputs": [
    {
     "data": {
      "text/html": [
       "<div>\n",
       "<style scoped>\n",
       "    .dataframe tbody tr th:only-of-type {\n",
       "        vertical-align: middle;\n",
       "    }\n",
       "\n",
       "    .dataframe tbody tr th {\n",
       "        vertical-align: top;\n",
       "    }\n",
       "\n",
       "    .dataframe thead th {\n",
       "        text-align: right;\n",
       "    }\n",
       "</style>\n",
       "<table border=\"1\" class=\"dataframe\">\n",
       "  <thead>\n",
       "    <tr style=\"text-align: right;\">\n",
       "      <th></th>\n",
       "      <th>name</th>\n",
       "      <th>where</th>\n",
       "      <th>who</th>\n",
       "      <th>recommend_place</th>\n",
       "      <th>recommend_doing</th>\n",
       "      <th>recommend_eat</th>\n",
       "      <th>etc</th>\n",
       "      <th>label</th>\n",
       "    </tr>\n",
       "  </thead>\n",
       "  <tbody>\n",
       "    <tr>\n",
       "      <th>99</th>\n",
       "      <td>video205-shot03.mp4</td>\n",
       "      <td>2</td>\n",
       "      <td>1</td>\n",
       "      <td>3</td>\n",
       "      <td>3</td>\n",
       "      <td>0</td>\n",
       "      <td>2</td>\n",
       "      <td>[2, 1, 3, 3, 0, 2]</td>\n",
       "    </tr>\n",
       "    <tr>\n",
       "      <th>100</th>\n",
       "      <td>video205-shot05.mp4</td>\n",
       "      <td>13</td>\n",
       "      <td>0</td>\n",
       "      <td>16</td>\n",
       "      <td>2</td>\n",
       "      <td>2</td>\n",
       "      <td>0</td>\n",
       "      <td>[13, 0, 16, 2, 2, 0]</td>\n",
       "    </tr>\n",
       "  </tbody>\n",
       "</table>\n",
       "</div>"
      ],
      "text/plain": [
       "                    name  where  who  recommend_place  recommend_doing  \\\n",
       "99   video205-shot03.mp4      2    1                3                3   \n",
       "100  video205-shot05.mp4     13    0               16                2   \n",
       "\n",
       "     recommend_eat  etc                 label  \n",
       "99               0    2    [2, 1, 3, 3, 0, 2]  \n",
       "100              2    0  [13, 0, 16, 2, 2, 0]  "
      ]
     },
     "execution_count": 151,
     "metadata": {},
     "output_type": "execute_result"
    }
   ],
   "source": [
    "df_val = df_val.drop(df_val[df_val[\"recommend_place\"]==2].index).reset_index().drop(['index'], axis=1)\n",
    "df_val[-2:]"
   ]
  },
  {
   "cell_type": "code",
   "execution_count": 153,
   "metadata": {},
   "outputs": [],
   "source": [
    "df_val.to_csv(\"df_val.csv\", index=False)"
   ]
  },
  {
   "cell_type": "markdown",
   "metadata": {},
   "source": [
    "### 이제 다시 정리된 train, test set을 불러오자"
   ]
  },
  {
   "cell_type": "code",
   "execution_count": 37,
   "metadata": {},
   "outputs": [
    {
     "data": {
      "text/plain": [
       "421"
      ]
     },
     "execution_count": 37,
     "metadata": {},
     "output_type": "execute_result"
    }
   ],
   "source": [
    "df_train = pd.read_csv(\"df_train.csv\")\n",
    "len(df_train)"
   ]
  },
  {
   "cell_type": "code",
   "execution_count": 38,
   "metadata": {},
   "outputs": [
    {
     "data": {
      "text/plain": [
       "101"
      ]
     },
     "execution_count": 38,
     "metadata": {},
     "output_type": "execute_result"
    }
   ],
   "source": [
    "df_val = pd.read_csv(\"df_val.csv\")\n",
    "len(df_val)"
   ]
  },
  {
   "cell_type": "code",
   "execution_count": null,
   "metadata": {},
   "outputs": [],
   "source": []
  },
  {
   "cell_type": "markdown",
   "metadata": {},
   "source": [
    "### Train, Validation 폴더를 새로 만들어서 각각 폴더에 해당되는 video shot을 저장"
   ]
  },
  {
   "cell_type": "code",
   "execution_count": 187,
   "metadata": {},
   "outputs": [],
   "source": [
    "os.mkdir('video_train')\n",
    "os.mkdir('video_validation')"
   ]
  },
  {
   "cell_type": "code",
   "execution_count": 222,
   "metadata": {},
   "outputs": [],
   "source": [
    "for i in df_train['name']:\n",
    "    original = 'Video_shot_practice/' + i\n",
    "    train_path = 'video_train/' + i\n",
    "    shutil.move(original, train_path)"
   ]
  },
  {
   "cell_type": "code",
   "execution_count": 223,
   "metadata": {},
   "outputs": [],
   "source": [
    "for i in df_val['name']:\n",
    "    original = 'Video_shot_practice/' + i\n",
    "    val_path = 'video_validation/' + i\n",
    "    shutil.move(original, val_path)"
   ]
  },
  {
   "cell_type": "code",
   "execution_count": null,
   "metadata": {},
   "outputs": [],
   "source": []
  },
  {
   "cell_type": "markdown",
   "metadata": {},
   "source": [
    "### Train, Validation폴더의 video shot에서 frame을 뽑아서 저장\n",
    "- 나중에 validatoin video shot에서도 frame 추출"
   ]
  },
  {
   "cell_type": "code",
   "execution_count": 26,
   "metadata": {},
   "outputs": [],
   "source": [
    "os.mkdir('frame_train')"
   ]
  },
  {
   "cell_type": "code",
   "execution_count": 27,
   "metadata": {
    "collapsed": true,
    "jupyter": {
     "outputs_hidden": true
    }
   },
   "outputs": [
    {
     "name": "stderr",
     "output_type": "stream",
     "text": [
      "  0%|          | 0/421 [00:00<?, ?it/s]"
     ]
    },
    {
     "name": "stdout",
     "output_type": "stream",
     "text": [
      "0.jpg done\n",
      "1.jpg done\n",
      "2.jpg done\n",
      "3.jpg done\n",
      "4.jpg done\n",
      "5.jpg done\n",
      "6.jpg done\n",
      "7.jpg done\n",
      "8.jpg done\n",
      "9.jpg done\n",
      "10.jpg done\n",
      "11.jpg done\n",
      "12.jpg done\n",
      "13.jpg done\n",
      "14.jpg done\n",
      "15.jpg done\n",
      "16.jpg done\n",
      "17.jpg done\n",
      "18.jpg done\n",
      "19.jpg done\n",
      "20.jpg done\n",
      "21.jpg done\n",
      "22.jpg done\n"
     ]
    },
    {
     "name": "stderr",
     "output_type": "stream",
     "text": [
      "  0%|          | 1/421 [00:01<08:24,  1.20s/it]"
     ]
    },
    {
     "name": "stdout",
     "output_type": "stream",
     "text": [
      "23.jpg done\n",
      "24.jpg done\n",
      "25.jpg done\n",
      "26.jpg done\n",
      "0.jpg done\n",
      "1.jpg done\n",
      "2.jpg done\n",
      "3.jpg done\n",
      "4.jpg done\n",
      "5.jpg done\n",
      "6.jpg done\n",
      "7.jpg done\n",
      "8.jpg done\n",
      "9.jpg done\n",
      "10.jpg done\n",
      "11.jpg done\n",
      "12.jpg done\n",
      "13.jpg done\n",
      "14.jpg done\n"
     ]
    },
    {
     "name": "stderr",
     "output_type": "stream",
     "text": [
      "  0%|          | 2/421 [00:02<06:50,  1.02it/s]"
     ]
    },
    {
     "name": "stdout",
     "output_type": "stream",
     "text": [
      "15.jpg done\n",
      "16.jpg done\n",
      "17.jpg done\n"
     ]
    },
    {
     "name": "stderr",
     "output_type": "stream",
     "text": [
      "  1%|          | 3/421 [00:02<04:34,  1.52it/s]"
     ]
    },
    {
     "name": "stdout",
     "output_type": "stream",
     "text": [
      "0.jpg done\n",
      "1.jpg done\n",
      "2.jpg done\n",
      "3.jpg done\n",
      "4.jpg done\n",
      "0.jpg done\n",
      "1.jpg done\n",
      "2.jpg done\n",
      "3.jpg done\n",
      "4.jpg done\n",
      "5.jpg done\n",
      "6.jpg done\n",
      "7.jpg done\n",
      "8.jpg done\n",
      "9.jpg done\n",
      "10.jpg done\n",
      "11.jpg done\n",
      "12.jpg done\n",
      "13.jpg done\n",
      "14.jpg done\n",
      "15.jpg done\n",
      "16.jpg done\n",
      "17.jpg done\n",
      "18.jpg done\n",
      "19.jpg done\n",
      "20.jpg done\n",
      "21.jpg done\n",
      "22.jpg done\n",
      "23.jpg done\n",
      "24.jpg done\n",
      "25.jpg done\n",
      "26.jpg done\n",
      "27.jpg done\n",
      "28.jpg done\n",
      "29.jpg done\n",
      "30.jpg done\n",
      "31.jpg done\n",
      "32.jpg done\n",
      "33.jpg done\n",
      "34.jpg done\n",
      "35.jpg done\n",
      "36.jpg done\n",
      "37.jpg done\n",
      "38.jpg done\n",
      "39.jpg done\n",
      "40.jpg done\n",
      "41.jpg done\n",
      "42.jpg done\n",
      "43.jpg done\n",
      "44.jpg done\n",
      "45.jpg done\n",
      "46.jpg done\n",
      "47.jpg done\n",
      "48.jpg done\n",
      "49.jpg done\n",
      "50.jpg done\n"
     ]
    },
    {
     "name": "stderr",
     "output_type": "stream",
     "text": [
      "  1%|          | 4/421 [00:04<08:52,  1.28s/it]"
     ]
    },
    {
     "name": "stdout",
     "output_type": "stream",
     "text": [
      "51.jpg done\n",
      "0.jpg done\n",
      "1.jpg done\n",
      "2.jpg done\n",
      "3.jpg done\n",
      "4.jpg done\n",
      "5.jpg done\n",
      "6.jpg done\n",
      "7.jpg done\n",
      "8.jpg done\n",
      "9.jpg done\n",
      "10.jpg done\n",
      "11.jpg done\n",
      "12.jpg done\n",
      "13.jpg done\n",
      "14.jpg done\n",
      "15.jpg done\n",
      "16.jpg done\n",
      "17.jpg done\n",
      "18.jpg done\n",
      "19.jpg done\n",
      "20.jpg done\n",
      "21.jpg done\n",
      "22.jpg done\n",
      "23.jpg done\n",
      "24.jpg done\n",
      "25.jpg done\n",
      "26.jpg done\n",
      "27.jpg done\n",
      "28.jpg done\n"
     ]
    },
    {
     "name": "stderr",
     "output_type": "stream",
     "text": [
      "  1%|          | 5/421 [00:05<09:12,  1.33s/it]"
     ]
    },
    {
     "name": "stdout",
     "output_type": "stream",
     "text": [
      "29.jpg done\n",
      "30.jpg done\n",
      "31.jpg done\n",
      "0.jpg done\n",
      "1.jpg done\n",
      "2.jpg done\n",
      "3.jpg done\n",
      "4.jpg done\n",
      "5.jpg done\n",
      "6.jpg done\n",
      "7.jpg done\n",
      "8.jpg done\n",
      "9.jpg done\n",
      "10.jpg done\n",
      "11.jpg done\n",
      "12.jpg done\n",
      "13.jpg done\n",
      "14.jpg done\n",
      "15.jpg done\n",
      "16.jpg done\n",
      "17.jpg done\n",
      "18.jpg done\n",
      "19.jpg done\n",
      "20.jpg done\n",
      "21.jpg done\n",
      "22.jpg done\n",
      "23.jpg done\n",
      "24.jpg done\n",
      "25.jpg done\n",
      "26.jpg done\n",
      "27.jpg done\n",
      "28.jpg done\n",
      "29.jpg done\n",
      "30.jpg done\n",
      "31.jpg done\n",
      "32.jpg done\n",
      "33.jpg done\n",
      "34.jpg done\n",
      "35.jpg done\n",
      "36.jpg done\n",
      "37.jpg done\n",
      "38.jpg done\n",
      "39.jpg done\n",
      "40.jpg done\n",
      "41.jpg done\n",
      "42.jpg done\n",
      "43.jpg done\n",
      "44.jpg done\n",
      "45.jpg done\n",
      "46.jpg done\n"
     ]
    },
    {
     "name": "stderr",
     "output_type": "stream",
     "text": [
      "  1%|▏         | 6/421 [00:08<11:11,  1.62s/it]"
     ]
    },
    {
     "name": "stdout",
     "output_type": "stream",
     "text": [
      "47.jpg done\n",
      "48.jpg done\n",
      "49.jpg done\n",
      "0.jpg done\n",
      "1.jpg done\n",
      "2.jpg done\n",
      "3.jpg done\n",
      "4.jpg done\n",
      "5.jpg done\n",
      "6.jpg done\n",
      "7.jpg done\n",
      "8.jpg done\n",
      "9.jpg done\n",
      "10.jpg done\n",
      "11.jpg done\n",
      "12.jpg done\n",
      "13.jpg done\n",
      "14.jpg done\n",
      "15.jpg done\n",
      "16.jpg done\n",
      "17.jpg done\n",
      "18.jpg done\n",
      "19.jpg done\n",
      "20.jpg done\n",
      "21.jpg done\n",
      "22.jpg done\n",
      "23.jpg done\n",
      "24.jpg done\n",
      "25.jpg done\n",
      "26.jpg done\n",
      "27.jpg done\n",
      "28.jpg done\n",
      "29.jpg done\n",
      "30.jpg done\n",
      "31.jpg done\n",
      "32.jpg done\n",
      "33.jpg done\n",
      "34.jpg done\n",
      "35.jpg done\n",
      "36.jpg done\n",
      "37.jpg done\n",
      "38.jpg done\n",
      "39.jpg done\n",
      "40.jpg done\n",
      "41.jpg done\n",
      "42.jpg done\n",
      "43.jpg done\n",
      "44.jpg done\n",
      "45.jpg done\n",
      "46.jpg done\n",
      "47.jpg done\n",
      "48.jpg done\n",
      "49.jpg done\n",
      "50.jpg done\n",
      "51.jpg done\n",
      "52.jpg done\n",
      "53.jpg done\n",
      "54.jpg done\n",
      "55.jpg done\n",
      "56.jpg done\n",
      "57.jpg done\n",
      "58.jpg done\n",
      "59.jpg done\n",
      "60.jpg done\n",
      "61.jpg done\n",
      "62.jpg done\n",
      "63.jpg done\n",
      "64.jpg done\n",
      "65.jpg done\n",
      "66.jpg done\n",
      "67.jpg done\n",
      "68.jpg done\n",
      "69.jpg done\n",
      "70.jpg done\n",
      "71.jpg done\n",
      "72.jpg done\n",
      "73.jpg done\n",
      "74.jpg done\n",
      "75.jpg done\n",
      "76.jpg done\n",
      "77.jpg done\n",
      "78.jpg done\n",
      "79.jpg done\n",
      "80.jpg done\n",
      "81.jpg done\n",
      "82.jpg done\n",
      "83.jpg done\n",
      "84.jpg done\n",
      "85.jpg done\n",
      "86.jpg done\n",
      "87.jpg done\n",
      "88.jpg done\n",
      "89.jpg done\n",
      "90.jpg done\n",
      "91.jpg done\n",
      "92.jpg done\n",
      "93.jpg done\n",
      "94.jpg done\n",
      "95.jpg done\n",
      "96.jpg done\n",
      "97.jpg done\n",
      "98.jpg done\n",
      "99.jpg done\n",
      "100.jpg done\n",
      "101.jpg done\n",
      "102.jpg done\n"
     ]
    },
    {
     "name": "stderr",
     "output_type": "stream",
     "text": [
      "  2%|▏         | 7/421 [00:12<18:20,  2.66s/it]"
     ]
    },
    {
     "name": "stdout",
     "output_type": "stream",
     "text": [
      "103.jpg done\n",
      "104.jpg done\n",
      "105.jpg done\n",
      "106.jpg done\n",
      "107.jpg done\n",
      "0.jpg done\n",
      "1.jpg done\n",
      "2.jpg done\n",
      "3.jpg done\n",
      "4.jpg done\n",
      "5.jpg done\n"
     ]
    },
    {
     "name": "stderr",
     "output_type": "stream",
     "text": [
      "  2%|▏         | 8/421 [00:13<13:30,  1.96s/it]"
     ]
    },
    {
     "name": "stdout",
     "output_type": "stream",
     "text": [
      "6.jpg done\n",
      "7.jpg done\n",
      "8.jpg done\n",
      "9.jpg done\n",
      "10.jpg done\n",
      "0.jpg done\n",
      "1.jpg done\n",
      "2.jpg done\n",
      "3.jpg done\n",
      "4.jpg done\n",
      "5.jpg done\n",
      "6.jpg done\n",
      "7.jpg done\n",
      "8.jpg done\n",
      "9.jpg done\n",
      "10.jpg done\n",
      "11.jpg done\n",
      "12.jpg done\n",
      "13.jpg done\n",
      "14.jpg done\n",
      "15.jpg done\n",
      "16.jpg done\n",
      "17.jpg done\n",
      "18.jpg done\n",
      "19.jpg done\n",
      "20.jpg done\n",
      "21.jpg done\n",
      "22.jpg done\n",
      "23.jpg done\n",
      "24.jpg done\n",
      "25.jpg done\n",
      "26.jpg done\n",
      "27.jpg done\n",
      "28.jpg done\n",
      "29.jpg done\n",
      "30.jpg done\n",
      "31.jpg done\n",
      "32.jpg done\n",
      "33.jpg done\n",
      "34.jpg done\n",
      "35.jpg done\n",
      "36.jpg done\n",
      "37.jpg done\n",
      "38.jpg done\n",
      "39.jpg done\n",
      "40.jpg done\n",
      "41.jpg done\n",
      "42.jpg done\n",
      "43.jpg done\n",
      "44.jpg done\n",
      "45.jpg done\n",
      "46.jpg done\n",
      "47.jpg done\n",
      "48.jpg done\n",
      "49.jpg done\n",
      "50.jpg done\n",
      "51.jpg done\n",
      "52.jpg done\n",
      "53.jpg done\n",
      "54.jpg done\n",
      "55.jpg done\n",
      "56.jpg done\n",
      "57.jpg done\n",
      "58.jpg done\n",
      "59.jpg done\n",
      "60.jpg done\n",
      "61.jpg done\n",
      "62.jpg done\n",
      "63.jpg done\n",
      "64.jpg done\n",
      "65.jpg done\n",
      "66.jpg done\n",
      "67.jpg done\n",
      "68.jpg done\n",
      "69.jpg done\n",
      "70.jpg done\n",
      "71.jpg done\n",
      "72.jpg done\n",
      "73.jpg done\n",
      "74.jpg done\n",
      "75.jpg done\n",
      "76.jpg done\n",
      "77.jpg done\n",
      "78.jpg done\n",
      "79.jpg done\n",
      "80.jpg done\n",
      "81.jpg done\n",
      "82.jpg done\n",
      "83.jpg done\n",
      "84.jpg done\n",
      "85.jpg done\n",
      "86.jpg done\n",
      "87.jpg done\n",
      "88.jpg done\n",
      "89.jpg done\n",
      "90.jpg done\n",
      "91.jpg done\n",
      "92.jpg done\n",
      "93.jpg done\n",
      "94.jpg done\n",
      "95.jpg done\n",
      "96.jpg done\n"
     ]
    },
    {
     "name": "stderr",
     "output_type": "stream",
     "text": [
      "  2%|▏         | 9/421 [00:18<19:19,  2.81s/it]"
     ]
    },
    {
     "name": "stdout",
     "output_type": "stream",
     "text": [
      "97.jpg done\n",
      "0.jpg done\n",
      "1.jpg done\n",
      "2.jpg done\n",
      "3.jpg done\n",
      "4.jpg done\n",
      "5.jpg done\n",
      "6.jpg done\n",
      "7.jpg done\n",
      "8.jpg done\n",
      "9.jpg done\n",
      "10.jpg done\n",
      "11.jpg done\n",
      "12.jpg done\n",
      "13.jpg done\n",
      "14.jpg done\n",
      "15.jpg done\n",
      "16.jpg done\n",
      "17.jpg done\n",
      "18.jpg done\n",
      "19.jpg done\n",
      "20.jpg done\n",
      "21.jpg done\n",
      "22.jpg done\n"
     ]
    },
    {
     "name": "stderr",
     "output_type": "stream",
     "text": [
      "  2%|▏         | 10/421 [00:19<15:45,  2.30s/it]"
     ]
    },
    {
     "name": "stdout",
     "output_type": "stream",
     "text": [
      "23.jpg done\n",
      "24.jpg done\n",
      "0.jpg done\n",
      "1.jpg done\n",
      "2.jpg done\n",
      "3.jpg done\n",
      "4.jpg done\n",
      "5.jpg done\n",
      "6.jpg done\n",
      "7.jpg done\n",
      "8.jpg done\n",
      "9.jpg done\n",
      "10.jpg done\n",
      "11.jpg done\n",
      "12.jpg done\n",
      "13.jpg done\n",
      "14.jpg done\n",
      "15.jpg done\n",
      "16.jpg done\n",
      "17.jpg done\n",
      "18.jpg done\n",
      "19.jpg done\n",
      "20.jpg done\n",
      "21.jpg done\n",
      "22.jpg done\n",
      "23.jpg done\n",
      "24.jpg done\n",
      "25.jpg done\n",
      "26.jpg done\n",
      "27.jpg done\n",
      "28.jpg done\n",
      "29.jpg done\n",
      "30.jpg done\n",
      "31.jpg done\n",
      "32.jpg done\n",
      "33.jpg done\n",
      "34.jpg done\n",
      "35.jpg done\n",
      "36.jpg done\n",
      "37.jpg done\n",
      "38.jpg done\n",
      "39.jpg done\n",
      "40.jpg done\n",
      "41.jpg done\n",
      "42.jpg done\n",
      "43.jpg done\n",
      "44.jpg done\n",
      "45.jpg done\n",
      "46.jpg done\n",
      "47.jpg done\n",
      "48.jpg done\n",
      "49.jpg done\n",
      "50.jpg done\n",
      "51.jpg done\n",
      "52.jpg done\n",
      "53.jpg done\n",
      "54.jpg done\n",
      "55.jpg done\n",
      "56.jpg done\n",
      "57.jpg done\n",
      "58.jpg done\n",
      "59.jpg done\n",
      "60.jpg done\n",
      "61.jpg done\n",
      "62.jpg done\n",
      "63.jpg done\n",
      "64.jpg done\n",
      "65.jpg done\n",
      "66.jpg done\n",
      "67.jpg done\n",
      "68.jpg done\n",
      "69.jpg done\n",
      "70.jpg done\n",
      "71.jpg done\n",
      "72.jpg done\n",
      "73.jpg done\n",
      "74.jpg done\n",
      "75.jpg done\n",
      "76.jpg done\n",
      "77.jpg done\n",
      "78.jpg done\n",
      "79.jpg done\n",
      "80.jpg done\n",
      "81.jpg done\n",
      "82.jpg done\n",
      "83.jpg done\n",
      "84.jpg done\n",
      "85.jpg done\n",
      "86.jpg done\n",
      "87.jpg done\n",
      "88.jpg done\n",
      "89.jpg done\n",
      "90.jpg done\n",
      "91.jpg done\n",
      "92.jpg done\n",
      "93.jpg done\n",
      "94.jpg done\n"
     ]
    },
    {
     "name": "stderr",
     "output_type": "stream",
     "text": [
      "  3%|▎         | 11/421 [00:23<19:02,  2.79s/it]"
     ]
    },
    {
     "name": "stdout",
     "output_type": "stream",
     "text": [
      "95.jpg done\n",
      "96.jpg done\n",
      "97.jpg done\n",
      "98.jpg done\n",
      "0.jpg done\n",
      "1.jpg done\n",
      "2.jpg done\n",
      "3.jpg done\n",
      "4.jpg done\n",
      "5.jpg done\n",
      "6.jpg done\n",
      "7.jpg done\n",
      "8.jpg done\n",
      "9.jpg done\n",
      "10.jpg done\n",
      "11.jpg done\n",
      "12.jpg done\n",
      "13.jpg done\n",
      "14.jpg done\n",
      "15.jpg done\n",
      "16.jpg done\n",
      "17.jpg done\n",
      "18.jpg done\n",
      "19.jpg done\n",
      "20.jpg done\n",
      "21.jpg done\n",
      "22.jpg done\n",
      "23.jpg done\n",
      "24.jpg done\n",
      "25.jpg done\n",
      "26.jpg done\n",
      "27.jpg done\n",
      "28.jpg done\n",
      "29.jpg done\n",
      "30.jpg done\n",
      "31.jpg done\n"
     ]
    },
    {
     "name": "stderr",
     "output_type": "stream",
     "text": [
      "  3%|▎         | 12/421 [00:24<16:26,  2.41s/it]"
     ]
    },
    {
     "name": "stdout",
     "output_type": "stream",
     "text": [
      "32.jpg done\n",
      "33.jpg done\n",
      "34.jpg done\n",
      "0.jpg done\n",
      "1.jpg done\n",
      "2.jpg done\n",
      "3.jpg done\n",
      "4.jpg done\n",
      "5.jpg done\n",
      "6.jpg done\n",
      "7.jpg done\n",
      "8.jpg done\n",
      "9.jpg done\n",
      "10.jpg done\n",
      "11.jpg done\n",
      "12.jpg done\n",
      "13.jpg done\n",
      "14.jpg done\n",
      "15.jpg done\n",
      "16.jpg done\n",
      "17.jpg done\n",
      "18.jpg done\n",
      "19.jpg done\n",
      "20.jpg done\n",
      "21.jpg done\n",
      "22.jpg done\n",
      "23.jpg done\n",
      "24.jpg done\n",
      "25.jpg done\n",
      "26.jpg done\n",
      "27.jpg done\n",
      "28.jpg done\n",
      "29.jpg done\n",
      "30.jpg done\n",
      "31.jpg done\n",
      "32.jpg done\n",
      "33.jpg done\n",
      "34.jpg done\n",
      "35.jpg done\n",
      "36.jpg done\n",
      "37.jpg done\n",
      "38.jpg done\n",
      "39.jpg done\n",
      "40.jpg done\n",
      "41.jpg done\n",
      "42.jpg done\n",
      "43.jpg done\n",
      "44.jpg done\n",
      "45.jpg done\n",
      "46.jpg done\n",
      "47.jpg done\n",
      "48.jpg done\n",
      "49.jpg done\n",
      "50.jpg done\n",
      "51.jpg done\n",
      "52.jpg done\n",
      "53.jpg done\n",
      "54.jpg done\n",
      "55.jpg done\n",
      "56.jpg done\n",
      "57.jpg done\n",
      "58.jpg done\n",
      "59.jpg done\n",
      "60.jpg done\n",
      "61.jpg done\n",
      "62.jpg done\n",
      "63.jpg done\n",
      "64.jpg done\n",
      "65.jpg done\n",
      "66.jpg done\n",
      "67.jpg done\n",
      "68.jpg done\n",
      "69.jpg done\n",
      "70.jpg done\n",
      "71.jpg done\n",
      "72.jpg done\n",
      "73.jpg done\n",
      "74.jpg done\n",
      "75.jpg done\n",
      "76.jpg done\n",
      "77.jpg done\n",
      "78.jpg done\n",
      "79.jpg done\n",
      "80.jpg done\n",
      "81.jpg done\n",
      "82.jpg done\n",
      "83.jpg done\n",
      "84.jpg done\n",
      "85.jpg done\n",
      "86.jpg done\n",
      "87.jpg done\n",
      "88.jpg done\n",
      "89.jpg done\n",
      "90.jpg done\n",
      "91.jpg done\n",
      "92.jpg done\n",
      "93.jpg done\n",
      "94.jpg done\n",
      "95.jpg done\n",
      "96.jpg done\n",
      "97.jpg done\n",
      "98.jpg done\n",
      "99.jpg done\n",
      "100.jpg done\n",
      "101.jpg done\n",
      "102.jpg done\n",
      "103.jpg done\n",
      "104.jpg done\n"
     ]
    },
    {
     "name": "stderr",
     "output_type": "stream",
     "text": [
      "  3%|▎         | 13/421 [00:29<21:07,  3.11s/it]"
     ]
    },
    {
     "name": "stdout",
     "output_type": "stream",
     "text": [
      "105.jpg done\n",
      "0.jpg done\n",
      "1.jpg done\n",
      "2.jpg done\n",
      "3.jpg done\n",
      "4.jpg done\n",
      "5.jpg done\n",
      "6.jpg done\n",
      "7.jpg done\n",
      "8.jpg done\n",
      "9.jpg done\n",
      "10.jpg done\n",
      "11.jpg done\n",
      "12.jpg done\n",
      "13.jpg done\n",
      "14.jpg done\n",
      "15.jpg done\n",
      "16.jpg done\n",
      "17.jpg done\n",
      "18.jpg done\n",
      "19.jpg done\n",
      "20.jpg done\n",
      "21.jpg done\n",
      "22.jpg done\n",
      "23.jpg done\n",
      "24.jpg done\n",
      "25.jpg done\n",
      "26.jpg done\n",
      "27.jpg done\n",
      "28.jpg done\n",
      "29.jpg done\n",
      "30.jpg done\n",
      "31.jpg done\n",
      "32.jpg done\n",
      "33.jpg done\n",
      "34.jpg done\n",
      "35.jpg done\n",
      "36.jpg done\n",
      "37.jpg done\n"
     ]
    },
    {
     "name": "stderr",
     "output_type": "stream",
     "text": [
      "  3%|▎         | 14/421 [00:31<18:40,  2.75s/it]"
     ]
    },
    {
     "name": "stdout",
     "output_type": "stream",
     "text": [
      "38.jpg done\n",
      "39.jpg done\n",
      "40.jpg done\n",
      "41.jpg done\n",
      "0.jpg done\n",
      "1.jpg done\n",
      "2.jpg done\n",
      "3.jpg done\n",
      "4.jpg done\n",
      "5.jpg done\n",
      "6.jpg done\n",
      "7.jpg done\n",
      "8.jpg done\n",
      "9.jpg done\n",
      "10.jpg done\n",
      "11.jpg done\n",
      "12.jpg done\n",
      "13.jpg done\n",
      "14.jpg done\n",
      "15.jpg done\n",
      "16.jpg done\n",
      "17.jpg done\n",
      "18.jpg done\n",
      "19.jpg done\n",
      "20.jpg done\n",
      "21.jpg done\n",
      "22.jpg done\n",
      "23.jpg done\n",
      "24.jpg done\n",
      "25.jpg done\n",
      "26.jpg done\n",
      "27.jpg done\n",
      "28.jpg done\n",
      "29.jpg done\n",
      "30.jpg done\n",
      "31.jpg done\n",
      "32.jpg done\n",
      "33.jpg done\n",
      "34.jpg done\n",
      "35.jpg done\n",
      "36.jpg done\n",
      "37.jpg done\n",
      "38.jpg done\n",
      "39.jpg done\n",
      "40.jpg done\n",
      "41.jpg done\n",
      "42.jpg done\n",
      "43.jpg done\n",
      "44.jpg done\n",
      "45.jpg done\n",
      "46.jpg done\n",
      "47.jpg done\n",
      "48.jpg done\n",
      "49.jpg done\n",
      "50.jpg done\n",
      "51.jpg done\n",
      "52.jpg done\n",
      "53.jpg done\n",
      "54.jpg done\n",
      "55.jpg done\n",
      "56.jpg done\n",
      "57.jpg done\n",
      "58.jpg done\n",
      "59.jpg done\n",
      "60.jpg done\n",
      "61.jpg done\n",
      "62.jpg done\n",
      "63.jpg done\n",
      "64.jpg done\n",
      "65.jpg done\n",
      "66.jpg done\n",
      "67.jpg done\n",
      "68.jpg done\n",
      "69.jpg done\n",
      "70.jpg done\n",
      "71.jpg done\n"
     ]
    },
    {
     "name": "stderr",
     "output_type": "stream",
     "text": [
      "  4%|▎         | 15/421 [00:35<20:56,  3.09s/it]"
     ]
    },
    {
     "name": "stdout",
     "output_type": "stream",
     "text": [
      "72.jpg done\n",
      "73.jpg done\n",
      "0.jpg done\n",
      "1.jpg done\n",
      "2.jpg done\n",
      "3.jpg done\n",
      "4.jpg done\n",
      "5.jpg done\n",
      "6.jpg done\n",
      "7.jpg done\n",
      "8.jpg done\n",
      "9.jpg done\n",
      "10.jpg done\n",
      "11.jpg done\n",
      "12.jpg done\n",
      "13.jpg done\n",
      "14.jpg done\n",
      "15.jpg done\n",
      "16.jpg done\n",
      "17.jpg done\n",
      "18.jpg done\n",
      "19.jpg done\n",
      "20.jpg done\n",
      "21.jpg done\n",
      "22.jpg done\n",
      "23.jpg done\n",
      "24.jpg done\n",
      "25.jpg done\n",
      "26.jpg done\n",
      "27.jpg done\n",
      "28.jpg done\n",
      "29.jpg done\n",
      "30.jpg done\n",
      "31.jpg done\n",
      "32.jpg done\n",
      "33.jpg done\n",
      "34.jpg done\n",
      "35.jpg done\n",
      "36.jpg done\n",
      "37.jpg done\n",
      "38.jpg done\n",
      "39.jpg done\n",
      "40.jpg done\n",
      "41.jpg done\n",
      "42.jpg done\n",
      "43.jpg done\n",
      "44.jpg done\n",
      "45.jpg done\n",
      "46.jpg done\n",
      "47.jpg done\n",
      "48.jpg done\n",
      "49.jpg done\n",
      "50.jpg done\n",
      "51.jpg done\n",
      "52.jpg done\n",
      "53.jpg done\n",
      "54.jpg done\n",
      "55.jpg done\n",
      "56.jpg done\n",
      "57.jpg done\n",
      "58.jpg done\n",
      "59.jpg done\n",
      "60.jpg done\n",
      "61.jpg done\n",
      "62.jpg done\n",
      "63.jpg done\n",
      "64.jpg done\n",
      "65.jpg done\n",
      "66.jpg done\n",
      "67.jpg done\n",
      "68.jpg done\n",
      "69.jpg done\n",
      "70.jpg done\n",
      "71.jpg done\n",
      "72.jpg done\n",
      "73.jpg done\n",
      "74.jpg done\n",
      "75.jpg done\n",
      "76.jpg done\n",
      "77.jpg done\n",
      "78.jpg done\n",
      "79.jpg done\n",
      "80.jpg done\n",
      "81.jpg done\n",
      "82.jpg done\n",
      "83.jpg done\n",
      "84.jpg done\n",
      "85.jpg done\n",
      "86.jpg done\n",
      "87.jpg done\n",
      "88.jpg done\n",
      "89.jpg done\n",
      "90.jpg done\n",
      "91.jpg done\n"
     ]
    },
    {
     "name": "stderr",
     "output_type": "stream",
     "text": [
      "  4%|▍         | 16/421 [00:39<23:19,  3.46s/it]"
     ]
    },
    {
     "name": "stdout",
     "output_type": "stream",
     "text": [
      "92.jpg done\n",
      "93.jpg done\n",
      "94.jpg done\n",
      "95.jpg done\n",
      "0.jpg done\n",
      "1.jpg done\n",
      "2.jpg done\n",
      "3.jpg done\n",
      "4.jpg done\n",
      "5.jpg done\n",
      "6.jpg done\n",
      "7.jpg done\n",
      "8.jpg done\n",
      "9.jpg done\n",
      "10.jpg done\n",
      "11.jpg done\n",
      "12.jpg done\n",
      "13.jpg done\n",
      "14.jpg done\n",
      "15.jpg done\n",
      "16.jpg done\n",
      "17.jpg done\n",
      "18.jpg done\n",
      "19.jpg done\n",
      "20.jpg done\n",
      "21.jpg done\n",
      "22.jpg done\n",
      "23.jpg done\n",
      "24.jpg done\n",
      "25.jpg done\n",
      "26.jpg done\n",
      "27.jpg done\n",
      "28.jpg done\n",
      "29.jpg done\n",
      "30.jpg done\n",
      "31.jpg done\n",
      "32.jpg done\n",
      "33.jpg done\n",
      "34.jpg done\n",
      "35.jpg done\n",
      "36.jpg done\n",
      "37.jpg done\n",
      "38.jpg done\n",
      "39.jpg done\n",
      "40.jpg done\n",
      "41.jpg done\n",
      "42.jpg done\n",
      "43.jpg done\n",
      "44.jpg done\n",
      "45.jpg done\n",
      "46.jpg done\n",
      "47.jpg done\n",
      "48.jpg done\n",
      "49.jpg done\n",
      "50.jpg done\n",
      "51.jpg done\n",
      "52.jpg done\n",
      "53.jpg done\n",
      "54.jpg done\n",
      "55.jpg done\n",
      "56.jpg done\n",
      "57.jpg done\n",
      "58.jpg done\n",
      "59.jpg done\n",
      "60.jpg done\n",
      "61.jpg done\n",
      "62.jpg done\n",
      "63.jpg done\n",
      "64.jpg done\n",
      "65.jpg done\n",
      "66.jpg done\n",
      "67.jpg done\n",
      "68.jpg done\n",
      "69.jpg done\n",
      "70.jpg done\n",
      "71.jpg done\n",
      "72.jpg done\n",
      "73.jpg done\n",
      "74.jpg done\n",
      "75.jpg done\n",
      "76.jpg done\n",
      "77.jpg done\n",
      "78.jpg done\n",
      "79.jpg done\n",
      "80.jpg done\n",
      "81.jpg done\n",
      "82.jpg done\n",
      "83.jpg done\n",
      "84.jpg done\n",
      "85.jpg done\n",
      "86.jpg done\n",
      "87.jpg done\n",
      "88.jpg done\n",
      "89.jpg done\n",
      "90.jpg done\n",
      "91.jpg done\n",
      "92.jpg done\n",
      "93.jpg done\n",
      "94.jpg done\n",
      "95.jpg done\n",
      "96.jpg done\n",
      "97.jpg done\n",
      "98.jpg done\n",
      "99.jpg done\n",
      "100.jpg done\n",
      "101.jpg done\n",
      "102.jpg done\n",
      "103.jpg done\n",
      "104.jpg done\n",
      "105.jpg done\n",
      "106.jpg done\n",
      "107.jpg done\n",
      "108.jpg done\n",
      "109.jpg done\n",
      "110.jpg done\n",
      "111.jpg done\n",
      "112.jpg done\n",
      "113.jpg done\n",
      "114.jpg done\n",
      "115.jpg done\n",
      "116.jpg done\n",
      "117.jpg done\n",
      "118.jpg done\n",
      "119.jpg done\n",
      "120.jpg done\n",
      "121.jpg done\n",
      "122.jpg done\n",
      "123.jpg done\n",
      "124.jpg done\n",
      "125.jpg done\n",
      "126.jpg done\n",
      "127.jpg done\n",
      "128.jpg done\n",
      "129.jpg done\n",
      "130.jpg done\n",
      "131.jpg done\n",
      "132.jpg done\n",
      "133.jpg done\n",
      "134.jpg done\n",
      "135.jpg done\n",
      "136.jpg done\n",
      "137.jpg done\n",
      "138.jpg done\n",
      "139.jpg done\n",
      "140.jpg done\n",
      "141.jpg done\n"
     ]
    },
    {
     "name": "stderr",
     "output_type": "stream",
     "text": [
      "  4%|▍         | 17/421 [00:46<30:02,  4.46s/it]"
     ]
    },
    {
     "name": "stdout",
     "output_type": "stream",
     "text": [
      "142.jpg done\n",
      "143.jpg done\n",
      "144.jpg done\n",
      "0.jpg done\n",
      "1.jpg done\n",
      "2.jpg done\n",
      "3.jpg done\n",
      "4.jpg done\n",
      "5.jpg done\n",
      "6.jpg done\n",
      "7.jpg done\n",
      "8.jpg done\n",
      "9.jpg done\n",
      "10.jpg done\n",
      "11.jpg done\n",
      "12.jpg done\n",
      "13.jpg done\n",
      "14.jpg done\n"
     ]
    },
    {
     "name": "stderr",
     "output_type": "stream",
     "text": [
      "  4%|▍         | 18/421 [00:47<22:57,  3.42s/it]"
     ]
    },
    {
     "name": "stdout",
     "output_type": "stream",
     "text": [
      "15.jpg done\n",
      "16.jpg done\n",
      "17.jpg done\n",
      "18.jpg done\n",
      "19.jpg done\n",
      "0.jpg done\n",
      "1.jpg done\n",
      "2.jpg done\n",
      "3.jpg done\n",
      "4.jpg done\n",
      "5.jpg done\n",
      "6.jpg done\n",
      "7.jpg done\n",
      "8.jpg done\n",
      "9.jpg done\n",
      "10.jpg done\n",
      "11.jpg done\n",
      "12.jpg done\n",
      "13.jpg done\n",
      "14.jpg done\n",
      "15.jpg done\n",
      "16.jpg done\n",
      "17.jpg done\n",
      "18.jpg done\n",
      "19.jpg done\n",
      "20.jpg done\n",
      "21.jpg done\n",
      "22.jpg done\n",
      "23.jpg done\n",
      "24.jpg done\n",
      "25.jpg done\n",
      "26.jpg done\n",
      "27.jpg done\n",
      "28.jpg done\n",
      "29.jpg done\n"
     ]
    },
    {
     "name": "stderr",
     "output_type": "stream",
     "text": [
      "  5%|▍         | 19/421 [00:48<18:55,  2.82s/it]"
     ]
    },
    {
     "name": "stdout",
     "output_type": "stream",
     "text": [
      "30.jpg done\n",
      "0.jpg done\n",
      "1.jpg done\n",
      "2.jpg done\n",
      "3.jpg done\n",
      "4.jpg done\n",
      "5.jpg done\n",
      "6.jpg done\n",
      "7.jpg done\n",
      "8.jpg done\n",
      "9.jpg done\n",
      "10.jpg done\n",
      "11.jpg done\n",
      "12.jpg done\n",
      "13.jpg done\n",
      "14.jpg done\n",
      "15.jpg done\n",
      "16.jpg done\n",
      "17.jpg done\n"
     ]
    },
    {
     "name": "stderr",
     "output_type": "stream",
     "text": [
      "  5%|▍         | 20/421 [00:49<15:25,  2.31s/it]"
     ]
    },
    {
     "name": "stdout",
     "output_type": "stream",
     "text": [
      "18.jpg done\n",
      "19.jpg done\n",
      "20.jpg done\n",
      "21.jpg done\n",
      "0.jpg done\n",
      "1.jpg done\n",
      "2.jpg done\n",
      "3.jpg done\n",
      "4.jpg done\n",
      "5.jpg done\n",
      "6.jpg done\n",
      "7.jpg done\n",
      "8.jpg done\n",
      "9.jpg done\n"
     ]
    },
    {
     "name": "stderr",
     "output_type": "stream",
     "text": [
      "  5%|▍         | 21/421 [00:50<11:52,  1.78s/it]"
     ]
    },
    {
     "name": "stdout",
     "output_type": "stream",
     "text": [
      "10.jpg done\n",
      "0.jpg done\n",
      "1.jpg done\n",
      "2.jpg done\n",
      "3.jpg done\n",
      "4.jpg done\n",
      "5.jpg done\n",
      "6.jpg done\n",
      "7.jpg done\n",
      "8.jpg done\n",
      "9.jpg done\n",
      "10.jpg done\n",
      "11.jpg done\n",
      "12.jpg done\n",
      "13.jpg done\n",
      "14.jpg done\n",
      "15.jpg done\n",
      "16.jpg done\n",
      "17.jpg done\n",
      "18.jpg done\n",
      "19.jpg done\n",
      "20.jpg done\n",
      "21.jpg done\n",
      "22.jpg done\n",
      "23.jpg done\n",
      "24.jpg done\n",
      "25.jpg done\n",
      "26.jpg done\n",
      "27.jpg done\n",
      "28.jpg done\n",
      "29.jpg done\n",
      "30.jpg done\n",
      "31.jpg done\n",
      "32.jpg done\n",
      "33.jpg done\n",
      "34.jpg done\n",
      "35.jpg done\n",
      "36.jpg done\n",
      "37.jpg done\n",
      "38.jpg done\n",
      "39.jpg done\n",
      "40.jpg done\n"
     ]
    },
    {
     "name": "stderr",
     "output_type": "stream",
     "text": [
      "  5%|▌         | 22/421 [00:52<12:21,  1.86s/it]"
     ]
    },
    {
     "name": "stdout",
     "output_type": "stream",
     "text": [
      "41.jpg done\n",
      "42.jpg done\n",
      "0.jpg done\n",
      "1.jpg done\n",
      "2.jpg done\n",
      "3.jpg done\n",
      "4.jpg done\n",
      "5.jpg done\n",
      "6.jpg done\n",
      "7.jpg done\n",
      "8.jpg done\n",
      "9.jpg done\n",
      "10.jpg done\n",
      "11.jpg done\n",
      "12.jpg done\n",
      "13.jpg done\n",
      "14.jpg done\n",
      "15.jpg done\n",
      "16.jpg done\n",
      "17.jpg done\n",
      "18.jpg done\n",
      "19.jpg done\n",
      "20.jpg done\n",
      "21.jpg done\n",
      "22.jpg done\n",
      "23.jpg done\n",
      "24.jpg done\n",
      "25.jpg done\n",
      "26.jpg done\n",
      "27.jpg done\n",
      "28.jpg done\n",
      "29.jpg done\n",
      "30.jpg done\n",
      "31.jpg done\n",
      "32.jpg done\n",
      "33.jpg done\n",
      "34.jpg done\n",
      "35.jpg done\n",
      "36.jpg done\n",
      "37.jpg done\n",
      "38.jpg done\n",
      "39.jpg done\n",
      "40.jpg done\n",
      "41.jpg done\n",
      "42.jpg done\n",
      "43.jpg done\n",
      "44.jpg done\n",
      "45.jpg done\n",
      "46.jpg done\n",
      "47.jpg done\n",
      "48.jpg done\n",
      "49.jpg done\n",
      "50.jpg done\n",
      "51.jpg done\n",
      "52.jpg done\n",
      "53.jpg done\n",
      "54.jpg done\n",
      "55.jpg done\n",
      "56.jpg done\n",
      "57.jpg done\n",
      "58.jpg done\n",
      "59.jpg done\n",
      "60.jpg done\n",
      "61.jpg done\n",
      "62.jpg done\n"
     ]
    },
    {
     "name": "stderr",
     "output_type": "stream",
     "text": [
      "  5%|▌         | 23/421 [00:55<14:55,  2.25s/it]"
     ]
    },
    {
     "name": "stdout",
     "output_type": "stream",
     "text": [
      "63.jpg done\n",
      "64.jpg done\n",
      "65.jpg done\n",
      "0.jpg done\n",
      "1.jpg done\n",
      "2.jpg done\n",
      "3.jpg done\n",
      "4.jpg done\n"
     ]
    },
    {
     "name": "stderr",
     "output_type": "stream",
     "text": [
      "  6%|▌         | 24/421 [00:56<11:24,  1.72s/it]"
     ]
    },
    {
     "name": "stdout",
     "output_type": "stream",
     "text": [
      "5.jpg done\n",
      "6.jpg done\n",
      "7.jpg done\n",
      "8.jpg done\n",
      "0.jpg done\n",
      "1.jpg done\n",
      "2.jpg done\n",
      "3.jpg done\n",
      "4.jpg done\n",
      "5.jpg done\n",
      "6.jpg done\n",
      "7.jpg done\n",
      "8.jpg done\n",
      "9.jpg done\n",
      "10.jpg done\n",
      "11.jpg done\n",
      "12.jpg done\n",
      "13.jpg done\n",
      "14.jpg done\n"
     ]
    },
    {
     "name": "stderr",
     "output_type": "stream",
     "text": [
      "  6%|▌         | 25/421 [00:56<09:38,  1.46s/it]"
     ]
    },
    {
     "name": "stdout",
     "output_type": "stream",
     "text": [
      "15.jpg done\n",
      "16.jpg done\n",
      "0.jpg done\n",
      "1.jpg done\n",
      "2.jpg done\n",
      "3.jpg done\n",
      "4.jpg done\n",
      "5.jpg done\n",
      "6.jpg done\n",
      "7.jpg done\n",
      "8.jpg done\n",
      "9.jpg done\n",
      "10.jpg done\n",
      "11.jpg done\n",
      "12.jpg done\n",
      "13.jpg done\n",
      "14.jpg done\n",
      "15.jpg done\n",
      "16.jpg done\n",
      "17.jpg done\n",
      "18.jpg done\n",
      "19.jpg done\n",
      "20.jpg done\n",
      "21.jpg done\n",
      "22.jpg done\n",
      "23.jpg done\n",
      "24.jpg done\n"
     ]
    },
    {
     "name": "stderr",
     "output_type": "stream",
     "text": [
      "  6%|▌         | 26/421 [00:58<09:15,  1.41s/it]"
     ]
    },
    {
     "name": "stdout",
     "output_type": "stream",
     "text": [
      "25.jpg done\n",
      "0.jpg done\n",
      "1.jpg done\n",
      "2.jpg done\n",
      "3.jpg done\n",
      "4.jpg done\n",
      "5.jpg done\n",
      "6.jpg done\n",
      "7.jpg done\n",
      "8.jpg done\n",
      "9.jpg done\n",
      "10.jpg done\n",
      "11.jpg done\n",
      "12.jpg done\n",
      "13.jpg done\n",
      "14.jpg done\n",
      "15.jpg done\n",
      "16.jpg done\n",
      "17.jpg done\n",
      "18.jpg done\n",
      "19.jpg done\n",
      "20.jpg done\n",
      "21.jpg done\n",
      "22.jpg done\n",
      "23.jpg done\n",
      "24.jpg done\n",
      "25.jpg done\n",
      "26.jpg done\n",
      "27.jpg done\n",
      "28.jpg done\n",
      "29.jpg done\n",
      "30.jpg done\n",
      "31.jpg done\n",
      "32.jpg done\n",
      "33.jpg done\n",
      "34.jpg done\n",
      "35.jpg done\n",
      "36.jpg done\n",
      "37.jpg done\n",
      "38.jpg done\n",
      "39.jpg done\n",
      "40.jpg done\n",
      "41.jpg done\n",
      "42.jpg done\n",
      "43.jpg done\n",
      "44.jpg done\n"
     ]
    },
    {
     "name": "stderr",
     "output_type": "stream",
     "text": [
      "  6%|▋         | 27/421 [01:00<11:07,  1.69s/it]"
     ]
    },
    {
     "name": "stdout",
     "output_type": "stream",
     "text": [
      "0.jpg done\n",
      "1.jpg done\n",
      "2.jpg done\n",
      "3.jpg done\n",
      "4.jpg done\n",
      "5.jpg done\n",
      "6.jpg done\n",
      "7.jpg done\n",
      "8.jpg done\n",
      "9.jpg done\n",
      "10.jpg done\n",
      "11.jpg done\n",
      "12.jpg done\n",
      "13.jpg done\n",
      "14.jpg done\n",
      "15.jpg done\n",
      "16.jpg done\n",
      "17.jpg done\n",
      "18.jpg done\n"
     ]
    },
    {
     "name": "stderr",
     "output_type": "stream",
     "text": [
      "  7%|▋         | 28/421 [01:01<09:45,  1.49s/it]"
     ]
    },
    {
     "name": "stdout",
     "output_type": "stream",
     "text": [
      "19.jpg done\n",
      "0.jpg done\n",
      "1.jpg done\n",
      "2.jpg done\n",
      "3.jpg done\n",
      "4.jpg done\n",
      "5.jpg done\n",
      "6.jpg done\n",
      "7.jpg done\n",
      "8.jpg done\n",
      "9.jpg done\n",
      "10.jpg done\n",
      "11.jpg done\n",
      "12.jpg done\n",
      "13.jpg done\n",
      "14.jpg done\n",
      "15.jpg done\n",
      "16.jpg done\n",
      "17.jpg done\n",
      "18.jpg done\n",
      "19.jpg done\n",
      "20.jpg done\n",
      "21.jpg done\n",
      "22.jpg done\n",
      "23.jpg done\n",
      "24.jpg done\n",
      "25.jpg done\n",
      "26.jpg done\n",
      "27.jpg done\n",
      "28.jpg done\n",
      "29.jpg done\n",
      "30.jpg done\n",
      "31.jpg done\n",
      "32.jpg done\n"
     ]
    },
    {
     "name": "stderr",
     "output_type": "stream",
     "text": [
      "  7%|▋         | 29/421 [01:03<10:27,  1.60s/it]"
     ]
    },
    {
     "name": "stdout",
     "output_type": "stream",
     "text": [
      "33.jpg done\n",
      "34.jpg done\n",
      "35.jpg done\n",
      "0.jpg done\n",
      "1.jpg done\n",
      "2.jpg done\n",
      "3.jpg done\n",
      "4.jpg done\n",
      "5.jpg done\n",
      "6.jpg done\n",
      "7.jpg done\n",
      "8.jpg done\n",
      "9.jpg done\n",
      "10.jpg done\n",
      "11.jpg done\n",
      "12.jpg done\n",
      "13.jpg done\n",
      "14.jpg done\n",
      "15.jpg done\n",
      "16.jpg done\n",
      "17.jpg done\n",
      "18.jpg done\n",
      "19.jpg done\n",
      "20.jpg done\n",
      "21.jpg done\n",
      "22.jpg done\n"
     ]
    },
    {
     "name": "stderr",
     "output_type": "stream",
     "text": [
      "  7%|▋         | 30/421 [01:04<09:58,  1.53s/it]"
     ]
    },
    {
     "name": "stdout",
     "output_type": "stream",
     "text": [
      "23.jpg done\n",
      "24.jpg done\n",
      "25.jpg done\n",
      "26.jpg done\n",
      "0.jpg done\n",
      "1.jpg done\n",
      "2.jpg done\n",
      "3.jpg done\n",
      "4.jpg done\n",
      "5.jpg done\n",
      "6.jpg done\n",
      "7.jpg done\n",
      "8.jpg done\n",
      "9.jpg done\n",
      "10.jpg done\n",
      "11.jpg done\n",
      "12.jpg done\n",
      "13.jpg done\n",
      "14.jpg done\n",
      "15.jpg done\n",
      "16.jpg done\n",
      "17.jpg done\n",
      "18.jpg done\n",
      "19.jpg done\n",
      "20.jpg done\n",
      "21.jpg done\n",
      "22.jpg done\n",
      "23.jpg done\n",
      "24.jpg done\n",
      "25.jpg done\n",
      "26.jpg done\n",
      "27.jpg done\n",
      "28.jpg done\n",
      "29.jpg done\n",
      "30.jpg done\n",
      "31.jpg done\n",
      "32.jpg done\n",
      "33.jpg done\n",
      "34.jpg done\n",
      "35.jpg done\n",
      "36.jpg done\n",
      "37.jpg done\n",
      "38.jpg done\n",
      "39.jpg done\n",
      "40.jpg done\n",
      "41.jpg done\n",
      "42.jpg done\n",
      "43.jpg done\n",
      "44.jpg done\n",
      "45.jpg done\n",
      "46.jpg done\n",
      "47.jpg done\n",
      "48.jpg done\n",
      "49.jpg done\n",
      "50.jpg done\n",
      "51.jpg done\n",
      "52.jpg done\n",
      "53.jpg done\n",
      "54.jpg done\n",
      "55.jpg done\n",
      "56.jpg done\n",
      "57.jpg done\n",
      "58.jpg done\n",
      "59.jpg done\n",
      "60.jpg done\n",
      "61.jpg done\n",
      "62.jpg done\n",
      "63.jpg done\n",
      "64.jpg done\n",
      "65.jpg done\n",
      "66.jpg done\n",
      "67.jpg done\n",
      "68.jpg done\n",
      "69.jpg done\n",
      "70.jpg done\n",
      "71.jpg done\n",
      "72.jpg done\n",
      "73.jpg done\n",
      "74.jpg done\n",
      "75.jpg done\n"
     ]
    },
    {
     "name": "stderr",
     "output_type": "stream",
     "text": [
      "  7%|▋         | 31/421 [01:08<14:58,  2.30s/it]"
     ]
    },
    {
     "name": "stdout",
     "output_type": "stream",
     "text": [
      "76.jpg done\n",
      "0.jpg done\n",
      "1.jpg done\n",
      "2.jpg done\n",
      "3.jpg done\n",
      "4.jpg done\n",
      "5.jpg done\n",
      "6.jpg done\n",
      "7.jpg done\n",
      "8.jpg done\n",
      "9.jpg done\n",
      "10.jpg done\n",
      "11.jpg done\n",
      "12.jpg done\n",
      "13.jpg done\n",
      "14.jpg done\n",
      "15.jpg done\n",
      "16.jpg done\n",
      "17.jpg done\n",
      "18.jpg done\n",
      "19.jpg done\n",
      "20.jpg done\n",
      "21.jpg done\n",
      "22.jpg done\n",
      "23.jpg done\n",
      "24.jpg done\n"
     ]
    },
    {
     "name": "stderr",
     "output_type": "stream",
     "text": [
      "  8%|▊         | 32/421 [01:10<12:58,  2.00s/it]"
     ]
    },
    {
     "name": "stdout",
     "output_type": "stream",
     "text": [
      "0.jpg done\n",
      "1.jpg done\n",
      "2.jpg done\n",
      "3.jpg done\n",
      "4.jpg done\n",
      "5.jpg done\n",
      "6.jpg done\n",
      "7.jpg done\n",
      "8.jpg done\n",
      "9.jpg done\n",
      "10.jpg done\n"
     ]
    },
    {
     "name": "stderr",
     "output_type": "stream",
     "text": [
      "  8%|▊         | 33/421 [01:11<10:40,  1.65s/it]"
     ]
    },
    {
     "name": "stdout",
     "output_type": "stream",
     "text": [
      "11.jpg done\n",
      "12.jpg done\n",
      "13.jpg done\n",
      "14.jpg done\n",
      "15.jpg done\n",
      "0.jpg done\n",
      "1.jpg done\n",
      "2.jpg done\n",
      "3.jpg done\n",
      "4.jpg done\n",
      "5.jpg done\n",
      "6.jpg done\n",
      "7.jpg done\n",
      "8.jpg done\n",
      "9.jpg done\n",
      "10.jpg done\n",
      "11.jpg done\n",
      "12.jpg done\n",
      "13.jpg done\n",
      "14.jpg done\n"
     ]
    },
    {
     "name": "stderr",
     "output_type": "stream",
     "text": [
      "  8%|▊         | 34/421 [01:11<08:50,  1.37s/it]"
     ]
    },
    {
     "name": "stdout",
     "output_type": "stream",
     "text": [
      "15.jpg done\n",
      "0.jpg done\n",
      "1.jpg done\n",
      "2.jpg done\n",
      "3.jpg done\n",
      "4.jpg done\n",
      "5.jpg done\n",
      "6.jpg done\n",
      "7.jpg done\n",
      "8.jpg done\n",
      "9.jpg done\n",
      "10.jpg done\n",
      "11.jpg done\n",
      "12.jpg done\n",
      "13.jpg done\n",
      "14.jpg done\n",
      "15.jpg done\n",
      "16.jpg done\n",
      "17.jpg done\n",
      "18.jpg done\n",
      "19.jpg done\n",
      "20.jpg done\n",
      "21.jpg done\n",
      "22.jpg done\n",
      "23.jpg done\n",
      "24.jpg done\n",
      "25.jpg done\n",
      "26.jpg done\n",
      "27.jpg done\n",
      "28.jpg done\n",
      "29.jpg done\n",
      "30.jpg done\n",
      "31.jpg done\n",
      "32.jpg done\n",
      "33.jpg done\n",
      "34.jpg done\n",
      "35.jpg done\n",
      "36.jpg done\n",
      "37.jpg done\n",
      "38.jpg done\n",
      "39.jpg done\n",
      "40.jpg done\n",
      "41.jpg done\n",
      "42.jpg done\n",
      "43.jpg done\n",
      "44.jpg done\n",
      "45.jpg done\n",
      "46.jpg done\n",
      "47.jpg done\n",
      "48.jpg done\n",
      "49.jpg done\n",
      "50.jpg done\n",
      "51.jpg done\n",
      "52.jpg done\n",
      "53.jpg done\n",
      "54.jpg done\n",
      "55.jpg done\n",
      "56.jpg done\n",
      "57.jpg done\n",
      "58.jpg done\n",
      "59.jpg done\n",
      "60.jpg done\n",
      "61.jpg done\n",
      "62.jpg done\n",
      "63.jpg done\n",
      "64.jpg done\n",
      "65.jpg done\n",
      "66.jpg done\n",
      "67.jpg done\n"
     ]
    },
    {
     "name": "stderr",
     "output_type": "stream",
     "text": [
      "  8%|▊         | 35/421 [01:14<12:21,  1.92s/it]"
     ]
    },
    {
     "name": "stdout",
     "output_type": "stream",
     "text": [
      "68.jpg done\n",
      "69.jpg done\n",
      "70.jpg done\n",
      "0.jpg done\n",
      "1.jpg done\n",
      "2.jpg done\n",
      "3.jpg done\n",
      "4.jpg done\n",
      "5.jpg done\n"
     ]
    },
    {
     "name": "stderr",
     "output_type": "stream",
     "text": [
      "  9%|▊         | 36/421 [01:15<09:30,  1.48s/it]"
     ]
    },
    {
     "name": "stdout",
     "output_type": "stream",
     "text": [
      "6.jpg done\n",
      "7.jpg done\n",
      "8.jpg done\n",
      "0.jpg done\n",
      "1.jpg done\n",
      "2.jpg done\n",
      "3.jpg done\n",
      "4.jpg done\n",
      "5.jpg done\n",
      "6.jpg done\n",
      "7.jpg done\n",
      "8.jpg done\n",
      "9.jpg done\n",
      "10.jpg done\n"
     ]
    },
    {
     "name": "stderr",
     "output_type": "stream",
     "text": [
      "  9%|▉         | 37/421 [01:16<08:04,  1.26s/it]"
     ]
    },
    {
     "name": "stdout",
     "output_type": "stream",
     "text": [
      "11.jpg done\n",
      "12.jpg done\n",
      "13.jpg done\n",
      "14.jpg done\n",
      "15.jpg done\n",
      "0.jpg done\n",
      "1.jpg done\n",
      "2.jpg done\n",
      "3.jpg done\n",
      "4.jpg done\n",
      "5.jpg done\n",
      "6.jpg done\n",
      "7.jpg done\n",
      "8.jpg done\n",
      "9.jpg done\n",
      "10.jpg done\n",
      "11.jpg done\n",
      "12.jpg done\n",
      "13.jpg done\n",
      "14.jpg done\n",
      "15.jpg done\n",
      "16.jpg done\n",
      "17.jpg done\n",
      "18.jpg done\n",
      "19.jpg done\n",
      "20.jpg done\n",
      "21.jpg done\n",
      "22.jpg done\n",
      "23.jpg done\n",
      "24.jpg done\n",
      "25.jpg done\n",
      "26.jpg done\n",
      "27.jpg done\n",
      "28.jpg done\n",
      "29.jpg done\n",
      "30.jpg done\n",
      "31.jpg done\n",
      "32.jpg done\n",
      "33.jpg done\n",
      "34.jpg done\n",
      "35.jpg done\n",
      "36.jpg done\n",
      "37.jpg done\n",
      "38.jpg done\n",
      "39.jpg done\n",
      "40.jpg done\n"
     ]
    },
    {
     "name": "stderr",
     "output_type": "stream",
     "text": [
      "  9%|▉         | 38/421 [01:18<09:17,  1.45s/it]"
     ]
    },
    {
     "name": "stdout",
     "output_type": "stream",
     "text": [
      "41.jpg done\n",
      "0.jpg done\n",
      "1.jpg done\n",
      "2.jpg done\n",
      "3.jpg done\n",
      "4.jpg done\n",
      "5.jpg done\n",
      "6.jpg done\n",
      "7.jpg done\n",
      "8.jpg done\n",
      "9.jpg done\n",
      "10.jpg done\n",
      "11.jpg done\n",
      "12.jpg done\n",
      "13.jpg done\n",
      "14.jpg done\n",
      "15.jpg done\n",
      "16.jpg done\n",
      "17.jpg done\n",
      "18.jpg done\n",
      "19.jpg done\n",
      "20.jpg done\n",
      "21.jpg done\n",
      "22.jpg done\n",
      "23.jpg done\n",
      "24.jpg done\n",
      "25.jpg done\n",
      "26.jpg done\n",
      "27.jpg done\n",
      "28.jpg done\n",
      "29.jpg done\n",
      "30.jpg done\n",
      "31.jpg done\n",
      "32.jpg done\n",
      "33.jpg done\n",
      "34.jpg done\n",
      "35.jpg done\n",
      "36.jpg done\n",
      "37.jpg done\n",
      "38.jpg done\n",
      "39.jpg done\n",
      "40.jpg done\n",
      "41.jpg done\n",
      "42.jpg done\n",
      "43.jpg done\n",
      "44.jpg done\n",
      "45.jpg done\n",
      "46.jpg done\n",
      "47.jpg done\n",
      "48.jpg done\n",
      "49.jpg done\n",
      "50.jpg done\n",
      "51.jpg done\n",
      "52.jpg done\n",
      "53.jpg done\n",
      "54.jpg done\n",
      "55.jpg done\n",
      "56.jpg done\n",
      "57.jpg done\n",
      "58.jpg done\n",
      "59.jpg done\n",
      "60.jpg done\n",
      "61.jpg done\n",
      "62.jpg done\n",
      "63.jpg done\n",
      "64.jpg done\n",
      "65.jpg done\n",
      "66.jpg done\n",
      "67.jpg done\n",
      "68.jpg done\n",
      "69.jpg done\n",
      "70.jpg done\n",
      "71.jpg done\n",
      "72.jpg done\n",
      "73.jpg done\n",
      "74.jpg done\n",
      "75.jpg done\n",
      "76.jpg done\n",
      "77.jpg done\n",
      "78.jpg done\n",
      "79.jpg done\n",
      "80.jpg done\n",
      "81.jpg done\n",
      "82.jpg done\n",
      "83.jpg done\n",
      "84.jpg done\n",
      "85.jpg done\n",
      "86.jpg done\n",
      "87.jpg done\n",
      "88.jpg done\n",
      "89.jpg done\n",
      "90.jpg done\n",
      "91.jpg done\n",
      "92.jpg done\n",
      "93.jpg done\n",
      "94.jpg done\n",
      "95.jpg done\n",
      "96.jpg done\n",
      "97.jpg done\n",
      "98.jpg done\n",
      "99.jpg done\n",
      "100.jpg done\n",
      "101.jpg done\n",
      "102.jpg done\n",
      "103.jpg done\n",
      "104.jpg done\n",
      "105.jpg done\n",
      "106.jpg done\n",
      "107.jpg done\n",
      "108.jpg done\n",
      "109.jpg done\n",
      "110.jpg done\n",
      "111.jpg done\n",
      "112.jpg done\n",
      "113.jpg done\n",
      "114.jpg done\n",
      "115.jpg done\n",
      "116.jpg done\n",
      "117.jpg done\n",
      "118.jpg done\n",
      "119.jpg done\n",
      "120.jpg done\n",
      "121.jpg done\n",
      "122.jpg done\n",
      "123.jpg done\n",
      "124.jpg done\n",
      "125.jpg done\n",
      "126.jpg done\n",
      "127.jpg done\n",
      "128.jpg done\n",
      "129.jpg done\n",
      "130.jpg done\n",
      "131.jpg done\n",
      "132.jpg done\n",
      "133.jpg done\n",
      "134.jpg done\n",
      "135.jpg done\n",
      "136.jpg done\n",
      "137.jpg done\n",
      "138.jpg done\n",
      "139.jpg done\n",
      "140.jpg done\n",
      "141.jpg done\n",
      "142.jpg done\n",
      "143.jpg done\n",
      "144.jpg done\n",
      "145.jpg done\n",
      "146.jpg done\n",
      "147.jpg done\n",
      "148.jpg done\n",
      "149.jpg done\n",
      "150.jpg done\n",
      "151.jpg done\n",
      "152.jpg done\n",
      "153.jpg done\n",
      "154.jpg done\n",
      "155.jpg done\n",
      "156.jpg done\n",
      "157.jpg done\n",
      "158.jpg done\n",
      "159.jpg done\n",
      "160.jpg done\n",
      "161.jpg done\n",
      "162.jpg done\n",
      "163.jpg done\n",
      "164.jpg done\n",
      "165.jpg done\n",
      "166.jpg done\n",
      "167.jpg done\n",
      "168.jpg done\n",
      "169.jpg done\n",
      "170.jpg done\n",
      "171.jpg done\n",
      "172.jpg done\n",
      "173.jpg done\n"
     ]
    },
    {
     "name": "stderr",
     "output_type": "stream",
     "text": [
      "  9%|▉         | 39/421 [01:25<20:40,  3.25s/it]"
     ]
    },
    {
     "name": "stdout",
     "output_type": "stream",
     "text": [
      "174.jpg done\n",
      "0.jpg done\n",
      "1.jpg done\n",
      "2.jpg done\n",
      "3.jpg done\n",
      "4.jpg done\n",
      "5.jpg done\n",
      "6.jpg done\n",
      "7.jpg done\n",
      "8.jpg done\n",
      "9.jpg done\n",
      "10.jpg done\n",
      "11.jpg done\n",
      "12.jpg done\n",
      "13.jpg done\n",
      "14.jpg done\n",
      "15.jpg done\n",
      "16.jpg done\n",
      "17.jpg done\n",
      "18.jpg done\n",
      "19.jpg done\n",
      "20.jpg done\n",
      "21.jpg done\n",
      "22.jpg done\n",
      "23.jpg done\n",
      "24.jpg done\n",
      "25.jpg done\n",
      "26.jpg done\n",
      "27.jpg done\n",
      "28.jpg done\n",
      "29.jpg done\n",
      "30.jpg done\n",
      "31.jpg done\n",
      "32.jpg done\n",
      "33.jpg done\n",
      "34.jpg done\n",
      "35.jpg done\n",
      "36.jpg done\n",
      "37.jpg done\n",
      "38.jpg done\n",
      "39.jpg done\n",
      "40.jpg done\n",
      "41.jpg done\n",
      "42.jpg done\n",
      "43.jpg done\n",
      "44.jpg done\n",
      "45.jpg done\n",
      "46.jpg done\n",
      "47.jpg done\n",
      "48.jpg done\n",
      "49.jpg done\n",
      "50.jpg done\n",
      "51.jpg done\n",
      "52.jpg done\n",
      "53.jpg done\n",
      "54.jpg done\n",
      "55.jpg done\n",
      "56.jpg done\n",
      "57.jpg done\n",
      "58.jpg done\n",
      "59.jpg done\n",
      "60.jpg done\n",
      "61.jpg done\n",
      "62.jpg done\n",
      "63.jpg done\n",
      "64.jpg done\n",
      "65.jpg done\n",
      "66.jpg done\n",
      "67.jpg done\n",
      "68.jpg done\n",
      "69.jpg done\n",
      "70.jpg done\n",
      "71.jpg done\n",
      "72.jpg done\n",
      "73.jpg done\n",
      "74.jpg done\n",
      "75.jpg done\n",
      "76.jpg done\n",
      "77.jpg done\n",
      "78.jpg done\n",
      "79.jpg done\n",
      "80.jpg done\n",
      "81.jpg done\n",
      "82.jpg done\n",
      "83.jpg done\n",
      "84.jpg done\n",
      "85.jpg done\n",
      "86.jpg done\n"
     ]
    },
    {
     "name": "stderr",
     "output_type": "stream",
     "text": [
      " 10%|▉         | 40/421 [01:29<22:48,  3.59s/it]"
     ]
    },
    {
     "name": "stdout",
     "output_type": "stream",
     "text": [
      "87.jpg done\n",
      "0.jpg done\n",
      "1.jpg done\n",
      "2.jpg done\n",
      "3.jpg done\n",
      "4.jpg done\n",
      "5.jpg done\n",
      "6.jpg done\n",
      "7.jpg done\n",
      "8.jpg done\n",
      "9.jpg done\n",
      "10.jpg done\n",
      "11.jpg done\n",
      "12.jpg done\n",
      "13.jpg done\n",
      "14.jpg done\n",
      "15.jpg done\n",
      "16.jpg done\n",
      "17.jpg done\n",
      "18.jpg done\n",
      "19.jpg done\n",
      "20.jpg done\n",
      "21.jpg done\n",
      "22.jpg done\n",
      "23.jpg done\n",
      "24.jpg done\n",
      "25.jpg done\n",
      "26.jpg done\n",
      "27.jpg done\n",
      "28.jpg done\n",
      "29.jpg done\n",
      "30.jpg done\n",
      "31.jpg done\n",
      "32.jpg done\n",
      "33.jpg done\n",
      "34.jpg done\n",
      "35.jpg done\n",
      "36.jpg done\n",
      "37.jpg done\n"
     ]
    },
    {
     "name": "stderr",
     "output_type": "stream",
     "text": [
      " 10%|▉         | 41/421 [01:31<19:19,  3.05s/it]"
     ]
    },
    {
     "name": "stdout",
     "output_type": "stream",
     "text": [
      "0.jpg done\n",
      "1.jpg done\n",
      "2.jpg done\n",
      "3.jpg done\n",
      "4.jpg done\n",
      "5.jpg done\n",
      "6.jpg done\n",
      "7.jpg done\n",
      "8.jpg done\n",
      "9.jpg done\n",
      "10.jpg done\n",
      "11.jpg done\n",
      "12.jpg done\n",
      "13.jpg done\n",
      "14.jpg done\n",
      "15.jpg done\n",
      "16.jpg done\n",
      "17.jpg done\n",
      "18.jpg done\n",
      "19.jpg done\n",
      "20.jpg done\n",
      "21.jpg done\n",
      "22.jpg done\n",
      "23.jpg done\n",
      "24.jpg done\n",
      "25.jpg done\n",
      "26.jpg done\n",
      "27.jpg done\n",
      "28.jpg done\n",
      "29.jpg done\n",
      "30.jpg done\n",
      "31.jpg done\n",
      "32.jpg done\n",
      "33.jpg done\n",
      "34.jpg done\n",
      "35.jpg done\n",
      "36.jpg done\n",
      "37.jpg done\n",
      "38.jpg done\n",
      "39.jpg done\n",
      "40.jpg done\n",
      "41.jpg done\n",
      "42.jpg done\n"
     ]
    },
    {
     "name": "stderr",
     "output_type": "stream",
     "text": [
      " 10%|▉         | 42/421 [01:34<18:19,  2.90s/it]"
     ]
    },
    {
     "name": "stdout",
     "output_type": "stream",
     "text": [
      "43.jpg done\n",
      "44.jpg done\n",
      "45.jpg done\n",
      "0.jpg done\n",
      "1.jpg done\n",
      "2.jpg done\n",
      "3.jpg done\n",
      "4.jpg done\n",
      "5.jpg done\n",
      "6.jpg done\n",
      "7.jpg done\n",
      "8.jpg done\n",
      "9.jpg done\n",
      "10.jpg done\n",
      "11.jpg done\n",
      "12.jpg done\n",
      "13.jpg done\n",
      "14.jpg done\n",
      "15.jpg done\n",
      "16.jpg done\n",
      "17.jpg done\n",
      "18.jpg done\n",
      "19.jpg done\n"
     ]
    },
    {
     "name": "stderr",
     "output_type": "stream",
     "text": [
      " 10%|█         | 43/421 [01:35<14:56,  2.37s/it]"
     ]
    },
    {
     "name": "stdout",
     "output_type": "stream",
     "text": [
      "20.jpg done\n",
      "21.jpg done\n",
      "0.jpg done\n",
      "1.jpg done\n",
      "2.jpg done\n",
      "3.jpg done\n",
      "4.jpg done\n",
      "5.jpg done\n",
      "6.jpg done\n",
      "7.jpg done\n",
      "8.jpg done\n",
      "9.jpg done\n",
      "10.jpg done\n",
      "11.jpg done\n",
      "12.jpg done\n",
      "13.jpg done\n",
      "14.jpg done\n",
      "15.jpg done\n",
      "16.jpg done\n",
      "17.jpg done\n",
      "18.jpg done\n",
      "19.jpg done\n",
      "20.jpg done\n"
     ]
    },
    {
     "name": "stderr",
     "output_type": "stream",
     "text": [
      " 10%|█         | 44/421 [01:36<12:31,  1.99s/it]"
     ]
    },
    {
     "name": "stdout",
     "output_type": "stream",
     "text": [
      "21.jpg done\n",
      "22.jpg done\n",
      "0.jpg done\n",
      "1.jpg done\n",
      "2.jpg done\n",
      "3.jpg done\n",
      "4.jpg done\n",
      "5.jpg done\n",
      "6.jpg done\n",
      "7.jpg done\n",
      "8.jpg done\n",
      "9.jpg done\n",
      "10.jpg done\n",
      "11.jpg done\n",
      "12.jpg done\n",
      "13.jpg done\n",
      "14.jpg done\n",
      "15.jpg done\n",
      "16.jpg done\n",
      "17.jpg done\n",
      "18.jpg done\n",
      "19.jpg done\n",
      "20.jpg done\n",
      "21.jpg done\n",
      "22.jpg done\n",
      "23.jpg done\n",
      "24.jpg done\n",
      "25.jpg done\n",
      "26.jpg done\n",
      "27.jpg done\n",
      "28.jpg done\n",
      "29.jpg done\n",
      "30.jpg done\n",
      "31.jpg done\n",
      "32.jpg done\n",
      "33.jpg done\n",
      "34.jpg done\n",
      "35.jpg done\n",
      "36.jpg done\n",
      "37.jpg done\n"
     ]
    },
    {
     "name": "stderr",
     "output_type": "stream",
     "text": [
      " 11%|█         | 45/421 [01:38<12:20,  1.97s/it]"
     ]
    },
    {
     "name": "stdout",
     "output_type": "stream",
     "text": [
      "38.jpg done\n",
      "39.jpg done\n",
      "40.jpg done\n",
      "41.jpg done\n",
      "0.jpg done\n",
      "1.jpg done\n",
      "2.jpg done\n",
      "3.jpg done\n",
      "4.jpg done\n",
      "5.jpg done\n",
      "6.jpg done\n",
      "7.jpg done\n",
      "8.jpg done\n",
      "9.jpg done\n"
     ]
    },
    {
     "name": "stderr",
     "output_type": "stream",
     "text": [
      " 11%|█         | 46/421 [01:39<09:55,  1.59s/it]"
     ]
    },
    {
     "name": "stdout",
     "output_type": "stream",
     "text": [
      "10.jpg done\n",
      "11.jpg done\n",
      "12.jpg done\n",
      "13.jpg done\n"
     ]
    },
    {
     "name": "stderr",
     "output_type": "stream",
     "text": [
      " 11%|█         | 47/421 [01:39<07:25,  1.19s/it]"
     ]
    },
    {
     "name": "stdout",
     "output_type": "stream",
     "text": [
      "0.jpg done\n",
      "1.jpg done\n",
      "2.jpg done\n",
      "3.jpg done\n",
      "0.jpg done\n",
      "1.jpg done\n",
      "2.jpg done\n",
      "3.jpg done\n",
      "4.jpg done\n",
      "5.jpg done\n",
      "6.jpg done\n",
      "7.jpg done\n",
      "8.jpg done\n",
      "9.jpg done\n",
      "10.jpg done\n",
      "11.jpg done\n",
      "12.jpg done\n",
      "13.jpg done\n",
      "14.jpg done\n",
      "15.jpg done\n",
      "16.jpg done\n",
      "17.jpg done\n",
      "18.jpg done\n",
      "19.jpg done\n",
      "20.jpg done\n",
      "21.jpg done\n",
      "22.jpg done\n",
      "23.jpg done\n",
      "24.jpg done\n"
     ]
    },
    {
     "name": "stderr",
     "output_type": "stream",
     "text": [
      " 11%|█▏        | 48/421 [01:40<07:53,  1.27s/it]"
     ]
    },
    {
     "name": "stdout",
     "output_type": "stream",
     "text": [
      "25.jpg done\n",
      "26.jpg done\n",
      "27.jpg done\n",
      "28.jpg done\n",
      "29.jpg done\n",
      "0.jpg done\n",
      "1.jpg done\n",
      "2.jpg done\n",
      "3.jpg done\n",
      "4.jpg done\n",
      "5.jpg done\n",
      "6.jpg done\n",
      "7.jpg done\n",
      "8.jpg done\n",
      "9.jpg done\n",
      "10.jpg done\n",
      "11.jpg done\n",
      "12.jpg done\n",
      "13.jpg done\n",
      "14.jpg done\n",
      "15.jpg done\n",
      "16.jpg done\n",
      "17.jpg done\n",
      "18.jpg done\n",
      "19.jpg done\n",
      "20.jpg done\n",
      "21.jpg done\n",
      "22.jpg done\n",
      "23.jpg done\n",
      "24.jpg done\n",
      "25.jpg done\n",
      "26.jpg done\n",
      "27.jpg done\n",
      "28.jpg done\n",
      "29.jpg done\n",
      "30.jpg done\n",
      "31.jpg done\n",
      "32.jpg done\n",
      "33.jpg done\n",
      "34.jpg done\n",
      "35.jpg done\n",
      "36.jpg done\n",
      "37.jpg done\n",
      "38.jpg done\n",
      "39.jpg done\n",
      "40.jpg done\n",
      "41.jpg done\n",
      "42.jpg done\n",
      "43.jpg done\n",
      "44.jpg done\n",
      "45.jpg done\n",
      "46.jpg done\n",
      "47.jpg done\n",
      "48.jpg done\n",
      "49.jpg done\n",
      "50.jpg done\n",
      "51.jpg done\n",
      "52.jpg done\n",
      "53.jpg done\n",
      "54.jpg done\n",
      "55.jpg done\n",
      "56.jpg done\n",
      "57.jpg done\n",
      "58.jpg done\n",
      "59.jpg done\n",
      "60.jpg done\n",
      "61.jpg done\n",
      "62.jpg done\n"
     ]
    },
    {
     "name": "stderr",
     "output_type": "stream",
     "text": [
      " 12%|█▏        | 49/421 [01:44<11:37,  1.87s/it]"
     ]
    },
    {
     "name": "stdout",
     "output_type": "stream",
     "text": [
      "63.jpg done\n",
      "64.jpg done\n",
      "65.jpg done\n",
      "0.jpg done\n",
      "1.jpg done\n",
      "2.jpg done\n",
      "3.jpg done\n",
      "4.jpg done\n"
     ]
    },
    {
     "name": "stderr",
     "output_type": "stream",
     "text": [
      " 12%|█▏        | 50/421 [01:44<08:56,  1.45s/it]"
     ]
    },
    {
     "name": "stdout",
     "output_type": "stream",
     "text": [
      "5.jpg done\n",
      "6.jpg done\n",
      "0.jpg done\n",
      "1.jpg done\n",
      "2.jpg done\n",
      "3.jpg done\n",
      "4.jpg done\n",
      "5.jpg done\n",
      "6.jpg done\n",
      "7.jpg done\n",
      "8.jpg done\n",
      "9.jpg done\n",
      "10.jpg done\n",
      "11.jpg done\n",
      "12.jpg done\n",
      "13.jpg done\n",
      "14.jpg done\n",
      "15.jpg done\n",
      "16.jpg done\n",
      "17.jpg done\n",
      "18.jpg done\n",
      "19.jpg done\n",
      "20.jpg done\n",
      "21.jpg done\n",
      "22.jpg done\n",
      "23.jpg done\n",
      "24.jpg done\n",
      "25.jpg done\n",
      "26.jpg done\n",
      "27.jpg done\n",
      "28.jpg done\n",
      "29.jpg done\n",
      "30.jpg done\n",
      "31.jpg done\n",
      "32.jpg done\n",
      "33.jpg done\n",
      "34.jpg done\n",
      "35.jpg done\n",
      "36.jpg done\n",
      "37.jpg done\n",
      "38.jpg done\n",
      "39.jpg done\n",
      "40.jpg done\n",
      "41.jpg done\n",
      "42.jpg done\n",
      "43.jpg done\n",
      "44.jpg done\n",
      "45.jpg done\n",
      "46.jpg done\n",
      "47.jpg done\n",
      "48.jpg done\n",
      "49.jpg done\n",
      "50.jpg done\n",
      "51.jpg done\n",
      "52.jpg done\n",
      "53.jpg done\n",
      "54.jpg done\n",
      "55.jpg done\n",
      "56.jpg done\n",
      "57.jpg done\n",
      "58.jpg done\n",
      "59.jpg done\n",
      "60.jpg done\n",
      "61.jpg done\n",
      "62.jpg done\n",
      "63.jpg done\n",
      "64.jpg done\n",
      "65.jpg done\n",
      "66.jpg done\n",
      "67.jpg done\n",
      "68.jpg done\n",
      "69.jpg done\n",
      "70.jpg done\n",
      "71.jpg done\n",
      "72.jpg done\n",
      "73.jpg done\n",
      "74.jpg done\n",
      "75.jpg done\n",
      "76.jpg done\n",
      "77.jpg done\n",
      "78.jpg done\n",
      "79.jpg done\n",
      "80.jpg done\n",
      "81.jpg done\n",
      "82.jpg done\n"
     ]
    },
    {
     "name": "stderr",
     "output_type": "stream",
     "text": [
      " 12%|█▏        | 51/421 [01:48<13:30,  2.19s/it]"
     ]
    },
    {
     "name": "stdout",
     "output_type": "stream",
     "text": [
      "83.jpg done\n",
      "84.jpg done\n",
      "85.jpg done\n",
      "86.jpg done\n",
      "87.jpg done\n",
      "0.jpg done\n",
      "1.jpg done\n",
      "2.jpg done\n",
      "3.jpg done\n",
      "4.jpg done\n",
      "5.jpg done\n",
      "6.jpg done\n",
      "7.jpg done\n",
      "8.jpg done\n",
      "9.jpg done\n",
      "10.jpg done\n",
      "11.jpg done\n",
      "12.jpg done\n",
      "13.jpg done\n",
      "14.jpg done\n",
      "15.jpg done\n",
      "16.jpg done\n",
      "17.jpg done\n",
      "18.jpg done\n",
      "19.jpg done\n",
      "20.jpg done\n",
      "21.jpg done\n",
      "22.jpg done\n",
      "23.jpg done\n",
      "24.jpg done\n"
     ]
    },
    {
     "name": "stderr",
     "output_type": "stream",
     "text": [
      " 12%|█▏        | 52/421 [01:49<11:55,  1.94s/it]"
     ]
    },
    {
     "name": "stdout",
     "output_type": "stream",
     "text": [
      "25.jpg done\n",
      "0.jpg done\n",
      "1.jpg done\n",
      "2.jpg done\n",
      "3.jpg done\n",
      "4.jpg done\n",
      "5.jpg done\n",
      "6.jpg done\n",
      "7.jpg done\n",
      "8.jpg done\n",
      "9.jpg done\n",
      "10.jpg done\n",
      "11.jpg done\n",
      "12.jpg done\n",
      "13.jpg done\n",
      "14.jpg done\n",
      "15.jpg done\n",
      "16.jpg done\n",
      "17.jpg done\n",
      "18.jpg done\n",
      "19.jpg done\n",
      "20.jpg done\n",
      "21.jpg done\n",
      "22.jpg done\n",
      "23.jpg done\n",
      "24.jpg done\n",
      "25.jpg done\n",
      "26.jpg done\n",
      "27.jpg done\n",
      "28.jpg done\n",
      "29.jpg done\n",
      "30.jpg done\n",
      "31.jpg done\n",
      "32.jpg done\n",
      "33.jpg done\n",
      "34.jpg done\n",
      "35.jpg done\n",
      "36.jpg done\n",
      "37.jpg done\n",
      "38.jpg done\n",
      "39.jpg done\n",
      "40.jpg done\n"
     ]
    },
    {
     "name": "stderr",
     "output_type": "stream",
     "text": [
      " 13%|█▎        | 53/421 [01:52<12:43,  2.07s/it]"
     ]
    },
    {
     "name": "stdout",
     "output_type": "stream",
     "text": [
      "41.jpg done\n",
      "42.jpg done\n",
      "43.jpg done\n",
      "44.jpg done\n",
      "0.jpg done\n",
      "1.jpg done\n",
      "2.jpg done\n",
      "3.jpg done\n",
      "4.jpg done\n",
      "5.jpg done\n",
      "6.jpg done\n",
      "7.jpg done\n",
      "8.jpg done\n",
      "9.jpg done\n",
      "10.jpg done\n",
      "11.jpg done\n",
      "12.jpg done\n",
      "13.jpg done\n",
      "14.jpg done\n",
      "15.jpg done\n",
      "16.jpg done\n",
      "17.jpg done\n",
      "18.jpg done\n"
     ]
    },
    {
     "name": "stderr",
     "output_type": "stream",
     "text": [
      " 13%|█▎        | 54/421 [01:53<10:52,  1.78s/it]"
     ]
    },
    {
     "name": "stdout",
     "output_type": "stream",
     "text": [
      "19.jpg done\n",
      "20.jpg done\n",
      "21.jpg done\n",
      "0.jpg done\n",
      "1.jpg done\n",
      "2.jpg done\n",
      "3.jpg done\n",
      "4.jpg done\n",
      "5.jpg done\n",
      "6.jpg done\n",
      "7.jpg done\n",
      "8.jpg done\n",
      "9.jpg done\n",
      "10.jpg done\n",
      "11.jpg done\n",
      "12.jpg done\n",
      "13.jpg done\n",
      "14.jpg done\n",
      "15.jpg done\n",
      "16.jpg done\n",
      "17.jpg done\n",
      "18.jpg done\n",
      "19.jpg done\n",
      "20.jpg done\n",
      "21.jpg done\n",
      "22.jpg done\n",
      "23.jpg done\n",
      "24.jpg done\n",
      "25.jpg done\n",
      "26.jpg done\n",
      "27.jpg done\n",
      "28.jpg done\n",
      "29.jpg done\n",
      "30.jpg done\n",
      "31.jpg done\n",
      "32.jpg done\n",
      "33.jpg done\n",
      "34.jpg done\n",
      "35.jpg done\n",
      "36.jpg done\n",
      "37.jpg done\n",
      "38.jpg done\n",
      "39.jpg done\n",
      "40.jpg done\n",
      "41.jpg done\n",
      "42.jpg done\n",
      "43.jpg done\n",
      "44.jpg done\n",
      "45.jpg done\n",
      "46.jpg done\n",
      "47.jpg done\n",
      "48.jpg done\n",
      "49.jpg done\n",
      "50.jpg done\n",
      "51.jpg done\n",
      "52.jpg done\n",
      "53.jpg done\n"
     ]
    },
    {
     "name": "stderr",
     "output_type": "stream",
     "text": [
      " 13%|█▎        | 55/421 [01:56<12:32,  2.06s/it]"
     ]
    },
    {
     "name": "stdout",
     "output_type": "stream",
     "text": [
      "54.jpg done\n",
      "0.jpg done\n",
      "1.jpg done\n",
      "2.jpg done\n",
      "3.jpg done\n",
      "4.jpg done\n",
      "5.jpg done\n",
      "6.jpg done\n",
      "7.jpg done\n",
      "8.jpg done\n",
      "9.jpg done\n",
      "10.jpg done\n",
      "11.jpg done\n",
      "12.jpg done\n",
      "13.jpg done\n",
      "14.jpg done\n",
      "15.jpg done\n",
      "16.jpg done\n",
      "17.jpg done\n",
      "18.jpg done\n",
      "19.jpg done\n",
      "20.jpg done\n",
      "21.jpg done\n",
      "22.jpg done\n",
      "23.jpg done\n",
      "24.jpg done\n",
      "25.jpg done\n",
      "26.jpg done\n",
      "27.jpg done\n",
      "28.jpg done\n",
      "29.jpg done\n",
      "30.jpg done\n",
      "31.jpg done\n",
      "32.jpg done\n",
      "33.jpg done\n",
      "34.jpg done\n",
      "35.jpg done\n",
      "36.jpg done\n",
      "37.jpg done\n",
      "38.jpg done\n",
      "39.jpg done\n",
      "40.jpg done\n",
      "41.jpg done\n",
      "42.jpg done\n",
      "43.jpg done\n",
      "44.jpg done\n",
      "45.jpg done\n",
      "46.jpg done\n",
      "47.jpg done\n",
      "48.jpg done\n",
      "49.jpg done\n",
      "50.jpg done\n",
      "51.jpg done\n",
      "52.jpg done\n",
      "53.jpg done\n",
      "54.jpg done\n",
      "55.jpg done\n",
      "56.jpg done\n",
      "57.jpg done\n"
     ]
    },
    {
     "name": "stderr",
     "output_type": "stream",
     "text": [
      " 13%|█▎        | 56/421 [01:58<13:36,  2.24s/it]"
     ]
    },
    {
     "name": "stdout",
     "output_type": "stream",
     "text": [
      "58.jpg done\n",
      "0.jpg done\n",
      "1.jpg done\n",
      "2.jpg done\n",
      "3.jpg done\n",
      "4.jpg done\n",
      "5.jpg done\n",
      "6.jpg done\n",
      "7.jpg done\n",
      "8.jpg done\n",
      "9.jpg done\n",
      "10.jpg done\n",
      "11.jpg done\n",
      "12.jpg done\n",
      "13.jpg done\n",
      "14.jpg done\n",
      "15.jpg done\n",
      "16.jpg done\n",
      "17.jpg done\n"
     ]
    },
    {
     "name": "stderr",
     "output_type": "stream",
     "text": [
      " 14%|█▎        | 57/421 [01:59<11:31,  1.90s/it]"
     ]
    },
    {
     "name": "stdout",
     "output_type": "stream",
     "text": [
      "18.jpg done\n",
      "19.jpg done\n",
      "20.jpg done\n",
      "21.jpg done\n",
      "0.jpg done\n",
      "1.jpg done\n",
      "2.jpg done\n",
      "3.jpg done\n",
      "4.jpg done\n",
      "5.jpg done\n",
      "6.jpg done\n",
      "7.jpg done\n",
      "8.jpg done\n",
      "9.jpg done\n",
      "10.jpg done\n",
      "11.jpg done\n",
      "12.jpg done\n",
      "13.jpg done\n",
      "14.jpg done\n",
      "15.jpg done\n",
      "16.jpg done\n",
      "17.jpg done\n",
      "18.jpg done\n",
      "19.jpg done\n",
      "20.jpg done\n",
      "21.jpg done\n",
      "22.jpg done\n",
      "23.jpg done\n",
      "24.jpg done\n",
      "25.jpg done\n",
      "26.jpg done\n",
      "27.jpg done\n",
      "28.jpg done\n",
      "29.jpg done\n",
      "30.jpg done\n",
      "31.jpg done\n",
      "32.jpg done\n",
      "33.jpg done\n",
      "34.jpg done\n",
      "35.jpg done\n",
      "36.jpg done\n",
      "37.jpg done\n",
      "38.jpg done\n",
      "39.jpg done\n",
      "40.jpg done\n",
      "41.jpg done\n",
      "42.jpg done\n",
      "43.jpg done\n",
      "44.jpg done\n",
      "45.jpg done\n",
      "46.jpg done\n",
      "47.jpg done\n",
      "48.jpg done\n",
      "49.jpg done\n",
      "50.jpg done\n",
      "51.jpg done\n",
      "52.jpg done\n",
      "53.jpg done\n",
      "54.jpg done\n",
      "55.jpg done\n",
      "56.jpg done\n",
      "57.jpg done\n",
      "58.jpg done\n",
      "59.jpg done\n",
      "60.jpg done\n",
      "61.jpg done\n",
      "62.jpg done\n",
      "63.jpg done\n",
      "64.jpg done\n",
      "65.jpg done\n",
      "66.jpg done\n",
      "67.jpg done\n",
      "68.jpg done\n",
      "69.jpg done\n",
      "70.jpg done\n",
      "71.jpg done\n",
      "72.jpg done\n",
      "73.jpg done\n",
      "74.jpg done\n",
      "75.jpg done\n",
      "76.jpg done\n",
      "77.jpg done\n",
      "78.jpg done\n",
      "79.jpg done\n",
      "80.jpg done\n"
     ]
    },
    {
     "name": "stderr",
     "output_type": "stream",
     "text": [
      " 14%|█▍        | 58/421 [02:03<15:23,  2.55s/it]"
     ]
    },
    {
     "name": "stdout",
     "output_type": "stream",
     "text": [
      "0.jpg done\n",
      "1.jpg done\n",
      "2.jpg done\n",
      "3.jpg done\n",
      "4.jpg done\n",
      "5.jpg done\n",
      "6.jpg done\n",
      "7.jpg done\n",
      "8.jpg done\n",
      "9.jpg done\n",
      "10.jpg done\n",
      "11.jpg done\n",
      "12.jpg done\n",
      "13.jpg done\n",
      "14.jpg done\n",
      "15.jpg done\n",
      "16.jpg done\n",
      "17.jpg done\n",
      "18.jpg done\n",
      "19.jpg done\n",
      "20.jpg done\n",
      "21.jpg done\n",
      "22.jpg done\n",
      "23.jpg done\n",
      "24.jpg done\n",
      "25.jpg done\n",
      "26.jpg done\n",
      "27.jpg done\n",
      "28.jpg done\n",
      "29.jpg done\n",
      "30.jpg done\n",
      "31.jpg done\n",
      "32.jpg done\n",
      "33.jpg done\n",
      "34.jpg done\n",
      "35.jpg done\n",
      "36.jpg done\n",
      "37.jpg done\n",
      "38.jpg done\n",
      "39.jpg done\n",
      "40.jpg done\n",
      "41.jpg done\n",
      "42.jpg done\n",
      "43.jpg done\n",
      "44.jpg done\n",
      "45.jpg done\n",
      "46.jpg done\n",
      "47.jpg done\n",
      "48.jpg done\n",
      "49.jpg done\n",
      "50.jpg done\n",
      "51.jpg done\n",
      "52.jpg done\n",
      "53.jpg done\n",
      "54.jpg done\n",
      "55.jpg done\n",
      "56.jpg done\n",
      "57.jpg done\n",
      "58.jpg done\n",
      "59.jpg done\n",
      "60.jpg done\n",
      "61.jpg done\n",
      "62.jpg done\n",
      "63.jpg done\n",
      "64.jpg done\n",
      "65.jpg done\n",
      "66.jpg done\n",
      "67.jpg done\n",
      "68.jpg done\n",
      "69.jpg done\n",
      "70.jpg done\n",
      "71.jpg done\n",
      "72.jpg done\n",
      "73.jpg done\n",
      "74.jpg done\n",
      "75.jpg done\n",
      "76.jpg done\n",
      "77.jpg done\n",
      "78.jpg done\n",
      "79.jpg done\n"
     ]
    },
    {
     "name": "stderr",
     "output_type": "stream",
     "text": [
      " 14%|█▍        | 59/421 [02:07<17:46,  2.95s/it]"
     ]
    },
    {
     "name": "stdout",
     "output_type": "stream",
     "text": [
      "80.jpg done\n",
      "81.jpg done\n",
      "0.jpg done\n"
     ]
    },
    {
     "name": "stderr",
     "output_type": "stream",
     "text": [
      " 14%|█▍        | 60/421 [02:07<12:46,  2.12s/it]"
     ]
    },
    {
     "name": "stdout",
     "output_type": "stream",
     "text": [
      "1.jpg done\n",
      "2.jpg done\n",
      "0.jpg done\n",
      "1.jpg done\n",
      "2.jpg done\n",
      "3.jpg done\n",
      "4.jpg done\n",
      "5.jpg done\n",
      "6.jpg done\n",
      "7.jpg done\n",
      "8.jpg done\n",
      "9.jpg done\n",
      "10.jpg done\n",
      "11.jpg done\n",
      "12.jpg done\n",
      "13.jpg done\n",
      "14.jpg done\n",
      "15.jpg done\n",
      "16.jpg done\n",
      "17.jpg done\n",
      "18.jpg done\n",
      "19.jpg done\n",
      "20.jpg done\n",
      "21.jpg done\n",
      "22.jpg done\n",
      "23.jpg done\n",
      "24.jpg done\n",
      "25.jpg done\n",
      "26.jpg done\n",
      "27.jpg done\n",
      "28.jpg done\n",
      "29.jpg done\n",
      "30.jpg done\n"
     ]
    },
    {
     "name": "stderr",
     "output_type": "stream",
     "text": [
      " 14%|█▍        | 61/421 [02:09<11:53,  1.98s/it]"
     ]
    },
    {
     "name": "stdout",
     "output_type": "stream",
     "text": [
      "31.jpg done\n",
      "32.jpg done\n",
      "33.jpg done\n",
      "0.jpg done\n",
      "1.jpg done\n",
      "2.jpg done\n",
      "3.jpg done\n",
      "4.jpg done\n",
      "5.jpg done\n",
      "6.jpg done\n",
      "7.jpg done\n",
      "8.jpg done\n",
      "9.jpg done\n",
      "10.jpg done\n",
      "11.jpg done\n",
      "12.jpg done\n",
      "13.jpg done\n",
      "14.jpg done\n",
      "15.jpg done\n",
      "16.jpg done\n",
      "17.jpg done\n",
      "18.jpg done\n",
      "19.jpg done\n",
      "20.jpg done\n",
      "21.jpg done\n",
      "22.jpg done\n",
      "23.jpg done\n",
      "24.jpg done\n",
      "25.jpg done\n",
      "26.jpg done\n",
      "27.jpg done\n",
      "28.jpg done\n",
      "29.jpg done\n",
      "30.jpg done\n",
      "31.jpg done\n",
      "32.jpg done\n",
      "33.jpg done\n",
      "34.jpg done\n",
      "35.jpg done\n",
      "36.jpg done\n",
      "37.jpg done\n",
      "38.jpg done\n",
      "39.jpg done\n",
      "40.jpg done\n",
      "41.jpg done\n",
      "42.jpg done\n",
      "43.jpg done\n",
      "44.jpg done\n",
      "45.jpg done\n",
      "46.jpg done\n",
      "47.jpg done\n",
      "48.jpg done\n",
      "49.jpg done\n",
      "50.jpg done\n",
      "51.jpg done\n",
      "52.jpg done\n",
      "53.jpg done\n",
      "54.jpg done\n",
      "55.jpg done\n",
      "56.jpg done\n",
      "57.jpg done\n",
      "58.jpg done\n",
      "59.jpg done\n",
      "60.jpg done\n",
      "61.jpg done\n",
      "62.jpg done\n",
      "63.jpg done\n",
      "64.jpg done\n",
      "65.jpg done\n",
      "66.jpg done\n",
      "67.jpg done\n",
      "68.jpg done\n",
      "69.jpg done\n",
      "70.jpg done\n",
      "71.jpg done\n",
      "72.jpg done\n",
      "73.jpg done\n",
      "74.jpg done\n",
      "75.jpg done\n",
      "76.jpg done\n",
      "77.jpg done\n",
      "78.jpg done\n",
      "79.jpg done\n",
      "80.jpg done\n",
      "81.jpg done\n",
      "82.jpg done\n",
      "83.jpg done\n",
      "84.jpg done\n",
      "85.jpg done\n",
      "86.jpg done\n",
      "87.jpg done\n",
      "88.jpg done\n",
      "89.jpg done\n",
      "90.jpg done\n",
      "91.jpg done\n",
      "92.jpg done\n",
      "93.jpg done\n",
      "94.jpg done\n",
      "95.jpg done\n",
      "96.jpg done\n",
      "97.jpg done\n",
      "98.jpg done\n",
      "99.jpg done\n",
      "100.jpg done\n",
      "101.jpg done\n",
      "102.jpg done\n",
      "103.jpg done\n",
      "104.jpg done\n",
      "105.jpg done\n",
      "106.jpg done\n",
      "107.jpg done\n",
      "108.jpg done\n",
      "109.jpg done\n",
      "110.jpg done\n",
      "111.jpg done\n",
      "112.jpg done\n",
      "113.jpg done\n",
      "114.jpg done\n",
      "115.jpg done\n",
      "116.jpg done\n",
      "117.jpg done\n",
      "118.jpg done\n",
      "119.jpg done\n",
      "120.jpg done\n",
      "121.jpg done\n",
      "122.jpg done\n",
      "123.jpg done\n",
      "124.jpg done\n",
      "125.jpg done\n",
      "126.jpg done\n",
      "127.jpg done\n",
      "128.jpg done\n",
      "129.jpg done\n",
      "130.jpg done\n",
      "131.jpg done\n",
      "132.jpg done\n",
      "133.jpg done\n",
      "134.jpg done\n",
      "135.jpg done\n",
      "136.jpg done\n",
      "137.jpg done\n",
      "138.jpg done\n",
      "139.jpg done\n"
     ]
    },
    {
     "name": "stderr",
     "output_type": "stream",
     "text": [
      " 15%|█▍        | 62/421 [02:16<20:18,  3.39s/it]"
     ]
    },
    {
     "name": "stdout",
     "output_type": "stream",
     "text": [
      "140.jpg done\n",
      "0.jpg done\n",
      "1.jpg done\n",
      "2.jpg done\n",
      "3.jpg done\n",
      "4.jpg done\n",
      "5.jpg done\n",
      "6.jpg done\n",
      "7.jpg done\n",
      "8.jpg done\n",
      "9.jpg done\n",
      "10.jpg done\n",
      "11.jpg done\n",
      "12.jpg done\n",
      "13.jpg done\n",
      "14.jpg done\n",
      "15.jpg done\n",
      "16.jpg done\n",
      "17.jpg done\n",
      "18.jpg done\n",
      "19.jpg done\n",
      "20.jpg done\n",
      "21.jpg done\n",
      "22.jpg done\n",
      "23.jpg done\n",
      "24.jpg done\n",
      "25.jpg done\n",
      "26.jpg done\n",
      "27.jpg done\n",
      "28.jpg done\n",
      "29.jpg done\n",
      "30.jpg done\n",
      "31.jpg done\n",
      "32.jpg done\n",
      "33.jpg done\n",
      "34.jpg done\n",
      "35.jpg done\n",
      "36.jpg done\n",
      "37.jpg done\n",
      "38.jpg done\n",
      "39.jpg done\n",
      "40.jpg done\n",
      "41.jpg done\n",
      "42.jpg done\n",
      "43.jpg done\n",
      "44.jpg done\n",
      "45.jpg done\n",
      "46.jpg done\n",
      "47.jpg done\n",
      "48.jpg done\n",
      "49.jpg done\n",
      "50.jpg done\n",
      "51.jpg done\n",
      "52.jpg done\n",
      "53.jpg done\n",
      "54.jpg done\n",
      "55.jpg done\n",
      "56.jpg done\n",
      "57.jpg done\n",
      "58.jpg done\n",
      "59.jpg done\n",
      "60.jpg done\n",
      "61.jpg done\n",
      "62.jpg done\n",
      "63.jpg done\n",
      "64.jpg done\n",
      "65.jpg done\n",
      "66.jpg done\n",
      "67.jpg done\n",
      "68.jpg done\n",
      "69.jpg done\n",
      "70.jpg done\n",
      "71.jpg done\n",
      "72.jpg done\n",
      "73.jpg done\n",
      "74.jpg done\n",
      "75.jpg done\n",
      "76.jpg done\n"
     ]
    },
    {
     "name": "stderr",
     "output_type": "stream",
     "text": [
      " 15%|█▍        | 63/421 [02:20<20:51,  3.49s/it]"
     ]
    },
    {
     "name": "stdout",
     "output_type": "stream",
     "text": [
      "77.jpg done\n",
      "78.jpg done\n",
      "79.jpg done\n",
      "80.jpg done\n",
      "0.jpg done\n",
      "1.jpg done\n",
      "2.jpg done\n",
      "3.jpg done\n",
      "4.jpg done\n",
      "5.jpg done\n",
      "6.jpg done\n",
      "7.jpg done\n",
      "8.jpg done\n",
      "9.jpg done\n",
      "10.jpg done\n",
      "11.jpg done\n",
      "12.jpg done\n",
      "13.jpg done\n",
      "14.jpg done\n",
      "15.jpg done\n",
      "16.jpg done\n",
      "17.jpg done\n",
      "18.jpg done\n",
      "19.jpg done\n",
      "20.jpg done\n",
      "21.jpg done\n",
      "22.jpg done\n",
      "23.jpg done\n",
      "24.jpg done\n",
      "25.jpg done\n",
      "26.jpg done\n",
      "27.jpg done\n",
      "28.jpg done\n",
      "29.jpg done\n",
      "30.jpg done\n",
      "31.jpg done\n",
      "32.jpg done\n",
      "33.jpg done\n",
      "34.jpg done\n",
      "35.jpg done\n",
      "36.jpg done\n",
      "37.jpg done\n",
      "38.jpg done\n",
      "39.jpg done\n",
      "40.jpg done\n",
      "41.jpg done\n",
      "42.jpg done\n",
      "43.jpg done\n",
      "44.jpg done\n",
      "45.jpg done\n",
      "46.jpg done\n",
      "47.jpg done\n",
      "48.jpg done\n",
      "49.jpg done\n",
      "50.jpg done\n",
      "51.jpg done\n",
      "52.jpg done\n",
      "53.jpg done\n",
      "54.jpg done\n",
      "55.jpg done\n",
      "56.jpg done\n",
      "57.jpg done\n",
      "58.jpg done\n",
      "59.jpg done\n",
      "60.jpg done\n",
      "61.jpg done\n",
      "62.jpg done\n",
      "63.jpg done\n",
      "64.jpg done\n",
      "65.jpg done\n",
      "66.jpg done\n",
      "67.jpg done\n",
      "68.jpg done\n",
      "69.jpg done\n",
      "70.jpg done\n",
      "71.jpg done\n",
      "72.jpg done\n",
      "73.jpg done\n",
      "74.jpg done\n",
      "75.jpg done\n",
      "76.jpg done\n",
      "77.jpg done\n",
      "78.jpg done\n",
      "79.jpg done\n",
      "80.jpg done\n",
      "81.jpg done\n",
      "82.jpg done\n",
      "83.jpg done\n",
      "84.jpg done\n",
      "85.jpg done\n",
      "86.jpg done\n",
      "87.jpg done\n",
      "88.jpg done\n",
      "89.jpg done\n",
      "90.jpg done\n",
      "91.jpg done\n",
      "92.jpg done\n",
      "93.jpg done\n",
      "94.jpg done\n",
      "95.jpg done\n",
      "96.jpg done\n",
      "97.jpg done\n",
      "98.jpg done\n",
      "99.jpg done\n",
      "100.jpg done\n",
      "101.jpg done\n",
      "102.jpg done\n",
      "103.jpg done\n",
      "104.jpg done\n",
      "105.jpg done\n",
      "106.jpg done\n",
      "107.jpg done\n",
      "108.jpg done\n",
      "109.jpg done\n",
      "110.jpg done\n",
      "111.jpg done\n",
      "112.jpg done\n",
      "113.jpg done\n",
      "114.jpg done\n",
      "115.jpg done\n",
      "116.jpg done\n"
     ]
    },
    {
     "name": "stderr",
     "output_type": "stream",
     "text": [
      " 15%|█▌        | 64/421 [02:25<24:21,  4.10s/it]"
     ]
    },
    {
     "name": "stdout",
     "output_type": "stream",
     "text": [
      "117.jpg done\n",
      "0.jpg done\n",
      "1.jpg done\n",
      "2.jpg done\n",
      "3.jpg done\n",
      "4.jpg done\n",
      "5.jpg done\n",
      "6.jpg done\n",
      "7.jpg done\n",
      "8.jpg done\n",
      "9.jpg done\n",
      "10.jpg done\n",
      "11.jpg done\n",
      "12.jpg done\n",
      "13.jpg done\n",
      "14.jpg done\n",
      "15.jpg done\n",
      "16.jpg done\n",
      "17.jpg done\n",
      "18.jpg done\n",
      "19.jpg done\n",
      "20.jpg done\n",
      "21.jpg done\n",
      "22.jpg done\n",
      "23.jpg done\n",
      "24.jpg done\n",
      "25.jpg done\n",
      "26.jpg done\n",
      "27.jpg done\n",
      "28.jpg done\n",
      "29.jpg done\n",
      "30.jpg done\n",
      "31.jpg done\n",
      "32.jpg done\n",
      "33.jpg done\n",
      "34.jpg done\n",
      "35.jpg done\n",
      "36.jpg done\n",
      "37.jpg done\n",
      "38.jpg done\n",
      "39.jpg done\n",
      "40.jpg done\n",
      "41.jpg done\n",
      "42.jpg done\n",
      "43.jpg done\n",
      "44.jpg done\n",
      "45.jpg done\n",
      "46.jpg done\n",
      "47.jpg done\n",
      "48.jpg done\n",
      "49.jpg done\n",
      "50.jpg done\n",
      "51.jpg done\n",
      "52.jpg done\n",
      "53.jpg done\n",
      "54.jpg done\n",
      "55.jpg done\n",
      "56.jpg done\n",
      "57.jpg done\n",
      "58.jpg done\n",
      "59.jpg done\n",
      "60.jpg done\n",
      "61.jpg done\n",
      "62.jpg done\n",
      "63.jpg done\n",
      "64.jpg done\n",
      "65.jpg done\n",
      "66.jpg done\n",
      "67.jpg done\n",
      "68.jpg done\n",
      "69.jpg done\n",
      "70.jpg done\n",
      "71.jpg done\n",
      "72.jpg done\n",
      "73.jpg done\n",
      "74.jpg done\n",
      "75.jpg done\n",
      "76.jpg done\n",
      "77.jpg done\n",
      "78.jpg done\n",
      "79.jpg done\n",
      "80.jpg done\n",
      "81.jpg done\n",
      "82.jpg done\n",
      "83.jpg done\n",
      "84.jpg done\n",
      "85.jpg done\n",
      "86.jpg done\n",
      "87.jpg done\n",
      "88.jpg done\n",
      "89.jpg done\n",
      "90.jpg done\n",
      "91.jpg done\n",
      "92.jpg done\n",
      "93.jpg done\n",
      "94.jpg done\n",
      "95.jpg done\n",
      "96.jpg done\n",
      "97.jpg done\n",
      "98.jpg done\n",
      "99.jpg done\n",
      "100.jpg done\n",
      "101.jpg done\n",
      "102.jpg done\n",
      "103.jpg done\n"
     ]
    },
    {
     "name": "stderr",
     "output_type": "stream",
     "text": [
      " 15%|█▌        | 65/421 [02:30<25:55,  4.37s/it]"
     ]
    },
    {
     "name": "stdout",
     "output_type": "stream",
     "text": [
      "104.jpg done\n",
      "0.jpg done\n",
      "1.jpg done\n",
      "2.jpg done\n",
      "3.jpg done\n",
      "4.jpg done\n",
      "5.jpg done\n",
      "6.jpg done\n",
      "7.jpg done\n",
      "8.jpg done\n",
      "9.jpg done\n",
      "10.jpg done\n",
      "11.jpg done\n",
      "12.jpg done\n",
      "13.jpg done\n",
      "14.jpg done\n",
      "15.jpg done\n",
      "16.jpg done\n",
      "17.jpg done\n",
      "18.jpg done\n",
      "19.jpg done\n",
      "20.jpg done\n",
      "21.jpg done\n",
      "22.jpg done\n",
      "23.jpg done\n",
      "24.jpg done\n",
      "25.jpg done\n",
      "26.jpg done\n",
      "27.jpg done\n",
      "28.jpg done\n",
      "29.jpg done\n",
      "30.jpg done\n",
      "31.jpg done\n"
     ]
    },
    {
     "name": "stderr",
     "output_type": "stream",
     "text": [
      " 16%|█▌        | 66/421 [02:32<20:57,  3.54s/it]"
     ]
    },
    {
     "name": "stdout",
     "output_type": "stream",
     "text": [
      "32.jpg done\n",
      "0.jpg done\n",
      "1.jpg done\n",
      "2.jpg done\n",
      "3.jpg done\n",
      "4.jpg done\n",
      "5.jpg done\n",
      "6.jpg done\n",
      "7.jpg done\n",
      "8.jpg done\n",
      "9.jpg done\n",
      "10.jpg done\n",
      "11.jpg done\n",
      "12.jpg done\n",
      "13.jpg done\n",
      "14.jpg done\n",
      "15.jpg done\n",
      "16.jpg done\n",
      "17.jpg done\n",
      "18.jpg done\n",
      "19.jpg done\n",
      "20.jpg done\n",
      "21.jpg done\n",
      "22.jpg done\n",
      "23.jpg done\n",
      "24.jpg done\n",
      "25.jpg done\n"
     ]
    },
    {
     "name": "stderr",
     "output_type": "stream",
     "text": [
      " 16%|█▌        | 67/421 [02:33<17:02,  2.89s/it]"
     ]
    },
    {
     "name": "stdout",
     "output_type": "stream",
     "text": [
      "26.jpg done\n",
      "0.jpg done\n",
      "1.jpg done\n",
      "2.jpg done\n",
      "3.jpg done\n",
      "4.jpg done\n",
      "5.jpg done\n",
      "6.jpg done\n",
      "7.jpg done\n",
      "8.jpg done\n",
      "9.jpg done\n",
      "10.jpg done\n",
      "11.jpg done\n",
      "12.jpg done\n",
      "13.jpg done\n",
      "14.jpg done\n",
      "15.jpg done\n",
      "16.jpg done\n",
      "17.jpg done\n",
      "18.jpg done\n",
      "19.jpg done\n",
      "20.jpg done\n",
      "21.jpg done\n",
      "22.jpg done\n",
      "23.jpg done\n",
      "24.jpg done\n",
      "25.jpg done\n",
      "26.jpg done\n",
      "27.jpg done\n",
      "28.jpg done\n",
      "29.jpg done\n",
      "30.jpg done\n",
      "31.jpg done\n",
      "32.jpg done\n",
      "33.jpg done\n",
      "34.jpg done\n",
      "35.jpg done\n",
      "36.jpg done\n",
      "37.jpg done\n",
      "38.jpg done\n",
      "39.jpg done\n",
      "40.jpg done\n",
      "41.jpg done\n",
      "42.jpg done\n"
     ]
    },
    {
     "name": "stderr",
     "output_type": "stream",
     "text": [
      " 16%|█▌        | 68/421 [02:35<15:33,  2.65s/it]"
     ]
    },
    {
     "name": "stdout",
     "output_type": "stream",
     "text": [
      "43.jpg done\n",
      "0.jpg done\n",
      "1.jpg done\n",
      "2.jpg done\n",
      "3.jpg done\n",
      "4.jpg done\n",
      "5.jpg done\n",
      "6.jpg done\n",
      "7.jpg done\n",
      "8.jpg done\n",
      "9.jpg done\n",
      "10.jpg done\n",
      "11.jpg done\n",
      "12.jpg done\n",
      "13.jpg done\n",
      "14.jpg done\n",
      "15.jpg done\n",
      "16.jpg done\n",
      "17.jpg done\n",
      "18.jpg done\n",
      "19.jpg done\n",
      "20.jpg done\n",
      "21.jpg done\n",
      "22.jpg done\n"
     ]
    },
    {
     "name": "stderr",
     "output_type": "stream",
     "text": [
      " 16%|█▋        | 69/421 [02:36<12:57,  2.21s/it]"
     ]
    },
    {
     "name": "stdout",
     "output_type": "stream",
     "text": [
      "23.jpg done\n",
      "24.jpg done\n",
      "0.jpg done\n",
      "1.jpg done\n",
      "2.jpg done\n",
      "3.jpg done\n",
      "4.jpg done\n",
      "5.jpg done\n",
      "6.jpg done\n",
      "7.jpg done\n",
      "8.jpg done\n",
      "9.jpg done\n",
      "10.jpg done\n",
      "11.jpg done\n",
      "12.jpg done\n",
      "13.jpg done\n",
      "14.jpg done\n",
      "15.jpg done\n",
      "16.jpg done\n"
     ]
    },
    {
     "name": "stderr",
     "output_type": "stream",
     "text": [
      " 17%|█▋        | 70/421 [02:37<10:43,  1.83s/it]"
     ]
    },
    {
     "name": "stdout",
     "output_type": "stream",
     "text": [
      "17.jpg done\n",
      "18.jpg done\n",
      "19.jpg done\n",
      "20.jpg done\n",
      "21.jpg done\n",
      "0.jpg done\n",
      "1.jpg done\n",
      "2.jpg done\n",
      "3.jpg done\n",
      "4.jpg done\n",
      "5.jpg done\n",
      "6.jpg done\n",
      "7.jpg done\n",
      "8.jpg done\n",
      "9.jpg done\n",
      "10.jpg done\n",
      "11.jpg done\n",
      "12.jpg done\n",
      "13.jpg done\n"
     ]
    },
    {
     "name": "stderr",
     "output_type": "stream",
     "text": [
      " 17%|█▋        | 71/421 [02:38<09:10,  1.57s/it]"
     ]
    },
    {
     "name": "stdout",
     "output_type": "stream",
     "text": [
      "14.jpg done\n",
      "15.jpg done\n",
      "16.jpg done\n",
      "17.jpg done\n",
      "18.jpg done\n",
      "0.jpg done\n",
      "1.jpg done\n",
      "2.jpg done\n",
      "3.jpg done\n",
      "4.jpg done\n",
      "5.jpg done\n",
      "6.jpg done\n",
      "7.jpg done\n",
      "8.jpg done\n",
      "9.jpg done\n"
     ]
    },
    {
     "name": "stderr",
     "output_type": "stream",
     "text": [
      " 17%|█▋        | 72/421 [02:39<07:35,  1.30s/it]"
     ]
    },
    {
     "name": "stdout",
     "output_type": "stream",
     "text": [
      "10.jpg done\n",
      "11.jpg done\n",
      "12.jpg done\n"
     ]
    },
    {
     "name": "stderr",
     "output_type": "stream",
     "text": [
      " 17%|█▋        | 73/421 [02:39<05:49,  1.00s/it]"
     ]
    },
    {
     "name": "stdout",
     "output_type": "stream",
     "text": [
      "0.jpg done\n",
      "1.jpg done\n",
      "2.jpg done\n",
      "3.jpg done\n",
      "4.jpg done\n",
      "0.jpg done\n",
      "1.jpg done\n",
      "2.jpg done\n",
      "3.jpg done\n",
      "4.jpg done\n",
      "5.jpg done\n",
      "6.jpg done\n",
      "7.jpg done\n",
      "8.jpg done\n",
      "9.jpg done\n",
      "10.jpg done\n",
      "11.jpg done\n",
      "12.jpg done\n",
      "13.jpg done\n",
      "14.jpg done\n",
      "15.jpg done\n",
      "16.jpg done\n"
     ]
    },
    {
     "name": "stderr",
     "output_type": "stream",
     "text": [
      " 18%|█▊        | 74/421 [02:40<06:00,  1.04s/it]"
     ]
    },
    {
     "name": "stdout",
     "output_type": "stream",
     "text": [
      "17.jpg done\n",
      "18.jpg done\n",
      "19.jpg done\n",
      "20.jpg done\n",
      "0.jpg done\n",
      "1.jpg done\n",
      "2.jpg done\n",
      "3.jpg done\n",
      "4.jpg done\n",
      "5.jpg done\n",
      "6.jpg done\n",
      "7.jpg done\n",
      "8.jpg done\n",
      "9.jpg done\n"
     ]
    },
    {
     "name": "stderr",
     "output_type": "stream",
     "text": [
      " 18%|█▊        | 75/421 [02:41<05:15,  1.10it/s]"
     ]
    },
    {
     "name": "stdout",
     "output_type": "stream",
     "text": [
      "10.jpg done\n",
      "11.jpg done\n",
      "12.jpg done\n",
      "0.jpg done\n",
      "1.jpg done\n",
      "2.jpg done\n",
      "3.jpg done\n",
      "4.jpg done\n",
      "5.jpg done\n",
      "6.jpg done\n",
      "7.jpg done\n",
      "8.jpg done\n",
      "9.jpg done\n",
      "10.jpg done\n",
      "11.jpg done\n",
      "12.jpg done\n",
      "13.jpg done\n",
      "14.jpg done\n",
      "15.jpg done\n",
      "16.jpg done\n",
      "17.jpg done\n",
      "18.jpg done\n",
      "19.jpg done\n",
      "20.jpg done\n",
      "21.jpg done\n",
      "22.jpg done\n",
      "23.jpg done\n",
      "24.jpg done\n",
      "25.jpg done\n",
      "26.jpg done\n",
      "27.jpg done\n",
      "28.jpg done\n",
      "29.jpg done\n",
      "30.jpg done\n",
      "31.jpg done\n",
      "32.jpg done\n",
      "33.jpg done\n",
      "34.jpg done\n",
      "35.jpg done\n",
      "36.jpg done\n",
      "37.jpg done\n",
      "38.jpg done\n",
      "39.jpg done\n",
      "40.jpg done\n",
      "41.jpg done\n",
      "42.jpg done\n",
      "43.jpg done\n",
      "44.jpg done\n",
      "45.jpg done\n",
      "46.jpg done\n"
     ]
    },
    {
     "name": "stderr",
     "output_type": "stream",
     "text": [
      " 18%|█▊        | 76/421 [02:43<08:00,  1.39s/it]"
     ]
    },
    {
     "name": "stdout",
     "output_type": "stream",
     "text": [
      "47.jpg done\n",
      "48.jpg done\n",
      "49.jpg done\n",
      "50.jpg done\n",
      "0.jpg done\n",
      "1.jpg done\n",
      "2.jpg done\n",
      "3.jpg done\n",
      "4.jpg done\n",
      "5.jpg done\n",
      "6.jpg done\n",
      "7.jpg done\n",
      "8.jpg done\n",
      "9.jpg done\n",
      "10.jpg done\n",
      "11.jpg done\n",
      "12.jpg done\n",
      "13.jpg done\n",
      "14.jpg done\n",
      "15.jpg done\n",
      "16.jpg done\n",
      "17.jpg done\n",
      "18.jpg done\n",
      "19.jpg done\n",
      "20.jpg done\n",
      "21.jpg done\n",
      "22.jpg done\n",
      "23.jpg done\n",
      "24.jpg done\n",
      "25.jpg done\n",
      "26.jpg done\n",
      "27.jpg done\n",
      "28.jpg done\n",
      "29.jpg done\n",
      "30.jpg done\n",
      "31.jpg done\n",
      "32.jpg done\n",
      "33.jpg done\n",
      "34.jpg done\n",
      "35.jpg done\n",
      "36.jpg done\n",
      "37.jpg done\n",
      "38.jpg done\n",
      "39.jpg done\n",
      "40.jpg done\n",
      "41.jpg done\n",
      "42.jpg done\n",
      "43.jpg done\n",
      "44.jpg done\n",
      "45.jpg done\n",
      "46.jpg done\n",
      "47.jpg done\n",
      "48.jpg done\n",
      "49.jpg done\n",
      "50.jpg done\n",
      "51.jpg done\n",
      "52.jpg done\n",
      "53.jpg done\n",
      "54.jpg done\n",
      "55.jpg done\n",
      "56.jpg done\n",
      "57.jpg done\n",
      "58.jpg done\n",
      "59.jpg done\n",
      "60.jpg done\n",
      "61.jpg done\n",
      "62.jpg done\n",
      "63.jpg done\n",
      "64.jpg done\n",
      "65.jpg done\n",
      "66.jpg done\n",
      "67.jpg done\n",
      "68.jpg done\n",
      "69.jpg done\n",
      "70.jpg done\n",
      "71.jpg done\n",
      "72.jpg done\n",
      "73.jpg done\n",
      "74.jpg done\n",
      "75.jpg done\n",
      "76.jpg done\n",
      "77.jpg done\n",
      "78.jpg done\n",
      "79.jpg done\n",
      "80.jpg done\n",
      "81.jpg done\n",
      "82.jpg done\n",
      "83.jpg done\n",
      "84.jpg done\n",
      "85.jpg done\n",
      "86.jpg done\n",
      "87.jpg done\n",
      "88.jpg done\n",
      "89.jpg done\n",
      "90.jpg done\n",
      "91.jpg done\n",
      "92.jpg done\n",
      "93.jpg done\n",
      "94.jpg done\n",
      "95.jpg done\n",
      "96.jpg done\n",
      "97.jpg done\n",
      "98.jpg done\n",
      "99.jpg done\n",
      "100.jpg done\n",
      "101.jpg done\n",
      "102.jpg done\n",
      "103.jpg done\n",
      "104.jpg done\n",
      "105.jpg done\n",
      "106.jpg done\n",
      "107.jpg done\n",
      "108.jpg done\n",
      "109.jpg done\n",
      "110.jpg done\n",
      "111.jpg done\n",
      "112.jpg done\n",
      "113.jpg done\n",
      "114.jpg done\n",
      "115.jpg done\n",
      "116.jpg done\n",
      "117.jpg done\n",
      "118.jpg done\n",
      "119.jpg done\n",
      "120.jpg done\n",
      "121.jpg done\n",
      "122.jpg done\n",
      "123.jpg done\n",
      "124.jpg done\n",
      "125.jpg done\n",
      "126.jpg done\n",
      "127.jpg done\n",
      "128.jpg done\n",
      "129.jpg done\n",
      "130.jpg done\n",
      "131.jpg done\n",
      "132.jpg done\n",
      "133.jpg done\n",
      "134.jpg done\n",
      "135.jpg done\n",
      "136.jpg done\n",
      "137.jpg done\n",
      "138.jpg done\n",
      "139.jpg done\n",
      "140.jpg done\n",
      "141.jpg done\n",
      "142.jpg done\n",
      "143.jpg done\n",
      "144.jpg done\n",
      "145.jpg done\n",
      "146.jpg done\n",
      "147.jpg done\n",
      "148.jpg done\n",
      "149.jpg done\n",
      "150.jpg done\n",
      "151.jpg done\n",
      "152.jpg done\n",
      "153.jpg done\n",
      "154.jpg done\n",
      "155.jpg done\n",
      "156.jpg done\n",
      "157.jpg done\n",
      "158.jpg done\n",
      "159.jpg done\n",
      "160.jpg done\n",
      "161.jpg done\n",
      "162.jpg done\n",
      "163.jpg done\n",
      "164.jpg done\n",
      "165.jpg done\n",
      "166.jpg done\n",
      "167.jpg done\n",
      "168.jpg done\n",
      "169.jpg done\n",
      "170.jpg done\n",
      "171.jpg done\n",
      "172.jpg done\n",
      "173.jpg done\n",
      "174.jpg done\n",
      "175.jpg done\n",
      "176.jpg done\n",
      "177.jpg done\n",
      "178.jpg done\n",
      "179.jpg done\n",
      "180.jpg done\n",
      "181.jpg done\n",
      "182.jpg done\n",
      "183.jpg done\n",
      "184.jpg done\n",
      "185.jpg done\n",
      "186.jpg done\n",
      "187.jpg done\n",
      "188.jpg done\n",
      "189.jpg done\n",
      "190.jpg done\n",
      "191.jpg done\n",
      "192.jpg done\n",
      "193.jpg done\n",
      "194.jpg done\n",
      "195.jpg done\n",
      "196.jpg done\n",
      "197.jpg done\n",
      "198.jpg done\n",
      "199.jpg done\n",
      "200.jpg done\n",
      "201.jpg done\n",
      "202.jpg done\n",
      "203.jpg done\n",
      "204.jpg done\n",
      "205.jpg done\n",
      "206.jpg done\n",
      "207.jpg done\n",
      "208.jpg done\n",
      "209.jpg done\n",
      "210.jpg done\n",
      "211.jpg done\n",
      "212.jpg done\n",
      "213.jpg done\n",
      "214.jpg done\n",
      "215.jpg done\n",
      "216.jpg done\n",
      "217.jpg done\n",
      "218.jpg done\n",
      "219.jpg done\n",
      "220.jpg done\n",
      "221.jpg done\n",
      "222.jpg done\n",
      "223.jpg done\n",
      "224.jpg done\n",
      "225.jpg done\n",
      "226.jpg done\n"
     ]
    },
    {
     "name": "stderr",
     "output_type": "stream",
     "text": [
      " 18%|█▊        | 77/421 [02:54<24:29,  4.27s/it]"
     ]
    },
    {
     "name": "stdout",
     "output_type": "stream",
     "text": [
      "227.jpg done\n",
      "228.jpg done\n",
      "229.jpg done\n",
      "230.jpg done\n",
      "0.jpg done\n",
      "1.jpg done\n",
      "2.jpg done\n",
      "3.jpg done\n",
      "4.jpg done\n",
      "5.jpg done\n",
      "6.jpg done\n",
      "7.jpg done\n",
      "8.jpg done\n",
      "9.jpg done\n",
      "10.jpg done\n",
      "11.jpg done\n",
      "12.jpg done\n",
      "13.jpg done\n",
      "14.jpg done\n",
      "15.jpg done\n",
      "16.jpg done\n",
      "17.jpg done\n",
      "18.jpg done\n",
      "19.jpg done\n",
      "20.jpg done\n",
      "21.jpg done\n",
      "22.jpg done\n",
      "23.jpg done\n",
      "24.jpg done\n",
      "25.jpg done\n",
      "26.jpg done\n",
      "27.jpg done\n",
      "28.jpg done\n",
      "29.jpg done\n"
     ]
    },
    {
     "name": "stderr",
     "output_type": "stream",
     "text": [
      " 19%|█▊        | 78/421 [02:56<19:37,  3.43s/it]"
     ]
    },
    {
     "name": "stdout",
     "output_type": "stream",
     "text": [
      "30.jpg done\n",
      "31.jpg done\n",
      "0.jpg done\n",
      "1.jpg done\n",
      "2.jpg done\n",
      "3.jpg done\n",
      "4.jpg done\n",
      "5.jpg done\n",
      "6.jpg done\n",
      "7.jpg done\n",
      "8.jpg done\n",
      "9.jpg done\n",
      "10.jpg done\n",
      "11.jpg done\n",
      "12.jpg done\n",
      "13.jpg done\n",
      "14.jpg done\n",
      "15.jpg done\n",
      "16.jpg done\n",
      "17.jpg done\n",
      "18.jpg done\n",
      "19.jpg done\n",
      "20.jpg done\n"
     ]
    },
    {
     "name": "stderr",
     "output_type": "stream",
     "text": [
      " 19%|█▉        | 79/421 [02:57<15:28,  2.72s/it]"
     ]
    },
    {
     "name": "stdout",
     "output_type": "stream",
     "text": [
      "21.jpg done\n",
      "0.jpg done\n",
      "1.jpg done\n",
      "2.jpg done\n",
      "3.jpg done\n",
      "4.jpg done\n",
      "5.jpg done\n",
      "6.jpg done\n",
      "7.jpg done\n",
      "8.jpg done\n",
      "9.jpg done\n",
      "10.jpg done\n",
      "11.jpg done\n",
      "12.jpg done\n"
     ]
    },
    {
     "name": "stderr",
     "output_type": "stream",
     "text": [
      " 19%|█▉        | 80/421 [02:58<12:07,  2.13s/it]"
     ]
    },
    {
     "name": "stdout",
     "output_type": "stream",
     "text": [
      "13.jpg done\n",
      "14.jpg done\n",
      "15.jpg done\n",
      "0.jpg done\n",
      "1.jpg done\n",
      "2.jpg done\n",
      "3.jpg done\n",
      "4.jpg done\n",
      "5.jpg done\n",
      "6.jpg done\n",
      "7.jpg done\n",
      "8.jpg done\n",
      "9.jpg done\n",
      "10.jpg done\n",
      "11.jpg done\n",
      "12.jpg done\n",
      "13.jpg done\n",
      "14.jpg done\n",
      "15.jpg done\n",
      "16.jpg done\n",
      "17.jpg done\n",
      "18.jpg done\n",
      "19.jpg done\n",
      "20.jpg done\n",
      "21.jpg done\n",
      "22.jpg done\n",
      "23.jpg done\n",
      "24.jpg done\n",
      "25.jpg done\n",
      "26.jpg done\n",
      "27.jpg done\n",
      "28.jpg done\n",
      "29.jpg done\n",
      "30.jpg done\n",
      "31.jpg done\n",
      "32.jpg done\n",
      "33.jpg done\n",
      "34.jpg done\n",
      "35.jpg done\n",
      "36.jpg done\n",
      "37.jpg done\n",
      "38.jpg done\n",
      "39.jpg done\n",
      "40.jpg done\n",
      "41.jpg done\n",
      "42.jpg done\n",
      "43.jpg done\n",
      "44.jpg done\n",
      "45.jpg done\n",
      "46.jpg done\n",
      "47.jpg done\n",
      "48.jpg done\n",
      "49.jpg done\n"
     ]
    },
    {
     "name": "stderr",
     "output_type": "stream",
     "text": [
      " 19%|█▉        | 81/421 [03:00<12:51,  2.27s/it]"
     ]
    },
    {
     "name": "stdout",
     "output_type": "stream",
     "text": [
      "50.jpg done\n",
      "0.jpg done\n",
      "1.jpg done\n",
      "2.jpg done\n",
      "3.jpg done\n",
      "4.jpg done\n",
      "5.jpg done\n",
      "6.jpg done\n",
      "7.jpg done\n",
      "8.jpg done\n",
      "9.jpg done\n",
      "10.jpg done\n",
      "11.jpg done\n",
      "12.jpg done\n",
      "13.jpg done\n",
      "14.jpg done\n",
      "15.jpg done\n",
      "16.jpg done\n",
      "17.jpg done\n",
      "18.jpg done\n",
      "19.jpg done\n",
      "20.jpg done\n",
      "21.jpg done\n",
      "22.jpg done\n",
      "23.jpg done\n",
      "24.jpg done\n",
      "25.jpg done\n",
      "26.jpg done\n",
      "27.jpg done\n",
      "28.jpg done\n",
      "29.jpg done\n",
      "30.jpg done\n",
      "31.jpg done\n",
      "32.jpg done\n",
      "33.jpg done\n",
      "34.jpg done\n",
      "35.jpg done\n",
      "36.jpg done\n",
      "37.jpg done\n",
      "38.jpg done\n",
      "39.jpg done\n",
      "40.jpg done\n",
      "41.jpg done\n",
      "42.jpg done\n",
      "43.jpg done\n",
      "44.jpg done\n",
      "45.jpg done\n",
      "46.jpg done\n",
      "47.jpg done\n",
      "48.jpg done\n",
      "49.jpg done\n",
      "50.jpg done\n",
      "51.jpg done\n",
      "52.jpg done\n",
      "53.jpg done\n",
      "54.jpg done\n",
      "55.jpg done\n",
      "56.jpg done\n",
      "57.jpg done\n",
      "58.jpg done\n",
      "59.jpg done\n",
      "60.jpg done\n",
      "61.jpg done\n",
      "62.jpg done\n",
      "63.jpg done\n",
      "64.jpg done\n",
      "65.jpg done\n",
      "66.jpg done\n",
      "67.jpg done\n",
      "68.jpg done\n",
      "69.jpg done\n",
      "70.jpg done\n",
      "71.jpg done\n",
      "72.jpg done\n",
      "73.jpg done\n",
      "74.jpg done\n",
      "75.jpg done\n",
      "76.jpg done\n",
      "77.jpg done\n",
      "78.jpg done\n",
      "79.jpg done\n",
      "80.jpg done\n",
      "81.jpg done\n",
      "82.jpg done\n",
      "83.jpg done\n",
      "84.jpg done\n",
      "85.jpg done\n",
      "86.jpg done\n",
      "87.jpg done\n",
      "88.jpg done\n",
      "89.jpg done\n",
      "90.jpg done\n",
      "91.jpg done\n",
      "92.jpg done\n",
      "93.jpg done\n",
      "94.jpg done\n",
      "95.jpg done\n",
      "96.jpg done\n",
      "97.jpg done\n",
      "98.jpg done\n",
      "99.jpg done\n",
      "100.jpg done\n",
      "101.jpg done\n",
      "102.jpg done\n",
      "103.jpg done\n",
      "104.jpg done\n",
      "105.jpg done\n",
      "106.jpg done\n",
      "107.jpg done\n",
      "108.jpg done\n",
      "109.jpg done\n",
      "110.jpg done\n",
      "111.jpg done\n",
      "112.jpg done\n",
      "113.jpg done\n",
      "114.jpg done\n",
      "115.jpg done\n",
      "116.jpg done\n"
     ]
    },
    {
     "name": "stderr",
     "output_type": "stream",
     "text": [
      " 19%|█▉        | 82/421 [03:07<19:37,  3.47s/it]"
     ]
    },
    {
     "name": "stdout",
     "output_type": "stream",
     "text": [
      "117.jpg done\n",
      "0.jpg done\n",
      "1.jpg done\n",
      "2.jpg done\n",
      "3.jpg done\n",
      "4.jpg done\n",
      "5.jpg done\n",
      "6.jpg done\n",
      "7.jpg done\n",
      "8.jpg done\n",
      "9.jpg done\n",
      "10.jpg done\n",
      "11.jpg done\n",
      "12.jpg done\n",
      "13.jpg done\n",
      "14.jpg done\n",
      "15.jpg done\n",
      "16.jpg done\n",
      "17.jpg done\n",
      "18.jpg done\n",
      "19.jpg done\n",
      "20.jpg done\n",
      "21.jpg done\n",
      "22.jpg done\n",
      "23.jpg done\n",
      "24.jpg done\n",
      "25.jpg done\n",
      "26.jpg done\n",
      "27.jpg done\n",
      "28.jpg done\n",
      "29.jpg done\n",
      "30.jpg done\n",
      "31.jpg done\n",
      "32.jpg done\n",
      "33.jpg done\n",
      "34.jpg done\n",
      "35.jpg done\n",
      "36.jpg done\n",
      "37.jpg done\n",
      "38.jpg done\n",
      "39.jpg done\n",
      "40.jpg done\n",
      "41.jpg done\n",
      "42.jpg done\n",
      "43.jpg done\n",
      "44.jpg done\n",
      "45.jpg done\n",
      "46.jpg done\n",
      "47.jpg done\n",
      "48.jpg done\n",
      "49.jpg done\n",
      "50.jpg done\n",
      "51.jpg done\n",
      "52.jpg done\n",
      "53.jpg done\n",
      "54.jpg done\n",
      "55.jpg done\n",
      "56.jpg done\n",
      "57.jpg done\n",
      "58.jpg done\n",
      "59.jpg done\n",
      "60.jpg done\n",
      "61.jpg done\n",
      "62.jpg done\n",
      "63.jpg done\n",
      "64.jpg done\n",
      "65.jpg done\n",
      "66.jpg done\n",
      "67.jpg done\n",
      "68.jpg done\n",
      "69.jpg done\n",
      "70.jpg done\n",
      "71.jpg done\n",
      "72.jpg done\n",
      "73.jpg done\n",
      "74.jpg done\n",
      "75.jpg done\n",
      "76.jpg done\n",
      "77.jpg done\n",
      "78.jpg done\n",
      "79.jpg done\n",
      "80.jpg done\n",
      "81.jpg done\n",
      "82.jpg done\n",
      "83.jpg done\n",
      "84.jpg done\n",
      "85.jpg done\n",
      "86.jpg done\n",
      "87.jpg done\n",
      "88.jpg done\n",
      "89.jpg done\n",
      "90.jpg done\n",
      "91.jpg done\n",
      "92.jpg done\n",
      "93.jpg done\n",
      "94.jpg done\n",
      "95.jpg done\n",
      "96.jpg done\n",
      "97.jpg done\n",
      "98.jpg done\n",
      "99.jpg done\n",
      "100.jpg done\n",
      "101.jpg done\n",
      "102.jpg done\n",
      "103.jpg done\n",
      "104.jpg done\n",
      "105.jpg done\n",
      "106.jpg done\n",
      "107.jpg done\n",
      "108.jpg done\n",
      "109.jpg done\n",
      "110.jpg done\n",
      "111.jpg done\n",
      "112.jpg done\n",
      "113.jpg done\n",
      "114.jpg done\n",
      "115.jpg done\n",
      "116.jpg done\n",
      "117.jpg done\n",
      "118.jpg done\n",
      "119.jpg done\n",
      "120.jpg done\n",
      "121.jpg done\n",
      "122.jpg done\n",
      "123.jpg done\n",
      "124.jpg done\n",
      "125.jpg done\n",
      "126.jpg done\n",
      "127.jpg done\n",
      "128.jpg done\n",
      "129.jpg done\n",
      "130.jpg done\n",
      "131.jpg done\n",
      "132.jpg done\n",
      "133.jpg done\n",
      "134.jpg done\n",
      "135.jpg done\n",
      "136.jpg done\n",
      "137.jpg done\n",
      "138.jpg done\n",
      "139.jpg done\n",
      "140.jpg done\n",
      "141.jpg done\n",
      "142.jpg done\n",
      "143.jpg done\n",
      "144.jpg done\n",
      "145.jpg done\n",
      "146.jpg done\n",
      "147.jpg done\n",
      "148.jpg done\n",
      "149.jpg done\n",
      "150.jpg done\n",
      "151.jpg done\n",
      "152.jpg done\n",
      "153.jpg done\n",
      "154.jpg done\n",
      "155.jpg done\n",
      "156.jpg done\n",
      "157.jpg done\n",
      "158.jpg done\n",
      "159.jpg done\n",
      "160.jpg done\n",
      "161.jpg done\n",
      "162.jpg done\n",
      "163.jpg done\n",
      "164.jpg done\n",
      "165.jpg done\n"
     ]
    },
    {
     "name": "stderr",
     "output_type": "stream",
     "text": [
      " 20%|█▉        | 83/421 [03:15<28:35,  5.08s/it]"
     ]
    },
    {
     "name": "stdout",
     "output_type": "stream",
     "text": [
      "166.jpg done\n",
      "0.jpg done\n",
      "1.jpg done\n",
      "2.jpg done\n",
      "3.jpg done\n",
      "4.jpg done\n",
      "5.jpg done\n",
      "6.jpg done\n",
      "7.jpg done\n",
      "8.jpg done\n",
      "9.jpg done\n",
      "10.jpg done\n",
      "11.jpg done\n",
      "12.jpg done\n",
      "13.jpg done\n",
      "14.jpg done\n",
      "15.jpg done\n",
      "16.jpg done\n",
      "17.jpg done\n",
      "18.jpg done\n",
      "19.jpg done\n",
      "20.jpg done\n",
      "21.jpg done\n",
      "22.jpg done\n",
      "23.jpg done\n",
      "24.jpg done\n",
      "25.jpg done\n",
      "26.jpg done\n",
      "27.jpg done\n",
      "28.jpg done\n",
      "29.jpg done\n",
      "30.jpg done\n",
      "31.jpg done\n",
      "32.jpg done\n",
      "33.jpg done\n",
      "34.jpg done\n",
      "35.jpg done\n",
      "36.jpg done\n",
      "37.jpg done\n",
      "38.jpg done\n",
      "39.jpg done\n",
      "40.jpg done\n",
      "41.jpg done\n",
      "42.jpg done\n",
      "43.jpg done\n",
      "44.jpg done\n",
      "45.jpg done\n",
      "46.jpg done\n",
      "47.jpg done\n",
      "48.jpg done\n",
      "49.jpg done\n",
      "50.jpg done\n",
      "51.jpg done\n",
      "52.jpg done\n",
      "53.jpg done\n",
      "54.jpg done\n",
      "55.jpg done\n",
      "56.jpg done\n",
      "57.jpg done\n",
      "58.jpg done\n",
      "59.jpg done\n",
      "60.jpg done\n",
      "61.jpg done\n",
      "62.jpg done\n",
      "63.jpg done\n",
      "64.jpg done\n",
      "65.jpg done\n",
      "66.jpg done\n",
      "67.jpg done\n",
      "68.jpg done\n",
      "69.jpg done\n",
      "70.jpg done\n",
      "71.jpg done\n",
      "72.jpg done\n",
      "73.jpg done\n",
      "74.jpg done\n",
      "75.jpg done\n",
      "76.jpg done\n",
      "77.jpg done\n",
      "78.jpg done\n",
      "79.jpg done\n",
      "80.jpg done\n",
      "81.jpg done\n",
      "82.jpg done\n",
      "83.jpg done\n",
      "84.jpg done\n",
      "85.jpg done\n",
      "86.jpg done\n",
      "87.jpg done\n",
      "88.jpg done\n",
      "89.jpg done\n",
      "90.jpg done\n",
      "91.jpg done\n",
      "92.jpg done\n",
      "93.jpg done\n",
      "94.jpg done\n",
      "95.jpg done\n",
      "96.jpg done\n",
      "97.jpg done\n",
      "98.jpg done\n",
      "99.jpg done\n",
      "100.jpg done\n",
      "101.jpg done\n",
      "102.jpg done\n",
      "103.jpg done\n",
      "104.jpg done\n",
      "105.jpg done\n",
      "106.jpg done\n",
      "107.jpg done\n",
      "108.jpg done\n",
      "109.jpg done\n",
      "110.jpg done\n",
      "111.jpg done\n",
      "112.jpg done\n",
      "113.jpg done\n",
      "114.jpg done\n",
      "115.jpg done\n",
      "116.jpg done\n",
      "117.jpg done\n",
      "118.jpg done\n",
      "119.jpg done\n",
      "120.jpg done\n",
      "121.jpg done\n",
      "122.jpg done\n",
      "123.jpg done\n",
      "124.jpg done\n",
      "125.jpg done\n",
      "126.jpg done\n",
      "127.jpg done\n",
      "128.jpg done\n",
      "129.jpg done\n",
      "130.jpg done\n",
      "131.jpg done\n",
      "132.jpg done\n",
      "133.jpg done\n",
      "134.jpg done\n",
      "135.jpg done\n",
      "136.jpg done\n",
      "137.jpg done\n",
      "138.jpg done\n",
      "139.jpg done\n",
      "140.jpg done\n",
      "141.jpg done\n",
      "142.jpg done\n",
      "143.jpg done\n",
      "144.jpg done\n",
      "145.jpg done\n",
      "146.jpg done\n",
      "147.jpg done\n",
      "148.jpg done\n",
      "149.jpg done\n",
      "150.jpg done\n",
      "151.jpg done\n",
      "152.jpg done\n",
      "153.jpg done\n",
      "154.jpg done\n",
      "155.jpg done\n",
      "156.jpg done\n",
      "157.jpg done\n",
      "158.jpg done\n",
      "159.jpg done\n"
     ]
    },
    {
     "name": "stderr",
     "output_type": "stream",
     "text": [
      " 20%|█▉        | 84/421 [03:23<32:34,  5.80s/it]"
     ]
    },
    {
     "name": "stdout",
     "output_type": "stream",
     "text": [
      "160.jpg done\n",
      "161.jpg done\n",
      "0.jpg done\n",
      "1.jpg done\n",
      "2.jpg done\n",
      "3.jpg done\n",
      "4.jpg done\n",
      "5.jpg done\n"
     ]
    },
    {
     "name": "stderr",
     "output_type": "stream",
     "text": [
      " 20%|██        | 85/421 [03:23<23:35,  4.21s/it]"
     ]
    },
    {
     "name": "stdout",
     "output_type": "stream",
     "text": [
      "6.jpg done\n",
      "7.jpg done\n",
      "8.jpg done\n",
      "9.jpg done\n",
      "0.jpg done\n",
      "1.jpg done\n",
      "2.jpg done\n",
      "3.jpg done\n",
      "4.jpg done\n",
      "5.jpg done\n",
      "6.jpg done\n",
      "7.jpg done\n",
      "8.jpg done\n",
      "9.jpg done\n",
      "10.jpg done\n",
      "11.jpg done\n",
      "12.jpg done\n",
      "13.jpg done\n"
     ]
    },
    {
     "name": "stderr",
     "output_type": "stream",
     "text": [
      " 20%|██        | 86/421 [03:24<18:06,  3.24s/it]"
     ]
    },
    {
     "name": "stdout",
     "output_type": "stream",
     "text": [
      "14.jpg done\n",
      "15.jpg done\n",
      "16.jpg done\n",
      "17.jpg done\n",
      "0.jpg done\n",
      "1.jpg done\n",
      "2.jpg done\n",
      "3.jpg done\n",
      "4.jpg done\n",
      "5.jpg done\n",
      "6.jpg done\n",
      "7.jpg done\n",
      "8.jpg done\n",
      "9.jpg done\n",
      "10.jpg done\n",
      "11.jpg done\n",
      "12.jpg done\n",
      "13.jpg done\n",
      "14.jpg done\n",
      "15.jpg done\n",
      "16.jpg done\n",
      "17.jpg done\n",
      "18.jpg done\n",
      "19.jpg done\n",
      "20.jpg done\n",
      "21.jpg done\n",
      "22.jpg done\n",
      "23.jpg done\n",
      "24.jpg done\n",
      "25.jpg done\n",
      "26.jpg done\n",
      "27.jpg done\n",
      "28.jpg done\n",
      "29.jpg done\n",
      "30.jpg done\n",
      "31.jpg done\n",
      "32.jpg done\n",
      "33.jpg done\n",
      "34.jpg done\n",
      "35.jpg done\n",
      "36.jpg done\n",
      "37.jpg done\n",
      "38.jpg done\n",
      "39.jpg done\n",
      "40.jpg done\n",
      "41.jpg done\n",
      "42.jpg done\n",
      "43.jpg done\n",
      "44.jpg done\n",
      "45.jpg done\n",
      "46.jpg done\n",
      "47.jpg done\n",
      "48.jpg done\n",
      "49.jpg done\n",
      "50.jpg done\n",
      "51.jpg done\n",
      "52.jpg done\n",
      "53.jpg done\n",
      "54.jpg done\n",
      "55.jpg done\n",
      "56.jpg done\n",
      "57.jpg done\n",
      "58.jpg done\n",
      "59.jpg done\n",
      "60.jpg done\n",
      "61.jpg done\n",
      "62.jpg done\n",
      "63.jpg done\n",
      "64.jpg done\n",
      "65.jpg done\n",
      "66.jpg done\n",
      "67.jpg done\n",
      "68.jpg done\n",
      "69.jpg done\n",
      "70.jpg done\n",
      "71.jpg done\n",
      "72.jpg done\n",
      "73.jpg done\n",
      "74.jpg done\n"
     ]
    },
    {
     "name": "stderr",
     "output_type": "stream",
     "text": [
      " 21%|██        | 87/421 [03:28<19:19,  3.47s/it]"
     ]
    },
    {
     "name": "stdout",
     "output_type": "stream",
     "text": [
      "75.jpg done\n",
      "76.jpg done\n",
      "77.jpg done\n",
      "0.jpg done\n",
      "1.jpg done\n",
      "2.jpg done\n",
      "3.jpg done\n",
      "4.jpg done\n",
      "5.jpg done\n",
      "6.jpg done\n",
      "7.jpg done\n",
      "8.jpg done\n",
      "9.jpg done\n",
      "10.jpg done\n",
      "11.jpg done\n",
      "12.jpg done\n",
      "13.jpg done\n",
      "14.jpg done\n",
      "15.jpg done\n",
      "16.jpg done\n",
      "17.jpg done\n",
      "18.jpg done\n",
      "19.jpg done\n"
     ]
    },
    {
     "name": "stderr",
     "output_type": "stream",
     "text": [
      " 21%|██        | 88/421 [03:29<15:21,  2.77s/it]"
     ]
    },
    {
     "name": "stdout",
     "output_type": "stream",
     "text": [
      "20.jpg done\n",
      "21.jpg done\n",
      "0.jpg done\n",
      "1.jpg done\n",
      "2.jpg done\n",
      "3.jpg done\n",
      "4.jpg done\n"
     ]
    },
    {
     "name": "stderr",
     "output_type": "stream",
     "text": [
      " 21%|██        | 89/421 [03:30<11:30,  2.08s/it]"
     ]
    },
    {
     "name": "stdout",
     "output_type": "stream",
     "text": [
      "5.jpg done\n",
      "6.jpg done\n",
      "7.jpg done\n",
      "0.jpg done\n",
      "1.jpg done\n",
      "2.jpg done\n",
      "3.jpg done\n",
      "4.jpg done\n",
      "5.jpg done\n",
      "6.jpg done\n",
      "7.jpg done\n",
      "8.jpg done\n",
      "9.jpg done\n",
      "10.jpg done\n",
      "11.jpg done\n",
      "12.jpg done\n",
      "13.jpg done\n",
      "14.jpg done\n",
      "15.jpg done\n",
      "16.jpg done\n",
      "17.jpg done\n",
      "18.jpg done\n",
      "19.jpg done\n",
      "20.jpg done\n",
      "21.jpg done\n",
      "22.jpg done\n",
      "23.jpg done\n",
      "24.jpg done\n",
      "25.jpg done\n",
      "26.jpg done\n",
      "27.jpg done\n",
      "28.jpg done\n",
      "29.jpg done\n",
      "30.jpg done\n",
      "31.jpg done\n",
      "32.jpg done\n",
      "33.jpg done\n",
      "34.jpg done\n",
      "35.jpg done\n",
      "36.jpg done\n",
      "37.jpg done\n",
      "38.jpg done\n",
      "39.jpg done\n",
      "40.jpg done\n",
      "41.jpg done\n",
      "42.jpg done\n",
      "43.jpg done\n",
      "44.jpg done\n",
      "45.jpg done\n",
      "46.jpg done\n",
      "47.jpg done\n",
      "48.jpg done\n",
      "49.jpg done\n",
      "50.jpg done\n",
      "51.jpg done\n",
      "52.jpg done\n",
      "53.jpg done\n",
      "54.jpg done\n",
      "55.jpg done\n",
      "56.jpg done\n",
      "57.jpg done\n",
      "58.jpg done\n",
      "59.jpg done\n",
      "60.jpg done\n",
      "61.jpg done\n",
      "62.jpg done\n",
      "63.jpg done\n",
      "64.jpg done\n",
      "65.jpg done\n",
      "66.jpg done\n",
      "67.jpg done\n",
      "68.jpg done\n",
      "69.jpg done\n",
      "70.jpg done\n",
      "71.jpg done\n",
      "72.jpg done\n",
      "73.jpg done\n",
      "74.jpg done\n",
      "75.jpg done\n",
      "76.jpg done\n",
      "77.jpg done\n",
      "78.jpg done\n",
      "79.jpg done\n",
      "80.jpg done\n",
      "81.jpg done\n",
      "82.jpg done\n",
      "83.jpg done\n",
      "84.jpg done\n",
      "85.jpg done\n",
      "86.jpg done\n",
      "87.jpg done\n",
      "88.jpg done\n",
      "89.jpg done\n",
      "90.jpg done\n",
      "91.jpg done\n",
      "92.jpg done\n",
      "93.jpg done\n",
      "94.jpg done\n",
      "95.jpg done\n",
      "96.jpg done\n",
      "97.jpg done\n",
      "98.jpg done\n",
      "99.jpg done\n",
      "100.jpg done\n",
      "101.jpg done\n",
      "102.jpg done\n",
      "103.jpg done\n",
      "104.jpg done\n",
      "105.jpg done\n",
      "106.jpg done\n",
      "107.jpg done\n",
      "108.jpg done\n",
      "109.jpg done\n",
      "110.jpg done\n",
      "111.jpg done\n",
      "112.jpg done\n",
      "113.jpg done\n",
      "114.jpg done\n"
     ]
    },
    {
     "name": "stderr",
     "output_type": "stream",
     "text": [
      " 21%|██▏       | 90/421 [03:36<17:34,  3.19s/it]"
     ]
    },
    {
     "name": "stdout",
     "output_type": "stream",
     "text": [
      "115.jpg done\n",
      "116.jpg done\n",
      "117.jpg done\n",
      "118.jpg done\n",
      "0.jpg done\n",
      "1.jpg done\n",
      "2.jpg done\n",
      "3.jpg done\n",
      "4.jpg done\n",
      "5.jpg done\n",
      "6.jpg done\n",
      "7.jpg done\n",
      "8.jpg done\n",
      "9.jpg done\n",
      "10.jpg done\n",
      "11.jpg done\n",
      "12.jpg done\n",
      "13.jpg done\n",
      "14.jpg done\n",
      "15.jpg done\n",
      "16.jpg done\n",
      "17.jpg done\n",
      "18.jpg done\n",
      "19.jpg done\n",
      "20.jpg done\n",
      "21.jpg done\n",
      "22.jpg done\n",
      "23.jpg done\n",
      "24.jpg done\n",
      "25.jpg done\n",
      "26.jpg done\n",
      "27.jpg done\n",
      "28.jpg done\n",
      "29.jpg done\n",
      "30.jpg done\n",
      "31.jpg done\n",
      "32.jpg done\n",
      "33.jpg done\n"
     ]
    },
    {
     "name": "stderr",
     "output_type": "stream",
     "text": [
      " 22%|██▏       | 91/421 [03:37<14:56,  2.72s/it]"
     ]
    },
    {
     "name": "stdout",
     "output_type": "stream",
     "text": [
      "0.jpg done\n",
      "1.jpg done\n",
      "2.jpg done\n",
      "3.jpg done\n",
      "4.jpg done\n"
     ]
    },
    {
     "name": "stderr",
     "output_type": "stream",
     "text": [
      " 22%|██▏       | 92/421 [03:38<11:03,  2.02s/it]"
     ]
    },
    {
     "name": "stdout",
     "output_type": "stream",
     "text": [
      "5.jpg done\n",
      "6.jpg done\n",
      "0.jpg done\n",
      "1.jpg done\n"
     ]
    },
    {
     "name": "stderr",
     "output_type": "stream",
     "text": [
      " 22%|██▏       | 93/421 [03:38<08:09,  1.49s/it]"
     ]
    },
    {
     "name": "stdout",
     "output_type": "stream",
     "text": [
      "2.jpg done\n",
      "3.jpg done\n",
      "4.jpg done\n",
      "0.jpg done\n",
      "1.jpg done\n",
      "2.jpg done\n",
      "3.jpg done\n",
      "4.jpg done\n",
      "5.jpg done\n",
      "6.jpg done\n",
      "7.jpg done\n",
      "8.jpg done\n",
      "9.jpg done\n",
      "10.jpg done\n"
     ]
    },
    {
     "name": "stderr",
     "output_type": "stream",
     "text": [
      " 22%|██▏       | 94/421 [03:39<06:46,  1.24s/it]"
     ]
    },
    {
     "name": "stdout",
     "output_type": "stream",
     "text": [
      "11.jpg done\n",
      "12.jpg done\n",
      "13.jpg done\n",
      "0.jpg done\n",
      "1.jpg done\n",
      "2.jpg done\n",
      "3.jpg done\n",
      "4.jpg done\n",
      "5.jpg done\n",
      "6.jpg done\n",
      "7.jpg done\n",
      "8.jpg done\n",
      "9.jpg done\n",
      "10.jpg done\n",
      "11.jpg done\n",
      "12.jpg done\n",
      "13.jpg done\n",
      "14.jpg done\n",
      "15.jpg done\n",
      "16.jpg done\n",
      "17.jpg done\n",
      "18.jpg done\n",
      "19.jpg done\n",
      "20.jpg done\n",
      "21.jpg done\n",
      "22.jpg done\n",
      "23.jpg done\n",
      "24.jpg done\n",
      "25.jpg done\n",
      "26.jpg done\n",
      "27.jpg done\n",
      "28.jpg done\n",
      "29.jpg done\n",
      "30.jpg done\n",
      "31.jpg done\n",
      "32.jpg done\n",
      "33.jpg done\n",
      "34.jpg done\n",
      "35.jpg done\n",
      "36.jpg done\n",
      "37.jpg done\n",
      "38.jpg done\n",
      "39.jpg done\n",
      "40.jpg done\n",
      "41.jpg done\n",
      "42.jpg done\n",
      "43.jpg done\n",
      "44.jpg done\n",
      "45.jpg done\n",
      "46.jpg done\n",
      "47.jpg done\n"
     ]
    },
    {
     "name": "stderr",
     "output_type": "stream",
     "text": [
      " 23%|██▎       | 95/421 [03:41<08:57,  1.65s/it]"
     ]
    },
    {
     "name": "stdout",
     "output_type": "stream",
     "text": [
      "48.jpg done\n",
      "49.jpg done\n",
      "50.jpg done\n",
      "51.jpg done\n",
      "52.jpg done\n",
      "0.jpg done\n",
      "1.jpg done\n",
      "2.jpg done\n",
      "3.jpg done\n",
      "4.jpg done\n",
      "5.jpg done\n",
      "6.jpg done\n",
      "7.jpg done\n",
      "8.jpg done\n",
      "9.jpg done\n",
      "10.jpg done\n",
      "11.jpg done\n",
      "12.jpg done\n",
      "13.jpg done\n",
      "14.jpg done\n",
      "15.jpg done\n",
      "16.jpg done\n",
      "17.jpg done\n",
      "18.jpg done\n",
      "19.jpg done\n",
      "20.jpg done\n",
      "21.jpg done\n",
      "22.jpg done\n",
      "23.jpg done\n",
      "24.jpg done\n",
      "25.jpg done\n",
      "26.jpg done\n",
      "27.jpg done\n",
      "28.jpg done\n",
      "29.jpg done\n",
      "30.jpg done\n",
      "31.jpg done\n",
      "32.jpg done\n",
      "33.jpg done\n",
      "34.jpg done\n",
      "35.jpg done\n",
      "36.jpg done\n",
      "37.jpg done\n",
      "38.jpg done\n",
      "39.jpg done\n",
      "40.jpg done\n",
      "41.jpg done\n",
      "42.jpg done\n",
      "43.jpg done\n",
      "44.jpg done\n",
      "45.jpg done\n",
      "46.jpg done\n",
      "47.jpg done\n",
      "48.jpg done\n",
      "49.jpg done\n"
     ]
    },
    {
     "name": "stderr",
     "output_type": "stream",
     "text": [
      " 23%|██▎       | 96/421 [03:44<10:01,  1.85s/it]"
     ]
    },
    {
     "name": "stdout",
     "output_type": "stream",
     "text": [
      "50.jpg done\n",
      "51.jpg done\n",
      "0.jpg done\n",
      "1.jpg done\n",
      "2.jpg done\n",
      "3.jpg done\n",
      "4.jpg done\n",
      "5.jpg done\n",
      "6.jpg done\n",
      "7.jpg done\n",
      "8.jpg done\n",
      "9.jpg done\n",
      "10.jpg done\n",
      "11.jpg done\n",
      "12.jpg done\n",
      "13.jpg done\n",
      "14.jpg done\n",
      "15.jpg done\n",
      "16.jpg done\n",
      "17.jpg done\n",
      "18.jpg done\n",
      "19.jpg done\n",
      "20.jpg done\n",
      "21.jpg done\n",
      "22.jpg done\n",
      "23.jpg done\n",
      "24.jpg done\n",
      "25.jpg done\n",
      "26.jpg done\n",
      "27.jpg done\n",
      "28.jpg done\n",
      "29.jpg done\n",
      "30.jpg done\n",
      "31.jpg done\n",
      "32.jpg done\n",
      "33.jpg done\n",
      "34.jpg done\n",
      "35.jpg done\n",
      "36.jpg done\n",
      "37.jpg done\n",
      "38.jpg done\n",
      "39.jpg done\n",
      "40.jpg done\n",
      "41.jpg done\n"
     ]
    },
    {
     "name": "stderr",
     "output_type": "stream",
     "text": [
      " 23%|██▎       | 97/421 [03:46<10:19,  1.91s/it]"
     ]
    },
    {
     "name": "stdout",
     "output_type": "stream",
     "text": [
      "42.jpg done\n",
      "43.jpg done\n",
      "44.jpg done\n",
      "45.jpg done\n",
      "0.jpg done\n",
      "1.jpg done\n",
      "2.jpg done\n",
      "3.jpg done\n",
      "4.jpg done\n",
      "5.jpg done\n",
      "6.jpg done\n",
      "7.jpg done\n",
      "8.jpg done\n",
      "9.jpg done\n",
      "10.jpg done\n",
      "11.jpg done\n",
      "12.jpg done\n",
      "13.jpg done\n",
      "14.jpg done\n",
      "15.jpg done\n",
      "16.jpg done\n",
      "17.jpg done\n",
      "18.jpg done\n",
      "19.jpg done\n",
      "20.jpg done\n",
      "21.jpg done\n",
      "22.jpg done\n",
      "23.jpg done\n",
      "24.jpg done\n",
      "25.jpg done\n",
      "26.jpg done\n",
      "27.jpg done\n",
      "28.jpg done\n",
      "29.jpg done\n",
      "30.jpg done\n",
      "31.jpg done\n",
      "32.jpg done\n"
     ]
    },
    {
     "name": "stderr",
     "output_type": "stream",
     "text": [
      " 23%|██▎       | 98/421 [03:47<10:01,  1.86s/it]"
     ]
    },
    {
     "name": "stdout",
     "output_type": "stream",
     "text": [
      "33.jpg done\n",
      "34.jpg done\n",
      "35.jpg done\n",
      "0.jpg done\n"
     ]
    },
    {
     "name": "stderr",
     "output_type": "stream",
     "text": [
      " 24%|██▎       | 99/421 [03:48<07:28,  1.39s/it]"
     ]
    },
    {
     "name": "stdout",
     "output_type": "stream",
     "text": [
      "1.jpg done\n",
      "2.jpg done\n",
      "3.jpg done\n",
      "4.jpg done\n",
      "5.jpg done\n",
      "0.jpg done\n",
      "1.jpg done\n",
      "2.jpg done\n",
      "3.jpg done\n",
      "4.jpg done\n",
      "5.jpg done\n",
      "6.jpg done\n",
      "7.jpg done\n",
      "8.jpg done\n",
      "9.jpg done\n",
      "10.jpg done\n",
      "11.jpg done\n",
      "12.jpg done\n",
      "13.jpg done\n",
      "14.jpg done\n",
      "15.jpg done\n",
      "16.jpg done\n",
      "17.jpg done\n",
      "18.jpg done\n",
      "19.jpg done\n",
      "20.jpg done\n",
      "21.jpg done\n",
      "22.jpg done\n",
      "23.jpg done\n",
      "24.jpg done\n",
      "25.jpg done\n",
      "26.jpg done\n",
      "27.jpg done\n",
      "28.jpg done\n",
      "29.jpg done\n",
      "30.jpg done\n",
      "31.jpg done\n",
      "32.jpg done\n",
      "33.jpg done\n",
      "34.jpg done\n",
      "35.jpg done\n",
      "36.jpg done\n",
      "37.jpg done\n",
      "38.jpg done\n",
      "39.jpg done\n",
      "40.jpg done\n",
      "41.jpg done\n",
      "42.jpg done\n",
      "43.jpg done\n",
      "44.jpg done\n",
      "45.jpg done\n"
     ]
    },
    {
     "name": "stderr",
     "output_type": "stream",
     "text": [
      " 24%|██▍       | 100/421 [03:50<08:37,  1.61s/it]"
     ]
    },
    {
     "name": "stdout",
     "output_type": "stream",
     "text": [
      "46.jpg done\n",
      "47.jpg done\n",
      "48.jpg done\n",
      "49.jpg done\n",
      "0.jpg done\n",
      "1.jpg done\n",
      "2.jpg done\n",
      "3.jpg done\n",
      "4.jpg done\n",
      "5.jpg done\n",
      "6.jpg done\n",
      "7.jpg done\n",
      "8.jpg done\n",
      "9.jpg done\n",
      "10.jpg done\n",
      "11.jpg done\n",
      "12.jpg done\n",
      "13.jpg done\n",
      "14.jpg done\n",
      "15.jpg done\n",
      "16.jpg done\n",
      "17.jpg done\n",
      "18.jpg done\n",
      "19.jpg done\n",
      "20.jpg done\n",
      "21.jpg done\n",
      "22.jpg done\n",
      "23.jpg done\n",
      "24.jpg done\n"
     ]
    },
    {
     "name": "stderr",
     "output_type": "stream",
     "text": [
      " 24%|██▍       | 101/421 [03:51<08:03,  1.51s/it]"
     ]
    },
    {
     "name": "stdout",
     "output_type": "stream",
     "text": [
      "25.jpg done\n",
      "26.jpg done\n",
      "27.jpg done\n",
      "0.jpg done\n",
      "1.jpg done\n",
      "2.jpg done\n",
      "3.jpg done\n",
      "4.jpg done\n",
      "5.jpg done\n",
      "6.jpg done\n",
      "7.jpg done\n",
      "8.jpg done\n",
      "9.jpg done\n",
      "10.jpg done\n",
      "11.jpg done\n"
     ]
    },
    {
     "name": "stderr",
     "output_type": "stream",
     "text": [
      " 24%|██▍       | 102/421 [03:52<06:35,  1.24s/it]"
     ]
    },
    {
     "name": "stdout",
     "output_type": "stream",
     "text": [
      "12.jpg done\n",
      "0.jpg done\n",
      "1.jpg done\n",
      "2.jpg done\n",
      "3.jpg done\n",
      "4.jpg done\n",
      "5.jpg done\n",
      "6.jpg done\n",
      "7.jpg done\n",
      "8.jpg done\n",
      "9.jpg done\n"
     ]
    },
    {
     "name": "stderr",
     "output_type": "stream",
     "text": [
      " 24%|██▍       | 103/421 [03:53<06:01,  1.14s/it]"
     ]
    },
    {
     "name": "stdout",
     "output_type": "stream",
     "text": [
      "10.jpg done\n",
      "11.jpg done\n",
      "12.jpg done\n",
      "13.jpg done\n",
      "14.jpg done\n",
      "0.jpg done\n",
      "1.jpg done\n",
      "2.jpg done\n",
      "3.jpg done\n",
      "4.jpg done\n",
      "5.jpg done\n",
      "6.jpg done\n",
      "7.jpg done\n",
      "8.jpg done\n",
      "9.jpg done\n",
      "10.jpg done\n",
      "11.jpg done\n",
      "12.jpg done\n",
      "13.jpg done\n",
      "14.jpg done\n",
      "15.jpg done\n",
      "16.jpg done\n",
      "17.jpg done\n",
      "18.jpg done\n",
      "19.jpg done\n",
      "20.jpg done\n",
      "21.jpg done\n",
      "22.jpg done\n",
      "23.jpg done\n"
     ]
    },
    {
     "name": "stderr",
     "output_type": "stream",
     "text": [
      " 25%|██▌       | 106/421 [03:54<03:43,  1.41it/s]"
     ]
    },
    {
     "name": "stdout",
     "output_type": "stream",
     "text": [
      "24.jpg done\n",
      "0.jpg done\n",
      "1.jpg done\n",
      "2.jpg done\n",
      "0.jpg done\n",
      "1.jpg done\n",
      "2.jpg done\n",
      "3.jpg done\n",
      "4.jpg done\n"
     ]
    },
    {
     "name": "stderr",
     "output_type": "stream",
     "text": [
      " 25%|██▌       | 107/421 [03:54<03:20,  1.56it/s]"
     ]
    },
    {
     "name": "stdout",
     "output_type": "stream",
     "text": [
      "5.jpg done\n",
      "6.jpg done\n",
      "7.jpg done\n",
      "8.jpg done\n",
      "0.jpg done\n",
      "1.jpg done\n",
      "2.jpg done\n",
      "3.jpg done\n",
      "4.jpg done\n",
      "5.jpg done\n",
      "6.jpg done\n",
      "7.jpg done\n",
      "8.jpg done\n",
      "9.jpg done\n",
      "10.jpg done\n",
      "11.jpg done\n",
      "12.jpg done\n",
      "13.jpg done\n",
      "14.jpg done\n",
      "15.jpg done\n",
      "16.jpg done\n",
      "17.jpg done\n",
      "18.jpg done\n",
      "19.jpg done\n",
      "20.jpg done\n",
      "21.jpg done\n",
      "22.jpg done\n",
      "23.jpg done\n",
      "24.jpg done\n"
     ]
    },
    {
     "name": "stderr",
     "output_type": "stream",
     "text": [
      " 26%|██▌       | 108/421 [03:56<04:16,  1.22it/s]"
     ]
    },
    {
     "name": "stdout",
     "output_type": "stream",
     "text": [
      "25.jpg done\n",
      "26.jpg done\n",
      "0.jpg done\n",
      "1.jpg done\n",
      "2.jpg done\n",
      "3.jpg done\n",
      "4.jpg done\n",
      "5.jpg done\n",
      "6.jpg done\n",
      "7.jpg done\n",
      "8.jpg done\n",
      "9.jpg done\n",
      "10.jpg done\n",
      "11.jpg done\n"
     ]
    },
    {
     "name": "stderr",
     "output_type": "stream",
     "text": [
      " 26%|██▌       | 109/421 [03:56<03:56,  1.32it/s]"
     ]
    },
    {
     "name": "stdout",
     "output_type": "stream",
     "text": [
      "0.jpg done\n",
      "1.jpg done\n",
      "2.jpg done\n",
      "3.jpg done\n",
      "4.jpg done\n",
      "5.jpg done\n",
      "6.jpg done\n",
      "7.jpg done\n",
      "8.jpg done\n",
      "9.jpg done\n",
      "10.jpg done\n",
      "11.jpg done\n",
      "12.jpg done\n",
      "13.jpg done\n",
      "14.jpg done\n"
     ]
    },
    {
     "name": "stderr",
     "output_type": "stream",
     "text": [
      " 26%|██▌       | 110/421 [03:57<04:08,  1.25it/s]"
     ]
    },
    {
     "name": "stdout",
     "output_type": "stream",
     "text": [
      "15.jpg done\n",
      "16.jpg done\n",
      "17.jpg done\n",
      "18.jpg done\n",
      "0.jpg done\n",
      "1.jpg done\n",
      "2.jpg done\n",
      "3.jpg done\n",
      "4.jpg done\n",
      "5.jpg done\n",
      "6.jpg done\n",
      "7.jpg done\n",
      "8.jpg done\n",
      "9.jpg done\n",
      "10.jpg done\n",
      "11.jpg done\n",
      "12.jpg done\n",
      "13.jpg done\n",
      "14.jpg done\n"
     ]
    },
    {
     "name": "stderr",
     "output_type": "stream",
     "text": [
      " 26%|██▋       | 111/421 [03:58<04:25,  1.17it/s]"
     ]
    },
    {
     "name": "stdout",
     "output_type": "stream",
     "text": [
      "15.jpg done\n",
      "0.jpg done\n",
      "1.jpg done\n",
      "2.jpg done\n",
      "3.jpg done\n",
      "4.jpg done\n",
      "5.jpg done\n",
      "6.jpg done\n",
      "7.jpg done\n",
      "8.jpg done\n",
      "9.jpg done\n",
      "10.jpg done\n",
      "11.jpg done\n",
      "12.jpg done\n",
      "13.jpg done\n",
      "14.jpg done\n",
      "15.jpg done\n",
      "16.jpg done\n"
     ]
    },
    {
     "name": "stderr",
     "output_type": "stream",
     "text": [
      " 27%|██▋       | 112/421 [03:59<04:27,  1.16it/s]"
     ]
    },
    {
     "name": "stdout",
     "output_type": "stream",
     "text": [
      "17.jpg done\n",
      "0.jpg done\n",
      "1.jpg done\n",
      "2.jpg done\n"
     ]
    },
    {
     "name": "stderr",
     "output_type": "stream",
     "text": [
      " 27%|██▋       | 113/421 [03:59<03:37,  1.41it/s]"
     ]
    },
    {
     "name": "stdout",
     "output_type": "stream",
     "text": [
      "3.jpg done\n",
      "4.jpg done\n",
      "5.jpg done\n",
      "0.jpg done\n",
      "1.jpg done\n",
      "2.jpg done\n",
      "3.jpg done\n",
      "4.jpg done\n",
      "5.jpg done\n",
      "6.jpg done\n",
      "7.jpg done\n",
      "8.jpg done\n",
      "9.jpg done\n",
      "10.jpg done\n",
      "11.jpg done\n",
      "12.jpg done\n",
      "13.jpg done\n",
      "14.jpg done\n",
      "15.jpg done\n",
      "16.jpg done\n",
      "17.jpg done\n",
      "18.jpg done\n",
      "19.jpg done\n",
      "20.jpg done\n",
      "21.jpg done\n",
      "22.jpg done\n",
      "23.jpg done\n",
      "24.jpg done\n",
      "25.jpg done\n"
     ]
    },
    {
     "name": "stderr",
     "output_type": "stream",
     "text": [
      " 27%|██▋       | 114/421 [04:01<04:34,  1.12it/s]"
     ]
    },
    {
     "name": "stdout",
     "output_type": "stream",
     "text": [
      "26.jpg done\n",
      "27.jpg done\n",
      "0.jpg done\n",
      "1.jpg done\n",
      "2.jpg done\n",
      "3.jpg done\n",
      "4.jpg done\n",
      "5.jpg done\n",
      "6.jpg done\n",
      "7.jpg done\n",
      "8.jpg done\n",
      "9.jpg done\n",
      "10.jpg done\n",
      "11.jpg done\n",
      "12.jpg done\n",
      "13.jpg done\n",
      "14.jpg done\n",
      "15.jpg done\n",
      "16.jpg done\n",
      "17.jpg done\n",
      "18.jpg done\n",
      "19.jpg done\n",
      "20.jpg done\n",
      "21.jpg done\n",
      "22.jpg done\n",
      "23.jpg done\n",
      "24.jpg done\n",
      "25.jpg done\n",
      "26.jpg done\n"
     ]
    },
    {
     "name": "stderr",
     "output_type": "stream",
     "text": [
      " 27%|██▋       | 115/421 [04:02<05:25,  1.06s/it]"
     ]
    },
    {
     "name": "stdout",
     "output_type": "stream",
     "text": [
      "27.jpg done\n",
      "28.jpg done\n",
      "29.jpg done\n",
      "30.jpg done\n",
      "31.jpg done\n",
      "0.jpg done\n",
      "1.jpg done\n",
      "2.jpg done\n",
      "3.jpg done\n",
      "4.jpg done\n",
      "5.jpg done\n",
      "6.jpg done\n",
      "7.jpg done\n",
      "8.jpg done\n",
      "9.jpg done\n",
      "10.jpg done\n",
      "11.jpg done\n",
      "12.jpg done\n",
      "13.jpg done\n",
      "14.jpg done\n",
      "15.jpg done\n",
      "16.jpg done\n"
     ]
    },
    {
     "name": "stderr",
     "output_type": "stream",
     "text": [
      " 28%|██▊       | 116/421 [04:03<05:23,  1.06s/it]"
     ]
    },
    {
     "name": "stdout",
     "output_type": "stream",
     "text": [
      "17.jpg done\n",
      "0.jpg done\n",
      "1.jpg done\n",
      "2.jpg done\n",
      "3.jpg done\n",
      "4.jpg done\n",
      "5.jpg done\n",
      "6.jpg done\n",
      "7.jpg done\n",
      "8.jpg done\n",
      "9.jpg done\n",
      "10.jpg done\n",
      "11.jpg done\n",
      "12.jpg done\n",
      "13.jpg done\n",
      "14.jpg done\n",
      "15.jpg done\n",
      "16.jpg done\n",
      "17.jpg done\n",
      "18.jpg done\n",
      "19.jpg done\n",
      "20.jpg done\n",
      "21.jpg done\n",
      "22.jpg done\n"
     ]
    },
    {
     "name": "stderr",
     "output_type": "stream",
     "text": [
      " 28%|██▊       | 117/421 [04:05<05:51,  1.16s/it]"
     ]
    },
    {
     "name": "stdout",
     "output_type": "stream",
     "text": [
      "23.jpg done\n",
      "24.jpg done\n",
      "25.jpg done\n",
      "0.jpg done\n",
      "1.jpg done\n",
      "2.jpg done\n",
      "3.jpg done\n",
      "4.jpg done\n",
      "5.jpg done\n"
     ]
    },
    {
     "name": "stderr",
     "output_type": "stream",
     "text": [
      " 28%|██▊       | 118/421 [04:05<04:55,  1.03it/s]"
     ]
    },
    {
     "name": "stdout",
     "output_type": "stream",
     "text": [
      "6.jpg done\n",
      "7.jpg done\n",
      "8.jpg done\n",
      "9.jpg done\n",
      "10.jpg done\n",
      "0.jpg done\n",
      "1.jpg done\n",
      "2.jpg done\n",
      "3.jpg done\n",
      "4.jpg done\n",
      "5.jpg done\n",
      "6.jpg done\n",
      "7.jpg done\n",
      "8.jpg done\n",
      "9.jpg done\n",
      "10.jpg done\n",
      "11.jpg done\n",
      "12.jpg done\n",
      "13.jpg done\n",
      "14.jpg done\n",
      "15.jpg done\n",
      "16.jpg done\n",
      "17.jpg done\n",
      "18.jpg done\n",
      "19.jpg done\n",
      "20.jpg done\n",
      "21.jpg done\n",
      "22.jpg done\n",
      "23.jpg done\n",
      "24.jpg done\n",
      "25.jpg done\n",
      "26.jpg done\n",
      "27.jpg done\n",
      "28.jpg done\n",
      "29.jpg done\n",
      "30.jpg done\n",
      "31.jpg done\n",
      "32.jpg done\n",
      "33.jpg done\n",
      "34.jpg done\n",
      "35.jpg done\n",
      "36.jpg done\n",
      "37.jpg done\n",
      "38.jpg done\n",
      "39.jpg done\n",
      "40.jpg done\n",
      "41.jpg done\n",
      "42.jpg done\n",
      "43.jpg done\n",
      "44.jpg done\n",
      "45.jpg done\n",
      "46.jpg done\n",
      "47.jpg done\n",
      "48.jpg done\n",
      "49.jpg done\n",
      "50.jpg done\n",
      "51.jpg done\n",
      "52.jpg done\n",
      "53.jpg done\n",
      "54.jpg done\n",
      "55.jpg done\n",
      "56.jpg done\n",
      "57.jpg done\n",
      "58.jpg done\n",
      "59.jpg done\n",
      "60.jpg done\n",
      "61.jpg done\n"
     ]
    },
    {
     "name": "stderr",
     "output_type": "stream",
     "text": [
      " 28%|██▊       | 119/421 [04:08<08:19,  1.65s/it]"
     ]
    },
    {
     "name": "stdout",
     "output_type": "stream",
     "text": [
      "62.jpg done\n",
      "63.jpg done\n",
      "64.jpg done\n",
      "0.jpg done\n",
      "1.jpg done\n",
      "2.jpg done\n",
      "3.jpg done\n",
      "4.jpg done\n",
      "5.jpg done\n",
      "6.jpg done\n",
      "7.jpg done\n",
      "8.jpg done\n",
      "9.jpg done\n",
      "10.jpg done\n",
      "11.jpg done\n",
      "12.jpg done\n",
      "13.jpg done\n",
      "14.jpg done\n",
      "15.jpg done\n"
     ]
    },
    {
     "name": "stderr",
     "output_type": "stream",
     "text": [
      " 29%|██▊       | 120/421 [04:09<07:08,  1.43s/it]"
     ]
    },
    {
     "name": "stdout",
     "output_type": "stream",
     "text": [
      "16.jpg done\n",
      "17.jpg done\n",
      "0.jpg done\n"
     ]
    },
    {
     "name": "stderr",
     "output_type": "stream",
     "text": [
      " 29%|██▊       | 121/421 [04:10<05:28,  1.09s/it]"
     ]
    },
    {
     "name": "stdout",
     "output_type": "stream",
     "text": [
      "1.jpg done\n",
      "2.jpg done\n",
      "3.jpg done\n",
      "4.jpg done\n",
      "0.jpg done\n",
      "1.jpg done\n",
      "2.jpg done\n",
      "3.jpg done\n",
      "4.jpg done\n",
      "5.jpg done\n",
      "6.jpg done\n",
      "7.jpg done\n",
      "8.jpg done\n",
      "9.jpg done\n",
      "10.jpg done\n",
      "11.jpg done\n",
      "12.jpg done\n",
      "13.jpg done\n",
      "14.jpg done\n",
      "15.jpg done\n",
      "16.jpg done\n",
      "17.jpg done\n",
      "18.jpg done\n",
      "19.jpg done\n"
     ]
    },
    {
     "name": "stderr",
     "output_type": "stream",
     "text": [
      " 29%|██▉       | 122/421 [04:11<05:24,  1.09s/it]"
     ]
    },
    {
     "name": "stdout",
     "output_type": "stream",
     "text": [
      "20.jpg done\n",
      "21.jpg done\n",
      "22.jpg done\n",
      "0.jpg done\n",
      "1.jpg done\n",
      "2.jpg done\n",
      "3.jpg done\n",
      "4.jpg done\n",
      "5.jpg done\n"
     ]
    },
    {
     "name": "stderr",
     "output_type": "stream",
     "text": [
      " 29%|██▉       | 123/421 [04:11<04:23,  1.13it/s]"
     ]
    },
    {
     "name": "stdout",
     "output_type": "stream",
     "text": [
      "6.jpg done\n",
      "0.jpg done\n"
     ]
    },
    {
     "name": "stderr",
     "output_type": "stream",
     "text": [
      " 29%|██▉       | 124/421 [04:11<03:31,  1.40it/s]"
     ]
    },
    {
     "name": "stdout",
     "output_type": "stream",
     "text": [
      "1.jpg done\n",
      "2.jpg done\n",
      "3.jpg done\n",
      "0.jpg done\n",
      "1.jpg done\n",
      "2.jpg done\n",
      "3.jpg done\n",
      "4.jpg done\n",
      "5.jpg done\n",
      "6.jpg done\n",
      "7.jpg done\n",
      "8.jpg done\n",
      "9.jpg done\n"
     ]
    },
    {
     "name": "stderr",
     "output_type": "stream",
     "text": [
      " 30%|██▉       | 125/421 [04:12<03:27,  1.42it/s]"
     ]
    },
    {
     "name": "stdout",
     "output_type": "stream",
     "text": [
      "10.jpg done\n",
      "11.jpg done\n",
      "12.jpg done\n",
      "0.jpg done\n",
      "1.jpg done\n",
      "2.jpg done\n",
      "3.jpg done\n",
      "4.jpg done\n",
      "5.jpg done\n",
      "6.jpg done\n",
      "7.jpg done\n",
      "8.jpg done\n",
      "9.jpg done\n",
      "10.jpg done\n",
      "11.jpg done\n",
      "12.jpg done\n",
      "13.jpg done\n"
     ]
    },
    {
     "name": "stderr",
     "output_type": "stream",
     "text": [
      " 30%|██▉       | 126/421 [04:13<03:52,  1.27it/s]"
     ]
    },
    {
     "name": "stdout",
     "output_type": "stream",
     "text": [
      "14.jpg done\n",
      "15.jpg done\n",
      "16.jpg done\n",
      "17.jpg done\n",
      "0.jpg done\n",
      "1.jpg done\n",
      "2.jpg done\n",
      "3.jpg done\n",
      "4.jpg done\n",
      "5.jpg done\n",
      "6.jpg done\n",
      "7.jpg done\n",
      "8.jpg done\n",
      "9.jpg done\n"
     ]
    },
    {
     "name": "stderr",
     "output_type": "stream",
     "text": [
      " 30%|███       | 127/421 [04:14<03:44,  1.31it/s]"
     ]
    },
    {
     "name": "stdout",
     "output_type": "stream",
     "text": [
      "10.jpg done\n",
      "11.jpg done\n",
      "12.jpg done\n",
      "0.jpg done\n",
      "1.jpg done\n",
      "2.jpg done\n",
      "3.jpg done\n",
      "4.jpg done\n",
      "5.jpg done\n",
      "6.jpg done\n",
      "7.jpg done\n",
      "8.jpg done\n",
      "9.jpg done\n",
      "10.jpg done\n",
      "11.jpg done\n",
      "12.jpg done\n",
      "13.jpg done\n",
      "14.jpg done\n",
      "15.jpg done\n",
      "16.jpg done\n",
      "17.jpg done\n",
      "18.jpg done\n",
      "19.jpg done\n"
     ]
    },
    {
     "name": "stderr",
     "output_type": "stream",
     "text": [
      " 30%|███       | 128/421 [04:15<04:07,  1.18it/s]"
     ]
    },
    {
     "name": "stdout",
     "output_type": "stream",
     "text": [
      "0.jpg done\n",
      "1.jpg done\n",
      "2.jpg done\n",
      "3.jpg done\n",
      "4.jpg done\n",
      "5.jpg done\n",
      "6.jpg done\n",
      "7.jpg done\n",
      "8.jpg done\n",
      "9.jpg done\n",
      "10.jpg done\n",
      "11.jpg done\n",
      "12.jpg done\n",
      "13.jpg done\n",
      "14.jpg done\n",
      "15.jpg done\n",
      "16.jpg done\n",
      "17.jpg done\n",
      "18.jpg done\n",
      "19.jpg done\n",
      "20.jpg done\n",
      "21.jpg done\n",
      "22.jpg done\n",
      "23.jpg done\n",
      "24.jpg done\n",
      "25.jpg done\n",
      "26.jpg done\n",
      "27.jpg done\n",
      "28.jpg done\n",
      "29.jpg done\n"
     ]
    },
    {
     "name": "stderr",
     "output_type": "stream",
     "text": [
      " 31%|███       | 129/421 [04:17<05:23,  1.11s/it]"
     ]
    },
    {
     "name": "stdout",
     "output_type": "stream",
     "text": [
      "30.jpg done\n",
      "31.jpg done\n",
      "32.jpg done\n",
      "33.jpg done\n",
      "34.jpg done\n",
      "0.jpg done\n",
      "1.jpg done\n",
      "2.jpg done\n",
      "3.jpg done\n",
      "4.jpg done\n"
     ]
    },
    {
     "name": "stderr",
     "output_type": "stream",
     "text": [
      " 31%|███       | 130/421 [04:17<04:17,  1.13it/s]"
     ]
    },
    {
     "name": "stdout",
     "output_type": "stream",
     "text": [
      "5.jpg done\n",
      "6.jpg done\n",
      "0.jpg done\n",
      "1.jpg done\n",
      "2.jpg done\n",
      "3.jpg done\n",
      "4.jpg done\n",
      "5.jpg done\n",
      "6.jpg done\n",
      "7.jpg done\n",
      "8.jpg done\n",
      "9.jpg done\n",
      "10.jpg done\n",
      "11.jpg done\n",
      "12.jpg done\n",
      "13.jpg done\n",
      "14.jpg done\n",
      "15.jpg done\n",
      "16.jpg done\n"
     ]
    },
    {
     "name": "stderr",
     "output_type": "stream",
     "text": [
      " 31%|███       | 131/421 [04:18<04:24,  1.10it/s]"
     ]
    },
    {
     "name": "stdout",
     "output_type": "stream",
     "text": [
      "17.jpg done\n",
      "18.jpg done\n",
      "19.jpg done\n",
      "0.jpg done\n",
      "1.jpg done\n",
      "2.jpg done\n",
      "3.jpg done\n",
      "4.jpg done\n",
      "5.jpg done\n",
      "6.jpg done\n",
      "7.jpg done\n",
      "8.jpg done\n",
      "9.jpg done\n",
      "10.jpg done\n",
      "11.jpg done\n",
      "12.jpg done\n",
      "13.jpg done\n",
      "14.jpg done\n",
      "15.jpg done\n",
      "16.jpg done\n"
     ]
    },
    {
     "name": "stderr",
     "output_type": "stream",
     "text": [
      " 31%|███▏      | 132/421 [04:19<04:35,  1.05it/s]"
     ]
    },
    {
     "name": "stdout",
     "output_type": "stream",
     "text": [
      "17.jpg done\n",
      "18.jpg done\n",
      "0.jpg done\n",
      "1.jpg done\n",
      "2.jpg done\n",
      "3.jpg done\n",
      "4.jpg done\n",
      "5.jpg done\n",
      "6.jpg done\n",
      "7.jpg done\n",
      "8.jpg done\n",
      "9.jpg done\n",
      "10.jpg done\n",
      "11.jpg done\n",
      "12.jpg done\n",
      "13.jpg done\n",
      "14.jpg done\n",
      "15.jpg done\n"
     ]
    },
    {
     "name": "stderr",
     "output_type": "stream",
     "text": [
      " 32%|███▏      | 133/421 [04:20<04:23,  1.09it/s]"
     ]
    },
    {
     "name": "stdout",
     "output_type": "stream",
     "text": [
      "16.jpg done\n",
      "0.jpg done\n",
      "1.jpg done\n",
      "2.jpg done\n",
      "3.jpg done\n",
      "4.jpg done\n",
      "5.jpg done\n",
      "6.jpg done\n",
      "7.jpg done\n",
      "8.jpg done\n",
      "9.jpg done\n",
      "10.jpg done\n",
      "11.jpg done\n"
     ]
    },
    {
     "name": "stderr",
     "output_type": "stream",
     "text": [
      " 32%|███▏      | 134/421 [04:21<04:18,  1.11it/s]"
     ]
    },
    {
     "name": "stdout",
     "output_type": "stream",
     "text": [
      "12.jpg done\n",
      "13.jpg done\n",
      "14.jpg done\n",
      "15.jpg done\n",
      "0.jpg done\n",
      "1.jpg done\n",
      "2.jpg done\n",
      "3.jpg done\n",
      "4.jpg done\n",
      "5.jpg done\n",
      "6.jpg done\n",
      "7.jpg done\n",
      "8.jpg done\n",
      "9.jpg done\n",
      "10.jpg done\n",
      "11.jpg done\n",
      "12.jpg done\n",
      "13.jpg done\n",
      "14.jpg done\n",
      "15.jpg done\n",
      "16.jpg done\n",
      "17.jpg done\n",
      "18.jpg done\n",
      "19.jpg done\n",
      "20.jpg done\n",
      "21.jpg done\n",
      "22.jpg done\n",
      "23.jpg done\n",
      "24.jpg done\n",
      "25.jpg done\n",
      "26.jpg done\n",
      "27.jpg done\n",
      "28.jpg done\n",
      "29.jpg done\n",
      "30.jpg done\n",
      "31.jpg done\n",
      "32.jpg done\n",
      "33.jpg done\n",
      "34.jpg done\n",
      "35.jpg done\n",
      "36.jpg done\n",
      "37.jpg done\n",
      "38.jpg done\n",
      "39.jpg done\n",
      "40.jpg done\n",
      "41.jpg done\n",
      "42.jpg done\n",
      "43.jpg done\n",
      "44.jpg done\n",
      "45.jpg done\n",
      "46.jpg done\n",
      "47.jpg done\n"
     ]
    },
    {
     "name": "stderr",
     "output_type": "stream",
     "text": [
      " 32%|███▏      | 135/421 [04:23<06:27,  1.35s/it]"
     ]
    },
    {
     "name": "stdout",
     "output_type": "stream",
     "text": [
      "48.jpg done\n",
      "0.jpg done\n",
      "1.jpg done\n"
     ]
    },
    {
     "name": "stderr",
     "output_type": "stream",
     "text": [
      " 32%|███▏      | 136/421 [04:23<04:54,  1.03s/it]"
     ]
    },
    {
     "name": "stdout",
     "output_type": "stream",
     "text": [
      "2.jpg done\n",
      "3.jpg done\n",
      "4.jpg done\n",
      "0.jpg done\n",
      "1.jpg done\n",
      "2.jpg done\n",
      "3.jpg done\n",
      "4.jpg done\n",
      "5.jpg done\n",
      "6.jpg done\n",
      "7.jpg done\n",
      "8.jpg done\n",
      "9.jpg done\n",
      "10.jpg done\n",
      "11.jpg done\n",
      "12.jpg done\n",
      "13.jpg done\n",
      "14.jpg done\n",
      "15.jpg done\n",
      "16.jpg done\n",
      "17.jpg done\n",
      "18.jpg done\n",
      "19.jpg done\n",
      "20.jpg done\n",
      "21.jpg done\n",
      "22.jpg done\n",
      "23.jpg done\n",
      "24.jpg done\n",
      "25.jpg done\n",
      "26.jpg done\n",
      "27.jpg done\n",
      "28.jpg done\n",
      "29.jpg done\n",
      "30.jpg done\n",
      "31.jpg done\n",
      "32.jpg done\n",
      "33.jpg done\n",
      "34.jpg done\n",
      "35.jpg done\n",
      "36.jpg done\n",
      "37.jpg done\n",
      "38.jpg done\n",
      "39.jpg done\n",
      "40.jpg done\n",
      "41.jpg done\n",
      "42.jpg done\n",
      "43.jpg done\n",
      "44.jpg done\n",
      "45.jpg done\n",
      "46.jpg done\n",
      "47.jpg done\n",
      "48.jpg done\n",
      "49.jpg done\n",
      "50.jpg done\n",
      "51.jpg done\n",
      "52.jpg done\n",
      "53.jpg done\n"
     ]
    },
    {
     "name": "stderr",
     "output_type": "stream",
     "text": [
      " 33%|███▎      | 137/421 [04:26<07:19,  1.55s/it]"
     ]
    },
    {
     "name": "stdout",
     "output_type": "stream",
     "text": [
      "0.jpg done\n",
      "1.jpg done\n",
      "2.jpg done\n",
      "3.jpg done\n",
      "4.jpg done\n",
      "5.jpg done\n",
      "6.jpg done\n",
      "7.jpg done\n",
      "8.jpg done\n",
      "9.jpg done\n",
      "10.jpg done\n",
      "11.jpg done\n",
      "12.jpg done\n",
      "13.jpg done\n",
      "14.jpg done\n",
      "15.jpg done\n",
      "16.jpg done\n",
      "17.jpg done\n",
      "18.jpg done\n",
      "19.jpg done\n",
      "20.jpg done\n",
      "21.jpg done\n",
      "22.jpg done\n",
      "23.jpg done\n",
      "24.jpg done\n",
      "25.jpg done\n",
      "26.jpg done\n",
      "27.jpg done\n",
      "28.jpg done\n",
      "29.jpg done\n",
      "30.jpg done\n",
      "31.jpg done\n",
      "32.jpg done\n",
      "33.jpg done\n",
      "34.jpg done\n",
      "35.jpg done\n",
      "36.jpg done\n",
      "37.jpg done\n",
      "38.jpg done\n",
      "39.jpg done\n",
      "40.jpg done\n",
      "41.jpg done\n",
      "42.jpg done\n"
     ]
    },
    {
     "name": "stderr",
     "output_type": "stream",
     "text": [
      " 33%|███▎      | 138/421 [04:28<08:24,  1.78s/it]"
     ]
    },
    {
     "name": "stdout",
     "output_type": "stream",
     "text": [
      "43.jpg done\n",
      "44.jpg done\n",
      "45.jpg done\n",
      "46.jpg done\n",
      "0.jpg done\n",
      "1.jpg done\n",
      "2.jpg done\n",
      "3.jpg done\n",
      "4.jpg done\n",
      "5.jpg done\n",
      "6.jpg done\n",
      "7.jpg done\n",
      "8.jpg done\n",
      "9.jpg done\n",
      "10.jpg done\n",
      "11.jpg done\n",
      "12.jpg done\n",
      "13.jpg done\n",
      "14.jpg done\n",
      "15.jpg done\n",
      "16.jpg done\n",
      "17.jpg done\n",
      "18.jpg done\n",
      "19.jpg done\n",
      "20.jpg done\n",
      "21.jpg done\n",
      "22.jpg done\n",
      "23.jpg done\n",
      "24.jpg done\n",
      "25.jpg done\n",
      "26.jpg done\n",
      "27.jpg done\n",
      "28.jpg done\n",
      "29.jpg done\n",
      "30.jpg done\n",
      "31.jpg done\n",
      "32.jpg done\n",
      "33.jpg done\n",
      "34.jpg done\n",
      "35.jpg done\n",
      "36.jpg done\n",
      "37.jpg done\n",
      "38.jpg done\n",
      "39.jpg done\n",
      "40.jpg done\n",
      "41.jpg done\n",
      "42.jpg done\n",
      "43.jpg done\n",
      "44.jpg done\n",
      "45.jpg done\n",
      "46.jpg done\n",
      "47.jpg done\n",
      "48.jpg done\n",
      "49.jpg done\n",
      "50.jpg done\n",
      "51.jpg done\n",
      "52.jpg done\n"
     ]
    },
    {
     "name": "stderr",
     "output_type": "stream",
     "text": [
      " 33%|███▎      | 139/421 [04:31<09:53,  2.10s/it]"
     ]
    },
    {
     "name": "stdout",
     "output_type": "stream",
     "text": [
      "53.jpg done\n",
      "54.jpg done\n",
      "55.jpg done\n",
      "0.jpg done\n",
      "1.jpg done\n",
      "2.jpg done\n",
      "3.jpg done\n",
      "4.jpg done\n",
      "5.jpg done\n",
      "6.jpg done\n",
      "7.jpg done\n",
      "8.jpg done\n",
      "9.jpg done\n",
      "10.jpg done\n",
      "11.jpg done\n",
      "12.jpg done\n",
      "13.jpg done\n",
      "14.jpg done\n",
      "15.jpg done\n",
      "16.jpg done\n",
      "17.jpg done\n",
      "18.jpg done\n",
      "19.jpg done\n",
      "20.jpg done\n",
      "21.jpg done\n",
      "22.jpg done\n",
      "23.jpg done\n",
      "24.jpg done\n",
      "25.jpg done\n",
      "26.jpg done\n",
      "27.jpg done\n",
      "28.jpg done\n",
      "29.jpg done\n"
     ]
    },
    {
     "name": "stderr",
     "output_type": "stream",
     "text": [
      " 33%|███▎      | 140/421 [04:33<08:57,  1.91s/it]"
     ]
    },
    {
     "name": "stdout",
     "output_type": "stream",
     "text": [
      "0.jpg done\n",
      "1.jpg done\n",
      "2.jpg done\n",
      "3.jpg done\n",
      "4.jpg done\n",
      "5.jpg done\n",
      "6.jpg done\n",
      "7.jpg done\n",
      "8.jpg done\n",
      "9.jpg done\n",
      "10.jpg done\n",
      "11.jpg done\n",
      "12.jpg done\n",
      "13.jpg done\n",
      "14.jpg done\n",
      "15.jpg done\n",
      "16.jpg done\n",
      "17.jpg done\n",
      "18.jpg done\n",
      "19.jpg done\n",
      "20.jpg done\n",
      "21.jpg done\n",
      "22.jpg done\n",
      "23.jpg done\n",
      "24.jpg done\n",
      "25.jpg done\n",
      "26.jpg done\n",
      "27.jpg done\n",
      "28.jpg done\n"
     ]
    },
    {
     "name": "stderr",
     "output_type": "stream",
     "text": [
      " 33%|███▎      | 141/421 [04:34<08:23,  1.80s/it]"
     ]
    },
    {
     "name": "stdout",
     "output_type": "stream",
     "text": [
      "29.jpg done\n",
      "30.jpg done\n",
      "0.jpg done\n",
      "1.jpg done\n",
      "2.jpg done\n",
      "3.jpg done\n",
      "4.jpg done\n",
      "5.jpg done\n",
      "6.jpg done\n"
     ]
    },
    {
     "name": "stderr",
     "output_type": "stream",
     "text": [
      " 34%|███▎      | 142/421 [04:35<06:53,  1.48s/it]"
     ]
    },
    {
     "name": "stdout",
     "output_type": "stream",
     "text": [
      "7.jpg done\n",
      "8.jpg done\n",
      "9.jpg done\n",
      "10.jpg done\n",
      "11.jpg done\n",
      "0.jpg done\n",
      "1.jpg done\n",
      "2.jpg done\n",
      "3.jpg done\n",
      "4.jpg done\n",
      "5.jpg done\n",
      "6.jpg done\n",
      "7.jpg done\n",
      "8.jpg done\n",
      "9.jpg done\n",
      "10.jpg done\n",
      "11.jpg done\n",
      "12.jpg done\n",
      "13.jpg done\n",
      "14.jpg done\n",
      "15.jpg done\n",
      "16.jpg done\n",
      "17.jpg done\n",
      "18.jpg done\n",
      "19.jpg done\n",
      "20.jpg done\n",
      "21.jpg done\n",
      "22.jpg done\n",
      "23.jpg done\n",
      "24.jpg done\n",
      "25.jpg done\n",
      "26.jpg done\n",
      "27.jpg done\n",
      "28.jpg done\n"
     ]
    },
    {
     "name": "stderr",
     "output_type": "stream",
     "text": [
      " 34%|███▍      | 143/421 [04:37<07:06,  1.53s/it]"
     ]
    },
    {
     "name": "stdout",
     "output_type": "stream",
     "text": [
      "29.jpg done\n",
      "30.jpg done\n",
      "31.jpg done\n",
      "32.jpg done\n",
      "0.jpg done\n",
      "1.jpg done\n",
      "2.jpg done\n",
      "3.jpg done\n",
      "4.jpg done\n",
      "5.jpg done\n",
      "6.jpg done\n",
      "7.jpg done\n",
      "8.jpg done\n",
      "9.jpg done\n"
     ]
    },
    {
     "name": "stderr",
     "output_type": "stream",
     "text": [
      " 34%|███▍      | 144/421 [04:37<05:56,  1.29s/it]"
     ]
    },
    {
     "name": "stdout",
     "output_type": "stream",
     "text": [
      "10.jpg done\n",
      "11.jpg done\n",
      "12.jpg done\n",
      "13.jpg done\n",
      "0.jpg done\n",
      "1.jpg done\n",
      "2.jpg done\n",
      "3.jpg done\n",
      "4.jpg done\n",
      "5.jpg done\n",
      "6.jpg done\n",
      "7.jpg done\n",
      "8.jpg done\n",
      "9.jpg done\n",
      "10.jpg done\n",
      "11.jpg done\n",
      "12.jpg done\n",
      "13.jpg done\n",
      "14.jpg done\n",
      "15.jpg done\n",
      "16.jpg done\n",
      "17.jpg done\n",
      "18.jpg done\n",
      "19.jpg done\n",
      "20.jpg done\n",
      "21.jpg done\n",
      "22.jpg done\n",
      "23.jpg done\n",
      "24.jpg done\n"
     ]
    },
    {
     "name": "stderr",
     "output_type": "stream",
     "text": [
      " 34%|███▍      | 145/421 [04:39<06:08,  1.34s/it]"
     ]
    },
    {
     "name": "stdout",
     "output_type": "stream",
     "text": [
      "25.jpg done\n",
      "26.jpg done\n",
      "27.jpg done\n",
      "28.jpg done\n",
      "0.jpg done\n",
      "1.jpg done\n",
      "2.jpg done\n",
      "3.jpg done\n",
      "4.jpg done\n",
      "5.jpg done\n",
      "6.jpg done\n",
      "7.jpg done\n",
      "8.jpg done\n",
      "9.jpg done\n",
      "10.jpg done\n",
      "11.jpg done\n",
      "12.jpg done\n",
      "13.jpg done\n",
      "14.jpg done\n",
      "15.jpg done\n",
      "16.jpg done\n",
      "17.jpg done\n",
      "18.jpg done\n",
      "19.jpg done\n",
      "20.jpg done\n",
      "21.jpg done\n",
      "22.jpg done\n",
      "23.jpg done\n",
      "24.jpg done\n",
      "25.jpg done\n",
      "26.jpg done\n",
      "27.jpg done\n",
      "28.jpg done\n",
      "29.jpg done\n",
      "30.jpg done\n",
      "31.jpg done\n",
      "32.jpg done\n",
      "33.jpg done\n",
      "34.jpg done\n",
      "35.jpg done\n",
      "36.jpg done\n",
      "37.jpg done\n",
      "38.jpg done\n",
      "39.jpg done\n",
      "40.jpg done\n",
      "41.jpg done\n",
      "42.jpg done\n",
      "43.jpg done\n",
      "44.jpg done\n",
      "45.jpg done\n"
     ]
    },
    {
     "name": "stderr",
     "output_type": "stream",
     "text": [
      " 35%|███▍      | 146/421 [04:41<07:38,  1.67s/it]"
     ]
    },
    {
     "name": "stdout",
     "output_type": "stream",
     "text": [
      "46.jpg done\n",
      "47.jpg done\n",
      "0.jpg done\n",
      "1.jpg done\n",
      "2.jpg done\n",
      "3.jpg done\n",
      "4.jpg done\n",
      "5.jpg done\n",
      "6.jpg done\n",
      "7.jpg done\n",
      "8.jpg done\n",
      "9.jpg done\n",
      "10.jpg done\n",
      "11.jpg done\n",
      "12.jpg done\n",
      "13.jpg done\n",
      "14.jpg done\n",
      "15.jpg done\n",
      "16.jpg done\n",
      "17.jpg done\n",
      "18.jpg done\n",
      "19.jpg done\n",
      "20.jpg done\n",
      "21.jpg done\n",
      "22.jpg done\n",
      "23.jpg done\n",
      "24.jpg done\n",
      "25.jpg done\n",
      "26.jpg done\n",
      "27.jpg done\n",
      "28.jpg done\n",
      "29.jpg done\n",
      "30.jpg done\n",
      "31.jpg done\n",
      "32.jpg done\n",
      "33.jpg done\n",
      "34.jpg done\n",
      "35.jpg done\n",
      "36.jpg done\n",
      "37.jpg done\n",
      "38.jpg done\n",
      "39.jpg done\n",
      "40.jpg done\n",
      "41.jpg done\n",
      "42.jpg done\n",
      "43.jpg done\n",
      "44.jpg done\n",
      "45.jpg done\n",
      "46.jpg done\n",
      "47.jpg done\n",
      "48.jpg done\n",
      "49.jpg done\n",
      "50.jpg done\n",
      "51.jpg done\n",
      "52.jpg done\n",
      "53.jpg done\n",
      "54.jpg done\n",
      "55.jpg done\n",
      "56.jpg done\n",
      "57.jpg done\n",
      "58.jpg done\n",
      "59.jpg done\n",
      "60.jpg done\n",
      "61.jpg done\n",
      "62.jpg done\n",
      "63.jpg done\n",
      "64.jpg done\n",
      "65.jpg done\n",
      "66.jpg done\n",
      "67.jpg done\n",
      "68.jpg done\n",
      "69.jpg done\n",
      "70.jpg done\n",
      "71.jpg done\n",
      "72.jpg done\n",
      "73.jpg done\n",
      "74.jpg done\n",
      "75.jpg done\n",
      "76.jpg done\n",
      "77.jpg done\n",
      "78.jpg done\n",
      "79.jpg done\n",
      "80.jpg done\n",
      "81.jpg done\n",
      "82.jpg done\n",
      "83.jpg done\n",
      "84.jpg done\n",
      "85.jpg done\n",
      "86.jpg done\n",
      "87.jpg done\n",
      "88.jpg done\n",
      "89.jpg done\n",
      "90.jpg done\n",
      "91.jpg done\n",
      "92.jpg done\n",
      "93.jpg done\n",
      "94.jpg done\n",
      "95.jpg done\n",
      "96.jpg done\n",
      "97.jpg done\n",
      "98.jpg done\n",
      "99.jpg done\n",
      "100.jpg done\n",
      "101.jpg done\n",
      "102.jpg done\n",
      "103.jpg done\n",
      "104.jpg done\n",
      "105.jpg done\n",
      "106.jpg done\n",
      "107.jpg done\n",
      "108.jpg done\n"
     ]
    },
    {
     "name": "stderr",
     "output_type": "stream",
     "text": [
      " 35%|███▍      | 147/421 [04:46<12:06,  2.65s/it]"
     ]
    },
    {
     "name": "stdout",
     "output_type": "stream",
     "text": [
      "109.jpg done\n",
      "110.jpg done\n",
      "111.jpg done\n",
      "112.jpg done\n",
      "113.jpg done\n",
      "0.jpg done\n",
      "1.jpg done\n",
      "2.jpg done\n",
      "3.jpg done\n",
      "4.jpg done\n",
      "5.jpg done\n",
      "6.jpg done\n",
      "7.jpg done\n",
      "8.jpg done\n",
      "9.jpg done\n",
      "10.jpg done\n",
      "11.jpg done\n",
      "12.jpg done\n",
      "13.jpg done\n",
      "14.jpg done\n",
      "15.jpg done\n",
      "16.jpg done\n",
      "17.jpg done\n",
      "18.jpg done\n",
      "19.jpg done\n"
     ]
    },
    {
     "name": "stderr",
     "output_type": "stream",
     "text": [
      " 35%|███▌      | 148/421 [04:48<10:13,  2.25s/it]"
     ]
    },
    {
     "name": "stdout",
     "output_type": "stream",
     "text": [
      "20.jpg done\n",
      "21.jpg done\n",
      "22.jpg done\n",
      "23.jpg done\n",
      "24.jpg done\n"
     ]
    },
    {
     "name": "stderr",
     "output_type": "stream",
     "text": [
      " 35%|███▌      | 149/421 [04:48<07:32,  1.66s/it]"
     ]
    },
    {
     "name": "stdout",
     "output_type": "stream",
     "text": [
      "0.jpg done\n",
      "1.jpg done\n",
      "2.jpg done\n",
      "3.jpg done\n",
      "0.jpg done\n",
      "1.jpg done\n",
      "2.jpg done\n",
      "3.jpg done\n",
      "4.jpg done\n",
      "5.jpg done\n",
      "6.jpg done\n",
      "7.jpg done\n",
      "8.jpg done\n",
      "9.jpg done\n"
     ]
    },
    {
     "name": "stderr",
     "output_type": "stream",
     "text": [
      " 36%|███▌      | 150/421 [04:48<06:06,  1.35s/it]"
     ]
    },
    {
     "name": "stdout",
     "output_type": "stream",
     "text": [
      "10.jpg done\n",
      "0.jpg done\n",
      "1.jpg done\n",
      "2.jpg done\n",
      "3.jpg done\n",
      "4.jpg done\n",
      "5.jpg done\n",
      "6.jpg done\n",
      "7.jpg done\n",
      "8.jpg done\n",
      "9.jpg done\n",
      "10.jpg done\n",
      "11.jpg done\n"
     ]
    },
    {
     "name": "stderr",
     "output_type": "stream",
     "text": [
      " 36%|███▌      | 151/421 [04:49<05:12,  1.16s/it]"
     ]
    },
    {
     "name": "stdout",
     "output_type": "stream",
     "text": [
      "12.jpg done\n",
      "0.jpg done\n",
      "1.jpg done\n",
      "2.jpg done\n",
      "3.jpg done\n",
      "4.jpg done\n",
      "5.jpg done\n",
      "6.jpg done\n",
      "7.jpg done\n",
      "8.jpg done\n",
      "9.jpg done\n",
      "10.jpg done\n",
      "11.jpg done\n",
      "12.jpg done\n",
      "13.jpg done\n",
      "14.jpg done\n",
      "15.jpg done\n",
      "16.jpg done\n",
      "17.jpg done\n",
      "18.jpg done\n",
      "19.jpg done\n",
      "20.jpg done\n",
      "21.jpg done\n",
      "22.jpg done\n",
      "23.jpg done\n",
      "24.jpg done\n",
      "25.jpg done\n",
      "26.jpg done\n",
      "27.jpg done\n",
      "28.jpg done\n",
      "29.jpg done\n",
      "30.jpg done\n",
      "31.jpg done\n",
      "32.jpg done\n",
      "33.jpg done\n",
      "34.jpg done\n",
      "35.jpg done\n",
      "36.jpg done\n",
      "37.jpg done\n",
      "38.jpg done\n",
      "39.jpg done\n",
      "40.jpg done\n",
      "41.jpg done\n",
      "42.jpg done\n",
      "43.jpg done\n",
      "44.jpg done\n",
      "45.jpg done\n",
      "46.jpg done\n",
      "47.jpg done\n",
      "48.jpg done\n",
      "49.jpg done\n",
      "50.jpg done\n",
      "51.jpg done\n",
      "52.jpg done\n",
      "53.jpg done\n",
      "54.jpg done\n",
      "55.jpg done\n",
      "56.jpg done\n",
      "57.jpg done\n",
      "58.jpg done\n",
      "59.jpg done\n",
      "60.jpg done\n",
      "61.jpg done\n",
      "62.jpg done\n",
      "63.jpg done\n",
      "64.jpg done\n",
      "65.jpg done\n",
      "66.jpg done\n",
      "67.jpg done\n",
      "68.jpg done\n",
      "69.jpg done\n",
      "70.jpg done\n",
      "71.jpg done\n",
      "72.jpg done\n",
      "73.jpg done\n",
      "74.jpg done\n",
      "75.jpg done\n"
     ]
    },
    {
     "name": "stderr",
     "output_type": "stream",
     "text": [
      " 36%|███▌      | 152/421 [04:53<08:42,  1.94s/it]"
     ]
    },
    {
     "name": "stdout",
     "output_type": "stream",
     "text": [
      "76.jpg done\n",
      "77.jpg done\n",
      "78.jpg done\n",
      "79.jpg done\n",
      "80.jpg done\n",
      "0.jpg done\n",
      "1.jpg done\n",
      "2.jpg done\n",
      "3.jpg done\n",
      "4.jpg done\n",
      "5.jpg done\n",
      "6.jpg done\n",
      "7.jpg done\n",
      "8.jpg done\n",
      "9.jpg done\n",
      "10.jpg done\n",
      "11.jpg done\n",
      "12.jpg done\n",
      "13.jpg done\n",
      "14.jpg done\n",
      "15.jpg done\n",
      "16.jpg done\n",
      "17.jpg done\n",
      "18.jpg done\n",
      "19.jpg done\n"
     ]
    },
    {
     "name": "stderr",
     "output_type": "stream",
     "text": [
      " 36%|███▋      | 153/421 [04:54<07:38,  1.71s/it]"
     ]
    },
    {
     "name": "stdout",
     "output_type": "stream",
     "text": [
      "20.jpg done\n",
      "21.jpg done\n",
      "0.jpg done\n",
      "1.jpg done\n",
      "2.jpg done\n",
      "3.jpg done\n",
      "4.jpg done\n",
      "5.jpg done\n",
      "6.jpg done\n",
      "7.jpg done\n",
      "8.jpg done\n",
      "9.jpg done\n",
      "10.jpg done\n"
     ]
    },
    {
     "name": "stderr",
     "output_type": "stream",
     "text": [
      " 37%|███▋      | 154/421 [04:55<06:08,  1.38s/it]"
     ]
    },
    {
     "name": "stdout",
     "output_type": "stream",
     "text": [
      "0.jpg done\n",
      "1.jpg done\n",
      "2.jpg done\n",
      "3.jpg done\n",
      "4.jpg done\n",
      "5.jpg done\n",
      "6.jpg done\n",
      "7.jpg done\n",
      "8.jpg done\n",
      "9.jpg done\n",
      "10.jpg done\n",
      "11.jpg done\n",
      "12.jpg done\n",
      "13.jpg done\n",
      "14.jpg done\n",
      "15.jpg done\n",
      "16.jpg done\n",
      "17.jpg done\n",
      "18.jpg done\n",
      "19.jpg done\n",
      "20.jpg done\n",
      "21.jpg done\n",
      "22.jpg done\n",
      "23.jpg done\n",
      "24.jpg done\n",
      "25.jpg done\n",
      "26.jpg done\n",
      "27.jpg done\n",
      "28.jpg done\n",
      "29.jpg done\n",
      "30.jpg done\n",
      "31.jpg done\n",
      "32.jpg done\n",
      "33.jpg done\n",
      "34.jpg done\n",
      "35.jpg done\n",
      "36.jpg done\n",
      "37.jpg done\n",
      "38.jpg done\n",
      "39.jpg done\n",
      "40.jpg done\n",
      "41.jpg done\n",
      "42.jpg done\n",
      "43.jpg done\n",
      "44.jpg done\n",
      "45.jpg done\n",
      "46.jpg done\n",
      "47.jpg done\n",
      "48.jpg done\n",
      "49.jpg done\n",
      "50.jpg done\n",
      "51.jpg done\n",
      "52.jpg done\n",
      "53.jpg done\n",
      "54.jpg done\n",
      "55.jpg done\n",
      "56.jpg done\n",
      "57.jpg done\n",
      "58.jpg done\n",
      "59.jpg done\n",
      "60.jpg done\n",
      "61.jpg done\n",
      "62.jpg done\n",
      "63.jpg done\n",
      "64.jpg done\n",
      "65.jpg done\n",
      "66.jpg done\n",
      "67.jpg done\n",
      "68.jpg done\n",
      "69.jpg done\n",
      "70.jpg done\n",
      "71.jpg done\n",
      "72.jpg done\n",
      "73.jpg done\n",
      "74.jpg done\n",
      "75.jpg done\n",
      "76.jpg done\n",
      "77.jpg done\n",
      "78.jpg done\n",
      "79.jpg done\n",
      "80.jpg done\n",
      "81.jpg done\n",
      "82.jpg done\n",
      "83.jpg done\n",
      "84.jpg done\n",
      "85.jpg done\n",
      "86.jpg done\n",
      "87.jpg done\n",
      "88.jpg done\n",
      "89.jpg done\n",
      "90.jpg done\n",
      "91.jpg done\n",
      "92.jpg done\n",
      "93.jpg done\n",
      "94.jpg done\n",
      "95.jpg done\n",
      "96.jpg done\n",
      "97.jpg done\n",
      "98.jpg done\n",
      "99.jpg done\n",
      "100.jpg done\n",
      "101.jpg done\n",
      "102.jpg done\n",
      "103.jpg done\n",
      "104.jpg done\n"
     ]
    },
    {
     "name": "stderr",
     "output_type": "stream",
     "text": [
      " 37%|███▋      | 155/421 [05:00<10:48,  2.44s/it]"
     ]
    },
    {
     "name": "stdout",
     "output_type": "stream",
     "text": [
      "0.jpg done\n",
      "1.jpg done\n",
      "2.jpg done\n",
      "3.jpg done\n",
      "4.jpg done\n",
      "5.jpg done\n",
      "6.jpg done\n",
      "7.jpg done\n",
      "8.jpg done\n",
      "9.jpg done\n",
      "10.jpg done\n",
      "11.jpg done\n",
      "12.jpg done\n",
      "13.jpg done\n",
      "14.jpg done\n",
      "15.jpg done\n",
      "16.jpg done\n",
      "17.jpg done\n",
      "18.jpg done\n",
      "19.jpg done\n",
      "20.jpg done\n",
      "21.jpg done\n",
      "22.jpg done\n",
      "23.jpg done\n",
      "24.jpg done\n",
      "25.jpg done\n",
      "26.jpg done\n",
      "27.jpg done\n",
      "28.jpg done\n",
      "29.jpg done\n",
      "30.jpg done\n",
      "31.jpg done\n",
      "32.jpg done\n",
      "33.jpg done\n",
      "34.jpg done\n",
      "35.jpg done\n",
      "36.jpg done\n",
      "37.jpg done\n",
      "38.jpg done\n",
      "39.jpg done\n",
      "40.jpg done\n",
      "41.jpg done\n",
      "42.jpg done\n",
      "43.jpg done\n",
      "44.jpg done\n",
      "45.jpg done\n",
      "46.jpg done\n",
      "47.jpg done\n",
      "48.jpg done\n",
      "49.jpg done\n",
      "50.jpg done\n",
      "51.jpg done\n",
      "52.jpg done\n",
      "53.jpg done\n"
     ]
    },
    {
     "name": "stderr",
     "output_type": "stream",
     "text": [
      " 37%|███▋      | 156/421 [05:02<11:19,  2.56s/it]"
     ]
    },
    {
     "name": "stdout",
     "output_type": "stream",
     "text": [
      "0.jpg done\n",
      "1.jpg done\n",
      "2.jpg done\n",
      "3.jpg done\n",
      "4.jpg done\n",
      "5.jpg done\n",
      "6.jpg done\n",
      "7.jpg done\n",
      "8.jpg done\n",
      "9.jpg done\n"
     ]
    },
    {
     "name": "stderr",
     "output_type": "stream",
     "text": [
      " 37%|███▋      | 157/421 [05:03<08:54,  2.03s/it]"
     ]
    },
    {
     "name": "stdout",
     "output_type": "stream",
     "text": [
      "10.jpg done\n",
      "11.jpg done\n",
      "12.jpg done\n",
      "13.jpg done\n",
      "14.jpg done\n",
      "0.jpg done\n",
      "1.jpg done\n",
      "2.jpg done\n",
      "3.jpg done\n",
      "4.jpg done\n",
      "5.jpg done\n",
      "6.jpg done\n",
      "7.jpg done\n",
      "8.jpg done\n",
      "9.jpg done\n",
      "10.jpg done\n",
      "11.jpg done\n",
      "12.jpg done\n",
      "13.jpg done\n",
      "14.jpg done\n",
      "15.jpg done\n",
      "16.jpg done\n",
      "17.jpg done\n",
      "18.jpg done\n",
      "19.jpg done\n",
      "20.jpg done\n",
      "21.jpg done\n",
      "22.jpg done\n",
      "23.jpg done\n",
      "24.jpg done\n"
     ]
    },
    {
     "name": "stderr",
     "output_type": "stream",
     "text": [
      " 38%|███▊      | 158/421 [05:05<07:56,  1.81s/it]"
     ]
    },
    {
     "name": "stdout",
     "output_type": "stream",
     "text": [
      "25.jpg done\n",
      "26.jpg done\n",
      "27.jpg done\n",
      "0.jpg done\n",
      "1.jpg done\n",
      "2.jpg done\n",
      "3.jpg done\n",
      "4.jpg done\n",
      "5.jpg done\n",
      "6.jpg done\n",
      "7.jpg done\n",
      "8.jpg done\n",
      "9.jpg done\n",
      "10.jpg done\n",
      "11.jpg done\n",
      "12.jpg done\n",
      "13.jpg done\n",
      "14.jpg done\n",
      "15.jpg done\n",
      "16.jpg done\n",
      "17.jpg done\n",
      "18.jpg done\n",
      "19.jpg done\n",
      "20.jpg done\n",
      "21.jpg done\n",
      "22.jpg done\n",
      "23.jpg done\n",
      "24.jpg done\n",
      "25.jpg done\n",
      "26.jpg done\n",
      "27.jpg done\n",
      "28.jpg done\n",
      "29.jpg done\n",
      "30.jpg done\n",
      "31.jpg done\n",
      "32.jpg done\n",
      "33.jpg done\n",
      "34.jpg done\n",
      "35.jpg done\n",
      "36.jpg done\n",
      "37.jpg done\n",
      "38.jpg done\n",
      "39.jpg done\n",
      "40.jpg done\n",
      "41.jpg done\n",
      "42.jpg done\n",
      "43.jpg done\n",
      "44.jpg done\n",
      "45.jpg done\n",
      "46.jpg done\n",
      "47.jpg done\n",
      "48.jpg done\n",
      "49.jpg done\n",
      "50.jpg done\n",
      "51.jpg done\n",
      "52.jpg done\n",
      "53.jpg done\n",
      "54.jpg done\n",
      "55.jpg done\n",
      "56.jpg done\n",
      "57.jpg done\n",
      "58.jpg done\n",
      "59.jpg done\n",
      "60.jpg done\n",
      "61.jpg done\n",
      "62.jpg done\n",
      "63.jpg done\n",
      "64.jpg done\n",
      "65.jpg done\n",
      "66.jpg done\n",
      "67.jpg done\n",
      "68.jpg done\n",
      "69.jpg done\n",
      "70.jpg done\n",
      "71.jpg done\n",
      "72.jpg done\n",
      "73.jpg done\n",
      "74.jpg done\n",
      "75.jpg done\n",
      "76.jpg done\n",
      "77.jpg done\n",
      "78.jpg done\n",
      "79.jpg done\n",
      "80.jpg done\n",
      "81.jpg done\n",
      "82.jpg done\n",
      "83.jpg done\n",
      "84.jpg done\n",
      "85.jpg done\n",
      "86.jpg done\n",
      "87.jpg done\n",
      "88.jpg done\n",
      "89.jpg done\n",
      "90.jpg done\n",
      "91.jpg done\n",
      "92.jpg done\n",
      "93.jpg done\n",
      "94.jpg done\n",
      "95.jpg done\n",
      "96.jpg done\n",
      "97.jpg done\n",
      "98.jpg done\n",
      "99.jpg done\n",
      "100.jpg done\n",
      "101.jpg done\n",
      "102.jpg done\n",
      "103.jpg done\n"
     ]
    },
    {
     "name": "stderr",
     "output_type": "stream",
     "text": [
      " 38%|███▊      | 159/421 [05:10<12:05,  2.77s/it]"
     ]
    },
    {
     "name": "stdout",
     "output_type": "stream",
     "text": [
      "104.jpg done\n",
      "105.jpg done\n",
      "106.jpg done\n",
      "107.jpg done\n",
      "0.jpg done\n",
      "1.jpg done\n",
      "2.jpg done\n",
      "3.jpg done\n",
      "4.jpg done\n",
      "5.jpg done\n",
      "6.jpg done\n",
      "7.jpg done\n",
      "8.jpg done\n",
      "9.jpg done\n",
      "10.jpg done\n",
      "11.jpg done\n",
      "12.jpg done\n",
      "13.jpg done\n",
      "14.jpg done\n",
      "15.jpg done\n",
      "16.jpg done\n",
      "17.jpg done\n",
      "18.jpg done\n",
      "19.jpg done\n",
      "20.jpg done\n",
      "21.jpg done\n",
      "22.jpg done\n",
      "23.jpg done\n",
      "24.jpg done\n",
      "25.jpg done\n",
      "26.jpg done\n",
      "27.jpg done\n",
      "28.jpg done\n",
      "29.jpg done\n",
      "30.jpg done\n",
      "31.jpg done\n",
      "32.jpg done\n",
      "33.jpg done\n",
      "34.jpg done\n",
      "35.jpg done\n",
      "36.jpg done\n",
      "37.jpg done\n",
      "38.jpg done\n",
      "39.jpg done\n",
      "40.jpg done\n",
      "41.jpg done\n",
      "42.jpg done\n",
      "43.jpg done\n",
      "44.jpg done\n",
      "45.jpg done\n",
      "46.jpg done\n",
      "47.jpg done\n",
      "48.jpg done\n",
      "49.jpg done\n",
      "50.jpg done\n",
      "51.jpg done\n",
      "52.jpg done\n",
      "53.jpg done\n",
      "54.jpg done\n",
      "55.jpg done\n",
      "56.jpg done\n",
      "57.jpg done\n",
      "58.jpg done\n",
      "59.jpg done\n",
      "60.jpg done\n",
      "61.jpg done\n",
      "62.jpg done\n",
      "63.jpg done\n",
      "64.jpg done\n"
     ]
    },
    {
     "name": "stderr",
     "output_type": "stream",
     "text": [
      " 38%|███▊      | 160/421 [05:13<12:37,  2.90s/it]"
     ]
    },
    {
     "name": "stdout",
     "output_type": "stream",
     "text": [
      "65.jpg done\n",
      "66.jpg done\n",
      "67.jpg done\n",
      "68.jpg done\n",
      "0.jpg done\n",
      "1.jpg done\n",
      "2.jpg done\n",
      "3.jpg done\n",
      "4.jpg done\n",
      "5.jpg done\n",
      "6.jpg done\n",
      "7.jpg done\n",
      "8.jpg done\n",
      "9.jpg done\n",
      "10.jpg done\n",
      "11.jpg done\n",
      "12.jpg done\n",
      "13.jpg done\n",
      "14.jpg done\n",
      "15.jpg done\n",
      "16.jpg done\n",
      "17.jpg done\n",
      "18.jpg done\n",
      "19.jpg done\n",
      "20.jpg done\n",
      "21.jpg done\n",
      "22.jpg done\n",
      "23.jpg done\n",
      "24.jpg done\n"
     ]
    },
    {
     "name": "stderr",
     "output_type": "stream",
     "text": [
      " 38%|███▊      | 161/421 [05:14<10:21,  2.39s/it]"
     ]
    },
    {
     "name": "stdout",
     "output_type": "stream",
     "text": [
      "0.jpg done\n",
      "1.jpg done\n",
      "2.jpg done\n",
      "3.jpg done\n",
      "4.jpg done\n",
      "5.jpg done\n",
      "6.jpg done\n",
      "7.jpg done\n",
      "8.jpg done\n",
      "9.jpg done\n",
      "10.jpg done\n",
      "11.jpg done\n",
      "12.jpg done\n",
      "13.jpg done\n",
      "14.jpg done\n",
      "15.jpg done\n",
      "16.jpg done\n",
      "17.jpg done\n",
      "18.jpg done\n",
      "19.jpg done\n",
      "20.jpg done\n",
      "21.jpg done\n",
      "22.jpg done\n",
      "23.jpg done\n",
      "24.jpg done\n",
      "25.jpg done\n",
      "26.jpg done\n",
      "27.jpg done\n",
      "28.jpg done\n",
      "29.jpg done\n",
      "30.jpg done\n",
      "31.jpg done\n",
      "32.jpg done\n",
      "33.jpg done\n",
      "34.jpg done\n",
      "35.jpg done\n",
      "36.jpg done\n",
      "37.jpg done\n",
      "38.jpg done\n",
      "39.jpg done\n",
      "40.jpg done\n",
      "41.jpg done\n",
      "42.jpg done\n",
      "43.jpg done\n",
      "44.jpg done\n",
      "45.jpg done\n",
      "46.jpg done\n",
      "47.jpg done\n",
      "48.jpg done\n",
      "49.jpg done\n",
      "50.jpg done\n",
      "51.jpg done\n",
      "52.jpg done\n",
      "53.jpg done\n",
      "54.jpg done\n",
      "55.jpg done\n",
      "56.jpg done\n",
      "57.jpg done\n",
      "58.jpg done\n",
      "59.jpg done\n",
      "60.jpg done\n",
      "61.jpg done\n",
      "62.jpg done\n",
      "63.jpg done\n",
      "64.jpg done\n",
      "65.jpg done\n",
      "66.jpg done\n",
      "67.jpg done\n",
      "68.jpg done\n",
      "69.jpg done\n",
      "70.jpg done\n",
      "71.jpg done\n",
      "72.jpg done\n",
      "73.jpg done\n",
      "74.jpg done\n",
      "75.jpg done\n",
      "76.jpg done\n",
      "77.jpg done\n",
      "78.jpg done\n",
      "79.jpg done\n",
      "80.jpg done\n",
      "81.jpg done\n",
      "82.jpg done\n",
      "83.jpg done\n",
      "84.jpg done\n",
      "85.jpg done\n",
      "86.jpg done\n",
      "87.jpg done\n",
      "88.jpg done\n",
      "89.jpg done\n",
      "90.jpg done\n",
      "91.jpg done\n",
      "92.jpg done\n",
      "93.jpg done\n",
      "94.jpg done\n",
      "95.jpg done\n",
      "96.jpg done\n",
      "97.jpg done\n",
      "98.jpg done\n",
      "99.jpg done\n",
      "100.jpg done\n",
      "101.jpg done\n",
      "102.jpg done\n",
      "103.jpg done\n",
      "104.jpg done\n",
      "105.jpg done\n",
      "106.jpg done\n",
      "107.jpg done\n",
      "108.jpg done\n",
      "109.jpg done\n",
      "110.jpg done\n",
      "111.jpg done\n",
      "112.jpg done\n",
      "113.jpg done\n",
      "114.jpg done\n",
      "115.jpg done\n",
      "116.jpg done\n",
      "117.jpg done\n"
     ]
    },
    {
     "name": "stderr",
     "output_type": "stream",
     "text": [
      " 38%|███▊      | 162/421 [05:20<14:29,  3.36s/it]"
     ]
    },
    {
     "name": "stdout",
     "output_type": "stream",
     "text": [
      "118.jpg done\n",
      "119.jpg done\n",
      "0.jpg done\n",
      "1.jpg done\n",
      "2.jpg done\n",
      "3.jpg done\n",
      "4.jpg done\n",
      "5.jpg done\n",
      "6.jpg done\n",
      "7.jpg done\n",
      "8.jpg done\n",
      "9.jpg done\n",
      "10.jpg done\n",
      "11.jpg done\n",
      "12.jpg done\n",
      "13.jpg done\n",
      "14.jpg done\n",
      "15.jpg done\n",
      "16.jpg done\n",
      "17.jpg done\n",
      "18.jpg done\n",
      "19.jpg done\n",
      "20.jpg done\n",
      "21.jpg done\n",
      "22.jpg done\n",
      "23.jpg done\n",
      "24.jpg done\n",
      "25.jpg done\n",
      "26.jpg done\n",
      "27.jpg done\n",
      "28.jpg done\n",
      "29.jpg done\n",
      "30.jpg done\n",
      "31.jpg done\n",
      "32.jpg done\n",
      "33.jpg done\n",
      "34.jpg done\n",
      "35.jpg done\n",
      "36.jpg done\n",
      "37.jpg done\n",
      "38.jpg done\n",
      "39.jpg done\n",
      "40.jpg done\n",
      "41.jpg done\n",
      "42.jpg done\n",
      "43.jpg done\n",
      "44.jpg done\n",
      "45.jpg done\n",
      "46.jpg done\n",
      "47.jpg done\n",
      "48.jpg done\n",
      "49.jpg done\n",
      "50.jpg done\n",
      "51.jpg done\n",
      "52.jpg done\n",
      "53.jpg done\n",
      "54.jpg done\n",
      "55.jpg done\n",
      "56.jpg done\n",
      "57.jpg done\n",
      "58.jpg done\n",
      "59.jpg done\n",
      "60.jpg done\n",
      "61.jpg done\n",
      "62.jpg done\n",
      "63.jpg done\n",
      "64.jpg done\n",
      "65.jpg done\n",
      "66.jpg done\n",
      "67.jpg done\n",
      "68.jpg done\n",
      "69.jpg done\n",
      "70.jpg done\n",
      "71.jpg done\n",
      "72.jpg done\n",
      "73.jpg done\n",
      "74.jpg done\n",
      "75.jpg done\n",
      "76.jpg done\n",
      "77.jpg done\n",
      "78.jpg done\n",
      "79.jpg done\n",
      "80.jpg done\n",
      "81.jpg done\n",
      "82.jpg done\n",
      "83.jpg done\n",
      "84.jpg done\n",
      "85.jpg done\n",
      "86.jpg done\n",
      "87.jpg done\n",
      "88.jpg done\n",
      "89.jpg done\n",
      "90.jpg done\n",
      "91.jpg done\n",
      "92.jpg done\n",
      "93.jpg done\n",
      "94.jpg done\n",
      "95.jpg done\n",
      "96.jpg done\n",
      "97.jpg done\n",
      "98.jpg done\n",
      "99.jpg done\n",
      "100.jpg done\n",
      "101.jpg done\n",
      "102.jpg done\n",
      "103.jpg done\n",
      "104.jpg done\n",
      "105.jpg done\n",
      "106.jpg done\n",
      "107.jpg done\n",
      "108.jpg done\n",
      "109.jpg done\n",
      "110.jpg done\n",
      "111.jpg done\n",
      "112.jpg done\n",
      "113.jpg done\n",
      "114.jpg done\n",
      "115.jpg done\n",
      "116.jpg done\n",
      "117.jpg done\n",
      "118.jpg done\n",
      "119.jpg done\n",
      "120.jpg done\n"
     ]
    },
    {
     "name": "stderr",
     "output_type": "stream",
     "text": [
      " 39%|███▊      | 163/421 [05:25<17:19,  4.03s/it]"
     ]
    },
    {
     "name": "stdout",
     "output_type": "stream",
     "text": [
      "121.jpg done\n",
      "122.jpg done\n",
      "0.jpg done\n",
      "1.jpg done\n",
      "2.jpg done\n",
      "3.jpg done\n",
      "4.jpg done\n",
      "5.jpg done\n",
      "6.jpg done\n",
      "7.jpg done\n",
      "8.jpg done\n",
      "9.jpg done\n",
      "10.jpg done\n",
      "11.jpg done\n",
      "12.jpg done\n",
      "13.jpg done\n",
      "14.jpg done\n",
      "15.jpg done\n",
      "16.jpg done\n",
      "17.jpg done\n",
      "18.jpg done\n",
      "19.jpg done\n",
      "20.jpg done\n",
      "21.jpg done\n",
      "22.jpg done\n",
      "23.jpg done\n",
      "24.jpg done\n",
      "25.jpg done\n",
      "26.jpg done\n",
      "27.jpg done\n",
      "28.jpg done\n",
      "29.jpg done\n",
      "30.jpg done\n",
      "31.jpg done\n",
      "32.jpg done\n",
      "33.jpg done\n",
      "34.jpg done\n",
      "35.jpg done\n",
      "36.jpg done\n",
      "37.jpg done\n",
      "38.jpg done\n",
      "39.jpg done\n",
      "40.jpg done\n",
      "41.jpg done\n",
      "42.jpg done\n",
      "43.jpg done\n",
      "44.jpg done\n",
      "45.jpg done\n",
      "46.jpg done\n",
      "47.jpg done\n",
      "48.jpg done\n",
      "49.jpg done\n",
      "50.jpg done\n",
      "51.jpg done\n",
      "52.jpg done\n",
      "53.jpg done\n",
      "54.jpg done\n",
      "55.jpg done\n",
      "56.jpg done\n",
      "57.jpg done\n",
      "58.jpg done\n",
      "59.jpg done\n",
      "60.jpg done\n",
      "61.jpg done\n",
      "62.jpg done\n",
      "63.jpg done\n",
      "64.jpg done\n",
      "65.jpg done\n",
      "66.jpg done\n",
      "67.jpg done\n",
      "68.jpg done\n",
      "69.jpg done\n",
      "70.jpg done\n",
      "71.jpg done\n",
      "72.jpg done\n",
      "73.jpg done\n",
      "74.jpg done\n",
      "75.jpg done\n",
      "76.jpg done\n",
      "77.jpg done\n",
      "78.jpg done\n",
      "79.jpg done\n",
      "80.jpg done\n",
      "81.jpg done\n",
      "82.jpg done\n",
      "83.jpg done\n",
      "84.jpg done\n",
      "85.jpg done\n",
      "86.jpg done\n",
      "87.jpg done\n",
      "88.jpg done\n",
      "89.jpg done\n",
      "90.jpg done\n",
      "91.jpg done\n",
      "92.jpg done\n",
      "93.jpg done\n",
      "94.jpg done\n",
      "95.jpg done\n",
      "96.jpg done\n",
      "97.jpg done\n",
      "98.jpg done\n",
      "99.jpg done\n",
      "100.jpg done\n",
      "101.jpg done\n",
      "102.jpg done\n",
      "103.jpg done\n",
      "104.jpg done\n",
      "105.jpg done\n",
      "106.jpg done\n",
      "107.jpg done\n",
      "108.jpg done\n",
      "109.jpg done\n",
      "110.jpg done\n",
      "111.jpg done\n",
      "112.jpg done\n",
      "113.jpg done\n",
      "114.jpg done\n",
      "115.jpg done\n",
      "116.jpg done\n",
      "117.jpg done\n",
      "118.jpg done\n",
      "119.jpg done\n",
      "120.jpg done\n",
      "121.jpg done\n",
      "122.jpg done\n",
      "123.jpg done\n",
      "124.jpg done\n",
      "125.jpg done\n",
      "126.jpg done\n",
      "127.jpg done\n",
      "128.jpg done\n",
      "129.jpg done\n",
      "130.jpg done\n",
      "131.jpg done\n",
      "132.jpg done\n",
      "133.jpg done\n",
      "134.jpg done\n",
      "135.jpg done\n",
      "136.jpg done\n",
      "137.jpg done\n",
      "138.jpg done\n",
      "139.jpg done\n",
      "140.jpg done\n",
      "141.jpg done\n",
      "142.jpg done\n",
      "143.jpg done\n",
      "144.jpg done\n",
      "145.jpg done\n",
      "146.jpg done\n",
      "147.jpg done\n",
      "148.jpg done\n",
      "149.jpg done\n",
      "150.jpg done\n",
      "151.jpg done\n",
      "152.jpg done\n",
      "153.jpg done\n",
      "154.jpg done\n",
      "155.jpg done\n",
      "156.jpg done\n",
      "157.jpg done\n",
      "158.jpg done\n",
      "159.jpg done\n",
      "160.jpg done\n",
      "161.jpg done\n",
      "162.jpg done\n",
      "163.jpg done\n",
      "164.jpg done\n",
      "165.jpg done\n",
      "166.jpg done\n",
      "167.jpg done\n",
      "168.jpg done\n",
      "169.jpg done\n",
      "170.jpg done\n",
      "171.jpg done\n",
      "172.jpg done\n",
      "173.jpg done\n",
      "174.jpg done\n",
      "175.jpg done\n",
      "176.jpg done\n",
      "177.jpg done\n",
      "178.jpg done\n",
      "179.jpg done\n",
      "180.jpg done\n",
      "181.jpg done\n",
      "182.jpg done\n",
      "183.jpg done\n",
      "184.jpg done\n",
      "185.jpg done\n",
      "186.jpg done\n",
      "187.jpg done\n",
      "188.jpg done\n",
      "189.jpg done\n",
      "190.jpg done\n",
      "191.jpg done\n",
      "192.jpg done\n",
      "193.jpg done\n",
      "194.jpg done\n",
      "195.jpg done\n",
      "196.jpg done\n",
      "197.jpg done\n",
      "198.jpg done\n",
      "199.jpg done\n",
      "200.jpg done\n",
      "201.jpg done\n",
      "202.jpg done\n",
      "203.jpg done\n",
      "204.jpg done\n",
      "205.jpg done\n",
      "206.jpg done\n",
      "207.jpg done\n",
      "208.jpg done\n",
      "209.jpg done\n",
      "210.jpg done\n",
      "211.jpg done\n",
      "212.jpg done\n",
      "213.jpg done\n",
      "214.jpg done\n",
      "215.jpg done\n",
      "216.jpg done\n",
      "217.jpg done\n",
      "218.jpg done\n",
      "219.jpg done\n",
      "220.jpg done\n",
      "221.jpg done\n",
      "222.jpg done\n",
      "223.jpg done\n",
      "224.jpg done\n",
      "225.jpg done\n",
      "226.jpg done\n",
      "227.jpg done\n",
      "228.jpg done\n",
      "229.jpg done\n",
      "230.jpg done\n",
      "231.jpg done\n",
      "232.jpg done\n",
      "233.jpg done\n",
      "234.jpg done\n",
      "235.jpg done\n",
      "236.jpg done\n",
      "237.jpg done\n",
      "238.jpg done\n",
      "239.jpg done\n",
      "240.jpg done\n",
      "241.jpg done\n",
      "242.jpg done\n",
      "243.jpg done\n",
      "244.jpg done\n",
      "245.jpg done\n",
      "246.jpg done\n",
      "247.jpg done\n",
      "248.jpg done\n",
      "249.jpg done\n",
      "250.jpg done\n",
      "251.jpg done\n",
      "252.jpg done\n",
      "253.jpg done\n",
      "254.jpg done\n",
      "255.jpg done\n",
      "256.jpg done\n",
      "257.jpg done\n",
      "258.jpg done\n",
      "259.jpg done\n",
      "260.jpg done\n",
      "261.jpg done\n",
      "262.jpg done\n",
      "263.jpg done\n",
      "264.jpg done\n",
      "265.jpg done\n",
      "266.jpg done\n",
      "267.jpg done\n",
      "268.jpg done\n",
      "269.jpg done\n",
      "270.jpg done\n",
      "271.jpg done\n",
      "272.jpg done\n",
      "273.jpg done\n",
      "274.jpg done\n",
      "275.jpg done\n",
      "276.jpg done\n",
      "277.jpg done\n",
      "278.jpg done\n",
      "279.jpg done\n",
      "280.jpg done\n",
      "281.jpg done\n",
      "282.jpg done\n",
      "283.jpg done\n",
      "284.jpg done\n",
      "285.jpg done\n",
      "286.jpg done\n",
      "287.jpg done\n",
      "288.jpg done\n",
      "289.jpg done\n",
      "290.jpg done\n",
      "291.jpg done\n",
      "292.jpg done\n",
      "293.jpg done\n",
      "294.jpg done\n",
      "295.jpg done\n",
      "296.jpg done\n",
      "297.jpg done\n",
      "298.jpg done\n",
      "299.jpg done\n",
      "300.jpg done\n",
      "301.jpg done\n",
      "302.jpg done\n",
      "303.jpg done\n",
      "304.jpg done\n",
      "305.jpg done\n",
      "306.jpg done\n",
      "307.jpg done\n",
      "308.jpg done\n",
      "309.jpg done\n",
      "310.jpg done\n",
      "311.jpg done\n",
      "312.jpg done\n",
      "313.jpg done\n",
      "314.jpg done\n",
      "315.jpg done\n",
      "316.jpg done\n",
      "317.jpg done\n",
      "318.jpg done\n",
      "319.jpg done\n",
      "320.jpg done\n",
      "321.jpg done\n",
      "322.jpg done\n",
      "323.jpg done\n",
      "324.jpg done\n",
      "325.jpg done\n",
      "326.jpg done\n",
      "327.jpg done\n",
      "328.jpg done\n",
      "329.jpg done\n",
      "330.jpg done\n",
      "331.jpg done\n",
      "332.jpg done\n",
      "333.jpg done\n",
      "334.jpg done\n",
      "335.jpg done\n",
      "336.jpg done\n",
      "337.jpg done\n",
      "338.jpg done\n",
      "339.jpg done\n",
      "340.jpg done\n",
      "341.jpg done\n",
      "342.jpg done\n",
      "343.jpg done\n",
      "344.jpg done\n",
      "345.jpg done\n",
      "346.jpg done\n",
      "347.jpg done\n",
      "348.jpg done\n",
      "349.jpg done\n",
      "350.jpg done\n",
      "351.jpg done\n",
      "352.jpg done\n",
      "353.jpg done\n",
      "354.jpg done\n",
      "355.jpg done\n",
      "356.jpg done\n",
      "357.jpg done\n",
      "358.jpg done\n",
      "359.jpg done\n",
      "360.jpg done\n",
      "361.jpg done\n",
      "362.jpg done\n",
      "363.jpg done\n",
      "364.jpg done\n",
      "365.jpg done\n",
      "366.jpg done\n",
      "367.jpg done\n",
      "368.jpg done\n",
      "369.jpg done\n",
      "370.jpg done\n",
      "371.jpg done\n",
      "372.jpg done\n",
      "373.jpg done\n",
      "374.jpg done\n",
      "375.jpg done\n",
      "376.jpg done\n"
     ]
    },
    {
     "name": "stderr",
     "output_type": "stream",
     "text": [
      " 39%|███▉      | 164/421 [05:43<35:20,  8.25s/it]"
     ]
    },
    {
     "name": "stdout",
     "output_type": "stream",
     "text": [
      "377.jpg done\n",
      "0.jpg done\n",
      "1.jpg done\n",
      "2.jpg done\n",
      "3.jpg done\n",
      "4.jpg done\n",
      "5.jpg done\n",
      "6.jpg done\n",
      "7.jpg done\n",
      "8.jpg done\n",
      "9.jpg done\n",
      "10.jpg done\n",
      "11.jpg done\n",
      "12.jpg done\n",
      "13.jpg done\n",
      "14.jpg done\n",
      "15.jpg done\n",
      "16.jpg done\n",
      "17.jpg done\n",
      "18.jpg done\n",
      "19.jpg done\n",
      "20.jpg done\n",
      "21.jpg done\n",
      "22.jpg done\n",
      "23.jpg done\n",
      "24.jpg done\n",
      "25.jpg done\n",
      "26.jpg done\n",
      "27.jpg done\n",
      "28.jpg done\n",
      "29.jpg done\n",
      "30.jpg done\n",
      "31.jpg done\n",
      "32.jpg done\n",
      "33.jpg done\n",
      "34.jpg done\n",
      "35.jpg done\n",
      "36.jpg done\n",
      "37.jpg done\n"
     ]
    },
    {
     "name": "stderr",
     "output_type": "stream",
     "text": [
      " 39%|███▉      | 165/421 [05:45<26:56,  6.31s/it]"
     ]
    },
    {
     "name": "stdout",
     "output_type": "stream",
     "text": [
      "38.jpg done\n",
      "39.jpg done\n",
      "0.jpg done\n",
      "1.jpg done\n",
      "2.jpg done\n",
      "3.jpg done\n",
      "4.jpg done\n",
      "5.jpg done\n",
      "6.jpg done\n",
      "7.jpg done\n",
      "8.jpg done\n",
      "9.jpg done\n",
      "10.jpg done\n",
      "11.jpg done\n",
      "12.jpg done\n",
      "13.jpg done\n",
      "14.jpg done\n",
      "15.jpg done\n",
      "16.jpg done\n",
      "17.jpg done\n",
      "18.jpg done\n",
      "19.jpg done\n",
      "20.jpg done\n",
      "21.jpg done\n",
      "22.jpg done\n",
      "23.jpg done\n",
      "24.jpg done\n",
      "25.jpg done\n",
      "26.jpg done\n",
      "27.jpg done\n",
      "28.jpg done\n",
      "29.jpg done\n",
      "30.jpg done\n",
      "31.jpg done\n",
      "32.jpg done\n",
      "33.jpg done\n",
      "34.jpg done\n",
      "35.jpg done\n",
      "36.jpg done\n",
      "37.jpg done\n",
      "38.jpg done\n",
      "39.jpg done\n",
      "40.jpg done\n",
      "41.jpg done\n",
      "42.jpg done\n",
      "43.jpg done\n",
      "44.jpg done\n",
      "45.jpg done\n",
      "46.jpg done\n",
      "47.jpg done\n",
      "48.jpg done\n",
      "49.jpg done\n",
      "50.jpg done\n"
     ]
    },
    {
     "name": "stderr",
     "output_type": "stream",
     "text": [
      " 40%|███▉      | 167/421 [05:47<16:42,  3.95s/it]"
     ]
    },
    {
     "name": "stdout",
     "output_type": "stream",
     "text": [
      "0.jpg done\n",
      "1.jpg done\n",
      "2.jpg done\n",
      "3.jpg done\n",
      "4.jpg done\n",
      "5.jpg done\n",
      "6.jpg done\n",
      "7.jpg done\n",
      "8.jpg done\n",
      "9.jpg done\n",
      "10.jpg done\n",
      "11.jpg done\n",
      "12.jpg done\n",
      "13.jpg done\n",
      "14.jpg done\n",
      "15.jpg done\n",
      "16.jpg done\n",
      "17.jpg done\n",
      "18.jpg done\n",
      "19.jpg done\n",
      "20.jpg done\n",
      "21.jpg done\n",
      "22.jpg done\n",
      "23.jpg done\n",
      "24.jpg done\n",
      "25.jpg done\n",
      "26.jpg done\n",
      "27.jpg done\n",
      "28.jpg done\n",
      "29.jpg done\n",
      "30.jpg done\n",
      "31.jpg done\n",
      "32.jpg done\n",
      "33.jpg done\n",
      "34.jpg done\n",
      "35.jpg done\n",
      "36.jpg done\n",
      "37.jpg done\n",
      "38.jpg done\n",
      "39.jpg done\n",
      "40.jpg done\n",
      "41.jpg done\n",
      "42.jpg done\n",
      "43.jpg done\n",
      "44.jpg done\n",
      "45.jpg done\n",
      "46.jpg done\n",
      "47.jpg done\n",
      "48.jpg done\n",
      "49.jpg done\n",
      "50.jpg done\n",
      "51.jpg done\n",
      "52.jpg done\n",
      "53.jpg done\n",
      "54.jpg done\n",
      "55.jpg done\n",
      "56.jpg done\n",
      "57.jpg done\n",
      "58.jpg done\n",
      "59.jpg done\n",
      "60.jpg done\n",
      "61.jpg done\n",
      "62.jpg done\n",
      "63.jpg done\n",
      "64.jpg done\n",
      "65.jpg done\n",
      "66.jpg done\n",
      "67.jpg done\n",
      "68.jpg done\n",
      "69.jpg done\n",
      "70.jpg done\n",
      "71.jpg done\n",
      "72.jpg done\n",
      "73.jpg done\n",
      "74.jpg done\n",
      "75.jpg done\n",
      "76.jpg done\n",
      "77.jpg done\n",
      "78.jpg done\n",
      "79.jpg done\n",
      "80.jpg done\n",
      "81.jpg done\n",
      "82.jpg done\n",
      "83.jpg done\n",
      "84.jpg done\n",
      "85.jpg done\n",
      "86.jpg done\n",
      "87.jpg done\n",
      "88.jpg done\n",
      "89.jpg done\n",
      "90.jpg done\n",
      "91.jpg done\n",
      "92.jpg done\n",
      "93.jpg done\n",
      "94.jpg done\n",
      "95.jpg done\n",
      "96.jpg done\n",
      "97.jpg done\n",
      "98.jpg done\n",
      "99.jpg done\n",
      "100.jpg done\n",
      "101.jpg done\n",
      "102.jpg done\n",
      "103.jpg done\n",
      "104.jpg done\n",
      "105.jpg done\n",
      "106.jpg done\n",
      "107.jpg done\n",
      "108.jpg done\n",
      "109.jpg done\n",
      "110.jpg done\n",
      "111.jpg done\n",
      "112.jpg done\n",
      "113.jpg done\n",
      "114.jpg done\n",
      "115.jpg done\n",
      "116.jpg done\n",
      "117.jpg done\n",
      "118.jpg done\n",
      "119.jpg done\n",
      "120.jpg done\n",
      "121.jpg done\n",
      "122.jpg done\n",
      "123.jpg done\n",
      "124.jpg done\n",
      "125.jpg done\n",
      "126.jpg done\n",
      "127.jpg done\n",
      "128.jpg done\n",
      "129.jpg done\n",
      "130.jpg done\n",
      "131.jpg done\n",
      "132.jpg done\n",
      "133.jpg done\n",
      "134.jpg done\n",
      "135.jpg done\n",
      "136.jpg done\n",
      "137.jpg done\n",
      "138.jpg done\n",
      "139.jpg done\n",
      "140.jpg done\n",
      "141.jpg done\n",
      "142.jpg done\n",
      "143.jpg done\n",
      "144.jpg done\n",
      "145.jpg done\n",
      "146.jpg done\n",
      "147.jpg done\n",
      "148.jpg done\n",
      "149.jpg done\n",
      "150.jpg done\n",
      "151.jpg done\n",
      "152.jpg done\n",
      "153.jpg done\n",
      "154.jpg done\n",
      "155.jpg done\n",
      "156.jpg done\n",
      "157.jpg done\n",
      "158.jpg done\n",
      "159.jpg done\n",
      "160.jpg done\n",
      "161.jpg done\n",
      "162.jpg done\n",
      "163.jpg done\n",
      "164.jpg done\n",
      "165.jpg done\n",
      "166.jpg done\n",
      "167.jpg done\n",
      "168.jpg done\n",
      "169.jpg done\n",
      "170.jpg done\n",
      "171.jpg done\n",
      "172.jpg done\n",
      "173.jpg done\n",
      "174.jpg done\n",
      "175.jpg done\n",
      "176.jpg done\n",
      "177.jpg done\n",
      "178.jpg done\n",
      "179.jpg done\n",
      "180.jpg done\n"
     ]
    },
    {
     "name": "stderr",
     "output_type": "stream",
     "text": [
      " 40%|███▉      | 168/421 [05:56<21:46,  5.16s/it]"
     ]
    },
    {
     "name": "stdout",
     "output_type": "stream",
     "text": [
      "181.jpg done\n",
      "182.jpg done\n",
      "183.jpg done\n",
      "0.jpg done\n",
      "1.jpg done\n",
      "2.jpg done\n",
      "3.jpg done\n",
      "4.jpg done\n",
      "5.jpg done\n",
      "6.jpg done\n",
      "7.jpg done\n",
      "8.jpg done\n",
      "9.jpg done\n",
      "10.jpg done\n",
      "11.jpg done\n",
      "12.jpg done\n",
      "13.jpg done\n",
      "14.jpg done\n",
      "15.jpg done\n"
     ]
    },
    {
     "name": "stderr",
     "output_type": "stream",
     "text": [
      " 40%|████      | 169/421 [05:57<16:57,  4.04s/it]"
     ]
    },
    {
     "name": "stdout",
     "output_type": "stream",
     "text": [
      "16.jpg done\n",
      "17.jpg done\n",
      "18.jpg done\n",
      "0.jpg done\n",
      "1.jpg done\n",
      "2.jpg done\n",
      "3.jpg done\n",
      "4.jpg done\n",
      "5.jpg done\n",
      "6.jpg done\n",
      "7.jpg done\n",
      "8.jpg done\n",
      "9.jpg done\n",
      "10.jpg done\n",
      "11.jpg done\n",
      "12.jpg done\n",
      "13.jpg done\n",
      "14.jpg done\n",
      "15.jpg done\n",
      "16.jpg done\n",
      "17.jpg done\n",
      "18.jpg done\n",
      "19.jpg done\n",
      "20.jpg done\n",
      "21.jpg done\n",
      "22.jpg done\n",
      "23.jpg done\n",
      "24.jpg done\n",
      "25.jpg done\n",
      "26.jpg done\n",
      "27.jpg done\n",
      "28.jpg done\n",
      "29.jpg done\n",
      "30.jpg done\n",
      "31.jpg done\n",
      "32.jpg done\n",
      "33.jpg done\n",
      "34.jpg done\n",
      "35.jpg done\n",
      "36.jpg done\n",
      "37.jpg done\n",
      "38.jpg done\n",
      "39.jpg done\n",
      "40.jpg done\n",
      "41.jpg done\n",
      "42.jpg done\n",
      "43.jpg done\n",
      "44.jpg done\n",
      "45.jpg done\n",
      "46.jpg done\n",
      "47.jpg done\n",
      "48.jpg done\n",
      "49.jpg done\n",
      "50.jpg done\n",
      "51.jpg done\n",
      "52.jpg done\n",
      "53.jpg done\n",
      "54.jpg done\n",
      "55.jpg done\n",
      "56.jpg done\n",
      "57.jpg done\n",
      "58.jpg done\n",
      "59.jpg done\n",
      "60.jpg done\n",
      "61.jpg done\n",
      "62.jpg done\n",
      "63.jpg done\n",
      "64.jpg done\n",
      "65.jpg done\n",
      "66.jpg done\n",
      "67.jpg done\n",
      "68.jpg done\n",
      "69.jpg done\n",
      "70.jpg done\n",
      "71.jpg done\n",
      "72.jpg done\n",
      "73.jpg done\n",
      "74.jpg done\n",
      "75.jpg done\n",
      "76.jpg done\n",
      "77.jpg done\n"
     ]
    },
    {
     "name": "stderr",
     "output_type": "stream",
     "text": [
      " 40%|████      | 170/421 [06:01<16:33,  3.96s/it]"
     ]
    },
    {
     "name": "stdout",
     "output_type": "stream",
     "text": [
      "78.jpg done\n",
      "0.jpg done\n",
      "1.jpg done\n",
      "2.jpg done\n",
      "3.jpg done\n",
      "4.jpg done\n",
      "5.jpg done\n",
      "6.jpg done\n",
      "7.jpg done\n",
      "8.jpg done\n",
      "9.jpg done\n",
      "10.jpg done\n",
      "11.jpg done\n",
      "12.jpg done\n",
      "13.jpg done\n",
      "14.jpg done\n",
      "15.jpg done\n",
      "16.jpg done\n",
      "17.jpg done\n",
      "18.jpg done\n",
      "19.jpg done\n",
      "20.jpg done\n",
      "21.jpg done\n",
      "22.jpg done\n",
      "23.jpg done\n",
      "24.jpg done\n",
      "25.jpg done\n",
      "26.jpg done\n",
      "27.jpg done\n",
      "28.jpg done\n",
      "29.jpg done\n",
      "30.jpg done\n",
      "31.jpg done\n",
      "32.jpg done\n",
      "33.jpg done\n",
      "34.jpg done\n",
      "35.jpg done\n",
      "36.jpg done\n",
      "37.jpg done\n",
      "38.jpg done\n",
      "39.jpg done\n",
      "40.jpg done\n",
      "41.jpg done\n",
      "42.jpg done\n",
      "43.jpg done\n",
      "44.jpg done\n",
      "45.jpg done\n",
      "46.jpg done\n",
      "47.jpg done\n",
      "48.jpg done\n",
      "49.jpg done\n",
      "50.jpg done\n",
      "51.jpg done\n",
      "52.jpg done\n",
      "53.jpg done\n",
      "54.jpg done\n",
      "55.jpg done\n",
      "56.jpg done\n",
      "57.jpg done\n",
      "58.jpg done\n",
      "59.jpg done\n",
      "60.jpg done\n",
      "61.jpg done\n",
      "62.jpg done\n",
      "63.jpg done\n",
      "64.jpg done\n",
      "65.jpg done\n",
      "66.jpg done\n",
      "67.jpg done\n",
      "68.jpg done\n",
      "69.jpg done\n",
      "70.jpg done\n",
      "71.jpg done\n",
      "72.jpg done\n",
      "73.jpg done\n",
      "74.jpg done\n",
      "75.jpg done\n",
      "76.jpg done\n",
      "77.jpg done\n",
      "78.jpg done\n",
      "79.jpg done\n",
      "80.jpg done\n",
      "81.jpg done\n",
      "82.jpg done\n",
      "83.jpg done\n",
      "84.jpg done\n",
      "85.jpg done\n",
      "86.jpg done\n",
      "87.jpg done\n",
      "88.jpg done\n",
      "89.jpg done\n",
      "90.jpg done\n",
      "91.jpg done\n",
      "92.jpg done\n",
      "93.jpg done\n",
      "94.jpg done\n",
      "95.jpg done\n",
      "96.jpg done\n",
      "97.jpg done\n",
      "98.jpg done\n",
      "99.jpg done\n",
      "100.jpg done\n",
      "101.jpg done\n",
      "102.jpg done\n",
      "103.jpg done\n",
      "104.jpg done\n",
      "105.jpg done\n",
      "106.jpg done\n",
      "107.jpg done\n",
      "108.jpg done\n",
      "109.jpg done\n",
      "110.jpg done\n",
      "111.jpg done\n",
      "112.jpg done\n",
      "113.jpg done\n",
      "114.jpg done\n",
      "115.jpg done\n",
      "116.jpg done\n",
      "117.jpg done\n",
      "118.jpg done\n",
      "119.jpg done\n",
      "120.jpg done\n",
      "121.jpg done\n",
      "122.jpg done\n"
     ]
    },
    {
     "name": "stderr",
     "output_type": "stream",
     "text": [
      " 41%|████      | 171/421 [06:07<18:59,  4.56s/it]"
     ]
    },
    {
     "name": "stdout",
     "output_type": "stream",
     "text": [
      "123.jpg done\n",
      "124.jpg done\n",
      "125.jpg done\n",
      "0.jpg done\n"
     ]
    },
    {
     "name": "stderr",
     "output_type": "stream",
     "text": [
      " 41%|████      | 172/421 [06:07<13:46,  3.32s/it]"
     ]
    },
    {
     "name": "stdout",
     "output_type": "stream",
     "text": [
      "1.jpg done\n",
      "2.jpg done\n",
      "3.jpg done\n",
      "0.jpg done\n",
      "1.jpg done\n",
      "2.jpg done\n",
      "3.jpg done\n",
      "4.jpg done\n",
      "5.jpg done\n",
      "6.jpg done\n",
      "7.jpg done\n",
      "8.jpg done\n",
      "9.jpg done\n",
      "10.jpg done\n",
      "11.jpg done\n",
      "12.jpg done\n",
      "13.jpg done\n",
      "14.jpg done\n",
      "15.jpg done\n"
     ]
    },
    {
     "name": "stderr",
     "output_type": "stream",
     "text": [
      " 41%|████      | 173/421 [06:08<10:51,  2.63s/it]"
     ]
    },
    {
     "name": "stdout",
     "output_type": "stream",
     "text": [
      "16.jpg done\n",
      "17.jpg done\n",
      "0.jpg done\n",
      "1.jpg done\n",
      "2.jpg done\n",
      "3.jpg done\n",
      "4.jpg done\n",
      "5.jpg done\n",
      "6.jpg done\n",
      "7.jpg done\n",
      "8.jpg done\n",
      "9.jpg done\n",
      "10.jpg done\n",
      "11.jpg done\n",
      "12.jpg done\n",
      "13.jpg done\n",
      "14.jpg done\n",
      "15.jpg done\n"
     ]
    },
    {
     "name": "stderr",
     "output_type": "stream",
     "text": [
      " 41%|████▏     | 174/421 [06:09<08:49,  2.14s/it]"
     ]
    },
    {
     "name": "stdout",
     "output_type": "stream",
     "text": [
      "16.jpg done\n",
      "17.jpg done\n",
      "18.jpg done\n",
      "19.jpg done\n",
      "0.jpg done\n",
      "1.jpg done\n",
      "2.jpg done\n",
      "3.jpg done\n",
      "4.jpg done\n",
      "5.jpg done\n",
      "6.jpg done\n",
      "7.jpg done\n",
      "8.jpg done\n",
      "9.jpg done\n",
      "10.jpg done\n",
      "11.jpg done\n",
      "12.jpg done\n",
      "13.jpg done\n",
      "14.jpg done\n",
      "15.jpg done\n",
      "16.jpg done\n",
      "17.jpg done\n",
      "18.jpg done\n",
      "19.jpg done\n",
      "20.jpg done\n",
      "21.jpg done\n",
      "22.jpg done\n",
      "23.jpg done\n",
      "24.jpg done\n",
      "25.jpg done\n",
      "26.jpg done\n",
      "27.jpg done\n",
      "28.jpg done\n",
      "29.jpg done\n",
      "30.jpg done\n",
      "31.jpg done\n",
      "32.jpg done\n",
      "33.jpg done\n",
      "34.jpg done\n",
      "35.jpg done\n",
      "36.jpg done\n",
      "37.jpg done\n",
      "38.jpg done\n",
      "39.jpg done\n",
      "40.jpg done\n",
      "41.jpg done\n",
      "42.jpg done\n",
      "43.jpg done\n",
      "44.jpg done\n",
      "45.jpg done\n",
      "46.jpg done\n",
      "47.jpg done\n",
      "48.jpg done\n"
     ]
    },
    {
     "name": "stderr",
     "output_type": "stream",
     "text": [
      " 42%|████▏     | 175/421 [06:12<09:05,  2.22s/it]"
     ]
    },
    {
     "name": "stdout",
     "output_type": "stream",
     "text": [
      "0.jpg done\n",
      "1.jpg done\n",
      "2.jpg done\n",
      "3.jpg done\n",
      "4.jpg done\n"
     ]
    },
    {
     "name": "stderr",
     "output_type": "stream",
     "text": [
      " 42%|████▏     | 176/421 [06:12<06:51,  1.68s/it]"
     ]
    },
    {
     "name": "stdout",
     "output_type": "stream",
     "text": [
      "5.jpg done\n",
      "6.jpg done\n",
      "0.jpg done\n"
     ]
    },
    {
     "name": "stderr",
     "output_type": "stream",
     "text": [
      " 42%|████▏     | 178/421 [06:12<03:56,  1.03it/s]"
     ]
    },
    {
     "name": "stdout",
     "output_type": "stream",
     "text": [
      "0.jpg done\n",
      "1.jpg done\n",
      "2.jpg done\n",
      "0.jpg done\n",
      "1.jpg done\n",
      "2.jpg done\n",
      "3.jpg done\n",
      "4.jpg done\n",
      "5.jpg done\n"
     ]
    },
    {
     "name": "stderr",
     "output_type": "stream",
     "text": [
      " 43%|████▎     | 179/421 [06:13<03:23,  1.19it/s]"
     ]
    },
    {
     "name": "stdout",
     "output_type": "stream",
     "text": [
      "6.jpg done\n",
      "7.jpg done\n",
      "0.jpg done\n",
      "1.jpg done\n"
     ]
    },
    {
     "name": "stderr",
     "output_type": "stream",
     "text": [
      " 43%|████▎     | 180/421 [06:13<02:45,  1.46it/s]"
     ]
    },
    {
     "name": "stdout",
     "output_type": "stream",
     "text": [
      "2.jpg done\n",
      "3.jpg done\n",
      "0.jpg done\n"
     ]
    },
    {
     "name": "stderr",
     "output_type": "stream",
     "text": [
      " 43%|████▎     | 181/421 [06:13<02:19,  1.73it/s]"
     ]
    },
    {
     "name": "stdout",
     "output_type": "stream",
     "text": [
      "1.jpg done\n",
      "2.jpg done\n",
      "3.jpg done\n",
      "4.jpg done\n",
      "0.jpg done\n",
      "1.jpg done\n",
      "2.jpg done\n",
      "3.jpg done\n",
      "4.jpg done\n",
      "5.jpg done\n",
      "6.jpg done\n",
      "7.jpg done\n",
      "8.jpg done\n",
      "9.jpg done\n",
      "10.jpg done\n",
      "11.jpg done\n",
      "12.jpg done\n",
      "13.jpg done\n",
      "14.jpg done\n",
      "15.jpg done\n",
      "16.jpg done\n",
      "17.jpg done\n",
      "18.jpg done\n",
      "19.jpg done\n"
     ]
    },
    {
     "name": "stderr",
     "output_type": "stream",
     "text": [
      " 43%|████▎     | 182/421 [06:14<02:51,  1.39it/s]"
     ]
    },
    {
     "name": "stdout",
     "output_type": "stream",
     "text": [
      "20.jpg done\n",
      "21.jpg done\n",
      "0.jpg done\n",
      "1.jpg done\n",
      "2.jpg done\n",
      "3.jpg done\n",
      "4.jpg done\n",
      "5.jpg done\n",
      "6.jpg done\n",
      "7.jpg done\n",
      "8.jpg done\n",
      "9.jpg done\n",
      "10.jpg done\n",
      "11.jpg done\n",
      "12.jpg done\n",
      "13.jpg done\n",
      "14.jpg done\n",
      "15.jpg done\n",
      "16.jpg done\n",
      "17.jpg done\n",
      "18.jpg done\n",
      "19.jpg done\n",
      "20.jpg done\n",
      "21.jpg done\n",
      "22.jpg done\n",
      "23.jpg done\n",
      "24.jpg done\n",
      "25.jpg done\n",
      "26.jpg done\n",
      "27.jpg done\n",
      "28.jpg done\n",
      "29.jpg done\n",
      "30.jpg done\n",
      "31.jpg done\n",
      "32.jpg done\n",
      "33.jpg done\n",
      "34.jpg done\n",
      "35.jpg done\n",
      "36.jpg done\n",
      "37.jpg done\n",
      "38.jpg done\n",
      "39.jpg done\n",
      "40.jpg done\n",
      "41.jpg done\n",
      "42.jpg done\n",
      "43.jpg done\n",
      "44.jpg done\n",
      "45.jpg done\n",
      "46.jpg done\n",
      "47.jpg done\n",
      "48.jpg done\n",
      "49.jpg done\n",
      "50.jpg done\n",
      "51.jpg done\n",
      "52.jpg done\n",
      "53.jpg done\n",
      "54.jpg done\n",
      "55.jpg done\n",
      "56.jpg done\n",
      "57.jpg done\n",
      "58.jpg done\n",
      "59.jpg done\n",
      "60.jpg done\n",
      "61.jpg done\n",
      "62.jpg done\n",
      "63.jpg done\n",
      "64.jpg done\n",
      "65.jpg done\n",
      "66.jpg done\n",
      "67.jpg done\n",
      "68.jpg done\n",
      "69.jpg done\n",
      "70.jpg done\n",
      "71.jpg done\n",
      "72.jpg done\n",
      "73.jpg done\n",
      "74.jpg done\n",
      "75.jpg done\n",
      "76.jpg done\n",
      "77.jpg done\n",
      "78.jpg done\n",
      "79.jpg done\n",
      "80.jpg done\n",
      "81.jpg done\n",
      "82.jpg done\n",
      "83.jpg done\n",
      "84.jpg done\n",
      "85.jpg done\n"
     ]
    },
    {
     "name": "stderr",
     "output_type": "stream",
     "text": [
      " 43%|████▎     | 183/421 [06:18<06:33,  1.65s/it]"
     ]
    },
    {
     "name": "stdout",
     "output_type": "stream",
     "text": [
      "86.jpg done\n",
      "87.jpg done\n",
      "88.jpg done\n",
      "89.jpg done\n"
     ]
    },
    {
     "name": "stderr",
     "output_type": "stream",
     "text": [
      " 44%|████▎     | 184/421 [06:18<04:54,  1.24s/it]"
     ]
    },
    {
     "name": "stdout",
     "output_type": "stream",
     "text": [
      "0.jpg done\n",
      "1.jpg done\n",
      "2.jpg done\n",
      "3.jpg done\n",
      "4.jpg done\n",
      "0.jpg done\n",
      "1.jpg done\n",
      "2.jpg done\n",
      "3.jpg done\n",
      "4.jpg done\n",
      "5.jpg done\n",
      "6.jpg done\n",
      "7.jpg done\n",
      "8.jpg done\n",
      "9.jpg done\n",
      "10.jpg done\n",
      "11.jpg done\n",
      "12.jpg done\n",
      "13.jpg done\n",
      "14.jpg done\n",
      "15.jpg done\n",
      "16.jpg done\n",
      "17.jpg done\n",
      "18.jpg done\n",
      "19.jpg done\n",
      "20.jpg done\n",
      "21.jpg done\n",
      "22.jpg done\n",
      "23.jpg done\n",
      "24.jpg done\n",
      "25.jpg done\n",
      "26.jpg done\n",
      "27.jpg done\n",
      "28.jpg done\n",
      "29.jpg done\n",
      "30.jpg done\n",
      "31.jpg done\n",
      "32.jpg done\n",
      "33.jpg done\n",
      "34.jpg done\n",
      "35.jpg done\n",
      "36.jpg done\n",
      "37.jpg done\n",
      "38.jpg done\n",
      "39.jpg done\n",
      "40.jpg done\n",
      "41.jpg done\n",
      "42.jpg done\n",
      "43.jpg done\n",
      "44.jpg done\n",
      "45.jpg done\n",
      "46.jpg done\n",
      "47.jpg done\n",
      "48.jpg done\n",
      "49.jpg done\n",
      "50.jpg done\n",
      "51.jpg done\n",
      "52.jpg done\n",
      "53.jpg done\n",
      "54.jpg done\n",
      "55.jpg done\n",
      "56.jpg done\n",
      "57.jpg done\n",
      "58.jpg done\n",
      "59.jpg done\n",
      "60.jpg done\n",
      "61.jpg done\n",
      "62.jpg done\n",
      "63.jpg done\n",
      "64.jpg done\n",
      "65.jpg done\n",
      "66.jpg done\n",
      "67.jpg done\n",
      "68.jpg done\n",
      "69.jpg done\n",
      "70.jpg done\n",
      "71.jpg done\n",
      "72.jpg done\n",
      "73.jpg done\n",
      "74.jpg done\n",
      "75.jpg done\n",
      "76.jpg done\n",
      "77.jpg done\n",
      "78.jpg done\n",
      "79.jpg done\n",
      "80.jpg done\n",
      "81.jpg done\n",
      "82.jpg done\n",
      "83.jpg done\n",
      "84.jpg done\n",
      "85.jpg done\n",
      "86.jpg done\n",
      "87.jpg done\n",
      "88.jpg done\n",
      "89.jpg done\n",
      "90.jpg done\n",
      "91.jpg done\n",
      "92.jpg done\n",
      "93.jpg done\n",
      "94.jpg done\n",
      "95.jpg done\n",
      "96.jpg done\n",
      "97.jpg done\n",
      "98.jpg done\n",
      "99.jpg done\n",
      "100.jpg done\n",
      "101.jpg done\n",
      "102.jpg done\n",
      "103.jpg done\n",
      "104.jpg done\n",
      "105.jpg done\n",
      "106.jpg done\n"
     ]
    },
    {
     "name": "stderr",
     "output_type": "stream",
     "text": [
      " 44%|████▍     | 185/421 [06:23<08:46,  2.23s/it]"
     ]
    },
    {
     "name": "stdout",
     "output_type": "stream",
     "text": [
      "107.jpg done\n",
      "108.jpg done\n",
      "0.jpg done\n",
      "1.jpg done\n"
     ]
    },
    {
     "name": "stderr",
     "output_type": "stream",
     "text": [
      " 44%|████▍     | 186/421 [06:23<06:23,  1.63s/it]"
     ]
    },
    {
     "name": "stdout",
     "output_type": "stream",
     "text": [
      "2.jpg done\n",
      "3.jpg done\n",
      "0.jpg done\n"
     ]
    },
    {
     "name": "stderr",
     "output_type": "stream",
     "text": [
      " 44%|████▍     | 187/421 [06:24<04:52,  1.25s/it]"
     ]
    },
    {
     "name": "stdout",
     "output_type": "stream",
     "text": [
      "1.jpg done\n",
      "2.jpg done\n",
      "3.jpg done\n",
      "4.jpg done\n",
      "5.jpg done\n",
      "0.jpg done\n",
      "1.jpg done\n",
      "2.jpg done\n",
      "3.jpg done\n",
      "4.jpg done\n",
      "5.jpg done\n",
      "6.jpg done\n",
      "7.jpg done\n",
      "8.jpg done\n",
      "9.jpg done\n",
      "10.jpg done\n",
      "11.jpg done\n",
      "12.jpg done\n",
      "13.jpg done\n",
      "14.jpg done\n",
      "15.jpg done\n",
      "16.jpg done\n",
      "17.jpg done\n",
      "18.jpg done\n",
      "19.jpg done\n",
      "20.jpg done\n",
      "21.jpg done\n",
      "22.jpg done\n",
      "23.jpg done\n",
      "24.jpg done\n",
      "25.jpg done\n"
     ]
    },
    {
     "name": "stderr",
     "output_type": "stream",
     "text": [
      " 45%|████▍     | 188/421 [06:25<05:00,  1.29s/it]"
     ]
    },
    {
     "name": "stdout",
     "output_type": "stream",
     "text": [
      "26.jpg done\n",
      "27.jpg done\n",
      "28.jpg done\n",
      "29.jpg done\n",
      "30.jpg done\n",
      "0.jpg done\n",
      "1.jpg done\n",
      "2.jpg done\n",
      "3.jpg done\n",
      "4.jpg done\n",
      "5.jpg done\n",
      "6.jpg done\n",
      "7.jpg done\n",
      "8.jpg done\n",
      "9.jpg done\n",
      "10.jpg done\n",
      "11.jpg done\n",
      "12.jpg done\n",
      "13.jpg done\n",
      "14.jpg done\n",
      "15.jpg done\n",
      "16.jpg done\n",
      "17.jpg done\n",
      "18.jpg done\n",
      "19.jpg done\n",
      "20.jpg done\n",
      "21.jpg done\n",
      "22.jpg done\n",
      "23.jpg done\n",
      "24.jpg done\n",
      "25.jpg done\n",
      "26.jpg done\n",
      "27.jpg done\n",
      "28.jpg done\n",
      "29.jpg done\n",
      "30.jpg done\n",
      "31.jpg done\n",
      "32.jpg done\n",
      "33.jpg done\n",
      "34.jpg done\n",
      "35.jpg done\n",
      "36.jpg done\n",
      "37.jpg done\n",
      "38.jpg done\n",
      "39.jpg done\n",
      "40.jpg done\n",
      "41.jpg done\n",
      "42.jpg done\n",
      "43.jpg done\n",
      "44.jpg done\n",
      "45.jpg done\n",
      "46.jpg done\n",
      "47.jpg done\n",
      "48.jpg done\n",
      "49.jpg done\n",
      "50.jpg done\n",
      "51.jpg done\n",
      "52.jpg done\n",
      "53.jpg done\n"
     ]
    },
    {
     "name": "stderr",
     "output_type": "stream",
     "text": [
      " 45%|████▍     | 189/421 [06:28<06:49,  1.77s/it]"
     ]
    },
    {
     "name": "stdout",
     "output_type": "stream",
     "text": [
      "54.jpg done\n",
      "55.jpg done\n",
      "56.jpg done\n",
      "57.jpg done\n",
      "0.jpg done\n",
      "1.jpg done\n",
      "2.jpg done\n",
      "3.jpg done\n",
      "4.jpg done\n",
      "5.jpg done\n",
      "6.jpg done\n",
      "7.jpg done\n",
      "8.jpg done\n",
      "9.jpg done\n",
      "10.jpg done\n",
      "11.jpg done\n",
      "12.jpg done\n",
      "13.jpg done\n",
      "14.jpg done\n",
      "15.jpg done\n",
      "16.jpg done\n",
      "17.jpg done\n",
      "18.jpg done\n",
      "19.jpg done\n",
      "20.jpg done\n",
      "21.jpg done\n",
      "22.jpg done\n",
      "23.jpg done\n",
      "24.jpg done\n",
      "25.jpg done\n",
      "26.jpg done\n",
      "27.jpg done\n",
      "28.jpg done\n",
      "29.jpg done\n",
      "30.jpg done\n",
      "31.jpg done\n",
      "32.jpg done\n",
      "33.jpg done\n",
      "34.jpg done\n",
      "35.jpg done\n",
      "36.jpg done\n",
      "37.jpg done\n",
      "38.jpg done\n"
     ]
    },
    {
     "name": "stderr",
     "output_type": "stream",
     "text": [
      " 45%|████▌     | 190/421 [06:30<07:11,  1.87s/it]"
     ]
    },
    {
     "name": "stdout",
     "output_type": "stream",
     "text": [
      "39.jpg done\n",
      "40.jpg done\n",
      "41.jpg done\n",
      "0.jpg done\n",
      "1.jpg done\n",
      "2.jpg done\n",
      "3.jpg done\n",
      "4.jpg done\n",
      "5.jpg done\n",
      "6.jpg done\n",
      "7.jpg done\n",
      "8.jpg done\n",
      "9.jpg done\n",
      "10.jpg done\n",
      "11.jpg done\n",
      "12.jpg done\n",
      "13.jpg done\n",
      "14.jpg done\n",
      "15.jpg done\n",
      "16.jpg done\n",
      "17.jpg done\n",
      "18.jpg done\n",
      "19.jpg done\n",
      "20.jpg done\n",
      "21.jpg done\n",
      "22.jpg done\n",
      "23.jpg done\n",
      "24.jpg done\n",
      "25.jpg done\n",
      "26.jpg done\n",
      "27.jpg done\n",
      "28.jpg done\n",
      "29.jpg done\n",
      "30.jpg done\n",
      "31.jpg done\n",
      "32.jpg done\n",
      "33.jpg done\n",
      "34.jpg done\n",
      "35.jpg done\n",
      "36.jpg done\n",
      "37.jpg done\n",
      "38.jpg done\n",
      "39.jpg done\n",
      "40.jpg done\n",
      "41.jpg done\n",
      "42.jpg done\n",
      "43.jpg done\n",
      "44.jpg done\n",
      "45.jpg done\n",
      "46.jpg done\n"
     ]
    },
    {
     "name": "stderr",
     "output_type": "stream",
     "text": [
      " 45%|████▌     | 191/421 [06:32<07:50,  2.04s/it]"
     ]
    },
    {
     "name": "stdout",
     "output_type": "stream",
     "text": [
      "47.jpg done\n",
      "48.jpg done\n",
      "0.jpg done\n",
      "1.jpg done\n",
      "2.jpg done\n",
      "3.jpg done\n",
      "4.jpg done\n",
      "5.jpg done\n",
      "6.jpg done\n",
      "7.jpg done\n",
      "8.jpg done\n",
      "9.jpg done\n",
      "10.jpg done\n",
      "11.jpg done\n",
      "12.jpg done\n",
      "13.jpg done\n",
      "14.jpg done\n",
      "15.jpg done\n",
      "16.jpg done\n",
      "17.jpg done\n",
      "18.jpg done\n",
      "19.jpg done\n",
      "20.jpg done\n",
      "21.jpg done\n",
      "22.jpg done\n",
      "23.jpg done\n",
      "24.jpg done\n",
      "25.jpg done\n",
      "26.jpg done\n",
      "27.jpg done\n",
      "28.jpg done\n",
      "29.jpg done\n",
      "30.jpg done\n",
      "31.jpg done\n",
      "32.jpg done\n",
      "33.jpg done\n",
      "34.jpg done\n",
      "35.jpg done\n",
      "36.jpg done\n",
      "37.jpg done\n",
      "38.jpg done\n",
      "39.jpg done\n",
      "40.jpg done\n",
      "41.jpg done\n",
      "42.jpg done\n",
      "43.jpg done\n",
      "44.jpg done\n",
      "45.jpg done\n",
      "46.jpg done\n",
      "47.jpg done\n",
      "48.jpg done\n",
      "49.jpg done\n",
      "50.jpg done\n",
      "51.jpg done\n",
      "52.jpg done\n",
      "53.jpg done\n",
      "54.jpg done\n",
      "55.jpg done\n",
      "56.jpg done\n",
      "57.jpg done\n",
      "58.jpg done\n",
      "59.jpg done\n",
      "60.jpg done\n",
      "61.jpg done\n"
     ]
    },
    {
     "name": "stderr",
     "output_type": "stream",
     "text": [
      " 46%|████▌     | 192/421 [06:36<09:03,  2.37s/it]"
     ]
    },
    {
     "name": "stdout",
     "output_type": "stream",
     "text": [
      "0.jpg done\n",
      "1.jpg done\n",
      "2.jpg done\n",
      "3.jpg done\n",
      "4.jpg done\n",
      "5.jpg done\n",
      "6.jpg done\n",
      "7.jpg done\n",
      "8.jpg done\n",
      "9.jpg done\n",
      "10.jpg done\n",
      "11.jpg done\n",
      "12.jpg done\n",
      "13.jpg done\n",
      "14.jpg done\n",
      "15.jpg done\n",
      "16.jpg done\n",
      "17.jpg done\n",
      "18.jpg done\n",
      "19.jpg done\n",
      "20.jpg done\n",
      "21.jpg done\n",
      "22.jpg done\n",
      "23.jpg done\n",
      "24.jpg done\n",
      "25.jpg done\n",
      "26.jpg done\n",
      "27.jpg done\n",
      "28.jpg done\n",
      "29.jpg done\n",
      "30.jpg done\n",
      "31.jpg done\n",
      "32.jpg done\n",
      "33.jpg done\n",
      "34.jpg done\n",
      "35.jpg done\n",
      "36.jpg done\n",
      "37.jpg done\n",
      "38.jpg done\n",
      "39.jpg done\n",
      "40.jpg done\n",
      "41.jpg done\n",
      "42.jpg done\n",
      "43.jpg done\n",
      "44.jpg done\n",
      "45.jpg done\n",
      "46.jpg done\n",
      "47.jpg done\n",
      "48.jpg done\n",
      "49.jpg done\n",
      "50.jpg done\n",
      "51.jpg done\n",
      "52.jpg done\n",
      "53.jpg done\n",
      "54.jpg done\n",
      "55.jpg done\n",
      "56.jpg done\n",
      "57.jpg done\n",
      "58.jpg done\n",
      "59.jpg done\n",
      "60.jpg done\n",
      "61.jpg done\n",
      "62.jpg done\n",
      "63.jpg done\n",
      "64.jpg done\n",
      "65.jpg done\n",
      "66.jpg done\n",
      "67.jpg done\n",
      "68.jpg done\n",
      "69.jpg done\n",
      "70.jpg done\n",
      "71.jpg done\n",
      "72.jpg done\n",
      "73.jpg done\n",
      "74.jpg done\n",
      "75.jpg done\n",
      "76.jpg done\n",
      "77.jpg done\n",
      "78.jpg done\n",
      "79.jpg done\n",
      "80.jpg done\n",
      "81.jpg done\n",
      "82.jpg done\n",
      "83.jpg done\n",
      "84.jpg done\n",
      "85.jpg done\n",
      "86.jpg done\n",
      "87.jpg done\n",
      "88.jpg done\n",
      "89.jpg done\n",
      "90.jpg done\n",
      "91.jpg done\n",
      "92.jpg done\n",
      "93.jpg done\n",
      "94.jpg done\n",
      "95.jpg done\n",
      "96.jpg done\n",
      "97.jpg done\n",
      "98.jpg done\n",
      "99.jpg done\n",
      "100.jpg done\n",
      "101.jpg done\n",
      "102.jpg done\n",
      "103.jpg done\n",
      "104.jpg done\n",
      "105.jpg done\n",
      "106.jpg done\n",
      "107.jpg done\n",
      "108.jpg done\n",
      "109.jpg done\n",
      "110.jpg done\n",
      "111.jpg done\n",
      "112.jpg done\n",
      "113.jpg done\n",
      "114.jpg done\n",
      "115.jpg done\n",
      "116.jpg done\n",
      "117.jpg done\n",
      "118.jpg done\n",
      "119.jpg done\n",
      "120.jpg done\n",
      "121.jpg done\n",
      "122.jpg done\n",
      "123.jpg done\n",
      "124.jpg done\n",
      "125.jpg done\n",
      "126.jpg done\n",
      "127.jpg done\n",
      "128.jpg done\n",
      "129.jpg done\n",
      "130.jpg done\n",
      "131.jpg done\n",
      "132.jpg done\n",
      "133.jpg done\n",
      "134.jpg done\n",
      "135.jpg done\n",
      "136.jpg done\n",
      "137.jpg done\n",
      "138.jpg done\n",
      "139.jpg done\n",
      "140.jpg done\n",
      "141.jpg done\n",
      "142.jpg done\n",
      "143.jpg done\n",
      "144.jpg done\n",
      "145.jpg done\n",
      "146.jpg done\n",
      "147.jpg done\n",
      "148.jpg done\n",
      "149.jpg done\n",
      "150.jpg done\n",
      "151.jpg done\n",
      "152.jpg done\n",
      "153.jpg done\n",
      "154.jpg done\n",
      "155.jpg done\n",
      "156.jpg done\n",
      "157.jpg done\n",
      "158.jpg done\n",
      "159.jpg done\n",
      "160.jpg done\n",
      "161.jpg done\n",
      "162.jpg done\n",
      "163.jpg done\n",
      "164.jpg done\n",
      "165.jpg done\n",
      "166.jpg done\n",
      "167.jpg done\n",
      "168.jpg done\n",
      "169.jpg done\n",
      "170.jpg done\n",
      "171.jpg done\n",
      "172.jpg done\n",
      "173.jpg done\n",
      "174.jpg done\n",
      "175.jpg done\n",
      "176.jpg done\n",
      "177.jpg done\n",
      "178.jpg done\n",
      "179.jpg done\n",
      "180.jpg done\n",
      "181.jpg done\n",
      "182.jpg done\n",
      "183.jpg done\n",
      "184.jpg done\n",
      "185.jpg done\n",
      "186.jpg done\n",
      "187.jpg done\n",
      "188.jpg done\n",
      "189.jpg done\n",
      "190.jpg done\n",
      "191.jpg done\n",
      "192.jpg done\n",
      "193.jpg done\n",
      "194.jpg done\n",
      "195.jpg done\n",
      "196.jpg done\n",
      "197.jpg done\n",
      "198.jpg done\n",
      "199.jpg done\n",
      "200.jpg done\n",
      "201.jpg done\n",
      "202.jpg done\n",
      "203.jpg done\n",
      "204.jpg done\n",
      "205.jpg done\n",
      "206.jpg done\n",
      "207.jpg done\n",
      "208.jpg done\n",
      "209.jpg done\n",
      "210.jpg done\n",
      "211.jpg done\n",
      "212.jpg done\n",
      "213.jpg done\n",
      "214.jpg done\n",
      "215.jpg done\n",
      "216.jpg done\n",
      "217.jpg done\n",
      "218.jpg done\n",
      "219.jpg done\n"
     ]
    },
    {
     "name": "stderr",
     "output_type": "stream",
     "text": [
      " 46%|████▌     | 193/421 [06:46<17:41,  4.66s/it]"
     ]
    },
    {
     "name": "stdout",
     "output_type": "stream",
     "text": [
      "220.jpg done\n",
      "221.jpg done\n",
      "222.jpg done\n",
      "223.jpg done\n",
      "0.jpg done\n",
      "1.jpg done\n",
      "2.jpg done\n",
      "3.jpg done\n",
      "4.jpg done\n",
      "5.jpg done\n",
      "6.jpg done\n",
      "7.jpg done\n",
      "8.jpg done\n",
      "9.jpg done\n",
      "10.jpg done\n",
      "11.jpg done\n",
      "12.jpg done\n",
      "13.jpg done\n",
      "14.jpg done\n",
      "15.jpg done\n",
      "16.jpg done\n",
      "17.jpg done\n",
      "18.jpg done\n",
      "19.jpg done\n",
      "20.jpg done\n",
      "21.jpg done\n",
      "22.jpg done\n",
      "23.jpg done\n",
      "24.jpg done\n",
      "25.jpg done\n",
      "26.jpg done\n",
      "27.jpg done\n",
      "28.jpg done\n",
      "29.jpg done\n",
      "30.jpg done\n",
      "31.jpg done\n",
      "32.jpg done\n",
      "33.jpg done\n",
      "34.jpg done\n",
      "35.jpg done\n",
      "36.jpg done\n",
      "37.jpg done\n",
      "38.jpg done\n",
      "39.jpg done\n",
      "40.jpg done\n",
      "41.jpg done\n",
      "42.jpg done\n",
      "43.jpg done\n",
      "44.jpg done\n",
      "45.jpg done\n",
      "46.jpg done\n",
      "47.jpg done\n",
      "48.jpg done\n",
      "49.jpg done\n",
      "50.jpg done\n",
      "51.jpg done\n",
      "52.jpg done\n",
      "53.jpg done\n",
      "54.jpg done\n",
      "55.jpg done\n",
      "56.jpg done\n",
      "57.jpg done\n",
      "58.jpg done\n"
     ]
    },
    {
     "name": "stderr",
     "output_type": "stream",
     "text": [
      " 46%|████▌     | 194/421 [06:48<15:30,  4.10s/it]"
     ]
    },
    {
     "name": "stdout",
     "output_type": "stream",
     "text": [
      "59.jpg done\n",
      "0.jpg done\n",
      "1.jpg done\n",
      "2.jpg done\n",
      "3.jpg done\n",
      "4.jpg done\n",
      "5.jpg done\n",
      "6.jpg done\n",
      "7.jpg done\n",
      "8.jpg done\n",
      "9.jpg done\n",
      "10.jpg done\n",
      "11.jpg done\n",
      "12.jpg done\n",
      "13.jpg done\n",
      "14.jpg done\n",
      "15.jpg done\n",
      "16.jpg done\n",
      "17.jpg done\n",
      "18.jpg done\n",
      "19.jpg done\n",
      "20.jpg done\n",
      "21.jpg done\n"
     ]
    },
    {
     "name": "stderr",
     "output_type": "stream",
     "text": [
      " 46%|████▋     | 195/421 [06:50<12:13,  3.24s/it]"
     ]
    },
    {
     "name": "stdout",
     "output_type": "stream",
     "text": [
      "22.jpg done\n",
      "23.jpg done\n",
      "24.jpg done\n",
      "0.jpg done\n",
      "1.jpg done\n",
      "2.jpg done\n",
      "3.jpg done\n",
      "4.jpg done\n",
      "5.jpg done\n"
     ]
    },
    {
     "name": "stderr",
     "output_type": "stream",
     "text": [
      " 47%|████▋     | 196/421 [06:50<08:59,  2.40s/it]"
     ]
    },
    {
     "name": "stdout",
     "output_type": "stream",
     "text": [
      "6.jpg done\n",
      "7.jpg done\n",
      "0.jpg done\n",
      "1.jpg done\n",
      "2.jpg done\n",
      "3.jpg done\n",
      "4.jpg done\n",
      "5.jpg done\n",
      "6.jpg done\n",
      "7.jpg done\n",
      "8.jpg done\n",
      "9.jpg done\n",
      "10.jpg done\n",
      "11.jpg done\n",
      "12.jpg done\n",
      "13.jpg done\n",
      "14.jpg done\n",
      "15.jpg done\n",
      "16.jpg done\n",
      "17.jpg done\n",
      "18.jpg done\n",
      "19.jpg done\n",
      "20.jpg done\n",
      "21.jpg done\n",
      "22.jpg done\n",
      "23.jpg done\n",
      "24.jpg done\n",
      "25.jpg done\n",
      "26.jpg done\n",
      "27.jpg done\n",
      "28.jpg done\n",
      "29.jpg done\n",
      "30.jpg done\n",
      "31.jpg done\n",
      "32.jpg done\n",
      "33.jpg done\n",
      "34.jpg done\n",
      "35.jpg done\n",
      "36.jpg done\n",
      "37.jpg done\n",
      "38.jpg done\n",
      "39.jpg done\n",
      "40.jpg done\n"
     ]
    },
    {
     "name": "stderr",
     "output_type": "stream",
     "text": [
      " 47%|████▋     | 197/421 [06:52<08:24,  2.25s/it]"
     ]
    },
    {
     "name": "stdout",
     "output_type": "stream",
     "text": [
      "0.jpg done\n",
      "1.jpg done\n",
      "2.jpg done\n",
      "3.jpg done\n",
      "4.jpg done\n",
      "5.jpg done\n",
      "6.jpg done\n",
      "7.jpg done\n",
      "8.jpg done\n",
      "9.jpg done\n",
      "10.jpg done\n",
      "11.jpg done\n",
      "12.jpg done\n",
      "13.jpg done\n",
      "14.jpg done\n",
      "15.jpg done\n",
      "16.jpg done\n",
      "17.jpg done\n",
      "18.jpg done\n",
      "19.jpg done\n",
      "20.jpg done\n",
      "21.jpg done\n",
      "22.jpg done\n",
      "23.jpg done\n",
      "24.jpg done\n",
      "25.jpg done\n",
      "26.jpg done\n",
      "27.jpg done\n",
      "28.jpg done\n",
      "29.jpg done\n",
      "30.jpg done\n",
      "31.jpg done\n",
      "32.jpg done\n",
      "33.jpg done\n",
      "34.jpg done\n",
      "35.jpg done\n",
      "36.jpg done\n",
      "37.jpg done\n",
      "38.jpg done\n",
      "39.jpg done\n",
      "40.jpg done\n",
      "41.jpg done\n",
      "42.jpg done\n",
      "43.jpg done\n",
      "44.jpg done\n",
      "45.jpg done\n",
      "46.jpg done\n",
      "47.jpg done\n",
      "48.jpg done\n",
      "49.jpg done\n",
      "50.jpg done\n",
      "51.jpg done\n",
      "52.jpg done\n",
      "53.jpg done\n",
      "54.jpg done\n",
      "55.jpg done\n",
      "56.jpg done\n",
      "57.jpg done\n",
      "58.jpg done\n"
     ]
    },
    {
     "name": "stderr",
     "output_type": "stream",
     "text": [
      " 47%|████▋     | 198/421 [06:55<09:12,  2.48s/it]"
     ]
    },
    {
     "name": "stdout",
     "output_type": "stream",
     "text": [
      "59.jpg done\n",
      "60.jpg done\n",
      "61.jpg done\n",
      "62.jpg done\n",
      "0.jpg done\n",
      "1.jpg done\n",
      "2.jpg done\n",
      "3.jpg done\n",
      "4.jpg done\n",
      "5.jpg done\n",
      "6.jpg done\n",
      "7.jpg done\n",
      "8.jpg done\n",
      "9.jpg done\n",
      "10.jpg done\n",
      "11.jpg done\n",
      "12.jpg done\n",
      "13.jpg done\n",
      "14.jpg done\n",
      "15.jpg done\n",
      "16.jpg done\n",
      "17.jpg done\n",
      "18.jpg done\n",
      "19.jpg done\n",
      "20.jpg done\n",
      "21.jpg done\n",
      "22.jpg done\n",
      "23.jpg done\n",
      "24.jpg done\n",
      "25.jpg done\n",
      "26.jpg done\n",
      "27.jpg done\n",
      "28.jpg done\n",
      "29.jpg done\n",
      "30.jpg done\n",
      "31.jpg done\n",
      "32.jpg done\n",
      "33.jpg done\n",
      "34.jpg done\n",
      "35.jpg done\n",
      "36.jpg done\n",
      "37.jpg done\n",
      "38.jpg done\n",
      "39.jpg done\n",
      "40.jpg done\n",
      "41.jpg done\n",
      "42.jpg done\n",
      "43.jpg done\n",
      "44.jpg done\n",
      "45.jpg done\n",
      "46.jpg done\n",
      "47.jpg done\n",
      "48.jpg done\n",
      "49.jpg done\n",
      "50.jpg done\n",
      "51.jpg done\n",
      "52.jpg done\n",
      "53.jpg done\n",
      "54.jpg done\n",
      "55.jpg done\n",
      "56.jpg done\n",
      "57.jpg done\n",
      "58.jpg done\n",
      "59.jpg done\n",
      "60.jpg done\n",
      "61.jpg done\n",
      "62.jpg done\n",
      "63.jpg done\n",
      "64.jpg done\n",
      "65.jpg done\n",
      "66.jpg done\n",
      "67.jpg done\n",
      "68.jpg done\n",
      "69.jpg done\n",
      "70.jpg done\n",
      "71.jpg done\n",
      "72.jpg done\n",
      "73.jpg done\n",
      "74.jpg done\n",
      "75.jpg done\n",
      "76.jpg done\n",
      "77.jpg done\n",
      "78.jpg done\n",
      "79.jpg done\n"
     ]
    },
    {
     "name": "stderr",
     "output_type": "stream",
     "text": [
      " 47%|████▋     | 199/421 [06:59<10:33,  2.85s/it]"
     ]
    },
    {
     "name": "stdout",
     "output_type": "stream",
     "text": [
      "80.jpg done\n",
      "81.jpg done\n",
      "82.jpg done\n",
      "0.jpg done\n",
      "1.jpg done\n",
      "2.jpg done\n",
      "3.jpg done\n",
      "4.jpg done\n",
      "5.jpg done\n",
      "6.jpg done\n",
      "7.jpg done\n",
      "8.jpg done\n",
      "9.jpg done\n",
      "10.jpg done\n",
      "11.jpg done\n",
      "12.jpg done\n",
      "13.jpg done\n",
      "14.jpg done\n",
      "15.jpg done\n",
      "16.jpg done\n",
      "17.jpg done\n",
      "18.jpg done\n",
      "19.jpg done\n",
      "20.jpg done\n",
      "21.jpg done\n",
      "22.jpg done\n",
      "23.jpg done\n"
     ]
    },
    {
     "name": "stderr",
     "output_type": "stream",
     "text": [
      " 48%|████▊     | 200/421 [07:00<09:06,  2.47s/it]"
     ]
    },
    {
     "name": "stdout",
     "output_type": "stream",
     "text": [
      "24.jpg done\n",
      "25.jpg done\n",
      "26.jpg done\n",
      "27.jpg done\n",
      "0.jpg done\n",
      "1.jpg done\n",
      "2.jpg done\n",
      "3.jpg done\n",
      "4.jpg done\n",
      "5.jpg done\n",
      "6.jpg done\n",
      "7.jpg done\n",
      "8.jpg done\n",
      "9.jpg done\n",
      "10.jpg done\n",
      "11.jpg done\n",
      "12.jpg done\n",
      "13.jpg done\n",
      "14.jpg done\n",
      "15.jpg done\n",
      "16.jpg done\n",
      "17.jpg done\n",
      "18.jpg done\n",
      "19.jpg done\n",
      "20.jpg done\n",
      "21.jpg done\n",
      "22.jpg done\n",
      "23.jpg done\n",
      "24.jpg done\n",
      "25.jpg done\n",
      "26.jpg done\n",
      "27.jpg done\n",
      "28.jpg done\n",
      "29.jpg done\n",
      "30.jpg done\n",
      "31.jpg done\n",
      "32.jpg done\n",
      "33.jpg done\n",
      "34.jpg done\n",
      "35.jpg done\n",
      "36.jpg done\n",
      "37.jpg done\n",
      "38.jpg done\n",
      "39.jpg done\n",
      "40.jpg done\n",
      "41.jpg done\n",
      "42.jpg done\n",
      "43.jpg done\n",
      "44.jpg done\n",
      "45.jpg done\n",
      "46.jpg done\n",
      "47.jpg done\n",
      "48.jpg done\n",
      "49.jpg done\n"
     ]
    },
    {
     "name": "stderr",
     "output_type": "stream",
     "text": [
      " 48%|████▊     | 201/421 [07:03<08:53,  2.42s/it]"
     ]
    },
    {
     "name": "stdout",
     "output_type": "stream",
     "text": [
      "0.jpg done\n",
      "1.jpg done\n",
      "2.jpg done\n",
      "3.jpg done\n",
      "4.jpg done\n",
      "5.jpg done\n",
      "6.jpg done\n",
      "7.jpg done\n",
      "8.jpg done\n",
      "9.jpg done\n",
      "10.jpg done\n",
      "11.jpg done\n",
      "12.jpg done\n",
      "13.jpg done\n",
      "14.jpg done\n"
     ]
    },
    {
     "name": "stderr",
     "output_type": "stream",
     "text": [
      " 48%|████▊     | 202/421 [07:03<07:07,  1.95s/it]"
     ]
    },
    {
     "name": "stdout",
     "output_type": "stream",
     "text": [
      "15.jpg done\n",
      "16.jpg done\n",
      "17.jpg done\n",
      "0.jpg done\n",
      "1.jpg done\n",
      "2.jpg done\n",
      "3.jpg done\n",
      "4.jpg done\n",
      "5.jpg done\n",
      "6.jpg done\n",
      "7.jpg done\n",
      "8.jpg done\n",
      "9.jpg done\n",
      "10.jpg done\n",
      "11.jpg done\n",
      "12.jpg done\n",
      "13.jpg done\n",
      "14.jpg done\n",
      "15.jpg done\n",
      "16.jpg done\n",
      "17.jpg done\n",
      "18.jpg done\n",
      "19.jpg done\n",
      "20.jpg done\n",
      "21.jpg done\n",
      "22.jpg done\n",
      "23.jpg done\n",
      "24.jpg done\n",
      "25.jpg done\n",
      "26.jpg done\n",
      "27.jpg done\n",
      "28.jpg done\n",
      "29.jpg done\n",
      "30.jpg done\n",
      "31.jpg done\n",
      "32.jpg done\n",
      "33.jpg done\n"
     ]
    },
    {
     "name": "stderr",
     "output_type": "stream",
     "text": [
      " 48%|████▊     | 203/421 [07:05<07:08,  1.97s/it]"
     ]
    },
    {
     "name": "stdout",
     "output_type": "stream",
     "text": [
      "34.jpg done\n",
      "35.jpg done\n",
      "36.jpg done\n",
      "37.jpg done\n",
      "38.jpg done\n",
      "39.jpg done\n",
      "0.jpg done\n",
      "1.jpg done\n",
      "2.jpg done\n",
      "3.jpg done\n",
      "4.jpg done\n",
      "5.jpg done\n",
      "6.jpg done\n",
      "7.jpg done\n",
      "8.jpg done\n",
      "9.jpg done\n",
      "10.jpg done\n",
      "11.jpg done\n",
      "12.jpg done\n",
      "13.jpg done\n",
      "14.jpg done\n",
      "15.jpg done\n",
      "16.jpg done\n",
      "17.jpg done\n",
      "18.jpg done\n",
      "19.jpg done\n",
      "20.jpg done\n",
      "21.jpg done\n",
      "22.jpg done\n",
      "23.jpg done\n",
      "24.jpg done\n",
      "25.jpg done\n"
     ]
    },
    {
     "name": "stderr",
     "output_type": "stream",
     "text": [
      " 48%|████▊     | 204/421 [07:07<06:20,  1.75s/it]"
     ]
    },
    {
     "name": "stdout",
     "output_type": "stream",
     "text": [
      "26.jpg done\n",
      "27.jpg done\n",
      "28.jpg done\n",
      "0.jpg done\n",
      "1.jpg done\n",
      "2.jpg done\n",
      "3.jpg done\n",
      "4.jpg done\n",
      "5.jpg done\n",
      "6.jpg done\n",
      "7.jpg done\n",
      "8.jpg done\n",
      "9.jpg done\n",
      "10.jpg done\n",
      "11.jpg done\n",
      "12.jpg done\n",
      "13.jpg done\n",
      "14.jpg done\n",
      "15.jpg done\n",
      "16.jpg done\n",
      "17.jpg done\n",
      "18.jpg done\n",
      "19.jpg done\n",
      "20.jpg done\n",
      "21.jpg done\n",
      "22.jpg done\n",
      "23.jpg done\n",
      "24.jpg done\n",
      "25.jpg done\n",
      "26.jpg done\n",
      "27.jpg done\n",
      "28.jpg done\n",
      "29.jpg done\n",
      "30.jpg done\n",
      "31.jpg done\n",
      "32.jpg done\n",
      "33.jpg done\n",
      "34.jpg done\n",
      "35.jpg done\n",
      "36.jpg done\n",
      "37.jpg done\n",
      "38.jpg done\n",
      "39.jpg done\n",
      "40.jpg done\n",
      "41.jpg done\n",
      "42.jpg done\n",
      "43.jpg done\n",
      "44.jpg done\n",
      "45.jpg done\n",
      "46.jpg done\n",
      "47.jpg done\n",
      "48.jpg done\n",
      "49.jpg done\n",
      "50.jpg done\n",
      "51.jpg done\n",
      "52.jpg done\n",
      "53.jpg done\n",
      "54.jpg done\n",
      "55.jpg done\n",
      "56.jpg done\n",
      "57.jpg done\n",
      "58.jpg done\n",
      "59.jpg done\n",
      "60.jpg done\n",
      "61.jpg done\n",
      "62.jpg done\n",
      "63.jpg done\n",
      "64.jpg done\n",
      "65.jpg done\n",
      "66.jpg done\n",
      "67.jpg done\n",
      "68.jpg done\n",
      "69.jpg done\n",
      "70.jpg done\n",
      "71.jpg done\n",
      "72.jpg done\n",
      "73.jpg done\n",
      "74.jpg done\n",
      "75.jpg done\n",
      "76.jpg done\n",
      "77.jpg done\n",
      "78.jpg done\n",
      "79.jpg done\n",
      "80.jpg done\n",
      "81.jpg done\n",
      "82.jpg done\n",
      "83.jpg done\n",
      "84.jpg done\n",
      "85.jpg done\n",
      "86.jpg done\n",
      "87.jpg done\n",
      "88.jpg done\n",
      "89.jpg done\n",
      "90.jpg done\n",
      "91.jpg done\n",
      "92.jpg done\n",
      "93.jpg done\n",
      "94.jpg done\n"
     ]
    },
    {
     "name": "stderr",
     "output_type": "stream",
     "text": [
      " 49%|████▊     | 205/421 [07:12<09:44,  2.71s/it]"
     ]
    },
    {
     "name": "stdout",
     "output_type": "stream",
     "text": [
      "95.jpg done\n",
      "96.jpg done\n",
      "97.jpg done\n",
      "0.jpg done\n",
      "1.jpg done\n",
      "2.jpg done\n",
      "3.jpg done\n",
      "4.jpg done\n",
      "5.jpg done\n",
      "6.jpg done\n",
      "7.jpg done\n",
      "8.jpg done\n",
      "9.jpg done\n",
      "10.jpg done\n",
      "11.jpg done\n",
      "12.jpg done\n",
      "13.jpg done\n",
      "14.jpg done\n",
      "15.jpg done\n",
      "16.jpg done\n",
      "17.jpg done\n",
      "18.jpg done\n",
      "19.jpg done\n",
      "20.jpg done\n",
      "21.jpg done\n",
      "22.jpg done\n",
      "23.jpg done\n",
      "24.jpg done\n",
      "25.jpg done\n",
      "26.jpg done\n",
      "27.jpg done\n",
      "28.jpg done\n",
      "29.jpg done\n",
      "30.jpg done\n",
      "31.jpg done\n",
      "32.jpg done\n",
      "33.jpg done\n",
      "34.jpg done\n",
      "35.jpg done\n",
      "36.jpg done\n",
      "37.jpg done\n",
      "38.jpg done\n",
      "39.jpg done\n",
      "40.jpg done\n",
      "41.jpg done\n",
      "42.jpg done\n",
      "43.jpg done\n",
      "44.jpg done\n",
      "45.jpg done\n",
      "46.jpg done\n",
      "47.jpg done\n",
      "48.jpg done\n",
      "49.jpg done\n",
      "50.jpg done\n",
      "51.jpg done\n",
      "52.jpg done\n",
      "53.jpg done\n",
      "54.jpg done\n",
      "55.jpg done\n",
      "56.jpg done\n",
      "57.jpg done\n",
      "58.jpg done\n",
      "59.jpg done\n",
      "60.jpg done\n",
      "61.jpg done\n",
      "62.jpg done\n",
      "63.jpg done\n",
      "64.jpg done\n",
      "65.jpg done\n",
      "66.jpg done\n",
      "67.jpg done\n",
      "68.jpg done\n",
      "69.jpg done\n",
      "70.jpg done\n",
      "71.jpg done\n",
      "72.jpg done\n",
      "73.jpg done\n",
      "74.jpg done\n",
      "75.jpg done\n",
      "76.jpg done\n",
      "77.jpg done\n",
      "78.jpg done\n",
      "79.jpg done\n",
      "80.jpg done\n",
      "81.jpg done\n",
      "82.jpg done\n",
      "83.jpg done\n",
      "84.jpg done\n",
      "85.jpg done\n",
      "86.jpg done\n",
      "87.jpg done\n",
      "88.jpg done\n",
      "89.jpg done\n",
      "90.jpg done\n",
      "91.jpg done\n",
      "92.jpg done\n",
      "93.jpg done\n",
      "94.jpg done\n",
      "95.jpg done\n",
      "96.jpg done\n",
      "97.jpg done\n",
      "98.jpg done\n",
      "99.jpg done\n",
      "100.jpg done\n",
      "101.jpg done\n",
      "102.jpg done\n",
      "103.jpg done\n",
      "104.jpg done\n",
      "105.jpg done\n",
      "106.jpg done\n",
      "107.jpg done\n",
      "108.jpg done\n",
      "109.jpg done\n",
      "110.jpg done\n",
      "111.jpg done\n",
      "112.jpg done\n",
      "113.jpg done\n",
      "114.jpg done\n",
      "115.jpg done\n",
      "116.jpg done\n",
      "117.jpg done\n",
      "118.jpg done\n",
      "119.jpg done\n",
      "120.jpg done\n",
      "121.jpg done\n",
      "122.jpg done\n",
      "123.jpg done\n",
      "124.jpg done\n",
      "125.jpg done\n",
      "126.jpg done\n",
      "127.jpg done\n",
      "128.jpg done\n",
      "129.jpg done\n",
      "130.jpg done\n",
      "131.jpg done\n",
      "132.jpg done\n",
      "133.jpg done\n",
      "134.jpg done\n",
      "135.jpg done\n",
      "136.jpg done\n",
      "137.jpg done\n",
      "138.jpg done\n",
      "139.jpg done\n",
      "140.jpg done\n",
      "141.jpg done\n",
      "142.jpg done\n",
      "143.jpg done\n",
      "144.jpg done\n",
      "145.jpg done\n",
      "146.jpg done\n",
      "147.jpg done\n",
      "148.jpg done\n",
      "149.jpg done\n",
      "150.jpg done\n",
      "151.jpg done\n",
      "152.jpg done\n",
      "153.jpg done\n",
      "154.jpg done\n",
      "155.jpg done\n",
      "156.jpg done\n",
      "157.jpg done\n",
      "158.jpg done\n",
      "159.jpg done\n",
      "160.jpg done\n",
      "161.jpg done\n",
      "162.jpg done\n",
      "163.jpg done\n",
      "164.jpg done\n",
      "165.jpg done\n",
      "166.jpg done\n",
      "167.jpg done\n",
      "168.jpg done\n",
      "169.jpg done\n",
      "170.jpg done\n",
      "171.jpg done\n",
      "172.jpg done\n",
      "173.jpg done\n",
      "174.jpg done\n",
      "175.jpg done\n",
      "176.jpg done\n",
      "177.jpg done\n",
      "178.jpg done\n",
      "179.jpg done\n",
      "180.jpg done\n",
      "181.jpg done\n",
      "182.jpg done\n",
      "183.jpg done\n",
      "184.jpg done\n",
      "185.jpg done\n",
      "186.jpg done\n",
      "187.jpg done\n",
      "188.jpg done\n",
      "189.jpg done\n",
      "190.jpg done\n",
      "191.jpg done\n",
      "192.jpg done\n",
      "193.jpg done\n",
      "194.jpg done\n",
      "195.jpg done\n",
      "196.jpg done\n",
      "197.jpg done\n",
      "198.jpg done\n",
      "199.jpg done\n",
      "200.jpg done\n",
      "201.jpg done\n",
      "202.jpg done\n",
      "203.jpg done\n",
      "204.jpg done\n",
      "205.jpg done\n",
      "206.jpg done\n",
      "207.jpg done\n",
      "208.jpg done\n",
      "209.jpg done\n",
      "210.jpg done\n",
      "211.jpg done\n",
      "212.jpg done\n",
      "213.jpg done\n",
      "214.jpg done\n",
      "215.jpg done\n",
      "216.jpg done\n",
      "217.jpg done\n",
      "218.jpg done\n",
      "219.jpg done\n",
      "220.jpg done\n",
      "221.jpg done\n",
      "222.jpg done\n",
      "223.jpg done\n",
      "224.jpg done\n",
      "225.jpg done\n",
      "226.jpg done\n",
      "227.jpg done\n",
      "228.jpg done\n",
      "229.jpg done\n",
      "230.jpg done\n",
      "231.jpg done\n",
      "232.jpg done\n",
      "233.jpg done\n",
      "234.jpg done\n",
      "235.jpg done\n",
      "236.jpg done\n",
      "237.jpg done\n",
      "238.jpg done\n",
      "239.jpg done\n",
      "240.jpg done\n",
      "241.jpg done\n"
     ]
    },
    {
     "name": "stderr",
     "output_type": "stream",
     "text": [
      " 49%|████▉     | 206/421 [07:23<18:47,  5.24s/it]"
     ]
    },
    {
     "name": "stdout",
     "output_type": "stream",
     "text": [
      "242.jpg done\n",
      "243.jpg done\n",
      "0.jpg done\n",
      "1.jpg done\n",
      "2.jpg done\n",
      "3.jpg done\n",
      "4.jpg done\n",
      "5.jpg done\n",
      "6.jpg done\n",
      "7.jpg done\n",
      "8.jpg done\n",
      "9.jpg done\n",
      "10.jpg done\n",
      "11.jpg done\n",
      "12.jpg done\n",
      "13.jpg done\n",
      "14.jpg done\n",
      "15.jpg done\n",
      "16.jpg done\n",
      "17.jpg done\n",
      "18.jpg done\n",
      "19.jpg done\n",
      "20.jpg done\n",
      "21.jpg done\n",
      "22.jpg done\n",
      "23.jpg done\n",
      "24.jpg done\n",
      "25.jpg done\n",
      "26.jpg done\n",
      "27.jpg done\n",
      "28.jpg done\n",
      "29.jpg done\n",
      "30.jpg done\n",
      "31.jpg done\n",
      "32.jpg done\n",
      "33.jpg done\n",
      "34.jpg done\n",
      "35.jpg done\n",
      "36.jpg done\n",
      "37.jpg done\n",
      "38.jpg done\n",
      "39.jpg done\n",
      "40.jpg done\n",
      "41.jpg done\n",
      "42.jpg done\n",
      "43.jpg done\n",
      "44.jpg done\n",
      "45.jpg done\n",
      "46.jpg done\n",
      "47.jpg done\n",
      "48.jpg done\n",
      "49.jpg done\n",
      "50.jpg done\n",
      "51.jpg done\n",
      "52.jpg done\n",
      "53.jpg done\n",
      "54.jpg done\n",
      "55.jpg done\n",
      "56.jpg done\n",
      "57.jpg done\n",
      "58.jpg done\n",
      "59.jpg done\n",
      "60.jpg done\n",
      "61.jpg done\n",
      "62.jpg done\n"
     ]
    },
    {
     "name": "stderr",
     "output_type": "stream",
     "text": [
      " 49%|████▉     | 207/421 [07:26<16:40,  4.67s/it]"
     ]
    },
    {
     "name": "stdout",
     "output_type": "stream",
     "text": [
      "63.jpg done\n",
      "64.jpg done\n",
      "0.jpg done\n",
      "1.jpg done\n",
      "2.jpg done\n",
      "3.jpg done\n",
      "4.jpg done\n",
      "5.jpg done\n",
      "6.jpg done\n",
      "7.jpg done\n",
      "8.jpg done\n",
      "9.jpg done\n",
      "10.jpg done\n",
      "11.jpg done\n",
      "12.jpg done\n",
      "13.jpg done\n",
      "14.jpg done\n",
      "15.jpg done\n",
      "16.jpg done\n",
      "17.jpg done\n",
      "18.jpg done\n"
     ]
    },
    {
     "name": "stderr",
     "output_type": "stream",
     "text": [
      " 49%|████▉     | 208/421 [07:27<12:58,  3.65s/it]"
     ]
    },
    {
     "name": "stdout",
     "output_type": "stream",
     "text": [
      "19.jpg done\n",
      "20.jpg done\n",
      "21.jpg done\n",
      "0.jpg done\n",
      "1.jpg done\n",
      "2.jpg done\n",
      "3.jpg done\n",
      "4.jpg done\n",
      "5.jpg done\n",
      "6.jpg done\n",
      "7.jpg done\n",
      "8.jpg done\n",
      "9.jpg done\n",
      "10.jpg done\n",
      "11.jpg done\n",
      "12.jpg done\n",
      "13.jpg done\n",
      "14.jpg done\n",
      "15.jpg done\n",
      "16.jpg done\n",
      "17.jpg done\n",
      "18.jpg done\n",
      "19.jpg done\n",
      "20.jpg done\n",
      "21.jpg done\n",
      "22.jpg done\n",
      "23.jpg done\n",
      "24.jpg done\n",
      "25.jpg done\n"
     ]
    },
    {
     "name": "stderr",
     "output_type": "stream",
     "text": [
      " 50%|████▉     | 209/421 [07:29<10:31,  2.98s/it]"
     ]
    },
    {
     "name": "stdout",
     "output_type": "stream",
     "text": [
      "26.jpg done\n",
      "27.jpg done\n",
      "28.jpg done\n",
      "29.jpg done\n",
      "0.jpg done\n",
      "1.jpg done\n",
      "2.jpg done\n",
      "3.jpg done\n",
      "4.jpg done\n",
      "5.jpg done\n",
      "6.jpg done\n",
      "7.jpg done\n",
      "8.jpg done\n",
      "9.jpg done\n"
     ]
    },
    {
     "name": "stderr",
     "output_type": "stream",
     "text": [
      " 50%|████▉     | 210/421 [07:30<08:02,  2.29s/it]"
     ]
    },
    {
     "name": "stdout",
     "output_type": "stream",
     "text": [
      "10.jpg done\n",
      "11.jpg done\n",
      "12.jpg done\n",
      "13.jpg done\n",
      "0.jpg done\n",
      "1.jpg done\n",
      "2.jpg done\n",
      "3.jpg done\n",
      "4.jpg done\n",
      "5.jpg done\n",
      "6.jpg done\n",
      "7.jpg done\n",
      "8.jpg done\n",
      "9.jpg done\n",
      "10.jpg done\n",
      "11.jpg done\n",
      "12.jpg done\n",
      "13.jpg done\n",
      "14.jpg done\n",
      "15.jpg done\n",
      "16.jpg done\n",
      "17.jpg done\n",
      "18.jpg done\n",
      "19.jpg done\n",
      "20.jpg done\n",
      "21.jpg done\n",
      "22.jpg done\n",
      "23.jpg done\n",
      "24.jpg done\n"
     ]
    },
    {
     "name": "stderr",
     "output_type": "stream",
     "text": [
      " 50%|█████     | 211/421 [07:31<07:02,  2.01s/it]"
     ]
    },
    {
     "name": "stdout",
     "output_type": "stream",
     "text": [
      "25.jpg done\n",
      "26.jpg done\n",
      "27.jpg done\n",
      "28.jpg done\n",
      "29.jpg done\n",
      "0.jpg done\n",
      "1.jpg done\n",
      "2.jpg done\n",
      "3.jpg done\n",
      "4.jpg done\n",
      "5.jpg done\n",
      "6.jpg done\n",
      "7.jpg done\n",
      "8.jpg done\n",
      "9.jpg done\n",
      "10.jpg done\n",
      "11.jpg done\n",
      "12.jpg done\n",
      "13.jpg done\n",
      "14.jpg done\n",
      "15.jpg done\n",
      "16.jpg done\n",
      "17.jpg done\n",
      "18.jpg done\n",
      "19.jpg done\n",
      "20.jpg done\n",
      "21.jpg done\n",
      "22.jpg done\n",
      "23.jpg done\n",
      "24.jpg done\n",
      "25.jpg done\n",
      "26.jpg done\n",
      "27.jpg done\n",
      "28.jpg done\n",
      "29.jpg done\n",
      "30.jpg done\n",
      "31.jpg done\n",
      "32.jpg done\n",
      "33.jpg done\n",
      "34.jpg done\n",
      "35.jpg done\n",
      "36.jpg done\n",
      "37.jpg done\n",
      "38.jpg done\n",
      "39.jpg done\n",
      "40.jpg done\n",
      "41.jpg done\n",
      "42.jpg done\n",
      "43.jpg done\n",
      "44.jpg done\n",
      "45.jpg done\n",
      "46.jpg done\n",
      "47.jpg done\n",
      "48.jpg done\n",
      "49.jpg done\n",
      "50.jpg done\n",
      "51.jpg done\n",
      "52.jpg done\n",
      "53.jpg done\n",
      "54.jpg done\n",
      "55.jpg done\n",
      "56.jpg done\n",
      "57.jpg done\n",
      "58.jpg done\n",
      "59.jpg done\n",
      "60.jpg done\n",
      "61.jpg done\n",
      "62.jpg done\n",
      "63.jpg done\n",
      "64.jpg done\n",
      "65.jpg done\n",
      "66.jpg done\n",
      "67.jpg done\n",
      "68.jpg done\n",
      "69.jpg done\n",
      "70.jpg done\n",
      "71.jpg done\n",
      "72.jpg done\n"
     ]
    },
    {
     "name": "stderr",
     "output_type": "stream",
     "text": [
      " 50%|█████     | 212/421 [07:34<08:28,  2.43s/it]"
     ]
    },
    {
     "name": "stdout",
     "output_type": "stream",
     "text": [
      "0.jpg done\n",
      "1.jpg done\n",
      "2.jpg done\n",
      "3.jpg done\n",
      "4.jpg done\n",
      "5.jpg done\n",
      "6.jpg done\n",
      "7.jpg done\n",
      "8.jpg done\n",
      "9.jpg done\n",
      "10.jpg done\n",
      "11.jpg done\n",
      "12.jpg done\n",
      "13.jpg done\n",
      "14.jpg done\n",
      "15.jpg done\n",
      "16.jpg done\n",
      "17.jpg done\n",
      "18.jpg done\n",
      "19.jpg done\n",
      "20.jpg done\n",
      "21.jpg done\n",
      "22.jpg done\n",
      "23.jpg done\n",
      "24.jpg done\n"
     ]
    },
    {
     "name": "stderr",
     "output_type": "stream",
     "text": [
      " 51%|█████     | 213/421 [07:36<07:08,  2.06s/it]"
     ]
    },
    {
     "name": "stdout",
     "output_type": "stream",
     "text": [
      "25.jpg done\n",
      "0.jpg done\n",
      "1.jpg done\n",
      "2.jpg done\n",
      "3.jpg done\n",
      "4.jpg done\n",
      "5.jpg done\n",
      "6.jpg done\n",
      "7.jpg done\n",
      "8.jpg done\n",
      "9.jpg done\n",
      "10.jpg done\n",
      "11.jpg done\n",
      "12.jpg done\n",
      "13.jpg done\n",
      "14.jpg done\n",
      "15.jpg done\n",
      "16.jpg done\n",
      "17.jpg done\n",
      "18.jpg done\n",
      "19.jpg done\n",
      "20.jpg done\n",
      "21.jpg done\n",
      "22.jpg done\n",
      "23.jpg done\n",
      "24.jpg done\n",
      "25.jpg done\n",
      "26.jpg done\n"
     ]
    },
    {
     "name": "stderr",
     "output_type": "stream",
     "text": [
      " 51%|█████     | 214/421 [07:37<06:21,  1.84s/it]"
     ]
    },
    {
     "name": "stdout",
     "output_type": "stream",
     "text": [
      "0.jpg done\n",
      "1.jpg done\n",
      "2.jpg done\n",
      "3.jpg done\n",
      "4.jpg done\n",
      "5.jpg done\n",
      "6.jpg done\n",
      "7.jpg done\n",
      "8.jpg done\n",
      "9.jpg done\n",
      "10.jpg done\n",
      "11.jpg done\n",
      "12.jpg done\n",
      "13.jpg done\n",
      "14.jpg done\n",
      "15.jpg done\n",
      "16.jpg done\n",
      "17.jpg done\n",
      "18.jpg done\n",
      "19.jpg done\n",
      "20.jpg done\n",
      "21.jpg done\n",
      "22.jpg done\n",
      "23.jpg done\n",
      "24.jpg done\n",
      "25.jpg done\n",
      "26.jpg done\n",
      "27.jpg done\n",
      "28.jpg done\n",
      "29.jpg done\n",
      "30.jpg done\n",
      "31.jpg done\n",
      "32.jpg done\n",
      "33.jpg done\n",
      "34.jpg done\n",
      "35.jpg done\n",
      "36.jpg done\n",
      "37.jpg done\n",
      "38.jpg done\n",
      "39.jpg done\n",
      "40.jpg done\n",
      "41.jpg done\n",
      "42.jpg done\n",
      "43.jpg done\n",
      "44.jpg done\n",
      "45.jpg done\n",
      "46.jpg done\n",
      "47.jpg done\n",
      "48.jpg done\n",
      "49.jpg done\n",
      "50.jpg done\n",
      "51.jpg done\n",
      "52.jpg done\n",
      "53.jpg done\n",
      "54.jpg done\n",
      "55.jpg done\n",
      "56.jpg done\n",
      "57.jpg done\n",
      "58.jpg done\n",
      "59.jpg done\n",
      "60.jpg done\n",
      "61.jpg done\n",
      "62.jpg done\n",
      "63.jpg done\n",
      "64.jpg done\n"
     ]
    },
    {
     "name": "stderr",
     "output_type": "stream",
     "text": [
      " 51%|█████     | 215/421 [07:40<07:34,  2.20s/it]"
     ]
    },
    {
     "name": "stdout",
     "output_type": "stream",
     "text": [
      "65.jpg done\n",
      "66.jpg done\n",
      "0.jpg done\n"
     ]
    },
    {
     "name": "stderr",
     "output_type": "stream",
     "text": [
      " 51%|█████▏    | 216/421 [07:40<05:36,  1.64s/it]"
     ]
    },
    {
     "name": "stdout",
     "output_type": "stream",
     "text": [
      "1.jpg done\n",
      "2.jpg done\n",
      "3.jpg done\n",
      "4.jpg done\n",
      "5.jpg done\n",
      "0.jpg done\n",
      "1.jpg done\n",
      "2.jpg done\n",
      "3.jpg done\n",
      "4.jpg done\n"
     ]
    },
    {
     "name": "stderr",
     "output_type": "stream",
     "text": [
      " 52%|█████▏    | 217/421 [07:41<04:19,  1.27s/it]"
     ]
    },
    {
     "name": "stdout",
     "output_type": "stream",
     "text": [
      "5.jpg done\n",
      "6.jpg done\n",
      "0.jpg done\n",
      "1.jpg done\n",
      "2.jpg done\n",
      "3.jpg done\n",
      "4.jpg done\n",
      "5.jpg done\n",
      "6.jpg done\n",
      "7.jpg done\n",
      "8.jpg done\n",
      "9.jpg done\n",
      "10.jpg done\n",
      "11.jpg done\n",
      "12.jpg done\n",
      "13.jpg done\n",
      "14.jpg done\n",
      "15.jpg done\n",
      "16.jpg done\n",
      "17.jpg done\n",
      "18.jpg done\n",
      "19.jpg done\n",
      "20.jpg done\n",
      "21.jpg done\n",
      "22.jpg done\n",
      "23.jpg done\n",
      "24.jpg done\n",
      "25.jpg done\n",
      "26.jpg done\n",
      "27.jpg done\n",
      "28.jpg done\n",
      "29.jpg done\n",
      "30.jpg done\n",
      "31.jpg done\n",
      "32.jpg done\n",
      "33.jpg done\n",
      "34.jpg done\n",
      "35.jpg done\n",
      "36.jpg done\n",
      "37.jpg done\n",
      "38.jpg done\n",
      "39.jpg done\n",
      "40.jpg done\n",
      "41.jpg done\n",
      "42.jpg done\n",
      "43.jpg done\n",
      "44.jpg done\n",
      "45.jpg done\n",
      "46.jpg done\n",
      "47.jpg done\n",
      "48.jpg done\n",
      "49.jpg done\n",
      "50.jpg done\n",
      "51.jpg done\n",
      "52.jpg done\n",
      "53.jpg done\n",
      "54.jpg done\n",
      "55.jpg done\n",
      "56.jpg done\n",
      "57.jpg done\n",
      "58.jpg done\n",
      "59.jpg done\n",
      "60.jpg done\n",
      "61.jpg done\n",
      "62.jpg done\n"
     ]
    },
    {
     "name": "stderr",
     "output_type": "stream",
     "text": [
      " 52%|█████▏    | 218/421 [07:44<05:57,  1.76s/it]"
     ]
    },
    {
     "name": "stdout",
     "output_type": "stream",
     "text": [
      "63.jpg done\n",
      "64.jpg done\n",
      "65.jpg done\n",
      "66.jpg done\n",
      "0.jpg done\n",
      "1.jpg done\n",
      "2.jpg done\n",
      "3.jpg done\n",
      "4.jpg done\n",
      "5.jpg done\n",
      "6.jpg done\n",
      "7.jpg done\n",
      "8.jpg done\n",
      "9.jpg done\n",
      "10.jpg done\n",
      "11.jpg done\n",
      "12.jpg done\n",
      "13.jpg done\n",
      "14.jpg done\n",
      "15.jpg done\n",
      "16.jpg done\n",
      "17.jpg done\n",
      "18.jpg done\n",
      "19.jpg done\n",
      "20.jpg done\n",
      "21.jpg done\n",
      "22.jpg done\n",
      "23.jpg done\n",
      "24.jpg done\n",
      "25.jpg done\n",
      "26.jpg done\n",
      "27.jpg done\n",
      "28.jpg done\n",
      "29.jpg done\n",
      "30.jpg done\n",
      "31.jpg done\n",
      "32.jpg done\n",
      "33.jpg done\n",
      "34.jpg done\n",
      "35.jpg done\n",
      "36.jpg done\n",
      "37.jpg done\n",
      "38.jpg done\n",
      "39.jpg done\n",
      "40.jpg done\n",
      "41.jpg done\n",
      "42.jpg done\n",
      "43.jpg done\n",
      "44.jpg done\n",
      "45.jpg done\n",
      "46.jpg done\n",
      "47.jpg done\n",
      "48.jpg done\n",
      "49.jpg done\n",
      "50.jpg done\n",
      "51.jpg done\n",
      "52.jpg done\n",
      "53.jpg done\n",
      "54.jpg done\n",
      "55.jpg done\n",
      "56.jpg done\n",
      "57.jpg done\n",
      "58.jpg done\n",
      "59.jpg done\n",
      "60.jpg done\n",
      "61.jpg done\n",
      "62.jpg done\n",
      "63.jpg done\n",
      "64.jpg done\n",
      "65.jpg done\n",
      "66.jpg done\n",
      "67.jpg done\n",
      "68.jpg done\n",
      "69.jpg done\n",
      "70.jpg done\n",
      "71.jpg done\n",
      "72.jpg done\n",
      "73.jpg done\n",
      "74.jpg done\n",
      "75.jpg done\n",
      "76.jpg done\n",
      "77.jpg done\n",
      "78.jpg done\n",
      "79.jpg done\n",
      "80.jpg done\n",
      "81.jpg done\n",
      "82.jpg done\n",
      "83.jpg done\n",
      "84.jpg done\n",
      "85.jpg done\n",
      "86.jpg done\n",
      "87.jpg done\n",
      "88.jpg done\n",
      "89.jpg done\n",
      "90.jpg done\n",
      "91.jpg done\n",
      "92.jpg done\n",
      "93.jpg done\n",
      "94.jpg done\n"
     ]
    },
    {
     "name": "stderr",
     "output_type": "stream",
     "text": [
      " 52%|█████▏    | 219/421 [07:48<08:36,  2.55s/it]"
     ]
    },
    {
     "name": "stdout",
     "output_type": "stream",
     "text": [
      "95.jpg done\n",
      "96.jpg done\n",
      "0.jpg done\n",
      "1.jpg done\n"
     ]
    },
    {
     "name": "stderr",
     "output_type": "stream",
     "text": [
      " 52%|█████▏    | 220/421 [07:48<06:12,  1.85s/it]"
     ]
    },
    {
     "name": "stdout",
     "output_type": "stream",
     "text": [
      "2.jpg done\n",
      "3.jpg done\n",
      "0.jpg done\n",
      "1.jpg done\n",
      "2.jpg done\n",
      "3.jpg done\n",
      "4.jpg done\n",
      "5.jpg done\n",
      "6.jpg done\n"
     ]
    },
    {
     "name": "stderr",
     "output_type": "stream",
     "text": [
      " 52%|█████▏    | 221/421 [07:49<04:46,  1.43s/it]"
     ]
    },
    {
     "name": "stdout",
     "output_type": "stream",
     "text": [
      "7.jpg done\n",
      "8.jpg done\n",
      "0.jpg done\n",
      "1.jpg done\n",
      "2.jpg done\n",
      "3.jpg done\n",
      "4.jpg done\n",
      "5.jpg done\n"
     ]
    },
    {
     "name": "stderr",
     "output_type": "stream",
     "text": [
      " 53%|█████▎    | 222/421 [07:49<03:51,  1.16s/it]"
     ]
    },
    {
     "name": "stdout",
     "output_type": "stream",
     "text": [
      "6.jpg done\n",
      "7.jpg done\n",
      "8.jpg done\n",
      "9.jpg done\n",
      "0.jpg done\n",
      "1.jpg done\n",
      "2.jpg done\n",
      "3.jpg done\n",
      "4.jpg done\n",
      "5.jpg done\n",
      "6.jpg done\n",
      "7.jpg done\n",
      "8.jpg done\n",
      "9.jpg done\n",
      "10.jpg done\n",
      "11.jpg done\n",
      "12.jpg done\n",
      "13.jpg done\n",
      "14.jpg done\n",
      "15.jpg done\n",
      "16.jpg done\n",
      "17.jpg done\n",
      "18.jpg done\n",
      "19.jpg done\n",
      "20.jpg done\n",
      "21.jpg done\n",
      "22.jpg done\n",
      "23.jpg done\n",
      "24.jpg done\n",
      "25.jpg done\n",
      "26.jpg done\n",
      "27.jpg done\n",
      "28.jpg done\n",
      "29.jpg done\n"
     ]
    },
    {
     "name": "stderr",
     "output_type": "stream",
     "text": [
      " 53%|█████▎    | 223/421 [07:51<04:04,  1.24s/it]"
     ]
    },
    {
     "name": "stdout",
     "output_type": "stream",
     "text": [
      "0.jpg done\n",
      "1.jpg done\n",
      "2.jpg done\n",
      "3.jpg done\n",
      "4.jpg done\n",
      "5.jpg done\n",
      "6.jpg done\n",
      "7.jpg done\n",
      "8.jpg done\n",
      "9.jpg done\n",
      "10.jpg done\n",
      "11.jpg done\n",
      "12.jpg done\n",
      "13.jpg done\n",
      "14.jpg done\n",
      "15.jpg done\n",
      "16.jpg done\n",
      "17.jpg done\n",
      "18.jpg done\n",
      "19.jpg done\n"
     ]
    },
    {
     "name": "stderr",
     "output_type": "stream",
     "text": [
      " 53%|█████▎    | 224/421 [07:52<03:57,  1.21s/it]"
     ]
    },
    {
     "name": "stdout",
     "output_type": "stream",
     "text": [
      "20.jpg done\n",
      "21.jpg done\n",
      "22.jpg done\n",
      "23.jpg done\n",
      "0.jpg done\n",
      "1.jpg done\n",
      "2.jpg done\n",
      "3.jpg done\n",
      "4.jpg done\n",
      "5.jpg done\n",
      "6.jpg done\n",
      "7.jpg done\n",
      "8.jpg done\n",
      "9.jpg done\n",
      "10.jpg done\n",
      "11.jpg done\n",
      "12.jpg done\n",
      "13.jpg done\n",
      "14.jpg done\n",
      "15.jpg done\n",
      "16.jpg done\n",
      "17.jpg done\n",
      "18.jpg done\n",
      "19.jpg done\n",
      "20.jpg done\n",
      "21.jpg done\n",
      "22.jpg done\n",
      "23.jpg done\n",
      "24.jpg done\n",
      "25.jpg done\n",
      "26.jpg done\n",
      "27.jpg done\n",
      "28.jpg done\n"
     ]
    },
    {
     "name": "stderr",
     "output_type": "stream",
     "text": [
      " 53%|█████▎    | 225/421 [07:53<04:12,  1.29s/it]"
     ]
    },
    {
     "name": "stdout",
     "output_type": "stream",
     "text": [
      "29.jpg done\n",
      "0.jpg done\n",
      "1.jpg done\n",
      "2.jpg done\n"
     ]
    },
    {
     "name": "stderr",
     "output_type": "stream",
     "text": [
      " 54%|█████▎    | 226/421 [07:53<03:11,  1.02it/s]"
     ]
    },
    {
     "name": "stdout",
     "output_type": "stream",
     "text": [
      "3.jpg done\n",
      "4.jpg done\n",
      "0.jpg done\n",
      "1.jpg done\n",
      "2.jpg done\n",
      "3.jpg done\n",
      "4.jpg done\n",
      "5.jpg done\n",
      "6.jpg done\n",
      "7.jpg done\n",
      "8.jpg done\n",
      "9.jpg done\n",
      "10.jpg done\n",
      "11.jpg done\n",
      "12.jpg done\n",
      "13.jpg done\n",
      "14.jpg done\n",
      "15.jpg done\n",
      "16.jpg done\n",
      "17.jpg done\n",
      "18.jpg done\n",
      "19.jpg done\n",
      "20.jpg done\n",
      "21.jpg done\n",
      "22.jpg done\n",
      "23.jpg done\n",
      "24.jpg done\n",
      "25.jpg done\n"
     ]
    },
    {
     "name": "stderr",
     "output_type": "stream",
     "text": [
      " 54%|█████▍    | 227/421 [07:55<03:29,  1.08s/it]"
     ]
    },
    {
     "name": "stdout",
     "output_type": "stream",
     "text": [
      "26.jpg done\n",
      "27.jpg done\n",
      "0.jpg done\n",
      "1.jpg done\n",
      "2.jpg done\n",
      "3.jpg done\n",
      "4.jpg done\n",
      "5.jpg done\n",
      "6.jpg done\n",
      "7.jpg done\n",
      "8.jpg done\n",
      "9.jpg done\n",
      "10.jpg done\n",
      "11.jpg done\n",
      "12.jpg done\n",
      "13.jpg done\n",
      "14.jpg done\n",
      "15.jpg done\n",
      "16.jpg done\n",
      "17.jpg done\n",
      "18.jpg done\n",
      "19.jpg done\n",
      "20.jpg done\n",
      "21.jpg done\n",
      "22.jpg done\n",
      "23.jpg done\n",
      "24.jpg done\n",
      "25.jpg done\n",
      "26.jpg done\n",
      "27.jpg done\n",
      "28.jpg done\n",
      "29.jpg done\n",
      "30.jpg done\n",
      "31.jpg done\n",
      "32.jpg done\n",
      "33.jpg done\n",
      "34.jpg done\n",
      "35.jpg done\n",
      "36.jpg done\n"
     ]
    },
    {
     "name": "stderr",
     "output_type": "stream",
     "text": [
      " 54%|█████▍    | 228/421 [07:56<04:04,  1.27s/it]"
     ]
    },
    {
     "name": "stdout",
     "output_type": "stream",
     "text": [
      "37.jpg done\n",
      "0.jpg done\n",
      "1.jpg done\n",
      "2.jpg done\n",
      "3.jpg done\n",
      "4.jpg done\n",
      "5.jpg done\n",
      "6.jpg done\n",
      "7.jpg done\n",
      "8.jpg done\n",
      "9.jpg done\n",
      "10.jpg done\n",
      "11.jpg done\n",
      "12.jpg done\n",
      "13.jpg done\n",
      "14.jpg done\n",
      "15.jpg done\n",
      "16.jpg done\n",
      "17.jpg done\n",
      "18.jpg done\n",
      "19.jpg done\n",
      "20.jpg done\n",
      "21.jpg done\n",
      "22.jpg done\n",
      "23.jpg done\n",
      "24.jpg done\n",
      "25.jpg done\n",
      "26.jpg done\n",
      "27.jpg done\n",
      "28.jpg done\n",
      "29.jpg done\n"
     ]
    },
    {
     "name": "stderr",
     "output_type": "stream",
     "text": [
      " 54%|█████▍    | 229/421 [07:58<04:20,  1.36s/it]"
     ]
    },
    {
     "name": "stdout",
     "output_type": "stream",
     "text": [
      "30.jpg done\n",
      "0.jpg done\n",
      "1.jpg done\n",
      "2.jpg done\n",
      "3.jpg done\n",
      "4.jpg done\n",
      "5.jpg done\n",
      "6.jpg done\n",
      "7.jpg done\n",
      "8.jpg done\n",
      "9.jpg done\n",
      "10.jpg done\n",
      "11.jpg done\n",
      "12.jpg done\n",
      "13.jpg done\n",
      "14.jpg done\n",
      "15.jpg done\n",
      "16.jpg done\n",
      "17.jpg done\n"
     ]
    },
    {
     "name": "stderr",
     "output_type": "stream",
     "text": [
      " 55%|█████▍    | 230/421 [07:59<04:05,  1.28s/it]"
     ]
    },
    {
     "name": "stdout",
     "output_type": "stream",
     "text": [
      "18.jpg done\n",
      "0.jpg done\n",
      "1.jpg done\n",
      "2.jpg done\n",
      "3.jpg done\n",
      "4.jpg done\n",
      "5.jpg done\n",
      "6.jpg done\n",
      "7.jpg done\n",
      "8.jpg done\n",
      "9.jpg done\n",
      "10.jpg done\n",
      "11.jpg done\n",
      "12.jpg done\n",
      "13.jpg done\n",
      "14.jpg done\n",
      "15.jpg done\n",
      "16.jpg done\n",
      "17.jpg done\n",
      "18.jpg done\n",
      "19.jpg done\n",
      "20.jpg done\n",
      "21.jpg done\n",
      "22.jpg done\n",
      "23.jpg done\n",
      "24.jpg done\n",
      "25.jpg done\n",
      "26.jpg done\n",
      "27.jpg done\n",
      "28.jpg done\n",
      "29.jpg done\n",
      "30.jpg done\n",
      "31.jpg done\n",
      "32.jpg done\n",
      "33.jpg done\n",
      "34.jpg done\n",
      "35.jpg done\n",
      "36.jpg done\n",
      "37.jpg done\n",
      "38.jpg done\n",
      "39.jpg done\n",
      "40.jpg done\n",
      "41.jpg done\n",
      "42.jpg done\n",
      "43.jpg done\n",
      "44.jpg done\n",
      "45.jpg done\n",
      "46.jpg done\n",
      "47.jpg done\n",
      "48.jpg done\n",
      "49.jpg done\n",
      "50.jpg done\n",
      "51.jpg done\n",
      "52.jpg done\n",
      "53.jpg done\n",
      "54.jpg done\n",
      "55.jpg done\n",
      "56.jpg done\n",
      "57.jpg done\n",
      "58.jpg done\n",
      "59.jpg done\n",
      "60.jpg done\n",
      "61.jpg done\n",
      "62.jpg done\n",
      "63.jpg done\n",
      "64.jpg done\n",
      "65.jpg done\n",
      "66.jpg done\n",
      "67.jpg done\n",
      "68.jpg done\n",
      "69.jpg done\n",
      "70.jpg done\n",
      "71.jpg done\n",
      "72.jpg done\n",
      "73.jpg done\n",
      "74.jpg done\n",
      "75.jpg done\n",
      "76.jpg done\n",
      "77.jpg done\n",
      "78.jpg done\n",
      "79.jpg done\n",
      "80.jpg done\n",
      "81.jpg done\n"
     ]
    },
    {
     "name": "stderr",
     "output_type": "stream",
     "text": [
      " 55%|█████▍    | 231/421 [08:03<06:23,  2.02s/it]"
     ]
    },
    {
     "name": "stdout",
     "output_type": "stream",
     "text": [
      "82.jpg done\n",
      "0.jpg done\n",
      "1.jpg done\n",
      "2.jpg done\n",
      "3.jpg done\n",
      "4.jpg done\n",
      "5.jpg done\n",
      "6.jpg done\n",
      "7.jpg done\n",
      "8.jpg done\n",
      "9.jpg done\n",
      "10.jpg done\n",
      "11.jpg done\n"
     ]
    },
    {
     "name": "stderr",
     "output_type": "stream",
     "text": [
      " 55%|█████▌    | 232/421 [08:04<05:10,  1.64s/it]"
     ]
    },
    {
     "name": "stdout",
     "output_type": "stream",
     "text": [
      "12.jpg done\n",
      "13.jpg done\n",
      "14.jpg done\n",
      "15.jpg done\n",
      "16.jpg done\n",
      "0.jpg done\n",
      "1.jpg done\n",
      "2.jpg done\n",
      "3.jpg done\n",
      "4.jpg done\n",
      "5.jpg done\n",
      "6.jpg done\n",
      "7.jpg done\n",
      "8.jpg done\n",
      "9.jpg done\n",
      "10.jpg done\n",
      "11.jpg done\n",
      "12.jpg done\n",
      "13.jpg done\n",
      "14.jpg done\n",
      "15.jpg done\n",
      "16.jpg done\n",
      "17.jpg done\n",
      "18.jpg done\n",
      "19.jpg done\n",
      "20.jpg done\n",
      "21.jpg done\n",
      "22.jpg done\n",
      "23.jpg done\n",
      "24.jpg done\n",
      "25.jpg done\n",
      "26.jpg done\n",
      "27.jpg done\n",
      "28.jpg done\n",
      "29.jpg done\n",
      "30.jpg done\n",
      "31.jpg done\n",
      "32.jpg done\n",
      "33.jpg done\n",
      "34.jpg done\n"
     ]
    },
    {
     "name": "stderr",
     "output_type": "stream",
     "text": [
      " 55%|█████▌    | 233/421 [08:05<05:20,  1.70s/it]"
     ]
    },
    {
     "name": "stdout",
     "output_type": "stream",
     "text": [
      "35.jpg done\n",
      "36.jpg done\n",
      "37.jpg done\n",
      "38.jpg done\n",
      "39.jpg done\n",
      "0.jpg done\n",
      "1.jpg done\n",
      "2.jpg done\n",
      "3.jpg done\n",
      "4.jpg done\n",
      "5.jpg done\n",
      "6.jpg done\n",
      "7.jpg done\n",
      "8.jpg done\n",
      "9.jpg done\n",
      "10.jpg done\n",
      "11.jpg done\n",
      "12.jpg done\n",
      "13.jpg done\n",
      "14.jpg done\n",
      "15.jpg done\n",
      "16.jpg done\n",
      "17.jpg done\n",
      "18.jpg done\n",
      "19.jpg done\n"
     ]
    },
    {
     "name": "stderr",
     "output_type": "stream",
     "text": [
      " 56%|█████▌    | 234/421 [08:07<04:42,  1.51s/it]"
     ]
    },
    {
     "name": "stdout",
     "output_type": "stream",
     "text": [
      "20.jpg done\n",
      "21.jpg done\n",
      "0.jpg done\n",
      "1.jpg done\n",
      "2.jpg done\n",
      "3.jpg done\n",
      "4.jpg done\n",
      "5.jpg done\n",
      "6.jpg done\n",
      "7.jpg done\n",
      "8.jpg done\n",
      "9.jpg done\n",
      "10.jpg done\n",
      "11.jpg done\n",
      "12.jpg done\n",
      "13.jpg done\n",
      "14.jpg done\n",
      "15.jpg done\n",
      "16.jpg done\n",
      "17.jpg done\n",
      "18.jpg done\n",
      "19.jpg done\n",
      "20.jpg done\n",
      "21.jpg done\n",
      "22.jpg done\n",
      "23.jpg done\n",
      "24.jpg done\n",
      "25.jpg done\n",
      "26.jpg done\n",
      "27.jpg done\n",
      "28.jpg done\n",
      "29.jpg done\n",
      "30.jpg done\n"
     ]
    },
    {
     "name": "stderr",
     "output_type": "stream",
     "text": [
      " 56%|█████▌    | 235/421 [08:08<04:50,  1.56s/it]"
     ]
    },
    {
     "name": "stdout",
     "output_type": "stream",
     "text": [
      "31.jpg done\n",
      "32.jpg done\n",
      "33.jpg done\n",
      "34.jpg done\n",
      "35.jpg done\n",
      "0.jpg done\n",
      "1.jpg done\n",
      "2.jpg done\n",
      "3.jpg done\n",
      "4.jpg done\n",
      "5.jpg done\n",
      "6.jpg done\n",
      "7.jpg done\n",
      "8.jpg done\n",
      "9.jpg done\n",
      "10.jpg done\n",
      "11.jpg done\n",
      "12.jpg done\n",
      "13.jpg done\n",
      "14.jpg done\n",
      "15.jpg done\n",
      "16.jpg done\n",
      "17.jpg done\n",
      "18.jpg done\n",
      "19.jpg done\n",
      "20.jpg done\n",
      "21.jpg done\n",
      "22.jpg done\n",
      "23.jpg done\n",
      "24.jpg done\n",
      "25.jpg done\n",
      "26.jpg done\n",
      "27.jpg done\n",
      "28.jpg done\n",
      "29.jpg done\n",
      "30.jpg done\n",
      "31.jpg done\n",
      "32.jpg done\n",
      "33.jpg done\n",
      "34.jpg done\n",
      "35.jpg done\n",
      "36.jpg done\n",
      "37.jpg done\n"
     ]
    },
    {
     "name": "stderr",
     "output_type": "stream",
     "text": [
      " 56%|█████▌    | 236/421 [08:10<05:15,  1.71s/it]"
     ]
    },
    {
     "name": "stdout",
     "output_type": "stream",
     "text": [
      "38.jpg done\n",
      "39.jpg done\n",
      "40.jpg done\n",
      "41.jpg done\n",
      "42.jpg done\n",
      "0.jpg done\n",
      "1.jpg done\n",
      "2.jpg done\n",
      "3.jpg done\n",
      "4.jpg done\n",
      "5.jpg done\n",
      "6.jpg done\n",
      "7.jpg done\n",
      "8.jpg done\n",
      "9.jpg done\n",
      "10.jpg done\n",
      "11.jpg done\n",
      "12.jpg done\n",
      "13.jpg done\n",
      "14.jpg done\n",
      "15.jpg done\n",
      "16.jpg done\n",
      "17.jpg done\n",
      "18.jpg done\n",
      "19.jpg done\n",
      "20.jpg done\n",
      "21.jpg done\n",
      "22.jpg done\n",
      "23.jpg done\n",
      "24.jpg done\n",
      "25.jpg done\n",
      "26.jpg done\n",
      "27.jpg done\n",
      "28.jpg done\n",
      "29.jpg done\n",
      "30.jpg done\n",
      "31.jpg done\n",
      "32.jpg done\n",
      "33.jpg done\n",
      "34.jpg done\n"
     ]
    },
    {
     "name": "stderr",
     "output_type": "stream",
     "text": [
      " 56%|█████▋    | 237/421 [08:12<05:14,  1.71s/it]"
     ]
    },
    {
     "name": "stdout",
     "output_type": "stream",
     "text": [
      "35.jpg done\n",
      "36.jpg done\n",
      "37.jpg done\n",
      "0.jpg done\n",
      "1.jpg done\n",
      "2.jpg done\n",
      "3.jpg done\n",
      "4.jpg done\n",
      "5.jpg done\n",
      "6.jpg done\n",
      "7.jpg done\n",
      "8.jpg done\n",
      "9.jpg done\n",
      "10.jpg done\n",
      "11.jpg done\n",
      "12.jpg done\n",
      "13.jpg done\n",
      "14.jpg done\n",
      "15.jpg done\n",
      "16.jpg done\n",
      "17.jpg done\n",
      "18.jpg done\n",
      "19.jpg done\n",
      "20.jpg done\n"
     ]
    },
    {
     "name": "stderr",
     "output_type": "stream",
     "text": [
      " 57%|█████▋    | 238/421 [08:13<04:45,  1.56s/it]"
     ]
    },
    {
     "name": "stdout",
     "output_type": "stream",
     "text": [
      "21.jpg done\n",
      "22.jpg done\n",
      "23.jpg done\n",
      "24.jpg done\n",
      "25.jpg done\n",
      "0.jpg done\n",
      "1.jpg done\n",
      "2.jpg done\n",
      "3.jpg done\n",
      "4.jpg done\n",
      "5.jpg done\n",
      "6.jpg done\n",
      "7.jpg done\n",
      "8.jpg done\n",
      "9.jpg done\n",
      "10.jpg done\n",
      "11.jpg done\n",
      "12.jpg done\n",
      "13.jpg done\n",
      "14.jpg done\n",
      "15.jpg done\n",
      "16.jpg done\n",
      "17.jpg done\n",
      "18.jpg done\n",
      "19.jpg done\n",
      "20.jpg done\n",
      "21.jpg done\n",
      "22.jpg done\n",
      "23.jpg done\n",
      "24.jpg done\n"
     ]
    },
    {
     "name": "stderr",
     "output_type": "stream",
     "text": [
      " 57%|█████▋    | 239/421 [08:14<04:25,  1.46s/it]"
     ]
    },
    {
     "name": "stdout",
     "output_type": "stream",
     "text": [
      "25.jpg done\n",
      "0.jpg done\n",
      "1.jpg done\n",
      "2.jpg done\n",
      "3.jpg done\n",
      "4.jpg done\n",
      "5.jpg done\n",
      "6.jpg done\n",
      "7.jpg done\n",
      "8.jpg done\n",
      "9.jpg done\n",
      "10.jpg done\n",
      "11.jpg done\n",
      "12.jpg done\n",
      "13.jpg done\n",
      "14.jpg done\n",
      "15.jpg done\n"
     ]
    },
    {
     "name": "stderr",
     "output_type": "stream",
     "text": [
      " 57%|█████▋    | 240/421 [08:15<03:54,  1.30s/it]"
     ]
    },
    {
     "name": "stdout",
     "output_type": "stream",
     "text": [
      "16.jpg done\n",
      "0.jpg done\n",
      "1.jpg done\n",
      "2.jpg done\n",
      "3.jpg done\n",
      "4.jpg done\n",
      "5.jpg done\n",
      "6.jpg done\n",
      "7.jpg done\n"
     ]
    },
    {
     "name": "stderr",
     "output_type": "stream",
     "text": [
      " 57%|█████▋    | 241/421 [08:16<03:06,  1.04s/it]"
     ]
    },
    {
     "name": "stdout",
     "output_type": "stream",
     "text": [
      "0.jpg done\n",
      "1.jpg done\n",
      "2.jpg done\n",
      "3.jpg done\n",
      "4.jpg done\n",
      "5.jpg done\n",
      "6.jpg done\n",
      "7.jpg done\n",
      "8.jpg done\n",
      "9.jpg done\n",
      "10.jpg done\n",
      "11.jpg done\n",
      "12.jpg done\n",
      "13.jpg done\n",
      "14.jpg done\n",
      "15.jpg done\n",
      "16.jpg done\n",
      "17.jpg done\n",
      "18.jpg done\n",
      "19.jpg done\n",
      "20.jpg done\n",
      "21.jpg done\n",
      "22.jpg done\n",
      "23.jpg done\n"
     ]
    },
    {
     "name": "stderr",
     "output_type": "stream",
     "text": [
      " 57%|█████▋    | 242/421 [08:17<03:24,  1.14s/it]"
     ]
    },
    {
     "name": "stdout",
     "output_type": "stream",
     "text": [
      "24.jpg done\n",
      "25.jpg done\n",
      "26.jpg done\n",
      "0.jpg done\n",
      "1.jpg done\n",
      "2.jpg done\n",
      "3.jpg done\n",
      "4.jpg done\n"
     ]
    },
    {
     "name": "stderr",
     "output_type": "stream",
     "text": [
      " 58%|█████▊    | 243/421 [08:18<02:50,  1.04it/s]"
     ]
    },
    {
     "name": "stdout",
     "output_type": "stream",
     "text": [
      "5.jpg done\n",
      "6.jpg done\n",
      "7.jpg done\n",
      "8.jpg done\n",
      "0.jpg done\n",
      "1.jpg done\n",
      "2.jpg done\n",
      "3.jpg done\n",
      "4.jpg done\n"
     ]
    },
    {
     "name": "stderr",
     "output_type": "stream",
     "text": [
      " 58%|█████▊    | 244/421 [08:18<02:18,  1.28it/s]"
     ]
    },
    {
     "name": "stdout",
     "output_type": "stream",
     "text": [
      "5.jpg done\n",
      "6.jpg done\n",
      "0.jpg done\n",
      "1.jpg done\n",
      "2.jpg done\n",
      "3.jpg done\n",
      "4.jpg done\n",
      "5.jpg done\n",
      "6.jpg done\n",
      "7.jpg done\n",
      "8.jpg done\n",
      "9.jpg done\n",
      "10.jpg done\n",
      "11.jpg done\n",
      "12.jpg done\n",
      "13.jpg done\n",
      "14.jpg done\n",
      "15.jpg done\n",
      "16.jpg done\n",
      "17.jpg done\n",
      "18.jpg done\n",
      "19.jpg done\n",
      "20.jpg done\n",
      "21.jpg done\n",
      "22.jpg done\n",
      "23.jpg done\n",
      "24.jpg done\n",
      "25.jpg done\n",
      "26.jpg done\n"
     ]
    },
    {
     "name": "stderr",
     "output_type": "stream",
     "text": [
      " 58%|█████▊    | 245/421 [08:20<02:57,  1.01s/it]"
     ]
    },
    {
     "name": "stdout",
     "output_type": "stream",
     "text": [
      "27.jpg done\n",
      "28.jpg done\n",
      "29.jpg done\n",
      "30.jpg done\n",
      "31.jpg done\n",
      "0.jpg done\n",
      "1.jpg done\n",
      "2.jpg done\n",
      "3.jpg done\n",
      "4.jpg done\n",
      "5.jpg done\n"
     ]
    },
    {
     "name": "stderr",
     "output_type": "stream",
     "text": [
      " 58%|█████▊    | 246/421 [08:20<02:32,  1.15it/s]"
     ]
    },
    {
     "name": "stdout",
     "output_type": "stream",
     "text": [
      "6.jpg done\n",
      "7.jpg done\n",
      "0.jpg done\n",
      "1.jpg done\n",
      "2.jpg done\n",
      "3.jpg done\n",
      "4.jpg done\n",
      "5.jpg done\n",
      "6.jpg done\n",
      "7.jpg done\n",
      "8.jpg done\n",
      "9.jpg done\n",
      "10.jpg done\n",
      "11.jpg done\n",
      "12.jpg done\n",
      "13.jpg done\n",
      "14.jpg done\n",
      "15.jpg done\n",
      "16.jpg done\n",
      "17.jpg done\n",
      "18.jpg done\n",
      "19.jpg done\n",
      "20.jpg done\n",
      "21.jpg done\n",
      "22.jpg done\n",
      "23.jpg done\n",
      "24.jpg done\n",
      "25.jpg done\n",
      "26.jpg done\n",
      "27.jpg done\n",
      "28.jpg done\n",
      "29.jpg done\n",
      "30.jpg done\n",
      "31.jpg done\n",
      "32.jpg done\n",
      "33.jpg done\n",
      "34.jpg done\n",
      "35.jpg done\n",
      "36.jpg done\n",
      "37.jpg done\n",
      "38.jpg done\n",
      "39.jpg done\n",
      "40.jpg done\n",
      "41.jpg done\n",
      "42.jpg done\n",
      "43.jpg done\n",
      "44.jpg done\n",
      "45.jpg done\n",
      "46.jpg done\n",
      "47.jpg done\n",
      "48.jpg done\n",
      "49.jpg done\n",
      "50.jpg done\n",
      "51.jpg done\n",
      "52.jpg done\n",
      "53.jpg done\n",
      "54.jpg done\n",
      "55.jpg done\n",
      "56.jpg done\n",
      "57.jpg done\n",
      "58.jpg done\n",
      "59.jpg done\n",
      "60.jpg done\n",
      "61.jpg done\n",
      "62.jpg done\n"
     ]
    },
    {
     "name": "stderr",
     "output_type": "stream",
     "text": [
      " 59%|█████▊    | 247/421 [08:23<04:34,  1.58s/it]"
     ]
    },
    {
     "name": "stdout",
     "output_type": "stream",
     "text": [
      "63.jpg done\n",
      "64.jpg done\n",
      "65.jpg done\n",
      "66.jpg done\n",
      "0.jpg done\n",
      "1.jpg done\n",
      "2.jpg done\n",
      "3.jpg done\n",
      "4.jpg done\n",
      "5.jpg done\n",
      "6.jpg done\n",
      "7.jpg done\n",
      "8.jpg done\n",
      "9.jpg done\n",
      "10.jpg done\n",
      "11.jpg done\n",
      "12.jpg done\n",
      "13.jpg done\n",
      "14.jpg done\n",
      "15.jpg done\n",
      "16.jpg done\n",
      "17.jpg done\n",
      "18.jpg done\n",
      "19.jpg done\n",
      "20.jpg done\n",
      "21.jpg done\n",
      "22.jpg done\n",
      "23.jpg done\n",
      "24.jpg done\n",
      "25.jpg done\n",
      "26.jpg done\n",
      "27.jpg done\n",
      "28.jpg done\n",
      "29.jpg done\n",
      "30.jpg done\n",
      "31.jpg done\n",
      "32.jpg done\n",
      "33.jpg done\n",
      "34.jpg done\n",
      "35.jpg done\n",
      "36.jpg done\n",
      "37.jpg done\n",
      "38.jpg done\n",
      "39.jpg done\n",
      "40.jpg done\n",
      "41.jpg done\n",
      "42.jpg done\n",
      "43.jpg done\n",
      "44.jpg done\n",
      "45.jpg done\n",
      "46.jpg done\n",
      "47.jpg done\n",
      "48.jpg done\n",
      "49.jpg done\n"
     ]
    },
    {
     "name": "stderr",
     "output_type": "stream",
     "text": [
      " 59%|█████▉    | 248/421 [08:26<05:22,  1.86s/it]"
     ]
    },
    {
     "name": "stdout",
     "output_type": "stream",
     "text": [
      "50.jpg done\n",
      "51.jpg done\n",
      "52.jpg done\n",
      "53.jpg done\n",
      "54.jpg done\n",
      "0.jpg done\n",
      "1.jpg done\n",
      "2.jpg done\n",
      "3.jpg done\n",
      "4.jpg done\n",
      "5.jpg done\n",
      "6.jpg done\n",
      "7.jpg done\n",
      "8.jpg done\n",
      "9.jpg done\n"
     ]
    },
    {
     "name": "stderr",
     "output_type": "stream",
     "text": [
      " 59%|█████▉    | 249/421 [08:26<04:15,  1.48s/it]"
     ]
    },
    {
     "name": "stdout",
     "output_type": "stream",
     "text": [
      "10.jpg done\n",
      "11.jpg done\n",
      "0.jpg done\n",
      "1.jpg done\n",
      "2.jpg done\n",
      "3.jpg done\n",
      "4.jpg done\n",
      "5.jpg done\n",
      "6.jpg done\n",
      "7.jpg done\n",
      "8.jpg done\n",
      "9.jpg done\n",
      "10.jpg done\n",
      "11.jpg done\n",
      "12.jpg done\n",
      "13.jpg done\n",
      "14.jpg done\n",
      "15.jpg done\n",
      "16.jpg done\n",
      "17.jpg done\n",
      "18.jpg done\n",
      "19.jpg done\n",
      "20.jpg done\n",
      "21.jpg done\n"
     ]
    },
    {
     "name": "stderr",
     "output_type": "stream",
     "text": [
      " 59%|█████▉    | 250/421 [08:28<03:55,  1.37s/it]"
     ]
    },
    {
     "name": "stdout",
     "output_type": "stream",
     "text": [
      "22.jpg done\n",
      "23.jpg done\n",
      "0.jpg done\n",
      "1.jpg done\n",
      "2.jpg done\n",
      "3.jpg done\n",
      "4.jpg done\n",
      "5.jpg done\n",
      "6.jpg done\n",
      "7.jpg done\n",
      "8.jpg done\n",
      "9.jpg done\n",
      "10.jpg done\n"
     ]
    },
    {
     "name": "stderr",
     "output_type": "stream",
     "text": [
      " 60%|█████▉    | 251/421 [08:28<03:23,  1.20s/it]"
     ]
    },
    {
     "name": "stdout",
     "output_type": "stream",
     "text": [
      "11.jpg done\n",
      "12.jpg done\n",
      "13.jpg done\n",
      "14.jpg done\n",
      "15.jpg done\n",
      "0.jpg done\n",
      "1.jpg done\n",
      "2.jpg done\n",
      "3.jpg done\n",
      "4.jpg done\n",
      "5.jpg done\n",
      "6.jpg done\n",
      "7.jpg done\n",
      "8.jpg done\n",
      "9.jpg done\n",
      "10.jpg done\n",
      "11.jpg done\n",
      "12.jpg done\n",
      "13.jpg done\n",
      "14.jpg done\n",
      "15.jpg done\n",
      "16.jpg done\n",
      "17.jpg done\n",
      "18.jpg done\n",
      "19.jpg done\n",
      "20.jpg done\n",
      "21.jpg done\n",
      "22.jpg done\n",
      "23.jpg done\n",
      "24.jpg done\n",
      "25.jpg done\n",
      "26.jpg done\n",
      "27.jpg done\n",
      "28.jpg done\n",
      "29.jpg done\n",
      "30.jpg done\n",
      "31.jpg done\n",
      "32.jpg done\n",
      "33.jpg done\n",
      "34.jpg done\n",
      "35.jpg done\n",
      "36.jpg done\n",
      "37.jpg done\n",
      "38.jpg done\n",
      "39.jpg done\n",
      "40.jpg done\n",
      "41.jpg done\n",
      "42.jpg done\n",
      "43.jpg done\n",
      "44.jpg done\n",
      "45.jpg done\n",
      "46.jpg done\n",
      "47.jpg done\n",
      "48.jpg done\n",
      "49.jpg done\n",
      "50.jpg done\n",
      "51.jpg done\n",
      "52.jpg done\n",
      "53.jpg done\n",
      "54.jpg done\n",
      "55.jpg done\n",
      "56.jpg done\n",
      "57.jpg done\n",
      "58.jpg done\n",
      "59.jpg done\n",
      "60.jpg done\n",
      "61.jpg done\n",
      "62.jpg done\n",
      "63.jpg done\n",
      "64.jpg done\n",
      "65.jpg done\n",
      "66.jpg done\n",
      "67.jpg done\n",
      "68.jpg done\n",
      "69.jpg done\n",
      "70.jpg done\n",
      "71.jpg done\n",
      "72.jpg done\n",
      "73.jpg done\n",
      "74.jpg done\n",
      "75.jpg done\n",
      "76.jpg done\n",
      "77.jpg done\n",
      "78.jpg done\n",
      "79.jpg done\n",
      "80.jpg done\n",
      "81.jpg done\n",
      "82.jpg done\n",
      "83.jpg done\n",
      "84.jpg done\n",
      "85.jpg done\n",
      "86.jpg done\n",
      "87.jpg done\n",
      "88.jpg done\n"
     ]
    },
    {
     "name": "stderr",
     "output_type": "stream",
     "text": [
      " 60%|█████▉    | 252/421 [08:33<05:50,  2.08s/it]"
     ]
    },
    {
     "name": "stdout",
     "output_type": "stream",
     "text": [
      "0.jpg done\n",
      "1.jpg done\n",
      "2.jpg done\n",
      "3.jpg done\n",
      "4.jpg done\n",
      "5.jpg done\n",
      "6.jpg done\n",
      "7.jpg done\n",
      "8.jpg done\n",
      "9.jpg done\n",
      "10.jpg done\n",
      "11.jpg done\n",
      "12.jpg done\n",
      "13.jpg done\n",
      "14.jpg done\n",
      "15.jpg done\n",
      "16.jpg done\n",
      "17.jpg done\n",
      "18.jpg done\n",
      "19.jpg done\n",
      "20.jpg done\n",
      "21.jpg done\n",
      "22.jpg done\n",
      "23.jpg done\n",
      "24.jpg done\n",
      "25.jpg done\n",
      "26.jpg done\n",
      "27.jpg done\n",
      "28.jpg done\n",
      "29.jpg done\n",
      "30.jpg done\n",
      "31.jpg done\n",
      "32.jpg done\n",
      "33.jpg done\n",
      "34.jpg done\n",
      "35.jpg done\n",
      "36.jpg done\n",
      "37.jpg done\n",
      "38.jpg done\n",
      "39.jpg done\n",
      "40.jpg done\n",
      "41.jpg done\n",
      "42.jpg done\n",
      "43.jpg done\n",
      "44.jpg done\n",
      "45.jpg done\n",
      "46.jpg done\n",
      "47.jpg done\n",
      "48.jpg done\n",
      "49.jpg done\n",
      "50.jpg done\n",
      "51.jpg done\n",
      "52.jpg done\n",
      "53.jpg done\n",
      "54.jpg done\n",
      "55.jpg done\n",
      "56.jpg done\n",
      "57.jpg done\n",
      "58.jpg done\n",
      "59.jpg done\n",
      "60.jpg done\n",
      "61.jpg done\n",
      "62.jpg done\n",
      "63.jpg done\n",
      "64.jpg done\n",
      "65.jpg done\n",
      "66.jpg done\n",
      "67.jpg done\n",
      "68.jpg done\n",
      "69.jpg done\n",
      "70.jpg done\n",
      "71.jpg done\n",
      "72.jpg done\n",
      "73.jpg done\n",
      "74.jpg done\n",
      "75.jpg done\n",
      "76.jpg done\n",
      "77.jpg done\n",
      "78.jpg done\n",
      "79.jpg done\n",
      "80.jpg done\n",
      "81.jpg done\n",
      "82.jpg done\n",
      "83.jpg done\n",
      "84.jpg done\n",
      "85.jpg done\n",
      "86.jpg done\n",
      "87.jpg done\n",
      "88.jpg done\n",
      "89.jpg done\n",
      "90.jpg done\n",
      "91.jpg done\n",
      "92.jpg done\n",
      "93.jpg done\n",
      "94.jpg done\n",
      "95.jpg done\n",
      "96.jpg done\n",
      "97.jpg done\n",
      "98.jpg done\n",
      "99.jpg done\n",
      "100.jpg done\n",
      "101.jpg done\n",
      "102.jpg done\n",
      "103.jpg done\n",
      "104.jpg done\n",
      "105.jpg done\n",
      "106.jpg done\n",
      "107.jpg done\n",
      "108.jpg done\n",
      "109.jpg done\n",
      "110.jpg done\n",
      "111.jpg done\n",
      "112.jpg done\n",
      "113.jpg done\n",
      "114.jpg done\n",
      "115.jpg done\n",
      "116.jpg done\n",
      "117.jpg done\n",
      "118.jpg done\n",
      "119.jpg done\n",
      "120.jpg done\n",
      "121.jpg done\n",
      "122.jpg done\n",
      "123.jpg done\n",
      "124.jpg done\n",
      "125.jpg done\n"
     ]
    },
    {
     "name": "stderr",
     "output_type": "stream",
     "text": [
      " 60%|██████    | 253/421 [08:38<08:51,  3.17s/it]"
     ]
    },
    {
     "name": "stdout",
     "output_type": "stream",
     "text": [
      "126.jpg done\n",
      "127.jpg done\n",
      "128.jpg done\n",
      "129.jpg done\n",
      "130.jpg done\n",
      "0.jpg done\n",
      "1.jpg done\n",
      "2.jpg done\n",
      "3.jpg done\n",
      "4.jpg done\n",
      "5.jpg done\n",
      "6.jpg done\n",
      "7.jpg done\n",
      "8.jpg done\n",
      "9.jpg done\n",
      "10.jpg done\n",
      "11.jpg done\n",
      "12.jpg done\n",
      "13.jpg done\n",
      "14.jpg done\n",
      "15.jpg done\n",
      "16.jpg done\n",
      "17.jpg done\n",
      "18.jpg done\n",
      "19.jpg done\n",
      "20.jpg done\n",
      "21.jpg done\n",
      "22.jpg done\n",
      "23.jpg done\n",
      "24.jpg done\n",
      "25.jpg done\n",
      "26.jpg done\n",
      "27.jpg done\n",
      "28.jpg done\n",
      "29.jpg done\n",
      "30.jpg done\n",
      "31.jpg done\n",
      "32.jpg done\n",
      "33.jpg done\n",
      "34.jpg done\n",
      "35.jpg done\n",
      "36.jpg done\n",
      "37.jpg done\n",
      "38.jpg done\n",
      "39.jpg done\n",
      "40.jpg done\n",
      "41.jpg done\n",
      "42.jpg done\n",
      "43.jpg done\n",
      "44.jpg done\n",
      "45.jpg done\n",
      "46.jpg done\n",
      "47.jpg done\n",
      "48.jpg done\n",
      "49.jpg done\n",
      "50.jpg done\n",
      "51.jpg done\n",
      "52.jpg done\n",
      "53.jpg done\n",
      "54.jpg done\n",
      "55.jpg done\n",
      "56.jpg done\n",
      "57.jpg done\n",
      "58.jpg done\n",
      "59.jpg done\n",
      "60.jpg done\n",
      "61.jpg done\n",
      "62.jpg done\n",
      "63.jpg done\n",
      "64.jpg done\n",
      "65.jpg done\n",
      "66.jpg done\n",
      "67.jpg done\n",
      "68.jpg done\n",
      "69.jpg done\n",
      "70.jpg done\n",
      "71.jpg done\n",
      "72.jpg done\n",
      "73.jpg done\n",
      "74.jpg done\n",
      "75.jpg done\n",
      "76.jpg done\n",
      "77.jpg done\n",
      "78.jpg done\n",
      "79.jpg done\n",
      "80.jpg done\n",
      "81.jpg done\n",
      "82.jpg done\n",
      "83.jpg done\n",
      "84.jpg done\n",
      "85.jpg done\n",
      "86.jpg done\n",
      "87.jpg done\n",
      "88.jpg done\n",
      "89.jpg done\n",
      "90.jpg done\n",
      "91.jpg done\n",
      "92.jpg done\n",
      "93.jpg done\n",
      "94.jpg done\n",
      "95.jpg done\n",
      "96.jpg done\n",
      "97.jpg done\n",
      "98.jpg done\n",
      "99.jpg done\n",
      "100.jpg done\n",
      "101.jpg done\n",
      "102.jpg done\n",
      "103.jpg done\n",
      "104.jpg done\n",
      "105.jpg done\n",
      "106.jpg done\n",
      "107.jpg done\n",
      "108.jpg done\n",
      "109.jpg done\n",
      "110.jpg done\n",
      "111.jpg done\n",
      "112.jpg done\n",
      "113.jpg done\n",
      "114.jpg done\n",
      "115.jpg done\n",
      "116.jpg done\n",
      "117.jpg done\n",
      "118.jpg done\n",
      "119.jpg done\n",
      "120.jpg done\n",
      "121.jpg done\n",
      "122.jpg done\n",
      "123.jpg done\n",
      "124.jpg done\n"
     ]
    },
    {
     "name": "stderr",
     "output_type": "stream",
     "text": [
      " 60%|██████    | 254/421 [08:44<10:55,  3.93s/it]"
     ]
    },
    {
     "name": "stdout",
     "output_type": "stream",
     "text": [
      "125.jpg done\n",
      "126.jpg done\n",
      "127.jpg done\n",
      "128.jpg done\n",
      "129.jpg done\n",
      "0.jpg done\n",
      "1.jpg done\n",
      "2.jpg done\n",
      "3.jpg done\n",
      "4.jpg done\n",
      "5.jpg done\n",
      "6.jpg done\n",
      "7.jpg done\n",
      "8.jpg done\n",
      "9.jpg done\n",
      "10.jpg done\n",
      "11.jpg done\n",
      "12.jpg done\n",
      "13.jpg done\n",
      "14.jpg done\n"
     ]
    },
    {
     "name": "stderr",
     "output_type": "stream",
     "text": [
      " 61%|██████    | 255/421 [08:45<08:12,  2.97s/it]"
     ]
    },
    {
     "name": "stdout",
     "output_type": "stream",
     "text": [
      "15.jpg done\n",
      "0.jpg done\n",
      "1.jpg done\n",
      "2.jpg done\n",
      "3.jpg done\n",
      "4.jpg done\n",
      "5.jpg done\n",
      "6.jpg done\n",
      "7.jpg done\n",
      "8.jpg done\n",
      "9.jpg done\n",
      "10.jpg done\n",
      "11.jpg done\n",
      "12.jpg done\n",
      "13.jpg done\n",
      "14.jpg done\n",
      "15.jpg done\n",
      "16.jpg done\n",
      "17.jpg done\n",
      "18.jpg done\n",
      "19.jpg done\n",
      "20.jpg done\n",
      "21.jpg done\n",
      "22.jpg done\n",
      "23.jpg done\n",
      "24.jpg done\n",
      "25.jpg done\n",
      "26.jpg done\n",
      "27.jpg done\n",
      "28.jpg done\n",
      "29.jpg done\n",
      "30.jpg done\n",
      "31.jpg done\n",
      "32.jpg done\n",
      "33.jpg done\n",
      "34.jpg done\n",
      "35.jpg done\n",
      "36.jpg done\n",
      "37.jpg done\n",
      "38.jpg done\n",
      "39.jpg done\n",
      "40.jpg done\n",
      "41.jpg done\n",
      "42.jpg done\n",
      "43.jpg done\n",
      "44.jpg done\n",
      "45.jpg done\n",
      "46.jpg done\n",
      "47.jpg done\n"
     ]
    },
    {
     "name": "stderr",
     "output_type": "stream",
     "text": [
      " 61%|██████    | 256/421 [08:47<07:32,  2.74s/it]"
     ]
    },
    {
     "name": "stdout",
     "output_type": "stream",
     "text": [
      "48.jpg done\n",
      "49.jpg done\n",
      "0.jpg done\n",
      "1.jpg done\n",
      "2.jpg done\n",
      "3.jpg done\n",
      "4.jpg done\n",
      "5.jpg done\n",
      "6.jpg done\n",
      "7.jpg done\n",
      "8.jpg done\n",
      "9.jpg done\n",
      "10.jpg done\n",
      "11.jpg done\n",
      "12.jpg done\n",
      "13.jpg done\n",
      "14.jpg done\n",
      "15.jpg done\n",
      "16.jpg done\n",
      "17.jpg done\n",
      "18.jpg done\n",
      "19.jpg done\n",
      "20.jpg done\n",
      "21.jpg done\n",
      "22.jpg done\n",
      "23.jpg done\n",
      "24.jpg done\n",
      "25.jpg done\n",
      "26.jpg done\n",
      "27.jpg done\n",
      "28.jpg done\n",
      "29.jpg done\n",
      "30.jpg done\n",
      "31.jpg done\n",
      "32.jpg done\n",
      "33.jpg done\n",
      "34.jpg done\n",
      "35.jpg done\n",
      "36.jpg done\n",
      "37.jpg done\n",
      "38.jpg done\n",
      "39.jpg done\n",
      "40.jpg done\n",
      "41.jpg done\n",
      "42.jpg done\n",
      "43.jpg done\n",
      "44.jpg done\n",
      "45.jpg done\n",
      "46.jpg done\n",
      "47.jpg done\n",
      "48.jpg done\n",
      "49.jpg done\n",
      "50.jpg done\n",
      "51.jpg done\n",
      "52.jpg done\n",
      "53.jpg done\n",
      "54.jpg done\n",
      "55.jpg done\n",
      "56.jpg done\n",
      "57.jpg done\n",
      "58.jpg done\n",
      "59.jpg done\n",
      "60.jpg done\n",
      "61.jpg done\n",
      "62.jpg done\n",
      "63.jpg done\n",
      "64.jpg done\n",
      "65.jpg done\n",
      "66.jpg done\n",
      "67.jpg done\n",
      "68.jpg done\n",
      "69.jpg done\n",
      "70.jpg done\n",
      "71.jpg done\n",
      "72.jpg done\n",
      "73.jpg done\n",
      "74.jpg done\n",
      "75.jpg done\n",
      "76.jpg done\n",
      "77.jpg done\n",
      "78.jpg done\n",
      "79.jpg done\n",
      "80.jpg done\n",
      "81.jpg done\n"
     ]
    },
    {
     "name": "stderr",
     "output_type": "stream",
     "text": [
      " 61%|██████    | 257/421 [08:51<08:24,  3.08s/it]"
     ]
    },
    {
     "name": "stdout",
     "output_type": "stream",
     "text": [
      "82.jpg done\n",
      "83.jpg done\n",
      "84.jpg done\n",
      "85.jpg done\n",
      "0.jpg done\n",
      "1.jpg done\n",
      "2.jpg done\n",
      "3.jpg done\n",
      "4.jpg done\n",
      "5.jpg done\n",
      "6.jpg done\n",
      "7.jpg done\n",
      "8.jpg done\n",
      "9.jpg done\n",
      "10.jpg done\n",
      "11.jpg done\n",
      "12.jpg done\n",
      "13.jpg done\n",
      "14.jpg done\n",
      "15.jpg done\n",
      "16.jpg done\n",
      "17.jpg done\n",
      "18.jpg done\n",
      "19.jpg done\n",
      "20.jpg done\n",
      "21.jpg done\n",
      "22.jpg done\n",
      "23.jpg done\n",
      "24.jpg done\n",
      "25.jpg done\n",
      "26.jpg done\n",
      "27.jpg done\n",
      "28.jpg done\n",
      "29.jpg done\n",
      "30.jpg done\n",
      "31.jpg done\n",
      "32.jpg done\n",
      "33.jpg done\n",
      "34.jpg done\n",
      "35.jpg done\n",
      "36.jpg done\n",
      "37.jpg done\n",
      "38.jpg done\n",
      "39.jpg done\n",
      "40.jpg done\n",
      "41.jpg done\n",
      "42.jpg done\n",
      "43.jpg done\n",
      "44.jpg done\n",
      "45.jpg done\n",
      "46.jpg done\n",
      "47.jpg done\n",
      "48.jpg done\n",
      "49.jpg done\n",
      "50.jpg done\n",
      "51.jpg done\n",
      "52.jpg done\n",
      "53.jpg done\n",
      "54.jpg done\n",
      "55.jpg done\n",
      "56.jpg done\n"
     ]
    },
    {
     "name": "stderr",
     "output_type": "stream",
     "text": [
      " 61%|██████▏   | 258/421 [08:54<08:12,  3.02s/it]"
     ]
    },
    {
     "name": "stdout",
     "output_type": "stream",
     "text": [
      "57.jpg done\n",
      "58.jpg done\n",
      "59.jpg done\n",
      "60.jpg done\n",
      "0.jpg done\n",
      "1.jpg done\n",
      "2.jpg done\n",
      "3.jpg done\n",
      "4.jpg done\n",
      "5.jpg done\n",
      "6.jpg done\n",
      "7.jpg done\n",
      "8.jpg done\n",
      "9.jpg done\n",
      "10.jpg done\n",
      "11.jpg done\n",
      "12.jpg done\n",
      "13.jpg done\n",
      "14.jpg done\n",
      "15.jpg done\n",
      "16.jpg done\n",
      "17.jpg done\n",
      "18.jpg done\n",
      "19.jpg done\n",
      "20.jpg done\n",
      "21.jpg done\n",
      "22.jpg done\n",
      "23.jpg done\n",
      "24.jpg done\n",
      "25.jpg done\n",
      "26.jpg done\n",
      "27.jpg done\n",
      "28.jpg done\n",
      "29.jpg done\n",
      "30.jpg done\n",
      "31.jpg done\n",
      "32.jpg done\n",
      "33.jpg done\n",
      "34.jpg done\n",
      "35.jpg done\n",
      "36.jpg done\n",
      "37.jpg done\n",
      "38.jpg done\n",
      "39.jpg done\n",
      "40.jpg done\n",
      "41.jpg done\n",
      "42.jpg done\n",
      "43.jpg done\n",
      "44.jpg done\n",
      "45.jpg done\n",
      "46.jpg done\n",
      "47.jpg done\n",
      "48.jpg done\n",
      "49.jpg done\n",
      "50.jpg done\n",
      "51.jpg done\n",
      "52.jpg done\n",
      "53.jpg done\n",
      "54.jpg done\n",
      "55.jpg done\n",
      "56.jpg done\n",
      "57.jpg done\n",
      "58.jpg done\n",
      "59.jpg done\n",
      "60.jpg done\n",
      "61.jpg done\n",
      "62.jpg done\n",
      "63.jpg done\n",
      "64.jpg done\n",
      "65.jpg done\n",
      "66.jpg done\n",
      "67.jpg done\n",
      "68.jpg done\n",
      "69.jpg done\n",
      "70.jpg done\n",
      "71.jpg done\n",
      "72.jpg done\n",
      "73.jpg done\n",
      "74.jpg done\n",
      "75.jpg done\n",
      "76.jpg done\n",
      "77.jpg done\n",
      "78.jpg done\n",
      "79.jpg done\n",
      "80.jpg done\n",
      "81.jpg done\n",
      "82.jpg done\n",
      "83.jpg done\n",
      "84.jpg done\n",
      "85.jpg done\n",
      "86.jpg done\n",
      "87.jpg done\n",
      "88.jpg done\n",
      "89.jpg done\n",
      "90.jpg done\n",
      "91.jpg done\n",
      "92.jpg done\n",
      "93.jpg done\n",
      "94.jpg done\n",
      "95.jpg done\n",
      "96.jpg done\n",
      "97.jpg done\n",
      "98.jpg done\n",
      "99.jpg done\n",
      "100.jpg done\n",
      "101.jpg done\n",
      "102.jpg done\n",
      "103.jpg done\n",
      "104.jpg done\n",
      "105.jpg done\n",
      "106.jpg done\n",
      "107.jpg done\n",
      "108.jpg done\n",
      "109.jpg done\n",
      "110.jpg done\n",
      "111.jpg done\n",
      "112.jpg done\n",
      "113.jpg done\n",
      "114.jpg done\n",
      "115.jpg done\n",
      "116.jpg done\n",
      "117.jpg done\n",
      "118.jpg done\n",
      "119.jpg done\n",
      "120.jpg done\n",
      "121.jpg done\n",
      "122.jpg done\n",
      "123.jpg done\n",
      "124.jpg done\n",
      "125.jpg done\n",
      "126.jpg done\n",
      "127.jpg done\n",
      "128.jpg done\n",
      "129.jpg done\n",
      "130.jpg done\n",
      "131.jpg done\n",
      "132.jpg done\n",
      "133.jpg done\n",
      "134.jpg done\n",
      "135.jpg done\n",
      "136.jpg done\n",
      "137.jpg done\n",
      "138.jpg done\n",
      "139.jpg done\n",
      "140.jpg done\n",
      "141.jpg done\n",
      "142.jpg done\n",
      "143.jpg done\n",
      "144.jpg done\n",
      "145.jpg done\n",
      "146.jpg done\n",
      "147.jpg done\n",
      "148.jpg done\n",
      "149.jpg done\n",
      "150.jpg done\n",
      "151.jpg done\n",
      "152.jpg done\n",
      "153.jpg done\n",
      "154.jpg done\n",
      "155.jpg done\n",
      "156.jpg done\n",
      "157.jpg done\n",
      "158.jpg done\n",
      "159.jpg done\n",
      "160.jpg done\n",
      "161.jpg done\n",
      "162.jpg done\n",
      "163.jpg done\n",
      "164.jpg done\n",
      "165.jpg done\n",
      "166.jpg done\n",
      "167.jpg done\n",
      "168.jpg done\n",
      "169.jpg done\n",
      "170.jpg done\n",
      "171.jpg done\n",
      "172.jpg done\n",
      "173.jpg done\n",
      "174.jpg done\n",
      "175.jpg done\n",
      "176.jpg done\n",
      "177.jpg done\n",
      "178.jpg done\n",
      "179.jpg done\n",
      "180.jpg done\n",
      "181.jpg done\n",
      "182.jpg done\n",
      "183.jpg done\n",
      "184.jpg done\n",
      "185.jpg done\n",
      "186.jpg done\n",
      "187.jpg done\n",
      "188.jpg done\n",
      "189.jpg done\n",
      "190.jpg done\n",
      "191.jpg done\n",
      "192.jpg done\n",
      "193.jpg done\n",
      "194.jpg done\n",
      "195.jpg done\n",
      "196.jpg done\n",
      "197.jpg done\n",
      "198.jpg done\n",
      "199.jpg done\n",
      "200.jpg done\n",
      "201.jpg done\n",
      "202.jpg done\n",
      "203.jpg done\n",
      "204.jpg done\n",
      "205.jpg done\n",
      "206.jpg done\n",
      "207.jpg done\n",
      "208.jpg done\n",
      "209.jpg done\n",
      "210.jpg done\n",
      "211.jpg done\n",
      "212.jpg done\n",
      "213.jpg done\n",
      "214.jpg done\n",
      "215.jpg done\n",
      "216.jpg done\n"
     ]
    },
    {
     "name": "stderr",
     "output_type": "stream",
     "text": [
      " 62%|██████▏   | 259/421 [09:04<14:06,  5.22s/it]"
     ]
    },
    {
     "name": "stdout",
     "output_type": "stream",
     "text": [
      "0.jpg done\n",
      "1.jpg done\n",
      "2.jpg done\n",
      "3.jpg done\n",
      "4.jpg done\n",
      "5.jpg done\n",
      "6.jpg done\n",
      "7.jpg done\n",
      "8.jpg done\n",
      "9.jpg done\n",
      "10.jpg done\n",
      "11.jpg done\n",
      "12.jpg done\n",
      "13.jpg done\n",
      "14.jpg done\n",
      "15.jpg done\n",
      "16.jpg done\n",
      "17.jpg done\n",
      "18.jpg done\n",
      "19.jpg done\n",
      "20.jpg done\n",
      "21.jpg done\n",
      "22.jpg done\n",
      "23.jpg done\n",
      "24.jpg done\n",
      "25.jpg done\n",
      "26.jpg done\n",
      "27.jpg done\n",
      "28.jpg done\n",
      "29.jpg done\n",
      "30.jpg done\n",
      "31.jpg done\n",
      "32.jpg done\n",
      "33.jpg done\n",
      "34.jpg done\n",
      "35.jpg done\n",
      "36.jpg done\n",
      "37.jpg done\n",
      "38.jpg done\n",
      "39.jpg done\n",
      "40.jpg done\n",
      "41.jpg done\n",
      "42.jpg done\n",
      "43.jpg done\n",
      "44.jpg done\n",
      "45.jpg done\n",
      "46.jpg done\n",
      "47.jpg done\n",
      "48.jpg done\n",
      "49.jpg done\n",
      "50.jpg done\n",
      "51.jpg done\n",
      "52.jpg done\n",
      "53.jpg done\n",
      "54.jpg done\n",
      "55.jpg done\n",
      "56.jpg done\n",
      "57.jpg done\n",
      "58.jpg done\n",
      "59.jpg done\n",
      "60.jpg done\n",
      "61.jpg done\n",
      "62.jpg done\n",
      "63.jpg done\n",
      "64.jpg done\n"
     ]
    },
    {
     "name": "stderr",
     "output_type": "stream",
     "text": [
      " 62%|██████▏   | 260/421 [09:07<12:15,  4.57s/it]"
     ]
    },
    {
     "name": "stdout",
     "output_type": "stream",
     "text": [
      "65.jpg done\n",
      "0.jpg done\n",
      "1.jpg done\n",
      "2.jpg done\n",
      "3.jpg done\n",
      "4.jpg done\n",
      "5.jpg done\n",
      "6.jpg done\n",
      "7.jpg done\n",
      "8.jpg done\n",
      "9.jpg done\n",
      "10.jpg done\n",
      "11.jpg done\n",
      "12.jpg done\n",
      "13.jpg done\n",
      "14.jpg done\n",
      "15.jpg done\n",
      "16.jpg done\n",
      "17.jpg done\n",
      "18.jpg done\n",
      "19.jpg done\n",
      "20.jpg done\n",
      "21.jpg done\n",
      "22.jpg done\n",
      "23.jpg done\n",
      "24.jpg done\n",
      "25.jpg done\n",
      "26.jpg done\n",
      "27.jpg done\n",
      "28.jpg done\n",
      "29.jpg done\n",
      "30.jpg done\n",
      "31.jpg done\n",
      "32.jpg done\n",
      "33.jpg done\n",
      "34.jpg done\n",
      "35.jpg done\n",
      "36.jpg done\n",
      "37.jpg done\n",
      "38.jpg done\n",
      "39.jpg done\n",
      "40.jpg done\n",
      "41.jpg done\n",
      "42.jpg done\n",
      "43.jpg done\n",
      "44.jpg done\n",
      "45.jpg done\n",
      "46.jpg done\n",
      "47.jpg done\n",
      "48.jpg done\n",
      "49.jpg done\n",
      "50.jpg done\n",
      "51.jpg done\n",
      "52.jpg done\n",
      "53.jpg done\n",
      "54.jpg done\n",
      "55.jpg done\n",
      "56.jpg done\n",
      "57.jpg done\n",
      "58.jpg done\n",
      "59.jpg done\n",
      "60.jpg done\n",
      "61.jpg done\n",
      "62.jpg done\n",
      "63.jpg done\n",
      "64.jpg done\n",
      "65.jpg done\n",
      "66.jpg done\n",
      "67.jpg done\n",
      "68.jpg done\n",
      "69.jpg done\n",
      "70.jpg done\n",
      "71.jpg done\n",
      "72.jpg done\n",
      "73.jpg done\n",
      "74.jpg done\n",
      "75.jpg done\n",
      "76.jpg done\n",
      "77.jpg done\n",
      "78.jpg done\n",
      "79.jpg done\n",
      "80.jpg done\n",
      "81.jpg done\n",
      "82.jpg done\n",
      "83.jpg done\n",
      "84.jpg done\n",
      "85.jpg done\n",
      "86.jpg done\n",
      "87.jpg done\n",
      "88.jpg done\n",
      "89.jpg done\n",
      "90.jpg done\n",
      "91.jpg done\n",
      "92.jpg done\n",
      "93.jpg done\n",
      "94.jpg done\n",
      "95.jpg done\n",
      "96.jpg done\n",
      "97.jpg done\n",
      "98.jpg done\n",
      "99.jpg done\n",
      "100.jpg done\n",
      "101.jpg done\n",
      "102.jpg done\n",
      "103.jpg done\n",
      "104.jpg done\n",
      "105.jpg done\n",
      "106.jpg done\n",
      "107.jpg done\n",
      "108.jpg done\n",
      "109.jpg done\n",
      "110.jpg done\n",
      "111.jpg done\n",
      "112.jpg done\n",
      "113.jpg done\n",
      "114.jpg done\n",
      "115.jpg done\n",
      "116.jpg done\n",
      "117.jpg done\n",
      "118.jpg done\n",
      "119.jpg done\n",
      "120.jpg done\n",
      "121.jpg done\n",
      "122.jpg done\n",
      "123.jpg done\n",
      "124.jpg done\n",
      "125.jpg done\n",
      "126.jpg done\n",
      "127.jpg done\n",
      "128.jpg done\n",
      "129.jpg done\n",
      "130.jpg done\n",
      "131.jpg done\n",
      "132.jpg done\n",
      "133.jpg done\n",
      "134.jpg done\n",
      "135.jpg done\n",
      "136.jpg done\n",
      "137.jpg done\n",
      "138.jpg done\n",
      "139.jpg done\n",
      "140.jpg done\n",
      "141.jpg done\n",
      "142.jpg done\n",
      "143.jpg done\n",
      "144.jpg done\n",
      "145.jpg done\n",
      "146.jpg done\n",
      "147.jpg done\n",
      "148.jpg done\n",
      "149.jpg done\n",
      "150.jpg done\n",
      "151.jpg done\n",
      "152.jpg done\n",
      "153.jpg done\n",
      "154.jpg done\n",
      "155.jpg done\n",
      "156.jpg done\n",
      "157.jpg done\n",
      "158.jpg done\n",
      "159.jpg done\n",
      "160.jpg done\n",
      "161.jpg done\n",
      "162.jpg done\n",
      "163.jpg done\n",
      "164.jpg done\n",
      "165.jpg done\n",
      "166.jpg done\n",
      "167.jpg done\n",
      "168.jpg done\n",
      "169.jpg done\n",
      "170.jpg done\n",
      "171.jpg done\n",
      "172.jpg done\n",
      "173.jpg done\n",
      "174.jpg done\n",
      "175.jpg done\n",
      "176.jpg done\n",
      "177.jpg done\n",
      "178.jpg done\n",
      "179.jpg done\n",
      "180.jpg done\n",
      "181.jpg done\n",
      "182.jpg done\n",
      "183.jpg done\n",
      "184.jpg done\n",
      "185.jpg done\n",
      "186.jpg done\n",
      "187.jpg done\n",
      "188.jpg done\n",
      "189.jpg done\n",
      "190.jpg done\n",
      "191.jpg done\n",
      "192.jpg done\n",
      "193.jpg done\n",
      "194.jpg done\n",
      "195.jpg done\n",
      "196.jpg done\n",
      "197.jpg done\n",
      "198.jpg done\n",
      "199.jpg done\n",
      "200.jpg done\n",
      "201.jpg done\n",
      "202.jpg done\n",
      "203.jpg done\n",
      "204.jpg done\n",
      "205.jpg done\n",
      "206.jpg done\n",
      "207.jpg done\n",
      "208.jpg done\n",
      "209.jpg done\n",
      "210.jpg done\n",
      "211.jpg done\n",
      "212.jpg done\n",
      "213.jpg done\n",
      "214.jpg done\n",
      "215.jpg done\n",
      "216.jpg done\n",
      "217.jpg done\n",
      "218.jpg done\n",
      "219.jpg done\n",
      "220.jpg done\n",
      "221.jpg done\n",
      "222.jpg done\n",
      "223.jpg done\n",
      "224.jpg done\n",
      "225.jpg done\n",
      "226.jpg done\n",
      "227.jpg done\n",
      "228.jpg done\n",
      "229.jpg done\n",
      "230.jpg done\n",
      "231.jpg done\n",
      "232.jpg done\n",
      "233.jpg done\n",
      "234.jpg done\n",
      "235.jpg done\n",
      "236.jpg done\n",
      "237.jpg done\n",
      "238.jpg done\n",
      "239.jpg done\n",
      "240.jpg done\n",
      "241.jpg done\n",
      "242.jpg done\n",
      "243.jpg done\n",
      "244.jpg done\n",
      "245.jpg done\n",
      "246.jpg done\n",
      "247.jpg done\n",
      "248.jpg done\n",
      "249.jpg done\n",
      "250.jpg done\n",
      "251.jpg done\n",
      "252.jpg done\n",
      "253.jpg done\n",
      "254.jpg done\n",
      "255.jpg done\n",
      "256.jpg done\n",
      "257.jpg done\n",
      "258.jpg done\n",
      "259.jpg done\n",
      "260.jpg done\n",
      "261.jpg done\n",
      "262.jpg done\n",
      "263.jpg done\n",
      "264.jpg done\n",
      "265.jpg done\n",
      "266.jpg done\n",
      "267.jpg done\n",
      "268.jpg done\n",
      "269.jpg done\n",
      "270.jpg done\n",
      "271.jpg done\n",
      "272.jpg done\n",
      "273.jpg done\n",
      "274.jpg done\n",
      "275.jpg done\n",
      "276.jpg done\n",
      "277.jpg done\n",
      "278.jpg done\n",
      "279.jpg done\n",
      "280.jpg done\n",
      "281.jpg done\n",
      "282.jpg done\n",
      "283.jpg done\n",
      "284.jpg done\n",
      "285.jpg done\n",
      "286.jpg done\n",
      "287.jpg done\n",
      "288.jpg done\n",
      "289.jpg done\n",
      "290.jpg done\n",
      "291.jpg done\n",
      "292.jpg done\n",
      "293.jpg done\n",
      "294.jpg done\n",
      "295.jpg done\n",
      "296.jpg done\n",
      "297.jpg done\n",
      "298.jpg done\n"
     ]
    },
    {
     "name": "stderr",
     "output_type": "stream",
     "text": [
      " 62%|██████▏   | 261/421 [09:21<19:55,  7.47s/it]"
     ]
    },
    {
     "name": "stdout",
     "output_type": "stream",
     "text": [
      "0.jpg done\n",
      "1.jpg done\n",
      "2.jpg done\n",
      "3.jpg done\n",
      "4.jpg done\n",
      "5.jpg done\n",
      "6.jpg done\n",
      "7.jpg done\n",
      "8.jpg done\n"
     ]
    },
    {
     "name": "stderr",
     "output_type": "stream",
     "text": [
      " 62%|██████▏   | 262/421 [09:22<14:23,  5.43s/it]"
     ]
    },
    {
     "name": "stdout",
     "output_type": "stream",
     "text": [
      "9.jpg done\n",
      "10.jpg done\n",
      "11.jpg done\n",
      "12.jpg done\n",
      "0.jpg done\n",
      "1.jpg done\n",
      "2.jpg done\n",
      "3.jpg done\n",
      "4.jpg done\n",
      "5.jpg done\n",
      "6.jpg done\n",
      "7.jpg done\n",
      "8.jpg done\n",
      "9.jpg done\n",
      "10.jpg done\n",
      "11.jpg done\n",
      "12.jpg done\n",
      "13.jpg done\n",
      "14.jpg done\n",
      "15.jpg done\n",
      "16.jpg done\n",
      "17.jpg done\n",
      "18.jpg done\n",
      "19.jpg done\n",
      "20.jpg done\n",
      "21.jpg done\n",
      "22.jpg done\n",
      "23.jpg done\n",
      "24.jpg done\n",
      "25.jpg done\n",
      "26.jpg done\n",
      "27.jpg done\n",
      "28.jpg done\n",
      "29.jpg done\n",
      "30.jpg done\n",
      "31.jpg done\n",
      "32.jpg done\n",
      "33.jpg done\n",
      "34.jpg done\n",
      "35.jpg done\n",
      "36.jpg done\n",
      "37.jpg done\n",
      "38.jpg done\n",
      "39.jpg done\n",
      "40.jpg done\n",
      "41.jpg done\n",
      "42.jpg done\n",
      "43.jpg done\n",
      "44.jpg done\n",
      "45.jpg done\n",
      "46.jpg done\n",
      "47.jpg done\n",
      "48.jpg done\n",
      "49.jpg done\n",
      "50.jpg done\n",
      "51.jpg done\n",
      "52.jpg done\n",
      "53.jpg done\n",
      "54.jpg done\n",
      "55.jpg done\n",
      "56.jpg done\n",
      "57.jpg done\n",
      "58.jpg done\n",
      "59.jpg done\n",
      "60.jpg done\n",
      "61.jpg done\n",
      "62.jpg done\n",
      "63.jpg done\n",
      "64.jpg done\n",
      "65.jpg done\n",
      "66.jpg done\n",
      "67.jpg done\n",
      "68.jpg done\n",
      "69.jpg done\n",
      "70.jpg done\n",
      "71.jpg done\n",
      "72.jpg done\n",
      "73.jpg done\n",
      "74.jpg done\n",
      "75.jpg done\n",
      "76.jpg done\n",
      "77.jpg done\n",
      "78.jpg done\n",
      "79.jpg done\n",
      "80.jpg done\n",
      "81.jpg done\n",
      "82.jpg done\n",
      "83.jpg done\n",
      "84.jpg done\n",
      "85.jpg done\n",
      "86.jpg done\n",
      "87.jpg done\n",
      "88.jpg done\n",
      "89.jpg done\n",
      "90.jpg done\n",
      "91.jpg done\n",
      "92.jpg done\n",
      "93.jpg done\n"
     ]
    },
    {
     "name": "stderr",
     "output_type": "stream",
     "text": [
      " 62%|██████▏   | 263/421 [09:27<13:44,  5.22s/it]"
     ]
    },
    {
     "name": "stdout",
     "output_type": "stream",
     "text": [
      "94.jpg done\n",
      "0.jpg done\n",
      "1.jpg done\n",
      "2.jpg done\n",
      "3.jpg done\n",
      "4.jpg done\n",
      "5.jpg done\n",
      "6.jpg done\n",
      "7.jpg done\n",
      "8.jpg done\n",
      "9.jpg done\n",
      "10.jpg done\n",
      "11.jpg done\n",
      "12.jpg done\n",
      "13.jpg done\n",
      "14.jpg done\n",
      "15.jpg done\n",
      "16.jpg done\n",
      "17.jpg done\n",
      "18.jpg done\n",
      "19.jpg done\n",
      "20.jpg done\n",
      "21.jpg done\n",
      "22.jpg done\n",
      "23.jpg done\n",
      "24.jpg done\n",
      "25.jpg done\n",
      "26.jpg done\n",
      "27.jpg done\n",
      "28.jpg done\n",
      "29.jpg done\n",
      "30.jpg done\n",
      "31.jpg done\n",
      "32.jpg done\n",
      "33.jpg done\n",
      "34.jpg done\n",
      "35.jpg done\n",
      "36.jpg done\n",
      "37.jpg done\n",
      "38.jpg done\n",
      "39.jpg done\n",
      "40.jpg done\n",
      "41.jpg done\n",
      "42.jpg done\n",
      "43.jpg done\n",
      "44.jpg done\n",
      "45.jpg done\n",
      "46.jpg done\n",
      "47.jpg done\n",
      "48.jpg done\n",
      "49.jpg done\n",
      "50.jpg done\n",
      "51.jpg done\n",
      "52.jpg done\n",
      "53.jpg done\n",
      "54.jpg done\n",
      "55.jpg done\n",
      "56.jpg done\n",
      "57.jpg done\n",
      "58.jpg done\n",
      "59.jpg done\n",
      "60.jpg done\n",
      "61.jpg done\n",
      "62.jpg done\n",
      "63.jpg done\n",
      "64.jpg done\n",
      "65.jpg done\n",
      "66.jpg done\n",
      "67.jpg done\n",
      "68.jpg done\n",
      "69.jpg done\n",
      "70.jpg done\n",
      "71.jpg done\n",
      "72.jpg done\n",
      "73.jpg done\n",
      "74.jpg done\n",
      "75.jpg done\n",
      "76.jpg done\n",
      "77.jpg done\n",
      "78.jpg done\n",
      "79.jpg done\n",
      "80.jpg done\n",
      "81.jpg done\n",
      "82.jpg done\n",
      "83.jpg done\n",
      "84.jpg done\n",
      "85.jpg done\n",
      "86.jpg done\n",
      "87.jpg done\n",
      "88.jpg done\n",
      "89.jpg done\n",
      "90.jpg done\n",
      "91.jpg done\n",
      "92.jpg done\n",
      "93.jpg done\n",
      "94.jpg done\n",
      "95.jpg done\n",
      "96.jpg done\n",
      "97.jpg done\n",
      "98.jpg done\n",
      "99.jpg done\n",
      "100.jpg done\n",
      "101.jpg done\n",
      "102.jpg done\n",
      "103.jpg done\n",
      "104.jpg done\n",
      "105.jpg done\n",
      "106.jpg done\n",
      "107.jpg done\n",
      "108.jpg done\n"
     ]
    },
    {
     "name": "stderr",
     "output_type": "stream",
     "text": [
      " 63%|██████▎   | 264/421 [09:32<13:47,  5.27s/it]"
     ]
    },
    {
     "name": "stdout",
     "output_type": "stream",
     "text": [
      "109.jpg done\n",
      "110.jpg done\n",
      "111.jpg done\n",
      "112.jpg done\n",
      "0.jpg done\n",
      "1.jpg done\n",
      "2.jpg done\n",
      "3.jpg done\n",
      "4.jpg done\n",
      "5.jpg done\n",
      "6.jpg done\n",
      "7.jpg done\n",
      "8.jpg done\n",
      "9.jpg done\n",
      "10.jpg done\n",
      "11.jpg done\n",
      "12.jpg done\n",
      "13.jpg done\n",
      "14.jpg done\n",
      "15.jpg done\n",
      "16.jpg done\n",
      "17.jpg done\n",
      "18.jpg done\n",
      "19.jpg done\n",
      "20.jpg done\n",
      "21.jpg done\n",
      "22.jpg done\n",
      "23.jpg done\n",
      "24.jpg done\n",
      "25.jpg done\n",
      "26.jpg done\n",
      "27.jpg done\n",
      "28.jpg done\n",
      "29.jpg done\n",
      "30.jpg done\n",
      "31.jpg done\n",
      "32.jpg done\n",
      "33.jpg done\n",
      "34.jpg done\n",
      "35.jpg done\n",
      "36.jpg done\n",
      "37.jpg done\n",
      "38.jpg done\n",
      "39.jpg done\n"
     ]
    },
    {
     "name": "stderr",
     "output_type": "stream",
     "text": [
      " 63%|██████▎   | 265/421 [09:34<11:05,  4.27s/it]"
     ]
    },
    {
     "name": "stdout",
     "output_type": "stream",
     "text": [
      "40.jpg done\n",
      "0.jpg done\n",
      "1.jpg done\n",
      "2.jpg done\n",
      "3.jpg done\n",
      "4.jpg done\n",
      "5.jpg done\n",
      "6.jpg done\n",
      "7.jpg done\n",
      "8.jpg done\n",
      "9.jpg done\n",
      "10.jpg done\n",
      "11.jpg done\n",
      "12.jpg done\n",
      "13.jpg done\n",
      "14.jpg done\n",
      "15.jpg done\n",
      "16.jpg done\n",
      "17.jpg done\n",
      "18.jpg done\n",
      "19.jpg done\n",
      "20.jpg done\n",
      "21.jpg done\n",
      "22.jpg done\n",
      "23.jpg done\n",
      "24.jpg done\n",
      "25.jpg done\n",
      "26.jpg done\n",
      "27.jpg done\n",
      "28.jpg done\n",
      "29.jpg done\n",
      "30.jpg done\n",
      "31.jpg done\n",
      "32.jpg done\n",
      "33.jpg done\n",
      "34.jpg done\n",
      "35.jpg done\n",
      "36.jpg done\n",
      "37.jpg done\n",
      "38.jpg done\n",
      "39.jpg done\n",
      "40.jpg done\n",
      "41.jpg done\n",
      "42.jpg done\n",
      "43.jpg done\n",
      "44.jpg done\n",
      "45.jpg done\n",
      "46.jpg done\n",
      "47.jpg done\n",
      "48.jpg done\n",
      "49.jpg done\n",
      "50.jpg done\n",
      "51.jpg done\n",
      "52.jpg done\n",
      "53.jpg done\n",
      "54.jpg done\n",
      "55.jpg done\n",
      "56.jpg done\n",
      "57.jpg done\n",
      "58.jpg done\n",
      "59.jpg done\n",
      "60.jpg done\n",
      "61.jpg done\n",
      "62.jpg done\n",
      "63.jpg done\n",
      "64.jpg done\n",
      "65.jpg done\n",
      "66.jpg done\n",
      "67.jpg done\n",
      "68.jpg done\n",
      "69.jpg done\n",
      "70.jpg done\n",
      "71.jpg done\n",
      "72.jpg done\n",
      "73.jpg done\n",
      "74.jpg done\n",
      "75.jpg done\n",
      "76.jpg done\n",
      "77.jpg done\n",
      "78.jpg done\n",
      "79.jpg done\n",
      "80.jpg done\n",
      "81.jpg done\n",
      "82.jpg done\n",
      "83.jpg done\n",
      "84.jpg done\n",
      "85.jpg done\n",
      "86.jpg done\n",
      "87.jpg done\n"
     ]
    },
    {
     "name": "stderr",
     "output_type": "stream",
     "text": [
      " 63%|██████▎   | 266/421 [09:38<10:52,  4.21s/it]"
     ]
    },
    {
     "name": "stdout",
     "output_type": "stream",
     "text": [
      "88.jpg done\n",
      "89.jpg done\n",
      "90.jpg done\n",
      "91.jpg done\n",
      "0.jpg done\n",
      "1.jpg done\n",
      "2.jpg done\n",
      "3.jpg done\n",
      "4.jpg done\n",
      "5.jpg done\n",
      "6.jpg done\n",
      "7.jpg done\n",
      "8.jpg done\n",
      "9.jpg done\n",
      "10.jpg done\n",
      "11.jpg done\n",
      "12.jpg done\n",
      "13.jpg done\n",
      "14.jpg done\n"
     ]
    },
    {
     "name": "stderr",
     "output_type": "stream",
     "text": [
      " 63%|██████▎   | 267/421 [09:39<08:17,  3.23s/it]"
     ]
    },
    {
     "name": "stdout",
     "output_type": "stream",
     "text": [
      "15.jpg done\n",
      "16.jpg done\n",
      "17.jpg done\n",
      "18.jpg done\n",
      "0.jpg done\n",
      "1.jpg done\n",
      "2.jpg done\n",
      "3.jpg done\n",
      "4.jpg done\n",
      "5.jpg done\n",
      "6.jpg done\n",
      "7.jpg done\n",
      "8.jpg done\n",
      "9.jpg done\n",
      "10.jpg done\n",
      "11.jpg done\n",
      "12.jpg done\n",
      "13.jpg done\n",
      "14.jpg done\n",
      "15.jpg done\n",
      "16.jpg done\n",
      "17.jpg done\n",
      "18.jpg done\n",
      "19.jpg done\n",
      "20.jpg done\n",
      "21.jpg done\n",
      "22.jpg done\n",
      "23.jpg done\n",
      "24.jpg done\n",
      "25.jpg done\n",
      "26.jpg done\n",
      "27.jpg done\n",
      "28.jpg done\n",
      "29.jpg done\n",
      "30.jpg done\n",
      "31.jpg done\n",
      "32.jpg done\n",
      "33.jpg done\n",
      "34.jpg done\n",
      "35.jpg done\n",
      "36.jpg done\n",
      "37.jpg done\n",
      "38.jpg done\n",
      "39.jpg done\n",
      "40.jpg done\n",
      "41.jpg done\n",
      "42.jpg done\n",
      "43.jpg done\n",
      "44.jpg done\n",
      "45.jpg done\n",
      "46.jpg done\n",
      "47.jpg done\n",
      "48.jpg done\n",
      "49.jpg done\n",
      "50.jpg done\n",
      "51.jpg done\n",
      "52.jpg done\n",
      "53.jpg done\n",
      "54.jpg done\n"
     ]
    },
    {
     "name": "stderr",
     "output_type": "stream",
     "text": [
      " 64%|██████▎   | 268/421 [09:42<07:47,  3.05s/it]"
     ]
    },
    {
     "name": "stdout",
     "output_type": "stream",
     "text": [
      "55.jpg done\n",
      "56.jpg done\n",
      "57.jpg done\n",
      "58.jpg done\n",
      "0.jpg done\n",
      "1.jpg done\n",
      "2.jpg done\n",
      "3.jpg done\n",
      "4.jpg done\n",
      "5.jpg done\n",
      "6.jpg done\n",
      "7.jpg done\n",
      "8.jpg done\n",
      "9.jpg done\n",
      "10.jpg done\n",
      "11.jpg done\n",
      "12.jpg done\n",
      "13.jpg done\n",
      "14.jpg done\n",
      "15.jpg done\n",
      "16.jpg done\n",
      "17.jpg done\n",
      "18.jpg done\n",
      "19.jpg done\n"
     ]
    },
    {
     "name": "stderr",
     "output_type": "stream",
     "text": [
      " 64%|██████▍   | 269/421 [09:43<06:15,  2.47s/it]"
     ]
    },
    {
     "name": "stdout",
     "output_type": "stream",
     "text": [
      "20.jpg done\n",
      "21.jpg done\n",
      "22.jpg done\n",
      "0.jpg done\n",
      "1.jpg done\n",
      "2.jpg done\n",
      "3.jpg done\n",
      "4.jpg done\n",
      "5.jpg done\n",
      "6.jpg done\n",
      "7.jpg done\n",
      "8.jpg done\n",
      "9.jpg done\n",
      "10.jpg done\n",
      "11.jpg done\n",
      "12.jpg done\n",
      "13.jpg done\n",
      "14.jpg done\n",
      "15.jpg done\n",
      "16.jpg done\n",
      "17.jpg done\n",
      "18.jpg done\n",
      "19.jpg done\n",
      "20.jpg done\n",
      "21.jpg done\n",
      "22.jpg done\n",
      "23.jpg done\n",
      "24.jpg done\n",
      "25.jpg done\n",
      "26.jpg done\n",
      "27.jpg done\n",
      "28.jpg done\n",
      "29.jpg done\n",
      "30.jpg done\n",
      "31.jpg done\n",
      "32.jpg done\n",
      "33.jpg done\n",
      "34.jpg done\n",
      "35.jpg done\n"
     ]
    },
    {
     "name": "stderr",
     "output_type": "stream",
     "text": [
      " 64%|██████▍   | 270/421 [09:45<05:40,  2.26s/it]"
     ]
    },
    {
     "name": "stdout",
     "output_type": "stream",
     "text": [
      "36.jpg done\n",
      "37.jpg done\n",
      "0.jpg done\n",
      "1.jpg done\n",
      "2.jpg done\n",
      "3.jpg done\n",
      "4.jpg done\n",
      "5.jpg done\n",
      "6.jpg done\n",
      "7.jpg done\n",
      "8.jpg done\n",
      "9.jpg done\n",
      "10.jpg done\n",
      "11.jpg done\n",
      "12.jpg done\n",
      "13.jpg done\n",
      "14.jpg done\n",
      "15.jpg done\n",
      "16.jpg done\n",
      "17.jpg done\n",
      "18.jpg done\n",
      "19.jpg done\n",
      "20.jpg done\n",
      "21.jpg done\n",
      "22.jpg done\n",
      "23.jpg done\n",
      "24.jpg done\n",
      "25.jpg done\n",
      "26.jpg done\n",
      "27.jpg done\n",
      "28.jpg done\n",
      "29.jpg done\n",
      "30.jpg done\n",
      "31.jpg done\n",
      "32.jpg done\n",
      "33.jpg done\n",
      "34.jpg done\n",
      "35.jpg done\n",
      "36.jpg done\n",
      "37.jpg done\n",
      "38.jpg done\n",
      "39.jpg done\n",
      "40.jpg done\n",
      "41.jpg done\n",
      "42.jpg done\n",
      "43.jpg done\n",
      "44.jpg done\n",
      "45.jpg done\n",
      "46.jpg done\n",
      "47.jpg done\n",
      "48.jpg done\n",
      "49.jpg done\n",
      "50.jpg done\n",
      "51.jpg done\n",
      "52.jpg done\n",
      "53.jpg done\n",
      "54.jpg done\n",
      "55.jpg done\n",
      "56.jpg done\n",
      "57.jpg done\n",
      "58.jpg done\n",
      "59.jpg done\n",
      "60.jpg done\n",
      "61.jpg done\n",
      "62.jpg done\n",
      "63.jpg done\n",
      "64.jpg done\n",
      "65.jpg done\n",
      "66.jpg done\n",
      "67.jpg done\n",
      "68.jpg done\n"
     ]
    },
    {
     "name": "stderr",
     "output_type": "stream",
     "text": [
      " 64%|██████▍   | 271/421 [09:48<06:29,  2.60s/it]"
     ]
    },
    {
     "name": "stdout",
     "output_type": "stream",
     "text": [
      "69.jpg done\n",
      "0.jpg done\n",
      "1.jpg done\n",
      "2.jpg done\n",
      "3.jpg done\n",
      "4.jpg done\n",
      "5.jpg done\n",
      "6.jpg done\n",
      "7.jpg done\n",
      "8.jpg done\n",
      "9.jpg done\n",
      "10.jpg done\n",
      "11.jpg done\n",
      "12.jpg done\n",
      "13.jpg done\n",
      "14.jpg done\n",
      "15.jpg done\n",
      "16.jpg done\n",
      "17.jpg done\n",
      "18.jpg done\n",
      "19.jpg done\n",
      "20.jpg done\n",
      "21.jpg done\n",
      "22.jpg done\n",
      "23.jpg done\n",
      "24.jpg done\n",
      "25.jpg done\n",
      "26.jpg done\n",
      "27.jpg done\n",
      "28.jpg done\n",
      "29.jpg done\n",
      "30.jpg done\n",
      "31.jpg done\n",
      "32.jpg done\n",
      "33.jpg done\n",
      "34.jpg done\n",
      "35.jpg done\n",
      "36.jpg done\n",
      "37.jpg done\n",
      "38.jpg done\n",
      "39.jpg done\n",
      "40.jpg done\n",
      "41.jpg done\n",
      "42.jpg done\n",
      "43.jpg done\n",
      "44.jpg done\n",
      "45.jpg done\n",
      "46.jpg done\n",
      "47.jpg done\n",
      "48.jpg done\n",
      "49.jpg done\n"
     ]
    },
    {
     "name": "stderr",
     "output_type": "stream",
     "text": [
      " 65%|██████▍   | 272/421 [09:51<06:26,  2.60s/it]"
     ]
    },
    {
     "name": "stdout",
     "output_type": "stream",
     "text": [
      "50.jpg done\n",
      "0.jpg done\n",
      "1.jpg done\n",
      "2.jpg done\n",
      "3.jpg done\n",
      "4.jpg done\n",
      "5.jpg done\n",
      "6.jpg done\n",
      "7.jpg done\n",
      "8.jpg done\n",
      "9.jpg done\n",
      "10.jpg done\n",
      "11.jpg done\n",
      "12.jpg done\n",
      "13.jpg done\n",
      "14.jpg done\n",
      "15.jpg done\n",
      "16.jpg done\n",
      "17.jpg done\n",
      "18.jpg done\n",
      "19.jpg done\n",
      "20.jpg done\n",
      "21.jpg done\n",
      "22.jpg done\n",
      "23.jpg done\n",
      "24.jpg done\n",
      "25.jpg done\n",
      "26.jpg done\n",
      "27.jpg done\n",
      "28.jpg done\n",
      "29.jpg done\n",
      "30.jpg done\n",
      "31.jpg done\n",
      "32.jpg done\n",
      "33.jpg done\n",
      "34.jpg done\n",
      "35.jpg done\n",
      "36.jpg done\n"
     ]
    },
    {
     "name": "stderr",
     "output_type": "stream",
     "text": [
      " 65%|██████▍   | 273/421 [09:52<05:52,  2.38s/it]"
     ]
    },
    {
     "name": "stdout",
     "output_type": "stream",
     "text": [
      "37.jpg done\n",
      "0.jpg done\n",
      "1.jpg done\n",
      "2.jpg done\n",
      "3.jpg done\n",
      "4.jpg done\n",
      "5.jpg done\n",
      "6.jpg done\n",
      "7.jpg done\n",
      "8.jpg done\n",
      "9.jpg done\n",
      "10.jpg done\n",
      "11.jpg done\n",
      "12.jpg done\n",
      "13.jpg done\n",
      "14.jpg done\n",
      "15.jpg done\n",
      "16.jpg done\n"
     ]
    },
    {
     "name": "stderr",
     "output_type": "stream",
     "text": [
      " 65%|██████▌   | 274/421 [09:53<04:52,  1.99s/it]"
     ]
    },
    {
     "name": "stdout",
     "output_type": "stream",
     "text": [
      "17.jpg done\n",
      "18.jpg done\n",
      "19.jpg done\n",
      "20.jpg done\n",
      "21.jpg done\n",
      "0.jpg done\n",
      "1.jpg done\n",
      "2.jpg done\n",
      "3.jpg done\n",
      "4.jpg done\n",
      "5.jpg done\n",
      "6.jpg done\n",
      "7.jpg done\n",
      "8.jpg done\n",
      "9.jpg done\n",
      "10.jpg done\n",
      "11.jpg done\n",
      "12.jpg done\n",
      "13.jpg done\n",
      "14.jpg done\n",
      "15.jpg done\n",
      "16.jpg done\n",
      "17.jpg done\n",
      "18.jpg done\n",
      "19.jpg done\n",
      "20.jpg done\n",
      "21.jpg done\n",
      "22.jpg done\n",
      "23.jpg done\n",
      "24.jpg done\n",
      "25.jpg done\n",
      "26.jpg done\n",
      "27.jpg done\n",
      "28.jpg done\n",
      "29.jpg done\n",
      "30.jpg done\n",
      "31.jpg done\n",
      "32.jpg done\n",
      "33.jpg done\n",
      "34.jpg done\n",
      "35.jpg done\n",
      "36.jpg done\n",
      "37.jpg done\n",
      "38.jpg done\n",
      "39.jpg done\n",
      "40.jpg done\n",
      "41.jpg done\n",
      "42.jpg done\n",
      "43.jpg done\n"
     ]
    },
    {
     "name": "stderr",
     "output_type": "stream",
     "text": [
      " 65%|██████▌   | 275/421 [09:56<05:04,  2.09s/it]"
     ]
    },
    {
     "name": "stdout",
     "output_type": "stream",
     "text": [
      "0.jpg done\n",
      "1.jpg done\n",
      "2.jpg done\n",
      "3.jpg done\n",
      "4.jpg done\n",
      "5.jpg done\n",
      "6.jpg done\n",
      "7.jpg done\n",
      "8.jpg done\n",
      "9.jpg done\n",
      "10.jpg done\n",
      "11.jpg done\n",
      "12.jpg done\n",
      "13.jpg done\n",
      "14.jpg done\n",
      "15.jpg done\n",
      "16.jpg done\n",
      "17.jpg done\n",
      "18.jpg done\n",
      "19.jpg done\n",
      "20.jpg done\n",
      "21.jpg done\n",
      "22.jpg done\n",
      "23.jpg done\n",
      "24.jpg done\n",
      "25.jpg done\n",
      "26.jpg done\n",
      "27.jpg done\n",
      "28.jpg done\n",
      "29.jpg done\n",
      "30.jpg done\n",
      "31.jpg done\n",
      "32.jpg done\n",
      "33.jpg done\n",
      "34.jpg done\n",
      "35.jpg done\n",
      "36.jpg done\n",
      "37.jpg done\n",
      "38.jpg done\n",
      "39.jpg done\n",
      "40.jpg done\n",
      "41.jpg done\n",
      "42.jpg done\n",
      "43.jpg done\n",
      "44.jpg done\n",
      "45.jpg done\n",
      "46.jpg done\n",
      "47.jpg done\n",
      "48.jpg done\n",
      "49.jpg done\n",
      "50.jpg done\n",
      "51.jpg done\n",
      "52.jpg done\n",
      "53.jpg done\n",
      "54.jpg done\n",
      "55.jpg done\n",
      "56.jpg done\n",
      "57.jpg done\n",
      "58.jpg done\n",
      "59.jpg done\n",
      "60.jpg done\n",
      "61.jpg done\n",
      "62.jpg done\n",
      "63.jpg done\n",
      "64.jpg done\n",
      "65.jpg done\n",
      "66.jpg done\n",
      "67.jpg done\n",
      "68.jpg done\n",
      "69.jpg done\n",
      "70.jpg done\n",
      "71.jpg done\n",
      "72.jpg done\n",
      "73.jpg done\n",
      "74.jpg done\n",
      "75.jpg done\n",
      "76.jpg done\n",
      "77.jpg done\n",
      "78.jpg done\n",
      "79.jpg done\n",
      "80.jpg done\n",
      "81.jpg done\n",
      "82.jpg done\n",
      "83.jpg done\n",
      "84.jpg done\n",
      "85.jpg done\n",
      "86.jpg done\n",
      "87.jpg done\n",
      "88.jpg done\n",
      "89.jpg done\n",
      "90.jpg done\n",
      "91.jpg done\n",
      "92.jpg done\n",
      "93.jpg done\n",
      "94.jpg done\n",
      "95.jpg done\n",
      "96.jpg done\n",
      "97.jpg done\n",
      "98.jpg done\n",
      "99.jpg done\n",
      "100.jpg done\n",
      "101.jpg done\n",
      "102.jpg done\n",
      "103.jpg done\n",
      "104.jpg done\n",
      "105.jpg done\n",
      "106.jpg done\n",
      "107.jpg done\n",
      "108.jpg done\n",
      "109.jpg done\n",
      "110.jpg done\n",
      "111.jpg done\n",
      "112.jpg done\n",
      "113.jpg done\n",
      "114.jpg done\n",
      "115.jpg done\n",
      "116.jpg done\n",
      "117.jpg done\n",
      "118.jpg done\n",
      "119.jpg done\n",
      "120.jpg done\n",
      "121.jpg done\n",
      "122.jpg done\n",
      "123.jpg done\n",
      "124.jpg done\n",
      "125.jpg done\n",
      "126.jpg done\n",
      "127.jpg done\n",
      "128.jpg done\n",
      "129.jpg done\n",
      "130.jpg done\n",
      "131.jpg done\n",
      "132.jpg done\n",
      "133.jpg done\n",
      "134.jpg done\n",
      "135.jpg done\n",
      "136.jpg done\n",
      "137.jpg done\n",
      "138.jpg done\n",
      "139.jpg done\n",
      "140.jpg done\n",
      "141.jpg done\n",
      "142.jpg done\n",
      "143.jpg done\n",
      "144.jpg done\n",
      "145.jpg done\n",
      "146.jpg done\n",
      "147.jpg done\n",
      "148.jpg done\n",
      "149.jpg done\n",
      "150.jpg done\n",
      "151.jpg done\n",
      "152.jpg done\n",
      "153.jpg done\n",
      "154.jpg done\n",
      "155.jpg done\n",
      "156.jpg done\n",
      "157.jpg done\n",
      "158.jpg done\n",
      "159.jpg done\n",
      "160.jpg done\n",
      "161.jpg done\n",
      "162.jpg done\n",
      "163.jpg done\n",
      "164.jpg done\n",
      "165.jpg done\n",
      "166.jpg done\n",
      "167.jpg done\n",
      "168.jpg done\n",
      "169.jpg done\n",
      "170.jpg done\n",
      "171.jpg done\n",
      "172.jpg done\n",
      "173.jpg done\n",
      "174.jpg done\n",
      "175.jpg done\n",
      "176.jpg done\n",
      "177.jpg done\n",
      "178.jpg done\n",
      "179.jpg done\n",
      "180.jpg done\n",
      "181.jpg done\n",
      "182.jpg done\n",
      "183.jpg done\n",
      "184.jpg done\n",
      "185.jpg done\n",
      "186.jpg done\n",
      "187.jpg done\n",
      "188.jpg done\n",
      "189.jpg done\n",
      "190.jpg done\n",
      "191.jpg done\n",
      "192.jpg done\n",
      "193.jpg done\n",
      "194.jpg done\n",
      "195.jpg done\n",
      "196.jpg done\n",
      "197.jpg done\n",
      "198.jpg done\n",
      "199.jpg done\n",
      "200.jpg done\n",
      "201.jpg done\n",
      "202.jpg done\n",
      "203.jpg done\n",
      "204.jpg done\n",
      "205.jpg done\n",
      "206.jpg done\n",
      "207.jpg done\n",
      "208.jpg done\n",
      "209.jpg done\n",
      "210.jpg done\n",
      "211.jpg done\n",
      "212.jpg done\n",
      "213.jpg done\n",
      "214.jpg done\n",
      "215.jpg done\n",
      "216.jpg done\n",
      "217.jpg done\n",
      "218.jpg done\n",
      "219.jpg done\n",
      "220.jpg done\n",
      "221.jpg done\n",
      "222.jpg done\n",
      "223.jpg done\n",
      "224.jpg done\n",
      "225.jpg done\n",
      "226.jpg done\n",
      "227.jpg done\n",
      "228.jpg done\n",
      "229.jpg done\n",
      "230.jpg done\n",
      "231.jpg done\n",
      "232.jpg done\n",
      "233.jpg done\n",
      "234.jpg done\n",
      "235.jpg done\n",
      "236.jpg done\n",
      "237.jpg done\n",
      "238.jpg done\n",
      "239.jpg done\n",
      "240.jpg done\n",
      "241.jpg done\n",
      "242.jpg done\n",
      "243.jpg done\n",
      "244.jpg done\n",
      "245.jpg done\n",
      "246.jpg done\n",
      "247.jpg done\n",
      "248.jpg done\n",
      "249.jpg done\n",
      "250.jpg done\n",
      "251.jpg done\n",
      "252.jpg done\n",
      "253.jpg done\n",
      "254.jpg done\n",
      "255.jpg done\n",
      "256.jpg done\n",
      "257.jpg done\n",
      "258.jpg done\n",
      "259.jpg done\n",
      "260.jpg done\n",
      "261.jpg done\n",
      "262.jpg done\n",
      "263.jpg done\n",
      "264.jpg done\n",
      "265.jpg done\n",
      "266.jpg done\n",
      "267.jpg done\n",
      "268.jpg done\n",
      "269.jpg done\n",
      "270.jpg done\n",
      "271.jpg done\n",
      "272.jpg done\n",
      "273.jpg done\n",
      "274.jpg done\n",
      "275.jpg done\n",
      "276.jpg done\n",
      "277.jpg done\n",
      "278.jpg done\n",
      "279.jpg done\n",
      "280.jpg done\n",
      "281.jpg done\n",
      "282.jpg done\n",
      "283.jpg done\n",
      "284.jpg done\n",
      "285.jpg done\n",
      "286.jpg done\n",
      "287.jpg done\n",
      "288.jpg done\n",
      "289.jpg done\n",
      "290.jpg done\n",
      "291.jpg done\n",
      "292.jpg done\n",
      "293.jpg done\n",
      "294.jpg done\n",
      "295.jpg done\n",
      "296.jpg done\n",
      "297.jpg done\n",
      "298.jpg done\n",
      "299.jpg done\n",
      "300.jpg done\n",
      "301.jpg done\n",
      "302.jpg done\n",
      "303.jpg done\n",
      "304.jpg done\n",
      "305.jpg done\n",
      "306.jpg done\n",
      "307.jpg done\n",
      "308.jpg done\n",
      "309.jpg done\n",
      "310.jpg done\n",
      "311.jpg done\n",
      "312.jpg done\n",
      "313.jpg done\n",
      "314.jpg done\n",
      "315.jpg done\n",
      "316.jpg done\n",
      "317.jpg done\n",
      "318.jpg done\n",
      "319.jpg done\n",
      "320.jpg done\n",
      "321.jpg done\n"
     ]
    },
    {
     "name": "stderr",
     "output_type": "stream",
     "text": [
      " 66%|██████▌   | 276/421 [10:11<14:35,  6.04s/it]"
     ]
    },
    {
     "name": "stdout",
     "output_type": "stream",
     "text": [
      "322.jpg done\n",
      "323.jpg done\n",
      "324.jpg done\n",
      "325.jpg done\n",
      "0.jpg done\n",
      "1.jpg done\n",
      "2.jpg done\n",
      "3.jpg done\n",
      "4.jpg done\n",
      "5.jpg done\n",
      "6.jpg done\n",
      "7.jpg done\n",
      "8.jpg done\n",
      "9.jpg done\n",
      "10.jpg done\n",
      "11.jpg done\n",
      "12.jpg done\n",
      "13.jpg done\n",
      "14.jpg done\n",
      "15.jpg done\n",
      "16.jpg done\n",
      "17.jpg done\n",
      "18.jpg done\n",
      "19.jpg done\n",
      "20.jpg done\n",
      "21.jpg done\n",
      "22.jpg done\n",
      "23.jpg done\n",
      "24.jpg done\n",
      "25.jpg done\n",
      "26.jpg done\n",
      "27.jpg done\n",
      "28.jpg done\n",
      "29.jpg done\n",
      "30.jpg done\n",
      "31.jpg done\n",
      "32.jpg done\n",
      "33.jpg done\n",
      "34.jpg done\n",
      "35.jpg done\n",
      "36.jpg done\n",
      "37.jpg done\n",
      "38.jpg done\n",
      "39.jpg done\n",
      "40.jpg done\n",
      "41.jpg done\n",
      "42.jpg done\n",
      "43.jpg done\n",
      "44.jpg done\n",
      "45.jpg done\n",
      "46.jpg done\n",
      "47.jpg done\n",
      "48.jpg done\n",
      "49.jpg done\n",
      "50.jpg done\n",
      "51.jpg done\n",
      "52.jpg done\n",
      "53.jpg done\n",
      "54.jpg done\n",
      "55.jpg done\n",
      "56.jpg done\n",
      "57.jpg done\n",
      "58.jpg done\n",
      "59.jpg done\n",
      "60.jpg done\n",
      "61.jpg done\n",
      "62.jpg done\n",
      "63.jpg done\n",
      "64.jpg done\n",
      "65.jpg done\n",
      "66.jpg done\n",
      "67.jpg done\n",
      "68.jpg done\n",
      "69.jpg done\n",
      "70.jpg done\n",
      "71.jpg done\n",
      "72.jpg done\n",
      "73.jpg done\n",
      "74.jpg done\n",
      "75.jpg done\n",
      "76.jpg done\n",
      "77.jpg done\n",
      "78.jpg done\n",
      "79.jpg done\n",
      "80.jpg done\n",
      "81.jpg done\n",
      "82.jpg done\n",
      "83.jpg done\n",
      "84.jpg done\n",
      "85.jpg done\n",
      "86.jpg done\n",
      "87.jpg done\n",
      "88.jpg done\n",
      "89.jpg done\n",
      "90.jpg done\n",
      "91.jpg done\n",
      "92.jpg done\n",
      "93.jpg done\n",
      "94.jpg done\n",
      "95.jpg done\n",
      "96.jpg done\n",
      "97.jpg done\n",
      "98.jpg done\n",
      "99.jpg done\n"
     ]
    },
    {
     "name": "stderr",
     "output_type": "stream",
     "text": [
      " 66%|██████▌   | 277/421 [10:16<13:34,  5.66s/it]"
     ]
    },
    {
     "name": "stdout",
     "output_type": "stream",
     "text": [
      "100.jpg done\n",
      "101.jpg done\n",
      "102.jpg done\n",
      "0.jpg done\n",
      "1.jpg done\n",
      "2.jpg done\n",
      "3.jpg done\n",
      "4.jpg done\n",
      "5.jpg done\n",
      "6.jpg done\n",
      "7.jpg done\n",
      "8.jpg done\n",
      "9.jpg done\n",
      "10.jpg done\n",
      "11.jpg done\n",
      "12.jpg done\n",
      "13.jpg done\n"
     ]
    },
    {
     "name": "stderr",
     "output_type": "stream",
     "text": [
      " 66%|██████▌   | 278/421 [10:17<10:08,  4.26s/it]"
     ]
    },
    {
     "name": "stdout",
     "output_type": "stream",
     "text": [
      "14.jpg done\n",
      "15.jpg done\n",
      "16.jpg done\n",
      "17.jpg done\n",
      "18.jpg done\n",
      "0.jpg done\n",
      "1.jpg done\n",
      "2.jpg done\n",
      "3.jpg done\n",
      "4.jpg done\n",
      "5.jpg done\n",
      "6.jpg done\n",
      "7.jpg done\n",
      "8.jpg done\n",
      "9.jpg done\n",
      "10.jpg done\n",
      "11.jpg done\n",
      "12.jpg done\n",
      "13.jpg done\n",
      "14.jpg done\n",
      "15.jpg done\n",
      "16.jpg done\n",
      "17.jpg done\n",
      "18.jpg done\n",
      "19.jpg done\n",
      "20.jpg done\n",
      "21.jpg done\n",
      "22.jpg done\n",
      "23.jpg done\n",
      "24.jpg done\n",
      "25.jpg done\n",
      "26.jpg done\n",
      "27.jpg done\n",
      "28.jpg done\n",
      "29.jpg done\n",
      "30.jpg done\n",
      "31.jpg done\n",
      "32.jpg done\n",
      "33.jpg done\n",
      "34.jpg done\n",
      "35.jpg done\n",
      "36.jpg done\n",
      "37.jpg done\n",
      "38.jpg done\n",
      "39.jpg done\n",
      "40.jpg done\n",
      "41.jpg done\n",
      "42.jpg done\n",
      "43.jpg done\n"
     ]
    },
    {
     "name": "stderr",
     "output_type": "stream",
     "text": [
      " 66%|██████▋   | 279/421 [10:19<08:37,  3.64s/it]"
     ]
    },
    {
     "name": "stdout",
     "output_type": "stream",
     "text": [
      "44.jpg done\n",
      "45.jpg done\n",
      "0.jpg done\n",
      "1.jpg done\n",
      "2.jpg done\n",
      "3.jpg done\n",
      "4.jpg done\n"
     ]
    },
    {
     "name": "stderr",
     "output_type": "stream",
     "text": [
      " 67%|██████▋   | 281/421 [10:20<04:28,  1.92s/it]"
     ]
    },
    {
     "name": "stdout",
     "output_type": "stream",
     "text": [
      "5.jpg done\n",
      "6.jpg done\n",
      "0.jpg done\n",
      "0.jpg done\n",
      "1.jpg done\n",
      "2.jpg done\n",
      "3.jpg done\n",
      "4.jpg done\n",
      "5.jpg done\n",
      "6.jpg done\n",
      "7.jpg done\n",
      "8.jpg done\n",
      "9.jpg done\n",
      "10.jpg done\n",
      "11.jpg done\n",
      "12.jpg done\n",
      "13.jpg done\n",
      "14.jpg done\n",
      "15.jpg done\n",
      "16.jpg done\n",
      "17.jpg done\n",
      "18.jpg done\n",
      "19.jpg done\n",
      "20.jpg done\n",
      "21.jpg done\n",
      "22.jpg done\n",
      "23.jpg done\n",
      "24.jpg done\n",
      "25.jpg done\n",
      "26.jpg done\n",
      "27.jpg done\n",
      "28.jpg done\n",
      "29.jpg done\n",
      "30.jpg done\n",
      "31.jpg done\n",
      "32.jpg done\n",
      "33.jpg done\n",
      "34.jpg done\n",
      "35.jpg done\n",
      "36.jpg done\n",
      "37.jpg done\n",
      "38.jpg done\n",
      "39.jpg done\n",
      "40.jpg done\n",
      "41.jpg done\n",
      "42.jpg done\n",
      "43.jpg done\n",
      "44.jpg done\n"
     ]
    },
    {
     "name": "stderr",
     "output_type": "stream",
     "text": [
      " 67%|██████▋   | 282/421 [10:22<04:34,  1.97s/it]"
     ]
    },
    {
     "name": "stdout",
     "output_type": "stream",
     "text": [
      "45.jpg done\n",
      "0.jpg done\n",
      "1.jpg done\n",
      "2.jpg done\n",
      "3.jpg done\n",
      "4.jpg done\n",
      "5.jpg done\n",
      "6.jpg done\n",
      "7.jpg done\n",
      "8.jpg done\n",
      "9.jpg done\n",
      "10.jpg done\n",
      "11.jpg done\n",
      "12.jpg done\n",
      "13.jpg done\n",
      "14.jpg done\n",
      "15.jpg done\n",
      "16.jpg done\n",
      "17.jpg done\n",
      "18.jpg done\n",
      "19.jpg done\n",
      "20.jpg done\n",
      "21.jpg done\n",
      "22.jpg done\n",
      "23.jpg done\n",
      "24.jpg done\n",
      "25.jpg done\n",
      "26.jpg done\n",
      "27.jpg done\n",
      "28.jpg done\n",
      "29.jpg done\n",
      "30.jpg done\n",
      "31.jpg done\n",
      "32.jpg done\n",
      "33.jpg done\n",
      "34.jpg done\n",
      "35.jpg done\n",
      "36.jpg done\n",
      "37.jpg done\n",
      "38.jpg done\n",
      "39.jpg done\n",
      "40.jpg done\n",
      "41.jpg done\n",
      "42.jpg done\n",
      "43.jpg done\n",
      "44.jpg done\n",
      "45.jpg done\n",
      "46.jpg done\n",
      "47.jpg done\n",
      "48.jpg done\n",
      "49.jpg done\n",
      "50.jpg done\n",
      "51.jpg done\n",
      "52.jpg done\n",
      "53.jpg done\n",
      "54.jpg done\n",
      "55.jpg done\n",
      "56.jpg done\n",
      "57.jpg done\n",
      "58.jpg done\n",
      "59.jpg done\n",
      "60.jpg done\n",
      "61.jpg done\n",
      "62.jpg done\n",
      "63.jpg done\n",
      "64.jpg done\n",
      "65.jpg done\n",
      "66.jpg done\n",
      "67.jpg done\n",
      "68.jpg done\n",
      "69.jpg done\n",
      "70.jpg done\n",
      "71.jpg done\n",
      "72.jpg done\n",
      "73.jpg done\n",
      "74.jpg done\n",
      "75.jpg done\n",
      "76.jpg done\n",
      "77.jpg done\n",
      "78.jpg done\n",
      "79.jpg done\n",
      "80.jpg done\n",
      "81.jpg done\n",
      "82.jpg done\n",
      "83.jpg done\n",
      "84.jpg done\n",
      "85.jpg done\n",
      "86.jpg done\n",
      "87.jpg done\n",
      "88.jpg done\n",
      "89.jpg done\n",
      "90.jpg done\n",
      "91.jpg done\n",
      "92.jpg done\n",
      "93.jpg done\n",
      "94.jpg done\n",
      "95.jpg done\n",
      "96.jpg done\n",
      "97.jpg done\n",
      "98.jpg done\n",
      "99.jpg done\n",
      "100.jpg done\n",
      "101.jpg done\n",
      "102.jpg done\n",
      "103.jpg done\n",
      "104.jpg done\n",
      "105.jpg done\n",
      "106.jpg done\n",
      "107.jpg done\n",
      "108.jpg done\n",
      "109.jpg done\n",
      "110.jpg done\n",
      "111.jpg done\n"
     ]
    },
    {
     "name": "stderr",
     "output_type": "stream",
     "text": [
      " 67%|██████▋   | 283/421 [10:27<06:51,  2.98s/it]"
     ]
    },
    {
     "name": "stdout",
     "output_type": "stream",
     "text": [
      "112.jpg done\n",
      "0.jpg done\n",
      "1.jpg done\n",
      "2.jpg done\n",
      "3.jpg done\n",
      "4.jpg done\n",
      "5.jpg done\n",
      "6.jpg done\n"
     ]
    },
    {
     "name": "stderr",
     "output_type": "stream",
     "text": [
      " 67%|██████▋   | 284/421 [10:27<05:03,  2.22s/it]"
     ]
    },
    {
     "name": "stdout",
     "output_type": "stream",
     "text": [
      "7.jpg done\n",
      "0.jpg done\n",
      "1.jpg done\n",
      "2.jpg done\n",
      "3.jpg done\n",
      "4.jpg done\n",
      "5.jpg done\n",
      "6.jpg done\n",
      "7.jpg done\n",
      "8.jpg done\n",
      "9.jpg done\n",
      "10.jpg done\n",
      "11.jpg done\n",
      "12.jpg done\n",
      "13.jpg done\n",
      "14.jpg done\n",
      "15.jpg done\n",
      "16.jpg done\n",
      "17.jpg done\n",
      "18.jpg done\n",
      "19.jpg done\n",
      "20.jpg done\n",
      "21.jpg done\n",
      "22.jpg done\n",
      "23.jpg done\n",
      "24.jpg done\n",
      "25.jpg done\n",
      "26.jpg done\n",
      "27.jpg done\n",
      "28.jpg done\n",
      "29.jpg done\n",
      "30.jpg done\n",
      "31.jpg done\n",
      "32.jpg done\n",
      "33.jpg done\n",
      "34.jpg done\n",
      "35.jpg done\n",
      "36.jpg done\n",
      "37.jpg done\n",
      "38.jpg done\n",
      "39.jpg done\n",
      "40.jpg done\n",
      "41.jpg done\n",
      "42.jpg done\n",
      "43.jpg done\n",
      "44.jpg done\n",
      "45.jpg done\n",
      "46.jpg done\n",
      "47.jpg done\n",
      "48.jpg done\n",
      "49.jpg done\n"
     ]
    },
    {
     "name": "stderr",
     "output_type": "stream",
     "text": [
      " 68%|██████▊   | 285/421 [10:30<05:09,  2.28s/it]"
     ]
    },
    {
     "name": "stdout",
     "output_type": "stream",
     "text": [
      "0.jpg done\n",
      "1.jpg done\n",
      "2.jpg done\n",
      "3.jpg done\n",
      "4.jpg done\n",
      "5.jpg done\n",
      "6.jpg done\n",
      "7.jpg done\n",
      "8.jpg done\n",
      "9.jpg done\n"
     ]
    },
    {
     "name": "stderr",
     "output_type": "stream",
     "text": [
      " 68%|██████▊   | 286/421 [10:31<04:03,  1.80s/it]"
     ]
    },
    {
     "name": "stdout",
     "output_type": "stream",
     "text": [
      "10.jpg done\n",
      "11.jpg done\n",
      "12.jpg done\n",
      "0.jpg done\n",
      "1.jpg done\n",
      "2.jpg done\n",
      "3.jpg done\n",
      "4.jpg done\n",
      "5.jpg done\n",
      "6.jpg done\n",
      "7.jpg done\n",
      "8.jpg done\n",
      "9.jpg done\n",
      "10.jpg done\n",
      "11.jpg done\n",
      "12.jpg done\n",
      "13.jpg done\n",
      "14.jpg done\n",
      "15.jpg done\n",
      "16.jpg done\n",
      "17.jpg done\n",
      "18.jpg done\n",
      "19.jpg done\n",
      "20.jpg done\n",
      "21.jpg done\n",
      "22.jpg done\n",
      "23.jpg done\n",
      "24.jpg done\n",
      "25.jpg done\n",
      "26.jpg done\n",
      "27.jpg done\n",
      "28.jpg done\n",
      "29.jpg done\n",
      "30.jpg done\n",
      "31.jpg done\n",
      "32.jpg done\n",
      "33.jpg done\n",
      "34.jpg done\n",
      "35.jpg done\n",
      "36.jpg done\n",
      "37.jpg done\n",
      "38.jpg done\n",
      "39.jpg done\n",
      "40.jpg done\n",
      "41.jpg done\n",
      "42.jpg done\n",
      "43.jpg done\n",
      "44.jpg done\n",
      "45.jpg done\n",
      "46.jpg done\n",
      "47.jpg done\n",
      "48.jpg done\n",
      "49.jpg done\n",
      "50.jpg done\n",
      "51.jpg done\n",
      "52.jpg done\n",
      "53.jpg done\n",
      "54.jpg done\n",
      "55.jpg done\n",
      "56.jpg done\n",
      "57.jpg done\n",
      "58.jpg done\n",
      "59.jpg done\n",
      "60.jpg done\n",
      "61.jpg done\n",
      "62.jpg done\n",
      "63.jpg done\n",
      "64.jpg done\n",
      "65.jpg done\n",
      "66.jpg done\n",
      "67.jpg done\n",
      "68.jpg done\n",
      "69.jpg done\n",
      "70.jpg done\n",
      "71.jpg done\n",
      "72.jpg done\n",
      "73.jpg done\n",
      "74.jpg done\n",
      "75.jpg done\n",
      "76.jpg done\n",
      "77.jpg done\n",
      "78.jpg done\n",
      "79.jpg done\n",
      "80.jpg done\n",
      "81.jpg done\n",
      "82.jpg done\n",
      "83.jpg done\n",
      "84.jpg done\n",
      "85.jpg done\n",
      "86.jpg done\n",
      "87.jpg done\n",
      "88.jpg done\n",
      "89.jpg done\n",
      "90.jpg done\n",
      "91.jpg done\n",
      "92.jpg done\n",
      "93.jpg done\n",
      "94.jpg done\n",
      "95.jpg done\n",
      "96.jpg done\n",
      "97.jpg done\n",
      "98.jpg done\n",
      "99.jpg done\n",
      "100.jpg done\n"
     ]
    },
    {
     "name": "stderr",
     "output_type": "stream",
     "text": [
      " 68%|██████▊   | 287/421 [10:35<05:58,  2.68s/it]"
     ]
    },
    {
     "name": "stdout",
     "output_type": "stream",
     "text": [
      "101.jpg done\n",
      "102.jpg done\n",
      "103.jpg done\n",
      "104.jpg done\n",
      "105.jpg done\n",
      "0.jpg done\n",
      "1.jpg done\n",
      "2.jpg done\n",
      "3.jpg done\n",
      "4.jpg done\n",
      "5.jpg done\n",
      "6.jpg done\n",
      "7.jpg done\n",
      "8.jpg done\n",
      "9.jpg done\n",
      "10.jpg done\n",
      "11.jpg done\n",
      "12.jpg done\n",
      "13.jpg done\n",
      "14.jpg done\n",
      "15.jpg done\n",
      "16.jpg done\n",
      "17.jpg done\n",
      "18.jpg done\n",
      "19.jpg done\n"
     ]
    },
    {
     "name": "stderr",
     "output_type": "stream",
     "text": [
      " 68%|██████▊   | 288/421 [10:36<04:51,  2.19s/it]"
     ]
    },
    {
     "name": "stdout",
     "output_type": "stream",
     "text": [
      "20.jpg done\n",
      "21.jpg done\n",
      "0.jpg done\n",
      "1.jpg done\n",
      "2.jpg done\n",
      "3.jpg done\n",
      "4.jpg done\n",
      "5.jpg done\n",
      "6.jpg done\n",
      "7.jpg done\n",
      "8.jpg done\n",
      "9.jpg done\n",
      "10.jpg done\n",
      "11.jpg done\n",
      "12.jpg done\n",
      "13.jpg done\n",
      "14.jpg done\n",
      "15.jpg done\n",
      "16.jpg done\n",
      "17.jpg done\n",
      "18.jpg done\n",
      "19.jpg done\n",
      "20.jpg done\n",
      "21.jpg done\n",
      "22.jpg done\n",
      "23.jpg done\n",
      "24.jpg done\n",
      "25.jpg done\n",
      "26.jpg done\n",
      "27.jpg done\n",
      "28.jpg done\n",
      "29.jpg done\n",
      "30.jpg done\n",
      "31.jpg done\n",
      "32.jpg done\n",
      "33.jpg done\n",
      "34.jpg done\n"
     ]
    },
    {
     "name": "stderr",
     "output_type": "stream",
     "text": [
      " 69%|██████▊   | 289/421 [10:38<04:39,  2.12s/it]"
     ]
    },
    {
     "name": "stdout",
     "output_type": "stream",
     "text": [
      "35.jpg done\n",
      "36.jpg done\n",
      "37.jpg done\n",
      "38.jpg done\n",
      "0.jpg done\n",
      "1.jpg done\n",
      "2.jpg done\n",
      "3.jpg done\n",
      "4.jpg done\n",
      "5.jpg done\n",
      "6.jpg done\n",
      "7.jpg done\n",
      "8.jpg done\n",
      "9.jpg done\n"
     ]
    },
    {
     "name": "stderr",
     "output_type": "stream",
     "text": [
      " 69%|██████▉   | 290/421 [10:39<03:38,  1.67s/it]"
     ]
    },
    {
     "name": "stdout",
     "output_type": "stream",
     "text": [
      "0.jpg done\n",
      "1.jpg done\n",
      "2.jpg done\n",
      "3.jpg done\n",
      "4.jpg done\n",
      "5.jpg done\n",
      "6.jpg done\n",
      "7.jpg done\n",
      "8.jpg done\n",
      "9.jpg done\n",
      "10.jpg done\n",
      "11.jpg done\n",
      "12.jpg done\n",
      "13.jpg done\n",
      "14.jpg done\n",
      "15.jpg done\n",
      "16.jpg done\n",
      "17.jpg done\n",
      "18.jpg done\n",
      "19.jpg done\n",
      "20.jpg done\n",
      "21.jpg done\n",
      "22.jpg done\n",
      "23.jpg done\n",
      "24.jpg done\n",
      "25.jpg done\n",
      "26.jpg done\n",
      "27.jpg done\n",
      "28.jpg done\n",
      "29.jpg done\n",
      "30.jpg done\n",
      "31.jpg done\n",
      "32.jpg done\n",
      "33.jpg done\n"
     ]
    },
    {
     "name": "stderr",
     "output_type": "stream",
     "text": [
      " 69%|██████▉   | 291/421 [10:41<03:46,  1.74s/it]"
     ]
    },
    {
     "name": "stdout",
     "output_type": "stream",
     "text": [
      "34.jpg done\n",
      "35.jpg done\n",
      "36.jpg done\n",
      "0.jpg done\n",
      "1.jpg done\n",
      "2.jpg done\n",
      "3.jpg done\n",
      "4.jpg done\n",
      "5.jpg done\n",
      "6.jpg done\n",
      "7.jpg done\n",
      "8.jpg done\n",
      "9.jpg done\n",
      "10.jpg done\n",
      "11.jpg done\n",
      "12.jpg done\n",
      "13.jpg done\n",
      "14.jpg done\n",
      "15.jpg done\n",
      "16.jpg done\n",
      "17.jpg done\n",
      "18.jpg done\n",
      "19.jpg done\n",
      "20.jpg done\n",
      "21.jpg done\n",
      "22.jpg done\n",
      "23.jpg done\n",
      "24.jpg done\n",
      "25.jpg done\n",
      "26.jpg done\n",
      "27.jpg done\n",
      "28.jpg done\n",
      "29.jpg done\n",
      "30.jpg done\n",
      "31.jpg done\n",
      "32.jpg done\n",
      "33.jpg done\n",
      "34.jpg done\n",
      "35.jpg done\n",
      "36.jpg done\n",
      "37.jpg done\n",
      "38.jpg done\n",
      "39.jpg done\n",
      "40.jpg done\n",
      "41.jpg done\n",
      "42.jpg done\n",
      "43.jpg done\n",
      "44.jpg done\n",
      "45.jpg done\n",
      "46.jpg done\n",
      "47.jpg done\n",
      "48.jpg done\n",
      "49.jpg done\n",
      "50.jpg done\n",
      "51.jpg done\n",
      "52.jpg done\n"
     ]
    },
    {
     "name": "stderr",
     "output_type": "stream",
     "text": [
      " 69%|██████▉   | 292/421 [10:43<04:18,  2.01s/it]"
     ]
    },
    {
     "name": "stdout",
     "output_type": "stream",
     "text": [
      "53.jpg done\n",
      "0.jpg done\n",
      "1.jpg done\n",
      "2.jpg done\n",
      "3.jpg done\n",
      "4.jpg done\n",
      "5.jpg done\n",
      "6.jpg done\n",
      "7.jpg done\n",
      "8.jpg done\n",
      "9.jpg done\n",
      "10.jpg done\n",
      "11.jpg done\n",
      "12.jpg done\n",
      "13.jpg done\n",
      "14.jpg done\n",
      "15.jpg done\n",
      "16.jpg done\n",
      "17.jpg done\n",
      "18.jpg done\n",
      "19.jpg done\n",
      "20.jpg done\n",
      "21.jpg done\n",
      "22.jpg done\n",
      "23.jpg done\n",
      "24.jpg done\n"
     ]
    },
    {
     "name": "stderr",
     "output_type": "stream",
     "text": [
      " 70%|██████▉   | 293/421 [10:45<03:54,  1.84s/it]"
     ]
    },
    {
     "name": "stdout",
     "output_type": "stream",
     "text": [
      "25.jpg done\n",
      "26.jpg done\n",
      "27.jpg done\n",
      "28.jpg done\n",
      "0.jpg done\n",
      "1.jpg done\n",
      "2.jpg done\n",
      "3.jpg done\n",
      "4.jpg done\n",
      "5.jpg done\n",
      "6.jpg done\n",
      "7.jpg done\n",
      "8.jpg done\n",
      "9.jpg done\n",
      "10.jpg done\n",
      "11.jpg done\n",
      "12.jpg done\n",
      "13.jpg done\n",
      "14.jpg done\n",
      "15.jpg done\n",
      "16.jpg done\n",
      "17.jpg done\n",
      "18.jpg done\n",
      "19.jpg done\n",
      "20.jpg done\n",
      "21.jpg done\n",
      "22.jpg done\n",
      "23.jpg done\n",
      "24.jpg done\n",
      "25.jpg done\n",
      "26.jpg done\n",
      "27.jpg done\n",
      "28.jpg done\n",
      "29.jpg done\n",
      "30.jpg done\n",
      "31.jpg done\n",
      "32.jpg done\n",
      "33.jpg done\n",
      "34.jpg done\n",
      "35.jpg done\n",
      "36.jpg done\n",
      "37.jpg done\n",
      "38.jpg done\n",
      "39.jpg done\n",
      "40.jpg done\n",
      "41.jpg done\n",
      "42.jpg done\n",
      "43.jpg done\n",
      "44.jpg done\n",
      "45.jpg done\n",
      "46.jpg done\n",
      "47.jpg done\n",
      "48.jpg done\n",
      "49.jpg done\n",
      "50.jpg done\n",
      "51.jpg done\n",
      "52.jpg done\n",
      "53.jpg done\n",
      "54.jpg done\n",
      "55.jpg done\n",
      "56.jpg done\n",
      "57.jpg done\n",
      "58.jpg done\n",
      "59.jpg done\n",
      "60.jpg done\n",
      "61.jpg done\n",
      "62.jpg done\n",
      "63.jpg done\n",
      "64.jpg done\n",
      "65.jpg done\n",
      "66.jpg done\n",
      "67.jpg done\n",
      "68.jpg done\n",
      "69.jpg done\n",
      "70.jpg done\n",
      "71.jpg done\n",
      "72.jpg done\n",
      "73.jpg done\n",
      "74.jpg done\n",
      "75.jpg done\n",
      "76.jpg done\n",
      "77.jpg done\n"
     ]
    },
    {
     "name": "stderr",
     "output_type": "stream",
     "text": [
      " 70%|██████▉   | 294/421 [10:49<05:08,  2.43s/it]"
     ]
    },
    {
     "name": "stdout",
     "output_type": "stream",
     "text": [
      "78.jpg done\n",
      "79.jpg done\n",
      "0.jpg done\n",
      "1.jpg done\n",
      "2.jpg done\n",
      "3.jpg done\n",
      "4.jpg done\n",
      "5.jpg done\n",
      "6.jpg done\n",
      "7.jpg done\n",
      "8.jpg done\n",
      "9.jpg done\n",
      "10.jpg done\n",
      "11.jpg done\n",
      "12.jpg done\n",
      "13.jpg done\n",
      "14.jpg done\n",
      "15.jpg done\n",
      "16.jpg done\n",
      "17.jpg done\n",
      "18.jpg done\n",
      "19.jpg done\n",
      "20.jpg done\n",
      "21.jpg done\n",
      "22.jpg done\n",
      "23.jpg done\n",
      "24.jpg done\n",
      "25.jpg done\n",
      "26.jpg done\n",
      "27.jpg done\n",
      "28.jpg done\n",
      "29.jpg done\n",
      "30.jpg done\n",
      "31.jpg done\n",
      "32.jpg done\n",
      "33.jpg done\n",
      "34.jpg done\n",
      "35.jpg done\n",
      "36.jpg done\n",
      "37.jpg done\n",
      "38.jpg done\n",
      "39.jpg done\n",
      "40.jpg done\n",
      "41.jpg done\n",
      "42.jpg done\n",
      "43.jpg done\n",
      "44.jpg done\n",
      "45.jpg done\n",
      "46.jpg done\n",
      "47.jpg done\n",
      "48.jpg done\n",
      "49.jpg done\n",
      "50.jpg done\n",
      "51.jpg done\n",
      "52.jpg done\n",
      "53.jpg done\n",
      "54.jpg done\n",
      "55.jpg done\n",
      "56.jpg done\n",
      "57.jpg done\n",
      "58.jpg done\n",
      "59.jpg done\n",
      "60.jpg done\n",
      "61.jpg done\n",
      "62.jpg done\n",
      "63.jpg done\n",
      "64.jpg done\n",
      "65.jpg done\n",
      "66.jpg done\n",
      "67.jpg done\n",
      "68.jpg done\n",
      "69.jpg done\n",
      "70.jpg done\n",
      "71.jpg done\n"
     ]
    },
    {
     "name": "stderr",
     "output_type": "stream",
     "text": [
      " 70%|███████   | 295/421 [10:52<05:45,  2.74s/it]"
     ]
    },
    {
     "name": "stdout",
     "output_type": "stream",
     "text": [
      "72.jpg done\n",
      "73.jpg done\n"
     ]
    },
    {
     "name": "stderr",
     "output_type": "stream",
     "text": [
      " 70%|███████   | 296/421 [10:53<04:12,  2.02s/it]"
     ]
    },
    {
     "name": "stdout",
     "output_type": "stream",
     "text": [
      "0.jpg done\n",
      "1.jpg done\n",
      "2.jpg done\n",
      "3.jpg done\n",
      "0.jpg done\n",
      "1.jpg done\n",
      "2.jpg done\n",
      "3.jpg done\n",
      "4.jpg done\n",
      "5.jpg done\n",
      "6.jpg done\n",
      "7.jpg done\n",
      "8.jpg done\n",
      "9.jpg done\n",
      "10.jpg done\n",
      "11.jpg done\n",
      "12.jpg done\n",
      "13.jpg done\n",
      "14.jpg done\n",
      "15.jpg done\n",
      "16.jpg done\n",
      "17.jpg done\n",
      "18.jpg done\n",
      "19.jpg done\n",
      "20.jpg done\n",
      "21.jpg done\n",
      "22.jpg done\n",
      "23.jpg done\n",
      "24.jpg done\n",
      "25.jpg done\n",
      "26.jpg done\n",
      "27.jpg done\n",
      "28.jpg done\n",
      "29.jpg done\n",
      "30.jpg done\n",
      "31.jpg done\n",
      "32.jpg done\n",
      "33.jpg done\n",
      "34.jpg done\n"
     ]
    },
    {
     "name": "stderr",
     "output_type": "stream",
     "text": [
      " 71%|███████   | 297/421 [10:54<04:00,  1.94s/it]"
     ]
    },
    {
     "name": "stdout",
     "output_type": "stream",
     "text": [
      "35.jpg done\n",
      "0.jpg done\n",
      "1.jpg done\n",
      "2.jpg done\n",
      "3.jpg done\n",
      "4.jpg done\n",
      "5.jpg done\n",
      "6.jpg done\n",
      "7.jpg done\n",
      "8.jpg done\n",
      "9.jpg done\n",
      "10.jpg done\n",
      "11.jpg done\n",
      "12.jpg done\n",
      "13.jpg done\n",
      "14.jpg done\n",
      "15.jpg done\n",
      "16.jpg done\n",
      "17.jpg done\n",
      "18.jpg done\n",
      "19.jpg done\n",
      "20.jpg done\n",
      "21.jpg done\n",
      "22.jpg done\n",
      "23.jpg done\n",
      "24.jpg done\n",
      "25.jpg done\n",
      "26.jpg done\n",
      "27.jpg done\n",
      "28.jpg done\n",
      "29.jpg done\n",
      "30.jpg done\n",
      "31.jpg done\n",
      "32.jpg done\n",
      "33.jpg done\n",
      "34.jpg done\n",
      "35.jpg done\n",
      "36.jpg done\n",
      "37.jpg done\n",
      "38.jpg done\n",
      "39.jpg done\n",
      "40.jpg done\n",
      "41.jpg done\n",
      "42.jpg done\n",
      "43.jpg done\n",
      "44.jpg done\n",
      "45.jpg done\n",
      "46.jpg done\n",
      "47.jpg done\n",
      "48.jpg done\n",
      "49.jpg done\n",
      "50.jpg done\n",
      "51.jpg done\n",
      "52.jpg done\n",
      "53.jpg done\n",
      "54.jpg done\n",
      "55.jpg done\n"
     ]
    },
    {
     "name": "stderr",
     "output_type": "stream",
     "text": [
      " 71%|███████   | 298/421 [10:57<04:24,  2.15s/it]"
     ]
    },
    {
     "name": "stdout",
     "output_type": "stream",
     "text": [
      "0.jpg done\n",
      "1.jpg done\n",
      "2.jpg done\n",
      "3.jpg done\n",
      "4.jpg done\n",
      "5.jpg done\n",
      "6.jpg done\n",
      "7.jpg done\n",
      "8.jpg done\n",
      "9.jpg done\n",
      "10.jpg done\n",
      "11.jpg done\n",
      "12.jpg done\n",
      "13.jpg done\n",
      "14.jpg done\n",
      "15.jpg done\n",
      "16.jpg done\n",
      "17.jpg done\n",
      "18.jpg done\n",
      "19.jpg done\n",
      "20.jpg done\n",
      "21.jpg done\n",
      "22.jpg done\n",
      "23.jpg done\n",
      "24.jpg done\n"
     ]
    },
    {
     "name": "stderr",
     "output_type": "stream",
     "text": [
      " 71%|███████   | 299/421 [10:58<03:47,  1.86s/it]"
     ]
    },
    {
     "name": "stdout",
     "output_type": "stream",
     "text": [
      "25.jpg done\n",
      "0.jpg done\n",
      "1.jpg done\n",
      "2.jpg done\n",
      "3.jpg done\n",
      "4.jpg done\n",
      "5.jpg done\n",
      "6.jpg done\n",
      "7.jpg done\n",
      "8.jpg done\n",
      "9.jpg done\n",
      "10.jpg done\n",
      "11.jpg done\n",
      "12.jpg done\n",
      "13.jpg done\n",
      "14.jpg done\n",
      "15.jpg done\n",
      "16.jpg done\n",
      "17.jpg done\n",
      "18.jpg done\n",
      "19.jpg done\n",
      "20.jpg done\n",
      "21.jpg done\n",
      "22.jpg done\n",
      "23.jpg done\n",
      "24.jpg done\n",
      "25.jpg done\n",
      "26.jpg done\n",
      "27.jpg done\n",
      "28.jpg done\n",
      "29.jpg done\n",
      "30.jpg done\n",
      "31.jpg done\n",
      "32.jpg done\n",
      "33.jpg done\n",
      "34.jpg done\n",
      "35.jpg done\n",
      "36.jpg done\n",
      "37.jpg done\n",
      "38.jpg done\n",
      "39.jpg done\n",
      "40.jpg done\n",
      "41.jpg done\n",
      "42.jpg done\n",
      "43.jpg done\n",
      "44.jpg done\n",
      "45.jpg done\n",
      "46.jpg done\n",
      "47.jpg done\n",
      "48.jpg done\n",
      "49.jpg done\n",
      "50.jpg done\n",
      "51.jpg done\n",
      "52.jpg done\n",
      "53.jpg done\n",
      "54.jpg done\n",
      "55.jpg done\n",
      "56.jpg done\n",
      "57.jpg done\n"
     ]
    },
    {
     "name": "stderr",
     "output_type": "stream",
     "text": [
      " 71%|███████▏  | 300/421 [11:01<04:26,  2.20s/it]"
     ]
    },
    {
     "name": "stdout",
     "output_type": "stream",
     "text": [
      "58.jpg done\n",
      "59.jpg done\n",
      "60.jpg done\n",
      "61.jpg done\n",
      "62.jpg done\n",
      "0.jpg done\n",
      "1.jpg done\n",
      "2.jpg done\n",
      "3.jpg done\n",
      "4.jpg done\n",
      "5.jpg done\n",
      "6.jpg done\n",
      "7.jpg done\n",
      "8.jpg done\n",
      "9.jpg done\n"
     ]
    },
    {
     "name": "stderr",
     "output_type": "stream",
     "text": [
      " 71%|███████▏  | 301/421 [11:02<03:33,  1.78s/it]"
     ]
    },
    {
     "name": "stdout",
     "output_type": "stream",
     "text": [
      "10.jpg done\n",
      "11.jpg done\n",
      "12.jpg done\n",
      "0.jpg done\n",
      "1.jpg done\n",
      "2.jpg done\n",
      "3.jpg done\n",
      "4.jpg done\n",
      "5.jpg done\n",
      "6.jpg done\n",
      "7.jpg done\n",
      "8.jpg done\n",
      "9.jpg done\n",
      "10.jpg done\n",
      "11.jpg done\n",
      "12.jpg done\n",
      "13.jpg done\n",
      "14.jpg done\n",
      "15.jpg done\n",
      "16.jpg done\n",
      "17.jpg done\n",
      "18.jpg done\n",
      "19.jpg done\n",
      "20.jpg done\n",
      "21.jpg done\n",
      "22.jpg done\n",
      "23.jpg done\n",
      "24.jpg done\n",
      "25.jpg done\n",
      "26.jpg done\n",
      "27.jpg done\n",
      "28.jpg done\n",
      "29.jpg done\n",
      "30.jpg done\n",
      "31.jpg done\n",
      "32.jpg done\n",
      "33.jpg done\n",
      "34.jpg done\n",
      "35.jpg done\n",
      "36.jpg done\n",
      "37.jpg done\n"
     ]
    },
    {
     "name": "stderr",
     "output_type": "stream",
     "text": [
      " 72%|███████▏  | 302/421 [11:04<03:41,  1.86s/it]"
     ]
    },
    {
     "name": "stdout",
     "output_type": "stream",
     "text": [
      "38.jpg done\n",
      "39.jpg done\n",
      "40.jpg done\n",
      "0.jpg done\n",
      "1.jpg done\n",
      "2.jpg done\n",
      "3.jpg done\n",
      "4.jpg done\n",
      "5.jpg done\n",
      "6.jpg done\n",
      "7.jpg done\n",
      "8.jpg done\n",
      "9.jpg done\n",
      "10.jpg done\n",
      "11.jpg done\n",
      "12.jpg done\n",
      "13.jpg done\n",
      "14.jpg done\n",
      "15.jpg done\n",
      "16.jpg done\n",
      "17.jpg done\n",
      "18.jpg done\n",
      "19.jpg done\n",
      "20.jpg done\n",
      "21.jpg done\n",
      "22.jpg done\n",
      "23.jpg done\n",
      "24.jpg done\n",
      "25.jpg done\n",
      "26.jpg done\n",
      "27.jpg done\n",
      "28.jpg done\n",
      "29.jpg done\n",
      "30.jpg done\n",
      "31.jpg done\n",
      "32.jpg done\n",
      "33.jpg done\n",
      "34.jpg done\n",
      "35.jpg done\n",
      "36.jpg done\n",
      "37.jpg done\n",
      "38.jpg done\n",
      "39.jpg done\n",
      "40.jpg done\n",
      "41.jpg done\n",
      "42.jpg done\n",
      "43.jpg done\n",
      "44.jpg done\n",
      "45.jpg done\n",
      "46.jpg done\n",
      "47.jpg done\n",
      "48.jpg done\n",
      "49.jpg done\n",
      "50.jpg done\n",
      "51.jpg done\n",
      "52.jpg done\n",
      "53.jpg done\n",
      "54.jpg done\n",
      "55.jpg done\n",
      "56.jpg done\n",
      "57.jpg done\n",
      "58.jpg done\n",
      "59.jpg done\n",
      "60.jpg done\n",
      "61.jpg done\n",
      "62.jpg done\n",
      "63.jpg done\n",
      "64.jpg done\n",
      "65.jpg done\n",
      "66.jpg done\n",
      "67.jpg done\n",
      "68.jpg done\n",
      "69.jpg done\n",
      "70.jpg done\n",
      "71.jpg done\n",
      "72.jpg done\n",
      "73.jpg done\n",
      "74.jpg done\n",
      "75.jpg done\n",
      "76.jpg done\n",
      "77.jpg done\n",
      "78.jpg done\n",
      "79.jpg done\n",
      "80.jpg done\n",
      "81.jpg done\n",
      "82.jpg done\n",
      "83.jpg done\n",
      "84.jpg done\n",
      "85.jpg done\n",
      "86.jpg done\n",
      "87.jpg done\n",
      "88.jpg done\n",
      "89.jpg done\n",
      "90.jpg done\n",
      "91.jpg done\n",
      "92.jpg done\n",
      "93.jpg done\n",
      "94.jpg done\n",
      "95.jpg done\n",
      "96.jpg done\n",
      "97.jpg done\n",
      "98.jpg done\n",
      "99.jpg done\n",
      "100.jpg done\n",
      "101.jpg done\n",
      "102.jpg done\n",
      "103.jpg done\n",
      "104.jpg done\n",
      "105.jpg done\n",
      "106.jpg done\n",
      "107.jpg done\n",
      "108.jpg done\n",
      "109.jpg done\n",
      "110.jpg done\n",
      "111.jpg done\n",
      "112.jpg done\n",
      "113.jpg done\n",
      "114.jpg done\n",
      "115.jpg done\n",
      "116.jpg done\n",
      "117.jpg done\n",
      "118.jpg done\n",
      "119.jpg done\n",
      "120.jpg done\n",
      "121.jpg done\n",
      "122.jpg done\n",
      "123.jpg done\n",
      "124.jpg done\n",
      "125.jpg done\n",
      "126.jpg done\n",
      "127.jpg done\n",
      "128.jpg done\n",
      "129.jpg done\n",
      "130.jpg done\n",
      "131.jpg done\n",
      "132.jpg done\n",
      "133.jpg done\n",
      "134.jpg done\n",
      "135.jpg done\n",
      "136.jpg done\n",
      "137.jpg done\n",
      "138.jpg done\n",
      "139.jpg done\n",
      "140.jpg done\n",
      "141.jpg done\n",
      "142.jpg done\n",
      "143.jpg done\n",
      "144.jpg done\n",
      "145.jpg done\n",
      "146.jpg done\n",
      "147.jpg done\n",
      "148.jpg done\n",
      "149.jpg done\n",
      "150.jpg done\n",
      "151.jpg done\n",
      "152.jpg done\n",
      "153.jpg done\n",
      "154.jpg done\n",
      "155.jpg done\n",
      "156.jpg done\n",
      "157.jpg done\n",
      "158.jpg done\n",
      "159.jpg done\n",
      "160.jpg done\n",
      "161.jpg done\n",
      "162.jpg done\n",
      "163.jpg done\n",
      "164.jpg done\n",
      "165.jpg done\n",
      "166.jpg done\n",
      "167.jpg done\n",
      "168.jpg done\n",
      "169.jpg done\n"
     ]
    },
    {
     "name": "stderr",
     "output_type": "stream",
     "text": [
      " 72%|███████▏  | 303/421 [11:12<07:35,  3.86s/it]"
     ]
    },
    {
     "name": "stdout",
     "output_type": "stream",
     "text": [
      "170.jpg done\n",
      "0.jpg done\n",
      "1.jpg done\n",
      "2.jpg done\n",
      "3.jpg done\n",
      "4.jpg done\n",
      "5.jpg done\n",
      "6.jpg done\n",
      "7.jpg done\n",
      "8.jpg done\n",
      "9.jpg done\n",
      "10.jpg done\n",
      "11.jpg done\n",
      "12.jpg done\n",
      "13.jpg done\n",
      "14.jpg done\n",
      "15.jpg done\n",
      "16.jpg done\n",
      "17.jpg done\n",
      "18.jpg done\n",
      "19.jpg done\n",
      "20.jpg done\n",
      "21.jpg done\n",
      "22.jpg done\n",
      "23.jpg done\n",
      "24.jpg done\n",
      "25.jpg done\n",
      "26.jpg done\n",
      "27.jpg done\n",
      "28.jpg done\n",
      "29.jpg done\n",
      "30.jpg done\n",
      "31.jpg done\n",
      "32.jpg done\n",
      "33.jpg done\n",
      "34.jpg done\n",
      "35.jpg done\n",
      "36.jpg done\n",
      "37.jpg done\n",
      "38.jpg done\n",
      "39.jpg done\n",
      "40.jpg done\n",
      "41.jpg done\n",
      "42.jpg done\n",
      "43.jpg done\n",
      "44.jpg done\n",
      "45.jpg done\n",
      "46.jpg done\n",
      "47.jpg done\n",
      "48.jpg done\n",
      "49.jpg done\n",
      "50.jpg done\n",
      "51.jpg done\n",
      "52.jpg done\n",
      "53.jpg done\n",
      "54.jpg done\n",
      "55.jpg done\n",
      "56.jpg done\n",
      "57.jpg done\n",
      "58.jpg done\n",
      "59.jpg done\n",
      "60.jpg done\n",
      "61.jpg done\n",
      "62.jpg done\n",
      "63.jpg done\n",
      "64.jpg done\n",
      "65.jpg done\n",
      "66.jpg done\n",
      "67.jpg done\n",
      "68.jpg done\n",
      "69.jpg done\n",
      "70.jpg done\n"
     ]
    },
    {
     "name": "stderr",
     "output_type": "stream",
     "text": [
      " 72%|███████▏  | 304/421 [11:16<07:18,  3.75s/it]"
     ]
    },
    {
     "name": "stdout",
     "output_type": "stream",
     "text": [
      "71.jpg done\n",
      "0.jpg done\n",
      "1.jpg done\n",
      "2.jpg done\n",
      "3.jpg done\n",
      "4.jpg done\n",
      "5.jpg done\n",
      "6.jpg done\n",
      "7.jpg done\n",
      "8.jpg done\n",
      "9.jpg done\n",
      "10.jpg done\n",
      "11.jpg done\n",
      "12.jpg done\n",
      "13.jpg done\n",
      "14.jpg done\n",
      "15.jpg done\n",
      "16.jpg done\n",
      "17.jpg done\n",
      "18.jpg done\n",
      "19.jpg done\n",
      "20.jpg done\n",
      "21.jpg done\n",
      "22.jpg done\n",
      "23.jpg done\n",
      "24.jpg done\n",
      "25.jpg done\n",
      "26.jpg done\n",
      "27.jpg done\n",
      "28.jpg done\n",
      "29.jpg done\n",
      "30.jpg done\n",
      "31.jpg done\n",
      "32.jpg done\n",
      "33.jpg done\n",
      "34.jpg done\n",
      "35.jpg done\n",
      "36.jpg done\n",
      "37.jpg done\n",
      "38.jpg done\n",
      "39.jpg done\n",
      "40.jpg done\n",
      "41.jpg done\n",
      "42.jpg done\n",
      "43.jpg done\n",
      "44.jpg done\n",
      "45.jpg done\n",
      "46.jpg done\n",
      "47.jpg done\n",
      "48.jpg done\n",
      "49.jpg done\n",
      "50.jpg done\n",
      "51.jpg done\n",
      "52.jpg done\n",
      "53.jpg done\n",
      "54.jpg done\n",
      "55.jpg done\n",
      "56.jpg done\n",
      "57.jpg done\n",
      "58.jpg done\n",
      "59.jpg done\n",
      "60.jpg done\n"
     ]
    },
    {
     "name": "stderr",
     "output_type": "stream",
     "text": [
      " 72%|███████▏  | 305/421 [11:19<06:53,  3.56s/it]"
     ]
    },
    {
     "name": "stdout",
     "output_type": "stream",
     "text": [
      "61.jpg done\n",
      "62.jpg done\n",
      "0.jpg done\n",
      "1.jpg done\n",
      "2.jpg done\n",
      "3.jpg done\n",
      "4.jpg done\n",
      "5.jpg done\n",
      "6.jpg done\n",
      "7.jpg done\n",
      "8.jpg done\n",
      "9.jpg done\n",
      "10.jpg done\n",
      "11.jpg done\n",
      "12.jpg done\n",
      "13.jpg done\n",
      "14.jpg done\n",
      "15.jpg done\n",
      "16.jpg done\n",
      "17.jpg done\n",
      "18.jpg done\n",
      "19.jpg done\n",
      "20.jpg done\n",
      "21.jpg done\n",
      "22.jpg done\n",
      "23.jpg done\n",
      "24.jpg done\n",
      "25.jpg done\n",
      "26.jpg done\n",
      "27.jpg done\n",
      "28.jpg done\n",
      "29.jpg done\n",
      "30.jpg done\n",
      "31.jpg done\n",
      "32.jpg done\n",
      "33.jpg done\n",
      "34.jpg done\n",
      "35.jpg done\n",
      "36.jpg done\n",
      "37.jpg done\n",
      "38.jpg done\n",
      "39.jpg done\n",
      "40.jpg done\n",
      "41.jpg done\n",
      "42.jpg done\n",
      "43.jpg done\n",
      "44.jpg done\n",
      "45.jpg done\n",
      "46.jpg done\n",
      "47.jpg done\n",
      "48.jpg done\n",
      "49.jpg done\n",
      "50.jpg done\n",
      "51.jpg done\n",
      "52.jpg done\n",
      "53.jpg done\n",
      "54.jpg done\n",
      "55.jpg done\n",
      "56.jpg done\n",
      "57.jpg done\n",
      "58.jpg done\n",
      "59.jpg done\n",
      "60.jpg done\n"
     ]
    },
    {
     "name": "stderr",
     "output_type": "stream",
     "text": [
      " 73%|███████▎  | 306/421 [11:22<06:26,  3.36s/it]"
     ]
    },
    {
     "name": "stdout",
     "output_type": "stream",
     "text": [
      "61.jpg done\n",
      "62.jpg done\n",
      "63.jpg done\n",
      "0.jpg done\n",
      "1.jpg done\n",
      "2.jpg done\n",
      "3.jpg done\n",
      "4.jpg done\n",
      "5.jpg done\n",
      "6.jpg done\n",
      "7.jpg done\n",
      "8.jpg done\n",
      "9.jpg done\n",
      "10.jpg done\n",
      "11.jpg done\n",
      "12.jpg done\n",
      "13.jpg done\n",
      "14.jpg done\n",
      "15.jpg done\n",
      "16.jpg done\n",
      "17.jpg done\n",
      "18.jpg done\n",
      "19.jpg done\n",
      "20.jpg done\n",
      "21.jpg done\n",
      "22.jpg done\n",
      "23.jpg done\n",
      "24.jpg done\n",
      "25.jpg done\n",
      "26.jpg done\n",
      "27.jpg done\n",
      "28.jpg done\n",
      "29.jpg done\n",
      "30.jpg done\n",
      "31.jpg done\n",
      "32.jpg done\n",
      "33.jpg done\n",
      "34.jpg done\n",
      "35.jpg done\n",
      "36.jpg done\n",
      "37.jpg done\n",
      "38.jpg done\n",
      "39.jpg done\n",
      "40.jpg done\n",
      "41.jpg done\n",
      "42.jpg done\n",
      "43.jpg done\n",
      "44.jpg done\n",
      "45.jpg done\n",
      "46.jpg done\n",
      "47.jpg done\n",
      "48.jpg done\n",
      "49.jpg done\n",
      "50.jpg done\n",
      "51.jpg done\n",
      "52.jpg done\n",
      "53.jpg done\n",
      "54.jpg done\n",
      "55.jpg done\n",
      "56.jpg done\n",
      "57.jpg done\n",
      "58.jpg done\n",
      "59.jpg done\n",
      "60.jpg done\n",
      "61.jpg done\n",
      "62.jpg done\n",
      "63.jpg done\n",
      "64.jpg done\n",
      "65.jpg done\n",
      "66.jpg done\n",
      "67.jpg done\n",
      "68.jpg done\n",
      "69.jpg done\n",
      "70.jpg done\n",
      "71.jpg done\n",
      "72.jpg done\n",
      "73.jpg done\n",
      "74.jpg done\n",
      "75.jpg done\n",
      "76.jpg done\n",
      "77.jpg done\n",
      "78.jpg done\n",
      "79.jpg done\n",
      "80.jpg done\n",
      "81.jpg done\n",
      "82.jpg done\n",
      "83.jpg done\n",
      "84.jpg done\n",
      "85.jpg done\n",
      "86.jpg done\n",
      "87.jpg done\n",
      "88.jpg done\n",
      "89.jpg done\n",
      "90.jpg done\n",
      "91.jpg done\n",
      "92.jpg done\n",
      "93.jpg done\n",
      "94.jpg done\n",
      "95.jpg done\n",
      "96.jpg done\n",
      "97.jpg done\n",
      "98.jpg done\n",
      "99.jpg done\n",
      "100.jpg done\n",
      "101.jpg done\n",
      "102.jpg done\n",
      "103.jpg done\n",
      "104.jpg done\n"
     ]
    },
    {
     "name": "stderr",
     "output_type": "stream",
     "text": [
      " 73%|███████▎  | 307/421 [11:27<07:10,  3.77s/it]"
     ]
    },
    {
     "name": "stdout",
     "output_type": "stream",
     "text": [
      "105.jpg done\n",
      "106.jpg done\n",
      "0.jpg done\n",
      "1.jpg done\n",
      "2.jpg done\n",
      "3.jpg done\n",
      "4.jpg done\n",
      "5.jpg done\n",
      "6.jpg done\n",
      "7.jpg done\n",
      "8.jpg done\n",
      "9.jpg done\n",
      "10.jpg done\n",
      "11.jpg done\n",
      "12.jpg done\n",
      "13.jpg done\n",
      "14.jpg done\n",
      "15.jpg done\n",
      "16.jpg done\n",
      "17.jpg done\n",
      "18.jpg done\n",
      "19.jpg done\n",
      "20.jpg done\n",
      "21.jpg done\n",
      "22.jpg done\n",
      "23.jpg done\n",
      "24.jpg done\n",
      "25.jpg done\n",
      "26.jpg done\n",
      "27.jpg done\n",
      "28.jpg done\n",
      "29.jpg done\n",
      "30.jpg done\n",
      "31.jpg done\n",
      "32.jpg done\n",
      "33.jpg done\n",
      "34.jpg done\n",
      "35.jpg done\n",
      "36.jpg done\n",
      "37.jpg done\n",
      "38.jpg done\n",
      "39.jpg done\n",
      "40.jpg done\n",
      "41.jpg done\n",
      "42.jpg done\n",
      "43.jpg done\n",
      "44.jpg done\n",
      "45.jpg done\n",
      "46.jpg done\n",
      "47.jpg done\n"
     ]
    },
    {
     "name": "stderr",
     "output_type": "stream",
     "text": [
      " 73%|███████▎  | 308/421 [11:29<06:23,  3.39s/it]"
     ]
    },
    {
     "name": "stdout",
     "output_type": "stream",
     "text": [
      "48.jpg done\n",
      "49.jpg done\n",
      "0.jpg done\n",
      "1.jpg done\n",
      "2.jpg done\n",
      "3.jpg done\n",
      "4.jpg done\n",
      "5.jpg done\n",
      "6.jpg done\n",
      "7.jpg done\n",
      "8.jpg done\n",
      "9.jpg done\n",
      "10.jpg done\n",
      "11.jpg done\n",
      "12.jpg done\n",
      "13.jpg done\n",
      "14.jpg done\n",
      "15.jpg done\n",
      "16.jpg done\n",
      "17.jpg done\n",
      "18.jpg done\n",
      "19.jpg done\n",
      "20.jpg done\n",
      "21.jpg done\n",
      "22.jpg done\n",
      "23.jpg done\n",
      "24.jpg done\n",
      "25.jpg done\n",
      "26.jpg done\n",
      "27.jpg done\n",
      "28.jpg done\n",
      "29.jpg done\n",
      "30.jpg done\n",
      "31.jpg done\n",
      "32.jpg done\n",
      "33.jpg done\n",
      "34.jpg done\n",
      "35.jpg done\n",
      "36.jpg done\n",
      "37.jpg done\n",
      "38.jpg done\n",
      "39.jpg done\n",
      "40.jpg done\n",
      "41.jpg done\n",
      "42.jpg done\n",
      "43.jpg done\n",
      "44.jpg done\n",
      "45.jpg done\n",
      "46.jpg done\n",
      "47.jpg done\n",
      "48.jpg done\n",
      "49.jpg done\n",
      "50.jpg done\n",
      "51.jpg done\n",
      "52.jpg done\n",
      "53.jpg done\n",
      "54.jpg done\n",
      "55.jpg done\n"
     ]
    },
    {
     "name": "stderr",
     "output_type": "stream",
     "text": [
      " 73%|███████▎  | 309/421 [11:32<05:59,  3.21s/it]"
     ]
    },
    {
     "name": "stdout",
     "output_type": "stream",
     "text": [
      "56.jpg done\n",
      "57.jpg done\n",
      "58.jpg done\n",
      "59.jpg done\n",
      "0.jpg done\n",
      "1.jpg done\n",
      "2.jpg done\n",
      "3.jpg done\n",
      "4.jpg done\n"
     ]
    },
    {
     "name": "stderr",
     "output_type": "stream",
     "text": [
      " 74%|███████▎  | 310/421 [11:32<04:25,  2.39s/it]"
     ]
    },
    {
     "name": "stdout",
     "output_type": "stream",
     "text": [
      "5.jpg done\n",
      "6.jpg done\n",
      "7.jpg done\n",
      "8.jpg done\n",
      "0.jpg done\n",
      "1.jpg done\n",
      "2.jpg done\n",
      "3.jpg done\n",
      "4.jpg done\n",
      "5.jpg done\n",
      "6.jpg done\n",
      "7.jpg done\n",
      "8.jpg done\n",
      "9.jpg done\n",
      "10.jpg done\n",
      "11.jpg done\n",
      "12.jpg done\n",
      "13.jpg done\n",
      "14.jpg done\n",
      "15.jpg done\n",
      "16.jpg done\n",
      "17.jpg done\n",
      "18.jpg done\n",
      "19.jpg done\n",
      "20.jpg done\n",
      "21.jpg done\n",
      "22.jpg done\n",
      "23.jpg done\n",
      "24.jpg done\n",
      "25.jpg done\n",
      "26.jpg done\n",
      "27.jpg done\n",
      "28.jpg done\n",
      "29.jpg done\n",
      "30.jpg done\n",
      "31.jpg done\n",
      "32.jpg done\n",
      "33.jpg done\n",
      "34.jpg done\n",
      "35.jpg done\n",
      "36.jpg done\n",
      "37.jpg done\n",
      "38.jpg done\n",
      "39.jpg done\n",
      "40.jpg done\n",
      "41.jpg done\n",
      "42.jpg done\n",
      "43.jpg done\n",
      "44.jpg done\n"
     ]
    },
    {
     "name": "stderr",
     "output_type": "stream",
     "text": [
      " 74%|███████▍  | 311/421 [11:35<04:17,  2.34s/it]"
     ]
    },
    {
     "name": "stdout",
     "output_type": "stream",
     "text": [
      "45.jpg done\n",
      "46.jpg done\n",
      "0.jpg done\n",
      "1.jpg done\n",
      "2.jpg done\n",
      "3.jpg done\n",
      "4.jpg done\n",
      "5.jpg done\n",
      "6.jpg done\n",
      "7.jpg done\n",
      "8.jpg done\n",
      "9.jpg done\n",
      "10.jpg done\n",
      "11.jpg done\n",
      "12.jpg done\n",
      "13.jpg done\n",
      "14.jpg done\n",
      "15.jpg done\n",
      "16.jpg done\n",
      "17.jpg done\n",
      "18.jpg done\n",
      "19.jpg done\n",
      "20.jpg done\n",
      "21.jpg done\n",
      "22.jpg done\n",
      "23.jpg done\n",
      "24.jpg done\n",
      "25.jpg done\n",
      "26.jpg done\n",
      "27.jpg done\n",
      "28.jpg done\n",
      "29.jpg done\n",
      "30.jpg done\n",
      "31.jpg done\n",
      "32.jpg done\n",
      "33.jpg done\n",
      "34.jpg done\n",
      "35.jpg done\n",
      "36.jpg done\n",
      "37.jpg done\n",
      "38.jpg done\n",
      "39.jpg done\n",
      "40.jpg done\n",
      "41.jpg done\n",
      "42.jpg done\n",
      "43.jpg done\n",
      "44.jpg done\n",
      "45.jpg done\n",
      "46.jpg done\n",
      "47.jpg done\n",
      "48.jpg done\n",
      "49.jpg done\n",
      "50.jpg done\n",
      "51.jpg done\n",
      "52.jpg done\n",
      "53.jpg done\n",
      "54.jpg done\n",
      "55.jpg done\n",
      "56.jpg done\n",
      "57.jpg done\n",
      "58.jpg done\n"
     ]
    },
    {
     "name": "stderr",
     "output_type": "stream",
     "text": [
      " 74%|███████▍  | 312/421 [11:38<04:33,  2.51s/it]"
     ]
    },
    {
     "name": "stdout",
     "output_type": "stream",
     "text": [
      "59.jpg done\n",
      "0.jpg done\n",
      "1.jpg done\n",
      "2.jpg done\n",
      "3.jpg done\n",
      "4.jpg done\n",
      "5.jpg done\n",
      "6.jpg done\n",
      "7.jpg done\n",
      "8.jpg done\n"
     ]
    },
    {
     "name": "stderr",
     "output_type": "stream",
     "text": [
      " 74%|███████▍  | 313/421 [11:38<03:33,  1.98s/it]"
     ]
    },
    {
     "name": "stdout",
     "output_type": "stream",
     "text": [
      "9.jpg done\n",
      "10.jpg done\n",
      "0.jpg done\n",
      "1.jpg done\n",
      "2.jpg done\n",
      "3.jpg done\n",
      "4.jpg done\n",
      "5.jpg done\n",
      "6.jpg done\n",
      "7.jpg done\n",
      "8.jpg done\n",
      "9.jpg done\n",
      "10.jpg done\n",
      "11.jpg done\n",
      "12.jpg done\n",
      "13.jpg done\n",
      "14.jpg done\n",
      "15.jpg done\n",
      "16.jpg done\n",
      "17.jpg done\n",
      "18.jpg done\n",
      "19.jpg done\n",
      "20.jpg done\n",
      "21.jpg done\n",
      "22.jpg done\n",
      "23.jpg done\n",
      "24.jpg done\n",
      "25.jpg done\n",
      "26.jpg done\n",
      "27.jpg done\n",
      "28.jpg done\n",
      "29.jpg done\n",
      "30.jpg done\n",
      "31.jpg done\n",
      "32.jpg done\n",
      "33.jpg done\n",
      "34.jpg done\n",
      "35.jpg done\n",
      "36.jpg done\n",
      "37.jpg done\n",
      "38.jpg done\n",
      "39.jpg done\n",
      "40.jpg done\n",
      "41.jpg done\n",
      "42.jpg done\n",
      "43.jpg done\n",
      "44.jpg done\n",
      "45.jpg done\n",
      "46.jpg done\n",
      "47.jpg done\n",
      "48.jpg done\n",
      "49.jpg done\n",
      "50.jpg done\n",
      "51.jpg done\n",
      "52.jpg done\n",
      "53.jpg done\n",
      "54.jpg done\n",
      "55.jpg done\n",
      "56.jpg done\n",
      "57.jpg done\n",
      "58.jpg done\n",
      "59.jpg done\n",
      "60.jpg done\n",
      "61.jpg done\n",
      "62.jpg done\n",
      "63.jpg done\n",
      "64.jpg done\n",
      "65.jpg done\n",
      "66.jpg done\n",
      "67.jpg done\n",
      "68.jpg done\n",
      "69.jpg done\n",
      "70.jpg done\n",
      "71.jpg done\n",
      "72.jpg done\n",
      "73.jpg done\n",
      "74.jpg done\n",
      "75.jpg done\n",
      "76.jpg done\n",
      "77.jpg done\n",
      "78.jpg done\n",
      "79.jpg done\n",
      "80.jpg done\n",
      "81.jpg done\n",
      "82.jpg done\n",
      "83.jpg done\n",
      "84.jpg done\n",
      "85.jpg done\n",
      "86.jpg done\n",
      "87.jpg done\n",
      "88.jpg done\n",
      "89.jpg done\n",
      "90.jpg done\n",
      "91.jpg done\n",
      "92.jpg done\n",
      "93.jpg done\n",
      "94.jpg done\n",
      "95.jpg done\n",
      "96.jpg done\n",
      "97.jpg done\n",
      "98.jpg done\n",
      "99.jpg done\n",
      "100.jpg done\n",
      "101.jpg done\n",
      "102.jpg done\n",
      "103.jpg done\n",
      "104.jpg done\n",
      "105.jpg done\n",
      "106.jpg done\n",
      "107.jpg done\n",
      "108.jpg done\n",
      "109.jpg done\n",
      "110.jpg done\n",
      "111.jpg done\n",
      "112.jpg done\n",
      "113.jpg done\n",
      "114.jpg done\n",
      "115.jpg done\n",
      "116.jpg done\n",
      "117.jpg done\n",
      "118.jpg done\n",
      "119.jpg done\n",
      "120.jpg done\n",
      "121.jpg done\n",
      "122.jpg done\n",
      "123.jpg done\n",
      "124.jpg done\n",
      "125.jpg done\n",
      "126.jpg done\n",
      "127.jpg done\n",
      "128.jpg done\n",
      "129.jpg done\n",
      "130.jpg done\n",
      "131.jpg done\n",
      "132.jpg done\n",
      "133.jpg done\n",
      "134.jpg done\n",
      "135.jpg done\n",
      "136.jpg done\n",
      "137.jpg done\n",
      "138.jpg done\n",
      "139.jpg done\n",
      "140.jpg done\n",
      "141.jpg done\n",
      "142.jpg done\n",
      "143.jpg done\n",
      "144.jpg done\n",
      "145.jpg done\n",
      "146.jpg done\n",
      "147.jpg done\n",
      "148.jpg done\n",
      "149.jpg done\n",
      "150.jpg done\n",
      "151.jpg done\n",
      "152.jpg done\n",
      "153.jpg done\n",
      "154.jpg done\n",
      "155.jpg done\n",
      "156.jpg done\n",
      "157.jpg done\n",
      "158.jpg done\n",
      "159.jpg done\n",
      "160.jpg done\n",
      "161.jpg done\n",
      "162.jpg done\n",
      "163.jpg done\n",
      "164.jpg done\n",
      "165.jpg done\n",
      "166.jpg done\n",
      "167.jpg done\n",
      "168.jpg done\n",
      "169.jpg done\n",
      "170.jpg done\n",
      "171.jpg done\n",
      "172.jpg done\n",
      "173.jpg done\n",
      "174.jpg done\n",
      "175.jpg done\n",
      "176.jpg done\n",
      "177.jpg done\n",
      "178.jpg done\n",
      "179.jpg done\n",
      "180.jpg done\n",
      "181.jpg done\n",
      "182.jpg done\n",
      "183.jpg done\n",
      "184.jpg done\n",
      "185.jpg done\n",
      "186.jpg done\n",
      "187.jpg done\n",
      "188.jpg done\n",
      "189.jpg done\n",
      "190.jpg done\n",
      "191.jpg done\n",
      "192.jpg done\n",
      "193.jpg done\n",
      "194.jpg done\n",
      "195.jpg done\n",
      "196.jpg done\n",
      "197.jpg done\n",
      "198.jpg done\n",
      "199.jpg done\n",
      "200.jpg done\n",
      "201.jpg done\n",
      "202.jpg done\n",
      "203.jpg done\n",
      "204.jpg done\n",
      "205.jpg done\n",
      "206.jpg done\n",
      "207.jpg done\n",
      "208.jpg done\n",
      "209.jpg done\n",
      "210.jpg done\n",
      "211.jpg done\n",
      "212.jpg done\n",
      "213.jpg done\n",
      "214.jpg done\n",
      "215.jpg done\n",
      "216.jpg done\n",
      "217.jpg done\n",
      "218.jpg done\n",
      "219.jpg done\n"
     ]
    },
    {
     "name": "stderr",
     "output_type": "stream",
     "text": [
      " 75%|███████▍  | 314/421 [11:49<08:12,  4.61s/it]"
     ]
    },
    {
     "name": "stdout",
     "output_type": "stream",
     "text": [
      "220.jpg done\n",
      "221.jpg done\n",
      "222.jpg done\n",
      "223.jpg done\n",
      "0.jpg done\n",
      "1.jpg done\n",
      "2.jpg done\n",
      "3.jpg done\n",
      "4.jpg done\n",
      "5.jpg done\n",
      "6.jpg done\n",
      "7.jpg done\n",
      "8.jpg done\n",
      "9.jpg done\n",
      "10.jpg done\n",
      "11.jpg done\n",
      "12.jpg done\n",
      "13.jpg done\n",
      "14.jpg done\n",
      "15.jpg done\n",
      "16.jpg done\n",
      "17.jpg done\n",
      "18.jpg done\n",
      "19.jpg done\n",
      "20.jpg done\n",
      "21.jpg done\n",
      "22.jpg done\n",
      "23.jpg done\n",
      "24.jpg done\n",
      "25.jpg done\n",
      "26.jpg done\n",
      "27.jpg done\n",
      "28.jpg done\n",
      "29.jpg done\n",
      "30.jpg done\n",
      "31.jpg done\n",
      "32.jpg done\n",
      "33.jpg done\n",
      "34.jpg done\n",
      "35.jpg done\n",
      "36.jpg done\n",
      "37.jpg done\n",
      "38.jpg done\n",
      "39.jpg done\n",
      "40.jpg done\n",
      "41.jpg done\n",
      "42.jpg done\n",
      "43.jpg done\n",
      "44.jpg done\n",
      "45.jpg done\n",
      "46.jpg done\n",
      "47.jpg done\n",
      "48.jpg done\n"
     ]
    },
    {
     "name": "stderr",
     "output_type": "stream",
     "text": [
      " 75%|███████▍  | 315/421 [11:52<07:01,  3.97s/it]"
     ]
    },
    {
     "name": "stdout",
     "output_type": "stream",
     "text": [
      "49.jpg done\n",
      "50.jpg done\n",
      "0.jpg done\n",
      "1.jpg done\n",
      "2.jpg done\n",
      "3.jpg done\n",
      "4.jpg done\n",
      "5.jpg done\n",
      "6.jpg done\n",
      "7.jpg done\n",
      "8.jpg done\n",
      "9.jpg done\n",
      "10.jpg done\n",
      "11.jpg done\n",
      "12.jpg done\n",
      "13.jpg done\n",
      "14.jpg done\n",
      "15.jpg done\n",
      "16.jpg done\n",
      "17.jpg done\n",
      "18.jpg done\n",
      "19.jpg done\n",
      "20.jpg done\n",
      "21.jpg done\n",
      "22.jpg done\n",
      "23.jpg done\n",
      "24.jpg done\n",
      "25.jpg done\n",
      "26.jpg done\n",
      "27.jpg done\n",
      "28.jpg done\n",
      "29.jpg done\n",
      "30.jpg done\n",
      "31.jpg done\n",
      "32.jpg done\n",
      "33.jpg done\n",
      "34.jpg done\n",
      "35.jpg done\n",
      "36.jpg done\n",
      "37.jpg done\n",
      "38.jpg done\n",
      "39.jpg done\n",
      "40.jpg done\n",
      "41.jpg done\n",
      "42.jpg done\n",
      "43.jpg done\n",
      "44.jpg done\n",
      "45.jpg done\n",
      "46.jpg done\n",
      "47.jpg done\n",
      "48.jpg done\n",
      "49.jpg done\n",
      "50.jpg done\n",
      "51.jpg done\n",
      "52.jpg done\n",
      "53.jpg done\n",
      "54.jpg done\n",
      "55.jpg done\n",
      "56.jpg done\n",
      "57.jpg done\n",
      "58.jpg done\n",
      "59.jpg done\n",
      "60.jpg done\n",
      "61.jpg done\n",
      "62.jpg done\n",
      "63.jpg done\n",
      "64.jpg done\n",
      "65.jpg done\n",
      "66.jpg done\n",
      "67.jpg done\n",
      "68.jpg done\n",
      "69.jpg done\n",
      "70.jpg done\n",
      "71.jpg done\n",
      "72.jpg done\n",
      "73.jpg done\n"
     ]
    },
    {
     "name": "stderr",
     "output_type": "stream",
     "text": [
      " 75%|███████▌  | 316/421 [11:55<06:50,  3.91s/it]"
     ]
    },
    {
     "name": "stdout",
     "output_type": "stream",
     "text": [
      "74.jpg done\n",
      "75.jpg done\n",
      "76.jpg done\n",
      "77.jpg done\n",
      "0.jpg done\n",
      "1.jpg done\n",
      "2.jpg done\n",
      "3.jpg done\n",
      "4.jpg done\n",
      "5.jpg done\n",
      "6.jpg done\n",
      "7.jpg done\n",
      "8.jpg done\n",
      "9.jpg done\n",
      "10.jpg done\n",
      "11.jpg done\n",
      "12.jpg done\n",
      "13.jpg done\n",
      "14.jpg done\n",
      "15.jpg done\n",
      "16.jpg done\n",
      "17.jpg done\n",
      "18.jpg done\n",
      "19.jpg done\n",
      "20.jpg done\n",
      "21.jpg done\n",
      "22.jpg done\n",
      "23.jpg done\n",
      "24.jpg done\n",
      "25.jpg done\n",
      "26.jpg done\n",
      "27.jpg done\n",
      "28.jpg done\n",
      "29.jpg done\n",
      "30.jpg done\n",
      "31.jpg done\n",
      "32.jpg done\n",
      "33.jpg done\n",
      "34.jpg done\n",
      "35.jpg done\n",
      "36.jpg done\n",
      "37.jpg done\n",
      "38.jpg done\n",
      "39.jpg done\n",
      "40.jpg done\n",
      "41.jpg done\n",
      "42.jpg done\n",
      "43.jpg done\n",
      "44.jpg done\n",
      "45.jpg done\n",
      "46.jpg done\n",
      "47.jpg done\n",
      "48.jpg done\n"
     ]
    },
    {
     "name": "stderr",
     "output_type": "stream",
     "text": [
      " 75%|███████▌  | 317/421 [11:58<06:03,  3.50s/it]"
     ]
    },
    {
     "name": "stdout",
     "output_type": "stream",
     "text": [
      "49.jpg done\n",
      "50.jpg done\n",
      "51.jpg done\n",
      "0.jpg done\n",
      "1.jpg done\n",
      "2.jpg done\n",
      "3.jpg done\n",
      "4.jpg done\n",
      "5.jpg done\n",
      "6.jpg done\n",
      "7.jpg done\n",
      "8.jpg done\n",
      "9.jpg done\n",
      "10.jpg done\n",
      "11.jpg done\n",
      "12.jpg done\n",
      "13.jpg done\n",
      "14.jpg done\n"
     ]
    },
    {
     "name": "stderr",
     "output_type": "stream",
     "text": [
      " 76%|███████▌  | 318/421 [11:59<04:42,  2.74s/it]"
     ]
    },
    {
     "name": "stdout",
     "output_type": "stream",
     "text": [
      "15.jpg done\n",
      "16.jpg done\n",
      "17.jpg done\n",
      "18.jpg done\n",
      "19.jpg done\n",
      "0.jpg done\n",
      "1.jpg done\n",
      "2.jpg done\n",
      "3.jpg done\n",
      "4.jpg done\n",
      "5.jpg done\n",
      "6.jpg done\n",
      "7.jpg done\n",
      "8.jpg done\n",
      "9.jpg done\n"
     ]
    },
    {
     "name": "stderr",
     "output_type": "stream",
     "text": [
      " 76%|███████▌  | 319/421 [11:59<03:31,  2.08s/it]"
     ]
    },
    {
     "name": "stdout",
     "output_type": "stream",
     "text": [
      "0.jpg done\n",
      "1.jpg done\n",
      "2.jpg done\n",
      "3.jpg done\n",
      "4.jpg done\n",
      "5.jpg done\n",
      "6.jpg done\n",
      "7.jpg done\n",
      "8.jpg done\n",
      "9.jpg done\n",
      "10.jpg done\n",
      "11.jpg done\n",
      "12.jpg done\n",
      "13.jpg done\n",
      "14.jpg done\n"
     ]
    },
    {
     "name": "stderr",
     "output_type": "stream",
     "text": [
      " 76%|███████▌  | 320/421 [12:00<03:00,  1.79s/it]"
     ]
    },
    {
     "name": "stdout",
     "output_type": "stream",
     "text": [
      "15.jpg done\n",
      "16.jpg done\n",
      "17.jpg done\n",
      "0.jpg done\n",
      "1.jpg done\n",
      "2.jpg done\n",
      "3.jpg done\n",
      "4.jpg done\n",
      "5.jpg done\n",
      "6.jpg done\n",
      "7.jpg done\n",
      "8.jpg done\n",
      "9.jpg done\n",
      "10.jpg done\n",
      "11.jpg done\n",
      "12.jpg done\n",
      "13.jpg done\n",
      "14.jpg done\n",
      "15.jpg done\n",
      "16.jpg done\n",
      "17.jpg done\n",
      "18.jpg done\n",
      "19.jpg done\n",
      "20.jpg done\n",
      "21.jpg done\n",
      "22.jpg done\n",
      "23.jpg done\n",
      "24.jpg done\n",
      "25.jpg done\n",
      "26.jpg done\n",
      "27.jpg done\n",
      "28.jpg done\n",
      "29.jpg done\n",
      "30.jpg done\n"
     ]
    },
    {
     "name": "stderr",
     "output_type": "stream",
     "text": [
      " 76%|███████▌  | 321/421 [12:02<02:53,  1.74s/it]"
     ]
    },
    {
     "name": "stdout",
     "output_type": "stream",
     "text": [
      "31.jpg done\n",
      "32.jpg done\n",
      "33.jpg done\n"
     ]
    },
    {
     "name": "stderr",
     "output_type": "stream",
     "text": [
      " 76%|███████▋  | 322/421 [12:02<02:08,  1.29s/it]"
     ]
    },
    {
     "name": "stdout",
     "output_type": "stream",
     "text": [
      "0.jpg done\n",
      "1.jpg done\n",
      "2.jpg done\n",
      "3.jpg done\n",
      "0.jpg done\n",
      "1.jpg done\n",
      "2.jpg done\n",
      "3.jpg done\n",
      "4.jpg done\n",
      "5.jpg done\n",
      "6.jpg done\n",
      "7.jpg done\n",
      "8.jpg done\n",
      "9.jpg done\n",
      "10.jpg done\n",
      "11.jpg done\n",
      "12.jpg done\n",
      "13.jpg done\n",
      "14.jpg done\n",
      "15.jpg done\n",
      "16.jpg done\n",
      "17.jpg done\n",
      "18.jpg done\n",
      "19.jpg done\n"
     ]
    },
    {
     "name": "stderr",
     "output_type": "stream",
     "text": [
      " 77%|███████▋  | 323/421 [12:03<02:01,  1.24s/it]"
     ]
    },
    {
     "name": "stdout",
     "output_type": "stream",
     "text": [
      "20.jpg done\n",
      "21.jpg done\n",
      "22.jpg done\n",
      "0.jpg done\n",
      "1.jpg done\n",
      "2.jpg done\n",
      "3.jpg done\n",
      "4.jpg done\n",
      "5.jpg done\n",
      "6.jpg done\n",
      "7.jpg done\n",
      "8.jpg done\n",
      "9.jpg done\n",
      "10.jpg done\n",
      "11.jpg done\n",
      "12.jpg done\n",
      "13.jpg done\n",
      "14.jpg done\n",
      "15.jpg done\n",
      "16.jpg done\n",
      "17.jpg done\n",
      "18.jpg done\n",
      "19.jpg done\n",
      "20.jpg done\n",
      "21.jpg done\n",
      "22.jpg done\n",
      "23.jpg done\n",
      "24.jpg done\n",
      "25.jpg done\n"
     ]
    },
    {
     "name": "stderr",
     "output_type": "stream",
     "text": [
      " 77%|███████▋  | 324/421 [12:05<02:07,  1.32s/it]"
     ]
    },
    {
     "name": "stdout",
     "output_type": "stream",
     "text": [
      "26.jpg done\n",
      "27.jpg done\n",
      "28.jpg done\n",
      "0.jpg done\n",
      "1.jpg done\n",
      "2.jpg done\n",
      "3.jpg done\n",
      "4.jpg done\n",
      "5.jpg done\n",
      "6.jpg done\n",
      "7.jpg done\n",
      "8.jpg done\n",
      "9.jpg done\n",
      "10.jpg done\n",
      "11.jpg done\n",
      "12.jpg done\n",
      "13.jpg done\n",
      "14.jpg done\n",
      "15.jpg done\n",
      "16.jpg done\n",
      "17.jpg done\n",
      "18.jpg done\n",
      "19.jpg done\n",
      "20.jpg done\n",
      "21.jpg done\n",
      "22.jpg done\n",
      "23.jpg done\n",
      "24.jpg done\n",
      "25.jpg done\n"
     ]
    },
    {
     "name": "stderr",
     "output_type": "stream",
     "text": [
      " 77%|███████▋  | 325/421 [12:06<02:08,  1.34s/it]"
     ]
    },
    {
     "name": "stdout",
     "output_type": "stream",
     "text": [
      "26.jpg done\n",
      "0.jpg done\n",
      "1.jpg done\n",
      "2.jpg done\n",
      "3.jpg done\n",
      "4.jpg done\n",
      "5.jpg done\n",
      "6.jpg done\n",
      "7.jpg done\n",
      "8.jpg done\n",
      "9.jpg done\n",
      "10.jpg done\n",
      "11.jpg done\n",
      "12.jpg done\n",
      "13.jpg done\n",
      "14.jpg done\n",
      "15.jpg done\n",
      "16.jpg done\n",
      "17.jpg done\n",
      "18.jpg done\n",
      "19.jpg done\n",
      "20.jpg done\n",
      "21.jpg done\n",
      "22.jpg done\n",
      "23.jpg done\n",
      "24.jpg done\n",
      "25.jpg done\n",
      "26.jpg done\n",
      "27.jpg done\n",
      "28.jpg done\n",
      "29.jpg done\n"
     ]
    },
    {
     "name": "stderr",
     "output_type": "stream",
     "text": [
      " 77%|███████▋  | 326/421 [12:08<02:17,  1.45s/it]"
     ]
    },
    {
     "name": "stdout",
     "output_type": "stream",
     "text": [
      "30.jpg done\n",
      "31.jpg done\n",
      "32.jpg done\n",
      "33.jpg done\n",
      "0.jpg done\n",
      "1.jpg done\n",
      "2.jpg done\n",
      "3.jpg done\n",
      "4.jpg done\n",
      "5.jpg done\n",
      "6.jpg done\n",
      "7.jpg done\n",
      "8.jpg done\n",
      "9.jpg done\n",
      "10.jpg done\n",
      "11.jpg done\n",
      "12.jpg done\n",
      "13.jpg done\n",
      "14.jpg done\n"
     ]
    },
    {
     "name": "stderr",
     "output_type": "stream",
     "text": [
      " 78%|███████▊  | 327/421 [12:09<02:01,  1.29s/it]"
     ]
    },
    {
     "name": "stdout",
     "output_type": "stream",
     "text": [
      "15.jpg done\n",
      "16.jpg done\n",
      "17.jpg done\n",
      "18.jpg done\n",
      "0.jpg done\n",
      "1.jpg done\n",
      "2.jpg done\n",
      "3.jpg done\n",
      "4.jpg done\n",
      "5.jpg done\n",
      "6.jpg done\n",
      "7.jpg done\n",
      "8.jpg done\n",
      "9.jpg done\n",
      "10.jpg done\n",
      "11.jpg done\n",
      "12.jpg done\n",
      "13.jpg done\n",
      "14.jpg done\n",
      "15.jpg done\n",
      "16.jpg done\n",
      "17.jpg done\n",
      "18.jpg done\n",
      "19.jpg done\n",
      "20.jpg done\n",
      "21.jpg done\n",
      "22.jpg done\n",
      "23.jpg done\n",
      "24.jpg done\n",
      "25.jpg done\n",
      "26.jpg done\n",
      "27.jpg done\n",
      "28.jpg done\n",
      "29.jpg done\n",
      "30.jpg done\n",
      "31.jpg done\n",
      "32.jpg done\n",
      "33.jpg done\n",
      "34.jpg done\n",
      "35.jpg done\n",
      "36.jpg done\n",
      "37.jpg done\n",
      "38.jpg done\n",
      "39.jpg done\n",
      "40.jpg done\n",
      "41.jpg done\n",
      "42.jpg done\n",
      "43.jpg done\n",
      "44.jpg done\n",
      "45.jpg done\n",
      "46.jpg done\n",
      "47.jpg done\n"
     ]
    },
    {
     "name": "stderr",
     "output_type": "stream",
     "text": [
      " 78%|███████▊  | 328/421 [12:12<02:35,  1.67s/it]"
     ]
    },
    {
     "name": "stdout",
     "output_type": "stream",
     "text": [
      "48.jpg done\n",
      "49.jpg done\n",
      "0.jpg done\n",
      "1.jpg done\n",
      "2.jpg done\n",
      "3.jpg done\n",
      "4.jpg done\n",
      "5.jpg done\n",
      "6.jpg done\n",
      "7.jpg done\n",
      "8.jpg done\n",
      "9.jpg done\n",
      "10.jpg done\n",
      "11.jpg done\n",
      "12.jpg done\n",
      "13.jpg done\n",
      "14.jpg done\n",
      "15.jpg done\n",
      "16.jpg done\n",
      "17.jpg done\n",
      "18.jpg done\n"
     ]
    },
    {
     "name": "stderr",
     "output_type": "stream",
     "text": [
      " 78%|███████▊  | 329/421 [12:13<02:17,  1.49s/it]"
     ]
    },
    {
     "name": "stdout",
     "output_type": "stream",
     "text": [
      "19.jpg done\n",
      "20.jpg done\n",
      "0.jpg done\n",
      "1.jpg done\n",
      "2.jpg done\n",
      "3.jpg done\n",
      "4.jpg done\n",
      "5.jpg done\n",
      "6.jpg done\n",
      "7.jpg done\n",
      "8.jpg done\n",
      "9.jpg done\n",
      "10.jpg done\n"
     ]
    },
    {
     "name": "stderr",
     "output_type": "stream",
     "text": [
      " 78%|███████▊  | 330/421 [12:13<01:54,  1.26s/it]"
     ]
    },
    {
     "name": "stdout",
     "output_type": "stream",
     "text": [
      "11.jpg done\n",
      "12.jpg done\n",
      "13.jpg done\n",
      "0.jpg done\n"
     ]
    },
    {
     "name": "stderr",
     "output_type": "stream",
     "text": [
      " 79%|███████▊  | 331/421 [12:14<01:26,  1.04it/s]"
     ]
    },
    {
     "name": "stdout",
     "output_type": "stream",
     "text": [
      "1.jpg done\n",
      "2.jpg done\n",
      "3.jpg done\n",
      "4.jpg done\n",
      "0.jpg done\n",
      "1.jpg done\n",
      "2.jpg done\n",
      "3.jpg done\n",
      "4.jpg done\n",
      "5.jpg done\n",
      "6.jpg done\n",
      "7.jpg done\n",
      "8.jpg done\n",
      "9.jpg done\n",
      "10.jpg done\n",
      "11.jpg done\n",
      "12.jpg done\n",
      "13.jpg done\n",
      "14.jpg done\n",
      "15.jpg done\n",
      "16.jpg done\n",
      "17.jpg done\n",
      "18.jpg done\n",
      "19.jpg done\n",
      "20.jpg done\n",
      "21.jpg done\n",
      "22.jpg done\n",
      "23.jpg done\n",
      "24.jpg done\n",
      "25.jpg done\n",
      "26.jpg done\n",
      "27.jpg done\n",
      "28.jpg done\n",
      "29.jpg done\n",
      "30.jpg done\n",
      "31.jpg done\n",
      "32.jpg done\n",
      "33.jpg done\n",
      "34.jpg done\n",
      "35.jpg done\n",
      "36.jpg done\n"
     ]
    },
    {
     "name": "stderr",
     "output_type": "stream",
     "text": [
      " 79%|███████▉  | 332/421 [12:16<01:51,  1.26s/it]"
     ]
    },
    {
     "name": "stdout",
     "output_type": "stream",
     "text": [
      "37.jpg done\n",
      "0.jpg done\n",
      "1.jpg done\n",
      "2.jpg done\n",
      "3.jpg done\n",
      "4.jpg done\n",
      "5.jpg done\n",
      "6.jpg done\n",
      "7.jpg done\n",
      "8.jpg done\n",
      "9.jpg done\n",
      "10.jpg done\n",
      "11.jpg done\n",
      "12.jpg done\n",
      "13.jpg done\n",
      "14.jpg done\n",
      "15.jpg done\n",
      "16.jpg done\n",
      "17.jpg done\n",
      "18.jpg done\n",
      "19.jpg done\n",
      "20.jpg done\n",
      "21.jpg done\n",
      "22.jpg done\n",
      "23.jpg done\n",
      "24.jpg done\n",
      "25.jpg done\n",
      "26.jpg done\n",
      "27.jpg done\n",
      "28.jpg done\n",
      "29.jpg done\n",
      "30.jpg done\n",
      "31.jpg done\n",
      "32.jpg done\n"
     ]
    },
    {
     "name": "stderr",
     "output_type": "stream",
     "text": [
      " 79%|███████▉  | 333/421 [12:17<01:59,  1.36s/it]"
     ]
    },
    {
     "name": "stdout",
     "output_type": "stream",
     "text": [
      "33.jpg done\n",
      "0.jpg done\n",
      "1.jpg done\n",
      "2.jpg done\n",
      "3.jpg done\n",
      "4.jpg done\n",
      "5.jpg done\n",
      "6.jpg done\n",
      "7.jpg done\n",
      "8.jpg done\n",
      "9.jpg done\n",
      "10.jpg done\n",
      "11.jpg done\n",
      "12.jpg done\n",
      "13.jpg done\n",
      "14.jpg done\n",
      "15.jpg done\n",
      "16.jpg done\n",
      "17.jpg done\n",
      "18.jpg done\n",
      "19.jpg done\n",
      "20.jpg done\n",
      "21.jpg done\n",
      "22.jpg done\n",
      "23.jpg done\n",
      "24.jpg done\n",
      "25.jpg done\n",
      "26.jpg done\n",
      "27.jpg done\n",
      "28.jpg done\n",
      "29.jpg done\n",
      "30.jpg done\n",
      "31.jpg done\n",
      "32.jpg done\n",
      "33.jpg done\n",
      "34.jpg done\n",
      "35.jpg done\n",
      "36.jpg done\n",
      "37.jpg done\n",
      "38.jpg done\n",
      "39.jpg done\n",
      "40.jpg done\n",
      "41.jpg done\n",
      "42.jpg done\n",
      "43.jpg done\n",
      "44.jpg done\n",
      "45.jpg done\n",
      "46.jpg done\n",
      "47.jpg done\n",
      "48.jpg done\n",
      "49.jpg done\n",
      "50.jpg done\n",
      "51.jpg done\n",
      "52.jpg done\n",
      "53.jpg done\n",
      "54.jpg done\n",
      "55.jpg done\n",
      "56.jpg done\n",
      "57.jpg done\n",
      "58.jpg done\n",
      "59.jpg done\n",
      "60.jpg done\n",
      "61.jpg done\n",
      "62.jpg done\n",
      "63.jpg done\n",
      "64.jpg done\n",
      "65.jpg done\n",
      "66.jpg done\n",
      "67.jpg done\n",
      "68.jpg done\n",
      "69.jpg done\n",
      "70.jpg done\n",
      "71.jpg done\n",
      "72.jpg done\n",
      "73.jpg done\n",
      "74.jpg done\n",
      "75.jpg done\n",
      "76.jpg done\n",
      "77.jpg done\n",
      "78.jpg done\n",
      "79.jpg done\n",
      "80.jpg done\n",
      "81.jpg done\n",
      "82.jpg done\n",
      "83.jpg done\n",
      "84.jpg done\n",
      "85.jpg done\n",
      "86.jpg done\n",
      "87.jpg done\n",
      "88.jpg done\n",
      "89.jpg done\n",
      "90.jpg done\n",
      "91.jpg done\n",
      "92.jpg done\n",
      "93.jpg done\n",
      "94.jpg done\n",
      "95.jpg done\n",
      "96.jpg done\n",
      "97.jpg done\n",
      "98.jpg done\n",
      "99.jpg done\n",
      "100.jpg done\n",
      "101.jpg done\n",
      "102.jpg done\n",
      "103.jpg done\n",
      "104.jpg done\n",
      "105.jpg done\n",
      "106.jpg done\n",
      "107.jpg done\n"
     ]
    },
    {
     "name": "stderr",
     "output_type": "stream",
     "text": [
      " 79%|███████▉  | 334/421 [12:22<03:40,  2.54s/it]"
     ]
    },
    {
     "name": "stdout",
     "output_type": "stream",
     "text": [
      "108.jpg done\n",
      "109.jpg done\n",
      "110.jpg done\n",
      "0.jpg done\n"
     ]
    },
    {
     "name": "stderr",
     "output_type": "stream",
     "text": [
      " 80%|███████▉  | 335/421 [12:23<02:41,  1.87s/it]"
     ]
    },
    {
     "name": "stdout",
     "output_type": "stream",
     "text": [
      "1.jpg done\n",
      "2.jpg done\n",
      "3.jpg done\n",
      "4.jpg done\n",
      "0.jpg done\n",
      "1.jpg done\n",
      "2.jpg done\n",
      "3.jpg done\n",
      "4.jpg done\n",
      "5.jpg done\n",
      "6.jpg done\n",
      "7.jpg done\n",
      "8.jpg done\n",
      "9.jpg done\n",
      "10.jpg done\n",
      "11.jpg done\n",
      "12.jpg done\n",
      "13.jpg done\n",
      "14.jpg done\n",
      "15.jpg done\n",
      "16.jpg done\n",
      "17.jpg done\n",
      "18.jpg done\n",
      "19.jpg done\n",
      "20.jpg done\n",
      "21.jpg done\n",
      "22.jpg done\n",
      "23.jpg done\n",
      "24.jpg done\n",
      "25.jpg done\n",
      "26.jpg done\n",
      "27.jpg done\n",
      "28.jpg done\n",
      "29.jpg done\n",
      "30.jpg done\n",
      "31.jpg done\n",
      "32.jpg done\n",
      "33.jpg done\n",
      "34.jpg done\n",
      "35.jpg done\n",
      "36.jpg done\n",
      "37.jpg done\n",
      "38.jpg done\n",
      "39.jpg done\n"
     ]
    },
    {
     "name": "stderr",
     "output_type": "stream",
     "text": [
      " 80%|███████▉  | 336/421 [12:25<02:44,  1.93s/it]"
     ]
    },
    {
     "name": "stdout",
     "output_type": "stream",
     "text": [
      "40.jpg done\n",
      "0.jpg done\n",
      "1.jpg done\n",
      "2.jpg done\n",
      "3.jpg done\n",
      "4.jpg done\n",
      "5.jpg done\n",
      "6.jpg done\n",
      "7.jpg done\n",
      "8.jpg done\n",
      "9.jpg done\n",
      "10.jpg done\n",
      "11.jpg done\n",
      "12.jpg done\n",
      "13.jpg done\n",
      "14.jpg done\n",
      "15.jpg done\n",
      "16.jpg done\n",
      "17.jpg done\n",
      "18.jpg done\n",
      "19.jpg done\n",
      "20.jpg done\n",
      "21.jpg done\n",
      "22.jpg done\n",
      "23.jpg done\n",
      "24.jpg done\n",
      "25.jpg done\n",
      "26.jpg done\n",
      "27.jpg done\n",
      "28.jpg done\n",
      "29.jpg done\n",
      "30.jpg done\n",
      "31.jpg done\n",
      "32.jpg done\n",
      "33.jpg done\n",
      "34.jpg done\n",
      "35.jpg done\n",
      "36.jpg done\n",
      "37.jpg done\n",
      "38.jpg done\n",
      "39.jpg done\n",
      "40.jpg done\n",
      "41.jpg done\n"
     ]
    },
    {
     "name": "stderr",
     "output_type": "stream",
     "text": [
      " 80%|████████  | 337/421 [12:27<02:43,  1.95s/it]"
     ]
    },
    {
     "name": "stdout",
     "output_type": "stream",
     "text": [
      "42.jpg done\n",
      "0.jpg done\n",
      "1.jpg done\n",
      "2.jpg done\n",
      "3.jpg done\n",
      "4.jpg done\n",
      "5.jpg done\n",
      "6.jpg done\n",
      "7.jpg done\n",
      "8.jpg done\n",
      "9.jpg done\n",
      "10.jpg done\n",
      "11.jpg done\n",
      "12.jpg done\n",
      "13.jpg done\n",
      "14.jpg done\n",
      "15.jpg done\n",
      "16.jpg done\n",
      "17.jpg done\n",
      "18.jpg done\n",
      "19.jpg done\n",
      "20.jpg done\n",
      "21.jpg done\n",
      "22.jpg done\n",
      "23.jpg done\n",
      "24.jpg done\n",
      "25.jpg done\n",
      "26.jpg done\n",
      "27.jpg done\n",
      "28.jpg done\n",
      "29.jpg done\n",
      "30.jpg done\n",
      "31.jpg done\n"
     ]
    },
    {
     "name": "stderr",
     "output_type": "stream",
     "text": [
      " 80%|████████  | 338/421 [12:29<02:35,  1.88s/it]"
     ]
    },
    {
     "name": "stdout",
     "output_type": "stream",
     "text": [
      "32.jpg done\n",
      "33.jpg done\n",
      "34.jpg done\n"
     ]
    },
    {
     "name": "stderr",
     "output_type": "stream",
     "text": [
      " 81%|████████  | 339/421 [12:29<01:55,  1.41s/it]"
     ]
    },
    {
     "name": "stdout",
     "output_type": "stream",
     "text": [
      "0.jpg done\n",
      "1.jpg done\n",
      "2.jpg done\n",
      "3.jpg done\n",
      "4.jpg done\n"
     ]
    },
    {
     "name": "stderr",
     "output_type": "stream",
     "text": [
      " 81%|████████  | 340/421 [12:29<01:25,  1.05s/it]"
     ]
    },
    {
     "name": "stdout",
     "output_type": "stream",
     "text": [
      "0.jpg done\n",
      "1.jpg done\n",
      "2.jpg done\n"
     ]
    },
    {
     "name": "stderr",
     "output_type": "stream",
     "text": [
      " 81%|████████  | 341/421 [12:29<01:07,  1.19it/s]"
     ]
    },
    {
     "name": "stdout",
     "output_type": "stream",
     "text": [
      "0.jpg done\n",
      "1.jpg done\n",
      "2.jpg done\n",
      "3.jpg done\n",
      "4.jpg done\n",
      "0.jpg done\n",
      "1.jpg done\n",
      "2.jpg done\n",
      "3.jpg done\n",
      "4.jpg done\n",
      "5.jpg done\n",
      "6.jpg done\n",
      "7.jpg done\n",
      "8.jpg done\n",
      "9.jpg done\n",
      "10.jpg done\n",
      "11.jpg done\n",
      "12.jpg done\n",
      "13.jpg done\n",
      "14.jpg done\n",
      "15.jpg done\n",
      "16.jpg done\n",
      "17.jpg done\n",
      "18.jpg done\n",
      "19.jpg done\n"
     ]
    },
    {
     "name": "stderr",
     "output_type": "stream",
     "text": [
      " 81%|████████  | 342/421 [12:30<01:10,  1.13it/s]"
     ]
    },
    {
     "name": "stdout",
     "output_type": "stream",
     "text": [
      "0.jpg done\n",
      "1.jpg done\n",
      "2.jpg done\n",
      "3.jpg done\n",
      "4.jpg done\n",
      "5.jpg done\n",
      "6.jpg done\n",
      "7.jpg done\n",
      "8.jpg done\n",
      "9.jpg done\n",
      "10.jpg done\n",
      "11.jpg done\n",
      "12.jpg done\n",
      "13.jpg done\n",
      "14.jpg done\n",
      "15.jpg done\n",
      "16.jpg done\n",
      "17.jpg done\n",
      "18.jpg done\n",
      "19.jpg done\n",
      "20.jpg done\n",
      "21.jpg done\n",
      "22.jpg done\n",
      "23.jpg done\n",
      "24.jpg done\n",
      "25.jpg done\n",
      "26.jpg done\n",
      "27.jpg done\n",
      "28.jpg done\n",
      "29.jpg done\n",
      "30.jpg done\n",
      "31.jpg done\n",
      "32.jpg done\n",
      "33.jpg done\n",
      "34.jpg done\n",
      "35.jpg done\n",
      "36.jpg done\n",
      "37.jpg done\n",
      "38.jpg done\n",
      "39.jpg done\n",
      "40.jpg done\n",
      "41.jpg done\n",
      "42.jpg done\n",
      "43.jpg done\n",
      "44.jpg done\n",
      "45.jpg done\n",
      "46.jpg done\n",
      "47.jpg done\n",
      "48.jpg done\n",
      "49.jpg done\n",
      "50.jpg done\n",
      "51.jpg done\n",
      "52.jpg done\n",
      "53.jpg done\n",
      "54.jpg done\n",
      "55.jpg done\n",
      "56.jpg done\n",
      "57.jpg done\n",
      "58.jpg done\n",
      "59.jpg done\n",
      "60.jpg done\n",
      "61.jpg done\n",
      "62.jpg done\n",
      "63.jpg done\n",
      "64.jpg done\n",
      "65.jpg done\n",
      "66.jpg done\n",
      "67.jpg done\n",
      "68.jpg done\n",
      "69.jpg done\n",
      "70.jpg done\n",
      "71.jpg done\n",
      "72.jpg done\n",
      "73.jpg done\n",
      "74.jpg done\n",
      "75.jpg done\n",
      "76.jpg done\n",
      "77.jpg done\n",
      "78.jpg done\n",
      "79.jpg done\n",
      "80.jpg done\n",
      "81.jpg done\n",
      "82.jpg done\n",
      "83.jpg done\n",
      "84.jpg done\n",
      "85.jpg done\n",
      "86.jpg done\n",
      "87.jpg done\n",
      "88.jpg done\n",
      "89.jpg done\n",
      "90.jpg done\n",
      "91.jpg done\n",
      "92.jpg done\n",
      "93.jpg done\n",
      "94.jpg done\n",
      "95.jpg done\n",
      "96.jpg done\n",
      "97.jpg done\n",
      "98.jpg done\n",
      "99.jpg done\n",
      "100.jpg done\n",
      "101.jpg done\n",
      "102.jpg done\n"
     ]
    },
    {
     "name": "stderr",
     "output_type": "stream",
     "text": [
      " 81%|████████▏ | 343/421 [12:35<02:46,  2.13s/it]"
     ]
    },
    {
     "name": "stdout",
     "output_type": "stream",
     "text": [
      "103.jpg done\n",
      "104.jpg done\n",
      "105.jpg done\n",
      "0.jpg done\n",
      "1.jpg done\n",
      "2.jpg done\n",
      "3.jpg done\n",
      "4.jpg done\n",
      "5.jpg done\n",
      "6.jpg done\n",
      "7.jpg done\n",
      "8.jpg done\n",
      "9.jpg done\n",
      "10.jpg done\n"
     ]
    },
    {
     "name": "stderr",
     "output_type": "stream",
     "text": [
      " 82%|████████▏ | 344/421 [12:36<02:10,  1.69s/it]"
     ]
    },
    {
     "name": "stdout",
     "output_type": "stream",
     "text": [
      "11.jpg done\n",
      "12.jpg done\n",
      "0.jpg done\n",
      "1.jpg done\n",
      "2.jpg done\n",
      "3.jpg done\n",
      "4.jpg done\n",
      "5.jpg done\n",
      "6.jpg done\n",
      "7.jpg done\n",
      "8.jpg done\n",
      "9.jpg done\n",
      "10.jpg done\n",
      "11.jpg done\n",
      "12.jpg done\n",
      "13.jpg done\n",
      "14.jpg done\n",
      "15.jpg done\n",
      "16.jpg done\n",
      "17.jpg done\n",
      "18.jpg done\n",
      "19.jpg done\n",
      "20.jpg done\n",
      "21.jpg done\n",
      "22.jpg done\n",
      "23.jpg done\n",
      "24.jpg done\n",
      "25.jpg done\n",
      "26.jpg done\n",
      "27.jpg done\n",
      "28.jpg done\n",
      "29.jpg done\n",
      "30.jpg done\n",
      "31.jpg done\n",
      "32.jpg done\n",
      "33.jpg done\n",
      "34.jpg done\n",
      "35.jpg done\n",
      "36.jpg done\n",
      "37.jpg done\n",
      "38.jpg done\n",
      "39.jpg done\n",
      "40.jpg done\n",
      "41.jpg done\n",
      "42.jpg done\n",
      "43.jpg done\n",
      "44.jpg done\n",
      "45.jpg done\n",
      "46.jpg done\n",
      "47.jpg done\n",
      "48.jpg done\n",
      "49.jpg done\n"
     ]
    },
    {
     "name": "stderr",
     "output_type": "stream",
     "text": [
      " 82%|████████▏ | 345/421 [12:39<02:26,  1.92s/it]"
     ]
    },
    {
     "name": "stdout",
     "output_type": "stream",
     "text": [
      "50.jpg done\n",
      "0.jpg done\n",
      "1.jpg done\n",
      "2.jpg done\n",
      "3.jpg done\n",
      "4.jpg done\n",
      "5.jpg done\n",
      "6.jpg done\n",
      "7.jpg done\n",
      "8.jpg done\n",
      "9.jpg done\n",
      "10.jpg done\n",
      "11.jpg done\n",
      "12.jpg done\n",
      "13.jpg done\n",
      "14.jpg done\n",
      "15.jpg done\n",
      "16.jpg done\n",
      "17.jpg done\n",
      "18.jpg done\n",
      "19.jpg done\n",
      "20.jpg done\n",
      "21.jpg done\n",
      "22.jpg done\n",
      "23.jpg done\n",
      "24.jpg done\n",
      "25.jpg done\n",
      "26.jpg done\n",
      "27.jpg done\n",
      "28.jpg done\n",
      "29.jpg done\n",
      "30.jpg done\n",
      "31.jpg done\n",
      "32.jpg done\n",
      "33.jpg done\n",
      "34.jpg done\n",
      "35.jpg done\n",
      "36.jpg done\n",
      "37.jpg done\n",
      "38.jpg done\n",
      "39.jpg done\n",
      "40.jpg done\n",
      "41.jpg done\n",
      "42.jpg done\n",
      "43.jpg done\n",
      "44.jpg done\n"
     ]
    },
    {
     "name": "stderr",
     "output_type": "stream",
     "text": [
      " 82%|████████▏ | 346/421 [12:41<02:36,  2.08s/it]"
     ]
    },
    {
     "name": "stdout",
     "output_type": "stream",
     "text": [
      "45.jpg done\n",
      "46.jpg done\n",
      "47.jpg done\n",
      "48.jpg done\n",
      "0.jpg done\n",
      "1.jpg done\n",
      "2.jpg done\n",
      "3.jpg done\n",
      "4.jpg done\n",
      "5.jpg done\n",
      "6.jpg done\n",
      "7.jpg done\n",
      "8.jpg done\n",
      "9.jpg done\n",
      "10.jpg done\n",
      "11.jpg done\n",
      "12.jpg done\n",
      "13.jpg done\n",
      "14.jpg done\n",
      "15.jpg done\n",
      "16.jpg done\n",
      "17.jpg done\n",
      "18.jpg done\n",
      "19.jpg done\n",
      "20.jpg done\n",
      "21.jpg done\n",
      "22.jpg done\n",
      "23.jpg done\n",
      "24.jpg done\n",
      "25.jpg done\n",
      "26.jpg done\n",
      "27.jpg done\n",
      "28.jpg done\n",
      "29.jpg done\n",
      "30.jpg done\n",
      "31.jpg done\n",
      "32.jpg done\n"
     ]
    },
    {
     "name": "stderr",
     "output_type": "stream",
     "text": [
      " 82%|████████▏ | 347/421 [12:43<02:27,  1.99s/it]"
     ]
    },
    {
     "name": "stdout",
     "output_type": "stream",
     "text": [
      "33.jpg done\n",
      "34.jpg done\n",
      "0.jpg done\n",
      "1.jpg done\n",
      "2.jpg done\n",
      "3.jpg done\n",
      "4.jpg done\n",
      "5.jpg done\n",
      "6.jpg done\n",
      "7.jpg done\n",
      "8.jpg done\n",
      "9.jpg done\n",
      "10.jpg done\n",
      "11.jpg done\n",
      "12.jpg done\n",
      "13.jpg done\n",
      "14.jpg done\n",
      "15.jpg done\n",
      "16.jpg done\n",
      "17.jpg done\n",
      "18.jpg done\n",
      "19.jpg done\n",
      "20.jpg done\n",
      "21.jpg done\n",
      "22.jpg done\n",
      "23.jpg done\n",
      "24.jpg done\n",
      "25.jpg done\n",
      "26.jpg done\n",
      "27.jpg done\n",
      "28.jpg done\n",
      "29.jpg done\n",
      "30.jpg done\n",
      "31.jpg done\n"
     ]
    },
    {
     "name": "stderr",
     "output_type": "stream",
     "text": [
      " 83%|████████▎ | 348/421 [12:44<02:17,  1.88s/it]"
     ]
    },
    {
     "name": "stdout",
     "output_type": "stream",
     "text": [
      "32.jpg done\n",
      "0.jpg done\n",
      "1.jpg done\n",
      "2.jpg done\n",
      "3.jpg done\n",
      "4.jpg done\n",
      "5.jpg done\n",
      "6.jpg done\n",
      "7.jpg done\n",
      "8.jpg done\n",
      "9.jpg done\n",
      "10.jpg done\n",
      "11.jpg done\n",
      "12.jpg done\n",
      "13.jpg done\n",
      "14.jpg done\n",
      "15.jpg done\n",
      "16.jpg done\n",
      "17.jpg done\n",
      "18.jpg done\n",
      "19.jpg done\n",
      "20.jpg done\n",
      "21.jpg done\n",
      "22.jpg done\n",
      "23.jpg done\n",
      "24.jpg done\n",
      "25.jpg done\n",
      "26.jpg done\n",
      "27.jpg done\n",
      "28.jpg done\n",
      "29.jpg done\n",
      "30.jpg done\n",
      "31.jpg done\n",
      "32.jpg done\n",
      "33.jpg done\n",
      "34.jpg done\n",
      "35.jpg done\n",
      "36.jpg done\n",
      "37.jpg done\n",
      "38.jpg done\n",
      "39.jpg done\n",
      "40.jpg done\n",
      "41.jpg done\n",
      "42.jpg done\n",
      "43.jpg done\n",
      "44.jpg done\n",
      "45.jpg done\n",
      "46.jpg done\n"
     ]
    },
    {
     "name": "stderr",
     "output_type": "stream",
     "text": [
      " 83%|████████▎ | 349/421 [12:47<02:24,  2.01s/it]"
     ]
    },
    {
     "name": "stdout",
     "output_type": "stream",
     "text": [
      "47.jpg done\n",
      "0.jpg done\n",
      "1.jpg done\n",
      "2.jpg done\n",
      "3.jpg done\n",
      "4.jpg done\n",
      "5.jpg done\n",
      "6.jpg done\n",
      "7.jpg done\n",
      "8.jpg done\n",
      "9.jpg done\n",
      "10.jpg done\n",
      "11.jpg done\n",
      "12.jpg done\n",
      "13.jpg done\n",
      "14.jpg done\n",
      "15.jpg done\n",
      "16.jpg done\n",
      "17.jpg done\n",
      "18.jpg done\n",
      "19.jpg done\n",
      "20.jpg done\n",
      "21.jpg done\n",
      "22.jpg done\n",
      "23.jpg done\n",
      "24.jpg done\n",
      "25.jpg done\n",
      "26.jpg done\n",
      "27.jpg done\n",
      "28.jpg done\n",
      "29.jpg done\n",
      "30.jpg done\n",
      "31.jpg done\n",
      "32.jpg done\n",
      "33.jpg done\n",
      "34.jpg done\n",
      "35.jpg done\n",
      "36.jpg done\n"
     ]
    },
    {
     "name": "stderr",
     "output_type": "stream",
     "text": [
      " 83%|████████▎ | 350/421 [12:49<02:18,  1.94s/it]"
     ]
    },
    {
     "name": "stdout",
     "output_type": "stream",
     "text": [
      "37.jpg done\n",
      "0.jpg done\n",
      "1.jpg done\n",
      "2.jpg done\n",
      "3.jpg done\n",
      "4.jpg done\n",
      "5.jpg done\n",
      "6.jpg done\n",
      "7.jpg done\n",
      "8.jpg done\n",
      "9.jpg done\n",
      "10.jpg done\n",
      "11.jpg done\n",
      "12.jpg done\n",
      "13.jpg done\n",
      "14.jpg done\n",
      "15.jpg done\n",
      "16.jpg done\n",
      "17.jpg done\n",
      "18.jpg done\n",
      "19.jpg done\n",
      "20.jpg done\n",
      "21.jpg done\n",
      "22.jpg done\n",
      "23.jpg done\n",
      "24.jpg done\n",
      "25.jpg done\n",
      "26.jpg done\n",
      "27.jpg done\n",
      "28.jpg done\n",
      "29.jpg done\n",
      "30.jpg done\n",
      "31.jpg done\n",
      "32.jpg done\n",
      "33.jpg done\n",
      "34.jpg done\n",
      "35.jpg done\n",
      "36.jpg done\n",
      "37.jpg done\n",
      "38.jpg done\n",
      "39.jpg done\n",
      "40.jpg done\n",
      "41.jpg done\n",
      "42.jpg done\n",
      "43.jpg done\n",
      "44.jpg done\n",
      "45.jpg done\n",
      "46.jpg done\n",
      "47.jpg done\n",
      "48.jpg done\n",
      "49.jpg done\n",
      "50.jpg done\n",
      "51.jpg done\n",
      "52.jpg done\n",
      "53.jpg done\n",
      "54.jpg done\n",
      "55.jpg done\n",
      "56.jpg done\n",
      "57.jpg done\n",
      "58.jpg done\n",
      "59.jpg done\n",
      "60.jpg done\n",
      "61.jpg done\n",
      "62.jpg done\n",
      "63.jpg done\n",
      "64.jpg done\n",
      "65.jpg done\n",
      "66.jpg done\n",
      "67.jpg done\n",
      "68.jpg done\n",
      "69.jpg done\n",
      "70.jpg done\n",
      "71.jpg done\n",
      "72.jpg done\n",
      "73.jpg done\n",
      "74.jpg done\n",
      "75.jpg done\n",
      "76.jpg done\n",
      "77.jpg done\n",
      "78.jpg done\n",
      "79.jpg done\n",
      "80.jpg done\n",
      "81.jpg done\n",
      "82.jpg done\n",
      "83.jpg done\n",
      "84.jpg done\n",
      "85.jpg done\n",
      "86.jpg done\n",
      "87.jpg done\n",
      "88.jpg done\n",
      "89.jpg done\n",
      "90.jpg done\n",
      "91.jpg done\n",
      "92.jpg done\n",
      "93.jpg done\n",
      "94.jpg done\n",
      "95.jpg done\n",
      "96.jpg done\n",
      "97.jpg done\n",
      "98.jpg done\n",
      "99.jpg done\n",
      "100.jpg done\n",
      "101.jpg done\n",
      "102.jpg done\n",
      "103.jpg done\n",
      "104.jpg done\n",
      "105.jpg done\n",
      "106.jpg done\n",
      "107.jpg done\n",
      "108.jpg done\n",
      "109.jpg done\n",
      "110.jpg done\n",
      "111.jpg done\n",
      "112.jpg done\n",
      "113.jpg done\n",
      "114.jpg done\n",
      "115.jpg done\n",
      "116.jpg done\n",
      "117.jpg done\n",
      "118.jpg done\n",
      "119.jpg done\n",
      "120.jpg done\n",
      "121.jpg done\n",
      "122.jpg done\n",
      "123.jpg done\n",
      "124.jpg done\n",
      "125.jpg done\n",
      "126.jpg done\n",
      "127.jpg done\n",
      "128.jpg done\n",
      "129.jpg done\n",
      "130.jpg done\n",
      "131.jpg done\n",
      "132.jpg done\n",
      "133.jpg done\n",
      "134.jpg done\n",
      "135.jpg done\n",
      "136.jpg done\n",
      "137.jpg done\n",
      "138.jpg done\n",
      "139.jpg done\n",
      "140.jpg done\n",
      "141.jpg done\n",
      "142.jpg done\n",
      "143.jpg done\n",
      "144.jpg done\n",
      "145.jpg done\n",
      "146.jpg done\n",
      "147.jpg done\n",
      "148.jpg done\n",
      "149.jpg done\n",
      "150.jpg done\n",
      "151.jpg done\n",
      "152.jpg done\n"
     ]
    },
    {
     "name": "stderr",
     "output_type": "stream",
     "text": [
      " 83%|████████▎ | 351/421 [12:56<04:05,  3.51s/it]"
     ]
    },
    {
     "name": "stdout",
     "output_type": "stream",
     "text": [
      "153.jpg done\n",
      "154.jpg done\n",
      "155.jpg done\n",
      "156.jpg done\n",
      "157.jpg done\n",
      "0.jpg done\n",
      "1.jpg done\n",
      "2.jpg done\n",
      "3.jpg done\n",
      "4.jpg done\n",
      "5.jpg done\n",
      "6.jpg done\n",
      "7.jpg done\n",
      "8.jpg done\n",
      "9.jpg done\n"
     ]
    },
    {
     "name": "stderr",
     "output_type": "stream",
     "text": [
      " 84%|████████▎ | 352/421 [12:56<03:01,  2.64s/it]"
     ]
    },
    {
     "name": "stdout",
     "output_type": "stream",
     "text": [
      "10.jpg done\n",
      "0.jpg done\n",
      "1.jpg done\n",
      "2.jpg done\n",
      "3.jpg done\n",
      "4.jpg done\n",
      "5.jpg done\n",
      "6.jpg done\n",
      "7.jpg done\n",
      "8.jpg done\n",
      "9.jpg done\n",
      "10.jpg done\n",
      "11.jpg done\n",
      "12.jpg done\n",
      "13.jpg done\n",
      "14.jpg done\n",
      "15.jpg done\n",
      "16.jpg done\n",
      "17.jpg done\n",
      "18.jpg done\n",
      "19.jpg done\n",
      "20.jpg done\n",
      "21.jpg done\n",
      "22.jpg done\n",
      "23.jpg done\n",
      "24.jpg done\n",
      "25.jpg done\n",
      "26.jpg done\n",
      "27.jpg done\n",
      "28.jpg done\n",
      "29.jpg done\n",
      "30.jpg done\n",
      "31.jpg done\n",
      "32.jpg done\n",
      "33.jpg done\n",
      "34.jpg done\n",
      "35.jpg done\n",
      "36.jpg done\n",
      "37.jpg done\n",
      "38.jpg done\n",
      "39.jpg done\n",
      "40.jpg done\n",
      "41.jpg done\n",
      "42.jpg done\n"
     ]
    },
    {
     "name": "stderr",
     "output_type": "stream",
     "text": [
      " 84%|████████▍ | 353/421 [12:58<02:50,  2.51s/it]"
     ]
    },
    {
     "name": "stdout",
     "output_type": "stream",
     "text": [
      "43.jpg done\n",
      "44.jpg done\n",
      "45.jpg done\n",
      "46.jpg done\n",
      "0.jpg done\n",
      "1.jpg done\n",
      "2.jpg done\n",
      "3.jpg done\n",
      "4.jpg done\n"
     ]
    },
    {
     "name": "stderr",
     "output_type": "stream",
     "text": [
      " 84%|████████▍ | 354/421 [12:59<02:07,  1.90s/it]"
     ]
    },
    {
     "name": "stdout",
     "output_type": "stream",
     "text": [
      "5.jpg done\n",
      "6.jpg done\n",
      "7.jpg done\n",
      "8.jpg done\n"
     ]
    },
    {
     "name": "stderr",
     "output_type": "stream",
     "text": [
      " 84%|████████▍ | 355/421 [12:59<01:31,  1.39s/it]"
     ]
    },
    {
     "name": "stdout",
     "output_type": "stream",
     "text": [
      "0.jpg done\n",
      "1.jpg done\n",
      "2.jpg done\n",
      "0.jpg done\n",
      "1.jpg done\n",
      "2.jpg done\n",
      "3.jpg done\n",
      "4.jpg done\n",
      "5.jpg done\n",
      "6.jpg done\n",
      "7.jpg done\n",
      "8.jpg done\n",
      "9.jpg done\n",
      "10.jpg done\n",
      "11.jpg done\n",
      "12.jpg done\n",
      "13.jpg done\n",
      "14.jpg done\n",
      "15.jpg done\n",
      "16.jpg done\n",
      "17.jpg done\n",
      "18.jpg done\n",
      "19.jpg done\n",
      "20.jpg done\n",
      "21.jpg done\n",
      "22.jpg done\n",
      "23.jpg done\n",
      "24.jpg done\n",
      "25.jpg done\n",
      "26.jpg done\n",
      "27.jpg done\n",
      "28.jpg done\n",
      "29.jpg done\n",
      "30.jpg done\n"
     ]
    },
    {
     "name": "stderr",
     "output_type": "stream",
     "text": [
      " 85%|████████▍ | 356/421 [13:01<01:32,  1.42s/it]"
     ]
    },
    {
     "name": "stdout",
     "output_type": "stream",
     "text": [
      "31.jpg done\n",
      "0.jpg done\n",
      "1.jpg done\n",
      "2.jpg done\n",
      "3.jpg done\n",
      "4.jpg done\n",
      "5.jpg done\n",
      "6.jpg done\n",
      "7.jpg done\n",
      "8.jpg done\n",
      "9.jpg done\n",
      "10.jpg done\n",
      "11.jpg done\n",
      "12.jpg done\n",
      "13.jpg done\n",
      "14.jpg done\n",
      "15.jpg done\n",
      "16.jpg done\n",
      "17.jpg done\n",
      "18.jpg done\n",
      "19.jpg done\n",
      "20.jpg done\n",
      "21.jpg done\n",
      "22.jpg done\n",
      "23.jpg done\n",
      "24.jpg done\n",
      "25.jpg done\n",
      "26.jpg done\n",
      "27.jpg done\n",
      "28.jpg done\n",
      "29.jpg done\n",
      "30.jpg done\n",
      "31.jpg done\n",
      "32.jpg done\n",
      "33.jpg done\n",
      "34.jpg done\n",
      "35.jpg done\n",
      "36.jpg done\n",
      "37.jpg done\n",
      "38.jpg done\n",
      "39.jpg done\n",
      "40.jpg done\n",
      "41.jpg done\n",
      "42.jpg done\n",
      "43.jpg done\n",
      "44.jpg done\n",
      "45.jpg done\n"
     ]
    },
    {
     "name": "stderr",
     "output_type": "stream",
     "text": [
      " 85%|████████▍ | 357/421 [13:03<01:50,  1.73s/it]"
     ]
    },
    {
     "name": "stdout",
     "output_type": "stream",
     "text": [
      "46.jpg done\n",
      "47.jpg done\n",
      "48.jpg done\n",
      "0.jpg done\n",
      "1.jpg done\n",
      "2.jpg done\n",
      "3.jpg done\n",
      "4.jpg done\n"
     ]
    },
    {
     "name": "stderr",
     "output_type": "stream",
     "text": [
      " 85%|████████▌ | 358/421 [13:03<01:23,  1.32s/it]"
     ]
    },
    {
     "name": "stdout",
     "output_type": "stream",
     "text": [
      "5.jpg done\n",
      "0.jpg done\n",
      "1.jpg done\n",
      "2.jpg done\n",
      "3.jpg done\n",
      "4.jpg done\n",
      "5.jpg done\n",
      "6.jpg done\n",
      "7.jpg done\n",
      "8.jpg done\n",
      "9.jpg done\n",
      "10.jpg done\n",
      "11.jpg done\n",
      "12.jpg done\n",
      "13.jpg done\n",
      "14.jpg done\n",
      "15.jpg done\n",
      "16.jpg done\n",
      "17.jpg done\n",
      "18.jpg done\n",
      "19.jpg done\n",
      "20.jpg done\n",
      "21.jpg done\n",
      "22.jpg done\n",
      "23.jpg done\n",
      "24.jpg done\n",
      "25.jpg done\n",
      "26.jpg done\n",
      "27.jpg done\n",
      "28.jpg done\n",
      "29.jpg done\n",
      "30.jpg done\n",
      "31.jpg done\n",
      "32.jpg done\n",
      "33.jpg done\n",
      "34.jpg done\n",
      "35.jpg done\n",
      "36.jpg done\n",
      "37.jpg done\n",
      "38.jpg done\n",
      "39.jpg done\n",
      "40.jpg done\n",
      "41.jpg done\n",
      "42.jpg done\n",
      "43.jpg done\n",
      "44.jpg done\n",
      "45.jpg done\n",
      "46.jpg done\n",
      "47.jpg done\n",
      "48.jpg done\n",
      "49.jpg done\n",
      "50.jpg done\n",
      "51.jpg done\n",
      "52.jpg done\n",
      "53.jpg done\n",
      "54.jpg done\n",
      "55.jpg done\n",
      "56.jpg done\n",
      "57.jpg done\n",
      "58.jpg done\n",
      "59.jpg done\n",
      "60.jpg done\n",
      "61.jpg done\n",
      "62.jpg done\n",
      "63.jpg done\n",
      "64.jpg done\n",
      "65.jpg done\n",
      "66.jpg done\n",
      "67.jpg done\n",
      "68.jpg done\n",
      "69.jpg done\n",
      "70.jpg done\n",
      "71.jpg done\n",
      "72.jpg done\n",
      "73.jpg done\n",
      "74.jpg done\n",
      "75.jpg done\n",
      "76.jpg done\n",
      "77.jpg done\n",
      "78.jpg done\n",
      "79.jpg done\n",
      "80.jpg done\n",
      "81.jpg done\n",
      "82.jpg done\n",
      "83.jpg done\n",
      "84.jpg done\n",
      "85.jpg done\n",
      "86.jpg done\n",
      "87.jpg done\n",
      "88.jpg done\n",
      "89.jpg done\n",
      "90.jpg done\n",
      "91.jpg done\n",
      "92.jpg done\n",
      "93.jpg done\n"
     ]
    },
    {
     "name": "stderr",
     "output_type": "stream",
     "text": [
      " 85%|████████▌ | 359/421 [13:08<02:23,  2.32s/it]"
     ]
    },
    {
     "name": "stdout",
     "output_type": "stream",
     "text": [
      "94.jpg done\n",
      "95.jpg done\n",
      "96.jpg done\n",
      "0.jpg done\n",
      "1.jpg done\n",
      "2.jpg done\n",
      "3.jpg done\n",
      "4.jpg done\n",
      "5.jpg done\n",
      "6.jpg done\n",
      "7.jpg done\n",
      "8.jpg done\n",
      "9.jpg done\n",
      "10.jpg done\n",
      "11.jpg done\n",
      "12.jpg done\n",
      "13.jpg done\n",
      "14.jpg done\n",
      "15.jpg done\n",
      "16.jpg done\n",
      "17.jpg done\n",
      "18.jpg done\n",
      "19.jpg done\n",
      "20.jpg done\n",
      "21.jpg done\n",
      "22.jpg done\n",
      "23.jpg done\n",
      "24.jpg done\n",
      "25.jpg done\n",
      "26.jpg done\n",
      "27.jpg done\n",
      "28.jpg done\n",
      "29.jpg done\n",
      "30.jpg done\n",
      "31.jpg done\n",
      "32.jpg done\n",
      "33.jpg done\n",
      "34.jpg done\n",
      "35.jpg done\n",
      "36.jpg done\n",
      "37.jpg done\n",
      "38.jpg done\n",
      "39.jpg done\n",
      "40.jpg done\n",
      "41.jpg done\n",
      "42.jpg done\n",
      "43.jpg done\n",
      "44.jpg done\n",
      "45.jpg done\n",
      "46.jpg done\n",
      "47.jpg done\n",
      "48.jpg done\n",
      "49.jpg done\n",
      "50.jpg done\n",
      "51.jpg done\n",
      "52.jpg done\n",
      "53.jpg done\n",
      "54.jpg done\n",
      "55.jpg done\n",
      "56.jpg done\n",
      "57.jpg done\n",
      "58.jpg done\n",
      "59.jpg done\n",
      "60.jpg done\n",
      "61.jpg done\n",
      "62.jpg done\n",
      "63.jpg done\n",
      "64.jpg done\n",
      "65.jpg done\n",
      "66.jpg done\n",
      "67.jpg done\n",
      "68.jpg done\n",
      "69.jpg done\n",
      "70.jpg done\n",
      "71.jpg done\n",
      "72.jpg done\n",
      "73.jpg done\n",
      "74.jpg done\n",
      "75.jpg done\n",
      "76.jpg done\n",
      "77.jpg done\n",
      "78.jpg done\n",
      "79.jpg done\n",
      "80.jpg done\n",
      "81.jpg done\n",
      "82.jpg done\n",
      "83.jpg done\n",
      "84.jpg done\n",
      "85.jpg done\n",
      "86.jpg done\n",
      "87.jpg done\n",
      "88.jpg done\n",
      "89.jpg done\n",
      "90.jpg done\n",
      "91.jpg done\n",
      "92.jpg done\n",
      "93.jpg done\n",
      "94.jpg done\n",
      "95.jpg done\n",
      "96.jpg done\n",
      "97.jpg done\n",
      "98.jpg done\n",
      "99.jpg done\n",
      "100.jpg done\n",
      "101.jpg done\n",
      "102.jpg done\n",
      "103.jpg done\n",
      "104.jpg done\n",
      "105.jpg done\n",
      "106.jpg done\n",
      "107.jpg done\n",
      "108.jpg done\n",
      "109.jpg done\n",
      "110.jpg done\n",
      "111.jpg done\n",
      "112.jpg done\n",
      "113.jpg done\n",
      "114.jpg done\n",
      "115.jpg done\n",
      "116.jpg done\n",
      "117.jpg done\n",
      "118.jpg done\n",
      "119.jpg done\n",
      "120.jpg done\n",
      "121.jpg done\n",
      "122.jpg done\n",
      "123.jpg done\n",
      "124.jpg done\n",
      "125.jpg done\n",
      "126.jpg done\n",
      "127.jpg done\n",
      "128.jpg done\n",
      "129.jpg done\n",
      "130.jpg done\n",
      "131.jpg done\n",
      "132.jpg done\n",
      "133.jpg done\n",
      "134.jpg done\n",
      "135.jpg done\n",
      "136.jpg done\n",
      "137.jpg done\n",
      "138.jpg done\n",
      "139.jpg done\n",
      "140.jpg done\n",
      "141.jpg done\n",
      "142.jpg done\n",
      "143.jpg done\n",
      "144.jpg done\n",
      "145.jpg done\n",
      "146.jpg done\n",
      "147.jpg done\n",
      "148.jpg done\n",
      "149.jpg done\n",
      "150.jpg done\n",
      "151.jpg done\n",
      "152.jpg done\n",
      "153.jpg done\n",
      "154.jpg done\n",
      "155.jpg done\n",
      "156.jpg done\n",
      "157.jpg done\n",
      "158.jpg done\n",
      "159.jpg done\n",
      "160.jpg done\n",
      "161.jpg done\n",
      "162.jpg done\n",
      "163.jpg done\n",
      "164.jpg done\n",
      "165.jpg done\n",
      "166.jpg done\n",
      "167.jpg done\n",
      "168.jpg done\n",
      "169.jpg done\n",
      "170.jpg done\n",
      "171.jpg done\n",
      "172.jpg done\n",
      "173.jpg done\n",
      "174.jpg done\n",
      "175.jpg done\n",
      "176.jpg done\n",
      "177.jpg done\n",
      "178.jpg done\n",
      "179.jpg done\n",
      "180.jpg done\n",
      "181.jpg done\n",
      "182.jpg done\n",
      "183.jpg done\n",
      "184.jpg done\n",
      "185.jpg done\n",
      "186.jpg done\n",
      "187.jpg done\n",
      "188.jpg done\n",
      "189.jpg done\n",
      "190.jpg done\n",
      "191.jpg done\n",
      "192.jpg done\n",
      "193.jpg done\n",
      "194.jpg done\n",
      "195.jpg done\n",
      "196.jpg done\n",
      "197.jpg done\n",
      "198.jpg done\n",
      "199.jpg done\n",
      "200.jpg done\n",
      "201.jpg done\n",
      "202.jpg done\n",
      "203.jpg done\n",
      "204.jpg done\n",
      "205.jpg done\n",
      "206.jpg done\n",
      "207.jpg done\n",
      "208.jpg done\n",
      "209.jpg done\n",
      "210.jpg done\n",
      "211.jpg done\n",
      "212.jpg done\n",
      "213.jpg done\n",
      "214.jpg done\n",
      "215.jpg done\n",
      "216.jpg done\n",
      "217.jpg done\n",
      "218.jpg done\n",
      "219.jpg done\n",
      "220.jpg done\n",
      "221.jpg done\n",
      "222.jpg done\n",
      "223.jpg done\n",
      "224.jpg done\n",
      "225.jpg done\n",
      "226.jpg done\n",
      "227.jpg done\n",
      "228.jpg done\n",
      "229.jpg done\n",
      "230.jpg done\n",
      "231.jpg done\n",
      "232.jpg done\n",
      "233.jpg done\n",
      "234.jpg done\n",
      "235.jpg done\n",
      "236.jpg done\n",
      "237.jpg done\n"
     ]
    },
    {
     "name": "stderr",
     "output_type": "stream",
     "text": [
      " 86%|████████▌ | 360/421 [13:20<05:10,  5.08s/it]"
     ]
    },
    {
     "name": "stdout",
     "output_type": "stream",
     "text": [
      "238.jpg done\n",
      "239.jpg done\n",
      "0.jpg done\n",
      "1.jpg done\n",
      "2.jpg done\n",
      "3.jpg done\n",
      "4.jpg done\n",
      "5.jpg done\n",
      "6.jpg done\n",
      "7.jpg done\n",
      "8.jpg done\n",
      "9.jpg done\n",
      "10.jpg done\n",
      "11.jpg done\n",
      "12.jpg done\n",
      "13.jpg done\n",
      "14.jpg done\n",
      "15.jpg done\n",
      "16.jpg done\n",
      "17.jpg done\n",
      "18.jpg done\n",
      "19.jpg done\n",
      "20.jpg done\n",
      "21.jpg done\n",
      "22.jpg done\n",
      "23.jpg done\n",
      "24.jpg done\n",
      "25.jpg done\n",
      "26.jpg done\n",
      "27.jpg done\n",
      "28.jpg done\n",
      "29.jpg done\n",
      "30.jpg done\n",
      "31.jpg done\n",
      "32.jpg done\n",
      "33.jpg done\n",
      "34.jpg done\n",
      "35.jpg done\n",
      "36.jpg done\n",
      "37.jpg done\n",
      "38.jpg done\n",
      "39.jpg done\n",
      "40.jpg done\n",
      "41.jpg done\n",
      "42.jpg done\n",
      "43.jpg done\n",
      "44.jpg done\n",
      "45.jpg done\n",
      "46.jpg done\n",
      "47.jpg done\n",
      "48.jpg done\n",
      "49.jpg done\n",
      "50.jpg done\n",
      "51.jpg done\n",
      "52.jpg done\n",
      "53.jpg done\n",
      "54.jpg done\n",
      "55.jpg done\n",
      "56.jpg done\n",
      "57.jpg done\n",
      "58.jpg done\n",
      "59.jpg done\n",
      "60.jpg done\n",
      "61.jpg done\n",
      "62.jpg done\n",
      "63.jpg done\n",
      "64.jpg done\n",
      "65.jpg done\n",
      "66.jpg done\n",
      "67.jpg done\n",
      "68.jpg done\n",
      "69.jpg done\n",
      "70.jpg done\n",
      "71.jpg done\n",
      "72.jpg done\n",
      "73.jpg done\n",
      "74.jpg done\n",
      "75.jpg done\n",
      "76.jpg done\n",
      "77.jpg done\n",
      "78.jpg done\n",
      "79.jpg done\n",
      "80.jpg done\n",
      "81.jpg done\n",
      "82.jpg done\n",
      "83.jpg done\n",
      "84.jpg done\n",
      "85.jpg done\n",
      "86.jpg done\n",
      "87.jpg done\n",
      "88.jpg done\n",
      "89.jpg done\n",
      "90.jpg done\n",
      "91.jpg done\n",
      "92.jpg done\n",
      "93.jpg done\n"
     ]
    },
    {
     "name": "stderr",
     "output_type": "stream",
     "text": [
      " 86%|████████▌ | 361/421 [13:24<04:57,  4.96s/it]"
     ]
    },
    {
     "name": "stdout",
     "output_type": "stream",
     "text": [
      "94.jpg done\n",
      "95.jpg done\n",
      "96.jpg done\n",
      "97.jpg done\n",
      "0.jpg done\n",
      "1.jpg done\n",
      "2.jpg done\n",
      "3.jpg done\n",
      "4.jpg done\n",
      "5.jpg done\n",
      "6.jpg done\n",
      "7.jpg done\n",
      "8.jpg done\n",
      "9.jpg done\n",
      "10.jpg done\n",
      "11.jpg done\n",
      "12.jpg done\n",
      "13.jpg done\n",
      "14.jpg done\n",
      "15.jpg done\n",
      "16.jpg done\n",
      "17.jpg done\n",
      "18.jpg done\n",
      "19.jpg done\n",
      "20.jpg done\n",
      "21.jpg done\n",
      "22.jpg done\n",
      "23.jpg done\n",
      "24.jpg done\n",
      "25.jpg done\n",
      "26.jpg done\n",
      "27.jpg done\n",
      "28.jpg done\n",
      "29.jpg done\n",
      "30.jpg done\n",
      "31.jpg done\n",
      "32.jpg done\n",
      "33.jpg done\n",
      "34.jpg done\n",
      "35.jpg done\n",
      "36.jpg done\n",
      "37.jpg done\n",
      "38.jpg done\n",
      "39.jpg done\n",
      "40.jpg done\n",
      "41.jpg done\n",
      "42.jpg done\n",
      "43.jpg done\n",
      "44.jpg done\n",
      "45.jpg done\n",
      "46.jpg done\n",
      "47.jpg done\n",
      "48.jpg done\n",
      "49.jpg done\n",
      "50.jpg done\n",
      "51.jpg done\n",
      "52.jpg done\n",
      "53.jpg done\n",
      "54.jpg done\n",
      "55.jpg done\n",
      "56.jpg done\n",
      "57.jpg done\n",
      "58.jpg done\n",
      "59.jpg done\n",
      "60.jpg done\n",
      "61.jpg done\n",
      "62.jpg done\n",
      "63.jpg done\n",
      "64.jpg done\n",
      "65.jpg done\n",
      "66.jpg done\n",
      "67.jpg done\n",
      "68.jpg done\n",
      "69.jpg done\n",
      "70.jpg done\n",
      "71.jpg done\n",
      "72.jpg done\n",
      "73.jpg done\n",
      "74.jpg done\n",
      "75.jpg done\n",
      "76.jpg done\n",
      "77.jpg done\n",
      "78.jpg done\n"
     ]
    },
    {
     "name": "stderr",
     "output_type": "stream",
     "text": [
      " 86%|████████▌ | 362/421 [13:28<04:33,  4.64s/it]"
     ]
    },
    {
     "name": "stdout",
     "output_type": "stream",
     "text": [
      "79.jpg done\n",
      "80.jpg done\n",
      "81.jpg done\n",
      "82.jpg done\n",
      "0.jpg done\n",
      "1.jpg done\n",
      "2.jpg done\n",
      "3.jpg done\n",
      "4.jpg done\n",
      "5.jpg done\n",
      "6.jpg done\n",
      "7.jpg done\n",
      "8.jpg done\n",
      "9.jpg done\n",
      "10.jpg done\n",
      "11.jpg done\n",
      "12.jpg done\n",
      "13.jpg done\n",
      "14.jpg done\n",
      "15.jpg done\n",
      "16.jpg done\n",
      "17.jpg done\n",
      "18.jpg done\n",
      "19.jpg done\n",
      "20.jpg done\n",
      "21.jpg done\n",
      "22.jpg done\n",
      "23.jpg done\n",
      "24.jpg done\n",
      "25.jpg done\n",
      "26.jpg done\n",
      "27.jpg done\n",
      "28.jpg done\n",
      "29.jpg done\n",
      "30.jpg done\n",
      "31.jpg done\n",
      "32.jpg done\n",
      "33.jpg done\n",
      "34.jpg done\n",
      "35.jpg done\n",
      "36.jpg done\n",
      "37.jpg done\n",
      "38.jpg done\n",
      "39.jpg done\n"
     ]
    },
    {
     "name": "stderr",
     "output_type": "stream",
     "text": [
      " 86%|████████▌ | 363/421 [13:30<03:41,  3.81s/it]"
     ]
    },
    {
     "name": "stdout",
     "output_type": "stream",
     "text": [
      "0.jpg done\n",
      "1.jpg done\n",
      "2.jpg done\n",
      "3.jpg done\n",
      "4.jpg done\n",
      "5.jpg done\n",
      "6.jpg done\n",
      "7.jpg done\n",
      "8.jpg done\n",
      "9.jpg done\n",
      "10.jpg done\n",
      "11.jpg done\n",
      "12.jpg done\n",
      "13.jpg done\n",
      "14.jpg done\n",
      "15.jpg done\n",
      "16.jpg done\n",
      "17.jpg done\n",
      "18.jpg done\n",
      "19.jpg done\n",
      "20.jpg done\n",
      "21.jpg done\n",
      "22.jpg done\n",
      "23.jpg done\n",
      "24.jpg done\n",
      "25.jpg done\n",
      "26.jpg done\n",
      "27.jpg done\n",
      "28.jpg done\n",
      "29.jpg done\n",
      "30.jpg done\n",
      "31.jpg done\n",
      "32.jpg done\n",
      "33.jpg done\n",
      "34.jpg done\n",
      "35.jpg done\n",
      "36.jpg done\n",
      "37.jpg done\n",
      "38.jpg done\n",
      "39.jpg done\n",
      "40.jpg done\n",
      "41.jpg done\n",
      "42.jpg done\n",
      "43.jpg done\n",
      "44.jpg done\n",
      "45.jpg done\n",
      "46.jpg done\n",
      "47.jpg done\n",
      "48.jpg done\n",
      "49.jpg done\n",
      "50.jpg done\n",
      "51.jpg done\n",
      "52.jpg done\n",
      "53.jpg done\n",
      "54.jpg done\n",
      "55.jpg done\n",
      "56.jpg done\n",
      "57.jpg done\n",
      "58.jpg done\n"
     ]
    },
    {
     "name": "stderr",
     "output_type": "stream",
     "text": [
      " 86%|████████▋ | 364/421 [13:33<03:21,  3.54s/it]"
     ]
    },
    {
     "name": "stdout",
     "output_type": "stream",
     "text": [
      "59.jpg done\n",
      "60.jpg done\n",
      "61.jpg done\n",
      "0.jpg done\n",
      "1.jpg done\n",
      "2.jpg done\n",
      "3.jpg done\n",
      "4.jpg done\n",
      "5.jpg done\n",
      "6.jpg done\n",
      "7.jpg done\n",
      "8.jpg done\n",
      "9.jpg done\n",
      "10.jpg done\n",
      "11.jpg done\n",
      "12.jpg done\n",
      "13.jpg done\n",
      "14.jpg done\n",
      "15.jpg done\n",
      "16.jpg done\n",
      "17.jpg done\n",
      "18.jpg done\n",
      "19.jpg done\n",
      "20.jpg done\n",
      "21.jpg done\n",
      "22.jpg done\n",
      "23.jpg done\n",
      "24.jpg done\n",
      "25.jpg done\n",
      "26.jpg done\n",
      "27.jpg done\n",
      "28.jpg done\n",
      "29.jpg done\n",
      "30.jpg done\n",
      "31.jpg done\n",
      "32.jpg done\n",
      "33.jpg done\n",
      "34.jpg done\n",
      "35.jpg done\n"
     ]
    },
    {
     "name": "stderr",
     "output_type": "stream",
     "text": [
      " 87%|████████▋ | 365/421 [13:35<02:49,  3.02s/it]"
     ]
    },
    {
     "name": "stdout",
     "output_type": "stream",
     "text": [
      "36.jpg done\n",
      "37.jpg done\n",
      "38.jpg done\n",
      "0.jpg done\n",
      "1.jpg done\n",
      "2.jpg done\n",
      "3.jpg done\n",
      "4.jpg done\n",
      "5.jpg done\n",
      "6.jpg done\n",
      "7.jpg done\n",
      "8.jpg done\n",
      "9.jpg done\n",
      "10.jpg done\n",
      "11.jpg done\n",
      "12.jpg done\n",
      "13.jpg done\n",
      "14.jpg done\n",
      "15.jpg done\n",
      "16.jpg done\n",
      "17.jpg done\n",
      "18.jpg done\n",
      "19.jpg done\n",
      "20.jpg done\n",
      "21.jpg done\n",
      "22.jpg done\n",
      "23.jpg done\n",
      "24.jpg done\n",
      "25.jpg done\n",
      "26.jpg done\n",
      "27.jpg done\n",
      "28.jpg done\n",
      "29.jpg done\n",
      "30.jpg done\n",
      "31.jpg done\n",
      "32.jpg done\n",
      "33.jpg done\n",
      "34.jpg done\n",
      "35.jpg done\n",
      "36.jpg done\n",
      "37.jpg done\n",
      "38.jpg done\n",
      "39.jpg done\n",
      "40.jpg done\n",
      "41.jpg done\n",
      "42.jpg done\n",
      "43.jpg done\n",
      "44.jpg done\n"
     ]
    },
    {
     "name": "stderr",
     "output_type": "stream",
     "text": [
      " 87%|████████▋ | 366/421 [13:37<02:37,  2.87s/it]"
     ]
    },
    {
     "name": "stdout",
     "output_type": "stream",
     "text": [
      "45.jpg done\n",
      "46.jpg done\n",
      "47.jpg done\n",
      "48.jpg done\n",
      "49.jpg done\n",
      "0.jpg done\n",
      "1.jpg done\n",
      "2.jpg done\n",
      "3.jpg done\n",
      "4.jpg done\n",
      "5.jpg done\n",
      "6.jpg done\n",
      "7.jpg done\n",
      "8.jpg done\n",
      "9.jpg done\n",
      "10.jpg done\n",
      "11.jpg done\n",
      "12.jpg done\n",
      "13.jpg done\n",
      "14.jpg done\n",
      "15.jpg done\n",
      "16.jpg done\n",
      "17.jpg done\n",
      "18.jpg done\n",
      "19.jpg done\n"
     ]
    },
    {
     "name": "stderr",
     "output_type": "stream",
     "text": [
      " 87%|████████▋ | 367/421 [13:38<02:04,  2.31s/it]"
     ]
    },
    {
     "name": "stdout",
     "output_type": "stream",
     "text": [
      "20.jpg done\n",
      "21.jpg done\n",
      "0.jpg done\n",
      "1.jpg done\n",
      "2.jpg done\n",
      "3.jpg done\n",
      "4.jpg done\n",
      "5.jpg done\n",
      "6.jpg done\n",
      "7.jpg done\n",
      "8.jpg done\n",
      "9.jpg done\n",
      "10.jpg done\n"
     ]
    },
    {
     "name": "stderr",
     "output_type": "stream",
     "text": [
      " 87%|████████▋ | 368/421 [13:39<01:37,  1.83s/it]"
     ]
    },
    {
     "name": "stdout",
     "output_type": "stream",
     "text": [
      "11.jpg done\n",
      "12.jpg done\n",
      "13.jpg done\n",
      "0.jpg done\n",
      "1.jpg done\n",
      "2.jpg done\n",
      "3.jpg done\n",
      "4.jpg done\n",
      "5.jpg done\n",
      "6.jpg done\n",
      "7.jpg done\n",
      "8.jpg done\n",
      "9.jpg done\n",
      "10.jpg done\n"
     ]
    },
    {
     "name": "stderr",
     "output_type": "stream",
     "text": [
      " 88%|████████▊ | 369/421 [13:40<01:15,  1.46s/it]"
     ]
    },
    {
     "name": "stdout",
     "output_type": "stream",
     "text": [
      "11.jpg done\n",
      "0.jpg done\n",
      "1.jpg done\n",
      "2.jpg done\n",
      "3.jpg done\n",
      "4.jpg done\n",
      "5.jpg done\n",
      "6.jpg done\n",
      "7.jpg done\n",
      "8.jpg done\n",
      "9.jpg done\n",
      "10.jpg done\n",
      "11.jpg done\n",
      "12.jpg done\n",
      "13.jpg done\n",
      "14.jpg done\n",
      "15.jpg done\n",
      "16.jpg done\n",
      "17.jpg done\n",
      "18.jpg done\n",
      "19.jpg done\n",
      "20.jpg done\n"
     ]
    },
    {
     "name": "stderr",
     "output_type": "stream",
     "text": [
      " 88%|████████▊ | 370/421 [13:41<01:11,  1.41s/it]"
     ]
    },
    {
     "name": "stdout",
     "output_type": "stream",
     "text": [
      "21.jpg done\n",
      "22.jpg done\n",
      "23.jpg done\n",
      "24.jpg done\n",
      "25.jpg done\n",
      "0.jpg done\n",
      "1.jpg done\n",
      "2.jpg done\n",
      "3.jpg done\n",
      "4.jpg done\n",
      "5.jpg done\n",
      "6.jpg done\n",
      "7.jpg done\n",
      "8.jpg done\n",
      "9.jpg done\n"
     ]
    },
    {
     "name": "stderr",
     "output_type": "stream",
     "text": [
      " 88%|████████▊ | 371/421 [13:42<01:00,  1.20s/it]"
     ]
    },
    {
     "name": "stdout",
     "output_type": "stream",
     "text": [
      "10.jpg done\n",
      "11.jpg done\n",
      "12.jpg done\n",
      "13.jpg done\n",
      "0.jpg done\n",
      "1.jpg done\n",
      "2.jpg done\n",
      "3.jpg done\n",
      "4.jpg done\n",
      "5.jpg done\n",
      "6.jpg done\n",
      "7.jpg done\n",
      "8.jpg done\n",
      "9.jpg done\n"
     ]
    },
    {
     "name": "stderr",
     "output_type": "stream",
     "text": [
      " 88%|████████▊ | 372/421 [13:42<00:52,  1.07s/it]"
     ]
    },
    {
     "name": "stdout",
     "output_type": "stream",
     "text": [
      "10.jpg done\n",
      "11.jpg done\n",
      "12.jpg done\n",
      "13.jpg done\n",
      "14.jpg done\n",
      "0.jpg done\n",
      "1.jpg done\n",
      "2.jpg done\n",
      "3.jpg done\n",
      "4.jpg done\n",
      "5.jpg done\n",
      "6.jpg done\n",
      "7.jpg done\n",
      "8.jpg done\n",
      "9.jpg done\n"
     ]
    },
    {
     "name": "stderr",
     "output_type": "stream",
     "text": [
      " 89%|████████▊ | 373/421 [13:43<00:46,  1.03it/s]"
     ]
    },
    {
     "name": "stdout",
     "output_type": "stream",
     "text": [
      "10.jpg done\n",
      "11.jpg done\n",
      "12.jpg done\n",
      "0.jpg done\n",
      "1.jpg done\n",
      "2.jpg done\n",
      "3.jpg done\n",
      "4.jpg done\n",
      "5.jpg done\n",
      "6.jpg done\n",
      "7.jpg done\n",
      "8.jpg done\n",
      "9.jpg done\n",
      "10.jpg done\n",
      "11.jpg done\n",
      "12.jpg done\n",
      "13.jpg done\n",
      "14.jpg done\n",
      "15.jpg done\n"
     ]
    },
    {
     "name": "stderr",
     "output_type": "stream",
     "text": [
      " 89%|████████▉ | 374/421 [13:44<00:42,  1.10it/s]"
     ]
    },
    {
     "name": "stdout",
     "output_type": "stream",
     "text": [
      "0.jpg done\n",
      "1.jpg done\n",
      "2.jpg done\n",
      "3.jpg done\n",
      "4.jpg done\n"
     ]
    },
    {
     "name": "stderr",
     "output_type": "stream",
     "text": [
      " 89%|████████▉ | 375/421 [13:44<00:34,  1.34it/s]"
     ]
    },
    {
     "name": "stdout",
     "output_type": "stream",
     "text": [
      "5.jpg done\n",
      "0.jpg done\n",
      "1.jpg done\n",
      "2.jpg done\n",
      "3.jpg done\n",
      "4.jpg done\n",
      "5.jpg done\n",
      "6.jpg done\n",
      "7.jpg done\n",
      "8.jpg done\n",
      "9.jpg done\n",
      "10.jpg done\n",
      "11.jpg done\n",
      "12.jpg done\n",
      "13.jpg done\n",
      "14.jpg done\n",
      "15.jpg done\n",
      "16.jpg done\n",
      "17.jpg done\n",
      "18.jpg done\n",
      "19.jpg done\n",
      "20.jpg done\n",
      "21.jpg done\n",
      "22.jpg done\n",
      "23.jpg done\n",
      "24.jpg done\n",
      "25.jpg done\n",
      "26.jpg done\n",
      "27.jpg done\n",
      "28.jpg done\n",
      "29.jpg done\n",
      "30.jpg done\n",
      "31.jpg done\n",
      "32.jpg done\n"
     ]
    },
    {
     "name": "stderr",
     "output_type": "stream",
     "text": [
      " 89%|████████▉ | 376/421 [13:46<00:47,  1.06s/it]"
     ]
    },
    {
     "name": "stdout",
     "output_type": "stream",
     "text": [
      "33.jpg done\n",
      "34.jpg done\n",
      "35.jpg done\n",
      "36.jpg done\n",
      "0.jpg done\n",
      "1.jpg done\n",
      "2.jpg done\n",
      "3.jpg done\n",
      "4.jpg done\n",
      "5.jpg done\n",
      "6.jpg done\n",
      "7.jpg done\n",
      "8.jpg done\n",
      "9.jpg done\n",
      "10.jpg done\n",
      "11.jpg done\n",
      "12.jpg done\n",
      "13.jpg done\n",
      "14.jpg done\n",
      "15.jpg done\n",
      "16.jpg done\n",
      "17.jpg done\n",
      "18.jpg done\n",
      "19.jpg done\n",
      "20.jpg done\n",
      "21.jpg done\n",
      "22.jpg done\n",
      "23.jpg done\n",
      "24.jpg done\n",
      "25.jpg done\n",
      "26.jpg done\n",
      "27.jpg done\n",
      "28.jpg done\n",
      "29.jpg done\n",
      "30.jpg done\n",
      "31.jpg done\n",
      "32.jpg done\n",
      "33.jpg done\n",
      "34.jpg done\n"
     ]
    },
    {
     "name": "stderr",
     "output_type": "stream",
     "text": [
      " 90%|████████▉ | 377/421 [13:48<00:55,  1.27s/it]"
     ]
    },
    {
     "name": "stdout",
     "output_type": "stream",
     "text": [
      "35.jpg done\n",
      "0.jpg done\n",
      "1.jpg done\n",
      "2.jpg done\n",
      "3.jpg done\n",
      "4.jpg done\n",
      "5.jpg done\n",
      "6.jpg done\n",
      "7.jpg done\n",
      "8.jpg done\n",
      "9.jpg done\n",
      "10.jpg done\n",
      "11.jpg done\n",
      "12.jpg done\n",
      "13.jpg done\n",
      "14.jpg done\n",
      "15.jpg done\n",
      "16.jpg done\n",
      "17.jpg done\n",
      "18.jpg done\n",
      "19.jpg done\n",
      "20.jpg done\n",
      "21.jpg done\n",
      "22.jpg done\n",
      "23.jpg done\n",
      "24.jpg done\n",
      "25.jpg done\n",
      "26.jpg done\n",
      "27.jpg done\n",
      "28.jpg done\n",
      "29.jpg done\n",
      "30.jpg done\n",
      "31.jpg done\n",
      "32.jpg done\n",
      "33.jpg done\n",
      "34.jpg done\n",
      "35.jpg done\n",
      "36.jpg done\n",
      "37.jpg done\n",
      "38.jpg done\n",
      "39.jpg done\n",
      "40.jpg done\n",
      "41.jpg done\n",
      "42.jpg done\n",
      "43.jpg done\n",
      "44.jpg done\n",
      "45.jpg done\n",
      "46.jpg done\n"
     ]
    },
    {
     "name": "stderr",
     "output_type": "stream",
     "text": [
      " 90%|████████▉ | 378/421 [13:50<01:07,  1.56s/it]"
     ]
    },
    {
     "name": "stdout",
     "output_type": "stream",
     "text": [
      "47.jpg done\n",
      "0.jpg done\n",
      "1.jpg done\n",
      "2.jpg done\n",
      "3.jpg done\n",
      "4.jpg done\n",
      "5.jpg done\n",
      "6.jpg done\n",
      "7.jpg done\n",
      "8.jpg done\n",
      "9.jpg done\n",
      "10.jpg done\n",
      "11.jpg done\n",
      "12.jpg done\n",
      "13.jpg done\n",
      "14.jpg done\n",
      "15.jpg done\n",
      "16.jpg done\n",
      "17.jpg done\n",
      "18.jpg done\n",
      "19.jpg done\n",
      "20.jpg done\n",
      "21.jpg done\n",
      "22.jpg done\n",
      "23.jpg done\n",
      "24.jpg done\n",
      "25.jpg done\n",
      "26.jpg done\n",
      "27.jpg done\n",
      "28.jpg done\n",
      "29.jpg done\n",
      "30.jpg done\n",
      "31.jpg done\n",
      "32.jpg done\n",
      "33.jpg done\n",
      "34.jpg done\n",
      "35.jpg done\n",
      "36.jpg done\n",
      "37.jpg done\n",
      "38.jpg done\n",
      "39.jpg done\n",
      "40.jpg done\n",
      "41.jpg done\n",
      "42.jpg done\n",
      "43.jpg done\n",
      "44.jpg done\n",
      "45.jpg done\n",
      "46.jpg done\n",
      "47.jpg done\n",
      "48.jpg done\n",
      "49.jpg done\n",
      "50.jpg done\n",
      "51.jpg done\n",
      "52.jpg done\n"
     ]
    },
    {
     "name": "stderr",
     "output_type": "stream",
     "text": [
      " 90%|█████████ | 379/421 [13:53<01:17,  1.85s/it]"
     ]
    },
    {
     "name": "stdout",
     "output_type": "stream",
     "text": [
      "53.jpg done\n",
      "0.jpg done\n",
      "1.jpg done\n",
      "2.jpg done\n",
      "3.jpg done\n",
      "4.jpg done\n",
      "5.jpg done\n",
      "6.jpg done\n",
      "7.jpg done\n",
      "8.jpg done\n",
      "9.jpg done\n",
      "10.jpg done\n",
      "11.jpg done\n",
      "12.jpg done\n",
      "13.jpg done\n",
      "14.jpg done\n",
      "15.jpg done\n",
      "16.jpg done\n",
      "17.jpg done\n",
      "18.jpg done\n",
      "19.jpg done\n",
      "20.jpg done\n",
      "21.jpg done\n",
      "22.jpg done\n",
      "23.jpg done\n",
      "24.jpg done\n",
      "25.jpg done\n",
      "26.jpg done\n",
      "27.jpg done\n",
      "28.jpg done\n",
      "29.jpg done\n",
      "30.jpg done\n",
      "31.jpg done\n",
      "32.jpg done\n",
      "33.jpg done\n",
      "34.jpg done\n",
      "35.jpg done\n",
      "36.jpg done\n",
      "37.jpg done\n",
      "38.jpg done\n",
      "39.jpg done\n",
      "40.jpg done\n",
      "41.jpg done\n",
      "42.jpg done\n",
      "43.jpg done\n",
      "44.jpg done\n",
      "45.jpg done\n"
     ]
    },
    {
     "name": "stderr",
     "output_type": "stream",
     "text": [
      " 90%|█████████ | 380/421 [13:55<01:24,  2.05s/it]"
     ]
    },
    {
     "name": "stdout",
     "output_type": "stream",
     "text": [
      "46.jpg done\n",
      "47.jpg done\n",
      "48.jpg done\n",
      "49.jpg done\n",
      "50.jpg done\n",
      "51.jpg done\n",
      "0.jpg done\n",
      "1.jpg done\n",
      "2.jpg done\n",
      "3.jpg done\n",
      "4.jpg done\n",
      "5.jpg done\n",
      "6.jpg done\n",
      "7.jpg done\n"
     ]
    },
    {
     "name": "stderr",
     "output_type": "stream",
     "text": [
      " 90%|█████████ | 381/421 [13:56<01:05,  1.65s/it]"
     ]
    },
    {
     "name": "stdout",
     "output_type": "stream",
     "text": [
      "8.jpg done\n",
      "9.jpg done\n",
      "10.jpg done\n",
      "11.jpg done\n",
      "0.jpg done\n",
      "0.jpg done\n",
      "1.jpg done\n",
      "2.jpg done\n",
      "3.jpg done\n",
      "4.jpg done\n",
      "5.jpg done\n",
      "6.jpg done\n",
      "7.jpg done\n",
      "8.jpg done\n",
      "9.jpg done\n",
      "10.jpg done\n",
      "11.jpg done\n",
      "12.jpg done\n",
      "13.jpg done\n",
      "14.jpg done\n",
      "15.jpg done\n",
      "16.jpg done\n",
      "17.jpg done\n",
      "18.jpg done\n",
      "19.jpg done\n",
      "20.jpg done\n",
      "21.jpg done\n",
      "22.jpg done\n",
      "23.jpg done\n",
      "24.jpg done\n",
      "25.jpg done\n"
     ]
    },
    {
     "name": "stderr",
     "output_type": "stream",
     "text": [
      " 91%|█████████ | 383/421 [13:57<00:46,  1.22s/it]"
     ]
    },
    {
     "name": "stdout",
     "output_type": "stream",
     "text": [
      "0.jpg done\n",
      "1.jpg done\n",
      "2.jpg done\n",
      "3.jpg done\n",
      "4.jpg done\n"
     ]
    },
    {
     "name": "stderr",
     "output_type": "stream",
     "text": [
      " 91%|█████████ | 384/421 [13:58<00:37,  1.03s/it]"
     ]
    },
    {
     "name": "stdout",
     "output_type": "stream",
     "text": [
      "5.jpg done\n",
      "6.jpg done\n",
      "7.jpg done\n",
      "0.jpg done\n",
      "1.jpg done\n",
      "2.jpg done\n",
      "3.jpg done\n",
      "4.jpg done\n",
      "5.jpg done\n",
      "6.jpg done\n",
      "7.jpg done\n",
      "8.jpg done\n",
      "9.jpg done\n",
      "10.jpg done\n",
      "11.jpg done\n",
      "12.jpg done\n",
      "13.jpg done\n",
      "14.jpg done\n",
      "15.jpg done\n",
      "16.jpg done\n",
      "17.jpg done\n",
      "18.jpg done\n",
      "19.jpg done\n"
     ]
    },
    {
     "name": "stderr",
     "output_type": "stream",
     "text": [
      " 91%|█████████▏| 385/421 [13:59<00:37,  1.03s/it]"
     ]
    },
    {
     "name": "stdout",
     "output_type": "stream",
     "text": [
      "20.jpg done\n",
      "0.jpg done\n",
      "1.jpg done\n",
      "2.jpg done\n",
      "3.jpg done\n",
      "4.jpg done\n",
      "5.jpg done\n",
      "6.jpg done\n",
      "7.jpg done\n",
      "8.jpg done\n",
      "9.jpg done\n",
      "10.jpg done\n"
     ]
    },
    {
     "name": "stderr",
     "output_type": "stream",
     "text": [
      " 92%|█████████▏| 386/421 [13:59<00:33,  1.06it/s]"
     ]
    },
    {
     "name": "stdout",
     "output_type": "stream",
     "text": [
      "11.jpg done\n",
      "0.jpg done\n",
      "1.jpg done\n",
      "2.jpg done\n",
      "3.jpg done\n",
      "4.jpg done\n",
      "5.jpg done\n",
      "6.jpg done\n",
      "7.jpg done\n",
      "8.jpg done\n",
      "9.jpg done\n",
      "10.jpg done\n",
      "11.jpg done\n",
      "12.jpg done\n",
      "13.jpg done\n",
      "14.jpg done\n",
      "15.jpg done\n",
      "16.jpg done\n",
      "17.jpg done\n",
      "18.jpg done\n",
      "19.jpg done\n",
      "20.jpg done\n",
      "21.jpg done\n",
      "22.jpg done\n",
      "23.jpg done\n",
      "24.jpg done\n",
      "25.jpg done\n",
      "26.jpg done\n",
      "27.jpg done\n",
      "28.jpg done\n",
      "29.jpg done\n",
      "30.jpg done\n",
      "31.jpg done\n",
      "32.jpg done\n",
      "33.jpg done\n",
      "34.jpg done\n",
      "35.jpg done\n",
      "36.jpg done\n",
      "37.jpg done\n",
      "38.jpg done\n",
      "39.jpg done\n",
      "40.jpg done\n",
      "41.jpg done\n",
      "42.jpg done\n",
      "43.jpg done\n",
      "44.jpg done\n",
      "45.jpg done\n",
      "46.jpg done\n",
      "47.jpg done\n",
      "48.jpg done\n",
      "49.jpg done\n",
      "50.jpg done\n",
      "51.jpg done\n",
      "52.jpg done\n",
      "53.jpg done\n",
      "54.jpg done\n",
      "55.jpg done\n",
      "56.jpg done\n",
      "57.jpg done\n",
      "58.jpg done\n",
      "59.jpg done\n",
      "60.jpg done\n",
      "61.jpg done\n",
      "62.jpg done\n",
      "63.jpg done\n",
      "64.jpg done\n",
      "65.jpg done\n",
      "66.jpg done\n",
      "67.jpg done\n",
      "68.jpg done\n",
      "69.jpg done\n",
      "70.jpg done\n",
      "71.jpg done\n",
      "72.jpg done\n",
      "73.jpg done\n",
      "74.jpg done\n",
      "75.jpg done\n",
      "76.jpg done\n",
      "77.jpg done\n",
      "78.jpg done\n",
      "79.jpg done\n",
      "80.jpg done\n",
      "81.jpg done\n",
      "82.jpg done\n",
      "83.jpg done\n",
      "84.jpg done\n",
      "85.jpg done\n",
      "86.jpg done\n",
      "87.jpg done\n",
      "88.jpg done\n",
      "89.jpg done\n",
      "90.jpg done\n",
      "91.jpg done\n",
      "92.jpg done\n",
      "93.jpg done\n",
      "94.jpg done\n",
      "95.jpg done\n",
      "96.jpg done\n",
      "97.jpg done\n",
      "98.jpg done\n",
      "99.jpg done\n",
      "100.jpg done\n",
      "101.jpg done\n",
      "102.jpg done\n",
      "103.jpg done\n",
      "104.jpg done\n",
      "105.jpg done\n",
      "106.jpg done\n",
      "107.jpg done\n",
      "108.jpg done\n",
      "109.jpg done\n",
      "110.jpg done\n",
      "111.jpg done\n",
      "112.jpg done\n",
      "113.jpg done\n",
      "114.jpg done\n",
      "115.jpg done\n",
      "116.jpg done\n",
      "117.jpg done\n",
      "118.jpg done\n",
      "119.jpg done\n",
      "120.jpg done\n",
      "121.jpg done\n",
      "122.jpg done\n",
      "123.jpg done\n",
      "124.jpg done\n",
      "125.jpg done\n",
      "126.jpg done\n",
      "127.jpg done\n",
      "128.jpg done\n",
      "129.jpg done\n",
      "130.jpg done\n",
      "131.jpg done\n",
      "132.jpg done\n",
      "133.jpg done\n",
      "134.jpg done\n",
      "135.jpg done\n",
      "136.jpg done\n",
      "137.jpg done\n",
      "138.jpg done\n",
      "139.jpg done\n",
      "140.jpg done\n",
      "141.jpg done\n",
      "142.jpg done\n",
      "143.jpg done\n",
      "144.jpg done\n",
      "145.jpg done\n",
      "146.jpg done\n",
      "147.jpg done\n",
      "148.jpg done\n",
      "149.jpg done\n",
      "150.jpg done\n",
      "151.jpg done\n",
      "152.jpg done\n",
      "153.jpg done\n"
     ]
    },
    {
     "name": "stderr",
     "output_type": "stream",
     "text": [
      " 92%|█████████▏| 387/421 [14:07<01:35,  2.80s/it]"
     ]
    },
    {
     "name": "stdout",
     "output_type": "stream",
     "text": [
      "154.jpg done\n",
      "155.jpg done\n",
      "156.jpg done\n",
      "0.jpg done\n",
      "1.jpg done\n",
      "2.jpg done\n",
      "3.jpg done\n",
      "4.jpg done\n",
      "5.jpg done\n",
      "6.jpg done\n",
      "7.jpg done\n",
      "8.jpg done\n",
      "9.jpg done\n",
      "10.jpg done\n",
      "11.jpg done\n",
      "12.jpg done\n",
      "13.jpg done\n",
      "14.jpg done\n",
      "15.jpg done\n",
      "16.jpg done\n",
      "17.jpg done\n",
      "18.jpg done\n",
      "19.jpg done\n",
      "20.jpg done\n",
      "21.jpg done\n",
      "22.jpg done\n",
      "23.jpg done\n",
      "24.jpg done\n",
      "25.jpg done\n",
      "26.jpg done\n",
      "27.jpg done\n",
      "28.jpg done\n",
      "29.jpg done\n",
      "30.jpg done\n",
      "31.jpg done\n",
      "32.jpg done\n",
      "33.jpg done\n",
      "34.jpg done\n",
      "35.jpg done\n"
     ]
    },
    {
     "name": "stderr",
     "output_type": "stream",
     "text": [
      " 92%|█████████▏| 388/421 [14:09<01:23,  2.53s/it]"
     ]
    },
    {
     "name": "stdout",
     "output_type": "stream",
     "text": [
      "36.jpg done\n",
      "37.jpg done\n",
      "0.jpg done\n",
      "1.jpg done\n",
      "2.jpg done\n",
      "3.jpg done\n",
      "4.jpg done\n",
      "5.jpg done\n",
      "6.jpg done\n",
      "7.jpg done\n",
      "8.jpg done\n",
      "9.jpg done\n",
      "10.jpg done\n",
      "11.jpg done\n",
      "12.jpg done\n",
      "13.jpg done\n",
      "14.jpg done\n",
      "15.jpg done\n",
      "16.jpg done\n",
      "17.jpg done\n",
      "18.jpg done\n",
      "19.jpg done\n",
      "20.jpg done\n",
      "21.jpg done\n",
      "22.jpg done\n",
      "23.jpg done\n",
      "24.jpg done\n",
      "25.jpg done\n",
      "26.jpg done\n",
      "27.jpg done\n",
      "28.jpg done\n",
      "29.jpg done\n",
      "30.jpg done\n",
      "31.jpg done\n",
      "32.jpg done\n",
      "33.jpg done\n",
      "34.jpg done\n",
      "35.jpg done\n",
      "36.jpg done\n",
      "37.jpg done\n",
      "38.jpg done\n",
      "39.jpg done\n",
      "40.jpg done\n",
      "41.jpg done\n",
      "42.jpg done\n",
      "43.jpg done\n",
      "44.jpg done\n"
     ]
    },
    {
     "name": "stderr",
     "output_type": "stream",
     "text": [
      " 92%|█████████▏| 389/421 [14:11<01:19,  2.49s/it]"
     ]
    },
    {
     "name": "stdout",
     "output_type": "stream",
     "text": [
      "45.jpg done\n",
      "46.jpg done\n",
      "47.jpg done\n",
      "48.jpg done\n",
      "0.jpg done\n",
      "1.jpg done\n",
      "2.jpg done\n",
      "3.jpg done\n",
      "4.jpg done\n",
      "5.jpg done\n",
      "6.jpg done\n",
      "7.jpg done\n",
      "8.jpg done\n",
      "9.jpg done\n",
      "10.jpg done\n",
      "11.jpg done\n",
      "12.jpg done\n",
      "13.jpg done\n",
      "14.jpg done\n",
      "15.jpg done\n",
      "16.jpg done\n",
      "17.jpg done\n",
      "18.jpg done\n",
      "19.jpg done\n",
      "20.jpg done\n",
      "21.jpg done\n",
      "22.jpg done\n",
      "23.jpg done\n",
      "24.jpg done\n",
      "25.jpg done\n",
      "26.jpg done\n",
      "27.jpg done\n"
     ]
    },
    {
     "name": "stderr",
     "output_type": "stream",
     "text": [
      " 93%|█████████▎| 390/421 [14:13<01:08,  2.21s/it]"
     ]
    },
    {
     "name": "stdout",
     "output_type": "stream",
     "text": [
      "28.jpg done\n",
      "0.jpg done\n",
      "1.jpg done\n",
      "2.jpg done\n",
      "3.jpg done\n",
      "4.jpg done\n",
      "5.jpg done\n",
      "6.jpg done\n",
      "7.jpg done\n",
      "8.jpg done\n",
      "9.jpg done\n",
      "10.jpg done\n",
      "11.jpg done\n",
      "12.jpg done\n",
      "13.jpg done\n",
      "14.jpg done\n",
      "15.jpg done\n",
      "16.jpg done\n",
      "17.jpg done\n",
      "18.jpg done\n",
      "19.jpg done\n",
      "20.jpg done\n",
      "21.jpg done\n"
     ]
    },
    {
     "name": "stderr",
     "output_type": "stream",
     "text": [
      " 93%|█████████▎| 391/421 [14:14<00:56,  1.90s/it]"
     ]
    },
    {
     "name": "stdout",
     "output_type": "stream",
     "text": [
      "22.jpg done\n",
      "0.jpg done\n",
      "1.jpg done\n",
      "2.jpg done\n",
      "3.jpg done\n",
      "4.jpg done\n",
      "5.jpg done\n",
      "6.jpg done\n",
      "7.jpg done\n",
      "8.jpg done\n",
      "9.jpg done\n",
      "10.jpg done\n",
      "11.jpg done\n",
      "12.jpg done\n",
      "13.jpg done\n",
      "14.jpg done\n",
      "15.jpg done\n",
      "16.jpg done\n",
      "17.jpg done\n",
      "18.jpg done\n",
      "19.jpg done\n",
      "20.jpg done\n",
      "21.jpg done\n",
      "22.jpg done\n",
      "23.jpg done\n",
      "24.jpg done\n",
      "25.jpg done\n",
      "26.jpg done\n",
      "27.jpg done\n",
      "28.jpg done\n",
      "29.jpg done\n",
      "30.jpg done\n",
      "31.jpg done\n",
      "32.jpg done\n",
      "33.jpg done\n",
      "34.jpg done\n",
      "35.jpg done\n",
      "36.jpg done\n",
      "37.jpg done\n",
      "38.jpg done\n",
      "39.jpg done\n",
      "40.jpg done\n"
     ]
    },
    {
     "name": "stderr",
     "output_type": "stream",
     "text": [
      " 93%|█████████▎| 392/421 [14:16<00:56,  1.95s/it]"
     ]
    },
    {
     "name": "stdout",
     "output_type": "stream",
     "text": [
      "41.jpg done\n",
      "0.jpg done\n",
      "1.jpg done\n",
      "2.jpg done\n",
      "3.jpg done\n",
      "4.jpg done\n",
      "5.jpg done\n",
      "6.jpg done\n",
      "7.jpg done\n",
      "8.jpg done\n",
      "9.jpg done\n",
      "10.jpg done\n",
      "11.jpg done\n",
      "12.jpg done\n",
      "13.jpg done\n",
      "14.jpg done\n",
      "15.jpg done\n",
      "16.jpg done\n",
      "17.jpg done\n",
      "18.jpg done\n",
      "19.jpg done\n",
      "20.jpg done\n",
      "21.jpg done\n",
      "22.jpg done\n",
      "23.jpg done\n",
      "24.jpg done\n",
      "25.jpg done\n",
      "26.jpg done\n",
      "27.jpg done\n",
      "28.jpg done\n",
      "29.jpg done\n",
      "30.jpg done\n",
      "31.jpg done\n",
      "32.jpg done\n",
      "33.jpg done\n",
      "34.jpg done\n",
      "35.jpg done\n",
      "36.jpg done\n",
      "37.jpg done\n",
      "38.jpg done\n",
      "39.jpg done\n",
      "40.jpg done\n",
      "41.jpg done\n",
      "42.jpg done\n",
      "43.jpg done\n",
      "44.jpg done\n",
      "45.jpg done\n",
      "46.jpg done\n",
      "47.jpg done\n",
      "48.jpg done\n",
      "49.jpg done\n",
      "50.jpg done\n",
      "51.jpg done\n",
      "52.jpg done\n",
      "53.jpg done\n",
      "54.jpg done\n",
      "55.jpg done\n",
      "56.jpg done\n",
      "57.jpg done\n",
      "58.jpg done\n",
      "59.jpg done\n",
      "60.jpg done\n",
      "61.jpg done\n",
      "62.jpg done\n",
      "63.jpg done\n",
      "64.jpg done\n",
      "65.jpg done\n",
      "66.jpg done\n",
      "67.jpg done\n",
      "68.jpg done\n",
      "69.jpg done\n",
      "70.jpg done\n",
      "71.jpg done\n",
      "72.jpg done\n",
      "73.jpg done\n",
      "74.jpg done\n",
      "75.jpg done\n",
      "76.jpg done\n",
      "77.jpg done\n",
      "78.jpg done\n",
      "79.jpg done\n",
      "80.jpg done\n",
      "81.jpg done\n",
      "82.jpg done\n",
      "83.jpg done\n",
      "84.jpg done\n",
      "85.jpg done\n",
      "86.jpg done\n",
      "87.jpg done\n",
      "88.jpg done\n",
      "89.jpg done\n",
      "90.jpg done\n",
      "91.jpg done\n",
      "92.jpg done\n"
     ]
    },
    {
     "name": "stderr",
     "output_type": "stream",
     "text": [
      " 93%|█████████▎| 393/421 [14:21<01:19,  2.83s/it]"
     ]
    },
    {
     "name": "stdout",
     "output_type": "stream",
     "text": [
      "93.jpg done\n",
      "94.jpg done\n",
      "95.jpg done\n",
      "96.jpg done\n",
      "0.jpg done\n",
      "1.jpg done\n",
      "2.jpg done\n",
      "3.jpg done\n",
      "4.jpg done\n"
     ]
    },
    {
     "name": "stderr",
     "output_type": "stream",
     "text": [
      " 94%|█████████▎| 394/421 [14:21<00:56,  2.10s/it]"
     ]
    },
    {
     "name": "stdout",
     "output_type": "stream",
     "text": [
      "5.jpg done\n",
      "6.jpg done\n",
      "0.jpg done\n",
      "1.jpg done\n",
      "2.jpg done\n",
      "3.jpg done\n",
      "4.jpg done\n",
      "5.jpg done\n",
      "6.jpg done\n",
      "7.jpg done\n",
      "8.jpg done\n",
      "9.jpg done\n",
      "10.jpg done\n",
      "11.jpg done\n",
      "12.jpg done\n",
      "13.jpg done\n",
      "14.jpg done\n",
      "15.jpg done\n",
      "16.jpg done\n",
      "17.jpg done\n",
      "18.jpg done\n",
      "19.jpg done\n",
      "20.jpg done\n",
      "21.jpg done\n",
      "22.jpg done\n",
      "23.jpg done\n",
      "24.jpg done\n",
      "25.jpg done\n",
      "26.jpg done\n",
      "27.jpg done\n",
      "28.jpg done\n",
      "29.jpg done\n",
      "30.jpg done\n",
      "31.jpg done\n",
      "32.jpg done\n",
      "33.jpg done\n",
      "34.jpg done\n",
      "35.jpg done\n",
      "36.jpg done\n",
      "37.jpg done\n",
      "38.jpg done\n",
      "39.jpg done\n",
      "40.jpg done\n",
      "41.jpg done\n",
      "42.jpg done\n",
      "43.jpg done\n",
      "44.jpg done\n",
      "45.jpg done\n",
      "46.jpg done\n",
      "47.jpg done\n",
      "48.jpg done\n",
      "49.jpg done\n",
      "50.jpg done\n",
      "51.jpg done\n",
      "52.jpg done\n",
      "53.jpg done\n",
      "54.jpg done\n",
      "55.jpg done\n",
      "56.jpg done\n",
      "57.jpg done\n",
      "58.jpg done\n",
      "59.jpg done\n",
      "60.jpg done\n",
      "61.jpg done\n",
      "62.jpg done\n",
      "63.jpg done\n",
      "64.jpg done\n",
      "65.jpg done\n",
      "66.jpg done\n",
      "67.jpg done\n",
      "68.jpg done\n",
      "69.jpg done\n",
      "70.jpg done\n",
      "71.jpg done\n",
      "72.jpg done\n",
      "73.jpg done\n",
      "74.jpg done\n",
      "75.jpg done\n",
      "76.jpg done\n",
      "77.jpg done\n",
      "78.jpg done\n",
      "79.jpg done\n",
      "80.jpg done\n",
      "81.jpg done\n",
      "82.jpg done\n",
      "83.jpg done\n",
      "84.jpg done\n",
      "85.jpg done\n",
      "86.jpg done\n",
      "87.jpg done\n",
      "88.jpg done\n",
      "89.jpg done\n",
      "90.jpg done\n",
      "91.jpg done\n",
      "92.jpg done\n",
      "93.jpg done\n",
      "94.jpg done\n",
      "95.jpg done\n",
      "96.jpg done\n",
      "97.jpg done\n",
      "98.jpg done\n",
      "99.jpg done\n",
      "100.jpg done\n",
      "101.jpg done\n",
      "102.jpg done\n",
      "103.jpg done\n",
      "104.jpg done\n",
      "105.jpg done\n",
      "106.jpg done\n",
      "107.jpg done\n",
      "108.jpg done\n",
      "109.jpg done\n",
      "110.jpg done\n",
      "111.jpg done\n",
      "112.jpg done\n",
      "113.jpg done\n",
      "114.jpg done\n",
      "115.jpg done\n",
      "116.jpg done\n"
     ]
    },
    {
     "name": "stderr",
     "output_type": "stream",
     "text": [
      " 94%|█████████▍| 395/421 [14:27<01:20,  3.11s/it]"
     ]
    },
    {
     "name": "stdout",
     "output_type": "stream",
     "text": [
      "117.jpg done\n",
      "118.jpg done\n",
      "119.jpg done\n",
      "0.jpg done\n",
      "1.jpg done\n",
      "2.jpg done\n",
      "3.jpg done\n",
      "4.jpg done\n",
      "5.jpg done\n",
      "6.jpg done\n",
      "7.jpg done\n",
      "8.jpg done\n",
      "9.jpg done\n",
      "10.jpg done\n",
      "11.jpg done\n",
      "12.jpg done\n",
      "13.jpg done\n",
      "14.jpg done\n",
      "15.jpg done\n",
      "16.jpg done\n",
      "17.jpg done\n",
      "18.jpg done\n",
      "19.jpg done\n",
      "20.jpg done\n",
      "21.jpg done\n",
      "22.jpg done\n",
      "23.jpg done\n",
      "24.jpg done\n",
      "25.jpg done\n",
      "26.jpg done\n",
      "27.jpg done\n",
      "28.jpg done\n",
      "29.jpg done\n",
      "30.jpg done\n",
      "31.jpg done\n",
      "32.jpg done\n",
      "33.jpg done\n",
      "34.jpg done\n",
      "35.jpg done\n",
      "36.jpg done\n",
      "37.jpg done\n",
      "38.jpg done\n",
      "39.jpg done\n",
      "40.jpg done\n",
      "41.jpg done\n",
      "42.jpg done\n",
      "43.jpg done\n",
      "44.jpg done\n",
      "45.jpg done\n",
      "46.jpg done\n",
      "47.jpg done\n",
      "48.jpg done\n",
      "49.jpg done\n",
      "50.jpg done\n",
      "51.jpg done\n",
      "52.jpg done\n",
      "53.jpg done\n",
      "54.jpg done\n",
      "55.jpg done\n",
      "56.jpg done\n",
      "57.jpg done\n",
      "58.jpg done\n",
      "59.jpg done\n",
      "60.jpg done\n",
      "61.jpg done\n",
      "62.jpg done\n",
      "63.jpg done\n",
      "64.jpg done\n",
      "65.jpg done\n",
      "66.jpg done\n",
      "67.jpg done\n",
      "68.jpg done\n",
      "69.jpg done\n",
      "70.jpg done\n",
      "71.jpg done\n",
      "72.jpg done\n",
      "73.jpg done\n",
      "74.jpg done\n",
      "75.jpg done\n",
      "76.jpg done\n",
      "77.jpg done\n",
      "78.jpg done\n",
      "79.jpg done\n",
      "80.jpg done\n",
      "81.jpg done\n",
      "82.jpg done\n",
      "83.jpg done\n",
      "84.jpg done\n",
      "85.jpg done\n",
      "86.jpg done\n",
      "87.jpg done\n",
      "88.jpg done\n",
      "89.jpg done\n"
     ]
    },
    {
     "name": "stderr",
     "output_type": "stream",
     "text": [
      " 94%|█████████▍| 396/421 [14:31<01:26,  3.46s/it]"
     ]
    },
    {
     "name": "stdout",
     "output_type": "stream",
     "text": [
      "90.jpg done\n",
      "91.jpg done\n",
      "0.jpg done\n",
      "1.jpg done\n",
      "2.jpg done\n",
      "3.jpg done\n",
      "4.jpg done\n",
      "5.jpg done\n",
      "6.jpg done\n",
      "7.jpg done\n",
      "8.jpg done\n",
      "9.jpg done\n",
      "10.jpg done\n",
      "11.jpg done\n",
      "12.jpg done\n",
      "13.jpg done\n",
      "14.jpg done\n",
      "15.jpg done\n",
      "16.jpg done\n",
      "17.jpg done\n",
      "18.jpg done\n",
      "19.jpg done\n",
      "20.jpg done\n",
      "21.jpg done\n",
      "22.jpg done\n",
      "23.jpg done\n",
      "24.jpg done\n",
      "25.jpg done\n",
      "26.jpg done\n",
      "27.jpg done\n",
      "28.jpg done\n",
      "29.jpg done\n",
      "30.jpg done\n",
      "31.jpg done\n",
      "32.jpg done\n",
      "33.jpg done\n",
      "34.jpg done\n",
      "35.jpg done\n",
      "36.jpg done\n",
      "37.jpg done\n",
      "38.jpg done\n",
      "39.jpg done\n",
      "40.jpg done\n",
      "41.jpg done\n",
      "42.jpg done\n",
      "43.jpg done\n",
      "44.jpg done\n",
      "45.jpg done\n",
      "46.jpg done\n",
      "47.jpg done\n",
      "48.jpg done\n",
      "49.jpg done\n",
      "50.jpg done\n",
      "51.jpg done\n",
      "52.jpg done\n",
      "53.jpg done\n",
      "54.jpg done\n",
      "55.jpg done\n",
      "56.jpg done\n",
      "57.jpg done\n",
      "58.jpg done\n",
      "59.jpg done\n",
      "60.jpg done\n",
      "61.jpg done\n",
      "62.jpg done\n",
      "63.jpg done\n",
      "64.jpg done\n",
      "65.jpg done\n",
      "66.jpg done\n",
      "67.jpg done\n",
      "68.jpg done\n",
      "69.jpg done\n"
     ]
    },
    {
     "name": "stderr",
     "output_type": "stream",
     "text": [
      " 94%|█████████▍| 397/421 [14:35<01:24,  3.51s/it]"
     ]
    },
    {
     "name": "stdout",
     "output_type": "stream",
     "text": [
      "70.jpg done\n",
      "71.jpg done\n",
      "72.jpg done\n",
      "0.jpg done\n",
      "1.jpg done\n",
      "2.jpg done\n",
      "3.jpg done\n",
      "4.jpg done\n",
      "5.jpg done\n",
      "6.jpg done\n",
      "7.jpg done\n",
      "8.jpg done\n",
      "9.jpg done\n"
     ]
    },
    {
     "name": "stderr",
     "output_type": "stream",
     "text": [
      " 95%|█████████▍| 398/421 [14:35<01:01,  2.68s/it]"
     ]
    },
    {
     "name": "stdout",
     "output_type": "stream",
     "text": [
      "10.jpg done\n",
      "11.jpg done\n",
      "12.jpg done\n",
      "13.jpg done\n",
      "0.jpg done\n",
      "1.jpg done\n",
      "2.jpg done\n",
      "3.jpg done\n",
      "4.jpg done\n",
      "5.jpg done\n",
      "6.jpg done\n",
      "7.jpg done\n",
      "8.jpg done\n",
      "9.jpg done\n",
      "10.jpg done\n",
      "11.jpg done\n",
      "12.jpg done\n",
      "13.jpg done\n",
      "14.jpg done\n"
     ]
    },
    {
     "name": "stderr",
     "output_type": "stream",
     "text": [
      " 95%|█████████▍| 399/421 [14:36<00:46,  2.13s/it]"
     ]
    },
    {
     "name": "stdout",
     "output_type": "stream",
     "text": [
      "15.jpg done\n",
      "16.jpg done\n",
      "17.jpg done\n",
      "0.jpg done\n"
     ]
    },
    {
     "name": "stderr",
     "output_type": "stream",
     "text": [
      " 95%|█████████▌| 400/421 [14:37<00:32,  1.56s/it]"
     ]
    },
    {
     "name": "stdout",
     "output_type": "stream",
     "text": [
      "1.jpg done\n",
      "2.jpg done\n",
      "3.jpg done\n",
      "0.jpg done\n",
      "1.jpg done\n",
      "2.jpg done\n",
      "3.jpg done\n",
      "4.jpg done\n",
      "5.jpg done\n",
      "6.jpg done\n",
      "7.jpg done\n",
      "8.jpg done\n",
      "9.jpg done\n",
      "10.jpg done\n",
      "11.jpg done\n",
      "12.jpg done\n",
      "13.jpg done\n",
      "14.jpg done\n",
      "15.jpg done\n",
      "16.jpg done\n",
      "17.jpg done\n",
      "18.jpg done\n",
      "19.jpg done\n",
      "20.jpg done\n",
      "21.jpg done\n",
      "22.jpg done\n",
      "23.jpg done\n",
      "24.jpg done\n"
     ]
    },
    {
     "name": "stderr",
     "output_type": "stream",
     "text": [
      " 95%|█████████▌| 401/421 [14:38<00:30,  1.53s/it]"
     ]
    },
    {
     "name": "stdout",
     "output_type": "stream",
     "text": [
      "25.jpg done\n",
      "26.jpg done\n",
      "27.jpg done\n"
     ]
    },
    {
     "name": "stderr",
     "output_type": "stream",
     "text": [
      " 95%|█████████▌| 402/421 [14:38<00:21,  1.13s/it]"
     ]
    },
    {
     "name": "stdout",
     "output_type": "stream",
     "text": [
      "0.jpg done\n",
      "1.jpg done\n",
      "0.jpg done\n",
      "1.jpg done\n",
      "2.jpg done\n",
      "3.jpg done\n",
      "4.jpg done\n",
      "5.jpg done\n",
      "6.jpg done\n",
      "7.jpg done\n",
      "8.jpg done\n",
      "9.jpg done\n",
      "10.jpg done\n",
      "11.jpg done\n"
     ]
    },
    {
     "name": "stderr",
     "output_type": "stream",
     "text": [
      " 96%|█████████▌| 403/421 [14:39<00:18,  1.04s/it]"
     ]
    },
    {
     "name": "stdout",
     "output_type": "stream",
     "text": [
      "12.jpg done\n",
      "13.jpg done\n",
      "14.jpg done\n",
      "15.jpg done\n",
      "16.jpg done\n",
      "0.jpg done\n",
      "1.jpg done\n",
      "2.jpg done\n",
      "3.jpg done\n",
      "4.jpg done\n",
      "5.jpg done\n",
      "6.jpg done\n",
      "7.jpg done\n",
      "8.jpg done\n",
      "9.jpg done\n",
      "10.jpg done\n",
      "11.jpg done\n",
      "12.jpg done\n",
      "13.jpg done\n",
      "14.jpg done\n",
      "15.jpg done\n",
      "16.jpg done\n",
      "17.jpg done\n",
      "18.jpg done\n",
      "19.jpg done\n",
      "20.jpg done\n",
      "21.jpg done\n",
      "22.jpg done\n",
      "23.jpg done\n",
      "24.jpg done\n",
      "25.jpg done\n",
      "26.jpg done\n",
      "27.jpg done\n",
      "28.jpg done\n",
      "29.jpg done\n",
      "30.jpg done\n",
      "31.jpg done\n",
      "32.jpg done\n",
      "33.jpg done\n",
      "34.jpg done\n",
      "35.jpg done\n",
      "36.jpg done\n",
      "37.jpg done\n",
      "38.jpg done\n",
      "39.jpg done\n",
      "40.jpg done\n",
      "41.jpg done\n",
      "42.jpg done\n",
      "43.jpg done\n",
      "44.jpg done\n",
      "45.jpg done\n"
     ]
    },
    {
     "name": "stderr",
     "output_type": "stream",
     "text": [
      " 96%|█████████▌| 404/421 [14:41<00:24,  1.44s/it]"
     ]
    },
    {
     "name": "stdout",
     "output_type": "stream",
     "text": [
      "0.jpg done\n",
      "1.jpg done\n",
      "2.jpg done\n",
      "3.jpg done\n",
      "4.jpg done\n"
     ]
    },
    {
     "name": "stderr",
     "output_type": "stream",
     "text": [
      " 96%|█████████▌| 405/421 [14:42<00:17,  1.10s/it]"
     ]
    },
    {
     "name": "stdout",
     "output_type": "stream",
     "text": [
      "5.jpg done\n",
      "0.jpg done\n",
      "1.jpg done\n",
      "2.jpg done\n",
      "3.jpg done\n",
      "4.jpg done\n",
      "5.jpg done\n",
      "6.jpg done\n",
      "7.jpg done\n"
     ]
    },
    {
     "name": "stderr",
     "output_type": "stream",
     "text": [
      " 96%|█████████▋| 406/421 [14:42<00:13,  1.09it/s]"
     ]
    },
    {
     "name": "stdout",
     "output_type": "stream",
     "text": [
      "8.jpg done\n",
      "9.jpg done\n",
      "0.jpg done\n"
     ]
    },
    {
     "name": "stderr",
     "output_type": "stream",
     "text": [
      " 97%|█████████▋| 407/421 [14:43<00:10,  1.34it/s]"
     ]
    },
    {
     "name": "stdout",
     "output_type": "stream",
     "text": [
      "1.jpg done\n",
      "2.jpg done\n",
      "3.jpg done\n",
      "4.jpg done\n",
      "5.jpg done\n"
     ]
    },
    {
     "name": "stderr",
     "output_type": "stream",
     "text": [
      " 97%|█████████▋| 408/421 [14:43<00:07,  1.72it/s]"
     ]
    },
    {
     "name": "stdout",
     "output_type": "stream",
     "text": [
      "0.jpg done\n",
      "1.jpg done\n",
      "2.jpg done\n",
      "0.jpg done\n",
      "1.jpg done\n",
      "2.jpg done\n",
      "3.jpg done\n",
      "4.jpg done\n",
      "5.jpg done\n",
      "6.jpg done\n",
      "7.jpg done\n",
      "8.jpg done\n",
      "9.jpg done\n",
      "10.jpg done\n",
      "11.jpg done\n",
      "12.jpg done\n",
      "13.jpg done\n",
      "14.jpg done\n",
      "15.jpg done\n",
      "16.jpg done\n",
      "17.jpg done\n",
      "18.jpg done\n",
      "19.jpg done\n",
      "20.jpg done\n",
      "21.jpg done\n",
      "22.jpg done\n",
      "23.jpg done\n",
      "24.jpg done\n",
      "25.jpg done\n",
      "26.jpg done\n",
      "27.jpg done\n",
      "28.jpg done\n",
      "29.jpg done\n",
      "30.jpg done\n",
      "31.jpg done\n",
      "32.jpg done\n",
      "33.jpg done\n",
      "34.jpg done\n",
      "35.jpg done\n",
      "36.jpg done\n",
      "37.jpg done\n",
      "38.jpg done\n",
      "39.jpg done\n",
      "40.jpg done\n"
     ]
    },
    {
     "name": "stderr",
     "output_type": "stream",
     "text": [
      " 97%|█████████▋| 409/421 [14:45<00:12,  1.06s/it]"
     ]
    },
    {
     "name": "stdout",
     "output_type": "stream",
     "text": [
      "41.jpg done\n",
      "42.jpg done\n",
      "43.jpg done\n",
      "44.jpg done\n",
      "0.jpg done\n",
      "1.jpg done\n",
      "2.jpg done\n",
      "3.jpg done\n",
      "4.jpg done\n",
      "5.jpg done\n",
      "6.jpg done\n",
      "7.jpg done\n",
      "8.jpg done\n",
      "9.jpg done\n"
     ]
    },
    {
     "name": "stderr",
     "output_type": "stream",
     "text": [
      " 97%|█████████▋| 410/421 [14:46<00:10,  1.06it/s]"
     ]
    },
    {
     "name": "stdout",
     "output_type": "stream",
     "text": [
      "10.jpg done\n",
      "11.jpg done\n",
      "12.jpg done\n",
      "13.jpg done\n",
      "0.jpg done\n",
      "1.jpg done\n",
      "2.jpg done\n",
      "3.jpg done\n",
      "4.jpg done\n",
      "5.jpg done\n",
      "6.jpg done\n",
      "7.jpg done\n",
      "8.jpg done\n",
      "9.jpg done\n",
      "10.jpg done\n",
      "11.jpg done\n",
      "12.jpg done\n",
      "13.jpg done\n",
      "14.jpg done\n",
      "15.jpg done\n",
      "16.jpg done\n",
      "17.jpg done\n",
      "18.jpg done\n",
      "19.jpg done\n",
      "20.jpg done\n",
      "21.jpg done\n",
      "22.jpg done\n",
      "23.jpg done\n",
      "24.jpg done\n"
     ]
    },
    {
     "name": "stderr",
     "output_type": "stream",
     "text": [
      " 98%|█████████▊| 411/421 [14:47<00:10,  1.10s/it]"
     ]
    },
    {
     "name": "stdout",
     "output_type": "stream",
     "text": [
      "25.jpg done\n",
      "26.jpg done\n",
      "27.jpg done\n",
      "0.jpg done\n",
      "1.jpg done\n",
      "2.jpg done\n",
      "3.jpg done\n",
      "4.jpg done\n",
      "5.jpg done\n",
      "6.jpg done\n",
      "7.jpg done\n",
      "8.jpg done\n",
      "9.jpg done\n",
      "10.jpg done\n",
      "11.jpg done\n"
     ]
    },
    {
     "name": "stderr",
     "output_type": "stream",
     "text": [
      " 98%|█████████▊| 412/421 [14:48<00:08,  1.05it/s]"
     ]
    },
    {
     "name": "stdout",
     "output_type": "stream",
     "text": [
      "12.jpg done\n",
      "0.jpg done\n",
      "1.jpg done\n",
      "2.jpg done\n",
      "3.jpg done\n",
      "4.jpg done\n",
      "5.jpg done\n",
      "6.jpg done\n",
      "7.jpg done\n",
      "8.jpg done\n",
      "9.jpg done\n",
      "10.jpg done\n",
      "11.jpg done\n",
      "12.jpg done\n",
      "13.jpg done\n",
      "14.jpg done\n",
      "15.jpg done\n",
      "16.jpg done\n",
      "17.jpg done\n",
      "18.jpg done\n",
      "19.jpg done\n",
      "20.jpg done\n",
      "21.jpg done\n",
      "22.jpg done\n",
      "23.jpg done\n",
      "24.jpg done\n"
     ]
    },
    {
     "name": "stderr",
     "output_type": "stream",
     "text": [
      " 98%|█████████▊| 413/421 [14:49<00:08,  1.10s/it]"
     ]
    },
    {
     "name": "stdout",
     "output_type": "stream",
     "text": [
      "25.jpg done\n",
      "26.jpg done\n",
      "27.jpg done\n",
      "0.jpg done\n",
      "1.jpg done\n",
      "2.jpg done\n",
      "3.jpg done\n",
      "4.jpg done\n",
      "5.jpg done\n",
      "6.jpg done\n",
      "7.jpg done\n",
      "8.jpg done\n",
      "9.jpg done\n",
      "10.jpg done\n"
     ]
    },
    {
     "name": "stderr",
     "output_type": "stream",
     "text": [
      " 98%|█████████▊| 414/421 [14:50<00:06,  1.02it/s]"
     ]
    },
    {
     "name": "stdout",
     "output_type": "stream",
     "text": [
      "11.jpg done\n",
      "12.jpg done\n",
      "13.jpg done\n",
      "0.jpg done\n",
      "1.jpg done\n",
      "2.jpg done\n",
      "3.jpg done\n",
      "4.jpg done\n"
     ]
    },
    {
     "name": "stderr",
     "output_type": "stream",
     "text": [
      " 99%|█████████▊| 415/421 [14:51<00:05,  1.10it/s]"
     ]
    },
    {
     "name": "stdout",
     "output_type": "stream",
     "text": [
      "5.jpg done\n",
      "6.jpg done\n",
      "7.jpg done\n",
      "0.jpg done\n",
      "1.jpg done\n",
      "2.jpg done\n",
      "3.jpg done\n",
      "4.jpg done\n",
      "5.jpg done\n",
      "6.jpg done\n",
      "7.jpg done\n",
      "8.jpg done\n",
      "9.jpg done\n",
      "10.jpg done\n",
      "11.jpg done\n",
      "12.jpg done\n",
      "13.jpg done\n",
      "14.jpg done\n",
      "15.jpg done\n",
      "16.jpg done\n",
      "17.jpg done\n",
      "18.jpg done\n",
      "19.jpg done\n",
      "20.jpg done\n",
      "21.jpg done\n",
      "22.jpg done\n",
      "23.jpg done\n",
      "24.jpg done\n",
      "25.jpg done\n",
      "26.jpg done\n",
      "27.jpg done\n",
      "28.jpg done\n",
      "29.jpg done\n",
      "30.jpg done\n",
      "31.jpg done\n",
      "32.jpg done\n",
      "33.jpg done\n",
      "34.jpg done\n"
     ]
    },
    {
     "name": "stderr",
     "output_type": "stream",
     "text": [
      " 99%|█████████▉| 416/421 [14:52<00:05,  1.18s/it]"
     ]
    },
    {
     "name": "stdout",
     "output_type": "stream",
     "text": [
      "35.jpg done\n",
      "36.jpg done\n",
      "37.jpg done\n",
      "0.jpg done\n",
      "1.jpg done\n",
      "2.jpg done\n",
      "3.jpg done\n",
      "4.jpg done\n",
      "5.jpg done\n",
      "6.jpg done\n",
      "7.jpg done\n",
      "8.jpg done\n",
      "9.jpg done\n",
      "10.jpg done\n"
     ]
    },
    {
     "name": "stderr",
     "output_type": "stream",
     "text": [
      " 99%|█████████▉| 417/421 [14:53<00:04,  1.05s/it]"
     ]
    },
    {
     "name": "stdout",
     "output_type": "stream",
     "text": [
      "11.jpg done\n",
      "12.jpg done\n",
      "13.jpg done\n",
      "14.jpg done\n",
      "0.jpg done\n",
      "1.jpg done\n",
      "2.jpg done\n",
      "3.jpg done\n",
      "4.jpg done\n",
      "5.jpg done\n",
      "6.jpg done\n",
      "7.jpg done\n",
      "8.jpg done\n",
      "9.jpg done\n",
      "10.jpg done\n",
      "11.jpg done\n",
      "12.jpg done\n",
      "13.jpg done\n",
      "14.jpg done\n",
      "15.jpg done\n",
      "16.jpg done\n",
      "17.jpg done\n",
      "18.jpg done\n",
      "19.jpg done\n",
      "20.jpg done\n",
      "21.jpg done\n",
      "22.jpg done\n",
      "23.jpg done\n",
      "24.jpg done\n",
      "25.jpg done\n",
      "26.jpg done\n",
      "27.jpg done\n",
      "28.jpg done\n",
      "29.jpg done\n",
      "30.jpg done\n",
      "31.jpg done\n",
      "32.jpg done\n",
      "33.jpg done\n",
      "34.jpg done\n",
      "35.jpg done\n",
      "36.jpg done\n",
      "37.jpg done\n",
      "38.jpg done\n"
     ]
    },
    {
     "name": "stderr",
     "output_type": "stream",
     "text": [
      " 99%|█████████▉| 418/421 [14:55<00:04,  1.35s/it]"
     ]
    },
    {
     "name": "stdout",
     "output_type": "stream",
     "text": [
      "39.jpg done\n",
      "40.jpg done\n",
      "41.jpg done\n",
      "0.jpg done\n",
      "1.jpg done\n",
      "2.jpg done\n",
      "3.jpg done\n",
      "4.jpg done\n",
      "5.jpg done\n",
      "6.jpg done\n",
      "7.jpg done\n",
      "8.jpg done\n",
      "9.jpg done\n",
      "10.jpg done\n",
      "11.jpg done\n",
      "12.jpg done\n",
      "13.jpg done\n",
      "14.jpg done\n"
     ]
    },
    {
     "name": "stderr",
     "output_type": "stream",
     "text": [
      "100%|█████████▉| 419/421 [14:56<00:02,  1.25s/it]"
     ]
    },
    {
     "name": "stdout",
     "output_type": "stream",
     "text": [
      "15.jpg done\n",
      "16.jpg done\n",
      "17.jpg done\n",
      "18.jpg done\n",
      "19.jpg done\n",
      "0.jpg done\n",
      "1.jpg done\n",
      "2.jpg done\n",
      "3.jpg done\n",
      "4.jpg done\n",
      "5.jpg done\n",
      "6.jpg done\n",
      "7.jpg done\n",
      "8.jpg done\n",
      "9.jpg done\n",
      "10.jpg done\n",
      "11.jpg done\n",
      "12.jpg done\n",
      "13.jpg done\n",
      "14.jpg done\n",
      "15.jpg done\n",
      "16.jpg done\n",
      "17.jpg done\n",
      "18.jpg done\n",
      "19.jpg done\n",
      "20.jpg done\n",
      "21.jpg done\n",
      "22.jpg done\n",
      "23.jpg done\n",
      "24.jpg done\n",
      "25.jpg done\n",
      "26.jpg done\n",
      "27.jpg done\n",
      "28.jpg done\n",
      "29.jpg done\n",
      "30.jpg done\n",
      "31.jpg done\n",
      "32.jpg done\n"
     ]
    },
    {
     "name": "stderr",
     "output_type": "stream",
     "text": [
      "100%|█████████▉| 420/421 [14:58<00:01,  1.43s/it]"
     ]
    },
    {
     "name": "stdout",
     "output_type": "stream",
     "text": [
      "33.jpg done\n",
      "34.jpg done\n",
      "35.jpg done\n",
      "0.jpg done\n",
      "1.jpg done\n",
      "2.jpg done\n",
      "3.jpg done\n",
      "4.jpg done\n",
      "5.jpg done\n",
      "6.jpg done\n",
      "7.jpg done\n",
      "8.jpg done\n",
      "9.jpg done\n",
      "10.jpg done\n",
      "11.jpg done\n",
      "12.jpg done\n",
      "13.jpg done\n",
      "14.jpg done\n",
      "15.jpg done\n",
      "16.jpg done\n",
      "17.jpg done\n",
      "18.jpg done\n",
      "19.jpg done\n",
      "20.jpg done\n",
      "21.jpg done\n",
      "22.jpg done\n",
      "23.jpg done\n",
      "24.jpg done\n",
      "25.jpg done\n",
      "26.jpg done\n",
      "27.jpg done\n",
      "28.jpg done\n",
      "29.jpg done\n",
      "30.jpg done\n",
      "31.jpg done\n",
      "32.jpg done\n",
      "33.jpg done\n",
      "34.jpg done\n",
      "35.jpg done\n",
      "36.jpg done\n",
      "37.jpg done\n",
      "38.jpg done\n",
      "39.jpg done\n",
      "40.jpg done\n"
     ]
    },
    {
     "name": "stderr",
     "output_type": "stream",
     "text": [
      "100%|██████████| 421/421 [15:00<00:00,  2.14s/it]"
     ]
    },
    {
     "name": "stdout",
     "output_type": "stream",
     "text": [
      "41.jpg done\n",
      "42.jpg done\n"
     ]
    },
    {
     "name": "stderr",
     "output_type": "stream",
     "text": [
      "\n"
     ]
    }
   ],
   "source": [
    "for i in tqdm(range(len(df_train))):\n",
    "    vid_name = df_train['name'][i]\n",
    "    vid_num = vid_name[5:-11]\n",
    "    shot_num = vid_name[13:-4]\n",
    "    vidcap = cv2.VideoCapture(\"video_train/\" + vid_name)\n",
    "    count = 0\n",
    "    while(vidcap.isOpened()):\n",
    "        ret, image = vidcap.read()\n",
    "        if not ret:\n",
    "            break\n",
    "        # 대략 1초당 한개의 frame을 뽑음\n",
    "        if(int(vidcap.get(1)) % 30 == 0):\n",
    "            cv2.imwrite(\"frame_train/\" + \"video%d-%s-frame%d.jpg\" % (int(vid_num), shot_num, count), image)\n",
    "            count += 1\n",
    "    vidcap.release()"
   ]
  },
  {
   "cell_type": "code",
   "execution_count": 31,
   "metadata": {},
   "outputs": [
    {
     "name": "stdout",
     "output_type": "stream",
     "text": [
      "총 18733개의 frame 추출\n"
     ]
    }
   ],
   "source": [
    "print(\"총 {}개의 frame 추출\".format(len(os.listdir('frame_train'))))"
   ]
  },
  {
   "cell_type": "code",
   "execution_count": null,
   "metadata": {},
   "outputs": [],
   "source": []
  },
  {
   "cell_type": "code",
   "execution_count": 39,
   "metadata": {},
   "outputs": [],
   "source": [
    "os.mkdir('frame_validation')"
   ]
  },
  {
   "cell_type": "code",
   "execution_count": 43,
   "metadata": {},
   "outputs": [
    {
     "name": "stderr",
     "output_type": "stream",
     "text": [
      "100%|██████████| 101/101 [02:31<00:00,  1.50s/it]\n"
     ]
    }
   ],
   "source": [
    "for i in tqdm(range(len(df_val))):\n",
    "    vid_name = df_val['name'][i]\n",
    "    vid_num = vid_name[5:-11]\n",
    "    shot_num = vid_name[13:-4]\n",
    "    vidcap = cv2.VideoCapture(\"video_validation/\" + vid_name)\n",
    "    count = 0\n",
    "    while(vidcap.isOpened()):\n",
    "        ret, image = vidcap.read()\n",
    "        if not ret:\n",
    "            break\n",
    "        # 대략 1초당 한개의 frame을 뽑음\n",
    "        if(int(vidcap.get(1)) % 30 == 0):\n",
    "            cv2.imwrite(\"frame_validation/\" + \"video%d-%s-frame%d.jpg\" % (int(vid_num), shot_num, count), image)\n",
    "            count += 1\n",
    "    vidcap.release()"
   ]
  },
  {
   "cell_type": "code",
   "execution_count": 44,
   "metadata": {},
   "outputs": [
    {
     "name": "stdout",
     "output_type": "stream",
     "text": [
      "총 3472개의 frame 추출\n"
     ]
    }
   ],
   "source": [
    "print(\"총 {}개의 frame 추출\".format(len(os.listdir('frame_validation'))))"
   ]
  },
  {
   "cell_type": "code",
   "execution_count": null,
   "metadata": {},
   "outputs": [],
   "source": []
  },
  {
   "cell_type": "markdown",
   "metadata": {},
   "source": [
    "### 추출한 frame을 label과 함께 Dataframe으로 만들어준다"
   ]
  },
  {
   "cell_type": "code",
   "execution_count": 96,
   "metadata": {},
   "outputs": [
    {
     "name": "stderr",
     "output_type": "stream",
     "text": [
      "100%|██████████| 18733/18733 [00:13<00:00, 1366.39it/s]\n"
     ]
    }
   ],
   "source": [
    "train_class = []\n",
    "\n",
    "for i in tqdm(os.listdir(\"frame_train\")):\n",
    "    shot_name = \"%s-shot%s.mp4\" % (i.split('-')[0], i.split('-')[1])\n",
    "    idx = df_train[df_train['name'] == shot_name]['label'].index[0]\n",
    "    label = json.loads(df_train[df_train['name'] == shot_name]['label'][idx])\n",
    "    train_class.append(label)\n",
    "    \n",
    "train_data = pd.DataFrame()\n",
    "train_data['name'] = [i for i in os.listdir('frame_train')]\n",
    "train_data['label'] = train_class"
   ]
  },
  {
   "cell_type": "code",
   "execution_count": 103,
   "metadata": {},
   "outputs": [
    {
     "data": {
      "text/html": [
       "<div>\n",
       "<style scoped>\n",
       "    .dataframe tbody tr th:only-of-type {\n",
       "        vertical-align: middle;\n",
       "    }\n",
       "\n",
       "    .dataframe tbody tr th {\n",
       "        vertical-align: top;\n",
       "    }\n",
       "\n",
       "    .dataframe thead th {\n",
       "        text-align: right;\n",
       "    }\n",
       "</style>\n",
       "<table border=\"1\" class=\"dataframe\">\n",
       "  <thead>\n",
       "    <tr style=\"text-align: right;\">\n",
       "      <th></th>\n",
       "      <th>name</th>\n",
       "      <th>label</th>\n",
       "    </tr>\n",
       "  </thead>\n",
       "  <tbody>\n",
       "    <tr>\n",
       "      <th>0</th>\n",
       "      <td>video134-02-frame87.jpg</td>\n",
       "      <td>[14, 7, 1, 0, 0, 1]</td>\n",
       "    </tr>\n",
       "    <tr>\n",
       "      <th>1</th>\n",
       "      <td>video178-01-frame143.jpg</td>\n",
       "      <td>[2, 5, 10, 4, 0, 2]</td>\n",
       "    </tr>\n",
       "    <tr>\n",
       "      <th>2</th>\n",
       "      <td>video138-01-frame84.jpg</td>\n",
       "      <td>[14, 2, 16, 2, 3, 0]</td>\n",
       "    </tr>\n",
       "    <tr>\n",
       "      <th>3</th>\n",
       "      <td>video127-01-frame11.jpg</td>\n",
       "      <td>[7, 5, 16, 2, 10, 0]</td>\n",
       "    </tr>\n",
       "    <tr>\n",
       "      <th>4</th>\n",
       "      <td>video145-02-frame22.jpg</td>\n",
       "      <td>[14, 2, 0, 0, 0, 2]</td>\n",
       "    </tr>\n",
       "  </tbody>\n",
       "</table>\n",
       "</div>"
      ],
      "text/plain": [
       "                       name                 label\n",
       "0   video134-02-frame87.jpg   [14, 7, 1, 0, 0, 1]\n",
       "1  video178-01-frame143.jpg   [2, 5, 10, 4, 0, 2]\n",
       "2   video138-01-frame84.jpg  [14, 2, 16, 2, 3, 0]\n",
       "3   video127-01-frame11.jpg  [7, 5, 16, 2, 10, 0]\n",
       "4   video145-02-frame22.jpg   [14, 2, 0, 0, 0, 2]"
      ]
     },
     "execution_count": 103,
     "metadata": {},
     "output_type": "execute_result"
    }
   ],
   "source": [
    "train_data.head()"
   ]
  },
  {
   "cell_type": "code",
   "execution_count": 104,
   "metadata": {},
   "outputs": [],
   "source": [
    "train_data.to_csv(\"train_data.csv\", index=False)"
   ]
  },
  {
   "cell_type": "code",
   "execution_count": null,
   "metadata": {},
   "outputs": [],
   "source": []
  },
  {
   "cell_type": "code",
   "execution_count": 46,
   "metadata": {},
   "outputs": [
    {
     "name": "stderr",
     "output_type": "stream",
     "text": [
      "100%|██████████| 3472/3472 [00:02<00:00, 1397.57it/s]\n"
     ]
    }
   ],
   "source": [
    "validation_class = []\n",
    "\n",
    "for i in tqdm(os.listdir(\"frame_validation\")):\n",
    "    shot_name = \"%s-shot%s.mp4\" % (i.split('-')[0], i.split('-')[1])\n",
    "    idx = df_val[df_val['name'] == shot_name]['label'].index[0]\n",
    "    label = json.loads(df_val[df_val['name'] == shot_name]['label'][idx])\n",
    "    validation_class.append(label)\n",
    "    \n",
    "val_data = pd.DataFrame()\n",
    "val_data['name'] = [i for i in os.listdir('frame_validation')]\n",
    "val_data['label'] = validation_class"
   ]
  },
  {
   "cell_type": "code",
   "execution_count": 47,
   "metadata": {},
   "outputs": [
    {
     "data": {
      "text/html": [
       "<div>\n",
       "<style scoped>\n",
       "    .dataframe tbody tr th:only-of-type {\n",
       "        vertical-align: middle;\n",
       "    }\n",
       "\n",
       "    .dataframe tbody tr th {\n",
       "        vertical-align: top;\n",
       "    }\n",
       "\n",
       "    .dataframe thead th {\n",
       "        text-align: right;\n",
       "    }\n",
       "</style>\n",
       "<table border=\"1\" class=\"dataframe\">\n",
       "  <thead>\n",
       "    <tr style=\"text-align: right;\">\n",
       "      <th></th>\n",
       "      <th>name</th>\n",
       "      <th>label</th>\n",
       "    </tr>\n",
       "  </thead>\n",
       "  <tbody>\n",
       "    <tr>\n",
       "      <th>0</th>\n",
       "      <td>video199-03-frame18.jpg</td>\n",
       "      <td>[14, 5, 16, 2, 9, 0]</td>\n",
       "    </tr>\n",
       "    <tr>\n",
       "      <th>1</th>\n",
       "      <td>video192-01-frame29.jpg</td>\n",
       "      <td>[7, 0, 10, 4, 0, 2]</td>\n",
       "    </tr>\n",
       "    <tr>\n",
       "      <th>2</th>\n",
       "      <td>video204-01-frame16.jpg</td>\n",
       "      <td>[17, 3, 16, 2, 10, 0]</td>\n",
       "    </tr>\n",
       "    <tr>\n",
       "      <th>3</th>\n",
       "      <td>video188-08-frame2.jpg</td>\n",
       "      <td>[10, 1, 11, 4, 0, 2]</td>\n",
       "    </tr>\n",
       "    <tr>\n",
       "      <th>4</th>\n",
       "      <td>video186-04-frame29.jpg</td>\n",
       "      <td>[17, 0, 10, 4, 0, 2]</td>\n",
       "    </tr>\n",
       "  </tbody>\n",
       "</table>\n",
       "</div>"
      ],
      "text/plain": [
       "                      name                  label\n",
       "0  video199-03-frame18.jpg   [14, 5, 16, 2, 9, 0]\n",
       "1  video192-01-frame29.jpg    [7, 0, 10, 4, 0, 2]\n",
       "2  video204-01-frame16.jpg  [17, 3, 16, 2, 10, 0]\n",
       "3   video188-08-frame2.jpg   [10, 1, 11, 4, 0, 2]\n",
       "4  video186-04-frame29.jpg   [17, 0, 10, 4, 0, 2]"
      ]
     },
     "execution_count": 47,
     "metadata": {},
     "output_type": "execute_result"
    }
   ],
   "source": [
    "val_data.head()"
   ]
  },
  {
   "cell_type": "code",
   "execution_count": 48,
   "metadata": {},
   "outputs": [],
   "source": [
    "val_data.to_csv(\"validation_data.csv\", index=False)"
   ]
  },
  {
   "cell_type": "code",
   "execution_count": null,
   "metadata": {},
   "outputs": [],
   "source": []
  },
  {
   "cell_type": "code",
   "execution_count": null,
   "metadata": {},
   "outputs": [],
   "source": []
  },
  {
   "cell_type": "markdown",
   "metadata": {},
   "source": [
    "### Model을 사용하여 학습시켜보자"
   ]
  },
  {
   "cell_type": "code",
   "execution_count": null,
   "metadata": {},
   "outputs": [],
   "source": []
  },
  {
   "cell_type": "markdown",
   "metadata": {},
   "source": [
    "#### 뽑은 frame 이미지들을 transform 적용 (resize, ToTensor, Normalize)"
   ]
  },
  {
   "cell_type": "code",
   "execution_count": 2,
   "metadata": {},
   "outputs": [],
   "source": [
    "import torchvision, torch\n",
    "import torch.nn as nn\n",
    "from torch.utils.data import DataLoader\n",
    "from torchvision import datasets, models, transforms\n",
    "from torch.utils.data import Dataset\n",
    "import matplotlib.pyplot as plt\n",
    "import torchvision.models as models"
   ]
  },
  {
   "cell_type": "code",
   "execution_count": 3,
   "metadata": {},
   "outputs": [],
   "source": [
    "train_data = pd.read_csv(\"train_data.csv\")"
   ]
  },
  {
   "cell_type": "code",
   "execution_count": 4,
   "metadata": {},
   "outputs": [],
   "source": [
    "val_data = pd.read_csv(\"validation_data.csv\")"
   ]
  },
  {
   "cell_type": "code",
   "execution_count": 5,
   "metadata": {},
   "outputs": [
    {
     "data": {
      "text/html": [
       "<div>\n",
       "<style scoped>\n",
       "    .dataframe tbody tr th:only-of-type {\n",
       "        vertical-align: middle;\n",
       "    }\n",
       "\n",
       "    .dataframe tbody tr th {\n",
       "        vertical-align: top;\n",
       "    }\n",
       "\n",
       "    .dataframe thead th {\n",
       "        text-align: right;\n",
       "    }\n",
       "</style>\n",
       "<table border=\"1\" class=\"dataframe\">\n",
       "  <thead>\n",
       "    <tr style=\"text-align: right;\">\n",
       "      <th></th>\n",
       "      <th>name</th>\n",
       "      <th>label</th>\n",
       "    </tr>\n",
       "  </thead>\n",
       "  <tbody>\n",
       "    <tr>\n",
       "      <th>0</th>\n",
       "      <td>video134-02-frame87.jpg</td>\n",
       "      <td>[14, 7, 1, 0, 0, 1]</td>\n",
       "    </tr>\n",
       "    <tr>\n",
       "      <th>1</th>\n",
       "      <td>video178-01-frame143.jpg</td>\n",
       "      <td>[2, 5, 10, 4, 0, 2]</td>\n",
       "    </tr>\n",
       "    <tr>\n",
       "      <th>2</th>\n",
       "      <td>video138-01-frame84.jpg</td>\n",
       "      <td>[14, 2, 16, 2, 3, 0]</td>\n",
       "    </tr>\n",
       "    <tr>\n",
       "      <th>3</th>\n",
       "      <td>video127-01-frame11.jpg</td>\n",
       "      <td>[7, 5, 16, 2, 10, 0]</td>\n",
       "    </tr>\n",
       "    <tr>\n",
       "      <th>4</th>\n",
       "      <td>video145-02-frame22.jpg</td>\n",
       "      <td>[14, 2, 0, 0, 0, 2]</td>\n",
       "    </tr>\n",
       "  </tbody>\n",
       "</table>\n",
       "</div>"
      ],
      "text/plain": [
       "                       name                 label\n",
       "0   video134-02-frame87.jpg   [14, 7, 1, 0, 0, 1]\n",
       "1  video178-01-frame143.jpg   [2, 5, 10, 4, 0, 2]\n",
       "2   video138-01-frame84.jpg  [14, 2, 16, 2, 3, 0]\n",
       "3   video127-01-frame11.jpg  [7, 5, 16, 2, 10, 0]\n",
       "4   video145-02-frame22.jpg   [14, 2, 0, 0, 0, 2]"
      ]
     },
     "execution_count": 5,
     "metadata": {},
     "output_type": "execute_result"
    }
   ],
   "source": [
    "train_data.head()"
   ]
  },
  {
   "cell_type": "code",
   "execution_count": null,
   "metadata": {},
   "outputs": [],
   "source": []
  },
  {
   "cell_type": "markdown",
   "metadata": {},
   "source": [
    "### Create Custom Dataset class\n",
    "- 우리가 갖고있는 데이터에 맞게 Dataset을 구현해서 사용"
   ]
  },
  {
   "cell_type": "code",
   "execution_count": 6,
   "metadata": {},
   "outputs": [],
   "source": [
    "class MultiTaskDataset(Dataset):\n",
    "    def __init__(self, root_dir, df, transform=None):\n",
    "        self.root_dir = root_dir\n",
    "        self.name = list(df.name)\n",
    "        self.label = [json.loads(x) for x in list(df.label)]\n",
    "        self.transform = transform\n",
    "\n",
    "    def __len__(self):\n",
    "        return len(self.name)\n",
    "\n",
    "    def __getitem__(self, index):\n",
    "        # dealing with the images\n",
    "        img_name = self.name[index]\n",
    "        img = Image.open(os.path.join(self.root_dir, img_name)).convert(\"RGB\")\n",
    "\n",
    "        if self.transform is not None:\n",
    "            img = self.transform(img)\n",
    "\n",
    "        # dealing with the labels\n",
    "        labels = self.label[index]\n",
    "        where = torch.tensor(int(labels[0]), dtype=torch.int64)\n",
    "        who = torch.tensor(int(labels[1]), dtype=torch.int64)\n",
    "        recommend_place = torch.tensor(int(labels[2]), dtype=torch.int64)\n",
    "        recommend_doing = torch.tensor(int(labels[3]), dtype=torch.int64)\n",
    "        recommend_eat = torch.tensor(int(labels[4]), dtype=torch.int64)\n",
    "        etc = torch.tensor(int(labels[5]), dtype=torch.int64)\n",
    "        \n",
    "        return img, (where, who, recommend_place, recommend_doing, recommend_eat, etc)\n",
    "\n",
    "    def show(self, index):\n",
    "        x,y = self.__getitem__(index)\n",
    "        where, who, recommend_place, recommend_doing, recommend_eat, etc = y\n",
    "        stds = np.array([0.229, 0.224, 0.225])\n",
    "        means = np.array([0.485, 0.456, 0.406])\n",
    "        img = ((x.numpy().transpose((1,2,0))*stds + means)*255).astype(np.uint8)\n",
    "        plt.imshow(img)\n",
    "        plt.title(\"{} {} {} {} {} {}\".format(where.item(), who.item(), recommend_place.item(), recommend_doing.item(), recommend_eat.item(), etc.item()))"
   ]
  },
  {
   "cell_type": "code",
   "execution_count": 7,
   "metadata": {},
   "outputs": [],
   "source": [
    "transform = transforms.Compose([\n",
    "    transforms.Resize((224, 224)),\n",
    "    transforms.ToTensor(),\n",
    "    transforms.Normalize(mean=[0.485, 0.456, 0.406],\n",
    "                        std=[0.229, 0.224, 0.225])\n",
    "])"
   ]
  },
  {
   "cell_type": "code",
   "execution_count": 8,
   "metadata": {},
   "outputs": [],
   "source": [
    "device = (\"cuda\" if torch.cuda.is_available() else \"cpu\")"
   ]
  },
  {
   "cell_type": "code",
   "execution_count": 9,
   "metadata": {},
   "outputs": [],
   "source": [
    "train_dataset = MultiTaskDataset(\"frame_train/images/\", train_data, transform=transform)"
   ]
  },
  {
   "cell_type": "code",
   "execution_count": 10,
   "metadata": {},
   "outputs": [],
   "source": [
    "train_dataloader = DataLoader(train_dataset, batch_size=512, shuffle=True)"
   ]
  },
  {
   "cell_type": "code",
   "execution_count": 12,
   "metadata": {},
   "outputs": [
    {
     "data": {
      "image/png": "[encoded data removed]",
      "text/plain": [
       "<Figure size 432x288 with 1 Axes>"
      ]
     },
     "metadata": {
      "needs_background": "light"
     },
     "output_type": "display_data"
    }
   ],
   "source": [
    "train_dataset.show(10)"
   ]
  },
  {
   "cell_type": "code",
   "execution_count": null,
   "metadata": {},
   "outputs": [],
   "source": []
  },
  {
   "cell_type": "code",
   "execution_count": 9,
   "metadata": {},
   "outputs": [],
   "source": [
    "class MultiTaskResnet34(nn.Module):\n",
    "    def __init__(self, where_classnum, who_classnum, place_classnum, doing_classnum, eat_classnum, etc_classnum):\n",
    "        super(MultiTaskResnet34, self).__init__()\n",
    "        self.model_resnet = models.resnet34(pretrained=True)\n",
    "        num_ftrs = self.model_resnet.fc.in_features\n",
    "        self.model_resnet.fc = nn.Identity()\n",
    "        self.fc1 = nn.Linear(num_ftrs, where_classnum)\n",
    "        self.fc2 = nn.Linear(num_ftrs, who_classnum)\n",
    "        self.fc3 = nn.Linear(num_ftrs, place_classnum)\n",
    "        self.fc4 = nn.Linear(num_ftrs, doing_classnum)\n",
    "        self.fc5 = nn.Linear(num_ftrs, eat_classnum)\n",
    "        self.fc6 = nn.Linear(num_ftrs, etc_classnum)\n",
    "\n",
    "    def forward(self, x):\n",
    "        x = self.model_resnet(x)\n",
    "        out_where = self.fc1(x)\n",
    "        out_who = self.fc2(x)\n",
    "        out_place = self.fc3(x)\n",
    "        out_doing = self.fc4(x)\n",
    "        out_eat = self.fc5(x)\n",
    "        out_etc = self.fc6(x)\n",
    "        \n",
    "        return out_where, out_who, out_place, out_doing, out_eat, out_etc"
   ]
  },
  {
   "cell_type": "code",
   "execution_count": 10,
   "metadata": {},
   "outputs": [
    {
     "name": "stderr",
     "output_type": "stream",
     "text": [
      "Downloading: \"https://download.pytorch.org/models/resnet34-333f7ec4.pth\" to /home/minseop4898/.cache/torch/hub/checkpoints/resnet34-333f7ec4.pth\n"
     ]
    },
    {
     "data": {
      "application/vnd.jupyter.widget-view+json": {
       "model_id": "faca3140075647f69a70de212ffccd8a",
       "version_major": 2,
       "version_minor": 0
      },
      "text/plain": [
       "  0%|          | 0.00/83.3M [00:00<?, ?B/s]"
      ]
     },
     "metadata": {},
     "output_type": "display_data"
    }
   ],
   "source": [
    "model = MultiTaskResnet34(len(where_unique), len(who_unique), len(recommend_place_unique), len(recommend_doing_unique), len(recommend_eat_unique), len(etc_unique))"
   ]
  },
  {
   "cell_type": "code",
   "execution_count": 11,
   "metadata": {
    "collapsed": true,
    "jupyter": {
     "outputs_hidden": true
    }
   },
   "outputs": [
    {
     "name": "stdout",
     "output_type": "stream",
     "text": [
      "MultiTaskResnet34(\n",
      "  (model_resnet): ResNet(\n",
      "    (conv1): Conv2d(3, 64, kernel_size=(7, 7), stride=(2, 2), padding=(3, 3), bias=False)\n",
      "    (bn1): BatchNorm2d(64, eps=1e-05, momentum=0.1, affine=True, track_running_stats=True)\n",
      "    (relu): ReLU(inplace=True)\n",
      "    (maxpool): MaxPool2d(kernel_size=3, stride=2, padding=1, dilation=1, ceil_mode=False)\n",
      "    (layer1): Sequential(\n",
      "      (0): BasicBlock(\n",
      "        (conv1): Conv2d(64, 64, kernel_size=(3, 3), stride=(1, 1), padding=(1, 1), bias=False)\n",
      "        (bn1): BatchNorm2d(64, eps=1e-05, momentum=0.1, affine=True, track_running_stats=True)\n",
      "        (relu): ReLU(inplace=True)\n",
      "        (conv2): Conv2d(64, 64, kernel_size=(3, 3), stride=(1, 1), padding=(1, 1), bias=False)\n",
      "        (bn2): BatchNorm2d(64, eps=1e-05, momentum=0.1, affine=True, track_running_stats=True)\n",
      "      )\n",
      "      (1): BasicBlock(\n",
      "        (conv1): Conv2d(64, 64, kernel_size=(3, 3), stride=(1, 1), padding=(1, 1), bias=False)\n",
      "        (bn1): BatchNorm2d(64, eps=1e-05, momentum=0.1, affine=True, track_running_stats=True)\n",
      "        (relu): ReLU(inplace=True)\n",
      "        (conv2): Conv2d(64, 64, kernel_size=(3, 3), stride=(1, 1), padding=(1, 1), bias=False)\n",
      "        (bn2): BatchNorm2d(64, eps=1e-05, momentum=0.1, affine=True, track_running_stats=True)\n",
      "      )\n",
      "      (2): BasicBlock(\n",
      "        (conv1): Conv2d(64, 64, kernel_size=(3, 3), stride=(1, 1), padding=(1, 1), bias=False)\n",
      "        (bn1): BatchNorm2d(64, eps=1e-05, momentum=0.1, affine=True, track_running_stats=True)\n",
      "        (relu): ReLU(inplace=True)\n",
      "        (conv2): Conv2d(64, 64, kernel_size=(3, 3), stride=(1, 1), padding=(1, 1), bias=False)\n",
      "        (bn2): BatchNorm2d(64, eps=1e-05, momentum=0.1, affine=True, track_running_stats=True)\n",
      "      )\n",
      "    )\n",
      "    (layer2): Sequential(\n",
      "      (0): BasicBlock(\n",
      "        (conv1): Conv2d(64, 128, kernel_size=(3, 3), stride=(2, 2), padding=(1, 1), bias=False)\n",
      "        (bn1): BatchNorm2d(128, eps=1e-05, momentum=0.1, affine=True, track_running_stats=True)\n",
      "        (relu): ReLU(inplace=True)\n",
      "        (conv2): Conv2d(128, 128, kernel_size=(3, 3), stride=(1, 1), padding=(1, 1), bias=False)\n",
      "        (bn2): BatchNorm2d(128, eps=1e-05, momentum=0.1, affine=True, track_running_stats=True)\n",
      "        (downsample): Sequential(\n",
      "          (0): Conv2d(64, 128, kernel_size=(1, 1), stride=(2, 2), bias=False)\n",
      "          (1): BatchNorm2d(128, eps=1e-05, momentum=0.1, affine=True, track_running_stats=True)\n",
      "        )\n",
      "      )\n",
      "      (1): BasicBlock(\n",
      "        (conv1): Conv2d(128, 128, kernel_size=(3, 3), stride=(1, 1), padding=(1, 1), bias=False)\n",
      "        (bn1): BatchNorm2d(128, eps=1e-05, momentum=0.1, affine=True, track_running_stats=True)\n",
      "        (relu): ReLU(inplace=True)\n",
      "        (conv2): Conv2d(128, 128, kernel_size=(3, 3), stride=(1, 1), padding=(1, 1), bias=False)\n",
      "        (bn2): BatchNorm2d(128, eps=1e-05, momentum=0.1, affine=True, track_running_stats=True)\n",
      "      )\n",
      "      (2): BasicBlock(\n",
      "        (conv1): Conv2d(128, 128, kernel_size=(3, 3), stride=(1, 1), padding=(1, 1), bias=False)\n",
      "        (bn1): BatchNorm2d(128, eps=1e-05, momentum=0.1, affine=True, track_running_stats=True)\n",
      "        (relu): ReLU(inplace=True)\n",
      "        (conv2): Conv2d(128, 128, kernel_size=(3, 3), stride=(1, 1), padding=(1, 1), bias=False)\n",
      "        (bn2): BatchNorm2d(128, eps=1e-05, momentum=0.1, affine=True, track_running_stats=True)\n",
      "      )\n",
      "      (3): BasicBlock(\n",
      "        (conv1): Conv2d(128, 128, kernel_size=(3, 3), stride=(1, 1), padding=(1, 1), bias=False)\n",
      "        (bn1): BatchNorm2d(128, eps=1e-05, momentum=0.1, affine=True, track_running_stats=True)\n",
      "        (relu): ReLU(inplace=True)\n",
      "        (conv2): Conv2d(128, 128, kernel_size=(3, 3), stride=(1, 1), padding=(1, 1), bias=False)\n",
      "        (bn2): BatchNorm2d(128, eps=1e-05, momentum=0.1, affine=True, track_running_stats=True)\n",
      "      )\n",
      "    )\n",
      "    (layer3): Sequential(\n",
      "      (0): BasicBlock(\n",
      "        (conv1): Conv2d(128, 256, kernel_size=(3, 3), stride=(2, 2), padding=(1, 1), bias=False)\n",
      "        (bn1): BatchNorm2d(256, eps=1e-05, momentum=0.1, affine=True, track_running_stats=True)\n",
      "        (relu): ReLU(inplace=True)\n",
      "        (conv2): Conv2d(256, 256, kernel_size=(3, 3), stride=(1, 1), padding=(1, 1), bias=False)\n",
      "        (bn2): BatchNorm2d(256, eps=1e-05, momentum=0.1, affine=True, track_running_stats=True)\n",
      "        (downsample): Sequential(\n",
      "          (0): Conv2d(128, 256, kernel_size=(1, 1), stride=(2, 2), bias=False)\n",
      "          (1): BatchNorm2d(256, eps=1e-05, momentum=0.1, affine=True, track_running_stats=True)\n",
      "        )\n",
      "      )\n",
      "      (1): BasicBlock(\n",
      "        (conv1): Conv2d(256, 256, kernel_size=(3, 3), stride=(1, 1), padding=(1, 1), bias=False)\n",
      "        (bn1): BatchNorm2d(256, eps=1e-05, momentum=0.1, affine=True, track_running_stats=True)\n",
      "        (relu): ReLU(inplace=True)\n",
      "        (conv2): Conv2d(256, 256, kernel_size=(3, 3), stride=(1, 1), padding=(1, 1), bias=False)\n",
      "        (bn2): BatchNorm2d(256, eps=1e-05, momentum=0.1, affine=True, track_running_stats=True)\n",
      "      )\n",
      "      (2): BasicBlock(\n",
      "        (conv1): Conv2d(256, 256, kernel_size=(3, 3), stride=(1, 1), padding=(1, 1), bias=False)\n",
      "        (bn1): BatchNorm2d(256, eps=1e-05, momentum=0.1, affine=True, track_running_stats=True)\n",
      "        (relu): ReLU(inplace=True)\n",
      "        (conv2): Conv2d(256, 256, kernel_size=(3, 3), stride=(1, 1), padding=(1, 1), bias=False)\n",
      "        (bn2): BatchNorm2d(256, eps=1e-05, momentum=0.1, affine=True, track_running_stats=True)\n",
      "      )\n",
      "      (3): BasicBlock(\n",
      "        (conv1): Conv2d(256, 256, kernel_size=(3, 3), stride=(1, 1), padding=(1, 1), bias=False)\n",
      "        (bn1): BatchNorm2d(256, eps=1e-05, momentum=0.1, affine=True, track_running_stats=True)\n",
      "        (relu): ReLU(inplace=True)\n",
      "        (conv2): Conv2d(256, 256, kernel_size=(3, 3), stride=(1, 1), padding=(1, 1), bias=False)\n",
      "        (bn2): BatchNorm2d(256, eps=1e-05, momentum=0.1, affine=True, track_running_stats=True)\n",
      "      )\n",
      "      (4): BasicBlock(\n",
      "        (conv1): Conv2d(256, 256, kernel_size=(3, 3), stride=(1, 1), padding=(1, 1), bias=False)\n",
      "        (bn1): BatchNorm2d(256, eps=1e-05, momentum=0.1, affine=True, track_running_stats=True)\n",
      "        (relu): ReLU(inplace=True)\n",
      "        (conv2): Conv2d(256, 256, kernel_size=(3, 3), stride=(1, 1), padding=(1, 1), bias=False)\n",
      "        (bn2): BatchNorm2d(256, eps=1e-05, momentum=0.1, affine=True, track_running_stats=True)\n",
      "      )\n",
      "      (5): BasicBlock(\n",
      "        (conv1): Conv2d(256, 256, kernel_size=(3, 3), stride=(1, 1), padding=(1, 1), bias=False)\n",
      "        (bn1): BatchNorm2d(256, eps=1e-05, momentum=0.1, affine=True, track_running_stats=True)\n",
      "        (relu): ReLU(inplace=True)\n",
      "        (conv2): Conv2d(256, 256, kernel_size=(3, 3), stride=(1, 1), padding=(1, 1), bias=False)\n",
      "        (bn2): BatchNorm2d(256, eps=1e-05, momentum=0.1, affine=True, track_running_stats=True)\n",
      "      )\n",
      "    )\n",
      "    (layer4): Sequential(\n",
      "      (0): BasicBlock(\n",
      "        (conv1): Conv2d(256, 512, kernel_size=(3, 3), stride=(2, 2), padding=(1, 1), bias=False)\n",
      "        (bn1): BatchNorm2d(512, eps=1e-05, momentum=0.1, affine=True, track_running_stats=True)\n",
      "        (relu): ReLU(inplace=True)\n",
      "        (conv2): Conv2d(512, 512, kernel_size=(3, 3), stride=(1, 1), padding=(1, 1), bias=False)\n",
      "        (bn2): BatchNorm2d(512, eps=1e-05, momentum=0.1, affine=True, track_running_stats=True)\n",
      "        (downsample): Sequential(\n",
      "          (0): Conv2d(256, 512, kernel_size=(1, 1), stride=(2, 2), bias=False)\n",
      "          (1): BatchNorm2d(512, eps=1e-05, momentum=0.1, affine=True, track_running_stats=True)\n",
      "        )\n",
      "      )\n",
      "      (1): BasicBlock(\n",
      "        (conv1): Conv2d(512, 512, kernel_size=(3, 3), stride=(1, 1), padding=(1, 1), bias=False)\n",
      "        (bn1): BatchNorm2d(512, eps=1e-05, momentum=0.1, affine=True, track_running_stats=True)\n",
      "        (relu): ReLU(inplace=True)\n",
      "        (conv2): Conv2d(512, 512, kernel_size=(3, 3), stride=(1, 1), padding=(1, 1), bias=False)\n",
      "        (bn2): BatchNorm2d(512, eps=1e-05, momentum=0.1, affine=True, track_running_stats=True)\n",
      "      )\n",
      "      (2): BasicBlock(\n",
      "        (conv1): Conv2d(512, 512, kernel_size=(3, 3), stride=(1, 1), padding=(1, 1), bias=False)\n",
      "        (bn1): BatchNorm2d(512, eps=1e-05, momentum=0.1, affine=True, track_running_stats=True)\n",
      "        (relu): ReLU(inplace=True)\n",
      "        (conv2): Conv2d(512, 512, kernel_size=(3, 3), stride=(1, 1), padding=(1, 1), bias=False)\n",
      "        (bn2): BatchNorm2d(512, eps=1e-05, momentum=0.1, affine=True, track_running_stats=True)\n",
      "      )\n",
      "    )\n",
      "    (avgpool): AdaptiveAvgPool2d(output_size=(1, 1))\n",
      "    (fc): Identity()\n",
      "  )\n",
      "  (fc1): Linear(in_features=512, out_features=18, bias=True)\n",
      "  (fc2): Linear(in_features=512, out_features=8, bias=True)\n",
      "  (fc3): Linear(in_features=512, out_features=21, bias=True)\n",
      "  (fc4): Linear(in_features=512, out_features=7, bias=True)\n",
      "  (fc5): Linear(in_features=512, out_features=13, bias=True)\n",
      "  (fc6): Linear(in_features=512, out_features=5, bias=True)\n",
      ")\n"
     ]
    }
   ],
   "source": [
    "print(model)"
   ]
  },
  {
   "cell_type": "code",
   "execution_count": null,
   "metadata": {},
   "outputs": [],
   "source": []
  },
  {
   "cell_type": "code",
   "execution_count": null,
   "metadata": {},
   "outputs": [],
   "source": []
  },
  {
   "cell_type": "code",
   "execution_count": null,
   "metadata": {},
   "outputs": [],
   "source": []
  },
  {
   "cell_type": "code",
   "execution_count": null,
   "metadata": {},
   "outputs": [],
   "source": []
  },
  {
   "cell_type": "code",
   "execution_count": null,
   "metadata": {},
   "outputs": [],
   "source": []
  },
  {
   "cell_type": "code",
   "execution_count": null,
   "metadata": {},
   "outputs": [],
   "source": []
  },
  {
   "cell_type": "code",
   "execution_count": null,
   "metadata": {},
   "outputs": [],
   "source": []
  },
  {
   "cell_type": "code",
   "execution_count": null,
   "metadata": {},
   "outputs": [],
   "source": []
  },
  {
   "cell_type": "code",
   "execution_count": null,
   "metadata": {},
   "outputs": [],
   "source": [
    "def MultiTaskTrain(output, where, who, recommend_place, recommend_doing, recommend_eat, etc):\n",
    "    \n",
    "    criterion = nn.CrossEntropyLoss()\n",
    "    \n",
    "    # get all the losses and add them\n",
    "    loss_where = criterion(output[0], where)\n",
    "    loss_who = criterion(output[1], who)\n",
    "    loss_place = criterion(output[2], recommend_place)\n",
    "    loss_doing = criterion(output[3], recommend_doing)\n",
    "    loss_eat = criterion(output[4], recommend_eat)\n",
    "    loss_etc = criterion(output[5], etc)\n",
    "    \n",
    "    return loss_where + loss_who + loss_place + loss_doing + loss_eat + loss_etc"
   ]
  },
  {
   "cell_type": "code",
   "execution_count": null,
   "metadata": {},
   "outputs": [],
   "source": []
  },
  {
   "cell_type": "code",
   "execution_count": null,
   "metadata": {},
   "outputs": [],
   "source": []
  },
  {
   "cell_type": "code",
   "execution_count": null,
   "metadata": {},
   "outputs": [],
   "source": []
  },
  {
   "cell_type": "code",
   "execution_count": null,
   "metadata": {},
   "outputs": [],
   "source": []
  },
  {
   "cell_type": "code",
   "execution_count": null,
   "metadata": {},
   "outputs": [],
   "source": []
  },
  {
   "cell_type": "code",
   "execution_count": null,
   "metadata": {},
   "outputs": [],
   "source": []
  },
  {
   "cell_type": "code",
   "execution_count": null,
   "metadata": {},
   "outputs": [],
   "source": []
  },
  {
   "cell_type": "code",
   "execution_count": null,
   "metadata": {},
   "outputs": [],
   "source": []
  },
  {
   "cell_type": "code",
   "execution_count": null,
   "metadata": {},
   "outputs": [],
   "source": []
  },
  {
   "cell_type": "code",
   "execution_count": null,
   "metadata": {},
   "outputs": [],
   "source": []
  }
 ],
 "metadata": {
  "kernelspec": {
   "display_name": "Python 3",
   "language": "python",
   "name": "python3"
  },
  "language_info": {
   "codemirror_mode": {
    "name": "ipython",
    "version": 3
   },
   "file_extension": ".py",
   "mimetype": "text/x-python",
   "name": "python",
   "nbconvert_exporter": "python",
   "pygments_lexer": "ipython3",
   "version": "3.7.9"
  }
 },
 "nbformat": 4,
 "nbformat_minor": 4
}
